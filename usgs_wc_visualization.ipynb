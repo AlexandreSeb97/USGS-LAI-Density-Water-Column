{
 "cells": [
  {
   "cell_type": "markdown",
   "metadata": {},
   "source": [
    "# Figures from Water Column Model Runs"
   ]
  },
  {
   "cell_type": "code",
   "execution_count": 1,
   "metadata": {},
   "outputs": [],
   "source": [
    "#from IPython.core.interactiveshell import InteractiveShell\n",
    "#InteractiveShell.ast_node_interactivity = 'all'\n",
    "\n",
    "# Data Science and Visualization Imports\n",
    "import numpy as np\n",
    "import pandas as pd\n",
    "import xarray as xr\n",
    "import seaborn as sns\n",
    "import geopandas as gpd\n",
    "import plotly.express as px\n",
    "import matplotlib.pyplot as plt\n",
    "import plotly.graph_objects as go\n",
    "from plotly.subplots import make_subplots\n",
    "\n",
    "from pyproj import Proj"
   ]
  },
  {
   "cell_type": "markdown",
   "metadata": {},
   "source": [
    "### Data Imports"
   ]
  },
  {
   "cell_type": "code",
   "execution_count": 2,
   "metadata": {},
   "outputs": [],
   "source": [
    "wc_results_path = 'results_data/wc_runs_all.nc'\n",
    "baseline_path = 'results_data/baseline_wc_full.nc'\n",
    "input_data_path = 'results_data/usgs_data_full.csv'\n",
    "locs_path = 'results_data/locs_data.csv'\n",
    "wc_ds = xr.open_dataset(wc_results_path)\n",
    "base_wc_ds = xr.open_dataset(baseline_path)\n",
    "df = pd.read_csv(input_data_path)\n",
    "locs = pd.read_csv(locs_path)"
   ]
  },
  {
   "cell_type": "code",
   "execution_count": 3,
   "metadata": {},
   "outputs": [
    {
     "data": {
      "text/html": [
       "<div><svg style=\"position: absolute; width: 0; height: 0; overflow: hidden\">\n",
       "<defs>\n",
       "<symbol id=\"icon-database\" viewBox=\"0 0 32 32\">\n",
       "<path d=\"M16 0c-8.837 0-16 2.239-16 5v4c0 2.761 7.163 5 16 5s16-2.239 16-5v-4c0-2.761-7.163-5-16-5z\"></path>\n",
       "<path d=\"M16 17c-8.837 0-16-2.239-16-5v6c0 2.761 7.163 5 16 5s16-2.239 16-5v-6c0 2.761-7.163 5-16 5z\"></path>\n",
       "<path d=\"M16 26c-8.837 0-16-2.239-16-5v6c0 2.761 7.163 5 16 5s16-2.239 16-5v-6c0 2.761-7.163 5-16 5z\"></path>\n",
       "</symbol>\n",
       "<symbol id=\"icon-file-text2\" viewBox=\"0 0 32 32\">\n",
       "<path d=\"M28.681 7.159c-0.694-0.947-1.662-2.053-2.724-3.116s-2.169-2.030-3.116-2.724c-1.612-1.182-2.393-1.319-2.841-1.319h-15.5c-1.378 0-2.5 1.121-2.5 2.5v27c0 1.378 1.122 2.5 2.5 2.5h23c1.378 0 2.5-1.122 2.5-2.5v-19.5c0-0.448-0.137-1.23-1.319-2.841zM24.543 5.457c0.959 0.959 1.712 1.825 2.268 2.543h-4.811v-4.811c0.718 0.556 1.584 1.309 2.543 2.268zM28 29.5c0 0.271-0.229 0.5-0.5 0.5h-23c-0.271 0-0.5-0.229-0.5-0.5v-27c0-0.271 0.229-0.5 0.5-0.5 0 0 15.499-0 15.5 0v7c0 0.552 0.448 1 1 1h7v19.5z\"></path>\n",
       "<path d=\"M23 26h-14c-0.552 0-1-0.448-1-1s0.448-1 1-1h14c0.552 0 1 0.448 1 1s-0.448 1-1 1z\"></path>\n",
       "<path d=\"M23 22h-14c-0.552 0-1-0.448-1-1s0.448-1 1-1h14c0.552 0 1 0.448 1 1s-0.448 1-1 1z\"></path>\n",
       "<path d=\"M23 18h-14c-0.552 0-1-0.448-1-1s0.448-1 1-1h14c0.552 0 1 0.448 1 1s-0.448 1-1 1z\"></path>\n",
       "</symbol>\n",
       "</defs>\n",
       "</svg>\n",
       "<style>/* CSS stylesheet for displaying xarray objects in jupyterlab.\n",
       " *\n",
       " */\n",
       "\n",
       ":root {\n",
       "  --xr-font-color0: var(--jp-content-font-color0, rgba(0, 0, 0, 1));\n",
       "  --xr-font-color2: var(--jp-content-font-color2, rgba(0, 0, 0, 0.54));\n",
       "  --xr-font-color3: var(--jp-content-font-color3, rgba(0, 0, 0, 0.38));\n",
       "  --xr-border-color: var(--jp-border-color2, #e0e0e0);\n",
       "  --xr-disabled-color: var(--jp-layout-color3, #bdbdbd);\n",
       "  --xr-background-color: var(--jp-layout-color0, white);\n",
       "  --xr-background-color-row-even: var(--jp-layout-color1, white);\n",
       "  --xr-background-color-row-odd: var(--jp-layout-color2, #eeeeee);\n",
       "}\n",
       "\n",
       "html[theme=dark],\n",
       "body.vscode-dark {\n",
       "  --xr-font-color0: rgba(255, 255, 255, 1);\n",
       "  --xr-font-color2: rgba(255, 255, 255, 0.54);\n",
       "  --xr-font-color3: rgba(255, 255, 255, 0.38);\n",
       "  --xr-border-color: #1F1F1F;\n",
       "  --xr-disabled-color: #515151;\n",
       "  --xr-background-color: #111111;\n",
       "  --xr-background-color-row-even: #111111;\n",
       "  --xr-background-color-row-odd: #313131;\n",
       "}\n",
       "\n",
       ".xr-wrap {\n",
       "  display: block;\n",
       "  min-width: 300px;\n",
       "  max-width: 700px;\n",
       "}\n",
       "\n",
       ".xr-text-repr-fallback {\n",
       "  /* fallback to plain text repr when CSS is not injected (untrusted notebook) */\n",
       "  display: none;\n",
       "}\n",
       "\n",
       ".xr-header {\n",
       "  padding-top: 6px;\n",
       "  padding-bottom: 6px;\n",
       "  margin-bottom: 4px;\n",
       "  border-bottom: solid 1px var(--xr-border-color);\n",
       "}\n",
       "\n",
       ".xr-header > div,\n",
       ".xr-header > ul {\n",
       "  display: inline;\n",
       "  margin-top: 0;\n",
       "  margin-bottom: 0;\n",
       "}\n",
       "\n",
       ".xr-obj-type,\n",
       ".xr-array-name {\n",
       "  margin-left: 2px;\n",
       "  margin-right: 10px;\n",
       "}\n",
       "\n",
       ".xr-obj-type {\n",
       "  color: var(--xr-font-color2);\n",
       "}\n",
       "\n",
       ".xr-sections {\n",
       "  padding-left: 0 !important;\n",
       "  display: grid;\n",
       "  grid-template-columns: 150px auto auto 1fr 20px 20px;\n",
       "}\n",
       "\n",
       ".xr-section-item {\n",
       "  display: contents;\n",
       "}\n",
       "\n",
       ".xr-section-item input {\n",
       "  display: none;\n",
       "}\n",
       "\n",
       ".xr-section-item input + label {\n",
       "  color: var(--xr-disabled-color);\n",
       "}\n",
       "\n",
       ".xr-section-item input:enabled + label {\n",
       "  cursor: pointer;\n",
       "  color: var(--xr-font-color2);\n",
       "}\n",
       "\n",
       ".xr-section-item input:enabled + label:hover {\n",
       "  color: var(--xr-font-color0);\n",
       "}\n",
       "\n",
       ".xr-section-summary {\n",
       "  grid-column: 1;\n",
       "  color: var(--xr-font-color2);\n",
       "  font-weight: 500;\n",
       "}\n",
       "\n",
       ".xr-section-summary > span {\n",
       "  display: inline-block;\n",
       "  padding-left: 0.5em;\n",
       "}\n",
       "\n",
       ".xr-section-summary-in:disabled + label {\n",
       "  color: var(--xr-font-color2);\n",
       "}\n",
       "\n",
       ".xr-section-summary-in + label:before {\n",
       "  display: inline-block;\n",
       "  content: '►';\n",
       "  font-size: 11px;\n",
       "  width: 15px;\n",
       "  text-align: center;\n",
       "}\n",
       "\n",
       ".xr-section-summary-in:disabled + label:before {\n",
       "  color: var(--xr-disabled-color);\n",
       "}\n",
       "\n",
       ".xr-section-summary-in:checked + label:before {\n",
       "  content: '▼';\n",
       "}\n",
       "\n",
       ".xr-section-summary-in:checked + label > span {\n",
       "  display: none;\n",
       "}\n",
       "\n",
       ".xr-section-summary,\n",
       ".xr-section-inline-details {\n",
       "  padding-top: 4px;\n",
       "  padding-bottom: 4px;\n",
       "}\n",
       "\n",
       ".xr-section-inline-details {\n",
       "  grid-column: 2 / -1;\n",
       "}\n",
       "\n",
       ".xr-section-details {\n",
       "  display: none;\n",
       "  grid-column: 1 / -1;\n",
       "  margin-bottom: 5px;\n",
       "}\n",
       "\n",
       ".xr-section-summary-in:checked ~ .xr-section-details {\n",
       "  display: contents;\n",
       "}\n",
       "\n",
       ".xr-array-wrap {\n",
       "  grid-column: 1 / -1;\n",
       "  display: grid;\n",
       "  grid-template-columns: 20px auto;\n",
       "}\n",
       "\n",
       ".xr-array-wrap > label {\n",
       "  grid-column: 1;\n",
       "  vertical-align: top;\n",
       "}\n",
       "\n",
       ".xr-preview {\n",
       "  color: var(--xr-font-color3);\n",
       "}\n",
       "\n",
       ".xr-array-preview,\n",
       ".xr-array-data {\n",
       "  padding: 0 5px !important;\n",
       "  grid-column: 2;\n",
       "}\n",
       "\n",
       ".xr-array-data,\n",
       ".xr-array-in:checked ~ .xr-array-preview {\n",
       "  display: none;\n",
       "}\n",
       "\n",
       ".xr-array-in:checked ~ .xr-array-data,\n",
       ".xr-array-preview {\n",
       "  display: inline-block;\n",
       "}\n",
       "\n",
       ".xr-dim-list {\n",
       "  display: inline-block !important;\n",
       "  list-style: none;\n",
       "  padding: 0 !important;\n",
       "  margin: 0;\n",
       "}\n",
       "\n",
       ".xr-dim-list li {\n",
       "  display: inline-block;\n",
       "  padding: 0;\n",
       "  margin: 0;\n",
       "}\n",
       "\n",
       ".xr-dim-list:before {\n",
       "  content: '(';\n",
       "}\n",
       "\n",
       ".xr-dim-list:after {\n",
       "  content: ')';\n",
       "}\n",
       "\n",
       ".xr-dim-list li:not(:last-child):after {\n",
       "  content: ',';\n",
       "  padding-right: 5px;\n",
       "}\n",
       "\n",
       ".xr-has-index {\n",
       "  font-weight: bold;\n",
       "}\n",
       "\n",
       ".xr-var-list,\n",
       ".xr-var-item {\n",
       "  display: contents;\n",
       "}\n",
       "\n",
       ".xr-var-item > div,\n",
       ".xr-var-item label,\n",
       ".xr-var-item > .xr-var-name span {\n",
       "  background-color: var(--xr-background-color-row-even);\n",
       "  margin-bottom: 0;\n",
       "}\n",
       "\n",
       ".xr-var-item > .xr-var-name:hover span {\n",
       "  padding-right: 5px;\n",
       "}\n",
       "\n",
       ".xr-var-list > li:nth-child(odd) > div,\n",
       ".xr-var-list > li:nth-child(odd) > label,\n",
       ".xr-var-list > li:nth-child(odd) > .xr-var-name span {\n",
       "  background-color: var(--xr-background-color-row-odd);\n",
       "}\n",
       "\n",
       ".xr-var-name {\n",
       "  grid-column: 1;\n",
       "}\n",
       "\n",
       ".xr-var-dims {\n",
       "  grid-column: 2;\n",
       "}\n",
       "\n",
       ".xr-var-dtype {\n",
       "  grid-column: 3;\n",
       "  text-align: right;\n",
       "  color: var(--xr-font-color2);\n",
       "}\n",
       "\n",
       ".xr-var-preview {\n",
       "  grid-column: 4;\n",
       "}\n",
       "\n",
       ".xr-var-name,\n",
       ".xr-var-dims,\n",
       ".xr-var-dtype,\n",
       ".xr-preview,\n",
       ".xr-attrs dt {\n",
       "  white-space: nowrap;\n",
       "  overflow: hidden;\n",
       "  text-overflow: ellipsis;\n",
       "  padding-right: 10px;\n",
       "}\n",
       "\n",
       ".xr-var-name:hover,\n",
       ".xr-var-dims:hover,\n",
       ".xr-var-dtype:hover,\n",
       ".xr-attrs dt:hover {\n",
       "  overflow: visible;\n",
       "  width: auto;\n",
       "  z-index: 1;\n",
       "}\n",
       "\n",
       ".xr-var-attrs,\n",
       ".xr-var-data {\n",
       "  display: none;\n",
       "  background-color: var(--xr-background-color) !important;\n",
       "  padding-bottom: 5px !important;\n",
       "}\n",
       "\n",
       ".xr-var-attrs-in:checked ~ .xr-var-attrs,\n",
       ".xr-var-data-in:checked ~ .xr-var-data {\n",
       "  display: block;\n",
       "}\n",
       "\n",
       ".xr-var-data > table {\n",
       "  float: right;\n",
       "}\n",
       "\n",
       ".xr-var-name span,\n",
       ".xr-var-data,\n",
       ".xr-attrs {\n",
       "  padding-left: 25px !important;\n",
       "}\n",
       "\n",
       ".xr-attrs,\n",
       ".xr-var-attrs,\n",
       ".xr-var-data {\n",
       "  grid-column: 1 / -1;\n",
       "}\n",
       "\n",
       "dl.xr-attrs {\n",
       "  padding: 0;\n",
       "  margin: 0;\n",
       "  display: grid;\n",
       "  grid-template-columns: 125px auto;\n",
       "}\n",
       "\n",
       ".xr-attrs dt,\n",
       ".xr-attrs dd {\n",
       "  padding: 0;\n",
       "  margin: 0;\n",
       "  float: left;\n",
       "  padding-right: 10px;\n",
       "  width: auto;\n",
       "}\n",
       "\n",
       ".xr-attrs dt {\n",
       "  font-weight: normal;\n",
       "  grid-column: 1;\n",
       "}\n",
       "\n",
       ".xr-attrs dt:hover span {\n",
       "  display: inline-block;\n",
       "  background: var(--xr-background-color);\n",
       "  padding-right: 10px;\n",
       "}\n",
       "\n",
       ".xr-attrs dd {\n",
       "  grid-column: 2;\n",
       "  white-space: pre-wrap;\n",
       "  word-break: break-all;\n",
       "}\n",
       "\n",
       ".xr-icon-database,\n",
       ".xr-icon-file-text2 {\n",
       "  display: inline-block;\n",
       "  vertical-align: middle;\n",
       "  width: 1em;\n",
       "  height: 1.5em !important;\n",
       "  stroke-width: 0;\n",
       "  stroke: currentColor;\n",
       "  fill: currentColor;\n",
       "}\n",
       "</style><pre class='xr-text-repr-fallback'>&lt;xarray.Dataset&gt;\n",
       "Dimensions:     (Model Runs: 114, index: 80)\n",
       "Coordinates:\n",
       "  * index       (index) int32 0 1 2 3 4 5 6 7 8 9 ... 71 72 73 74 75 76 77 78 79\n",
       "Dimensions without coordinates: Model Runs\n",
       "Data variables:\n",
       "    U Velocity  (Model Runs, index) float64 9.077 9.963 10.45 ... 13.98 13.99\n",
       "    Q           (Model Runs, index) float64 0.9727 0.5926 ... 0.1385 0.1047\n",
       "    Q2          (Model Runs, index) float64 0.9461 0.3511 ... 0.01918 0.01096\n",
       "    Q2L         (Model Runs, index) float64 0.1249 0.1163 ... 0.04335 0.01165\n",
       "    Z           (Model Runs, index) float64 -67.17 -66.32 ... -1.351 -0.4503\n",
       "    Kq          (Model Runs, index) float64 0.02568 0.03927 ... 0.0626 0.02224\n",
       "    nu_t        (Model Runs, index) float64 0.05033 0.07697 ... 0.1227 0.0436\n",
       "Attributes:\n",
       "    description:  Model run results for Bay-side sites.</pre><div class='xr-wrap' hidden><div class='xr-header'><div class='xr-obj-type'>xarray.Dataset</div></div><ul class='xr-sections'><li class='xr-section-item'><input id='section-6b1f883d-e21b-428b-b4dd-f1e53ceed787' class='xr-section-summary-in' type='checkbox' disabled ><label for='section-6b1f883d-e21b-428b-b4dd-f1e53ceed787' class='xr-section-summary'  title='Expand/collapse section'>Dimensions:</label><div class='xr-section-inline-details'><ul class='xr-dim-list'><li><span>Model Runs</span>: 114</li><li><span class='xr-has-index'>index</span>: 80</li></ul></div><div class='xr-section-details'></div></li><li class='xr-section-item'><input id='section-19acf8cf-8587-4a09-ab42-a8d607c610f5' class='xr-section-summary-in' type='checkbox'  checked><label for='section-19acf8cf-8587-4a09-ab42-a8d607c610f5' class='xr-section-summary' >Coordinates: <span>(1)</span></label><div class='xr-section-inline-details'></div><div class='xr-section-details'><ul class='xr-var-list'><li class='xr-var-item'><div class='xr-var-name'><span class='xr-has-index'>index</span></div><div class='xr-var-dims'>(index)</div><div class='xr-var-dtype'>int32</div><div class='xr-var-preview xr-preview'>0 1 2 3 4 5 6 ... 74 75 76 77 78 79</div><input id='attrs-bbde930c-7150-4c52-a484-81f33ee3b45b' class='xr-var-attrs-in' type='checkbox' disabled><label for='attrs-bbde930c-7150-4c52-a484-81f33ee3b45b' title='Show/Hide attributes'><svg class='icon xr-icon-file-text2'><use xlink:href='#icon-file-text2'></use></svg></label><input id='data-1b8871ea-8152-4af2-acaa-6203c40d1f91' class='xr-var-data-in' type='checkbox'><label for='data-1b8871ea-8152-4af2-acaa-6203c40d1f91' title='Show/Hide data repr'><svg class='icon xr-icon-database'><use xlink:href='#icon-database'></use></svg></label><div class='xr-var-attrs'><dl class='xr-attrs'></dl></div><div class='xr-var-data'><pre>array([ 0,  1,  2,  3,  4,  5,  6,  7,  8,  9, 10, 11, 12, 13, 14, 15, 16, 17,\n",
       "       18, 19, 20, 21, 22, 23, 24, 25, 26, 27, 28, 29, 30, 31, 32, 33, 34, 35,\n",
       "       36, 37, 38, 39, 40, 41, 42, 43, 44, 45, 46, 47, 48, 49, 50, 51, 52, 53,\n",
       "       54, 55, 56, 57, 58, 59, 60, 61, 62, 63, 64, 65, 66, 67, 68, 69, 70, 71,\n",
       "       72, 73, 74, 75, 76, 77, 78, 79])</pre></div></li></ul></div></li><li class='xr-section-item'><input id='section-65e76b62-4add-4ffd-8159-bfcd02951441' class='xr-section-summary-in' type='checkbox'  checked><label for='section-65e76b62-4add-4ffd-8159-bfcd02951441' class='xr-section-summary' >Data variables: <span>(7)</span></label><div class='xr-section-inline-details'></div><div class='xr-section-details'><ul class='xr-var-list'><li class='xr-var-item'><div class='xr-var-name'><span>U Velocity</span></div><div class='xr-var-dims'>(Model Runs, index)</div><div class='xr-var-dtype'>float64</div><div class='xr-var-preview xr-preview'>...</div><input id='attrs-f8999cf9-ca29-4864-b0a0-657fb7ab18ea' class='xr-var-attrs-in' type='checkbox' disabled><label for='attrs-f8999cf9-ca29-4864-b0a0-657fb7ab18ea' title='Show/Hide attributes'><svg class='icon xr-icon-file-text2'><use xlink:href='#icon-file-text2'></use></svg></label><input id='data-2e09c5d9-09e8-408d-b6d0-1e978c56ad39' class='xr-var-data-in' type='checkbox'><label for='data-2e09c5d9-09e8-408d-b6d0-1e978c56ad39' title='Show/Hide data repr'><svg class='icon xr-icon-database'><use xlink:href='#icon-database'></use></svg></label><div class='xr-var-attrs'><dl class='xr-attrs'></dl></div><div class='xr-var-data'><pre>array([[ 9.076938,  9.962892, 10.447551, ..., 13.528046, 13.538049, 13.547498],\n",
       "       [ 7.489791,  8.229506,  8.638526, ..., 11.248467, 11.256944, 11.264953],\n",
       "       [ 8.295316,  9.105108,  9.548214, ..., 12.364908, 12.374055, 12.382695],\n",
       "       ...,\n",
       "       [ 9.259397, 10.163131, 10.657492, ..., 13.799586, 13.809789, 13.819427],\n",
       "       [ 9.339127, 10.250631, 10.749232, ..., 13.918245, 13.928535, 13.938255],\n",
       "       [ 9.373182, 10.288006, 10.788418, ..., 13.968929, 13.979256, 13.989012]])</pre></div></li><li class='xr-var-item'><div class='xr-var-name'><span>Q</span></div><div class='xr-var-dims'>(Model Runs, index)</div><div class='xr-var-dtype'>float64</div><div class='xr-var-preview xr-preview'>...</div><input id='attrs-ef2c811a-6eb7-4102-a009-6e34cfd1648e' class='xr-var-attrs-in' type='checkbox' disabled><label for='attrs-ef2c811a-6eb7-4102-a009-6e34cfd1648e' title='Show/Hide attributes'><svg class='icon xr-icon-file-text2'><use xlink:href='#icon-file-text2'></use></svg></label><input id='data-f954fe49-5a20-4b18-84f7-4c00be66baa1' class='xr-var-data-in' type='checkbox'><label for='data-f954fe49-5a20-4b18-84f7-4c00be66baa1' title='Show/Hide data repr'><svg class='icon xr-icon-database'><use xlink:href='#icon-database'></use></svg></label><div class='xr-var-attrs'><dl class='xr-attrs'></dl></div><div class='xr-var-data'><pre>array([[0.972682, 0.59257 , 0.571105, ..., 0.152552, 0.134137, 0.10142 ],\n",
       "       [0.802782, 0.499423, 0.4833  , ..., 0.129291, 0.113685, 0.085955],\n",
       "       [0.888925, 0.541784, 0.522184, ..., 0.139488, 0.122651, 0.092735],\n",
       "       ...,\n",
       "       [0.992233, 0.604429, 0.582528, ..., 0.155602, 0.13682 , 0.103448],\n",
       "       [1.000777, 0.609611, 0.58752 , ..., 0.156935, 0.137992, 0.104334],\n",
       "       [1.004426, 0.611825, 0.589652, ..., 0.157505, 0.138492, 0.104713]])</pre></div></li><li class='xr-var-item'><div class='xr-var-name'><span>Q2</span></div><div class='xr-var-dims'>(Model Runs, index)</div><div class='xr-var-dtype'>float64</div><div class='xr-var-preview xr-preview'>...</div><input id='attrs-ee43dcab-7d9b-4814-94f8-b3c738817ad6' class='xr-var-attrs-in' type='checkbox' disabled><label for='attrs-ee43dcab-7d9b-4814-94f8-b3c738817ad6' title='Show/Hide attributes'><svg class='icon xr-icon-file-text2'><use xlink:href='#icon-file-text2'></use></svg></label><input id='data-2635175f-98af-4bdc-9a6a-03f325703c78' class='xr-var-data-in' type='checkbox'><label for='data-2635175f-98af-4bdc-9a6a-03f325703c78' title='Show/Hide data repr'><svg class='icon xr-icon-database'><use xlink:href='#icon-database'></use></svg></label><div class='xr-var-attrs'><dl class='xr-attrs'></dl></div><div class='xr-var-data'><pre>array([[0.946109, 0.35114 , 0.32616 , ..., 0.023272, 0.017993, 0.010286],\n",
       "       [0.644459, 0.249424, 0.233579, ..., 0.016716, 0.012924, 0.007388],\n",
       "       [0.790188, 0.29353 , 0.272676, ..., 0.019457, 0.015043, 0.0086  ],\n",
       "       ...,\n",
       "       [0.984527, 0.365334, 0.339338, ..., 0.024212, 0.01872 , 0.010701],\n",
       "       [1.001554, 0.371626, 0.345179, ..., 0.024629, 0.019042, 0.010886],\n",
       "       [1.008872, 0.374329, 0.347689, ..., 0.024808, 0.01918 , 0.010965]])</pre></div></li><li class='xr-var-item'><div class='xr-var-name'><span>Q2L</span></div><div class='xr-var-dims'>(Model Runs, index)</div><div class='xr-var-dtype'>float64</div><div class='xr-var-preview xr-preview'>...</div><input id='attrs-d7770b4a-c1fc-448b-b5e8-ae90dbb4ddf4' class='xr-var-attrs-in' type='checkbox' disabled><label for='attrs-d7770b4a-c1fc-448b-b5e8-ae90dbb4ddf4' title='Show/Hide attributes'><svg class='icon xr-icon-file-text2'><use xlink:href='#icon-file-text2'></use></svg></label><input id='data-95612f71-bf8c-4c02-abc9-1984692f14fa' class='xr-var-data-in' type='checkbox'><label for='data-95612f71-bf8c-4c02-abc9-1984692f14fa' title='Show/Hide data repr'><svg class='icon xr-icon-database'><use xlink:href='#icon-database'></use></svg></label><div class='xr-var-attrs'><dl class='xr-attrs'></dl></div><div class='xr-var-data'><pre>array([[0.124879, 0.11635 , 0.222591, ..., 0.067701, 0.038147, 0.010249],\n",
       "       [0.061515, 0.060127, 0.114993, ..., 0.034931, 0.019682, 0.005288],\n",
       "       [0.087292, 0.081344, 0.155595, ..., 0.047324, 0.026665, 0.007164],\n",
       "       ...,\n",
       "       [0.135171, 0.125934, 0.240935, ..., 0.073281, 0.041291, 0.011094],\n",
       "       [0.139863, 0.130303, 0.249298, ..., 0.075824, 0.042724, 0.011479],\n",
       "       [0.141904, 0.132204, 0.252936, ..., 0.076931, 0.043348, 0.011646]])</pre></div></li><li class='xr-var-item'><div class='xr-var-name'><span>Z</span></div><div class='xr-var-dims'>(Model Runs, index)</div><div class='xr-var-dtype'>float64</div><div class='xr-var-preview xr-preview'>...</div><input id='attrs-c7a9bf44-98c0-4a20-8aee-a7cb7160a0e5' class='xr-var-attrs-in' type='checkbox' disabled><label for='attrs-c7a9bf44-98c0-4a20-8aee-a7cb7160a0e5' title='Show/Hide attributes'><svg class='icon xr-icon-file-text2'><use xlink:href='#icon-file-text2'></use></svg></label><input id='data-c2f754ec-7719-48cb-b013-21fbee7ab82e' class='xr-var-data-in' type='checkbox'><label for='data-c2f754ec-7719-48cb-b013-21fbee7ab82e' title='Show/Hide data repr'><svg class='icon xr-icon-database'><use xlink:href='#icon-database'></use></svg></label><div class='xr-var-attrs'><dl class='xr-attrs'></dl></div><div class='xr-var-data'><pre>array([[-67.167562, -66.322687, -65.477812, ...,  -2.112188,  -1.267313,\n",
       "         -0.422438],\n",
       "       [-48.246563, -47.639688, -47.032813, ...,  -1.517187,  -0.910313,\n",
       "         -0.303438],\n",
       "       [-56.156812, -55.450437, -54.744062, ...,  -1.765937,  -1.059562,\n",
       "         -0.353187],\n",
       "       ...,\n",
       "       [-69.8805  , -69.0015  , -68.1225  , ...,  -2.1975  ,  -1.3185  ,\n",
       "         -0.4395  ],\n",
       "       [-71.082937, -70.188812, -69.294687, ...,  -2.235312,  -1.341187,\n",
       "         -0.447063],\n",
       "       [-71.599688, -70.699062, -69.798437, ...,  -2.251562,  -1.350938,\n",
       "         -0.450312]])</pre></div></li><li class='xr-var-item'><div class='xr-var-name'><span>Kq</span></div><div class='xr-var-dims'>(Model Runs, index)</div><div class='xr-var-dtype'>float64</div><div class='xr-var-preview xr-preview'>...</div><input id='attrs-504555f2-6c46-4ef4-8523-535b5720182b' class='xr-var-attrs-in' type='checkbox' disabled><label for='attrs-504555f2-6c46-4ef4-8523-535b5720182b' title='Show/Hide attributes'><svg class='icon xr-icon-file-text2'><use xlink:href='#icon-file-text2'></use></svg></label><input id='data-0fe97a27-173d-4af3-82a9-c65415ab40e1' class='xr-var-data-in' type='checkbox'><label for='data-0fe97a27-173d-4af3-82a9-c65415ab40e1' title='Show/Hide data repr'><svg class='icon xr-icon-database'><use xlink:href='#icon-database'></use></svg></label><div class='xr-var-attrs'><dl class='xr-attrs'></dl></div><div class='xr-var-data'><pre>array([[0.025678, 0.03927 , 0.077952, ..., 0.088756, 0.056876, 0.02021 ],\n",
       "       [0.016057, 0.024079, 0.047587, ..., 0.054032, 0.034625, 0.012304],\n",
       "       [0.019641, 0.030029, 0.059595, ..., 0.067851, 0.04348 , 0.01545 ],\n",
       "       ...,\n",
       "       [0.027247, 0.041671, 0.082721, ..., 0.094187, 0.060356, 0.021447],\n",
       "       [0.027952, 0.04275 , 0.084865, ..., 0.096629, 0.061921, 0.022003],\n",
       "       [0.028257, 0.043217, 0.085792, ..., 0.097684, 0.062597, 0.022243]])</pre></div></li><li class='xr-var-item'><div class='xr-var-name'><span>nu_t</span></div><div class='xr-var-dims'>(Model Runs, index)</div><div class='xr-var-dtype'>float64</div><div class='xr-var-preview xr-preview'>...</div><input id='attrs-1bfc51e6-0e71-44b5-8aa2-813f2c3b66c1' class='xr-var-attrs-in' type='checkbox' disabled><label for='attrs-1bfc51e6-0e71-44b5-8aa2-813f2c3b66c1' title='Show/Hide attributes'><svg class='icon xr-icon-file-text2'><use xlink:href='#icon-file-text2'></use></svg></label><input id='data-14cc3194-f138-444a-8eea-d91231e5aeec' class='xr-var-data-in' type='checkbox'><label for='data-14cc3194-f138-444a-8eea-d91231e5aeec' title='Show/Hide data repr'><svg class='icon xr-icon-database'><use xlink:href='#icon-database'></use></svg></label><div class='xr-var-attrs'><dl class='xr-attrs'></dl></div><div class='xr-var-data'><pre>array([[0.05033 , 0.076971, 0.152789, ..., 0.173965, 0.111478, 0.039612],\n",
       "       [0.031471, 0.047196, 0.093272, ..., 0.105905, 0.067865, 0.024115],\n",
       "       [0.038496, 0.058858, 0.116808, ..., 0.132991, 0.085222, 0.030282],\n",
       "       ...,\n",
       "       [0.053404, 0.081677, 0.162137, ..., 0.18461 , 0.1183  , 0.042036],\n",
       "       [0.054786, 0.083792, 0.166339, ..., 0.189396, 0.121366, 0.043126],\n",
       "       [0.055384, 0.084707, 0.168156, ..., 0.191465, 0.122692, 0.043597]])</pre></div></li></ul></div></li><li class='xr-section-item'><input id='section-d4e95121-19fc-4aa6-adfe-e699d8ff5ef5' class='xr-section-summary-in' type='checkbox'  checked><label for='section-d4e95121-19fc-4aa6-adfe-e699d8ff5ef5' class='xr-section-summary' >Attributes: <span>(1)</span></label><div class='xr-section-inline-details'></div><div class='xr-section-details'><dl class='xr-attrs'><dt><span>description :</span></dt><dd>Model run results for Bay-side sites.</dd></dl></div></li></ul></div></div>"
      ],
      "text/plain": [
       "<xarray.Dataset>\n",
       "Dimensions:     (Model Runs: 114, index: 80)\n",
       "Coordinates:\n",
       "  * index       (index) int32 0 1 2 3 4 5 6 7 8 9 ... 71 72 73 74 75 76 77 78 79\n",
       "Dimensions without coordinates: Model Runs\n",
       "Data variables:\n",
       "    U Velocity  (Model Runs, index) float64 ...\n",
       "    Q           (Model Runs, index) float64 ...\n",
       "    Q2          (Model Runs, index) float64 ...\n",
       "    Q2L         (Model Runs, index) float64 ...\n",
       "    Z           (Model Runs, index) float64 ...\n",
       "    Kq          (Model Runs, index) float64 ...\n",
       "    nu_t        (Model Runs, index) float64 ...\n",
       "Attributes:\n",
       "    description:  Model run results for Bay-side sites."
      ]
     },
     "execution_count": 3,
     "metadata": {},
     "output_type": "execute_result"
    }
   ],
   "source": [
    "base_wc_ds"
   ]
  },
  {
   "cell_type": "code",
   "execution_count": 4,
   "metadata": {},
   "outputs": [
    {
     "data": {
      "text/html": [
       "<div><svg style=\"position: absolute; width: 0; height: 0; overflow: hidden\">\n",
       "<defs>\n",
       "<symbol id=\"icon-database\" viewBox=\"0 0 32 32\">\n",
       "<path d=\"M16 0c-8.837 0-16 2.239-16 5v4c0 2.761 7.163 5 16 5s16-2.239 16-5v-4c0-2.761-7.163-5-16-5z\"></path>\n",
       "<path d=\"M16 17c-8.837 0-16-2.239-16-5v6c0 2.761 7.163 5 16 5s16-2.239 16-5v-6c0 2.761-7.163 5-16 5z\"></path>\n",
       "<path d=\"M16 26c-8.837 0-16-2.239-16-5v6c0 2.761 7.163 5 16 5s16-2.239 16-5v-6c0 2.761-7.163 5-16 5z\"></path>\n",
       "</symbol>\n",
       "<symbol id=\"icon-file-text2\" viewBox=\"0 0 32 32\">\n",
       "<path d=\"M28.681 7.159c-0.694-0.947-1.662-2.053-2.724-3.116s-2.169-2.030-3.116-2.724c-1.612-1.182-2.393-1.319-2.841-1.319h-15.5c-1.378 0-2.5 1.121-2.5 2.5v27c0 1.378 1.122 2.5 2.5 2.5h23c1.378 0 2.5-1.122 2.5-2.5v-19.5c0-0.448-0.137-1.23-1.319-2.841zM24.543 5.457c0.959 0.959 1.712 1.825 2.268 2.543h-4.811v-4.811c0.718 0.556 1.584 1.309 2.543 2.268zM28 29.5c0 0.271-0.229 0.5-0.5 0.5h-23c-0.271 0-0.5-0.229-0.5-0.5v-27c0-0.271 0.229-0.5 0.5-0.5 0 0 15.499-0 15.5 0v7c0 0.552 0.448 1 1 1h7v19.5z\"></path>\n",
       "<path d=\"M23 26h-14c-0.552 0-1-0.448-1-1s0.448-1 1-1h14c0.552 0 1 0.448 1 1s-0.448 1-1 1z\"></path>\n",
       "<path d=\"M23 22h-14c-0.552 0-1-0.448-1-1s0.448-1 1-1h14c0.552 0 1 0.448 1 1s-0.448 1-1 1z\"></path>\n",
       "<path d=\"M23 18h-14c-0.552 0-1-0.448-1-1s0.448-1 1-1h14c0.552 0 1 0.448 1 1s-0.448 1-1 1z\"></path>\n",
       "</symbol>\n",
       "</defs>\n",
       "</svg>\n",
       "<style>/* CSS stylesheet for displaying xarray objects in jupyterlab.\n",
       " *\n",
       " */\n",
       "\n",
       ":root {\n",
       "  --xr-font-color0: var(--jp-content-font-color0, rgba(0, 0, 0, 1));\n",
       "  --xr-font-color2: var(--jp-content-font-color2, rgba(0, 0, 0, 0.54));\n",
       "  --xr-font-color3: var(--jp-content-font-color3, rgba(0, 0, 0, 0.38));\n",
       "  --xr-border-color: var(--jp-border-color2, #e0e0e0);\n",
       "  --xr-disabled-color: var(--jp-layout-color3, #bdbdbd);\n",
       "  --xr-background-color: var(--jp-layout-color0, white);\n",
       "  --xr-background-color-row-even: var(--jp-layout-color1, white);\n",
       "  --xr-background-color-row-odd: var(--jp-layout-color2, #eeeeee);\n",
       "}\n",
       "\n",
       "html[theme=dark],\n",
       "body.vscode-dark {\n",
       "  --xr-font-color0: rgba(255, 255, 255, 1);\n",
       "  --xr-font-color2: rgba(255, 255, 255, 0.54);\n",
       "  --xr-font-color3: rgba(255, 255, 255, 0.38);\n",
       "  --xr-border-color: #1F1F1F;\n",
       "  --xr-disabled-color: #515151;\n",
       "  --xr-background-color: #111111;\n",
       "  --xr-background-color-row-even: #111111;\n",
       "  --xr-background-color-row-odd: #313131;\n",
       "}\n",
       "\n",
       ".xr-wrap {\n",
       "  display: block;\n",
       "  min-width: 300px;\n",
       "  max-width: 700px;\n",
       "}\n",
       "\n",
       ".xr-text-repr-fallback {\n",
       "  /* fallback to plain text repr when CSS is not injected (untrusted notebook) */\n",
       "  display: none;\n",
       "}\n",
       "\n",
       ".xr-header {\n",
       "  padding-top: 6px;\n",
       "  padding-bottom: 6px;\n",
       "  margin-bottom: 4px;\n",
       "  border-bottom: solid 1px var(--xr-border-color);\n",
       "}\n",
       "\n",
       ".xr-header > div,\n",
       ".xr-header > ul {\n",
       "  display: inline;\n",
       "  margin-top: 0;\n",
       "  margin-bottom: 0;\n",
       "}\n",
       "\n",
       ".xr-obj-type,\n",
       ".xr-array-name {\n",
       "  margin-left: 2px;\n",
       "  margin-right: 10px;\n",
       "}\n",
       "\n",
       ".xr-obj-type {\n",
       "  color: var(--xr-font-color2);\n",
       "}\n",
       "\n",
       ".xr-sections {\n",
       "  padding-left: 0 !important;\n",
       "  display: grid;\n",
       "  grid-template-columns: 150px auto auto 1fr 20px 20px;\n",
       "}\n",
       "\n",
       ".xr-section-item {\n",
       "  display: contents;\n",
       "}\n",
       "\n",
       ".xr-section-item input {\n",
       "  display: none;\n",
       "}\n",
       "\n",
       ".xr-section-item input + label {\n",
       "  color: var(--xr-disabled-color);\n",
       "}\n",
       "\n",
       ".xr-section-item input:enabled + label {\n",
       "  cursor: pointer;\n",
       "  color: var(--xr-font-color2);\n",
       "}\n",
       "\n",
       ".xr-section-item input:enabled + label:hover {\n",
       "  color: var(--xr-font-color0);\n",
       "}\n",
       "\n",
       ".xr-section-summary {\n",
       "  grid-column: 1;\n",
       "  color: var(--xr-font-color2);\n",
       "  font-weight: 500;\n",
       "}\n",
       "\n",
       ".xr-section-summary > span {\n",
       "  display: inline-block;\n",
       "  padding-left: 0.5em;\n",
       "}\n",
       "\n",
       ".xr-section-summary-in:disabled + label {\n",
       "  color: var(--xr-font-color2);\n",
       "}\n",
       "\n",
       ".xr-section-summary-in + label:before {\n",
       "  display: inline-block;\n",
       "  content: '►';\n",
       "  font-size: 11px;\n",
       "  width: 15px;\n",
       "  text-align: center;\n",
       "}\n",
       "\n",
       ".xr-section-summary-in:disabled + label:before {\n",
       "  color: var(--xr-disabled-color);\n",
       "}\n",
       "\n",
       ".xr-section-summary-in:checked + label:before {\n",
       "  content: '▼';\n",
       "}\n",
       "\n",
       ".xr-section-summary-in:checked + label > span {\n",
       "  display: none;\n",
       "}\n",
       "\n",
       ".xr-section-summary,\n",
       ".xr-section-inline-details {\n",
       "  padding-top: 4px;\n",
       "  padding-bottom: 4px;\n",
       "}\n",
       "\n",
       ".xr-section-inline-details {\n",
       "  grid-column: 2 / -1;\n",
       "}\n",
       "\n",
       ".xr-section-details {\n",
       "  display: none;\n",
       "  grid-column: 1 / -1;\n",
       "  margin-bottom: 5px;\n",
       "}\n",
       "\n",
       ".xr-section-summary-in:checked ~ .xr-section-details {\n",
       "  display: contents;\n",
       "}\n",
       "\n",
       ".xr-array-wrap {\n",
       "  grid-column: 1 / -1;\n",
       "  display: grid;\n",
       "  grid-template-columns: 20px auto;\n",
       "}\n",
       "\n",
       ".xr-array-wrap > label {\n",
       "  grid-column: 1;\n",
       "  vertical-align: top;\n",
       "}\n",
       "\n",
       ".xr-preview {\n",
       "  color: var(--xr-font-color3);\n",
       "}\n",
       "\n",
       ".xr-array-preview,\n",
       ".xr-array-data {\n",
       "  padding: 0 5px !important;\n",
       "  grid-column: 2;\n",
       "}\n",
       "\n",
       ".xr-array-data,\n",
       ".xr-array-in:checked ~ .xr-array-preview {\n",
       "  display: none;\n",
       "}\n",
       "\n",
       ".xr-array-in:checked ~ .xr-array-data,\n",
       ".xr-array-preview {\n",
       "  display: inline-block;\n",
       "}\n",
       "\n",
       ".xr-dim-list {\n",
       "  display: inline-block !important;\n",
       "  list-style: none;\n",
       "  padding: 0 !important;\n",
       "  margin: 0;\n",
       "}\n",
       "\n",
       ".xr-dim-list li {\n",
       "  display: inline-block;\n",
       "  padding: 0;\n",
       "  margin: 0;\n",
       "}\n",
       "\n",
       ".xr-dim-list:before {\n",
       "  content: '(';\n",
       "}\n",
       "\n",
       ".xr-dim-list:after {\n",
       "  content: ')';\n",
       "}\n",
       "\n",
       ".xr-dim-list li:not(:last-child):after {\n",
       "  content: ',';\n",
       "  padding-right: 5px;\n",
       "}\n",
       "\n",
       ".xr-has-index {\n",
       "  font-weight: bold;\n",
       "}\n",
       "\n",
       ".xr-var-list,\n",
       ".xr-var-item {\n",
       "  display: contents;\n",
       "}\n",
       "\n",
       ".xr-var-item > div,\n",
       ".xr-var-item label,\n",
       ".xr-var-item > .xr-var-name span {\n",
       "  background-color: var(--xr-background-color-row-even);\n",
       "  margin-bottom: 0;\n",
       "}\n",
       "\n",
       ".xr-var-item > .xr-var-name:hover span {\n",
       "  padding-right: 5px;\n",
       "}\n",
       "\n",
       ".xr-var-list > li:nth-child(odd) > div,\n",
       ".xr-var-list > li:nth-child(odd) > label,\n",
       ".xr-var-list > li:nth-child(odd) > .xr-var-name span {\n",
       "  background-color: var(--xr-background-color-row-odd);\n",
       "}\n",
       "\n",
       ".xr-var-name {\n",
       "  grid-column: 1;\n",
       "}\n",
       "\n",
       ".xr-var-dims {\n",
       "  grid-column: 2;\n",
       "}\n",
       "\n",
       ".xr-var-dtype {\n",
       "  grid-column: 3;\n",
       "  text-align: right;\n",
       "  color: var(--xr-font-color2);\n",
       "}\n",
       "\n",
       ".xr-var-preview {\n",
       "  grid-column: 4;\n",
       "}\n",
       "\n",
       ".xr-var-name,\n",
       ".xr-var-dims,\n",
       ".xr-var-dtype,\n",
       ".xr-preview,\n",
       ".xr-attrs dt {\n",
       "  white-space: nowrap;\n",
       "  overflow: hidden;\n",
       "  text-overflow: ellipsis;\n",
       "  padding-right: 10px;\n",
       "}\n",
       "\n",
       ".xr-var-name:hover,\n",
       ".xr-var-dims:hover,\n",
       ".xr-var-dtype:hover,\n",
       ".xr-attrs dt:hover {\n",
       "  overflow: visible;\n",
       "  width: auto;\n",
       "  z-index: 1;\n",
       "}\n",
       "\n",
       ".xr-var-attrs,\n",
       ".xr-var-data {\n",
       "  display: none;\n",
       "  background-color: var(--xr-background-color) !important;\n",
       "  padding-bottom: 5px !important;\n",
       "}\n",
       "\n",
       ".xr-var-attrs-in:checked ~ .xr-var-attrs,\n",
       ".xr-var-data-in:checked ~ .xr-var-data {\n",
       "  display: block;\n",
       "}\n",
       "\n",
       ".xr-var-data > table {\n",
       "  float: right;\n",
       "}\n",
       "\n",
       ".xr-var-name span,\n",
       ".xr-var-data,\n",
       ".xr-attrs {\n",
       "  padding-left: 25px !important;\n",
       "}\n",
       "\n",
       ".xr-attrs,\n",
       ".xr-var-attrs,\n",
       ".xr-var-data {\n",
       "  grid-column: 1 / -1;\n",
       "}\n",
       "\n",
       "dl.xr-attrs {\n",
       "  padding: 0;\n",
       "  margin: 0;\n",
       "  display: grid;\n",
       "  grid-template-columns: 125px auto;\n",
       "}\n",
       "\n",
       ".xr-attrs dt,\n",
       ".xr-attrs dd {\n",
       "  padding: 0;\n",
       "  margin: 0;\n",
       "  float: left;\n",
       "  padding-right: 10px;\n",
       "  width: auto;\n",
       "}\n",
       "\n",
       ".xr-attrs dt {\n",
       "  font-weight: normal;\n",
       "  grid-column: 1;\n",
       "}\n",
       "\n",
       ".xr-attrs dt:hover span {\n",
       "  display: inline-block;\n",
       "  background: var(--xr-background-color);\n",
       "  padding-right: 10px;\n",
       "}\n",
       "\n",
       ".xr-attrs dd {\n",
       "  grid-column: 2;\n",
       "  white-space: pre-wrap;\n",
       "  word-break: break-all;\n",
       "}\n",
       "\n",
       ".xr-icon-database,\n",
       ".xr-icon-file-text2 {\n",
       "  display: inline-block;\n",
       "  vertical-align: middle;\n",
       "  width: 1em;\n",
       "  height: 1.5em !important;\n",
       "  stroke-width: 0;\n",
       "  stroke: currentColor;\n",
       "  fill: currentColor;\n",
       "}\n",
       "</style><pre class='xr-text-repr-fallback'>&lt;xarray.Dataset&gt;\n",
       "Dimensions:     (Model Runs: 114, index: 80)\n",
       "Coordinates:\n",
       "  * index       (index) int32 0 1 2 3 4 5 6 7 8 9 ... 71 72 73 74 75 76 77 78 79\n",
       "Dimensions without coordinates: Model Runs\n",
       "Data variables:\n",
       "    U Velocity  (Model Runs, index) float64 0.003122 0.007679 ... 1.6 1.61\n",
       "    Q           (Model Runs, index) float64 0.06818 0.1382 ... 0.1392 0.1053\n",
       "    Q2          (Model Runs, index) float64 0.004648 0.01911 ... 0.01936 0.01108\n",
       "    Q2L         (Model Runs, index) float64 0.0009885 0.01047 ... 0.01183\n",
       "    Z           (Model Runs, index) float64 -67.17 -66.32 ... -1.351 -0.4503\n",
       "    Kq          (Model Runs, index) float64 0.0029 0.01514 ... 0.06322 0.02246\n",
       "    nu_t        (Model Runs, index) float64 0.005684 0.02968 ... 0.1239 0.04403\n",
       "Attributes:\n",
       "    description:  Model run results for Bay-side sites.</pre><div class='xr-wrap' hidden><div class='xr-header'><div class='xr-obj-type'>xarray.Dataset</div></div><ul class='xr-sections'><li class='xr-section-item'><input id='section-67bdb314-355e-453e-82c9-49e5cb90c40c' class='xr-section-summary-in' type='checkbox' disabled ><label for='section-67bdb314-355e-453e-82c9-49e5cb90c40c' class='xr-section-summary'  title='Expand/collapse section'>Dimensions:</label><div class='xr-section-inline-details'><ul class='xr-dim-list'><li><span>Model Runs</span>: 114</li><li><span class='xr-has-index'>index</span>: 80</li></ul></div><div class='xr-section-details'></div></li><li class='xr-section-item'><input id='section-0b8b8b53-8aeb-4672-8f62-d789bf1f0edc' class='xr-section-summary-in' type='checkbox'  checked><label for='section-0b8b8b53-8aeb-4672-8f62-d789bf1f0edc' class='xr-section-summary' >Coordinates: <span>(1)</span></label><div class='xr-section-inline-details'></div><div class='xr-section-details'><ul class='xr-var-list'><li class='xr-var-item'><div class='xr-var-name'><span class='xr-has-index'>index</span></div><div class='xr-var-dims'>(index)</div><div class='xr-var-dtype'>int32</div><div class='xr-var-preview xr-preview'>0 1 2 3 4 5 6 ... 74 75 76 77 78 79</div><input id='attrs-30d5845c-e45c-41ff-9058-d62054a1c2f9' class='xr-var-attrs-in' type='checkbox' disabled><label for='attrs-30d5845c-e45c-41ff-9058-d62054a1c2f9' title='Show/Hide attributes'><svg class='icon xr-icon-file-text2'><use xlink:href='#icon-file-text2'></use></svg></label><input id='data-16ca0601-da81-40cd-bbc1-b111a62fd7fb' class='xr-var-data-in' type='checkbox'><label for='data-16ca0601-da81-40cd-bbc1-b111a62fd7fb' title='Show/Hide data repr'><svg class='icon xr-icon-database'><use xlink:href='#icon-database'></use></svg></label><div class='xr-var-attrs'><dl class='xr-attrs'></dl></div><div class='xr-var-data'><pre>array([ 0,  1,  2,  3,  4,  5,  6,  7,  8,  9, 10, 11, 12, 13, 14, 15, 16, 17,\n",
       "       18, 19, 20, 21, 22, 23, 24, 25, 26, 27, 28, 29, 30, 31, 32, 33, 34, 35,\n",
       "       36, 37, 38, 39, 40, 41, 42, 43, 44, 45, 46, 47, 48, 49, 50, 51, 52, 53,\n",
       "       54, 55, 56, 57, 58, 59, 60, 61, 62, 63, 64, 65, 66, 67, 68, 69, 70, 71,\n",
       "       72, 73, 74, 75, 76, 77, 78, 79])</pre></div></li></ul></div></li><li class='xr-section-item'><input id='section-3b5813fd-6706-4f6c-915e-e0161092be05' class='xr-section-summary-in' type='checkbox'  checked><label for='section-3b5813fd-6706-4f6c-915e-e0161092be05' class='xr-section-summary' >Data variables: <span>(7)</span></label><div class='xr-section-inline-details'></div><div class='xr-section-details'><ul class='xr-var-list'><li class='xr-var-item'><div class='xr-var-name'><span>U Velocity</span></div><div class='xr-var-dims'>(Model Runs, index)</div><div class='xr-var-dtype'>float64</div><div class='xr-var-preview xr-preview'>...</div><input id='attrs-4593a659-360c-477b-acea-73f1a5ad8ed4' class='xr-var-attrs-in' type='checkbox' disabled><label for='attrs-4593a659-360c-477b-acea-73f1a5ad8ed4' title='Show/Hide attributes'><svg class='icon xr-icon-file-text2'><use xlink:href='#icon-file-text2'></use></svg></label><input id='data-35ee0185-4122-455f-ab17-41132562f19a' class='xr-var-data-in' type='checkbox'><label for='data-35ee0185-4122-455f-ab17-41132562f19a' title='Show/Hide data repr'><svg class='icon xr-icon-database'><use xlink:href='#icon-database'></use></svg></label><div class='xr-var-attrs'><dl class='xr-attrs'></dl></div><div class='xr-var-data'><pre>array([[ 3.122460e-03,  7.678820e-03,  1.126033e-02, ...,  2.136937e+00,\n",
       "         2.146933e+00,  2.156375e+00],\n",
       "       [ 2.730431e-03, -5.794936e-04, -3.373841e-04, ...,  1.043050e+00,\n",
       "         1.051358e+00,  1.059206e+00],\n",
       "       [ 3.082470e-03, -2.121948e-04,  6.827243e-04, ...,  7.892914e-01,\n",
       "         7.973807e-01,  8.050139e-01],\n",
       "       ...,\n",
       "       [-8.334176e-04,  3.171019e-03,  5.043106e-03, ...,  1.436743e+00,\n",
       "         1.446086e+00,  1.454947e+00],\n",
       "       [ 4.587025e-04,  3.748737e-04,  5.601790e-04, ...,  1.066450e+00,\n",
       "         1.076324e+00,  1.085654e+00],\n",
       "       [-6.309351e-04, -3.864823e-04, -1.126965e-03, ...,  1.589906e+00,\n",
       "         1.600156e+00,  1.609838e+00]])</pre></div></li><li class='xr-var-item'><div class='xr-var-name'><span>Q</span></div><div class='xr-var-dims'>(Model Runs, index)</div><div class='xr-var-dtype'>float64</div><div class='xr-var-preview xr-preview'>...</div><input id='attrs-f79b6604-bdeb-4a3e-befd-625c37e71a34' class='xr-var-attrs-in' type='checkbox' disabled><label for='attrs-f79b6604-bdeb-4a3e-befd-625c37e71a34' title='Show/Hide attributes'><svg class='icon xr-icon-file-text2'><use xlink:href='#icon-file-text2'></use></svg></label><input id='data-05b1317f-269e-4655-9e3b-7f34383b6a4a' class='xr-var-data-in' type='checkbox'><label for='data-05b1317f-269e-4655-9e3b-7f34383b6a4a' title='Show/Hide data repr'><svg class='icon xr-icon-database'><use xlink:href='#icon-database'></use></svg></label><div class='xr-var-attrs'><dl class='xr-attrs'></dl></div><div class='xr-var-data'><pre>array([[0.068178, 0.138245, 0.201451, ..., 0.152508, 0.134093, 0.10138 ],\n",
       "       [0.023643, 0.048324, 0.071049, ..., 0.130571, 0.114918, 0.087018],\n",
       "       [0.016936, 0.03436 , 0.049851, ..., 0.132275, 0.11624 , 0.087678],\n",
       "       ...,\n",
       "       [0.016547, 0.03717 , 0.059552, ..., 0.15218 , 0.133908, 0.101285],\n",
       "       [0.022725, 0.04658 , 0.068673, ..., 0.159584, 0.140595, 0.106631],\n",
       "       [0.040556, 0.082645, 0.121098, ..., 0.158202, 0.139155, 0.105274]])</pre></div></li><li class='xr-var-item'><div class='xr-var-name'><span>Q2</span></div><div class='xr-var-dims'>(Model Runs, index)</div><div class='xr-var-dtype'>float64</div><div class='xr-var-preview xr-preview'>...</div><input id='attrs-3f7686f9-7216-4b0c-9e8b-fbb1e26b014e' class='xr-var-attrs-in' type='checkbox' disabled><label for='attrs-3f7686f9-7216-4b0c-9e8b-fbb1e26b014e' title='Show/Hide attributes'><svg class='icon xr-icon-file-text2'><use xlink:href='#icon-file-text2'></use></svg></label><input id='data-2a7ce0c5-97a9-4ccf-bd8b-36c79021c0f7' class='xr-var-data-in' type='checkbox'><label for='data-2a7ce0c5-97a9-4ccf-bd8b-36c79021c0f7' title='Show/Hide data repr'><svg class='icon xr-icon-database'><use xlink:href='#icon-database'></use></svg></label><div class='xr-var-attrs'><dl class='xr-attrs'></dl></div><div class='xr-var-data'><pre>array([[0.004648, 0.019112, 0.040583, ..., 0.023259, 0.017981, 0.010278],\n",
       "       [0.000559, 0.002335, 0.005048, ..., 0.017049, 0.013206, 0.007572],\n",
       "       [0.000287, 0.001181, 0.002485, ..., 0.017497, 0.013512, 0.007687],\n",
       "       ...,\n",
       "       [0.000274, 0.001382, 0.003546, ..., 0.023159, 0.017931, 0.010259],\n",
       "       [0.000516, 0.00217 , 0.004716, ..., 0.025467, 0.019767, 0.01137 ],\n",
       "       [0.001645, 0.00683 , 0.014665, ..., 0.025028, 0.019364, 0.011083]])</pre></div></li><li class='xr-var-item'><div class='xr-var-name'><span>Q2L</span></div><div class='xr-var-dims'>(Model Runs, index)</div><div class='xr-var-dtype'>float64</div><div class='xr-var-preview xr-preview'>...</div><input id='attrs-fae2970d-ab62-41d3-a807-4ced122345d8' class='xr-var-attrs-in' type='checkbox' disabled><label for='attrs-fae2970d-ab62-41d3-a807-4ced122345d8' title='Show/Hide attributes'><svg class='icon xr-icon-file-text2'><use xlink:href='#icon-file-text2'></use></svg></label><input id='data-2aa5cb6d-c3ae-47b2-a8f6-527658271279' class='xr-var-data-in' type='checkbox'><label for='data-2aa5cb6d-c3ae-47b2-a8f6-527658271279' title='Show/Hide data repr'><svg class='icon xr-icon-database'><use xlink:href='#icon-database'></use></svg></label><div class='xr-var-attrs'><dl class='xr-attrs'></dl></div><div class='xr-var-data'><pre>array([[9.885500e-04, 1.046713e-02, 3.660868e-02, ..., 6.762959e-02,\n",
       "        3.810348e-02, 1.023634e-02],\n",
       "       [8.398324e-05, 8.925532e-04, 3.144344e-03, ..., 3.617594e-02,\n",
       "        2.039892e-02, 5.488259e-03],\n",
       "       [4.530815e-05, 4.740081e-04, 1.649230e-03, ..., 4.036030e-02,\n",
       "        2.270139e-02, 6.080284e-03],\n",
       "       ...,\n",
       "       [4.729936e-05, 6.024181e-04, 2.627079e-03, ..., 6.810273e-02,\n",
       "        3.847776e-02, 1.035572e-02],\n",
       "       [1.138691e-04, 1.213487e-03, 4.289395e-03, ..., 8.082637e-02,\n",
       "        4.561980e-02, 1.229265e-02],\n",
       "       [3.693081e-04, 3.918027e-03, 1.375626e-02, ..., 7.805011e-02,\n",
       "        4.399072e-02, 1.182530e-02]])</pre></div></li><li class='xr-var-item'><div class='xr-var-name'><span>Z</span></div><div class='xr-var-dims'>(Model Runs, index)</div><div class='xr-var-dtype'>float64</div><div class='xr-var-preview xr-preview'>...</div><input id='attrs-75263c0b-f5eb-4be1-be3b-8bbffe1f9586' class='xr-var-attrs-in' type='checkbox' disabled><label for='attrs-75263c0b-f5eb-4be1-be3b-8bbffe1f9586' title='Show/Hide attributes'><svg class='icon xr-icon-file-text2'><use xlink:href='#icon-file-text2'></use></svg></label><input id='data-4d1707c1-5f1f-491f-816e-6a07a378f953' class='xr-var-data-in' type='checkbox'><label for='data-4d1707c1-5f1f-491f-816e-6a07a378f953' title='Show/Hide data repr'><svg class='icon xr-icon-database'><use xlink:href='#icon-database'></use></svg></label><div class='xr-var-attrs'><dl class='xr-attrs'></dl></div><div class='xr-var-data'><pre>array([[-67.167562, -66.322687, -65.477812, ...,  -2.112188,  -1.267313,\n",
       "         -0.422438],\n",
       "       [-48.246563, -47.639688, -47.032813, ...,  -1.517187,  -0.910313,\n",
       "         -0.303438],\n",
       "       [-56.156812, -55.450437, -54.744062, ...,  -1.765937,  -1.059562,\n",
       "         -0.353187],\n",
       "       ...,\n",
       "       [-69.8805  , -69.0015  , -68.1225  , ...,  -2.1975  ,  -1.3185  ,\n",
       "         -0.4395  ],\n",
       "       [-71.082937, -70.188812, -69.294687, ...,  -2.235312,  -1.341187,\n",
       "         -0.447063],\n",
       "       [-71.599688, -70.699062, -69.798437, ...,  -2.251562,  -1.350938,\n",
       "         -0.450312]])</pre></div></li><li class='xr-var-item'><div class='xr-var-name'><span>Kq</span></div><div class='xr-var-dims'>(Model Runs, index)</div><div class='xr-var-dtype'>float64</div><div class='xr-var-preview xr-preview'>...</div><input id='attrs-50f336c7-cff5-49aa-b84c-f0041462f360' class='xr-var-attrs-in' type='checkbox' disabled><label for='attrs-50f336c7-cff5-49aa-b84c-f0041462f360' title='Show/Hide attributes'><svg class='icon xr-icon-file-text2'><use xlink:href='#icon-file-text2'></use></svg></label><input id='data-fae1f9b4-0ac1-427d-aa30-eb2e1aad1534' class='xr-var-data-in' type='checkbox'><label for='data-fae1f9b4-0ac1-427d-aa30-eb2e1aad1534' title='Show/Hide data repr'><svg class='icon xr-icon-database'><use xlink:href='#icon-database'></use></svg></label><div class='xr-var-attrs'><dl class='xr-attrs'></dl></div><div class='xr-var-data'><pre>array([[0.0029  , 0.015143, 0.036345, ..., 0.088687, 0.056829, 0.020193],\n",
       "       [0.00071 , 0.003693, 0.00885 , ..., 0.05541 , 0.0355  , 0.012613],\n",
       "       [0.000534, 0.002758, 0.006615, ..., 0.061022, 0.039057, 0.013869],\n",
       "       ...,\n",
       "       [0.000571, 0.00324 , 0.008821, ..., 0.0895  , 0.057467, 0.020448],\n",
       "       [0.001001, 0.005209, 0.012491, ..., 0.101293, 0.064893, 0.023055],\n",
       "       [0.001821, 0.009481, 0.022719, ..., 0.098668, 0.063223, 0.022465]])</pre></div></li><li class='xr-var-item'><div class='xr-var-name'><span>nu_t</span></div><div class='xr-var-dims'>(Model Runs, index)</div><div class='xr-var-dtype'>float64</div><div class='xr-var-preview xr-preview'>...</div><input id='attrs-898cb682-ad54-4836-8c92-1d1bdb6f7224' class='xr-var-attrs-in' type='checkbox' disabled><label for='attrs-898cb682-ad54-4836-8c92-1d1bdb6f7224' title='Show/Hide attributes'><svg class='icon xr-icon-file-text2'><use xlink:href='#icon-file-text2'></use></svg></label><input id='data-fe8c8017-ee4e-49af-8dcb-39c397cc9b5e' class='xr-var-data-in' type='checkbox'><label for='data-fe8c8017-ee4e-49af-8dcb-39c397cc9b5e' title='Show/Hide data repr'><svg class='icon xr-icon-database'><use xlink:href='#icon-database'></use></svg></label><div class='xr-var-attrs'><dl class='xr-attrs'></dl></div><div class='xr-var-data'><pre>array([[0.005684, 0.02968 , 0.071237, ..., 0.173831, 0.111387, 0.039579],\n",
       "       [0.001391, 0.007238, 0.017346, ..., 0.108605, 0.069581, 0.024722],\n",
       "       [0.001046, 0.005404, 0.012965, ..., 0.119606, 0.076554, 0.027183],\n",
       "       ...,\n",
       "       [0.001118, 0.00635 , 0.017289, ..., 0.175424, 0.112636, 0.040077],\n",
       "       [0.001961, 0.010209, 0.024481, ..., 0.198539, 0.127192, 0.045189],\n",
       "       [0.003569, 0.018583, 0.044529, ..., 0.193394, 0.12392 , 0.044031]])</pre></div></li></ul></div></li><li class='xr-section-item'><input id='section-6ae33ac5-2eab-4308-9f03-d174258fbf55' class='xr-section-summary-in' type='checkbox'  checked><label for='section-6ae33ac5-2eab-4308-9f03-d174258fbf55' class='xr-section-summary' >Attributes: <span>(1)</span></label><div class='xr-section-inline-details'></div><div class='xr-section-details'><dl class='xr-attrs'><dt><span>description :</span></dt><dd>Model run results for Bay-side sites.</dd></dl></div></li></ul></div></div>"
      ],
      "text/plain": [
       "<xarray.Dataset>\n",
       "Dimensions:     (Model Runs: 114, index: 80)\n",
       "Coordinates:\n",
       "  * index       (index) int32 0 1 2 3 4 5 6 7 8 9 ... 71 72 73 74 75 76 77 78 79\n",
       "Dimensions without coordinates: Model Runs\n",
       "Data variables:\n",
       "    U Velocity  (Model Runs, index) float64 ...\n",
       "    Q           (Model Runs, index) float64 ...\n",
       "    Q2          (Model Runs, index) float64 ...\n",
       "    Q2L         (Model Runs, index) float64 ...\n",
       "    Z           (Model Runs, index) float64 ...\n",
       "    Kq          (Model Runs, index) float64 ...\n",
       "    nu_t        (Model Runs, index) float64 ...\n",
       "Attributes:\n",
       "    description:  Model run results for Bay-side sites."
      ]
     },
     "execution_count": 4,
     "metadata": {},
     "output_type": "execute_result"
    }
   ],
   "source": [
    "wc_ds"
   ]
  },
  {
   "cell_type": "code",
   "execution_count": 5,
   "metadata": {},
   "outputs": [],
   "source": [
    "df = (pd.merge(df, locs, how='left', on='plot_ID'))\n",
    "df = df.drop(['Unnamed: 0_x', 'Unnamed: 0_y'], axis=1)"
   ]
  },
  {
   "cell_type": "code",
   "execution_count": 6,
   "metadata": {},
   "outputs": [
    {
     "name": "stderr",
     "output_type": "stream",
     "text": [
      "c:\\Users\\erich\\anaconda3\\envs\\EFMHModeling_20220915\\lib\\site-packages\\pyproj\\crs\\crs.py:141: FutureWarning: '+init=<authority>:<code>' syntax is deprecated. '<authority>:<code>' is the preferred initialization method. When making the change, be mindful of axis order changes: https://pyproj4.github.io/pyproj/stable/gotchas.html#axis-order-changes-in-proj-6\n",
      "  in_crs_string = _prepare_from_proj_string(in_crs_string)\n"
     ]
    },
    {
     "data": {
      "text/html": [
       "<div>\n",
       "<style scoped>\n",
       "    .dataframe tbody tr th:only-of-type {\n",
       "        vertical-align: middle;\n",
       "    }\n",
       "\n",
       "    .dataframe tbody tr th {\n",
       "        vertical-align: top;\n",
       "    }\n",
       "\n",
       "    .dataframe thead th {\n",
       "        text-align: right;\n",
       "    }\n",
       "</style>\n",
       "<table border=\"1\" class=\"dataframe\">\n",
       "  <thead>\n",
       "    <tr style=\"text-align: right;\">\n",
       "      <th></th>\n",
       "      <th>Season</th>\n",
       "      <th>date</th>\n",
       "      <th>site</th>\n",
       "      <th>plot_ID</th>\n",
       "      <th>Elevation</th>\n",
       "      <th>channel_dist</th>\n",
       "      <th>ave_ht</th>\n",
       "      <th>cover</th>\n",
       "      <th>vol_est</th>\n",
       "      <th>vol_calc</th>\n",
       "      <th>...</th>\n",
       "      <th>frontal_20</th>\n",
       "      <th>frontal_25</th>\n",
       "      <th>frontal_30</th>\n",
       "      <th>wc_height</th>\n",
       "      <th>Easting</th>\n",
       "      <th>Northing</th>\n",
       "      <th>Transect</th>\n",
       "      <th>Distance</th>\n",
       "      <th>Lon</th>\n",
       "      <th>Lat</th>\n",
       "    </tr>\n",
       "  </thead>\n",
       "  <tbody>\n",
       "    <tr>\n",
       "      <th>0</th>\n",
       "      <td>Summer</td>\n",
       "      <td>7/28/2021</td>\n",
       "      <td>Bay</td>\n",
       "      <td>A0.5</td>\n",
       "      <td>2.1313</td>\n",
       "      <td>0.5</td>\n",
       "      <td>6.5</td>\n",
       "      <td>0.10</td>\n",
       "      <td>6500</td>\n",
       "      <td>233.351057</td>\n",
       "      <td>...</td>\n",
       "      <td>0.000000</td>\n",
       "      <td>0.0</td>\n",
       "      <td>0.0</td>\n",
       "      <td>0.6759</td>\n",
       "      <td>575481.457229</td>\n",
       "      <td>4.159935e+06</td>\n",
       "      <td>A</td>\n",
       "      <td>0.5</td>\n",
       "      <td>-122.145098</td>\n",
       "      <td>37.583378</td>\n",
       "    </tr>\n",
       "    <tr>\n",
       "      <th>1</th>\n",
       "      <td>Summer</td>\n",
       "      <td>7/28/2021</td>\n",
       "      <td>Bay</td>\n",
       "      <td>A2</td>\n",
       "      <td>2.3217</td>\n",
       "      <td>2.0</td>\n",
       "      <td>11.0</td>\n",
       "      <td>0.45</td>\n",
       "      <td>49500</td>\n",
       "      <td>1777.058049</td>\n",
       "      <td>...</td>\n",
       "      <td>0.000000</td>\n",
       "      <td>0.0</td>\n",
       "      <td>0.0</td>\n",
       "      <td>0.4855</td>\n",
       "      <td>575483.018742</td>\n",
       "      <td>4.159936e+06</td>\n",
       "      <td>A</td>\n",
       "      <td>2.0</td>\n",
       "      <td>-122.145080</td>\n",
       "      <td>37.583388</td>\n",
       "    </tr>\n",
       "    <tr>\n",
       "      <th>2</th>\n",
       "      <td>Summer</td>\n",
       "      <td>7/28/2021</td>\n",
       "      <td>Bay</td>\n",
       "      <td>A6</td>\n",
       "      <td>2.2421</td>\n",
       "      <td>6.0</td>\n",
       "      <td>19.0</td>\n",
       "      <td>0.55</td>\n",
       "      <td>104500</td>\n",
       "      <td>3751.566993</td>\n",
       "      <td>...</td>\n",
       "      <td>3734.753837</td>\n",
       "      <td>0.0</td>\n",
       "      <td>0.0</td>\n",
       "      <td>0.5651</td>\n",
       "      <td>575486.683492</td>\n",
       "      <td>4.159938e+06</td>\n",
       "      <td>A</td>\n",
       "      <td>6.0</td>\n",
       "      <td>-122.145039</td>\n",
       "      <td>37.583404</td>\n",
       "    </tr>\n",
       "    <tr>\n",
       "      <th>3</th>\n",
       "      <td>Summer</td>\n",
       "      <td>7/28/2021</td>\n",
       "      <td>Bay</td>\n",
       "      <td>A12</td>\n",
       "      <td>2.2417</td>\n",
       "      <td>12.0</td>\n",
       "      <td>15.0</td>\n",
       "      <td>0.75</td>\n",
       "      <td>112500</td>\n",
       "      <td>4038.768294</td>\n",
       "      <td>...</td>\n",
       "      <td>0.000000</td>\n",
       "      <td>0.0</td>\n",
       "      <td>0.0</td>\n",
       "      <td>0.5655</td>\n",
       "      <td>575492.070254</td>\n",
       "      <td>4.159941e+06</td>\n",
       "      <td>A</td>\n",
       "      <td>12.0</td>\n",
       "      <td>-122.144977</td>\n",
       "      <td>37.583428</td>\n",
       "    </tr>\n",
       "    <tr>\n",
       "      <th>4</th>\n",
       "      <td>Summer</td>\n",
       "      <td>7/28/2021</td>\n",
       "      <td>Bay</td>\n",
       "      <td>A24</td>\n",
       "      <td>2.2217</td>\n",
       "      <td>24.0</td>\n",
       "      <td>11.0</td>\n",
       "      <td>0.55</td>\n",
       "      <td>60500</td>\n",
       "      <td>2171.959838</td>\n",
       "      <td>...</td>\n",
       "      <td>0.000000</td>\n",
       "      <td>0.0</td>\n",
       "      <td>0.0</td>\n",
       "      <td>0.5855</td>\n",
       "      <td>575502.472088</td>\n",
       "      <td>4.159947e+06</td>\n",
       "      <td>A</td>\n",
       "      <td>24.0</td>\n",
       "      <td>-122.144859</td>\n",
       "      <td>37.583481</td>\n",
       "    </tr>\n",
       "  </tbody>\n",
       "</table>\n",
       "<p>5 rows × 26 columns</p>\n",
       "</div>"
      ],
      "text/plain": [
       "   Season       date site plot_ID  Elevation  channel_dist  ave_ht  cover  \\\n",
       "0  Summer  7/28/2021  Bay    A0.5     2.1313           0.5     6.5   0.10   \n",
       "1  Summer  7/28/2021  Bay      A2     2.3217           2.0    11.0   0.45   \n",
       "2  Summer  7/28/2021  Bay      A6     2.2421           6.0    19.0   0.55   \n",
       "3  Summer  7/28/2021  Bay     A12     2.2417          12.0    15.0   0.75   \n",
       "4  Summer  7/28/2021  Bay     A24     2.2217          24.0    11.0   0.55   \n",
       "\n",
       "   vol_est     vol_calc  ...   frontal_20  frontal_25  frontal_30  wc_height  \\\n",
       "0     6500   233.351057  ...     0.000000         0.0         0.0     0.6759   \n",
       "1    49500  1777.058049  ...     0.000000         0.0         0.0     0.4855   \n",
       "2   104500  3751.566993  ...  3734.753837         0.0         0.0     0.5651   \n",
       "3   112500  4038.768294  ...     0.000000         0.0         0.0     0.5655   \n",
       "4    60500  2171.959838  ...     0.000000         0.0         0.0     0.5855   \n",
       "\n",
       "         Easting      Northing  Transect  Distance         Lon        Lat  \n",
       "0  575481.457229  4.159935e+06         A       0.5 -122.145098  37.583378  \n",
       "1  575483.018742  4.159936e+06         A       2.0 -122.145080  37.583388  \n",
       "2  575486.683492  4.159938e+06         A       6.0 -122.145039  37.583404  \n",
       "3  575492.070254  4.159941e+06         A      12.0 -122.144977  37.583428  \n",
       "4  575502.472088  4.159947e+06         A      24.0 -122.144859  37.583481  \n",
       "\n",
       "[5 rows x 26 columns]"
      ]
     },
     "execution_count": 6,
     "metadata": {},
     "output_type": "execute_result"
    }
   ],
   "source": [
    "p2 = Proj(init=\"epsg:7131\", proj=\"utm\", zone=10)\n",
    "df['Lon'], df['Lat'] = p2(df['Easting'],df['Northing'],inverse=True)\n",
    "#df = df.drop(['Easting', 'Northing'], axis=1)\n",
    "df.head()"
   ]
  },
  {
   "cell_type": "markdown",
   "metadata": {},
   "source": [
    "Compiling Data from modeling runs for analysis"
   ]
  },
  {
   "cell_type": "code",
   "execution_count": 7,
   "metadata": {},
   "outputs": [
    {
     "data": {
      "text/html": [
       "<div><svg style=\"position: absolute; width: 0; height: 0; overflow: hidden\">\n",
       "<defs>\n",
       "<symbol id=\"icon-database\" viewBox=\"0 0 32 32\">\n",
       "<path d=\"M16 0c-8.837 0-16 2.239-16 5v4c0 2.761 7.163 5 16 5s16-2.239 16-5v-4c0-2.761-7.163-5-16-5z\"></path>\n",
       "<path d=\"M16 17c-8.837 0-16-2.239-16-5v6c0 2.761 7.163 5 16 5s16-2.239 16-5v-6c0 2.761-7.163 5-16 5z\"></path>\n",
       "<path d=\"M16 26c-8.837 0-16-2.239-16-5v6c0 2.761 7.163 5 16 5s16-2.239 16-5v-6c0 2.761-7.163 5-16 5z\"></path>\n",
       "</symbol>\n",
       "<symbol id=\"icon-file-text2\" viewBox=\"0 0 32 32\">\n",
       "<path d=\"M28.681 7.159c-0.694-0.947-1.662-2.053-2.724-3.116s-2.169-2.030-3.116-2.724c-1.612-1.182-2.393-1.319-2.841-1.319h-15.5c-1.378 0-2.5 1.121-2.5 2.5v27c0 1.378 1.122 2.5 2.5 2.5h23c1.378 0 2.5-1.122 2.5-2.5v-19.5c0-0.448-0.137-1.23-1.319-2.841zM24.543 5.457c0.959 0.959 1.712 1.825 2.268 2.543h-4.811v-4.811c0.718 0.556 1.584 1.309 2.543 2.268zM28 29.5c0 0.271-0.229 0.5-0.5 0.5h-23c-0.271 0-0.5-0.229-0.5-0.5v-27c0-0.271 0.229-0.5 0.5-0.5 0 0 15.499-0 15.5 0v7c0 0.552 0.448 1 1 1h7v19.5z\"></path>\n",
       "<path d=\"M23 26h-14c-0.552 0-1-0.448-1-1s0.448-1 1-1h14c0.552 0 1 0.448 1 1s-0.448 1-1 1z\"></path>\n",
       "<path d=\"M23 22h-14c-0.552 0-1-0.448-1-1s0.448-1 1-1h14c0.552 0 1 0.448 1 1s-0.448 1-1 1z\"></path>\n",
       "<path d=\"M23 18h-14c-0.552 0-1-0.448-1-1s0.448-1 1-1h14c0.552 0 1 0.448 1 1s-0.448 1-1 1z\"></path>\n",
       "</symbol>\n",
       "</defs>\n",
       "</svg>\n",
       "<style>/* CSS stylesheet for displaying xarray objects in jupyterlab.\n",
       " *\n",
       " */\n",
       "\n",
       ":root {\n",
       "  --xr-font-color0: var(--jp-content-font-color0, rgba(0, 0, 0, 1));\n",
       "  --xr-font-color2: var(--jp-content-font-color2, rgba(0, 0, 0, 0.54));\n",
       "  --xr-font-color3: var(--jp-content-font-color3, rgba(0, 0, 0, 0.38));\n",
       "  --xr-border-color: var(--jp-border-color2, #e0e0e0);\n",
       "  --xr-disabled-color: var(--jp-layout-color3, #bdbdbd);\n",
       "  --xr-background-color: var(--jp-layout-color0, white);\n",
       "  --xr-background-color-row-even: var(--jp-layout-color1, white);\n",
       "  --xr-background-color-row-odd: var(--jp-layout-color2, #eeeeee);\n",
       "}\n",
       "\n",
       "html[theme=dark],\n",
       "body.vscode-dark {\n",
       "  --xr-font-color0: rgba(255, 255, 255, 1);\n",
       "  --xr-font-color2: rgba(255, 255, 255, 0.54);\n",
       "  --xr-font-color3: rgba(255, 255, 255, 0.38);\n",
       "  --xr-border-color: #1F1F1F;\n",
       "  --xr-disabled-color: #515151;\n",
       "  --xr-background-color: #111111;\n",
       "  --xr-background-color-row-even: #111111;\n",
       "  --xr-background-color-row-odd: #313131;\n",
       "}\n",
       "\n",
       ".xr-wrap {\n",
       "  display: block;\n",
       "  min-width: 300px;\n",
       "  max-width: 700px;\n",
       "}\n",
       "\n",
       ".xr-text-repr-fallback {\n",
       "  /* fallback to plain text repr when CSS is not injected (untrusted notebook) */\n",
       "  display: none;\n",
       "}\n",
       "\n",
       ".xr-header {\n",
       "  padding-top: 6px;\n",
       "  padding-bottom: 6px;\n",
       "  margin-bottom: 4px;\n",
       "  border-bottom: solid 1px var(--xr-border-color);\n",
       "}\n",
       "\n",
       ".xr-header > div,\n",
       ".xr-header > ul {\n",
       "  display: inline;\n",
       "  margin-top: 0;\n",
       "  margin-bottom: 0;\n",
       "}\n",
       "\n",
       ".xr-obj-type,\n",
       ".xr-array-name {\n",
       "  margin-left: 2px;\n",
       "  margin-right: 10px;\n",
       "}\n",
       "\n",
       ".xr-obj-type {\n",
       "  color: var(--xr-font-color2);\n",
       "}\n",
       "\n",
       ".xr-sections {\n",
       "  padding-left: 0 !important;\n",
       "  display: grid;\n",
       "  grid-template-columns: 150px auto auto 1fr 20px 20px;\n",
       "}\n",
       "\n",
       ".xr-section-item {\n",
       "  display: contents;\n",
       "}\n",
       "\n",
       ".xr-section-item input {\n",
       "  display: none;\n",
       "}\n",
       "\n",
       ".xr-section-item input + label {\n",
       "  color: var(--xr-disabled-color);\n",
       "}\n",
       "\n",
       ".xr-section-item input:enabled + label {\n",
       "  cursor: pointer;\n",
       "  color: var(--xr-font-color2);\n",
       "}\n",
       "\n",
       ".xr-section-item input:enabled + label:hover {\n",
       "  color: var(--xr-font-color0);\n",
       "}\n",
       "\n",
       ".xr-section-summary {\n",
       "  grid-column: 1;\n",
       "  color: var(--xr-font-color2);\n",
       "  font-weight: 500;\n",
       "}\n",
       "\n",
       ".xr-section-summary > span {\n",
       "  display: inline-block;\n",
       "  padding-left: 0.5em;\n",
       "}\n",
       "\n",
       ".xr-section-summary-in:disabled + label {\n",
       "  color: var(--xr-font-color2);\n",
       "}\n",
       "\n",
       ".xr-section-summary-in + label:before {\n",
       "  display: inline-block;\n",
       "  content: '►';\n",
       "  font-size: 11px;\n",
       "  width: 15px;\n",
       "  text-align: center;\n",
       "}\n",
       "\n",
       ".xr-section-summary-in:disabled + label:before {\n",
       "  color: var(--xr-disabled-color);\n",
       "}\n",
       "\n",
       ".xr-section-summary-in:checked + label:before {\n",
       "  content: '▼';\n",
       "}\n",
       "\n",
       ".xr-section-summary-in:checked + label > span {\n",
       "  display: none;\n",
       "}\n",
       "\n",
       ".xr-section-summary,\n",
       ".xr-section-inline-details {\n",
       "  padding-top: 4px;\n",
       "  padding-bottom: 4px;\n",
       "}\n",
       "\n",
       ".xr-section-inline-details {\n",
       "  grid-column: 2 / -1;\n",
       "}\n",
       "\n",
       ".xr-section-details {\n",
       "  display: none;\n",
       "  grid-column: 1 / -1;\n",
       "  margin-bottom: 5px;\n",
       "}\n",
       "\n",
       ".xr-section-summary-in:checked ~ .xr-section-details {\n",
       "  display: contents;\n",
       "}\n",
       "\n",
       ".xr-array-wrap {\n",
       "  grid-column: 1 / -1;\n",
       "  display: grid;\n",
       "  grid-template-columns: 20px auto;\n",
       "}\n",
       "\n",
       ".xr-array-wrap > label {\n",
       "  grid-column: 1;\n",
       "  vertical-align: top;\n",
       "}\n",
       "\n",
       ".xr-preview {\n",
       "  color: var(--xr-font-color3);\n",
       "}\n",
       "\n",
       ".xr-array-preview,\n",
       ".xr-array-data {\n",
       "  padding: 0 5px !important;\n",
       "  grid-column: 2;\n",
       "}\n",
       "\n",
       ".xr-array-data,\n",
       ".xr-array-in:checked ~ .xr-array-preview {\n",
       "  display: none;\n",
       "}\n",
       "\n",
       ".xr-array-in:checked ~ .xr-array-data,\n",
       ".xr-array-preview {\n",
       "  display: inline-block;\n",
       "}\n",
       "\n",
       ".xr-dim-list {\n",
       "  display: inline-block !important;\n",
       "  list-style: none;\n",
       "  padding: 0 !important;\n",
       "  margin: 0;\n",
       "}\n",
       "\n",
       ".xr-dim-list li {\n",
       "  display: inline-block;\n",
       "  padding: 0;\n",
       "  margin: 0;\n",
       "}\n",
       "\n",
       ".xr-dim-list:before {\n",
       "  content: '(';\n",
       "}\n",
       "\n",
       ".xr-dim-list:after {\n",
       "  content: ')';\n",
       "}\n",
       "\n",
       ".xr-dim-list li:not(:last-child):after {\n",
       "  content: ',';\n",
       "  padding-right: 5px;\n",
       "}\n",
       "\n",
       ".xr-has-index {\n",
       "  font-weight: bold;\n",
       "}\n",
       "\n",
       ".xr-var-list,\n",
       ".xr-var-item {\n",
       "  display: contents;\n",
       "}\n",
       "\n",
       ".xr-var-item > div,\n",
       ".xr-var-item label,\n",
       ".xr-var-item > .xr-var-name span {\n",
       "  background-color: var(--xr-background-color-row-even);\n",
       "  margin-bottom: 0;\n",
       "}\n",
       "\n",
       ".xr-var-item > .xr-var-name:hover span {\n",
       "  padding-right: 5px;\n",
       "}\n",
       "\n",
       ".xr-var-list > li:nth-child(odd) > div,\n",
       ".xr-var-list > li:nth-child(odd) > label,\n",
       ".xr-var-list > li:nth-child(odd) > .xr-var-name span {\n",
       "  background-color: var(--xr-background-color-row-odd);\n",
       "}\n",
       "\n",
       ".xr-var-name {\n",
       "  grid-column: 1;\n",
       "}\n",
       "\n",
       ".xr-var-dims {\n",
       "  grid-column: 2;\n",
       "}\n",
       "\n",
       ".xr-var-dtype {\n",
       "  grid-column: 3;\n",
       "  text-align: right;\n",
       "  color: var(--xr-font-color2);\n",
       "}\n",
       "\n",
       ".xr-var-preview {\n",
       "  grid-column: 4;\n",
       "}\n",
       "\n",
       ".xr-var-name,\n",
       ".xr-var-dims,\n",
       ".xr-var-dtype,\n",
       ".xr-preview,\n",
       ".xr-attrs dt {\n",
       "  white-space: nowrap;\n",
       "  overflow: hidden;\n",
       "  text-overflow: ellipsis;\n",
       "  padding-right: 10px;\n",
       "}\n",
       "\n",
       ".xr-var-name:hover,\n",
       ".xr-var-dims:hover,\n",
       ".xr-var-dtype:hover,\n",
       ".xr-attrs dt:hover {\n",
       "  overflow: visible;\n",
       "  width: auto;\n",
       "  z-index: 1;\n",
       "}\n",
       "\n",
       ".xr-var-attrs,\n",
       ".xr-var-data {\n",
       "  display: none;\n",
       "  background-color: var(--xr-background-color) !important;\n",
       "  padding-bottom: 5px !important;\n",
       "}\n",
       "\n",
       ".xr-var-attrs-in:checked ~ .xr-var-attrs,\n",
       ".xr-var-data-in:checked ~ .xr-var-data {\n",
       "  display: block;\n",
       "}\n",
       "\n",
       ".xr-var-data > table {\n",
       "  float: right;\n",
       "}\n",
       "\n",
       ".xr-var-name span,\n",
       ".xr-var-data,\n",
       ".xr-attrs {\n",
       "  padding-left: 25px !important;\n",
       "}\n",
       "\n",
       ".xr-attrs,\n",
       ".xr-var-attrs,\n",
       ".xr-var-data {\n",
       "  grid-column: 1 / -1;\n",
       "}\n",
       "\n",
       "dl.xr-attrs {\n",
       "  padding: 0;\n",
       "  margin: 0;\n",
       "  display: grid;\n",
       "  grid-template-columns: 125px auto;\n",
       "}\n",
       "\n",
       ".xr-attrs dt,\n",
       ".xr-attrs dd {\n",
       "  padding: 0;\n",
       "  margin: 0;\n",
       "  float: left;\n",
       "  padding-right: 10px;\n",
       "  width: auto;\n",
       "}\n",
       "\n",
       ".xr-attrs dt {\n",
       "  font-weight: normal;\n",
       "  grid-column: 1;\n",
       "}\n",
       "\n",
       ".xr-attrs dt:hover span {\n",
       "  display: inline-block;\n",
       "  background: var(--xr-background-color);\n",
       "  padding-right: 10px;\n",
       "}\n",
       "\n",
       ".xr-attrs dd {\n",
       "  grid-column: 2;\n",
       "  white-space: pre-wrap;\n",
       "  word-break: break-all;\n",
       "}\n",
       "\n",
       ".xr-icon-database,\n",
       ".xr-icon-file-text2 {\n",
       "  display: inline-block;\n",
       "  vertical-align: middle;\n",
       "  width: 1em;\n",
       "  height: 1.5em !important;\n",
       "  stroke-width: 0;\n",
       "  stroke: currentColor;\n",
       "  fill: currentColor;\n",
       "}\n",
       "</style><pre class='xr-text-repr-fallback'>&lt;xarray.Dataset&gt;\n",
       "Dimensions:     (Model Runs: 114, index: 80)\n",
       "Coordinates:\n",
       "  * index       (index) int32 0 1 2 3 4 5 6 7 8 9 ... 71 72 73 74 75 76 77 78 79\n",
       "Dimensions without coordinates: Model Runs\n",
       "Data variables:\n",
       "    U Velocity  (Model Runs, index) float64 0.003122 0.007679 ... 1.6 1.61\n",
       "    Q           (Model Runs, index) float64 0.06818 0.1382 ... 0.1392 0.1053\n",
       "    Q2          (Model Runs, index) float64 0.004648 0.01911 ... 0.01936 0.01108\n",
       "    Q2L         (Model Runs, index) float64 0.0009885 0.01047 ... 0.01183\n",
       "    Z           (Model Runs, index) float64 -67.17 -66.32 ... -1.351 -0.4503\n",
       "    Kq          (Model Runs, index) float64 0.0029 0.01514 ... 0.06322 0.02246\n",
       "    nu_t        (Model Runs, index) float64 0.005684 0.02968 ... 0.1239 0.04403\n",
       "Attributes:\n",
       "    description:  Model run results for Bay-side sites.</pre><div class='xr-wrap' hidden><div class='xr-header'><div class='xr-obj-type'>xarray.Dataset</div></div><ul class='xr-sections'><li class='xr-section-item'><input id='section-1747b7ce-d1ef-4221-a418-38f6fd59fe89' class='xr-section-summary-in' type='checkbox' disabled ><label for='section-1747b7ce-d1ef-4221-a418-38f6fd59fe89' class='xr-section-summary'  title='Expand/collapse section'>Dimensions:</label><div class='xr-section-inline-details'><ul class='xr-dim-list'><li><span>Model Runs</span>: 114</li><li><span class='xr-has-index'>index</span>: 80</li></ul></div><div class='xr-section-details'></div></li><li class='xr-section-item'><input id='section-20c2f93b-a02a-454d-b4c7-f6c2c7ba67a1' class='xr-section-summary-in' type='checkbox'  checked><label for='section-20c2f93b-a02a-454d-b4c7-f6c2c7ba67a1' class='xr-section-summary' >Coordinates: <span>(1)</span></label><div class='xr-section-inline-details'></div><div class='xr-section-details'><ul class='xr-var-list'><li class='xr-var-item'><div class='xr-var-name'><span class='xr-has-index'>index</span></div><div class='xr-var-dims'>(index)</div><div class='xr-var-dtype'>int32</div><div class='xr-var-preview xr-preview'>0 1 2 3 4 5 6 ... 74 75 76 77 78 79</div><input id='attrs-fb355b20-f8d5-42e8-814b-c805e57345ca' class='xr-var-attrs-in' type='checkbox' disabled><label for='attrs-fb355b20-f8d5-42e8-814b-c805e57345ca' title='Show/Hide attributes'><svg class='icon xr-icon-file-text2'><use xlink:href='#icon-file-text2'></use></svg></label><input id='data-6c3bc7d7-8156-4a32-9f43-821f056e39bf' class='xr-var-data-in' type='checkbox'><label for='data-6c3bc7d7-8156-4a32-9f43-821f056e39bf' title='Show/Hide data repr'><svg class='icon xr-icon-database'><use xlink:href='#icon-database'></use></svg></label><div class='xr-var-attrs'><dl class='xr-attrs'></dl></div><div class='xr-var-data'><pre>array([ 0,  1,  2,  3,  4,  5,  6,  7,  8,  9, 10, 11, 12, 13, 14, 15, 16, 17,\n",
       "       18, 19, 20, 21, 22, 23, 24, 25, 26, 27, 28, 29, 30, 31, 32, 33, 34, 35,\n",
       "       36, 37, 38, 39, 40, 41, 42, 43, 44, 45, 46, 47, 48, 49, 50, 51, 52, 53,\n",
       "       54, 55, 56, 57, 58, 59, 60, 61, 62, 63, 64, 65, 66, 67, 68, 69, 70, 71,\n",
       "       72, 73, 74, 75, 76, 77, 78, 79])</pre></div></li></ul></div></li><li class='xr-section-item'><input id='section-fea257d9-d285-437f-aafa-7c43e7193ee3' class='xr-section-summary-in' type='checkbox'  checked><label for='section-fea257d9-d285-437f-aafa-7c43e7193ee3' class='xr-section-summary' >Data variables: <span>(7)</span></label><div class='xr-section-inline-details'></div><div class='xr-section-details'><ul class='xr-var-list'><li class='xr-var-item'><div class='xr-var-name'><span>U Velocity</span></div><div class='xr-var-dims'>(Model Runs, index)</div><div class='xr-var-dtype'>float64</div><div class='xr-var-preview xr-preview'>0.003122 0.007679 ... 1.6 1.61</div><input id='attrs-7404ea7a-127b-400b-a632-6531bd65770f' class='xr-var-attrs-in' type='checkbox' disabled><label for='attrs-7404ea7a-127b-400b-a632-6531bd65770f' title='Show/Hide attributes'><svg class='icon xr-icon-file-text2'><use xlink:href='#icon-file-text2'></use></svg></label><input id='data-9f9249f7-5f25-4fe8-a2c3-ec9b70c506dc' class='xr-var-data-in' type='checkbox'><label for='data-9f9249f7-5f25-4fe8-a2c3-ec9b70c506dc' title='Show/Hide data repr'><svg class='icon xr-icon-database'><use xlink:href='#icon-database'></use></svg></label><div class='xr-var-attrs'><dl class='xr-attrs'></dl></div><div class='xr-var-data'><pre>array([[ 3.122460e-03,  7.678820e-03,  1.126033e-02, ...,  2.136937e+00,\n",
       "         2.146933e+00,  2.156375e+00],\n",
       "       [ 2.730431e-03, -5.794936e-04, -3.373841e-04, ...,  1.043050e+00,\n",
       "         1.051358e+00,  1.059206e+00],\n",
       "       [ 3.082470e-03, -2.121948e-04,  6.827243e-04, ...,  7.892914e-01,\n",
       "         7.973807e-01,  8.050139e-01],\n",
       "       ...,\n",
       "       [-8.334176e-04,  3.171019e-03,  5.043106e-03, ...,  1.436743e+00,\n",
       "         1.446086e+00,  1.454947e+00],\n",
       "       [ 4.587025e-04,  3.748737e-04,  5.601790e-04, ...,  1.066450e+00,\n",
       "         1.076324e+00,  1.085654e+00],\n",
       "       [-6.309351e-04, -3.864823e-04, -1.126965e-03, ...,  1.589906e+00,\n",
       "         1.600156e+00,  1.609838e+00]])</pre></div></li><li class='xr-var-item'><div class='xr-var-name'><span>Q</span></div><div class='xr-var-dims'>(Model Runs, index)</div><div class='xr-var-dtype'>float64</div><div class='xr-var-preview xr-preview'>0.06818 0.1382 ... 0.1392 0.1053</div><input id='attrs-4031798f-ec06-4edb-9219-37c59b043e41' class='xr-var-attrs-in' type='checkbox' disabled><label for='attrs-4031798f-ec06-4edb-9219-37c59b043e41' title='Show/Hide attributes'><svg class='icon xr-icon-file-text2'><use xlink:href='#icon-file-text2'></use></svg></label><input id='data-dea6c673-3e4b-46b5-8af3-a25c1a081ba2' class='xr-var-data-in' type='checkbox'><label for='data-dea6c673-3e4b-46b5-8af3-a25c1a081ba2' title='Show/Hide data repr'><svg class='icon xr-icon-database'><use xlink:href='#icon-database'></use></svg></label><div class='xr-var-attrs'><dl class='xr-attrs'></dl></div><div class='xr-var-data'><pre>array([[0.068178, 0.138245, 0.201451, ..., 0.152508, 0.134093, 0.10138 ],\n",
       "       [0.023643, 0.048324, 0.071049, ..., 0.130571, 0.114918, 0.087018],\n",
       "       [0.016936, 0.03436 , 0.049851, ..., 0.132275, 0.11624 , 0.087678],\n",
       "       ...,\n",
       "       [0.016547, 0.03717 , 0.059552, ..., 0.15218 , 0.133908, 0.101285],\n",
       "       [0.022725, 0.04658 , 0.068673, ..., 0.159584, 0.140595, 0.106631],\n",
       "       [0.040556, 0.082645, 0.121098, ..., 0.158202, 0.139155, 0.105274]])</pre></div></li><li class='xr-var-item'><div class='xr-var-name'><span>Q2</span></div><div class='xr-var-dims'>(Model Runs, index)</div><div class='xr-var-dtype'>float64</div><div class='xr-var-preview xr-preview'>0.004648 0.01911 ... 0.01108</div><input id='attrs-5bcd3d2b-0a75-4a8a-a9da-9ffef80436da' class='xr-var-attrs-in' type='checkbox' disabled><label for='attrs-5bcd3d2b-0a75-4a8a-a9da-9ffef80436da' title='Show/Hide attributes'><svg class='icon xr-icon-file-text2'><use xlink:href='#icon-file-text2'></use></svg></label><input id='data-5cfa551e-7417-4cd4-a77a-3f7fbd41ddf9' class='xr-var-data-in' type='checkbox'><label for='data-5cfa551e-7417-4cd4-a77a-3f7fbd41ddf9' title='Show/Hide data repr'><svg class='icon xr-icon-database'><use xlink:href='#icon-database'></use></svg></label><div class='xr-var-attrs'><dl class='xr-attrs'></dl></div><div class='xr-var-data'><pre>array([[0.004648, 0.019112, 0.040583, ..., 0.023259, 0.017981, 0.010278],\n",
       "       [0.000559, 0.002335, 0.005048, ..., 0.017049, 0.013206, 0.007572],\n",
       "       [0.000287, 0.001181, 0.002485, ..., 0.017497, 0.013512, 0.007687],\n",
       "       ...,\n",
       "       [0.000274, 0.001382, 0.003546, ..., 0.023159, 0.017931, 0.010259],\n",
       "       [0.000516, 0.00217 , 0.004716, ..., 0.025467, 0.019767, 0.01137 ],\n",
       "       [0.001645, 0.00683 , 0.014665, ..., 0.025028, 0.019364, 0.011083]])</pre></div></li><li class='xr-var-item'><div class='xr-var-name'><span>Q2L</span></div><div class='xr-var-dims'>(Model Runs, index)</div><div class='xr-var-dtype'>float64</div><div class='xr-var-preview xr-preview'>0.0009885 0.01047 ... 0.01183</div><input id='attrs-9e9bf3bd-5d0b-4737-a73e-6ac987f3d5a7' class='xr-var-attrs-in' type='checkbox' disabled><label for='attrs-9e9bf3bd-5d0b-4737-a73e-6ac987f3d5a7' title='Show/Hide attributes'><svg class='icon xr-icon-file-text2'><use xlink:href='#icon-file-text2'></use></svg></label><input id='data-267c14c5-2468-4fb6-a7de-280cc78486a2' class='xr-var-data-in' type='checkbox'><label for='data-267c14c5-2468-4fb6-a7de-280cc78486a2' title='Show/Hide data repr'><svg class='icon xr-icon-database'><use xlink:href='#icon-database'></use></svg></label><div class='xr-var-attrs'><dl class='xr-attrs'></dl></div><div class='xr-var-data'><pre>array([[9.885500e-04, 1.046713e-02, 3.660868e-02, ..., 6.762959e-02,\n",
       "        3.810348e-02, 1.023634e-02],\n",
       "       [8.398324e-05, 8.925532e-04, 3.144344e-03, ..., 3.617594e-02,\n",
       "        2.039892e-02, 5.488259e-03],\n",
       "       [4.530815e-05, 4.740081e-04, 1.649230e-03, ..., 4.036030e-02,\n",
       "        2.270139e-02, 6.080284e-03],\n",
       "       ...,\n",
       "       [4.729936e-05, 6.024181e-04, 2.627079e-03, ..., 6.810273e-02,\n",
       "        3.847776e-02, 1.035572e-02],\n",
       "       [1.138691e-04, 1.213487e-03, 4.289395e-03, ..., 8.082637e-02,\n",
       "        4.561980e-02, 1.229265e-02],\n",
       "       [3.693081e-04, 3.918027e-03, 1.375626e-02, ..., 7.805011e-02,\n",
       "        4.399072e-02, 1.182530e-02]])</pre></div></li><li class='xr-var-item'><div class='xr-var-name'><span>Z</span></div><div class='xr-var-dims'>(Model Runs, index)</div><div class='xr-var-dtype'>float64</div><div class='xr-var-preview xr-preview'>-67.17 -66.32 ... -1.351 -0.4503</div><input id='attrs-aa97916d-d47f-45fd-90de-3dec3f6c25e5' class='xr-var-attrs-in' type='checkbox' disabled><label for='attrs-aa97916d-d47f-45fd-90de-3dec3f6c25e5' title='Show/Hide attributes'><svg class='icon xr-icon-file-text2'><use xlink:href='#icon-file-text2'></use></svg></label><input id='data-3f3cef3e-3712-45fd-bc25-48bf0773caf3' class='xr-var-data-in' type='checkbox'><label for='data-3f3cef3e-3712-45fd-bc25-48bf0773caf3' title='Show/Hide data repr'><svg class='icon xr-icon-database'><use xlink:href='#icon-database'></use></svg></label><div class='xr-var-attrs'><dl class='xr-attrs'></dl></div><div class='xr-var-data'><pre>array([[-67.167562, -66.322687, -65.477812, ...,  -2.112188,  -1.267313,\n",
       "         -0.422438],\n",
       "       [-48.246563, -47.639688, -47.032813, ...,  -1.517187,  -0.910313,\n",
       "         -0.303438],\n",
       "       [-56.156812, -55.450437, -54.744062, ...,  -1.765937,  -1.059562,\n",
       "         -0.353187],\n",
       "       ...,\n",
       "       [-69.8805  , -69.0015  , -68.1225  , ...,  -2.1975  ,  -1.3185  ,\n",
       "         -0.4395  ],\n",
       "       [-71.082937, -70.188812, -69.294687, ...,  -2.235312,  -1.341187,\n",
       "         -0.447063],\n",
       "       [-71.599688, -70.699062, -69.798437, ...,  -2.251562,  -1.350938,\n",
       "         -0.450312]])</pre></div></li><li class='xr-var-item'><div class='xr-var-name'><span>Kq</span></div><div class='xr-var-dims'>(Model Runs, index)</div><div class='xr-var-dtype'>float64</div><div class='xr-var-preview xr-preview'>0.0029 0.01514 ... 0.06322 0.02246</div><input id='attrs-bc5e2021-36a3-4f8e-ae05-b46949292a39' class='xr-var-attrs-in' type='checkbox' disabled><label for='attrs-bc5e2021-36a3-4f8e-ae05-b46949292a39' title='Show/Hide attributes'><svg class='icon xr-icon-file-text2'><use xlink:href='#icon-file-text2'></use></svg></label><input id='data-51814f5e-095d-4a66-8837-1331cd856fe1' class='xr-var-data-in' type='checkbox'><label for='data-51814f5e-095d-4a66-8837-1331cd856fe1' title='Show/Hide data repr'><svg class='icon xr-icon-database'><use xlink:href='#icon-database'></use></svg></label><div class='xr-var-attrs'><dl class='xr-attrs'></dl></div><div class='xr-var-data'><pre>array([[0.0029  , 0.015143, 0.036345, ..., 0.088687, 0.056829, 0.020193],\n",
       "       [0.00071 , 0.003693, 0.00885 , ..., 0.05541 , 0.0355  , 0.012613],\n",
       "       [0.000534, 0.002758, 0.006615, ..., 0.061022, 0.039057, 0.013869],\n",
       "       ...,\n",
       "       [0.000571, 0.00324 , 0.008821, ..., 0.0895  , 0.057467, 0.020448],\n",
       "       [0.001001, 0.005209, 0.012491, ..., 0.101293, 0.064893, 0.023055],\n",
       "       [0.001821, 0.009481, 0.022719, ..., 0.098668, 0.063223, 0.022465]])</pre></div></li><li class='xr-var-item'><div class='xr-var-name'><span>nu_t</span></div><div class='xr-var-dims'>(Model Runs, index)</div><div class='xr-var-dtype'>float64</div><div class='xr-var-preview xr-preview'>0.005684 0.02968 ... 0.1239 0.04403</div><input id='attrs-3942d9ae-77f9-4484-b89a-30ce33d20d3f' class='xr-var-attrs-in' type='checkbox' disabled><label for='attrs-3942d9ae-77f9-4484-b89a-30ce33d20d3f' title='Show/Hide attributes'><svg class='icon xr-icon-file-text2'><use xlink:href='#icon-file-text2'></use></svg></label><input id='data-24d2c96a-3b33-42ad-b8fa-c9048bf4b8fe' class='xr-var-data-in' type='checkbox'><label for='data-24d2c96a-3b33-42ad-b8fa-c9048bf4b8fe' title='Show/Hide data repr'><svg class='icon xr-icon-database'><use xlink:href='#icon-database'></use></svg></label><div class='xr-var-attrs'><dl class='xr-attrs'></dl></div><div class='xr-var-data'><pre>array([[0.005684, 0.02968 , 0.071237, ..., 0.173831, 0.111387, 0.039579],\n",
       "       [0.001391, 0.007238, 0.017346, ..., 0.108605, 0.069581, 0.024722],\n",
       "       [0.001046, 0.005404, 0.012965, ..., 0.119606, 0.076554, 0.027183],\n",
       "       ...,\n",
       "       [0.001118, 0.00635 , 0.017289, ..., 0.175424, 0.112636, 0.040077],\n",
       "       [0.001961, 0.010209, 0.024481, ..., 0.198539, 0.127192, 0.045189],\n",
       "       [0.003569, 0.018583, 0.044529, ..., 0.193394, 0.12392 , 0.044031]])</pre></div></li></ul></div></li><li class='xr-section-item'><input id='section-580560f5-6ec0-472b-ae15-24f2f21dc7ce' class='xr-section-summary-in' type='checkbox'  checked><label for='section-580560f5-6ec0-472b-ae15-24f2f21dc7ce' class='xr-section-summary' >Attributes: <span>(1)</span></label><div class='xr-section-inline-details'></div><div class='xr-section-details'><dl class='xr-attrs'><dt><span>description :</span></dt><dd>Model run results for Bay-side sites.</dd></dl></div></li></ul></div></div>"
      ],
      "text/plain": [
       "<xarray.Dataset>\n",
       "Dimensions:     (Model Runs: 114, index: 80)\n",
       "Coordinates:\n",
       "  * index       (index) int32 0 1 2 3 4 5 6 7 8 9 ... 71 72 73 74 75 76 77 78 79\n",
       "Dimensions without coordinates: Model Runs\n",
       "Data variables:\n",
       "    U Velocity  (Model Runs, index) float64 0.003122 0.007679 ... 1.6 1.61\n",
       "    Q           (Model Runs, index) float64 0.06818 0.1382 ... 0.1392 0.1053\n",
       "    Q2          (Model Runs, index) float64 0.004648 0.01911 ... 0.01936 0.01108\n",
       "    Q2L         (Model Runs, index) float64 0.0009885 0.01047 ... 0.01183\n",
       "    Z           (Model Runs, index) float64 -67.17 -66.32 ... -1.351 -0.4503\n",
       "    Kq          (Model Runs, index) float64 0.0029 0.01514 ... 0.06322 0.02246\n",
       "    nu_t        (Model Runs, index) float64 0.005684 0.02968 ... 0.1239 0.04403\n",
       "Attributes:\n",
       "    description:  Model run results for Bay-side sites."
      ]
     },
     "execution_count": 7,
     "metadata": {},
     "output_type": "execute_result"
    }
   ],
   "source": [
    "wc_ds"
   ]
  },
  {
   "cell_type": "code",
   "execution_count": 8,
   "metadata": {},
   "outputs": [
    {
     "data": {
      "text/html": [
       "<div>\n",
       "<style scoped>\n",
       "    .dataframe tbody tr th:only-of-type {\n",
       "        vertical-align: middle;\n",
       "    }\n",
       "\n",
       "    .dataframe tbody tr th {\n",
       "        vertical-align: top;\n",
       "    }\n",
       "\n",
       "    .dataframe thead th {\n",
       "        text-align: right;\n",
       "    }\n",
       "</style>\n",
       "<table border=\"1\" class=\"dataframe\">\n",
       "  <thead>\n",
       "    <tr style=\"text-align: right;\">\n",
       "      <th></th>\n",
       "      <th>plot_ID</th>\n",
       "      <th>mean_u</th>\n",
       "      <th>mean_u_25</th>\n",
       "      <th>mean_u_50</th>\n",
       "      <th>mean_u_75</th>\n",
       "      <th>Q2</th>\n",
       "      <th>Hveg/WC</th>\n",
       "      <th>wc_height</th>\n",
       "      <th>avg_ht</th>\n",
       "      <th>density_total</th>\n",
       "      <th>frontal_total</th>\n",
       "      <th>site</th>\n",
       "      <th>lon</th>\n",
       "      <th>lat</th>\n",
       "      <th>Z</th>\n",
       "      <th>Runtype</th>\n",
       "    </tr>\n",
       "  </thead>\n",
       "  <tbody>\n",
       "    <tr>\n",
       "      <th>52</th>\n",
       "      <td>H2</td>\n",
       "      <td>12.684461</td>\n",
       "      <td>11.450250</td>\n",
       "      <td>12.064790</td>\n",
       "      <td>12.427231</td>\n",
       "      <td>0.948783</td>\n",
       "      <td>10.327530</td>\n",
       "      <td>0.6778</td>\n",
       "      <td>7.0</td>\n",
       "      <td>4413.367659</td>\n",
       "      <td>8318.315364</td>\n",
       "      <td>Interior</td>\n",
       "      <td>-122.144146</td>\n",
       "      <td>37.588105</td>\n",
       "      <td>[-67.356375, -66.509125, -65.661875, -64.81462...</td>\n",
       "      <td>Baseline Run</td>\n",
       "    </tr>\n",
       "    <tr>\n",
       "      <th>22</th>\n",
       "      <td>D2</td>\n",
       "      <td>0.976251</td>\n",
       "      <td>0.089328</td>\n",
       "      <td>0.447878</td>\n",
       "      <td>0.742467</td>\n",
       "      <td>0.272199</td>\n",
       "      <td>16.672224</td>\n",
       "      <td>0.8997</td>\n",
       "      <td>15.0</td>\n",
       "      <td>5989.570395</td>\n",
       "      <td>24191.019171</td>\n",
       "      <td>Creek</td>\n",
       "      <td>inf</td>\n",
       "      <td>inf</td>\n",
       "      <td>[-89.4076875, -88.2830625, -87.1584375, -86.03...</td>\n",
       "      <td>Vegetated Run</td>\n",
       "    </tr>\n",
       "    <tr>\n",
       "      <th>43</th>\n",
       "      <td>F24</td>\n",
       "      <td>12.584471</td>\n",
       "      <td>11.359951</td>\n",
       "      <td>11.969665</td>\n",
       "      <td>12.329261</td>\n",
       "      <td>0.933866</td>\n",
       "      <td>29.976019</td>\n",
       "      <td>0.6672</td>\n",
       "      <td>20.0</td>\n",
       "      <td>5674.329848</td>\n",
       "      <td>30557.076848</td>\n",
       "      <td>Interior</td>\n",
       "      <td>-122.143075</td>\n",
       "      <td>37.587542</td>\n",
       "      <td>[-66.30299999999998, -65.46899999999998, -64.6...</td>\n",
       "      <td>Baseline Run</td>\n",
       "    </tr>\n",
       "    <tr>\n",
       "      <th>35</th>\n",
       "      <td>I6</td>\n",
       "      <td>12.574049</td>\n",
       "      <td>11.350539</td>\n",
       "      <td>11.959750</td>\n",
       "      <td>12.319050</td>\n",
       "      <td>0.932318</td>\n",
       "      <td>24.020417</td>\n",
       "      <td>0.6661</td>\n",
       "      <td>16.0</td>\n",
       "      <td>4728.608206</td>\n",
       "      <td>20371.384565</td>\n",
       "      <td>Creek</td>\n",
       "      <td>-122.141991</td>\n",
       "      <td>37.583925</td>\n",
       "      <td>[-66.19368750000001, -65.36106250000002, -64.5...</td>\n",
       "      <td>Baseline Run</td>\n",
       "    </tr>\n",
       "    <tr>\n",
       "      <th>62</th>\n",
       "      <td>A48</td>\n",
       "      <td>12.210515</td>\n",
       "      <td>11.022233</td>\n",
       "      <td>11.613902</td>\n",
       "      <td>11.962857</td>\n",
       "      <td>0.879125</td>\n",
       "      <td>25.465542</td>\n",
       "      <td>0.6283</td>\n",
       "      <td>16.0</td>\n",
       "      <td>5989.570395</td>\n",
       "      <td>25803.753783</td>\n",
       "      <td>Bay</td>\n",
       "      <td>-122.144620</td>\n",
       "      <td>37.583583</td>\n",
       "      <td>[-62.43731249999998, -61.65193749999998, -60.8...</td>\n",
       "      <td>Baseline Run</td>\n",
       "    </tr>\n",
       "  </tbody>\n",
       "</table>\n",
       "</div>"
      ],
      "text/plain": [
       "   plot_ID     mean_u  mean_u_25  mean_u_50  mean_u_75        Q2    Hveg/WC  \\\n",
       "52      H2  12.684461  11.450250  12.064790  12.427231  0.948783  10.327530   \n",
       "22      D2   0.976251   0.089328   0.447878   0.742467  0.272199  16.672224   \n",
       "43     F24  12.584471  11.359951  11.969665  12.329261  0.933866  29.976019   \n",
       "35      I6  12.574049  11.350539  11.959750  12.319050  0.932318  24.020417   \n",
       "62     A48  12.210515  11.022233  11.613902  11.962857  0.879125  25.465542   \n",
       "\n",
       "    wc_height  avg_ht  density_total  frontal_total      site         lon  \\\n",
       "52     0.6778     7.0    4413.367659    8318.315364  Interior -122.144146   \n",
       "22     0.8997    15.0    5989.570395   24191.019171     Creek         inf   \n",
       "43     0.6672    20.0    5674.329848   30557.076848  Interior -122.143075   \n",
       "35     0.6661    16.0    4728.608206   20371.384565     Creek -122.141991   \n",
       "62     0.6283    16.0    5989.570395   25803.753783       Bay -122.144620   \n",
       "\n",
       "          lat                                                  Z  \\\n",
       "52  37.588105  [-67.356375, -66.509125, -65.661875, -64.81462...   \n",
       "22        inf  [-89.4076875, -88.2830625, -87.1584375, -86.03...   \n",
       "43  37.587542  [-66.30299999999998, -65.46899999999998, -64.6...   \n",
       "35  37.583925  [-66.19368750000001, -65.36106250000002, -64.5...   \n",
       "62  37.583583  [-62.43731249999998, -61.65193749999998, -60.8...   \n",
       "\n",
       "          Runtype  \n",
       "52   Baseline Run  \n",
       "22  Vegetated Run  \n",
       "43   Baseline Run  \n",
       "35   Baseline Run  \n",
       "62   Baseline Run  "
      ]
     },
     "execution_count": 8,
     "metadata": {},
     "output_type": "execute_result"
    }
   ],
   "source": [
    "a = len(wc_ds['U Velocity'])\n",
    "df1 = pd.DataFrame({\n",
    "    'plot_ID': df['plot_ID'],\n",
    "    'mean_u': ([vel.values.mean() for vel in wc_ds['U Velocity']]),\n",
    "    'mean_u_25': ([vel[:20].values.mean() for vel in wc_ds['U Velocity']]),\n",
    "    'mean_u_50': ([vel[:40].values.mean() for vel in wc_ds['U Velocity']]),\n",
    "    'mean_u_75': ([vel[:60].values.mean() for vel in wc_ds['U Velocity']]),\n",
    "    'Q2': ([val.values.max() for val in wc_ds['Q2']]),\n",
    "    'Hveg/WC': df['ave_ht']/df['wc_height'],\n",
    "    'wc_height': df['wc_height'],\n",
    "    'avg_ht': df['ave_ht'],\n",
    "    'density_total': df['density_final'],\n",
    "    'frontal_total': df['frontal_total'],\n",
    "    'site': df['site'],\n",
    "    'lon': df['Lon'],\n",
    "    'lat': df['Lat'],\n",
    "    'Z': [vel.values for vel in wc_ds['Z']],\n",
    "    'Runtype': np.repeat('Vegetated Run',a)\n",
    "})\n",
    "df2 = pd.DataFrame({\n",
    "    'plot_ID': df['plot_ID'],\n",
    "    'mean_u': ([vel.values.mean() for vel in base_wc_ds['U Velocity']]),\n",
    "    'mean_u_25': ([vel[:20].values.mean() for vel in base_wc_ds['U Velocity']]),\n",
    "    'mean_u_50': ([vel[:40].values.mean() for vel in base_wc_ds['U Velocity']]),\n",
    "    'mean_u_75': ([vel[:60].values.mean() for vel in base_wc_ds['U Velocity']]),\n",
    "    'Q2': ([val.values.max() for val in base_wc_ds['Q2']]),\n",
    "    'Hveg/WC': df['ave_ht']/df['wc_height'],\n",
    "    'wc_height': df['wc_height'],\n",
    "    'avg_ht': df['ave_ht'],\n",
    "    'density_total': df['density_final'],\n",
    "    'frontal_total': df['frontal_total'],\n",
    "    'site': df['site'],\n",
    "    'lon': df['Lon'],\n",
    "    'lat': df['Lat'],\n",
    "    'Z': [vel.values for vel in wc_ds['Z']],\n",
    "    'Runtype': np.repeat('Baseline Run',a)\n",
    "})\n",
    "dff = pd.concat([df1, df2])\n",
    "dff.sample(5)"
   ]
  },
  {
   "cell_type": "markdown",
   "metadata": {},
   "source": [
    "Calculating Mean Top and Bottom Velocities (Above and Under Vegetation in Water Column)"
   ]
  },
  {
   "cell_type": "code",
   "execution_count": 9,
   "metadata": {},
   "outputs": [],
   "source": [
    "def get_top_bot_u(dataarr):\n",
    "    u = dataarr.to_dataframe()\n",
    "    utop = np.array([])\n",
    "    ubot = []\n",
    "    run_count = u.shape[0] / dataarr.shape[1]\n",
    "    for i in range(int(run_count)):\n",
    "        index_top = np.where(dff['Z'].iloc[i] <= (-dff['avg_ht'].iloc[i]))\n",
    "        index_bot = np.where(dff['Z'].iloc[i] > (-dff['avg_ht'].iloc[i]))\n",
    "        utop = np.append(utop, u['U Velocity'].iloc[index_top].values.mean())\n",
    "        ubot = np.append(ubot, u['U Velocity'].iloc[index_bot].values.mean())\n",
    "    return ubot, utop"
   ]
  },
  {
   "cell_type": "code",
   "execution_count": 10,
   "metadata": {},
   "outputs": [],
   "source": [
    "ubot, utop = get_top_bot_u(wc_ds['U Velocity'])\n",
    "du = ubot - utop\n",
    "ubot_base, utop_base = get_top_bot_u(base_wc_ds['U Velocity'])\n",
    "du_base = ubot_base - utop_base"
   ]
  },
  {
   "cell_type": "code",
   "execution_count": 11,
   "metadata": {},
   "outputs": [],
   "source": [
    "df1['U Bottom'] = ubot\n",
    "df2['U Bottom'] = ubot_base\n",
    "dff['U Bottom'] = np.append(ubot, ubot_base)\n",
    "\n",
    "df1['U Top'] = utop\n",
    "df2['U Top'] = utop_base\n",
    "dff['U Top'] = np.append(utop, utop_base)\n",
    "\n",
    "df1['dTopBottom'] = du\n",
    "df2['dTopBottom'] = du_base\n",
    "dff['dTopBottom'] = np.append(du, du_base)\n",
    "dff = dff.reset_index()"
   ]
  },
  {
   "cell_type": "code",
   "execution_count": 12,
   "metadata": {},
   "outputs": [
    {
     "data": {
      "text/plain": [
       "count    114.000000\n",
       "mean      13.442191\n",
       "std        0.048264\n",
       "min       13.249585\n",
       "25%       13.416856\n",
       "50%       13.450350\n",
       "75%       13.474114\n",
       "max       13.522183\n",
       "Name: U Bottom, dtype: float64"
      ]
     },
     "execution_count": 12,
     "metadata": {},
     "output_type": "execute_result"
    }
   ],
   "source": [
    "df2['U Bottom'].describe()"
   ]
  },
  {
   "cell_type": "markdown",
   "metadata": {},
   "source": [
    "Dropping invalid location values from dataframe"
   ]
  },
  {
   "cell_type": "code",
   "execution_count": 13,
   "metadata": {},
   "outputs": [],
   "source": [
    "#dff = dff.replace([np.inf, -np.inf], np.nan)\n",
    "#dff = dff.dropna()"
   ]
  },
  {
   "cell_type": "markdown",
   "metadata": {},
   "source": [
    "## EDA and Scatterplots"
   ]
  },
  {
   "cell_type": "code",
   "execution_count": 14,
   "metadata": {},
   "outputs": [
    {
     "data": {
      "application/vnd.plotly.v1+json": {
       "config": {
        "plotlyServerURL": "https://plot.ly"
       },
       "data": [
        {
         "hovertemplate": "site=Bay<br>Runtype=Vegetated Run<br>Q2=%{x}<br>avg_ht=%{y}<extra></extra>",
         "legendgroup": "Bay, Vegetated Run",
         "marker": {
          "color": "#636efa",
          "symbol": "circle"
         },
         "mode": "markers",
         "name": "Bay, Vegetated Run",
         "orientation": "v",
         "showlegend": true,
         "type": "scatter",
         "x": [
          0.24390816761419343,
          0.12702809420400155,
          0.11013982671835493,
          0.1363575670075969,
          0.15145160875620933,
          0.15643670460914177,
          0.13440275561291568,
          0.24078259890224765,
          0.16104227265542145,
          0.14485351854457876,
          0.12766205468175207,
          0.0923412292858953,
          0.18338152235982935,
          0.1472469048721474,
          0.23986632562649557,
          0.17545783553321964,
          0.09975652184856383,
          0.08854550096079324,
          0.1345888121990549,
          0.18159977054148882,
          0.1160771067326177,
          0.2243711257066961,
          0.09222426669582424,
          0.12183663860431031,
          0.1326724081797756,
          0.16017104207484076,
          0.1593479156402609,
          0.19633106717273585,
          0.19926582443958857,
          0.12409087387818059,
          0.14519768291173438,
          0.1649038184502154,
          0.1420450599856811,
          0.13317873979535164,
          0.19606921387534254,
          0.17364484298086288,
          0.1478967855050702,
          0.19814312357851988,
          0.0662064640185376,
          0.07368049445370027,
          0.13305318030731025,
          0.11380162993224015
         ],
         "xaxis": "x",
         "y": [
          6.5,
          11,
          19,
          15,
          11,
          16,
          24,
          6,
          7,
          13,
          18,
          26,
          11,
          20,
          6,
          8,
          19,
          25,
          14,
          9,
          21,
          10,
          18,
          18,
          16,
          13,
          16,
          13,
          12,
          11,
          13,
          11,
          16,
          20,
          13,
          13,
          12,
          4,
          30,
          27,
          17,
          23
         ],
         "yaxis": "y"
        },
        {
         "hovertemplate": "<b>OLS trendline</b><br>avg_ht = -116.314 * Q2 + 32.4581<br>R<sup>2</sup>=0.681552<br><br>site=Bay<br>Runtype=Vegetated Run<br>Q2=%{x}<br>avg_ht=%{y} <b>(trend)</b><extra></extra>",
         "legendgroup": "Bay, Vegetated Run",
         "marker": {
          "color": "#636efa",
          "symbol": "circle"
         },
         "mode": "lines",
         "name": "Bay, Vegetated Run",
         "showlegend": false,
         "type": "scatter",
         "x": [
          0.0662064640185376,
          0.07368049445370027,
          0.08854550096079324,
          0.09222426669582424,
          0.0923412292858953,
          0.09975652184856383,
          0.11013982671835493,
          0.11380162993224015,
          0.1160771067326177,
          0.12183663860431031,
          0.12409087387818059,
          0.12702809420400155,
          0.12766205468175207,
          0.1326724081797756,
          0.13305318030731025,
          0.13317873979535164,
          0.13440275561291568,
          0.1345888121990549,
          0.1363575670075969,
          0.1420450599856811,
          0.14485351854457876,
          0.14519768291173438,
          0.1472469048721474,
          0.1478967855050702,
          0.15145160875620933,
          0.15643670460914177,
          0.1593479156402609,
          0.16017104207484076,
          0.16104227265542145,
          0.1649038184502154,
          0.17364484298086288,
          0.17545783553321964,
          0.18159977054148882,
          0.18338152235982935,
          0.19606921387534254,
          0.19633106717273585,
          0.19814312357851988,
          0.19926582443958857,
          0.2243711257066961,
          0.23986632562649557,
          0.24078259890224765,
          0.24390816761419343
         ],
         "xaxis": "x",
         "y": [
          24.757340358031776,
          23.888003652773214,
          22.158990653344347,
          21.73109754918142,
          21.717493126029417,
          20.854988475977336,
          19.647261517476814,
          19.221341397284675,
          18.956670879591037,
          18.286754894553983,
          18.024555070394268,
          17.68291431005502,
          17.609175633477125,
          17.026399815270587,
          16.982110567363872,
          16.967506201942193,
          16.825135644683108,
          16.80349460093983,
          16.597763102920496,
          15.936226272204966,
          15.60956234815123,
          15.56953110669376,
          15.331177264966307,
          15.25558684649831,
          14.84211002703249,
          14.262272034428428,
          13.923656527298718,
          13.82791514266609,
          13.726578557404242,
          13.277425516408073,
          12.260719265078503,
          12.049842284338752,
          11.335447341700988,
          11.128204105433525,
          9.652444000478432,
          9.621986714440897,
          9.411218620945348,
          9.280632443110072,
          6.3605266076572065,
          4.558213095227952,
          4.451637399882735,
          4.0880890266624625
         ],
         "yaxis": "y"
        },
        {
         "hovertemplate": "site=Bay<br>Runtype=Baseline Run<br>Q2=%{x}<br>avg_ht=%{y}<extra></extra>",
         "legendgroup": "Bay, Baseline Run",
         "marker": {
          "color": "#636efa",
          "symbol": "diamond"
         },
         "mode": "markers",
         "name": "Bay, Baseline Run",
         "orientation": "v",
         "showlegend": true,
         "type": "scatter",
         "x": [
          0.946109316004206,
          0.6444590264485041,
          0.7901876140326107,
          0.7907505074813672,
          0.8188951887588701,
          0.8791248570244761,
          0.946812934537952,
          0.9268301701257985,
          0.6687876199092213,
          0.7768188968066977,
          0.8084816547272895,
          0.8226947219891233,
          0.8753253201260739,
          0.9325998411139633,
          0.8587199392185118,
          0.7693605617147052,
          0.7322096317373311,
          0.7614800582511523,
          0.7561325746903425,
          0.8173472308581631,
          0.847039885813879,
          0.946109316004206,
          0.6444590264485041,
          0.7901876140326107,
          0.7907505074813672,
          0.8188951887588701,
          0.8791248570244761,
          0.946812934537952,
          0.9268301701257985,
          0.6687876199092213,
          0.7768188968066977,
          0.8084816547272895,
          0.8226947219891233,
          0.8753253201260739,
          0.9325998411139633,
          0.8587199392185118,
          0.7693605617147052,
          0.7322096317373311,
          0.7614800582511523,
          0.7561325746903425,
          0.8173472308581631,
          0.847039885813879
         ],
         "xaxis": "x",
         "y": [
          6.5,
          11,
          19,
          15,
          11,
          16,
          24,
          6,
          7,
          13,
          18,
          26,
          11,
          20,
          6,
          8,
          19,
          25,
          14,
          9,
          21,
          10,
          18,
          18,
          16,
          13,
          16,
          13,
          12,
          11,
          13,
          11,
          16,
          20,
          13,
          13,
          12,
          4,
          30,
          27,
          17,
          23
         ],
         "yaxis": "y"
        },
        {
         "hovertemplate": "<b>OLS trendline</b><br>avg_ht = -2.45723 * Q2 + 17.0448<br>R<sup>2</sup>=0.001097<br><br>site=Bay<br>Runtype=Baseline Run<br>Q2=%{x}<br>avg_ht=%{y} <b>(trend)</b><extra></extra>",
         "legendgroup": "Bay, Baseline Run",
         "marker": {
          "color": "#636efa",
          "symbol": "diamond"
         },
         "mode": "lines",
         "name": "Bay, Baseline Run",
         "showlegend": false,
         "type": "scatter",
         "x": [
          0.6444590264485041,
          0.6444590264485041,
          0.6687876199092213,
          0.6687876199092213,
          0.7322096317373311,
          0.7322096317373311,
          0.7561325746903425,
          0.7561325746903425,
          0.7614800582511523,
          0.7614800582511523,
          0.7693605617147052,
          0.7693605617147052,
          0.7768188968066977,
          0.7768188968066977,
          0.7901876140326107,
          0.7901876140326107,
          0.7907505074813672,
          0.7907505074813672,
          0.8084816547272895,
          0.8084816547272895,
          0.8173472308581631,
          0.8173472308581631,
          0.8188951887588701,
          0.8188951887588701,
          0.8226947219891233,
          0.8226947219891233,
          0.847039885813879,
          0.847039885813879,
          0.8587199392185118,
          0.8587199392185118,
          0.8753253201260739,
          0.8753253201260739,
          0.8791248570244761,
          0.8791248570244761,
          0.9268301701257985,
          0.9268301701257985,
          0.9325998411139633,
          0.9325998411139633,
          0.946109316004206,
          0.946109316004206,
          0.946812934537952,
          0.946812934537952
         ],
         "xaxis": "x",
         "y": [
          15.461227916269388,
          15.461227916269388,
          15.40144696285251,
          15.40144696285251,
          15.245604483063337,
          15.245604483063337,
          15.186820306305327,
          15.186820306305327,
          15.173680308460304,
          15.173680308460304,
          15.154316097733659,
          15.154316097733659,
          15.135989251858998,
          15.135989251858998,
          15.103139236792728,
          15.103139236792728,
          15.10175607803786,
          15.10175607803786,
          15.05818656838874,
          15.05818656838874,
          15.036401807401662,
          15.036401807401662,
          15.032598118573416,
          15.032598118573416,
          15.023261790955036,
          15.023261790955036,
          14.963440120340007,
          14.963440120340007,
          14.934739540932636,
          14.934739540932636,
          14.893936298274678,
          14.893936298274678,
          14.88459996164281,
          14.88459996164281,
          14.767377027861105,
          14.767377027861105,
          14.753199618339625,
          14.753199618339625,
          14.720003729296385,
          14.720003729296385,
          14.718274776619484,
          14.718274776619484
         ],
         "yaxis": "y"
        },
        {
         "hovertemplate": "site=Creek<br>Runtype=Vegetated Run<br>Q2=%{x}<br>avg_ht=%{y}<extra></extra>",
         "legendgroup": "Creek, Vegetated Run",
         "marker": {
          "color": "#EF553B",
          "symbol": "circle"
         },
         "mode": "markers",
         "name": "Creek, Vegetated Run",
         "orientation": "v",
         "showlegend": true,
         "type": "scatter",
         "x": [
          0.2173194213859924,
          0.2721985859607787,
          0.16558552868188783,
          0.15539366809477684,
          0.19044729582598693,
          0.20433108502150074,
          0.2255116520437461,
          0.1892115480020254,
          0.15293570725819886,
          0.19485425283833435,
          0.17130614016829768,
          0.16083704766450369,
          0.2447179760250613,
          0.26088812522318855,
          0.17336787266067064,
          0.14998356598257293,
          0.18200936301768725,
          0.16162506501244486,
          0.2361814024156617,
          0.2576771050866992,
          0.16939757860802757,
          0.12345222227125913,
          0.21587970650543287,
          0.13768728487471932,
          0.24650263044695248,
          0.21828344533810357,
          0.16685490838964168,
          0.19887315402861722,
          0.18696323739484172,
          0.19039960720354768,
          0.30624075682089363,
          0.31885376469268023,
          0.1891420198793405,
          0.154334551064924,
          0.16855313525286053,
          0.2028873492500981
         ],
         "xaxis": "x",
         "y": [
          18,
          15,
          16,
          20,
          14,
          13,
          13,
          18,
          20,
          14,
          18,
          19,
          17,
          19,
          16,
          19,
          15,
          18,
          16,
          17,
          15,
          25,
          11,
          24,
          10,
          13,
          17,
          12,
          15,
          14,
          9,
          11,
          13,
          19,
          17,
          11
         ],
         "yaxis": "y"
        },
        {
         "hovertemplate": "<b>OLS trendline</b><br>avg_ht = -50.0155 * Q2 + 25.8096<br>R<sup>2</sup>=0.396032<br><br>site=Creek<br>Runtype=Vegetated Run<br>Q2=%{x}<br>avg_ht=%{y} <b>(trend)</b><extra></extra>",
         "legendgroup": "Creek, Vegetated Run",
         "marker": {
          "color": "#EF553B",
          "symbol": "circle"
         },
         "mode": "lines",
         "name": "Creek, Vegetated Run",
         "showlegend": false,
         "type": "scatter",
         "x": [
          0.12345222227125913,
          0.13768728487471932,
          0.14998356598257293,
          0.15293570725819886,
          0.154334551064924,
          0.15539366809477684,
          0.16083704766450369,
          0.16162506501244486,
          0.16558552868188783,
          0.16685490838964168,
          0.16855313525286053,
          0.16939757860802757,
          0.17130614016829768,
          0.17336787266067064,
          0.18200936301768725,
          0.18696323739484172,
          0.1891420198793405,
          0.1892115480020254,
          0.19039960720354768,
          0.19044729582598693,
          0.19485425283833435,
          0.19887315402861722,
          0.2028873492500981,
          0.20433108502150074,
          0.21587970650543287,
          0.2173194213859924,
          0.21828344533810357,
          0.2255116520437461,
          0.2361814024156617,
          0.2447179760250613,
          0.24650263044695248,
          0.2576771050866992,
          0.26088812522318855,
          0.2721985859607787,
          0.30624075682089363,
          0.31885376469268023
         ],
         "xaxis": "x",
         "y": [
          19.63506589716115,
          18.923092752123598,
          18.308088647364944,
          18.160435955757414,
          18.090472145113665,
          18.037499924076585,
          17.765246813580987,
          17.725833766713073,
          17.527749370944075,
          17.464260766225422,
          17.379323175540065,
          17.33708795619946,
          17.241630379761897,
          17.138511889333614,
          16.706303809981627,
          16.458533524829086,
          16.34956072568844,
          16.34608324493859,
          16.286661922408328,
          16.284276754218602,
          16.063860790374253,
          15.862853615362226,
          15.662081811525006,
          15.589872708804313,
          15.012263140950019,
          14.940255144917732,
          14.892039047511227,
          14.530516994215379,
          13.996864565654098,
          13.569903945259535,
          13.48064364082995,
          12.92174719793907,
          12.761146562097853,
          12.195448712535292,
          10.492814019148666,
          9.861968680914853
         ],
         "yaxis": "y"
        },
        {
         "hovertemplate": "site=Creek<br>Runtype=Baseline Run<br>Q2=%{x}<br>avg_ht=%{y}<extra></extra>",
         "legendgroup": "Creek, Baseline Run",
         "marker": {
          "color": "#EF553B",
          "symbol": "diamond"
         },
         "mode": "markers",
         "name": "Creek, Baseline Run",
         "orientation": "v",
         "showlegend": true,
         "type": "scatter",
         "x": [
          1.1260950296745766,
          1.2610491050251804,
          0.902062806310896,
          0.9570857656602717,
          0.9584930028754789,
          0.9746762320625081,
          1.0454602896430911,
          1.035609624076446,
          0.9437170130256399,
          0.9493459612983955,
          0.9662328078668934,
          0.9610260299067344,
          1.1973012638434732,
          1.3176199916130853,
          0.9323183937404541,
          0.9273930648405134,
          0.9413247101034238,
          0.9362586570461643,
          1.1260950296745766,
          1.2610491050251804,
          0.902062806310896,
          0.9570857656602717,
          0.9584930028754789,
          0.9746762320625081,
          1.0454602896430911,
          1.035609624076446,
          0.9437170130256399,
          0.9493459612983955,
          0.9662328078668934,
          0.9610260299067344,
          1.1973012638434732,
          1.3176199916130853,
          0.9323183937404541,
          0.9273930648405134,
          0.9413247101034238,
          0.9362586570461643
         ],
         "xaxis": "x",
         "y": [
          18,
          15,
          16,
          20,
          14,
          13,
          13,
          18,
          20,
          14,
          18,
          19,
          17,
          19,
          16,
          19,
          15,
          18,
          16,
          17,
          15,
          25,
          11,
          24,
          10,
          13,
          17,
          12,
          15,
          14,
          9,
          11,
          13,
          19,
          17,
          11
         ],
         "yaxis": "y"
        },
        {
         "hovertemplate": "<b>OLS trendline</b><br>avg_ht = -4.42616 * Q2 + 20.3692<br>R<sup>2</sup>=0.022181<br><br>site=Creek<br>Runtype=Baseline Run<br>Q2=%{x}<br>avg_ht=%{y} <b>(trend)</b><extra></extra>",
         "legendgroup": "Creek, Baseline Run",
         "marker": {
          "color": "#EF553B",
          "symbol": "diamond"
         },
         "mode": "lines",
         "name": "Creek, Baseline Run",
         "showlegend": false,
         "type": "scatter",
         "x": [
          0.902062806310896,
          0.902062806310896,
          0.9273930648405134,
          0.9273930648405134,
          0.9323183937404541,
          0.9323183937404541,
          0.9362586570461643,
          0.9362586570461643,
          0.9413247101034238,
          0.9413247101034238,
          0.9437170130256399,
          0.9437170130256399,
          0.9493459612983955,
          0.9493459612983955,
          0.9570857656602717,
          0.9570857656602717,
          0.9584930028754789,
          0.9584930028754789,
          0.9610260299067344,
          0.9610260299067344,
          0.9662328078668934,
          0.9662328078668934,
          0.9746762320625081,
          0.9746762320625081,
          1.035609624076446,
          1.035609624076446,
          1.0454602896430911,
          1.0454602896430911,
          1.1260950296745766,
          1.1260950296745766,
          1.1973012638434732,
          1.1973012638434732,
          1.2610491050251804,
          1.2610491050251804,
          1.3176199916130853,
          1.3176199916130853
         ],
         "xaxis": "x",
         "y": [
          16.376498281858026,
          16.376498281858026,
          16.26438242416729,
          16.26438242416729,
          16.24258211473183,
          16.24258211473183,
          16.22514186636127,
          16.22514186636127,
          16.20271868884189,
          16.20271868884189,
          16.192129965727723,
          16.192129965727723,
          16.16721532213027,
          16.16721532213027,
          16.13295768502895,
          16.13295768502895,
          16.12672902347886,
          16.12672902347886,
          16.115517432494464,
          16.115517432494464,
          16.0924713835911,
          16.0924713835911,
          16.05509941028766,
          16.05509941028766,
          15.785398274009845,
          15.785398274009845,
          15.741797620761965,
          15.741797620761965,
          15.384895103255907,
          15.384895103255907,
          15.069724691258777,
          15.069724691258777,
          14.787566343697371,
          14.787566343697371,
          14.537174368316919,
          14.537174368316919
         ],
         "yaxis": "y"
        },
        {
         "hovertemplate": "site=Interior<br>Runtype=Vegetated Run<br>Q2=%{x}<br>avg_ht=%{y}<extra></extra>",
         "legendgroup": "Interior, Vegetated Run",
         "marker": {
          "color": "#00cc96",
          "symbol": "circle"
         },
         "mode": "markers",
         "name": "Interior, Vegetated Run",
         "orientation": "v",
         "showlegend": true,
         "type": "scatter",
         "x": [
          0.12787554220985198,
          0.15195956128338495,
          0.14807427191533834,
          0.14740720361231732,
          0.13382886540819933,
          0.18175810312612828,
          0.28551756932714795,
          0.20569876106065527,
          0.19891950398190192,
          0.18697445853249678,
          0.16751014825736116,
          0.15360103740979952,
          0.19711945042421558,
          0.2362858023602221,
          0.13602335598583468,
          0.15994878231682735,
          0.1568814486695281,
          0.13763457338062315,
          0.23808292407454015,
          0.2022813890559232,
          0.14432226240767015,
          0.15172050583892324,
          0.1549663877962454,
          0.1085245538765654,
          0.3009058574907426,
          0.1922868150892392,
          0.19754299039580386,
          0.17145227728656254,
          0.14923642144339935,
          0.20594103481100115,
          0.17953299757799773,
          0.19621059694984297,
          0.15785663682374973,
          0.14144696051727013,
          0.1668190001706712,
          0.21879162787116302
         ],
         "xaxis": "x",
         "y": [
          22,
          13,
          14,
          18,
          20,
          15,
          11,
          7,
          12,
          14,
          19,
          23,
          10,
          7,
          23,
          21,
          22,
          26,
          5,
          6,
          15,
          17,
          19,
          22,
          9,
          6,
          11,
          14,
          22,
          14,
          12,
          13,
          19,
          14,
          20,
          12
         ],
         "yaxis": "y"
        },
        {
         "hovertemplate": "<b>OLS trendline</b><br>avg_ht = -98.5695 * Q2 + 32.6931<br>R<sup>2</sup>=0.532591<br><br>site=Interior<br>Runtype=Vegetated Run<br>Q2=%{x}<br>avg_ht=%{y} <b>(trend)</b><extra></extra>",
         "legendgroup": "Interior, Vegetated Run",
         "marker": {
          "color": "#00cc96",
          "symbol": "circle"
         },
         "mode": "lines",
         "name": "Interior, Vegetated Run",
         "showlegend": false,
         "type": "scatter",
         "x": [
          0.1085245538765654,
          0.12787554220985198,
          0.13382886540819933,
          0.13602335598583468,
          0.13763457338062315,
          0.14144696051727013,
          0.14432226240767015,
          0.14740720361231732,
          0.14807427191533834,
          0.14923642144339935,
          0.15172050583892324,
          0.15195956128338495,
          0.15360103740979952,
          0.1549663877962454,
          0.1568814486695281,
          0.15785663682374973,
          0.15994878231682735,
          0.1668190001706712,
          0.16751014825736116,
          0.17145227728656254,
          0.17953299757799773,
          0.18175810312612828,
          0.18697445853249678,
          0.1922868150892392,
          0.19621059694984297,
          0.19711945042421558,
          0.19754299039580386,
          0.19891950398190192,
          0.2022813890559232,
          0.20569876106065527,
          0.20594103481100115,
          0.21879162787116302,
          0.2362858023602221,
          0.23808292407454015,
          0.28551756932714795,
          0.3009058574907426
         ],
         "xaxis": "x",
         "y": [
          21.99589592972927,
          20.08847774037714,
          19.5016613586998,
          19.285351412559045,
          19.126534440893902,
          18.750749160884,
          18.467331950808294,
          18.163250688111027,
          18.097498066446022,
          17.982945511796522,
          17.73809043368366,
          17.714526846378632,
          17.552727285189054,
          17.418145313607475,
          17.22937862735339,
          17.133254770971156,
          16.927032933639836,
          16.249838659449097,
          16.181712504372012,
          15.793138624549165,
          14.996625671232092,
          14.777298021262304,
          14.26312422233972,
          13.739487633337983,
          13.352722225646044,
          13.263136948728057,
          13.221388804818762,
          13.085706481684014,
          12.754326986732373,
          12.417478170054817,
          12.393597355790806,
          11.126920195702212,
          9.402527309229736,
          9.22538583266373,
          4.549774251385756,
          3.0329576298934633
         ],
         "yaxis": "y"
        },
        {
         "hovertemplate": "site=Interior<br>Runtype=Baseline Run<br>Q2=%{x}<br>avg_ht=%{y}<extra></extra>",
         "legendgroup": "Interior, Baseline Run",
         "marker": {
          "color": "#00cc96",
          "symbol": "diamond"
         },
         "mode": "markers",
         "name": "Interior, Baseline Run",
         "orientation": "v",
         "showlegend": true,
         "type": "scatter",
         "x": [
          0.8874275494901843,
          0.807637314228109,
          0.8146734855066624,
          0.8875682730996699,
          0.9338663543053816,
          0.941043262704493,
          1.2068704787504558,
          0.8387371986709918,
          0.9120541851505215,
          0.9382287887596216,
          0.972565375960072,
          1.0019766405605266,
          0.8826429469325238,
          0.948783066457453,
          0.9465314871237677,
          0.9845268943224241,
          1.0015544692574565,
          1.0088721053243173,
          0.8874275494901843,
          0.807637314228109,
          0.8146734855066624,
          0.8875682730996699,
          0.9338663543053816,
          0.941043262704493,
          1.2068704787504558,
          0.8387371986709918,
          0.9120541851505215,
          0.9382287887596216,
          0.972565375960072,
          1.0019766405605266,
          0.8826429469325238,
          0.948783066457453,
          0.9465314871237677,
          0.9845268943224241,
          1.0015544692574565,
          1.0088721053243173
         ],
         "xaxis": "x",
         "y": [
          22,
          13,
          14,
          18,
          20,
          15,
          11,
          7,
          12,
          14,
          19,
          23,
          10,
          7,
          23,
          21,
          22,
          26,
          5,
          6,
          15,
          17,
          19,
          22,
          9,
          6,
          11,
          14,
          22,
          14,
          12,
          13,
          19,
          14,
          20,
          12
         ],
         "yaxis": "y"
        },
        {
         "hovertemplate": "<b>OLS trendline</b><br>avg_ht = 12.2848 * Q2 + 3.64973<br>R<sup>2</sup>=0.037907<br><br>site=Interior<br>Runtype=Baseline Run<br>Q2=%{x}<br>avg_ht=%{y} <b>(trend)</b><extra></extra>",
         "legendgroup": "Interior, Baseline Run",
         "marker": {
          "color": "#00cc96",
          "symbol": "diamond"
         },
         "mode": "lines",
         "name": "Interior, Baseline Run",
         "showlegend": false,
         "type": "scatter",
         "x": [
          0.807637314228109,
          0.807637314228109,
          0.8146734855066624,
          0.8146734855066624,
          0.8387371986709918,
          0.8387371986709918,
          0.8826429469325238,
          0.8826429469325238,
          0.8874275494901843,
          0.8874275494901843,
          0.8875682730996699,
          0.8875682730996699,
          0.9120541851505215,
          0.9120541851505215,
          0.9338663543053816,
          0.9338663543053816,
          0.9382287887596216,
          0.9382287887596216,
          0.941043262704493,
          0.941043262704493,
          0.9465314871237677,
          0.9465314871237677,
          0.948783066457453,
          0.948783066457453,
          0.972565375960072,
          0.972565375960072,
          0.9845268943224241,
          0.9845268943224241,
          1.0015544692574565,
          1.0015544692574565,
          1.0019766405605266,
          1.0019766405605266,
          1.0088721053243173,
          1.0088721053243173,
          1.2068704787504558,
          1.2068704787504558
         ],
         "xaxis": "x",
         "y": [
          13.571420655501749,
          13.571420655501749,
          13.657858878800257,
          13.657858878800257,
          13.953477693286704,
          13.953477693286704,
          14.492852691716054,
          14.492852691716054,
          14.551630758352132,
          14.551630758352132,
          14.553359525077463,
          14.553359525077463,
          14.854164984428685,
          14.854164984428685,
          15.122123945828536,
          15.122123945828536,
          15.17571574576525,
          15.17571574576525,
          15.210291101833707,
          15.210291101833707,
          15.277713048953096,
          15.277713048953096,
          15.30537333599196,
          15.30537333599196,
          15.597535152121633,
          15.597535152121633,
          15.744480465739237,
          15.744480465739237,
          15.953661462931931,
          15.953661462931931,
          15.95884776893847,
          15.95884776893847,
          16.043557435517545,
          16.043557435517545,
          18.475935349215604,
          18.475935349215604
         ],
         "yaxis": "y"
        }
       ],
       "layout": {
        "autosize": true,
        "height": 500,
        "legend": {
         "title": {
          "text": "site, Runtype"
         },
         "tracegroupgap": 0
        },
        "margin": {
         "t": 60
        },
        "template": {
         "data": {
          "bar": [
           {
            "error_x": {
             "color": "#f2f5fa"
            },
            "error_y": {
             "color": "#f2f5fa"
            },
            "marker": {
             "line": {
              "color": "rgb(17,17,17)",
              "width": 0.5
             },
             "pattern": {
              "fillmode": "overlay",
              "size": 10,
              "solidity": 0.2
             }
            },
            "type": "bar"
           }
          ],
          "barpolar": [
           {
            "marker": {
             "line": {
              "color": "rgb(17,17,17)",
              "width": 0.5
             },
             "pattern": {
              "fillmode": "overlay",
              "size": 10,
              "solidity": 0.2
             }
            },
            "type": "barpolar"
           }
          ],
          "carpet": [
           {
            "aaxis": {
             "endlinecolor": "#A2B1C6",
             "gridcolor": "#506784",
             "linecolor": "#506784",
             "minorgridcolor": "#506784",
             "startlinecolor": "#A2B1C6"
            },
            "baxis": {
             "endlinecolor": "#A2B1C6",
             "gridcolor": "#506784",
             "linecolor": "#506784",
             "minorgridcolor": "#506784",
             "startlinecolor": "#A2B1C6"
            },
            "type": "carpet"
           }
          ],
          "choropleth": [
           {
            "colorbar": {
             "outlinewidth": 0,
             "ticks": ""
            },
            "type": "choropleth"
           }
          ],
          "contour": [
           {
            "colorbar": {
             "outlinewidth": 0,
             "ticks": ""
            },
            "colorscale": [
             [
              0,
              "#0d0887"
             ],
             [
              0.1111111111111111,
              "#46039f"
             ],
             [
              0.2222222222222222,
              "#7201a8"
             ],
             [
              0.3333333333333333,
              "#9c179e"
             ],
             [
              0.4444444444444444,
              "#bd3786"
             ],
             [
              0.5555555555555556,
              "#d8576b"
             ],
             [
              0.6666666666666666,
              "#ed7953"
             ],
             [
              0.7777777777777778,
              "#fb9f3a"
             ],
             [
              0.8888888888888888,
              "#fdca26"
             ],
             [
              1,
              "#f0f921"
             ]
            ],
            "type": "contour"
           }
          ],
          "contourcarpet": [
           {
            "colorbar": {
             "outlinewidth": 0,
             "ticks": ""
            },
            "type": "contourcarpet"
           }
          ],
          "heatmap": [
           {
            "colorbar": {
             "outlinewidth": 0,
             "ticks": ""
            },
            "colorscale": [
             [
              0,
              "#0d0887"
             ],
             [
              0.1111111111111111,
              "#46039f"
             ],
             [
              0.2222222222222222,
              "#7201a8"
             ],
             [
              0.3333333333333333,
              "#9c179e"
             ],
             [
              0.4444444444444444,
              "#bd3786"
             ],
             [
              0.5555555555555556,
              "#d8576b"
             ],
             [
              0.6666666666666666,
              "#ed7953"
             ],
             [
              0.7777777777777778,
              "#fb9f3a"
             ],
             [
              0.8888888888888888,
              "#fdca26"
             ],
             [
              1,
              "#f0f921"
             ]
            ],
            "type": "heatmap"
           }
          ],
          "heatmapgl": [
           {
            "colorbar": {
             "outlinewidth": 0,
             "ticks": ""
            },
            "colorscale": [
             [
              0,
              "#0d0887"
             ],
             [
              0.1111111111111111,
              "#46039f"
             ],
             [
              0.2222222222222222,
              "#7201a8"
             ],
             [
              0.3333333333333333,
              "#9c179e"
             ],
             [
              0.4444444444444444,
              "#bd3786"
             ],
             [
              0.5555555555555556,
              "#d8576b"
             ],
             [
              0.6666666666666666,
              "#ed7953"
             ],
             [
              0.7777777777777778,
              "#fb9f3a"
             ],
             [
              0.8888888888888888,
              "#fdca26"
             ],
             [
              1,
              "#f0f921"
             ]
            ],
            "type": "heatmapgl"
           }
          ],
          "histogram": [
           {
            "marker": {
             "pattern": {
              "fillmode": "overlay",
              "size": 10,
              "solidity": 0.2
             }
            },
            "type": "histogram"
           }
          ],
          "histogram2d": [
           {
            "colorbar": {
             "outlinewidth": 0,
             "ticks": ""
            },
            "colorscale": [
             [
              0,
              "#0d0887"
             ],
             [
              0.1111111111111111,
              "#46039f"
             ],
             [
              0.2222222222222222,
              "#7201a8"
             ],
             [
              0.3333333333333333,
              "#9c179e"
             ],
             [
              0.4444444444444444,
              "#bd3786"
             ],
             [
              0.5555555555555556,
              "#d8576b"
             ],
             [
              0.6666666666666666,
              "#ed7953"
             ],
             [
              0.7777777777777778,
              "#fb9f3a"
             ],
             [
              0.8888888888888888,
              "#fdca26"
             ],
             [
              1,
              "#f0f921"
             ]
            ],
            "type": "histogram2d"
           }
          ],
          "histogram2dcontour": [
           {
            "colorbar": {
             "outlinewidth": 0,
             "ticks": ""
            },
            "colorscale": [
             [
              0,
              "#0d0887"
             ],
             [
              0.1111111111111111,
              "#46039f"
             ],
             [
              0.2222222222222222,
              "#7201a8"
             ],
             [
              0.3333333333333333,
              "#9c179e"
             ],
             [
              0.4444444444444444,
              "#bd3786"
             ],
             [
              0.5555555555555556,
              "#d8576b"
             ],
             [
              0.6666666666666666,
              "#ed7953"
             ],
             [
              0.7777777777777778,
              "#fb9f3a"
             ],
             [
              0.8888888888888888,
              "#fdca26"
             ],
             [
              1,
              "#f0f921"
             ]
            ],
            "type": "histogram2dcontour"
           }
          ],
          "mesh3d": [
           {
            "colorbar": {
             "outlinewidth": 0,
             "ticks": ""
            },
            "type": "mesh3d"
           }
          ],
          "parcoords": [
           {
            "line": {
             "colorbar": {
              "outlinewidth": 0,
              "ticks": ""
             }
            },
            "type": "parcoords"
           }
          ],
          "pie": [
           {
            "automargin": true,
            "type": "pie"
           }
          ],
          "scatter": [
           {
            "marker": {
             "line": {
              "color": "#283442"
             }
            },
            "type": "scatter"
           }
          ],
          "scatter3d": [
           {
            "line": {
             "colorbar": {
              "outlinewidth": 0,
              "ticks": ""
             }
            },
            "marker": {
             "colorbar": {
              "outlinewidth": 0,
              "ticks": ""
             }
            },
            "type": "scatter3d"
           }
          ],
          "scattercarpet": [
           {
            "marker": {
             "colorbar": {
              "outlinewidth": 0,
              "ticks": ""
             }
            },
            "type": "scattercarpet"
           }
          ],
          "scattergeo": [
           {
            "marker": {
             "colorbar": {
              "outlinewidth": 0,
              "ticks": ""
             }
            },
            "type": "scattergeo"
           }
          ],
          "scattergl": [
           {
            "marker": {
             "line": {
              "color": "#283442"
             }
            },
            "type": "scattergl"
           }
          ],
          "scattermapbox": [
           {
            "marker": {
             "colorbar": {
              "outlinewidth": 0,
              "ticks": ""
             }
            },
            "type": "scattermapbox"
           }
          ],
          "scatterpolar": [
           {
            "marker": {
             "colorbar": {
              "outlinewidth": 0,
              "ticks": ""
             }
            },
            "type": "scatterpolar"
           }
          ],
          "scatterpolargl": [
           {
            "marker": {
             "colorbar": {
              "outlinewidth": 0,
              "ticks": ""
             }
            },
            "type": "scatterpolargl"
           }
          ],
          "scatterternary": [
           {
            "marker": {
             "colorbar": {
              "outlinewidth": 0,
              "ticks": ""
             }
            },
            "type": "scatterternary"
           }
          ],
          "surface": [
           {
            "colorbar": {
             "outlinewidth": 0,
             "ticks": ""
            },
            "colorscale": [
             [
              0,
              "#0d0887"
             ],
             [
              0.1111111111111111,
              "#46039f"
             ],
             [
              0.2222222222222222,
              "#7201a8"
             ],
             [
              0.3333333333333333,
              "#9c179e"
             ],
             [
              0.4444444444444444,
              "#bd3786"
             ],
             [
              0.5555555555555556,
              "#d8576b"
             ],
             [
              0.6666666666666666,
              "#ed7953"
             ],
             [
              0.7777777777777778,
              "#fb9f3a"
             ],
             [
              0.8888888888888888,
              "#fdca26"
             ],
             [
              1,
              "#f0f921"
             ]
            ],
            "type": "surface"
           }
          ],
          "table": [
           {
            "cells": {
             "fill": {
              "color": "#506784"
             },
             "line": {
              "color": "rgb(17,17,17)"
             }
            },
            "header": {
             "fill": {
              "color": "#2a3f5f"
             },
             "line": {
              "color": "rgb(17,17,17)"
             }
            },
            "type": "table"
           }
          ]
         },
         "layout": {
          "annotationdefaults": {
           "arrowcolor": "#f2f5fa",
           "arrowhead": 0,
           "arrowwidth": 1
          },
          "autotypenumbers": "strict",
          "coloraxis": {
           "colorbar": {
            "outlinewidth": 0,
            "ticks": ""
           }
          },
          "colorscale": {
           "diverging": [
            [
             0,
             "#8e0152"
            ],
            [
             0.1,
             "#c51b7d"
            ],
            [
             0.2,
             "#de77ae"
            ],
            [
             0.3,
             "#f1b6da"
            ],
            [
             0.4,
             "#fde0ef"
            ],
            [
             0.5,
             "#f7f7f7"
            ],
            [
             0.6,
             "#e6f5d0"
            ],
            [
             0.7,
             "#b8e186"
            ],
            [
             0.8,
             "#7fbc41"
            ],
            [
             0.9,
             "#4d9221"
            ],
            [
             1,
             "#276419"
            ]
           ],
           "sequential": [
            [
             0,
             "#0d0887"
            ],
            [
             0.1111111111111111,
             "#46039f"
            ],
            [
             0.2222222222222222,
             "#7201a8"
            ],
            [
             0.3333333333333333,
             "#9c179e"
            ],
            [
             0.4444444444444444,
             "#bd3786"
            ],
            [
             0.5555555555555556,
             "#d8576b"
            ],
            [
             0.6666666666666666,
             "#ed7953"
            ],
            [
             0.7777777777777778,
             "#fb9f3a"
            ],
            [
             0.8888888888888888,
             "#fdca26"
            ],
            [
             1,
             "#f0f921"
            ]
           ],
           "sequentialminus": [
            [
             0,
             "#0d0887"
            ],
            [
             0.1111111111111111,
             "#46039f"
            ],
            [
             0.2222222222222222,
             "#7201a8"
            ],
            [
             0.3333333333333333,
             "#9c179e"
            ],
            [
             0.4444444444444444,
             "#bd3786"
            ],
            [
             0.5555555555555556,
             "#d8576b"
            ],
            [
             0.6666666666666666,
             "#ed7953"
            ],
            [
             0.7777777777777778,
             "#fb9f3a"
            ],
            [
             0.8888888888888888,
             "#fdca26"
            ],
            [
             1,
             "#f0f921"
            ]
           ]
          },
          "colorway": [
           "#636efa",
           "#EF553B",
           "#00cc96",
           "#ab63fa",
           "#FFA15A",
           "#19d3f3",
           "#FF6692",
           "#B6E880",
           "#FF97FF",
           "#FECB52"
          ],
          "font": {
           "color": "#f2f5fa"
          },
          "geo": {
           "bgcolor": "rgb(17,17,17)",
           "lakecolor": "rgb(17,17,17)",
           "landcolor": "rgb(17,17,17)",
           "showlakes": true,
           "showland": true,
           "subunitcolor": "#506784"
          },
          "hoverlabel": {
           "align": "left"
          },
          "hovermode": "closest",
          "mapbox": {
           "style": "dark"
          },
          "paper_bgcolor": "rgb(17,17,17)",
          "plot_bgcolor": "rgb(17,17,17)",
          "polar": {
           "angularaxis": {
            "gridcolor": "#506784",
            "linecolor": "#506784",
            "ticks": ""
           },
           "bgcolor": "rgb(17,17,17)",
           "radialaxis": {
            "gridcolor": "#506784",
            "linecolor": "#506784",
            "ticks": ""
           }
          },
          "scene": {
           "xaxis": {
            "backgroundcolor": "rgb(17,17,17)",
            "gridcolor": "#506784",
            "gridwidth": 2,
            "linecolor": "#506784",
            "showbackground": true,
            "ticks": "",
            "zerolinecolor": "#C8D4E3"
           },
           "yaxis": {
            "backgroundcolor": "rgb(17,17,17)",
            "gridcolor": "#506784",
            "gridwidth": 2,
            "linecolor": "#506784",
            "showbackground": true,
            "ticks": "",
            "zerolinecolor": "#C8D4E3"
           },
           "zaxis": {
            "backgroundcolor": "rgb(17,17,17)",
            "gridcolor": "#506784",
            "gridwidth": 2,
            "linecolor": "#506784",
            "showbackground": true,
            "ticks": "",
            "zerolinecolor": "#C8D4E3"
           }
          },
          "shapedefaults": {
           "line": {
            "color": "#f2f5fa"
           }
          },
          "sliderdefaults": {
           "bgcolor": "#C8D4E3",
           "bordercolor": "rgb(17,17,17)",
           "borderwidth": 1,
           "tickwidth": 0
          },
          "ternary": {
           "aaxis": {
            "gridcolor": "#506784",
            "linecolor": "#506784",
            "ticks": ""
           },
           "baxis": {
            "gridcolor": "#506784",
            "linecolor": "#506784",
            "ticks": ""
           },
           "bgcolor": "rgb(17,17,17)",
           "caxis": {
            "gridcolor": "#506784",
            "linecolor": "#506784",
            "ticks": ""
           }
          },
          "title": {
           "x": 0.05
          },
          "updatemenudefaults": {
           "bgcolor": "#506784",
           "borderwidth": 0
          },
          "xaxis": {
           "automargin": true,
           "gridcolor": "#283442",
           "linecolor": "#506784",
           "ticks": "",
           "title": {
            "standoff": 15
           },
           "zerolinecolor": "#283442",
           "zerolinewidth": 2
          },
          "yaxis": {
           "automargin": true,
           "gridcolor": "#283442",
           "linecolor": "#506784",
           "ticks": "",
           "title": {
            "standoff": 15
           },
           "zerolinecolor": "#283442",
           "zerolinewidth": 2
          }
         }
        },
        "xaxis": {
         "anchor": "y",
         "domain": [
          0,
          1
         ],
         "title": {
          "text": "Q2"
         }
        },
        "yaxis": {
         "anchor": "x",
         "domain": [
          0,
          1
         ],
         "title": {
          "text": "avg_ht"
         }
        }
       }
      }
     },
     "metadata": {},
     "output_type": "display_data"
    }
   ],
   "source": [
    "fig = px.scatter(dff, x='Q2', y='avg_ht', color='site', symbol='Runtype', trendline='ols', template='plotly_dark')\n",
    "fig.update_layout(\n",
    "    height=500,\n",
    "    autosize=True,)\n",
    "fig.show()"
   ]
  },
  {
   "cell_type": "code",
   "execution_count": 15,
   "metadata": {},
   "outputs": [
    {
     "data": {
      "application/vnd.plotly.v1+json": {
       "config": {
        "plotlyServerURL": "https://plot.ly"
       },
       "data": [
        {
         "hovertemplate": "site=Bay<br>Runtype=Vegetated Run<br>mean_u=%{x}<br>wc_height=%{y}<extra></extra>",
         "legendgroup": "Bay, Vegetated Run",
         "marker": {
          "color": "#636efa",
          "symbol": "circle"
         },
         "mode": "markers",
         "name": "Bay, Vegetated Run",
         "orientation": "v",
         "showlegend": true,
         "type": "scatter",
         "x": [
          1.3592650169565137,
          0.5103025642236216,
          0.3286437924729354,
          0.45515997537639585,
          0.698899136355107,
          0.5200176014225153,
          0.3265804713721051,
          1.3621275004736746,
          0.9057318120811019,
          0.543751367828793,
          0.38082686886336153,
          0.20112182662794495,
          0.7625154658544469,
          0.40975347369678367,
          1.2777263819523763,
          0.8709433130067955,
          0.26654950669580113,
          0.17164323846681598,
          0.47691502456706003,
          0.8433391850343966,
          0.3290697201519917,
          0.9916123850499081,
          0.25945525042793266,
          0.35722004861242634,
          0.4263030163263412,
          0.5950197344133862,
          0.5158934199389179,
          0.7439415723306905,
          0.7977465341310799,
          0.5779043553844703,
          0.5412187000103333,
          0.6836638936476852,
          0.4632916358853887,
          0.369575831093671,
          0.7221646733015429,
          0.6553435740122208,
          0.5826878863742487,
          1.3089906898905679,
          0.10171930592298131,
          0.14852464806883567,
          0.40950966157062546,
          0.2716526334527395
         ],
         "xaxis": "x",
         "y": [
          0.6759,
          0.4855,
          0.5650999999999997,
          0.5655000000000001,
          0.5855000000000001,
          0.6282999999999999,
          0.6764000000000001,
          0.6621999999999999,
          0.4945999999999997,
          0.5556000000000001,
          0.5781000000000001,
          0.5882000000000001,
          0.6255999999999999,
          0.6663000000000001,
          0.6137999999999999,
          0.5503,
          0.5238999999999998,
          0.5446999999999997,
          0.5408999999999997,
          0.5844,
          0.6054999999999997,
          0.6759,
          0.4855,
          0.5650999999999997,
          0.5655000000000001,
          0.5855000000000001,
          0.6282999999999999,
          0.6764000000000001,
          0.6621999999999999,
          0.4945999999999997,
          0.5556000000000001,
          0.5781000000000001,
          0.5882000000000001,
          0.6255999999999999,
          0.6663000000000001,
          0.6137999999999999,
          0.5503,
          0.5238999999999998,
          0.5446999999999997,
          0.5408999999999997,
          0.5844,
          0.6054999999999997
         ],
         "yaxis": "y"
        },
        {
         "hovertemplate": "<b>OLS trendline</b><br>wc_height = 0.0530513 * mean_u + 0.555513<br>R<sup>2</sup>=0.097454<br><br>site=Bay<br>Runtype=Vegetated Run<br>mean_u=%{x}<br>wc_height=%{y} <b>(trend)</b><extra></extra>",
         "legendgroup": "Bay, Vegetated Run",
         "marker": {
          "color": "#636efa",
          "symbol": "circle"
         },
         "mode": "lines",
         "name": "Bay, Vegetated Run",
         "showlegend": false,
         "type": "scatter",
         "x": [
          0.10171930592298131,
          0.14852464806883567,
          0.17164323846681598,
          0.20112182662794495,
          0.25945525042793266,
          0.26654950669580113,
          0.2716526334527395,
          0.3265804713721051,
          0.3286437924729354,
          0.3290697201519917,
          0.35722004861242634,
          0.369575831093671,
          0.38082686886336153,
          0.40950966157062546,
          0.40975347369678367,
          0.4263030163263412,
          0.45515997537639585,
          0.4632916358853887,
          0.47691502456706003,
          0.5103025642236216,
          0.5158934199389179,
          0.5200176014225153,
          0.5412187000103333,
          0.543751367828793,
          0.5779043553844703,
          0.5826878863742487,
          0.5950197344133862,
          0.6553435740122208,
          0.6836638936476852,
          0.698899136355107,
          0.7221646733015429,
          0.7439415723306905,
          0.7625154658544469,
          0.7977465341310799,
          0.8433391850343966,
          0.8709433130067955,
          0.9057318120811019,
          0.9916123850499081,
          1.2777263819523763,
          1.3089906898905679,
          1.3592650169565137,
          1.3621275004736746
         ],
         "xaxis": "x",
         "y": [
          0.5609095019545994,
          0.5633925863336714,
          0.5646190576732997,
          0.5661829351801,
          0.5692775993097664,
          0.5696539588472094,
          0.5699246863700441,
          0.572838679731929,
          0.5729481416044332,
          0.5729707376227079,
          0.5744641492219229,
          0.5751196395797283,
          0.5757165217913188,
          0.5772381813125254,
          0.5772511158634577,
          0.5781290906607828,
          0.5796599899333791,
          0.5800913851173493,
          0.580814123635531,
          0.5825853761117656,
          0.582881978291257,
          0.5831007714919662,
          0.5842255173929474,
          0.584359878720289,
          0.586171739204801,
          0.586425511755817,
          0.5870797323602867,
          0.5902799906412055,
          0.5917824204937213,
          0.5925906699679006,
          0.5938249370133671,
          0.5949802298779167,
          0.5959655991275136,
          0.5978346531988014,
          0.6002534027275565,
          0.6017178376792885,
          0.6035634128778115,
          0.6081194891594477,
          0.6232982094458731,
          0.6249568217132913,
          0.627623940261785,
          0.6277757987416284
         ],
         "yaxis": "y"
        },
        {
         "hovertemplate": "site=Bay<br>Runtype=Baseline Run<br>mean_u=%{x}<br>wc_height=%{y}<extra></extra>",
         "legendgroup": "Bay, Baseline Run",
         "marker": {
          "color": "#636efa",
          "symbol": "diamond"
         },
         "mode": "markers",
         "name": "Bay, Baseline Run",
         "orientation": "v",
         "showlegend": true,
         "type": "scatter",
         "x": [
          12.666596046563184,
          10.51859039204306,
          11.577230183104732,
          11.58134720129095,
          11.785364586021501,
          12.210514583684175,
          12.67129969658718,
          12.537029448922363,
          10.692235430430411,
          11.479017042446284,
          11.710292415099374,
          11.81263699102164,
          12.184132781358366,
          12.575944820816172,
          12.068157767829915,
          11.423857532362923,
          11.145034917040466,
          11.365284932633738,
          11.325366725827468,
          11.774235496098159,
          11.985909895842886,
          12.666596046563184,
          10.51859039204306,
          11.577230183104732,
          11.58134720129095,
          11.785364586021501,
          12.210514583684175,
          12.67129969658718,
          12.537029448922363,
          10.692235430430411,
          11.479017042446284,
          11.710292415099374,
          11.81263699102164,
          12.184132781358366,
          12.575944820816172,
          12.068157767829915,
          11.423857532362923,
          11.145034917040466,
          11.365284932633738,
          11.325366725827468,
          11.774235496098159,
          11.985909895842886
         ],
         "xaxis": "x",
         "y": [
          0.6759,
          0.4855,
          0.5650999999999997,
          0.5655000000000001,
          0.5855000000000001,
          0.6282999999999999,
          0.6764000000000001,
          0.6621999999999999,
          0.4945999999999997,
          0.5556000000000001,
          0.5781000000000001,
          0.5882000000000001,
          0.6255999999999999,
          0.6663000000000001,
          0.6137999999999999,
          0.5503,
          0.5238999999999998,
          0.5446999999999997,
          0.5408999999999997,
          0.5844,
          0.6054999999999997,
          0.6759,
          0.4855,
          0.5650999999999997,
          0.5655000000000001,
          0.5855000000000001,
          0.6282999999999999,
          0.6764000000000001,
          0.6621999999999999,
          0.4945999999999997,
          0.5556000000000001,
          0.5781000000000001,
          0.5882000000000001,
          0.6255999999999999,
          0.6663000000000001,
          0.6137999999999999,
          0.5503,
          0.5238999999999998,
          0.5446999999999997,
          0.5408999999999997,
          0.5844,
          0.6054999999999997
         ],
         "yaxis": "y"
        },
        {
         "hovertemplate": "<b>OLS trendline</b><br>wc_height = 0.0930562 * mean_u + -0.508427<br>R<sup>2</sup>=0.991041<br><br>site=Bay<br>Runtype=Baseline Run<br>mean_u=%{x}<br>wc_height=%{y} <b>(trend)</b><extra></extra>",
         "legendgroup": "Bay, Baseline Run",
         "marker": {
          "color": "#636efa",
          "symbol": "diamond"
         },
         "mode": "lines",
         "name": "Bay, Baseline Run",
         "showlegend": false,
         "type": "scatter",
         "x": [
          10.51859039204306,
          10.51859039204306,
          10.692235430430411,
          10.692235430430411,
          11.145034917040466,
          11.145034917040466,
          11.325366725827468,
          11.325366725827468,
          11.365284932633738,
          11.365284932633738,
          11.423857532362923,
          11.423857532362923,
          11.479017042446284,
          11.479017042446284,
          11.577230183104732,
          11.577230183104732,
          11.58134720129095,
          11.58134720129095,
          11.710292415099374,
          11.710292415099374,
          11.774235496098159,
          11.774235496098159,
          11.785364586021501,
          11.785364586021501,
          11.81263699102164,
          11.81263699102164,
          11.985909895842886,
          11.985909895842886,
          12.068157767829915,
          12.068157767829915,
          12.184132781358366,
          12.184132781358366,
          12.210514583684175,
          12.210514583684175,
          12.537029448922363,
          12.537029448922363,
          12.575944820816172,
          12.575944820816172,
          12.666596046563184,
          12.666596046563184,
          12.67129969658718,
          12.67129969658718
         ],
         "xaxis": "x",
         "y": [
          0.4703931458679743,
          0.4703931458679743,
          0.4865519013344968,
          0.4865519013344968,
          0.5286877218995362,
          0.5286877218995362,
          0.5454687231195351,
          0.5454687231195351,
          0.5491833616052354,
          0.5491833616052354,
          0.5546339078739467,
          0.5546339078739467,
          0.5597668448318226,
          0.5597668448318226,
          0.5689061910419856,
          0.5689061910419856,
          0.5692893053004761,
          0.5692893053004761,
          0.5812884628799798,
          0.5812884628799798,
          0.587238765976637,
          0.587238765976637,
          0.5882743973099956,
          0.5882743973099956,
          0.5908122649477577,
          0.5908122649477577,
          0.6069363910614843,
          0.6069363910614843,
          0.6145900692974015,
          0.6145900692974015,
          0.6253822687246752,
          0.6253822687246752,
          0.6278372602205907,
          0.6278372602205907,
          0.6582215079512922,
          0.6582215079512922,
          0.6618428263843482,
          0.6618428263843482,
          0.6702784891777701,
          0.6702784891777701,
          0.6707161931930631,
          0.6707161931930631
         ],
         "yaxis": "y"
        },
        {
         "hovertemplate": "site=Creek<br>Runtype=Vegetated Run<br>mean_u=%{x}<br>wc_height=%{y}<extra></extra>",
         "legendgroup": "Creek, Vegetated Run",
         "marker": {
          "color": "#EF553B",
          "symbol": "circle"
         },
         "mode": "markers",
         "name": "Creek, Vegetated Run",
         "orientation": "v",
         "showlegend": true,
         "type": "scatter",
         "x": [
          0.7012205971671923,
          0.9762512932924693,
          0.5554442297995603,
          0.4413861500219262,
          0.690553787409425,
          0.7992741099075418,
          0.8898439756923031,
          0.5908675654258939,
          0.4397756349892603,
          0.6760749858908367,
          0.5363194580364846,
          0.46909420986116634,
          0.8287400877592603,
          0.8086795514175197,
          0.5651702857145902,
          0.4950741918960787,
          0.6446474608426062,
          0.49707070332813225,
          0.7908562660418602,
          0.8493201150638061,
          0.5887136684876483,
          0.3123951438875673,
          0.9069496709412486,
          0.35088555805782906,
          1.108348388807586,
          0.8269815667876742,
          0.5296118922434696,
          0.7858527847810537,
          0.652363195535387,
          0.697215243347076,
          1.3861057989652343,
          1.3480995087939405,
          0.7336325640708997,
          0.46237621879014545,
          0.5352518203519523,
          0.8365373645640469
         ],
         "xaxis": "x",
         "y": [
          0.8037999999999998,
          0.8996999999999999,
          0.6446000000000001,
          0.6837,
          0.6846999999999999,
          0.6961999999999997,
          0.7464999999999997,
          0.7395,
          0.6741999999999999,
          0.6781999999999999,
          0.6901999999999999,
          0.6865000000000001,
          0.8543999999999998,
          0.9399,
          0.6661000000000001,
          0.6625999999999999,
          0.6724999999999999,
          0.6688999999999998,
          0.8037999999999998,
          0.8996999999999999,
          0.6446000000000001,
          0.6837,
          0.6846999999999999,
          0.6961999999999997,
          0.7464999999999997,
          0.7395,
          0.6741999999999999,
          0.6781999999999999,
          0.6901999999999999,
          0.6865000000000001,
          0.8543999999999998,
          0.9399,
          0.6661000000000001,
          0.6625999999999999,
          0.6724999999999999,
          0.6688999999999998
         ],
         "yaxis": "y"
        },
        {
         "hovertemplate": "<b>OLS trendline</b><br>wc_height = 0.23753 * mean_u + 0.560367<br>R<sup>2</sup>=0.445175<br><br>site=Creek<br>Runtype=Vegetated Run<br>mean_u=%{x}<br>wc_height=%{y} <b>(trend)</b><extra></extra>",
         "legendgroup": "Creek, Vegetated Run",
         "marker": {
          "color": "#EF553B",
          "symbol": "circle"
         },
         "mode": "lines",
         "name": "Creek, Vegetated Run",
         "showlegend": false,
         "type": "scatter",
         "x": [
          0.3123951438875673,
          0.35088555805782906,
          0.4397756349892603,
          0.4413861500219262,
          0.46237621879014545,
          0.46909420986116634,
          0.4950741918960787,
          0.49707070332813225,
          0.5296118922434696,
          0.5352518203519523,
          0.5363194580364846,
          0.5554442297995603,
          0.5651702857145902,
          0.5887136684876483,
          0.5908675654258939,
          0.6446474608426062,
          0.652363195535387,
          0.6760749858908367,
          0.690553787409425,
          0.697215243347076,
          0.7012205971671923,
          0.7336325640708997,
          0.7858527847810537,
          0.7908562660418602,
          0.7992741099075418,
          0.8086795514175197,
          0.8269815667876742,
          0.8287400877592603,
          0.8365373645640469,
          0.8493201150638061,
          0.8898439756923031,
          0.9069496709412486,
          0.9762512932924693,
          1.108348388807586,
          1.3480995087939405,
          1.3861057989652343
         ],
         "xaxis": "x",
         "y": [
          0.6345706130288762,
          0.6437132565445299,
          0.6648273521702146,
          0.6652098984518714,
          0.6701956779051139,
          0.6717914050186752,
          0.677962440571517,
          0.6784366727327364,
          0.6861661943874641,
          0.6875058487731426,
          0.6877594451805592,
          0.6923021598880339,
          0.6946123938504717,
          0.7002046630033705,
          0.7007162790070001,
          0.7134906391354507,
          0.7153233606916651,
          0.7209556317651545,
          0.7243947872970437,
          0.7259770855977004,
          0.7269284788970658,
          0.7346273063955424,
          0.7470311963653876,
          0.7482196752760706,
          0.750219169105727,
          0.7524532473999402,
          0.7568005324514121,
          0.7572182346431031,
          0.7590703249298871,
          0.7621066167830193,
          0.7717322656514752,
          0.7757953883047345,
          0.7922566304574158,
          0.8236337065368173,
          0.8805818862269053,
          0.889609535574911
         ],
         "yaxis": "y"
        },
        {
         "hovertemplate": "site=Creek<br>Runtype=Baseline Run<br>mean_u=%{x}<br>wc_height=%{y}<extra></extra>",
         "legendgroup": "Creek, Baseline Run",
         "marker": {
          "color": "#EF553B",
          "symbol": "diamond"
         },
         "mode": "markers",
         "name": "Creek, Baseline Run",
         "orientation": "v",
         "showlegend": true,
         "type": "scatter",
         "x": [
          13.817708332780828,
          14.621487725586963,
          12.368587295543255,
          12.739775223497649,
          12.749126791804448,
          12.856180926516961,
          13.314314111715754,
          13.2515067494333,
          12.650590555087883,
          12.688218399138787,
          12.800438298798559,
          12.765942351993685,
          14.24746095527085,
          14.945568351612035,
          12.574049304189142,
          12.540831386423696,
          12.634564788150003,
          12.60056058924204,
          13.817708332780828,
          14.621487725586963,
          12.368587295543255,
          12.739775223497649,
          12.749126791804448,
          12.856180926516961,
          13.314314111715754,
          13.2515067494333,
          12.650590555087883,
          12.688218399138787,
          12.800438298798559,
          12.765942351993685,
          14.24746095527085,
          14.945568351612035,
          12.574049304189142,
          12.540831386423696,
          12.634564788150003,
          12.60056058924204
         ],
         "xaxis": "x",
         "y": [
          0.8037999999999998,
          0.8996999999999999,
          0.6446000000000001,
          0.6837,
          0.6846999999999999,
          0.6961999999999997,
          0.7464999999999997,
          0.7395,
          0.6741999999999999,
          0.6781999999999999,
          0.6901999999999999,
          0.6865000000000001,
          0.8543999999999998,
          0.9399,
          0.6661000000000001,
          0.6625999999999999,
          0.6724999999999999,
          0.6688999999999998,
          0.8037999999999998,
          0.8996999999999999,
          0.6446000000000001,
          0.6837,
          0.6846999999999999,
          0.6961999999999997,
          0.7464999999999997,
          0.7395,
          0.6741999999999999,
          0.6781999999999999,
          0.6901999999999999,
          0.6865000000000001,
          0.8543999999999998,
          0.9399,
          0.6661000000000001,
          0.6625999999999999,
          0.6724999999999999,
          0.6688999999999998
         ],
         "yaxis": "y"
        },
        {
         "hovertemplate": "<b>OLS trendline</b><br>wc_height = 0.114171 * mean_u + -0.770622<br>R<sup>2</sup>=0.999516<br><br>site=Creek<br>Runtype=Baseline Run<br>mean_u=%{x}<br>wc_height=%{y} <b>(trend)</b><extra></extra>",
         "legendgroup": "Creek, Baseline Run",
         "marker": {
          "color": "#EF553B",
          "symbol": "diamond"
         },
         "mode": "lines",
         "name": "Creek, Baseline Run",
         "showlegend": false,
         "type": "scatter",
         "x": [
          12.368587295543255,
          12.368587295543255,
          12.540831386423696,
          12.540831386423696,
          12.574049304189142,
          12.574049304189142,
          12.60056058924204,
          12.60056058924204,
          12.634564788150003,
          12.634564788150003,
          12.650590555087883,
          12.650590555087883,
          12.688218399138787,
          12.688218399138787,
          12.739775223497649,
          12.739775223497649,
          12.749126791804448,
          12.749126791804448,
          12.765942351993685,
          12.765942351993685,
          12.800438298798559,
          12.800438298798559,
          12.856180926516961,
          12.856180926516961,
          13.2515067494333,
          13.2515067494333,
          13.314314111715754,
          13.314314111715754,
          13.817708332780828,
          13.817708332780828,
          14.24746095527085,
          14.24746095527085,
          14.621487725586963,
          14.621487725586963,
          14.945568351612035,
          14.945568351612035
         ],
         "xaxis": "x",
         "y": [
          0.6415111293441196,
          0.6415111293441196,
          0.6611763940222248,
          0.6611763940222248,
          0.6649689139372708,
          0.6649689139372708,
          0.6679957314893681,
          0.6679957314893681,
          0.6718780218383369,
          0.6718780218383369,
          0.6737076982405408,
          0.6737076982405408,
          0.6780037034546829,
          0.6780037034546829,
          0.6838899930324389,
          0.6838899930324389,
          0.6849576701003055,
          0.6849576701003055,
          0.6868775179170965,
          0.6868775179170965,
          0.6908159515711751,
          0.6908159515711751,
          0.6971801381295191,
          0.6971801381295191,
          0.7423148472623622,
          0.7423148472623622,
          0.7494856209980802,
          0.7494856209980802,
          0.8069585975401019,
          0.8069585975401019,
          0.8560238457246823,
          0.8560238457246823,
          0.8987268226301071,
          0.8987268226301071,
          0.9357274027675873,
          0.9357274027675873
         ],
         "yaxis": "y"
        },
        {
         "hovertemplate": "site=Interior<br>Runtype=Vegetated Run<br>mean_u=%{x}<br>wc_height=%{y}<extra></extra>",
         "legendgroup": "Interior, Vegetated Run",
         "marker": {
          "color": "#00cc96",
          "symbol": "circle"
         },
         "mode": "markers",
         "name": "Interior, Vegetated Run",
         "orientation": "v",
         "showlegend": true,
         "type": "scatter",
         "x": [
          0.3324782009321994,
          0.5605192619077259,
          0.5221258022091906,
          0.4522017025862316,
          0.4598617743343786,
          0.6404308369864579,
          1.1978981800785493,
          1.0842203100063368,
          0.7808682854363156,
          0.6874622338211613,
          0.5053887828651638,
          0.4007947695683334,
          0.88090332438123,
          1.246928195992003,
          0.34257505689218215,
          0.4581330220253045,
          0.4237513277861222,
          0.32795938556551335,
          1.4622657631981093,
          1.1491061157834896,
          0.49261612431010615,
          0.5032697715657666,
          0.46758428783971756,
          0.4821531906882198,
          1.424962409796556,
          1.2077743399244807,
          0.8280468136003757,
          0.73761002260273,
          0.3945666755180598,
          0.7510287301279653,
          0.7060010045180906,
          0.7148145690067229,
          0.4661870675468359,
          0.7969722493283818,
          0.4787615550155717,
          0.8704910931158285
         ],
         "xaxis": "x",
         "y": [
          0.6341999999999999,
          0.5775000000000001,
          0.5825,
          0.6343000000000001,
          0.6671999999999998,
          0.6722999999999999,
          0.8612,
          0.5996000000000001,
          0.6517,
          0.6703000000000001,
          0.6947000000000001,
          0.7155999999999998,
          0.6307999999999998,
          0.6778,
          0.6762000000000001,
          0.7031999999999998,
          0.7153,
          0.7204999999999999,
          0.6341999999999999,
          0.5775000000000001,
          0.5825,
          0.6343000000000001,
          0.6671999999999998,
          0.6722999999999999,
          0.8612,
          0.5996000000000001,
          0.6517,
          0.6703000000000001,
          0.6947000000000001,
          0.7155999999999998,
          0.6307999999999998,
          0.6778,
          0.6762000000000001,
          0.7031999999999998,
          0.7153,
          0.7204999999999999
         ],
         "yaxis": "y"
        },
        {
         "hovertemplate": "<b>OLS trendline</b><br>wc_height = 0.0298705 * mean_u + 0.650442<br>R<sup>2</sup>=0.022592<br><br>site=Interior<br>Runtype=Vegetated Run<br>mean_u=%{x}<br>wc_height=%{y} <b>(trend)</b><extra></extra>",
         "legendgroup": "Interior, Vegetated Run",
         "marker": {
          "color": "#00cc96",
          "symbol": "circle"
         },
         "mode": "lines",
         "name": "Interior, Vegetated Run",
         "showlegend": false,
         "type": "scatter",
         "x": [
          0.32795938556551335,
          0.3324782009321994,
          0.34257505689218215,
          0.3945666755180598,
          0.4007947695683334,
          0.4237513277861222,
          0.4522017025862316,
          0.4581330220253045,
          0.4598617743343786,
          0.4661870675468359,
          0.46758428783971756,
          0.4787615550155717,
          0.4821531906882198,
          0.49261612431010615,
          0.5032697715657666,
          0.5053887828651638,
          0.5221258022091906,
          0.5605192619077259,
          0.6404308369864579,
          0.6874622338211613,
          0.7060010045180906,
          0.7148145690067229,
          0.73761002260273,
          0.7510287301279653,
          0.7808682854363156,
          0.7969722493283818,
          0.8280468136003757,
          0.8704910931158285,
          0.88090332438123,
          1.0842203100063368,
          1.1491061157834896,
          1.1978981800785493,
          1.2077743399244807,
          1.246928195992003,
          1.424962409796556,
          1.4622657631981093
         ],
         "xaxis": "x",
         "y": [
          0.6602381641282417,
          0.6603731435127507,
          0.6606747418947075,
          0.6622277588056185,
          0.6624137952406912,
          0.6630995196722593,
          0.6639493472859034,
          0.6641265189077215,
          0.6641781576456898,
          0.6643670974707047,
          0.6644088331735056,
          0.6647427040050099,
          0.664844013941005,
          0.6651565472546811,
          0.6654747772846014,
          0.6655380732632485,
          0.6660380168073524,
          0.6671848495807126,
          0.6695718502311025,
          0.6709767027161471,
          0.6715304655179365,
          0.6717937313107317,
          0.6724746434627696,
          0.6728754672928415,
          0.6737667904567036,
          0.6742478243025056,
          0.6751760378317065,
          0.6764438707171039,
          0.6767548895248052,
          0.6828280744976242,
          0.6847662475399969,
          0.6862236920853138,
          0.6865186981586188,
          0.6876882443702453,
          0.693006219691398,
          0.6941204904180543
         ],
         "yaxis": "y"
        },
        {
         "hovertemplate": "site=Interior<br>Runtype=Baseline Run<br>mean_u=%{x}<br>wc_height=%{y}<extra></extra>",
         "legendgroup": "Interior, Baseline Run",
         "marker": {
          "color": "#00cc96",
          "symbol": "diamond"
         },
         "mode": "markers",
         "name": "Interior, Baseline Run",
         "orientation": "v",
         "showlegend": true,
         "type": "scatter",
         "x": [
          12.267966275643186,
          11.704184378926797,
          11.754987705866252,
          12.268937714634541,
          12.584471112518097,
          12.632678067235405,
          14.304230138870242,
          11.927099673783966,
          12.43681291643437,
          12.613795336894194,
          12.842267952527006,
          13.034784092897246,
          12.234891457803208,
          12.684460637613892,
          12.669418446127429,
          12.920910057495092,
          13.032040821263658,
          13.079509417292295,
          12.267966275643186,
          11.704184378926797,
          11.754987705866252,
          12.268937714634541,
          12.584471112518097,
          12.632678067235405,
          14.304230138870242,
          11.927099673783966,
          12.43681291643437,
          12.613795336894194,
          12.842267952527006,
          13.034784092897246,
          12.234891457803208,
          12.684460637613892,
          12.669418446127429,
          12.920910057495092,
          13.032040821263658,
          13.079509417292295
         ],
         "xaxis": "x",
         "y": [
          0.6341999999999999,
          0.5775000000000001,
          0.5825,
          0.6343000000000001,
          0.6671999999999998,
          0.6722999999999999,
          0.8612,
          0.5996000000000001,
          0.6517,
          0.6703000000000001,
          0.6947000000000001,
          0.7155999999999998,
          0.6307999999999998,
          0.6778,
          0.6762000000000001,
          0.7031999999999998,
          0.7153,
          0.7204999999999999,
          0.6341999999999999,
          0.5775000000000001,
          0.5825,
          0.6343000000000001,
          0.6671999999999998,
          0.6722999999999999,
          0.8612,
          0.5996000000000001,
          0.6517,
          0.6703000000000001,
          0.6947000000000001,
          0.7155999999999998,
          0.6307999999999998,
          0.6778,
          0.6762000000000001,
          0.7031999999999998,
          0.7153,
          0.7204999999999999
         ],
         "yaxis": "y"
        },
        {
         "hovertemplate": "<b>OLS trendline</b><br>wc_height = 0.108124 * mean_u + -0.692137<br>R<sup>2</sup>=0.998511<br><br>site=Interior<br>Runtype=Baseline Run<br>mean_u=%{x}<br>wc_height=%{y} <b>(trend)</b><extra></extra>",
         "legendgroup": "Interior, Baseline Run",
         "marker": {
          "color": "#00cc96",
          "symbol": "diamond"
         },
         "mode": "lines",
         "name": "Interior, Baseline Run",
         "showlegend": false,
         "type": "scatter",
         "x": [
          11.704184378926797,
          11.704184378926797,
          11.754987705866252,
          11.754987705866252,
          11.927099673783966,
          11.927099673783966,
          12.234891457803208,
          12.234891457803208,
          12.267966275643186,
          12.267966275643186,
          12.268937714634541,
          12.268937714634541,
          12.43681291643437,
          12.43681291643437,
          12.584471112518097,
          12.584471112518097,
          12.613795336894194,
          12.613795336894194,
          12.632678067235405,
          12.632678067235405,
          12.669418446127429,
          12.669418446127429,
          12.684460637613892,
          12.684460637613892,
          12.842267952527006,
          12.842267952527006,
          12.920910057495092,
          12.920910057495092,
          13.032040821263658,
          13.032040821263658,
          13.034784092897246,
          13.034784092897246,
          13.079509417292295,
          13.079509417292295,
          14.304230138870242,
          14.304230138870242
         ],
         "xaxis": "x",
         "y": [
          0.5733624177461123,
          0.5733624177461123,
          0.5788554619589716,
          0.5788554619589716,
          0.5974648465463415,
          0.5974648465463415,
          0.6307444362863486,
          0.6307444362863486,
          0.6343206083142905,
          0.6343206083142905,
          0.63442564390253,
          0.63442564390253,
          0.6525769336168452,
          0.6525769336168452,
          0.6685422856585641,
          0.6685422856585641,
          0.6717129296047308,
          0.6717129296047308,
          0.6737546004730064,
          0.6737546004730064,
          0.6777271065628458,
          0.6777271065628458,
          0.6793535241199462,
          0.6793535241199462,
          0.6964162365474884,
          0.6964162365474884,
          0.7049193127357238,
          0.7049193127357238,
          0.7169351832616255,
          0.7169351832616255,
          0.717231795969473,
          0.717231795969473,
          0.7220676639949917,
          0.7220676639949917,
          0.8544890127001652,
          0.8544890127001652
         ],
         "yaxis": "y"
        }
       ],
       "layout": {
        "autosize": true,
        "height": 500,
        "legend": {
         "title": {
          "text": "site, Runtype"
         },
         "tracegroupgap": 0
        },
        "margin": {
         "t": 60
        },
        "template": {
         "data": {
          "bar": [
           {
            "error_x": {
             "color": "#f2f5fa"
            },
            "error_y": {
             "color": "#f2f5fa"
            },
            "marker": {
             "line": {
              "color": "rgb(17,17,17)",
              "width": 0.5
             },
             "pattern": {
              "fillmode": "overlay",
              "size": 10,
              "solidity": 0.2
             }
            },
            "type": "bar"
           }
          ],
          "barpolar": [
           {
            "marker": {
             "line": {
              "color": "rgb(17,17,17)",
              "width": 0.5
             },
             "pattern": {
              "fillmode": "overlay",
              "size": 10,
              "solidity": 0.2
             }
            },
            "type": "barpolar"
           }
          ],
          "carpet": [
           {
            "aaxis": {
             "endlinecolor": "#A2B1C6",
             "gridcolor": "#506784",
             "linecolor": "#506784",
             "minorgridcolor": "#506784",
             "startlinecolor": "#A2B1C6"
            },
            "baxis": {
             "endlinecolor": "#A2B1C6",
             "gridcolor": "#506784",
             "linecolor": "#506784",
             "minorgridcolor": "#506784",
             "startlinecolor": "#A2B1C6"
            },
            "type": "carpet"
           }
          ],
          "choropleth": [
           {
            "colorbar": {
             "outlinewidth": 0,
             "ticks": ""
            },
            "type": "choropleth"
           }
          ],
          "contour": [
           {
            "colorbar": {
             "outlinewidth": 0,
             "ticks": ""
            },
            "colorscale": [
             [
              0,
              "#0d0887"
             ],
             [
              0.1111111111111111,
              "#46039f"
             ],
             [
              0.2222222222222222,
              "#7201a8"
             ],
             [
              0.3333333333333333,
              "#9c179e"
             ],
             [
              0.4444444444444444,
              "#bd3786"
             ],
             [
              0.5555555555555556,
              "#d8576b"
             ],
             [
              0.6666666666666666,
              "#ed7953"
             ],
             [
              0.7777777777777778,
              "#fb9f3a"
             ],
             [
              0.8888888888888888,
              "#fdca26"
             ],
             [
              1,
              "#f0f921"
             ]
            ],
            "type": "contour"
           }
          ],
          "contourcarpet": [
           {
            "colorbar": {
             "outlinewidth": 0,
             "ticks": ""
            },
            "type": "contourcarpet"
           }
          ],
          "heatmap": [
           {
            "colorbar": {
             "outlinewidth": 0,
             "ticks": ""
            },
            "colorscale": [
             [
              0,
              "#0d0887"
             ],
             [
              0.1111111111111111,
              "#46039f"
             ],
             [
              0.2222222222222222,
              "#7201a8"
             ],
             [
              0.3333333333333333,
              "#9c179e"
             ],
             [
              0.4444444444444444,
              "#bd3786"
             ],
             [
              0.5555555555555556,
              "#d8576b"
             ],
             [
              0.6666666666666666,
              "#ed7953"
             ],
             [
              0.7777777777777778,
              "#fb9f3a"
             ],
             [
              0.8888888888888888,
              "#fdca26"
             ],
             [
              1,
              "#f0f921"
             ]
            ],
            "type": "heatmap"
           }
          ],
          "heatmapgl": [
           {
            "colorbar": {
             "outlinewidth": 0,
             "ticks": ""
            },
            "colorscale": [
             [
              0,
              "#0d0887"
             ],
             [
              0.1111111111111111,
              "#46039f"
             ],
             [
              0.2222222222222222,
              "#7201a8"
             ],
             [
              0.3333333333333333,
              "#9c179e"
             ],
             [
              0.4444444444444444,
              "#bd3786"
             ],
             [
              0.5555555555555556,
              "#d8576b"
             ],
             [
              0.6666666666666666,
              "#ed7953"
             ],
             [
              0.7777777777777778,
              "#fb9f3a"
             ],
             [
              0.8888888888888888,
              "#fdca26"
             ],
             [
              1,
              "#f0f921"
             ]
            ],
            "type": "heatmapgl"
           }
          ],
          "histogram": [
           {
            "marker": {
             "pattern": {
              "fillmode": "overlay",
              "size": 10,
              "solidity": 0.2
             }
            },
            "type": "histogram"
           }
          ],
          "histogram2d": [
           {
            "colorbar": {
             "outlinewidth": 0,
             "ticks": ""
            },
            "colorscale": [
             [
              0,
              "#0d0887"
             ],
             [
              0.1111111111111111,
              "#46039f"
             ],
             [
              0.2222222222222222,
              "#7201a8"
             ],
             [
              0.3333333333333333,
              "#9c179e"
             ],
             [
              0.4444444444444444,
              "#bd3786"
             ],
             [
              0.5555555555555556,
              "#d8576b"
             ],
             [
              0.6666666666666666,
              "#ed7953"
             ],
             [
              0.7777777777777778,
              "#fb9f3a"
             ],
             [
              0.8888888888888888,
              "#fdca26"
             ],
             [
              1,
              "#f0f921"
             ]
            ],
            "type": "histogram2d"
           }
          ],
          "histogram2dcontour": [
           {
            "colorbar": {
             "outlinewidth": 0,
             "ticks": ""
            },
            "colorscale": [
             [
              0,
              "#0d0887"
             ],
             [
              0.1111111111111111,
              "#46039f"
             ],
             [
              0.2222222222222222,
              "#7201a8"
             ],
             [
              0.3333333333333333,
              "#9c179e"
             ],
             [
              0.4444444444444444,
              "#bd3786"
             ],
             [
              0.5555555555555556,
              "#d8576b"
             ],
             [
              0.6666666666666666,
              "#ed7953"
             ],
             [
              0.7777777777777778,
              "#fb9f3a"
             ],
             [
              0.8888888888888888,
              "#fdca26"
             ],
             [
              1,
              "#f0f921"
             ]
            ],
            "type": "histogram2dcontour"
           }
          ],
          "mesh3d": [
           {
            "colorbar": {
             "outlinewidth": 0,
             "ticks": ""
            },
            "type": "mesh3d"
           }
          ],
          "parcoords": [
           {
            "line": {
             "colorbar": {
              "outlinewidth": 0,
              "ticks": ""
             }
            },
            "type": "parcoords"
           }
          ],
          "pie": [
           {
            "automargin": true,
            "type": "pie"
           }
          ],
          "scatter": [
           {
            "marker": {
             "line": {
              "color": "#283442"
             }
            },
            "type": "scatter"
           }
          ],
          "scatter3d": [
           {
            "line": {
             "colorbar": {
              "outlinewidth": 0,
              "ticks": ""
             }
            },
            "marker": {
             "colorbar": {
              "outlinewidth": 0,
              "ticks": ""
             }
            },
            "type": "scatter3d"
           }
          ],
          "scattercarpet": [
           {
            "marker": {
             "colorbar": {
              "outlinewidth": 0,
              "ticks": ""
             }
            },
            "type": "scattercarpet"
           }
          ],
          "scattergeo": [
           {
            "marker": {
             "colorbar": {
              "outlinewidth": 0,
              "ticks": ""
             }
            },
            "type": "scattergeo"
           }
          ],
          "scattergl": [
           {
            "marker": {
             "line": {
              "color": "#283442"
             }
            },
            "type": "scattergl"
           }
          ],
          "scattermapbox": [
           {
            "marker": {
             "colorbar": {
              "outlinewidth": 0,
              "ticks": ""
             }
            },
            "type": "scattermapbox"
           }
          ],
          "scatterpolar": [
           {
            "marker": {
             "colorbar": {
              "outlinewidth": 0,
              "ticks": ""
             }
            },
            "type": "scatterpolar"
           }
          ],
          "scatterpolargl": [
           {
            "marker": {
             "colorbar": {
              "outlinewidth": 0,
              "ticks": ""
             }
            },
            "type": "scatterpolargl"
           }
          ],
          "scatterternary": [
           {
            "marker": {
             "colorbar": {
              "outlinewidth": 0,
              "ticks": ""
             }
            },
            "type": "scatterternary"
           }
          ],
          "surface": [
           {
            "colorbar": {
             "outlinewidth": 0,
             "ticks": ""
            },
            "colorscale": [
             [
              0,
              "#0d0887"
             ],
             [
              0.1111111111111111,
              "#46039f"
             ],
             [
              0.2222222222222222,
              "#7201a8"
             ],
             [
              0.3333333333333333,
              "#9c179e"
             ],
             [
              0.4444444444444444,
              "#bd3786"
             ],
             [
              0.5555555555555556,
              "#d8576b"
             ],
             [
              0.6666666666666666,
              "#ed7953"
             ],
             [
              0.7777777777777778,
              "#fb9f3a"
             ],
             [
              0.8888888888888888,
              "#fdca26"
             ],
             [
              1,
              "#f0f921"
             ]
            ],
            "type": "surface"
           }
          ],
          "table": [
           {
            "cells": {
             "fill": {
              "color": "#506784"
             },
             "line": {
              "color": "rgb(17,17,17)"
             }
            },
            "header": {
             "fill": {
              "color": "#2a3f5f"
             },
             "line": {
              "color": "rgb(17,17,17)"
             }
            },
            "type": "table"
           }
          ]
         },
         "layout": {
          "annotationdefaults": {
           "arrowcolor": "#f2f5fa",
           "arrowhead": 0,
           "arrowwidth": 1
          },
          "autotypenumbers": "strict",
          "coloraxis": {
           "colorbar": {
            "outlinewidth": 0,
            "ticks": ""
           }
          },
          "colorscale": {
           "diverging": [
            [
             0,
             "#8e0152"
            ],
            [
             0.1,
             "#c51b7d"
            ],
            [
             0.2,
             "#de77ae"
            ],
            [
             0.3,
             "#f1b6da"
            ],
            [
             0.4,
             "#fde0ef"
            ],
            [
             0.5,
             "#f7f7f7"
            ],
            [
             0.6,
             "#e6f5d0"
            ],
            [
             0.7,
             "#b8e186"
            ],
            [
             0.8,
             "#7fbc41"
            ],
            [
             0.9,
             "#4d9221"
            ],
            [
             1,
             "#276419"
            ]
           ],
           "sequential": [
            [
             0,
             "#0d0887"
            ],
            [
             0.1111111111111111,
             "#46039f"
            ],
            [
             0.2222222222222222,
             "#7201a8"
            ],
            [
             0.3333333333333333,
             "#9c179e"
            ],
            [
             0.4444444444444444,
             "#bd3786"
            ],
            [
             0.5555555555555556,
             "#d8576b"
            ],
            [
             0.6666666666666666,
             "#ed7953"
            ],
            [
             0.7777777777777778,
             "#fb9f3a"
            ],
            [
             0.8888888888888888,
             "#fdca26"
            ],
            [
             1,
             "#f0f921"
            ]
           ],
           "sequentialminus": [
            [
             0,
             "#0d0887"
            ],
            [
             0.1111111111111111,
             "#46039f"
            ],
            [
             0.2222222222222222,
             "#7201a8"
            ],
            [
             0.3333333333333333,
             "#9c179e"
            ],
            [
             0.4444444444444444,
             "#bd3786"
            ],
            [
             0.5555555555555556,
             "#d8576b"
            ],
            [
             0.6666666666666666,
             "#ed7953"
            ],
            [
             0.7777777777777778,
             "#fb9f3a"
            ],
            [
             0.8888888888888888,
             "#fdca26"
            ],
            [
             1,
             "#f0f921"
            ]
           ]
          },
          "colorway": [
           "#636efa",
           "#EF553B",
           "#00cc96",
           "#ab63fa",
           "#FFA15A",
           "#19d3f3",
           "#FF6692",
           "#B6E880",
           "#FF97FF",
           "#FECB52"
          ],
          "font": {
           "color": "#f2f5fa"
          },
          "geo": {
           "bgcolor": "rgb(17,17,17)",
           "lakecolor": "rgb(17,17,17)",
           "landcolor": "rgb(17,17,17)",
           "showlakes": true,
           "showland": true,
           "subunitcolor": "#506784"
          },
          "hoverlabel": {
           "align": "left"
          },
          "hovermode": "closest",
          "mapbox": {
           "style": "dark"
          },
          "paper_bgcolor": "rgb(17,17,17)",
          "plot_bgcolor": "rgb(17,17,17)",
          "polar": {
           "angularaxis": {
            "gridcolor": "#506784",
            "linecolor": "#506784",
            "ticks": ""
           },
           "bgcolor": "rgb(17,17,17)",
           "radialaxis": {
            "gridcolor": "#506784",
            "linecolor": "#506784",
            "ticks": ""
           }
          },
          "scene": {
           "xaxis": {
            "backgroundcolor": "rgb(17,17,17)",
            "gridcolor": "#506784",
            "gridwidth": 2,
            "linecolor": "#506784",
            "showbackground": true,
            "ticks": "",
            "zerolinecolor": "#C8D4E3"
           },
           "yaxis": {
            "backgroundcolor": "rgb(17,17,17)",
            "gridcolor": "#506784",
            "gridwidth": 2,
            "linecolor": "#506784",
            "showbackground": true,
            "ticks": "",
            "zerolinecolor": "#C8D4E3"
           },
           "zaxis": {
            "backgroundcolor": "rgb(17,17,17)",
            "gridcolor": "#506784",
            "gridwidth": 2,
            "linecolor": "#506784",
            "showbackground": true,
            "ticks": "",
            "zerolinecolor": "#C8D4E3"
           }
          },
          "shapedefaults": {
           "line": {
            "color": "#f2f5fa"
           }
          },
          "sliderdefaults": {
           "bgcolor": "#C8D4E3",
           "bordercolor": "rgb(17,17,17)",
           "borderwidth": 1,
           "tickwidth": 0
          },
          "ternary": {
           "aaxis": {
            "gridcolor": "#506784",
            "linecolor": "#506784",
            "ticks": ""
           },
           "baxis": {
            "gridcolor": "#506784",
            "linecolor": "#506784",
            "ticks": ""
           },
           "bgcolor": "rgb(17,17,17)",
           "caxis": {
            "gridcolor": "#506784",
            "linecolor": "#506784",
            "ticks": ""
           }
          },
          "title": {
           "x": 0.05
          },
          "updatemenudefaults": {
           "bgcolor": "#506784",
           "borderwidth": 0
          },
          "xaxis": {
           "automargin": true,
           "gridcolor": "#283442",
           "linecolor": "#506784",
           "ticks": "",
           "title": {
            "standoff": 15
           },
           "zerolinecolor": "#283442",
           "zerolinewidth": 2
          },
          "yaxis": {
           "automargin": true,
           "gridcolor": "#283442",
           "linecolor": "#506784",
           "ticks": "",
           "title": {
            "standoff": 15
           },
           "zerolinecolor": "#283442",
           "zerolinewidth": 2
          }
         }
        },
        "xaxis": {
         "anchor": "y",
         "domain": [
          0,
          1
         ],
         "title": {
          "text": "mean_u"
         }
        },
        "yaxis": {
         "anchor": "x",
         "domain": [
          0,
          1
         ],
         "title": {
          "text": "wc_height"
         }
        }
       }
      }
     },
     "metadata": {},
     "output_type": "display_data"
    }
   ],
   "source": [
    "fig = px.scatter(dff, x='mean_u', y='wc_height', trendline='ols', symbol='Runtype', color='site', template='plotly_dark')\n",
    "fig.update_layout(\n",
    "    height=500,\n",
    "    autosize=True,)\n",
    "fig.show()"
   ]
  },
  {
   "cell_type": "code",
   "execution_count": 16,
   "metadata": {},
   "outputs": [
    {
     "data": {
      "application/vnd.plotly.v1+json": {
       "config": {
        "plotlyServerURL": "https://plot.ly"
       },
       "data": [
        {
         "hovertemplate": "site=Bay<br>Runtype=Vegetated Run<br>mean_u_25=%{x}<br>density_total=%{y}<extra></extra>",
         "legendgroup": "Bay, Vegetated Run",
         "marker": {
          "color": "#636efa",
          "symbol": "circle"
         },
         "mode": "markers",
         "name": "Bay, Vegetated Run",
         "orientation": "v",
         "showlegend": true,
         "type": "scatter",
         "x": [
          0.3734292352375515,
          0.004929030944210574,
          0.0016851723896683496,
          0.002885204398040054,
          0.03841700154945067,
          0.004118452433871988,
          0.0007558926536391336,
          0.36757693955314724,
          0.12868100875055416,
          0.005192999039757156,
          0.0019947016909549094,
          0.0005399224132622771,
          0.05266697989354076,
          0.0014214645829165955,
          0.3360911582760867,
          0.1142274096027529,
          -0.00024263728921717118,
          -0.0000019498706000150495,
          0.003515285940208214,
          0.09458165970530395,
          0.00006789165556886744,
          0.1506688760403536,
          0.0010616662941976237,
          0.0004144965818353142,
          0.0007777073642409654,
          0.013953741044151261,
          0.00031609807803285254,
          0.04350674434899822,
          0.11759945514470693,
          0.05480152731221084,
          0.0038371156023008163,
          0.03434991570494521,
          -0.0016972575679772544,
          -0.0004503517796941325,
          0.03757879727686975,
          0.02977885266902029,
          0.01154581581105171,
          0.40899210416094894,
          0.0004988001130047737,
          0.00025842501448899286,
          0.0019508137022803344,
          0.002122193037308142
         ],
         "xaxis": "x",
         "y": [
          630.481094184055,
          2837.16492382825,
          3467.6460180123,
          4728.60820638041,
          3467.6460180123,
          4728.60820638041,
          4098.12711219636,
          1576.20273546014,
          2837.16492382825,
          4098.12711219636,
          4413.36765928838,
          5359.08930056447,
          5359.08930056447,
          4728.60820638041,
          945.721641276082,
          3782.88656510433,
          4098.12711219636,
          5674.32984765649,
          5359.08930056447,
          5359.08930056447,
          5674.32984765649,
          315.240547092027,
          3467.6460180123,
          3467.6460180123,
          5989.57039474852,
          5043.84875347244,
          5989.57039474852,
          4413.36765928838,
          2206.68382964419,
          3152.40547092027,
          2837.16492382825,
          5989.57039474852,
          5674.32984765649,
          5674.32984765649,
          5043.84875347244,
          945.721641276082,
          1891.44328255216,
          2837.16492382825,
          4728.60820638041,
          5989.57039474852,
          5359.08930056447,
          5359.08930056447
         ],
         "yaxis": "y"
        },
        {
         "hovertemplate": "<b>OLS trendline</b><br>density_total = -9028.69 * mean_u_25 + 4563.55<br>R<sup>2</sup>=0.380826<br><br>site=Bay<br>Runtype=Vegetated Run<br>mean_u_25=%{x}<br>density_total=%{y} <b>(trend)</b><extra></extra>",
         "legendgroup": "Bay, Vegetated Run",
         "marker": {
          "color": "#636efa",
          "symbol": "circle"
         },
         "mode": "lines",
         "name": "Bay, Vegetated Run",
         "showlegend": false,
         "type": "scatter",
         "x": [
          -0.0016972575679772544,
          -0.0004503517796941325,
          -0.00024263728921717118,
          -0.0000019498706000150495,
          0.00006789165556886744,
          0.00025842501448899286,
          0.00031609807803285254,
          0.0004144965818353142,
          0.0004988001130047737,
          0.0005399224132622771,
          0.0007558926536391336,
          0.0007777073642409654,
          0.0010616662941976237,
          0.0014214645829165955,
          0.0016851723896683496,
          0.0019508137022803344,
          0.0019947016909549094,
          0.002122193037308142,
          0.002885204398040054,
          0.003515285940208214,
          0.0038371156023008163,
          0.004118452433871988,
          0.004929030944210574,
          0.005192999039757156,
          0.01154581581105171,
          0.013953741044151261,
          0.02977885266902029,
          0.03434991570494521,
          0.03757879727686975,
          0.03841700154945067,
          0.04350674434899822,
          0.05266697989354076,
          0.05480152731221084,
          0.09458165970530395,
          0.1142274096027529,
          0.11759945514470693,
          0.12868100875055416,
          0.1506688760403536,
          0.3360911582760867,
          0.36757693955314724,
          0.3734292352375515,
          0.40899210416094894
         ],
         "xaxis": "x",
         "y": [
          4578.874831349619,
          4567.616903032598,
          4565.741512873879,
          4563.568420302602,
          4562.937842673924,
          4561.217575660265,
          4560.696863332757,
          4559.808453548538,
          4559.047302930989,
          4558.676022347579,
          4556.726093565775,
          4556.529135262654,
          4553.965357543062,
          4550.716849611632,
          4548.335913046137,
          4545.937519451748,
          4545.54126831945,
          4544.390188220398,
          4537.501193650873,
          4531.812381470945,
          4528.906680575035,
          4526.366576974164,
          4519.048113261461,
          4516.664826628607,
          4459.307200660029,
          4437.566785368265,
          4294.686726621462,
          4253.416006351665,
          4224.263429130153,
          4216.695540918863,
          4170.741820816021,
          4088.036875425178,
          4068.7647042198805,
          3709.6021410725407,
          3532.2267161143154,
          3501.7815555017264,
          3401.729621098869,
          3203.207939574272,
          1529.0872630936087,
          1244.8118415233916,
          1191.9732662884912,
          870.8870760972791
         ],
         "yaxis": "y"
        },
        {
         "hovertemplate": "site=Bay<br>Runtype=Baseline Run<br>mean_u_25=%{x}<br>density_total=%{y}<extra></extra>",
         "legendgroup": "Bay, Baseline Run",
         "marker": {
          "color": "#636efa",
          "symbol": "diamond"
         },
         "mode": "markers",
         "name": "Bay, Baseline Run",
         "orientation": "v",
         "showlegend": true,
         "type": "scatter",
         "x": [
          11.434116546838538,
          9.474710819850497,
          10.45030590623715,
          10.454024082517174,
          10.638276172671308,
          11.022232522243687,
          11.43836434672227,
          11.31710651696091,
          9.638382252015312,
          10.361607100920704,
          10.570477212771559,
          10.662906294923475,
          10.998407090756528,
          11.352250573790563,
          10.89366965998431,
          10.311790962295648,
          10.059976293181483,
          10.258892227295387,
          10.222840772283014,
          10.62822531490318,
          10.819391041677104,
          11.434116546838538,
          9.474710819850497,
          10.45030590623715,
          10.454024082517174,
          10.638276172671308,
          11.022232522243687,
          11.43836434672227,
          11.31710651696091,
          9.638382252015312,
          10.361607100920704,
          10.570477212771559,
          10.662906294923475,
          10.998407090756528,
          11.352250573790563,
          10.89366965998431,
          10.311790962295648,
          10.059976293181483,
          10.258892227295387,
          10.222840772283014,
          10.62822531490318,
          10.819391041677104
         ],
         "xaxis": "x",
         "y": [
          630.481094184055,
          2837.16492382825,
          3467.6460180123,
          4728.60820638041,
          3467.6460180123,
          4728.60820638041,
          4098.12711219636,
          1576.20273546014,
          2837.16492382825,
          4098.12711219636,
          4413.36765928838,
          5359.08930056447,
          5359.08930056447,
          4728.60820638041,
          945.721641276082,
          3782.88656510433,
          4098.12711219636,
          5674.32984765649,
          5359.08930056447,
          5359.08930056447,
          5674.32984765649,
          315.240547092027,
          3467.6460180123,
          3467.6460180123,
          5989.57039474852,
          5043.84875347244,
          5989.57039474852,
          4413.36765928838,
          2206.68382964419,
          3152.40547092027,
          2837.16492382825,
          5989.57039474852,
          5674.32984765649,
          5674.32984765649,
          5043.84875347244,
          945.721641276082,
          1891.44328255216,
          2837.16492382825,
          4728.60820638041,
          5989.57039474852,
          5359.08930056447,
          5359.08930056447
         ],
         "yaxis": "y"
        },
        {
         "hovertemplate": "<b>OLS trendline</b><br>density_total = -230.95 * mean_u_25 + 6490.63<br>R<sup>2</sup>=0.005847<br><br>site=Bay<br>Runtype=Baseline Run<br>mean_u_25=%{x}<br>density_total=%{y} <b>(trend)</b><extra></extra>",
         "legendgroup": "Bay, Baseline Run",
         "marker": {
          "color": "#636efa",
          "symbol": "diamond"
         },
         "mode": "lines",
         "name": "Bay, Baseline Run",
         "showlegend": false,
         "type": "scatter",
         "x": [
          9.474710819850497,
          9.474710819850497,
          9.638382252015312,
          9.638382252015312,
          10.059976293181483,
          10.059976293181483,
          10.222840772283014,
          10.222840772283014,
          10.258892227295387,
          10.258892227295387,
          10.311790962295648,
          10.311790962295648,
          10.361607100920704,
          10.361607100920704,
          10.45030590623715,
          10.45030590623715,
          10.454024082517174,
          10.454024082517174,
          10.570477212771559,
          10.570477212771559,
          10.62822531490318,
          10.62822531490318,
          10.638276172671308,
          10.638276172671308,
          10.662906294923475,
          10.662906294923475,
          10.819391041677104,
          10.819391041677104,
          10.89366965998431,
          10.89366965998431,
          10.998407090756528,
          10.998407090756528,
          11.022232522243687,
          11.022232522243687,
          11.31710651696091,
          11.31710651696091,
          11.352250573790563,
          11.352250573790563,
          11.434116546838538,
          11.434116546838538,
          11.43836434672227,
          11.43836434672227
         ],
         "xaxis": "x",
         "y": [
          4302.452858661617,
          4302.452858661617,
          4264.653011563072,
          4264.653011563072,
          4167.286048477594,
          4167.286048477594,
          4129.672566843103,
          4129.672566843103,
          4121.346498761926,
          4121.346498761926,
          4109.129558589357,
          4109.129558589357,
          4097.624542728246,
          4097.624542728246,
          4077.139591662326,
          4077.139591662326,
          4076.2808804442993,
          4076.2808804442993,
          4049.38607993122,
          4049.38607993122,
          4036.049180498408,
          4036.049180498408,
          4033.727939205292,
          4033.727939205292,
          4028.0396230291803,
          4028.0396230291803,
          3991.899537845681,
          3991.899537845681,
          3974.744922788142,
          3974.744922788142,
          3950.55585804838,
          3950.55585804838,
          3945.053384859506,
          3945.053384859506,
          3876.952362181192,
          3876.952362181192,
          3868.8358573213472,
          3868.8358573213472,
          3849.9289459388465,
          3849.9289459388465,
          3848.9479183765743,
          3848.9479183765743
         ],
         "yaxis": "y"
        },
        {
         "hovertemplate": "site=Creek<br>Runtype=Vegetated Run<br>mean_u_25=%{x}<br>density_total=%{y}<extra></extra>",
         "legendgroup": "Creek, Vegetated Run",
         "marker": {
          "color": "#EF553B",
          "symbol": "circle"
         },
         "mode": "markers",
         "name": "Creek, Vegetated Run",
         "orientation": "v",
         "showlegend": true,
         "type": "scatter",
         "x": [
          0.016934590886659544,
          0.08932821707265798,
          0.006372730534849795,
          -0.00004586971869447415,
          0.0257482748586637,
          0.054628235996303995,
          0.07992236653358013,
          0.0019166251908948073,
          0.0025404937746195803,
          0.024456850355965464,
          0.004022797820505777,
          0.0030476236767782838,
          0.04557546520054787,
          0.031699094217129145,
          0.003574960869766075,
          0.004166883074029617,
          0.013617114402965452,
          0.003167432173020364,
          0.040300510765857736,
          0.04621391412379357,
          0.008814516874630529,
          -0.0003413742422504161,
          0.08827206686418901,
          0.00129690605988384,
          0.18789655871882474,
          0.060720189409911196,
          -0.0002683030852027232,
          0.0523803101757719,
          0.017489446230999663,
          0.024256918183687592,
          0.31800307518738613,
          0.27071813883927864,
          0.03706477951504408,
          0.004843063591332699,
          0.0023385296985131607,
          0.0774222310331337
         ],
         "xaxis": "x",
         "y": [
          5359.08930056447,
          5989.57039474852,
          5989.57039474852,
          4728.60820638041,
          5043.84875347244,
          5674.3298476565,
          5989.57039474852,
          4098.12711219636,
          4728.60820638041,
          5989.57039474852,
          4728.60820638041,
          5674.32984765649,
          5674.32984765649,
          5989.57039474852,
          4728.60820638041,
          5674.32984765649,
          5043.84875347244,
          5359.08930056447,
          4413.36765928838,
          5674.32984765649,
          5674.32984765649,
          3782.88656510433,
          5359.08930056447,
          5043.84875347244,
          5043.84875347244,
          5043.84875347244,
          5359.08930056447,
          3782.88656510433,
          5043.84875347244,
          4413.36765928838,
          5359.08930056447,
          5674.32984765649,
          4413.36765928838,
          4413.36765928838,
          5359.08930056447,
          5674.32984765649
         ],
         "yaxis": "y"
        },
        {
         "hovertemplate": "<b>OLS trendline</b><br>density_total = 1839.18 * mean_u_25 + 5082.24<br>R<sup>2</sup>=0.044933<br><br>site=Creek<br>Runtype=Vegetated Run<br>mean_u_25=%{x}<br>density_total=%{y} <b>(trend)</b><extra></extra>",
         "legendgroup": "Creek, Vegetated Run",
         "marker": {
          "color": "#EF553B",
          "symbol": "circle"
         },
         "mode": "lines",
         "name": "Creek, Vegetated Run",
         "showlegend": false,
         "type": "scatter",
         "x": [
          -0.0003413742422504161,
          -0.0002683030852027232,
          -0.00004586971869447415,
          0.00129690605988384,
          0.0019166251908948073,
          0.0023385296985131607,
          0.0025404937746195803,
          0.0030476236767782838,
          0.003167432173020364,
          0.003574960869766075,
          0.004022797820505777,
          0.004166883074029617,
          0.004843063591332699,
          0.006372730534849795,
          0.008814516874630529,
          0.013617114402965452,
          0.016934590886659544,
          0.017489446230999663,
          0.024256918183687592,
          0.024456850355965464,
          0.0257482748586637,
          0.031699094217129145,
          0.03706477951504408,
          0.040300510765857736,
          0.04557546520054787,
          0.04621391412379357,
          0.0523803101757719,
          0.054628235996303995,
          0.060720189409911196,
          0.0774222310331337,
          0.07992236653358013,
          0.08827206686418901,
          0.08932821707265798,
          0.18789655871882474,
          0.27071813883927864,
          0.31800307518738613
         ],
         "xaxis": "x",
         "y": [
          5081.616200592368,
          5081.750591293931,
          5082.159685352161,
          5084.629286029318,
          5085.7690584395805,
          5086.5450149874505,
          5086.916462422734,
          5087.849163451274,
          5088.06951233466,
          5088.819029239493,
          5089.642680108422,
          5089.907678215587,
          5091.1512930394865,
          5093.964619418916,
          5098.455493691746,
          5107.288314701256,
          5113.389737069225,
          5114.41021357466,
          5126.856784017488,
          5127.224494424482,
          5129.5996510792575,
          5140.544253857887,
          5150.412692249867,
          5156.363770766168,
          5166.0653391528695,
          5167.239558943196,
          5178.580645153217,
          5182.71497585619,
          5193.919148969428,
          5224.637139240511,
          5229.235327875865,
          5244.591894414742,
          5246.534340288152,
          5427.818845980792,
          5580.142289411716,
          5667.107598652139
         ],
         "yaxis": "y"
        },
        {
         "hovertemplate": "site=Creek<br>Runtype=Baseline Run<br>mean_u_25=%{x}<br>density_total=%{y}<extra></extra>",
         "legendgroup": "Creek, Baseline Run",
         "marker": {
          "color": "#EF553B",
          "symbol": "diamond"
         },
         "mode": "markers",
         "name": "Creek, Baseline Run",
         "orientation": "v",
         "showlegend": true,
         "type": "scatter",
         "x": [
          12.473651459982452,
          13.199501536110208,
          11.164987655830519,
          11.50020355222584,
          11.508648800258582,
          11.60532745059137,
          12.019055578951342,
          11.962336225796175,
          11.419662208588123,
          11.453643382441,
          11.554987334957696,
          11.52383465046621,
          12.8617397368975,
          13.492157635653905,
          11.350538754053648,
          11.320540008199771,
          11.405189552044186,
          11.374480787194233,
          12.473651459982452,
          13.199501536110208,
          11.164987655830519,
          11.50020355222584,
          11.508648800258582,
          11.60532745059137,
          12.019055578951342,
          11.962336225796175,
          11.419662208588123,
          11.453643382441,
          11.554987334957696,
          11.52383465046621,
          12.8617397368975,
          13.492157635653905,
          11.350538754053648,
          11.320540008199771,
          11.405189552044186,
          11.374480787194233
         ],
         "xaxis": "x",
         "y": [
          5359.08930056447,
          5989.57039474852,
          5989.57039474852,
          4728.60820638041,
          5043.84875347244,
          5674.3298476565,
          5989.57039474852,
          4098.12711219636,
          4728.60820638041,
          5989.57039474852,
          4728.60820638041,
          5674.32984765649,
          5674.32984765649,
          5989.57039474852,
          4728.60820638041,
          5674.32984765649,
          5043.84875347244,
          5359.08930056447,
          4413.36765928838,
          5674.32984765649,
          5674.32984765649,
          3782.88656510433,
          5359.08930056447,
          5043.84875347244,
          5043.84875347244,
          5043.84875347244,
          5359.08930056447,
          3782.88656510433,
          5043.84875347244,
          4413.36765928838,
          5359.08930056447,
          5674.32984765649,
          4413.36765928838,
          4413.36765928838,
          5359.08930056447,
          5674.32984765649
         ],
         "yaxis": "y"
        },
        {
         "hovertemplate": "<b>OLS trendline</b><br>density_total = 295.703 * mean_u_25 + 1664.17<br>R<sup>2</sup>=0.104507<br><br>site=Creek<br>Runtype=Baseline Run<br>mean_u_25=%{x}<br>density_total=%{y} <b>(trend)</b><extra></extra>",
         "legendgroup": "Creek, Baseline Run",
         "marker": {
          "color": "#EF553B",
          "symbol": "diamond"
         },
         "mode": "lines",
         "name": "Creek, Baseline Run",
         "showlegend": false,
         "type": "scatter",
         "x": [
          11.164987655830519,
          11.164987655830519,
          11.320540008199771,
          11.320540008199771,
          11.350538754053648,
          11.350538754053648,
          11.374480787194233,
          11.374480787194233,
          11.405189552044186,
          11.405189552044186,
          11.419662208588123,
          11.419662208588123,
          11.453643382441,
          11.453643382441,
          11.50020355222584,
          11.50020355222584,
          11.508648800258582,
          11.508648800258582,
          11.52383465046621,
          11.52383465046621,
          11.554987334957696,
          11.554987334957696,
          11.60532745059137,
          11.60532745059137,
          11.962336225796175,
          11.962336225796175,
          12.019055578951342,
          12.019055578951342,
          12.473651459982452,
          12.473651459982452,
          12.8617397368975,
          12.8617397368975,
          13.199501536110208,
          13.199501536110208,
          13.492157635653905,
          13.492157635653905
         ],
         "xaxis": "x",
         "y": [
          4965.681452985862,
          4965.681452985862,
          5011.678687502634,
          5011.678687502634,
          5020.549394549058,
          5020.549394549058,
          5027.6291159187585,
          5027.6291159187585,
          5036.709777426021,
          5036.709777426021,
          5040.98937954706,
          5040.98937954706,
          5051.037700893918,
          5051.037700893918,
          5064.805664001606,
          5064.805664001606,
          5067.302945774576,
          5067.302945774576,
          5071.793441113912,
          5071.793441113912,
          5081.005370811898,
          5081.005370811898,
          5095.891073722432,
          5095.891073722432,
          5201.459495591484,
          5201.459495591484,
          5218.231555602024,
          5218.231555602024,
          5352.6567380673405,
          5352.6567380673405,
          5467.4154492959315,
          5467.4154492959315,
          5567.2924903856965,
          5567.2924903856965,
          5653.831658957832,
          5653.831658957832
         ],
         "yaxis": "y"
        },
        {
         "hovertemplate": "site=Interior<br>Runtype=Vegetated Run<br>mean_u_25=%{x}<br>density_total=%{y}<extra></extra>",
         "legendgroup": "Interior, Vegetated Run",
         "marker": {
          "color": "#00cc96",
          "symbol": "circle"
         },
         "mode": "markers",
         "name": "Interior, Vegetated Run",
         "orientation": "v",
         "showlegend": true,
         "type": "scatter",
         "x": [
          0.0015746731632190157,
          0.006789610594777985,
          0.0014610623283258745,
          0.00992456527611634,
          0.0054448029798137825,
          0.01635967806290349,
          0.20072500427280965,
          0.2196626453136564,
          0.052856819411373546,
          0.023865710947378035,
          0.0028308942383308013,
          -0.00016430959319379895,
          0.1048055342761284,
          0.2898613377739972,
          -0.000290117664191229,
          0.0025519313052247395,
          0.0005411168303500153,
          0.000023395695846995027,
          0.46126071704246374,
          0.26948721896359634,
          -0.00012407115160255873,
          0.0003542568890536012,
          -0.0001042425262878452,
          -0.000060104387769113625,
          0.36207772981973035,
          0.31570041532012644,
          0.07694756328309241,
          0.058714588438223435,
          0.0005679014937473774,
          0.042245954873329924,
          0.03361021314719008,
          0.010095908034088294,
          -0.00016244868360976877,
          0.051000534426177344,
          0.0008122283121855901,
          0.0788035800740835
         ],
         "xaxis": "x",
         "y": [
          5674.32984765649,
          5359.08930056447,
          4413.36765928838,
          5043.84875347244,
          5674.32984765649,
          5359.08930056447,
          5043.84875347244,
          5989.57039474852,
          3782.88656510433,
          4098.12711219636,
          4728.60820638041,
          5359.08930056447,
          5674.32984765649,
          4413.36765928838,
          5359.08930056447,
          5989.57039474852,
          5674.32984765649,
          5674.3298476565,
          4413.36765928838,
          4098.12711219636,
          4728.60820638041,
          5359.08930056447,
          5674.32984765649,
          5359.08930056447,
          4098.12711219636,
          5043.84875347244,
          4728.60820638041,
          4728.60820638041,
          5674.32984765649,
          5359.08930056447,
          5359.08930056447,
          4728.60820638041,
          5043.84875347244,
          4098.12711219636,
          5359.08930056447,
          5359.08930056447
         ],
         "yaxis": "y"
        },
        {
         "hovertemplate": "<b>OLS trendline</b><br>density_total = -1894.63 * mean_u_25 + 5212.22<br>R<sup>2</sup>=0.151206<br><br>site=Interior<br>Runtype=Vegetated Run<br>mean_u_25=%{x}<br>density_total=%{y} <b>(trend)</b><extra></extra>",
         "legendgroup": "Interior, Vegetated Run",
         "marker": {
          "color": "#00cc96",
          "symbol": "circle"
         },
         "mode": "lines",
         "name": "Interior, Vegetated Run",
         "showlegend": false,
         "type": "scatter",
         "x": [
          -0.000290117664191229,
          -0.00016430959319379895,
          -0.00016244868360976877,
          -0.00012407115160255873,
          -0.0001042425262878452,
          -0.000060104387769113625,
          0.000023395695846995027,
          0.0003542568890536012,
          0.0005411168303500153,
          0.0005679014937473774,
          0.0008122283121855901,
          0.0014610623283258745,
          0.0015746731632190157,
          0.0025519313052247395,
          0.0028308942383308013,
          0.0054448029798137825,
          0.006789610594777985,
          0.00992456527611634,
          0.010095908034088294,
          0.01635967806290349,
          0.023865710947378035,
          0.03361021314719008,
          0.042245954873329924,
          0.051000534426177344,
          0.052856819411373546,
          0.058714588438223435,
          0.07694756328309241,
          0.0788035800740835,
          0.1048055342761284,
          0.20072500427280965,
          0.2196626453136564,
          0.26948721896359634,
          0.2898613377739972,
          0.31570041532012644,
          0.36207772981973035,
          0.46126071704246374
         ],
         "xaxis": "x",
         "y": [
          5212.768292523414,
          5212.52993306956,
          5212.52640733875,
          5212.453696204265,
          5212.41612834186,
          5212.332503002817,
          5212.1743014329995,
          5211.547442657653,
          5211.19341264033,
          5211.14266567562,
          5210.679757322102,
          5209.450458434495,
          5209.235208201801,
          5207.383667874093,
          5206.855136978948,
          5201.9027531207075,
          5199.354843387253,
          5193.415271468086,
          5193.090640735827,
          5181.223128649373,
          5167.001990969025,
          5148.539787359897,
          5132.178272036219,
          5115.591603276464,
          5112.0746343589635,
          5100.976343009505,
          5066.4316441543315,
          5062.915183364996,
          5013.65116116357,
          4831.919478123614,
          4796.0396991874,
          4701.640682736776,
          4663.039313254665,
          4614.08388167419,
          4526.216137834716,
          4338.301304719589
         ],
         "yaxis": "y"
        },
        {
         "hovertemplate": "site=Interior<br>Runtype=Baseline Run<br>mean_u_25=%{x}<br>density_total=%{y}<extra></extra>",
         "legendgroup": "Interior, Baseline Run",
         "marker": {
          "color": "#00cc96",
          "symbol": "diamond"
         },
         "mode": "markers",
         "name": "Interior, Baseline Run",
         "orientation": "v",
         "showlegend": true,
         "type": "scatter",
         "x": [
          11.074117120333446,
          10.564960931548402,
          10.610842319010464,
          11.074994425515872,
          11.35995057051224,
          11.403485679015631,
          12.91300486798032,
          10.766278978350103,
          11.226601817789735,
          11.386432925747325,
          11.592762914696792,
          11.766620000325165,
          11.044247280211106,
          11.45024980307172,
          11.436665416090609,
          11.663782994882144,
          11.764142619491881,
          11.807010306305619,
          11.074117120333446,
          10.564960931548402,
          10.610842319010464,
          11.074994425515872,
          11.35995057051224,
          11.403485679015631,
          12.91300486798032,
          10.766278978350103,
          11.226601817789735,
          11.386432925747325,
          11.592762914696792,
          11.766620000325165,
          11.044247280211106,
          11.45024980307172,
          11.436665416090609,
          11.663782994882144,
          11.764142619491881,
          11.807010306305619
         ],
         "xaxis": "x",
         "y": [
          5674.32984765649,
          5359.08930056447,
          4413.36765928838,
          5043.84875347244,
          5674.32984765649,
          5359.08930056447,
          5043.84875347244,
          5989.57039474852,
          3782.88656510433,
          4098.12711219636,
          4728.60820638041,
          5359.08930056447,
          5674.32984765649,
          4413.36765928838,
          5359.08930056447,
          5989.57039474852,
          5674.32984765649,
          5674.3298476565,
          4413.36765928838,
          4098.12711219636,
          4728.60820638041,
          5359.08930056447,
          5674.32984765649,
          5359.08930056447,
          4098.12711219636,
          5043.84875347244,
          4728.60820638041,
          4728.60820638041,
          5674.32984765649,
          5359.08930056447,
          5359.08930056447,
          4728.60820638041,
          5043.84875347244,
          4098.12711219636,
          5359.08930056447,
          5359.08930056447
         ],
         "yaxis": "y"
        },
        {
         "hovertemplate": "<b>OLS trendline</b><br>density_total = 4.72565 * mean_u_25 + 5016.32<br>R<sup>2</sup>=0.000018<br><br>site=Interior<br>Runtype=Baseline Run<br>mean_u_25=%{x}<br>density_total=%{y} <b>(trend)</b><extra></extra>",
         "legendgroup": "Interior, Baseline Run",
         "marker": {
          "color": "#00cc96",
          "symbol": "diamond"
         },
         "mode": "lines",
         "name": "Interior, Baseline Run",
         "showlegend": false,
         "type": "scatter",
         "x": [
          10.564960931548402,
          10.564960931548402,
          10.610842319010464,
          10.610842319010464,
          10.766278978350103,
          10.766278978350103,
          11.044247280211106,
          11.044247280211106,
          11.074117120333446,
          11.074117120333446,
          11.074994425515872,
          11.074994425515872,
          11.226601817789735,
          11.226601817789735,
          11.35995057051224,
          11.35995057051224,
          11.386432925747325,
          11.386432925747325,
          11.403485679015631,
          11.403485679015631,
          11.436665416090609,
          11.436665416090609,
          11.45024980307172,
          11.45024980307172,
          11.592762914696792,
          11.592762914696792,
          11.663782994882144,
          11.663782994882144,
          11.764142619491881,
          11.764142619491881,
          11.766620000325165,
          11.766620000325165,
          11.807010306305619,
          11.807010306305619,
          12.91300486798032,
          12.91300486798032
         ],
         "xaxis": "x",
         "y": [
          5066.249840477297,
          5066.249840477297,
          5066.466659978892,
          5066.466659978892,
          5067.201199644579,
          5067.201199644579,
          5068.51478129506,
          5068.51478129506,
          5068.655935785068,
          5068.655935785068,
          5068.660081624654,
          5068.660081624654,
          5069.376525504172,
          5069.376525504172,
          5070.006685394771,
          5070.006685394771,
          5070.131831807745,
          5070.131831807745,
          5070.212417196919,
          5070.212417196919,
          5070.369213110329,
          5070.369213110329,
          5070.433408205065,
          5070.433408205065,
          5071.106875672867,
          5071.106875672867,
          5071.442491905087,
          5071.442491905087,
          5071.916756634029,
          5071.916756634029,
          5071.928463875402,
          5071.928463875402,
          5072.11933443308,
          5072.11933443308,
          5077.345880596874,
          5077.345880596874
         ],
         "yaxis": "y"
        }
       ],
       "layout": {
        "autosize": true,
        "height": 500,
        "legend": {
         "title": {
          "text": "site, Runtype"
         },
         "tracegroupgap": 0
        },
        "margin": {
         "t": 60
        },
        "template": {
         "data": {
          "bar": [
           {
            "error_x": {
             "color": "#f2f5fa"
            },
            "error_y": {
             "color": "#f2f5fa"
            },
            "marker": {
             "line": {
              "color": "rgb(17,17,17)",
              "width": 0.5
             },
             "pattern": {
              "fillmode": "overlay",
              "size": 10,
              "solidity": 0.2
             }
            },
            "type": "bar"
           }
          ],
          "barpolar": [
           {
            "marker": {
             "line": {
              "color": "rgb(17,17,17)",
              "width": 0.5
             },
             "pattern": {
              "fillmode": "overlay",
              "size": 10,
              "solidity": 0.2
             }
            },
            "type": "barpolar"
           }
          ],
          "carpet": [
           {
            "aaxis": {
             "endlinecolor": "#A2B1C6",
             "gridcolor": "#506784",
             "linecolor": "#506784",
             "minorgridcolor": "#506784",
             "startlinecolor": "#A2B1C6"
            },
            "baxis": {
             "endlinecolor": "#A2B1C6",
             "gridcolor": "#506784",
             "linecolor": "#506784",
             "minorgridcolor": "#506784",
             "startlinecolor": "#A2B1C6"
            },
            "type": "carpet"
           }
          ],
          "choropleth": [
           {
            "colorbar": {
             "outlinewidth": 0,
             "ticks": ""
            },
            "type": "choropleth"
           }
          ],
          "contour": [
           {
            "colorbar": {
             "outlinewidth": 0,
             "ticks": ""
            },
            "colorscale": [
             [
              0,
              "#0d0887"
             ],
             [
              0.1111111111111111,
              "#46039f"
             ],
             [
              0.2222222222222222,
              "#7201a8"
             ],
             [
              0.3333333333333333,
              "#9c179e"
             ],
             [
              0.4444444444444444,
              "#bd3786"
             ],
             [
              0.5555555555555556,
              "#d8576b"
             ],
             [
              0.6666666666666666,
              "#ed7953"
             ],
             [
              0.7777777777777778,
              "#fb9f3a"
             ],
             [
              0.8888888888888888,
              "#fdca26"
             ],
             [
              1,
              "#f0f921"
             ]
            ],
            "type": "contour"
           }
          ],
          "contourcarpet": [
           {
            "colorbar": {
             "outlinewidth": 0,
             "ticks": ""
            },
            "type": "contourcarpet"
           }
          ],
          "heatmap": [
           {
            "colorbar": {
             "outlinewidth": 0,
             "ticks": ""
            },
            "colorscale": [
             [
              0,
              "#0d0887"
             ],
             [
              0.1111111111111111,
              "#46039f"
             ],
             [
              0.2222222222222222,
              "#7201a8"
             ],
             [
              0.3333333333333333,
              "#9c179e"
             ],
             [
              0.4444444444444444,
              "#bd3786"
             ],
             [
              0.5555555555555556,
              "#d8576b"
             ],
             [
              0.6666666666666666,
              "#ed7953"
             ],
             [
              0.7777777777777778,
              "#fb9f3a"
             ],
             [
              0.8888888888888888,
              "#fdca26"
             ],
             [
              1,
              "#f0f921"
             ]
            ],
            "type": "heatmap"
           }
          ],
          "heatmapgl": [
           {
            "colorbar": {
             "outlinewidth": 0,
             "ticks": ""
            },
            "colorscale": [
             [
              0,
              "#0d0887"
             ],
             [
              0.1111111111111111,
              "#46039f"
             ],
             [
              0.2222222222222222,
              "#7201a8"
             ],
             [
              0.3333333333333333,
              "#9c179e"
             ],
             [
              0.4444444444444444,
              "#bd3786"
             ],
             [
              0.5555555555555556,
              "#d8576b"
             ],
             [
              0.6666666666666666,
              "#ed7953"
             ],
             [
              0.7777777777777778,
              "#fb9f3a"
             ],
             [
              0.8888888888888888,
              "#fdca26"
             ],
             [
              1,
              "#f0f921"
             ]
            ],
            "type": "heatmapgl"
           }
          ],
          "histogram": [
           {
            "marker": {
             "pattern": {
              "fillmode": "overlay",
              "size": 10,
              "solidity": 0.2
             }
            },
            "type": "histogram"
           }
          ],
          "histogram2d": [
           {
            "colorbar": {
             "outlinewidth": 0,
             "ticks": ""
            },
            "colorscale": [
             [
              0,
              "#0d0887"
             ],
             [
              0.1111111111111111,
              "#46039f"
             ],
             [
              0.2222222222222222,
              "#7201a8"
             ],
             [
              0.3333333333333333,
              "#9c179e"
             ],
             [
              0.4444444444444444,
              "#bd3786"
             ],
             [
              0.5555555555555556,
              "#d8576b"
             ],
             [
              0.6666666666666666,
              "#ed7953"
             ],
             [
              0.7777777777777778,
              "#fb9f3a"
             ],
             [
              0.8888888888888888,
              "#fdca26"
             ],
             [
              1,
              "#f0f921"
             ]
            ],
            "type": "histogram2d"
           }
          ],
          "histogram2dcontour": [
           {
            "colorbar": {
             "outlinewidth": 0,
             "ticks": ""
            },
            "colorscale": [
             [
              0,
              "#0d0887"
             ],
             [
              0.1111111111111111,
              "#46039f"
             ],
             [
              0.2222222222222222,
              "#7201a8"
             ],
             [
              0.3333333333333333,
              "#9c179e"
             ],
             [
              0.4444444444444444,
              "#bd3786"
             ],
             [
              0.5555555555555556,
              "#d8576b"
             ],
             [
              0.6666666666666666,
              "#ed7953"
             ],
             [
              0.7777777777777778,
              "#fb9f3a"
             ],
             [
              0.8888888888888888,
              "#fdca26"
             ],
             [
              1,
              "#f0f921"
             ]
            ],
            "type": "histogram2dcontour"
           }
          ],
          "mesh3d": [
           {
            "colorbar": {
             "outlinewidth": 0,
             "ticks": ""
            },
            "type": "mesh3d"
           }
          ],
          "parcoords": [
           {
            "line": {
             "colorbar": {
              "outlinewidth": 0,
              "ticks": ""
             }
            },
            "type": "parcoords"
           }
          ],
          "pie": [
           {
            "automargin": true,
            "type": "pie"
           }
          ],
          "scatter": [
           {
            "marker": {
             "line": {
              "color": "#283442"
             }
            },
            "type": "scatter"
           }
          ],
          "scatter3d": [
           {
            "line": {
             "colorbar": {
              "outlinewidth": 0,
              "ticks": ""
             }
            },
            "marker": {
             "colorbar": {
              "outlinewidth": 0,
              "ticks": ""
             }
            },
            "type": "scatter3d"
           }
          ],
          "scattercarpet": [
           {
            "marker": {
             "colorbar": {
              "outlinewidth": 0,
              "ticks": ""
             }
            },
            "type": "scattercarpet"
           }
          ],
          "scattergeo": [
           {
            "marker": {
             "colorbar": {
              "outlinewidth": 0,
              "ticks": ""
             }
            },
            "type": "scattergeo"
           }
          ],
          "scattergl": [
           {
            "marker": {
             "line": {
              "color": "#283442"
             }
            },
            "type": "scattergl"
           }
          ],
          "scattermapbox": [
           {
            "marker": {
             "colorbar": {
              "outlinewidth": 0,
              "ticks": ""
             }
            },
            "type": "scattermapbox"
           }
          ],
          "scatterpolar": [
           {
            "marker": {
             "colorbar": {
              "outlinewidth": 0,
              "ticks": ""
             }
            },
            "type": "scatterpolar"
           }
          ],
          "scatterpolargl": [
           {
            "marker": {
             "colorbar": {
              "outlinewidth": 0,
              "ticks": ""
             }
            },
            "type": "scatterpolargl"
           }
          ],
          "scatterternary": [
           {
            "marker": {
             "colorbar": {
              "outlinewidth": 0,
              "ticks": ""
             }
            },
            "type": "scatterternary"
           }
          ],
          "surface": [
           {
            "colorbar": {
             "outlinewidth": 0,
             "ticks": ""
            },
            "colorscale": [
             [
              0,
              "#0d0887"
             ],
             [
              0.1111111111111111,
              "#46039f"
             ],
             [
              0.2222222222222222,
              "#7201a8"
             ],
             [
              0.3333333333333333,
              "#9c179e"
             ],
             [
              0.4444444444444444,
              "#bd3786"
             ],
             [
              0.5555555555555556,
              "#d8576b"
             ],
             [
              0.6666666666666666,
              "#ed7953"
             ],
             [
              0.7777777777777778,
              "#fb9f3a"
             ],
             [
              0.8888888888888888,
              "#fdca26"
             ],
             [
              1,
              "#f0f921"
             ]
            ],
            "type": "surface"
           }
          ],
          "table": [
           {
            "cells": {
             "fill": {
              "color": "#506784"
             },
             "line": {
              "color": "rgb(17,17,17)"
             }
            },
            "header": {
             "fill": {
              "color": "#2a3f5f"
             },
             "line": {
              "color": "rgb(17,17,17)"
             }
            },
            "type": "table"
           }
          ]
         },
         "layout": {
          "annotationdefaults": {
           "arrowcolor": "#f2f5fa",
           "arrowhead": 0,
           "arrowwidth": 1
          },
          "autotypenumbers": "strict",
          "coloraxis": {
           "colorbar": {
            "outlinewidth": 0,
            "ticks": ""
           }
          },
          "colorscale": {
           "diverging": [
            [
             0,
             "#8e0152"
            ],
            [
             0.1,
             "#c51b7d"
            ],
            [
             0.2,
             "#de77ae"
            ],
            [
             0.3,
             "#f1b6da"
            ],
            [
             0.4,
             "#fde0ef"
            ],
            [
             0.5,
             "#f7f7f7"
            ],
            [
             0.6,
             "#e6f5d0"
            ],
            [
             0.7,
             "#b8e186"
            ],
            [
             0.8,
             "#7fbc41"
            ],
            [
             0.9,
             "#4d9221"
            ],
            [
             1,
             "#276419"
            ]
           ],
           "sequential": [
            [
             0,
             "#0d0887"
            ],
            [
             0.1111111111111111,
             "#46039f"
            ],
            [
             0.2222222222222222,
             "#7201a8"
            ],
            [
             0.3333333333333333,
             "#9c179e"
            ],
            [
             0.4444444444444444,
             "#bd3786"
            ],
            [
             0.5555555555555556,
             "#d8576b"
            ],
            [
             0.6666666666666666,
             "#ed7953"
            ],
            [
             0.7777777777777778,
             "#fb9f3a"
            ],
            [
             0.8888888888888888,
             "#fdca26"
            ],
            [
             1,
             "#f0f921"
            ]
           ],
           "sequentialminus": [
            [
             0,
             "#0d0887"
            ],
            [
             0.1111111111111111,
             "#46039f"
            ],
            [
             0.2222222222222222,
             "#7201a8"
            ],
            [
             0.3333333333333333,
             "#9c179e"
            ],
            [
             0.4444444444444444,
             "#bd3786"
            ],
            [
             0.5555555555555556,
             "#d8576b"
            ],
            [
             0.6666666666666666,
             "#ed7953"
            ],
            [
             0.7777777777777778,
             "#fb9f3a"
            ],
            [
             0.8888888888888888,
             "#fdca26"
            ],
            [
             1,
             "#f0f921"
            ]
           ]
          },
          "colorway": [
           "#636efa",
           "#EF553B",
           "#00cc96",
           "#ab63fa",
           "#FFA15A",
           "#19d3f3",
           "#FF6692",
           "#B6E880",
           "#FF97FF",
           "#FECB52"
          ],
          "font": {
           "color": "#f2f5fa"
          },
          "geo": {
           "bgcolor": "rgb(17,17,17)",
           "lakecolor": "rgb(17,17,17)",
           "landcolor": "rgb(17,17,17)",
           "showlakes": true,
           "showland": true,
           "subunitcolor": "#506784"
          },
          "hoverlabel": {
           "align": "left"
          },
          "hovermode": "closest",
          "mapbox": {
           "style": "dark"
          },
          "paper_bgcolor": "rgb(17,17,17)",
          "plot_bgcolor": "rgb(17,17,17)",
          "polar": {
           "angularaxis": {
            "gridcolor": "#506784",
            "linecolor": "#506784",
            "ticks": ""
           },
           "bgcolor": "rgb(17,17,17)",
           "radialaxis": {
            "gridcolor": "#506784",
            "linecolor": "#506784",
            "ticks": ""
           }
          },
          "scene": {
           "xaxis": {
            "backgroundcolor": "rgb(17,17,17)",
            "gridcolor": "#506784",
            "gridwidth": 2,
            "linecolor": "#506784",
            "showbackground": true,
            "ticks": "",
            "zerolinecolor": "#C8D4E3"
           },
           "yaxis": {
            "backgroundcolor": "rgb(17,17,17)",
            "gridcolor": "#506784",
            "gridwidth": 2,
            "linecolor": "#506784",
            "showbackground": true,
            "ticks": "",
            "zerolinecolor": "#C8D4E3"
           },
           "zaxis": {
            "backgroundcolor": "rgb(17,17,17)",
            "gridcolor": "#506784",
            "gridwidth": 2,
            "linecolor": "#506784",
            "showbackground": true,
            "ticks": "",
            "zerolinecolor": "#C8D4E3"
           }
          },
          "shapedefaults": {
           "line": {
            "color": "#f2f5fa"
           }
          },
          "sliderdefaults": {
           "bgcolor": "#C8D4E3",
           "bordercolor": "rgb(17,17,17)",
           "borderwidth": 1,
           "tickwidth": 0
          },
          "ternary": {
           "aaxis": {
            "gridcolor": "#506784",
            "linecolor": "#506784",
            "ticks": ""
           },
           "baxis": {
            "gridcolor": "#506784",
            "linecolor": "#506784",
            "ticks": ""
           },
           "bgcolor": "rgb(17,17,17)",
           "caxis": {
            "gridcolor": "#506784",
            "linecolor": "#506784",
            "ticks": ""
           }
          },
          "title": {
           "x": 0.05
          },
          "updatemenudefaults": {
           "bgcolor": "#506784",
           "borderwidth": 0
          },
          "xaxis": {
           "automargin": true,
           "gridcolor": "#283442",
           "linecolor": "#506784",
           "ticks": "",
           "title": {
            "standoff": 15
           },
           "zerolinecolor": "#283442",
           "zerolinewidth": 2
          },
          "yaxis": {
           "automargin": true,
           "gridcolor": "#283442",
           "linecolor": "#506784",
           "ticks": "",
           "title": {
            "standoff": 15
           },
           "zerolinecolor": "#283442",
           "zerolinewidth": 2
          }
         }
        },
        "xaxis": {
         "anchor": "y",
         "domain": [
          0,
          1
         ],
         "title": {
          "text": "mean_u_25"
         }
        },
        "yaxis": {
         "anchor": "x",
         "domain": [
          0,
          1
         ],
         "title": {
          "text": "density_total"
         }
        }
       }
      }
     },
     "metadata": {},
     "output_type": "display_data"
    }
   ],
   "source": [
    "fig = px.scatter(dff, x='mean_u_25', y='density_total', symbol='Runtype', color='site', trendline='ols', template='plotly_dark')\n",
    "#fig = px.scatter(base_df, x='mean_u_25', y='density_total', symbol='site', color='site')\n",
    "fig.update_layout(\n",
    "    height=500,\n",
    "    autosize=True,)\n",
    "fig.show()"
   ]
  },
  {
   "cell_type": "code",
   "execution_count": 17,
   "metadata": {},
   "outputs": [
    {
     "data": {
      "application/vnd.plotly.v1+json": {
       "config": {
        "plotlyServerURL": "https://plot.ly"
       },
       "data": [
        {
         "hovertemplate": "site=Bay<br>Runtype=Vegetated Run<br>mean_u=%{x}<br>Hveg/WC=%{y}<extra></extra>",
         "legendgroup": "Bay, Vegetated Run",
         "marker": {
          "color": "#636efa",
          "symbol": "circle"
         },
         "mode": "markers",
         "name": "Bay, Vegetated Run",
         "orientation": "v",
         "showlegend": true,
         "type": "scatter",
         "x": [
          1.3592650169565137,
          0.5103025642236216,
          0.3286437924729354,
          0.45515997537639585,
          0.698899136355107,
          0.5200176014225153,
          0.3265804713721051,
          1.3621275004736746,
          0.9057318120811019,
          0.543751367828793,
          0.38082686886336153,
          0.20112182662794495,
          0.7625154658544469,
          0.40975347369678367,
          1.2777263819523763,
          0.8709433130067955,
          0.26654950669580113,
          0.17164323846681598,
          0.47691502456706003,
          0.8433391850343966,
          0.3290697201519917,
          0.9916123850499081,
          0.25945525042793266,
          0.35722004861242634,
          0.4263030163263412,
          0.5950197344133862,
          0.5158934199389179,
          0.7439415723306905,
          0.7977465341310799,
          0.5779043553844703,
          0.5412187000103333,
          0.6836638936476852,
          0.4632916358853887,
          0.369575831093671,
          0.7221646733015429,
          0.6553435740122208,
          0.5826878863742487,
          1.3089906898905679,
          0.10171930592298131,
          0.14852464806883567,
          0.40950966157062546,
          0.2716526334527395
         ],
         "xaxis": "x",
         "y": [
          9.61680722000296,
          22.657054582904223,
          33.622367722527,
          26.525198938992038,
          18.787361229718186,
          25.465541938564385,
          35.48196333530455,
          9.060706735125342,
          14.15285078851598,
          23.398128149748015,
          31.13648157758173,
          44.20265215912954,
          17.58312020460358,
          30.01650907999399,
          9.775171065493648,
          14.53752498637107,
          36.266463065470525,
          45.89682393978339,
          25.882787946015913,
          15.40041067761807,
          34.682080924855505,
          14.795088030773785,
          37.075180226570545,
          31.85276942134137,
          28.29354553492484,
          22.203245089666947,
          25.465541938564385,
          19.219396806623298,
          18.121413470250683,
          22.2401940962394,
          23.398128149748015,
          19.027849852966614,
          27.201632097925874,
          31.969309462915604,
          19.510730901996094,
          21.17953730856957,
          21.806287479556605,
          7.635044855888531,
          55.07618872774007,
          49.91680532445926,
          29.089664613278575,
          37.98513625103222
         ],
         "yaxis": "y"
        },
        {
         "hovertemplate": "<b>OLS trendline</b><br>Hveg/WC = -31.0311 * mean_u + 44.0054<br>R<sup>2</sup>=0.837825<br><br>site=Bay<br>Runtype=Vegetated Run<br>mean_u=%{x}<br>Hveg/WC=%{y} <b>(trend)</b><extra></extra>",
         "legendgroup": "Bay, Vegetated Run",
         "marker": {
          "color": "#636efa",
          "symbol": "circle"
         },
         "mode": "lines",
         "name": "Bay, Vegetated Run",
         "showlegend": false,
         "type": "scatter",
         "x": [
          0.10171930592298131,
          0.14852464806883567,
          0.17164323846681598,
          0.20112182662794495,
          0.25945525042793266,
          0.26654950669580113,
          0.2716526334527395,
          0.3265804713721051,
          0.3286437924729354,
          0.3290697201519917,
          0.35722004861242634,
          0.369575831093671,
          0.38082686886336153,
          0.40950966157062546,
          0.40975347369678367,
          0.4263030163263412,
          0.45515997537639585,
          0.4632916358853887,
          0.47691502456706003,
          0.5103025642236216,
          0.5158934199389179,
          0.5200176014225153,
          0.5412187000103333,
          0.543751367828793,
          0.5779043553844703,
          0.5826878863742487,
          0.5950197344133862,
          0.6553435740122208,
          0.6836638936476852,
          0.698899136355107,
          0.7221646733015429,
          0.7439415723306905,
          0.7625154658544469,
          0.7977465341310799,
          0.8433391850343966,
          0.8709433130067955,
          0.9057318120811019,
          0.9916123850499081,
          1.2777263819523763,
          1.3089906898905679,
          1.3592650169565137,
          1.3621275004736746
         ],
         "xaxis": "x",
         "y": [
          40.84894238042119,
          39.396522107197704,
          38.67912730047369,
          37.76437490024961,
          35.95422581364275,
          35.734083386421815,
          35.575727856501544,
          33.87125777465028,
          33.80723069441493,
          33.79401369892624,
          32.92047863050549,
          32.53706536730625,
          32.18793352460805,
          31.297875516039753,
          31.290309762673687,
          30.776759596693864,
          29.881297018570365,
          29.628962818311173,
          29.20621436687152,
          28.17016298369542,
          27.99667269790156,
          27.868694896167653,
          27.210801929428936,
          27.132210514085607,
          26.072406456624854,
          25.923968328227105,
          25.54129777659348,
          23.66938393994205,
          22.790573861927037,
          22.31780784075824,
          21.59585312406942,
          20.920092448304842,
          20.34372448965319,
          19.250466424092078,
          17.83567726870838,
          16.97909139082224,
          15.899566725174338,
          13.234599874440804,
          4.356173812321877,
          3.3860086004913867,
          1.825941981905295,
          1.737116029535649
         ],
         "yaxis": "y"
        },
        {
         "hovertemplate": "site=Bay<br>Runtype=Baseline Run<br>mean_u=%{x}<br>Hveg/WC=%{y}<extra></extra>",
         "legendgroup": "Bay, Baseline Run",
         "marker": {
          "color": "#636efa",
          "symbol": "diamond"
         },
         "mode": "markers",
         "name": "Bay, Baseline Run",
         "orientation": "v",
         "showlegend": true,
         "type": "scatter",
         "x": [
          12.666596046563184,
          10.51859039204306,
          11.577230183104732,
          11.58134720129095,
          11.785364586021501,
          12.210514583684175,
          12.67129969658718,
          12.537029448922363,
          10.692235430430411,
          11.479017042446284,
          11.710292415099374,
          11.81263699102164,
          12.184132781358366,
          12.575944820816172,
          12.068157767829915,
          11.423857532362923,
          11.145034917040466,
          11.365284932633738,
          11.325366725827468,
          11.774235496098159,
          11.985909895842886,
          12.666596046563184,
          10.51859039204306,
          11.577230183104732,
          11.58134720129095,
          11.785364586021501,
          12.210514583684175,
          12.67129969658718,
          12.537029448922363,
          10.692235430430411,
          11.479017042446284,
          11.710292415099374,
          11.81263699102164,
          12.184132781358366,
          12.575944820816172,
          12.068157767829915,
          11.423857532362923,
          11.145034917040466,
          11.365284932633738,
          11.325366725827468,
          11.774235496098159,
          11.985909895842886
         ],
         "xaxis": "x",
         "y": [
          9.61680722000296,
          22.657054582904223,
          33.622367722527,
          26.525198938992038,
          18.787361229718186,
          25.465541938564385,
          35.48196333530455,
          9.060706735125342,
          14.15285078851598,
          23.398128149748015,
          31.13648157758173,
          44.20265215912954,
          17.58312020460358,
          30.01650907999399,
          9.775171065493648,
          14.53752498637107,
          36.266463065470525,
          45.89682393978339,
          25.882787946015913,
          15.40041067761807,
          34.682080924855505,
          14.795088030773785,
          37.075180226570545,
          31.85276942134137,
          28.29354553492484,
          22.203245089666947,
          25.465541938564385,
          19.219396806623298,
          18.121413470250683,
          22.2401940962394,
          23.398128149748015,
          19.027849852966614,
          27.201632097925874,
          31.969309462915604,
          19.510730901996094,
          21.17953730856957,
          21.806287479556605,
          7.635044855888531,
          55.07618872774007,
          49.91680532445926,
          29.089664613278575,
          37.98513625103222
         ],
         "yaxis": "y"
        },
        {
         "hovertemplate": "<b>OLS trendline</b><br>Hveg/WC = -4.23617 * mean_u + 75.7296<br>R<sup>2</sup>=0.051606<br><br>site=Bay<br>Runtype=Baseline Run<br>mean_u=%{x}<br>Hveg/WC=%{y} <b>(trend)</b><extra></extra>",
         "legendgroup": "Bay, Baseline Run",
         "marker": {
          "color": "#636efa",
          "symbol": "diamond"
         },
         "mode": "lines",
         "name": "Bay, Baseline Run",
         "showlegend": false,
         "type": "scatter",
         "x": [
          10.51859039204306,
          10.51859039204306,
          10.692235430430411,
          10.692235430430411,
          11.145034917040466,
          11.145034917040466,
          11.325366725827468,
          11.325366725827468,
          11.365284932633738,
          11.365284932633738,
          11.423857532362923,
          11.423857532362923,
          11.479017042446284,
          11.479017042446284,
          11.577230183104732,
          11.577230183104732,
          11.58134720129095,
          11.58134720129095,
          11.710292415099374,
          11.710292415099374,
          11.774235496098159,
          11.774235496098159,
          11.785364586021501,
          11.785364586021501,
          11.81263699102164,
          11.81263699102164,
          11.985909895842886,
          11.985909895842886,
          12.068157767829915,
          12.068157767829915,
          12.184132781358366,
          12.184132781358366,
          12.210514583684175,
          12.210514583684175,
          12.537029448922363,
          12.537029448922363,
          12.575944820816172,
          12.575944820816172,
          12.666596046563184,
          12.666596046563184,
          12.67129969658718,
          12.67129969658718
         ],
         "xaxis": "x",
         "y": [
          31.17103437755187,
          31.17103437755187,
          30.43544399293617,
          30.43544399293617,
          28.517307133959015,
          28.517307133959015,
          27.753390434604945,
          27.753390434604945,
          27.584290013593822,
          27.584290013593822,
          27.336166361096353,
          27.336166361096353,
          27.102501146044702,
          27.102501146044702,
          26.686453313165615,
          26.686453313165615,
          26.669012912799474,
          26.669012912799474,
          26.12277870823724,
          26.12277870823724,
          25.851904769181836,
          25.851904769181836,
          25.804760021406935,
          25.804760021406935,
          25.689229401760343,
          25.689229401760343,
          24.955215439227082,
          24.955215439227082,
          24.606799242884044,
          24.606799242884044,
          24.115509047670386,
          24.115509047670386,
          24.003751174828622,
          24.003751174828622,
          22.62057779116114,
          22.62057779116114,
          22.455725552106813,
          22.455725552106813,
          22.071711297323553,
          22.071711297323553,
          22.051785823135624,
          22.051785823135624
         ],
         "yaxis": "y"
        },
        {
         "hovertemplate": "site=Creek<br>Runtype=Vegetated Run<br>mean_u=%{x}<br>Hveg/WC=%{y}<extra></extra>",
         "legendgroup": "Creek, Vegetated Run",
         "marker": {
          "color": "#EF553B",
          "symbol": "circle"
         },
         "mode": "markers",
         "name": "Creek, Vegetated Run",
         "orientation": "v",
         "showlegend": true,
         "type": "scatter",
         "x": [
          0.7012205971671923,
          0.9762512932924693,
          0.5554442297995603,
          0.4413861500219262,
          0.690553787409425,
          0.7992741099075418,
          0.8898439756923031,
          0.5908675654258939,
          0.4397756349892603,
          0.6760749858908367,
          0.5363194580364846,
          0.46909420986116634,
          0.8287400877592603,
          0.8086795514175197,
          0.5651702857145902,
          0.4950741918960787,
          0.6446474608426062,
          0.49707070332813225,
          0.7908562660418602,
          0.8493201150638061,
          0.5887136684876483,
          0.3123951438875673,
          0.9069496709412486,
          0.35088555805782906,
          1.108348388807586,
          0.8269815667876742,
          0.5296118922434696,
          0.7858527847810537,
          0.652363195535387,
          0.697215243347076,
          1.3861057989652343,
          1.3480995087939405,
          0.7336325640708997,
          0.46237621879014545,
          0.5352518203519523,
          0.8365373645640469
         ],
         "xaxis": "x",
         "y": [
          22.393630256282663,
          16.672224074691567,
          24.82159478746509,
          29.252596167909903,
          20.446911055936912,
          18.67279517380064,
          17.414601473543208,
          24.340770791075048,
          29.66478789676654,
          20.64287820701858,
          26.079397276151845,
          27.676620538965764,
          19.897003745318354,
          20.214916480476646,
          24.020417354751533,
          28.67491699366134,
          22.30483271375465,
          26.90985199581403,
          19.9054491166957,
          18.89518728465044,
          23.270245113248524,
          36.56574520988738,
          16.065430115379,
          34.472852628555025,
          13.39584728734093,
          17.57944557133198,
          25.215069712251562,
          17.69389560601593,
          21.73283106345987,
          20.393299344501088,
          10.533707865168541,
          11.703372699223323,
          19.516589100735622,
          28.67491699366134,
          25.278810408921938,
          16.444909552997462
         ],
         "yaxis": "y"
        },
        {
         "hovertemplate": "<b>OLS trendline</b><br>Hveg/WC = -22.5281 * mean_u + 37.9877<br>R<sup>2</sup>=0.884319<br><br>site=Creek<br>Runtype=Vegetated Run<br>mean_u=%{x}<br>Hveg/WC=%{y} <b>(trend)</b><extra></extra>",
         "legendgroup": "Creek, Vegetated Run",
         "marker": {
          "color": "#EF553B",
          "symbol": "circle"
         },
         "mode": "lines",
         "name": "Creek, Vegetated Run",
         "showlegend": false,
         "type": "scatter",
         "x": [
          0.3123951438875673,
          0.35088555805782906,
          0.4397756349892603,
          0.4413861500219262,
          0.46237621879014545,
          0.46909420986116634,
          0.4950741918960787,
          0.49707070332813225,
          0.5296118922434696,
          0.5352518203519523,
          0.5363194580364846,
          0.5554442297995603,
          0.5651702857145902,
          0.5887136684876483,
          0.5908675654258939,
          0.6446474608426062,
          0.652363195535387,
          0.6760749858908367,
          0.690553787409425,
          0.697215243347076,
          0.7012205971671923,
          0.7336325640708997,
          0.7858527847810537,
          0.7908562660418602,
          0.7992741099075418,
          0.8086795514175197,
          0.8269815667876742,
          0.8287400877592603,
          0.8365373645640469,
          0.8493201150638061,
          0.8898439756923031,
          0.9069496709412486,
          0.9762512932924693,
          1.108348388807586,
          1.3480995087939405,
          1.3861057989652343
         ],
         "xaxis": "x",
         "y": [
          30.950024584765217,
          30.082907784648768,
          28.08038116256739,
          28.04409928117513,
          27.57123242180564,
          27.419888689962526,
          26.83460844876935,
          26.78963079286001,
          26.05653887341652,
          25.929481877025644,
          25.905430003522795,
          25.47458478526146,
          25.255474997419523,
          24.725086765071957,
          24.676563509057864,
          23.46500338871064,
          23.29118236543569,
          22.757000226290636,
          22.430819999006424,
          22.28074989762426,
          22.19051679250697,
          21.460336002487377,
          20.283912426392213,
          20.17119338312286,
          19.981555157761047,
          19.7696682107997,
          19.357358150085627,
          19.317741972637542,
          19.142083958601088,
          18.854112577960507,
          17.94118604510714,
          17.55582683170869,
          15.99459133161118,
          13.018691663162233,
          7.617548846997831,
          6.761338452070678
         ],
         "yaxis": "y"
        },
        {
         "hovertemplate": "site=Creek<br>Runtype=Baseline Run<br>mean_u=%{x}<br>Hveg/WC=%{y}<extra></extra>",
         "legendgroup": "Creek, Baseline Run",
         "marker": {
          "color": "#EF553B",
          "symbol": "diamond"
         },
         "mode": "markers",
         "name": "Creek, Baseline Run",
         "orientation": "v",
         "showlegend": true,
         "type": "scatter",
         "x": [
          13.817708332780828,
          14.621487725586963,
          12.368587295543255,
          12.739775223497649,
          12.749126791804448,
          12.856180926516961,
          13.314314111715754,
          13.2515067494333,
          12.650590555087883,
          12.688218399138787,
          12.800438298798559,
          12.765942351993685,
          14.24746095527085,
          14.945568351612035,
          12.574049304189142,
          12.540831386423696,
          12.634564788150003,
          12.60056058924204,
          13.817708332780828,
          14.621487725586963,
          12.368587295543255,
          12.739775223497649,
          12.749126791804448,
          12.856180926516961,
          13.314314111715754,
          13.2515067494333,
          12.650590555087883,
          12.688218399138787,
          12.800438298798559,
          12.765942351993685,
          14.24746095527085,
          14.945568351612035,
          12.574049304189142,
          12.540831386423696,
          12.634564788150003,
          12.60056058924204
         ],
         "xaxis": "x",
         "y": [
          22.393630256282663,
          16.672224074691567,
          24.82159478746509,
          29.252596167909903,
          20.446911055936912,
          18.67279517380064,
          17.414601473543208,
          24.340770791075048,
          29.66478789676654,
          20.64287820701858,
          26.079397276151845,
          27.676620538965764,
          19.897003745318354,
          20.214916480476646,
          24.020417354751533,
          28.67491699366134,
          22.30483271375465,
          26.90985199581403,
          19.9054491166957,
          18.89518728465044,
          23.270245113248524,
          36.56574520988738,
          16.065430115379,
          34.472852628555025,
          13.39584728734093,
          17.57944557133198,
          25.215069712251562,
          17.69389560601593,
          21.73283106345987,
          20.393299344501088,
          10.533707865168541,
          11.703372699223323,
          19.516589100735622,
          28.67491699366134,
          25.278810408921938,
          16.444909552997462
         ],
         "yaxis": "y"
        },
        {
         "hovertemplate": "<b>OLS trendline</b><br>Hveg/WC = -3.92738 * mean_u + 73.6798<br>R<sup>2</sup>=0.261186<br><br>site=Creek<br>Runtype=Baseline Run<br>mean_u=%{x}<br>Hveg/WC=%{y} <b>(trend)</b><extra></extra>",
         "legendgroup": "Creek, Baseline Run",
         "marker": {
          "color": "#EF553B",
          "symbol": "diamond"
         },
         "mode": "lines",
         "name": "Creek, Baseline Run",
         "showlegend": false,
         "type": "scatter",
         "x": [
          12.368587295543255,
          12.368587295543255,
          12.540831386423696,
          12.540831386423696,
          12.574049304189142,
          12.574049304189142,
          12.60056058924204,
          12.60056058924204,
          12.634564788150003,
          12.634564788150003,
          12.650590555087883,
          12.650590555087883,
          12.688218399138787,
          12.688218399138787,
          12.739775223497649,
          12.739775223497649,
          12.749126791804448,
          12.749126791804448,
          12.765942351993685,
          12.765942351993685,
          12.800438298798559,
          12.800438298798559,
          12.856180926516961,
          12.856180926516961,
          13.2515067494333,
          13.2515067494333,
          13.314314111715754,
          13.314314111715754,
          13.817708332780828,
          13.817708332780828,
          14.24746095527085,
          14.24746095527085,
          14.621487725586963,
          14.621487725586963,
          14.945568351612035,
          14.945568351612035
         ],
         "xaxis": "x",
         "y": [
          25.103654915758106,
          25.103654915758106,
          24.427187325714826,
          24.427187325714826,
          24.296728018448107,
          24.296728018448107,
          24.192608190493416,
          24.192608190493416,
          24.059060860253858,
          24.059060860253858,
          23.996121621620773,
          23.996121621620773,
          23.848342868494733,
          23.848342868494733,
          23.645859749648395,
          23.645859749648395,
          23.609132609441204,
          23.609132609441204,
          23.54309155445757,
          23.54309155445757,
          23.40761294452632,
          23.40761294452632,
          23.188690595187076,
          23.188690595187076,
          21.63609680028167,
          21.63609680028167,
          21.389428570428265,
          21.389428570428265,
          19.412409365734746,
          19.412409365734746,
          17.724608528187296,
          17.724608528187296,
          16.255664156080847,
          16.255664156080847,
          14.982877153947506,
          14.982877153947506
         ],
         "yaxis": "y"
        },
        {
         "hovertemplate": "site=Interior<br>Runtype=Vegetated Run<br>mean_u=%{x}<br>Hveg/WC=%{y}<extra></extra>",
         "legendgroup": "Interior, Vegetated Run",
         "marker": {
          "color": "#00cc96",
          "symbol": "circle"
         },
         "mode": "markers",
         "name": "Interior, Vegetated Run",
         "orientation": "v",
         "showlegend": true,
         "type": "scatter",
         "x": [
          0.3324782009321994,
          0.5605192619077259,
          0.5221258022091906,
          0.4522017025862316,
          0.4598617743343786,
          0.6404308369864579,
          1.1978981800785493,
          1.0842203100063368,
          0.7808682854363156,
          0.6874622338211613,
          0.5053887828651638,
          0.4007947695683334,
          0.88090332438123,
          1.246928195992003,
          0.34257505689218215,
          0.4581330220253045,
          0.4237513277861222,
          0.32795938556551335,
          1.4622657631981093,
          1.1491061157834896,
          0.49261612431010615,
          0.5032697715657666,
          0.46758428783971756,
          0.4821531906882198,
          1.424962409796556,
          1.2077743399244807,
          0.8280468136003757,
          0.73761002260273,
          0.3945666755180598,
          0.7510287301279653,
          0.7060010045180906,
          0.7148145690067229,
          0.4661870675468359,
          0.7969722493283818,
          0.4787615550155717,
          0.8704910931158285
         ],
         "xaxis": "x",
         "y": [
          34.68937243771681,
          22.510822510822507,
          24.034334763948497,
          28.3777392401072,
          29.976019184652287,
          22.311468094600627,
          12.772875058058524,
          11.674449633088724,
          18.413380389749886,
          20.886170371475455,
          27.349935223837623,
          32.14086081609839,
          15.852885225110976,
          10.327530244910003,
          34.01360544217686,
          29.86348122866895,
          30.75632601705578,
          36.08605135322693,
          7.8839482812992765,
          10.389610389610388,
          25.75107296137339,
          26.801198171212356,
          28.477218225419673,
          32.723486538747586,
          10.45053413841152,
          10.006671114076049,
          16.878932023937395,
          20.886170371475455,
          31.66834604865409,
          19.564002235885976,
          19.02346227013317,
          19.179699026261435,
          28.09819580005915,
          19.9089874857793,
          27.960296379141617,
          16.655100624566277
         ],
         "yaxis": "y"
        },
        {
         "hovertemplate": "<b>OLS trendline</b><br>Hveg/WC = -24.2113 * mean_u + 39.5946<br>R<sup>2</sup>=0.910255<br><br>site=Interior<br>Runtype=Vegetated Run<br>mean_u=%{x}<br>Hveg/WC=%{y} <b>(trend)</b><extra></extra>",
         "legendgroup": "Interior, Vegetated Run",
         "marker": {
          "color": "#00cc96",
          "symbol": "circle"
         },
         "mode": "lines",
         "name": "Interior, Vegetated Run",
         "showlegend": false,
         "type": "scatter",
         "x": [
          0.32795938556551335,
          0.3324782009321994,
          0.34257505689218215,
          0.3945666755180598,
          0.4007947695683334,
          0.4237513277861222,
          0.4522017025862316,
          0.4581330220253045,
          0.4598617743343786,
          0.4661870675468359,
          0.46758428783971756,
          0.4787615550155717,
          0.4821531906882198,
          0.49261612431010615,
          0.5032697715657666,
          0.5053887828651638,
          0.5221258022091906,
          0.5605192619077259,
          0.6404308369864579,
          0.6874622338211613,
          0.7060010045180906,
          0.7148145690067229,
          0.73761002260273,
          0.7510287301279653,
          0.7808682854363156,
          0.7969722493283818,
          0.8280468136003757,
          0.8704910931158285,
          0.88090332438123,
          1.0842203100063368,
          1.1491061157834896,
          1.1978981800785493,
          1.2077743399244807,
          1.246928195992003,
          1.424962409796556,
          1.4622657631981093
         ],
         "xaxis": "x",
         "y": [
          31.654296998297937,
          31.544890587117543,
          31.30043254111483,
          30.04164767301595,
          29.89085739652937,
          29.33504919374723,
          28.646228529250852,
          28.502623553004746,
          28.46076820583788,
          28.307624610916854,
          28.27379608607834,
          28.003179876013654,
          27.921063954723436,
          27.66774269127275,
          27.409804002116154,
          27.358499976015224,
          26.953274917742988,
          26.023719205114613,
          24.088955792209674,
          22.950264360287,
          22.501416552828392,
          22.28802866636659,
          21.736121016508932,
          21.41123661343317,
          20.688782077765854,
          20.29888411729624,
          19.54652840454521,
          18.518897063119375,
          18.266803369819552,
          13.344234084681414,
          11.773264135574468,
          10.591944649064793,
          10.352829943703487,
          9.404864043657678,
          5.094423625295569,
          4.191260807282276
         ],
         "yaxis": "y"
        },
        {
         "hovertemplate": "site=Interior<br>Runtype=Baseline Run<br>mean_u=%{x}<br>Hveg/WC=%{y}<extra></extra>",
         "legendgroup": "Interior, Baseline Run",
         "marker": {
          "color": "#00cc96",
          "symbol": "diamond"
         },
         "mode": "markers",
         "name": "Interior, Baseline Run",
         "orientation": "v",
         "showlegend": true,
         "type": "scatter",
         "x": [
          12.267966275643186,
          11.704184378926797,
          11.754987705866252,
          12.268937714634541,
          12.584471112518097,
          12.632678067235405,
          14.304230138870242,
          11.927099673783966,
          12.43681291643437,
          12.613795336894194,
          12.842267952527006,
          13.034784092897246,
          12.234891457803208,
          12.684460637613892,
          12.669418446127429,
          12.920910057495092,
          13.032040821263658,
          13.079509417292295,
          12.267966275643186,
          11.704184378926797,
          11.754987705866252,
          12.268937714634541,
          12.584471112518097,
          12.632678067235405,
          14.304230138870242,
          11.927099673783966,
          12.43681291643437,
          12.613795336894194,
          12.842267952527006,
          13.034784092897246,
          12.234891457803208,
          12.684460637613892,
          12.669418446127429,
          12.920910057495092,
          13.032040821263658,
          13.079509417292295
         ],
         "xaxis": "x",
         "y": [
          34.68937243771681,
          22.510822510822507,
          24.034334763948497,
          28.3777392401072,
          29.976019184652287,
          22.311468094600627,
          12.772875058058524,
          11.674449633088724,
          18.413380389749886,
          20.886170371475455,
          27.349935223837623,
          32.14086081609839,
          15.852885225110976,
          10.327530244910003,
          34.01360544217686,
          29.86348122866895,
          30.75632601705578,
          36.08605135322693,
          7.8839482812992765,
          10.389610389610388,
          25.75107296137339,
          26.801198171212356,
          28.477218225419673,
          32.723486538747586,
          10.45053413841152,
          10.006671114076049,
          16.878932023937395,
          20.886170371475455,
          31.66834604865409,
          19.564002235885976,
          19.02346227013317,
          19.179699026261435,
          28.09819580005915,
          19.9089874857793,
          27.960296379141617,
          16.655100624566277
         ],
         "yaxis": "y"
        },
        {
         "hovertemplate": "<b>OLS trendline</b><br>Hveg/WC = 0.454115 * mean_u + 16.8939<br>R<sup>2</sup>=0.001080<br><br>site=Interior<br>Runtype=Baseline Run<br>mean_u=%{x}<br>Hveg/WC=%{y} <b>(trend)</b><extra></extra>",
         "legendgroup": "Interior, Baseline Run",
         "marker": {
          "color": "#00cc96",
          "symbol": "diamond"
         },
         "mode": "lines",
         "name": "Interior, Baseline Run",
         "showlegend": false,
         "type": "scatter",
         "x": [
          11.704184378926797,
          11.704184378926797,
          11.754987705866252,
          11.754987705866252,
          11.927099673783966,
          11.927099673783966,
          12.234891457803208,
          12.234891457803208,
          12.267966275643186,
          12.267966275643186,
          12.268937714634541,
          12.268937714634541,
          12.43681291643437,
          12.43681291643437,
          12.584471112518097,
          12.584471112518097,
          12.613795336894194,
          12.613795336894194,
          12.632678067235405,
          12.632678067235405,
          12.669418446127429,
          12.669418446127429,
          12.684460637613892,
          12.684460637613892,
          12.842267952527006,
          12.842267952527006,
          12.920910057495092,
          12.920910057495092,
          13.032040821263658,
          13.032040821263658,
          13.034784092897246,
          13.034784092897246,
          13.079509417292295,
          13.079509417292295,
          14.304230138870242,
          14.304230138870242
         ],
         "xaxis": "x",
         "y": [
          22.208989899794982,
          22.208989899794982,
          22.232060437190277,
          22.232060437190277,
          22.310219011268625,
          22.310219011268625,
          22.44999178385976,
          22.44999178385976,
          22.4650115447256,
          22.4650115447256,
          22.465452689448348,
          22.465452689448348,
          22.541687285766848,
          22.541687285766848,
          22.608741042670044,
          22.608741042670044,
          22.622057603923267,
          22.622057603923267,
          22.630632529281627,
          22.630632529281627,
          22.647316875292198,
          22.647316875292198,
          22.65414775551406,
          22.65414775551406,
          22.725810376434406,
          22.725810376434406,
          22.76152291206565,
          22.76152291206565,
          22.81198902512841,
          22.81198902512841,
          22.813234785093766,
          22.813234785093766,
          22.833545212208165,
          22.833545212208165,
          23.389708891008826,
          23.389708891008826
         ],
         "yaxis": "y"
        }
       ],
       "layout": {
        "autosize": true,
        "height": 500,
        "legend": {
         "title": {
          "text": "site, Runtype"
         },
         "tracegroupgap": 0
        },
        "margin": {
         "t": 60
        },
        "template": {
         "data": {
          "bar": [
           {
            "error_x": {
             "color": "#f2f5fa"
            },
            "error_y": {
             "color": "#f2f5fa"
            },
            "marker": {
             "line": {
              "color": "rgb(17,17,17)",
              "width": 0.5
             },
             "pattern": {
              "fillmode": "overlay",
              "size": 10,
              "solidity": 0.2
             }
            },
            "type": "bar"
           }
          ],
          "barpolar": [
           {
            "marker": {
             "line": {
              "color": "rgb(17,17,17)",
              "width": 0.5
             },
             "pattern": {
              "fillmode": "overlay",
              "size": 10,
              "solidity": 0.2
             }
            },
            "type": "barpolar"
           }
          ],
          "carpet": [
           {
            "aaxis": {
             "endlinecolor": "#A2B1C6",
             "gridcolor": "#506784",
             "linecolor": "#506784",
             "minorgridcolor": "#506784",
             "startlinecolor": "#A2B1C6"
            },
            "baxis": {
             "endlinecolor": "#A2B1C6",
             "gridcolor": "#506784",
             "linecolor": "#506784",
             "minorgridcolor": "#506784",
             "startlinecolor": "#A2B1C6"
            },
            "type": "carpet"
           }
          ],
          "choropleth": [
           {
            "colorbar": {
             "outlinewidth": 0,
             "ticks": ""
            },
            "type": "choropleth"
           }
          ],
          "contour": [
           {
            "colorbar": {
             "outlinewidth": 0,
             "ticks": ""
            },
            "colorscale": [
             [
              0,
              "#0d0887"
             ],
             [
              0.1111111111111111,
              "#46039f"
             ],
             [
              0.2222222222222222,
              "#7201a8"
             ],
             [
              0.3333333333333333,
              "#9c179e"
             ],
             [
              0.4444444444444444,
              "#bd3786"
             ],
             [
              0.5555555555555556,
              "#d8576b"
             ],
             [
              0.6666666666666666,
              "#ed7953"
             ],
             [
              0.7777777777777778,
              "#fb9f3a"
             ],
             [
              0.8888888888888888,
              "#fdca26"
             ],
             [
              1,
              "#f0f921"
             ]
            ],
            "type": "contour"
           }
          ],
          "contourcarpet": [
           {
            "colorbar": {
             "outlinewidth": 0,
             "ticks": ""
            },
            "type": "contourcarpet"
           }
          ],
          "heatmap": [
           {
            "colorbar": {
             "outlinewidth": 0,
             "ticks": ""
            },
            "colorscale": [
             [
              0,
              "#0d0887"
             ],
             [
              0.1111111111111111,
              "#46039f"
             ],
             [
              0.2222222222222222,
              "#7201a8"
             ],
             [
              0.3333333333333333,
              "#9c179e"
             ],
             [
              0.4444444444444444,
              "#bd3786"
             ],
             [
              0.5555555555555556,
              "#d8576b"
             ],
             [
              0.6666666666666666,
              "#ed7953"
             ],
             [
              0.7777777777777778,
              "#fb9f3a"
             ],
             [
              0.8888888888888888,
              "#fdca26"
             ],
             [
              1,
              "#f0f921"
             ]
            ],
            "type": "heatmap"
           }
          ],
          "heatmapgl": [
           {
            "colorbar": {
             "outlinewidth": 0,
             "ticks": ""
            },
            "colorscale": [
             [
              0,
              "#0d0887"
             ],
             [
              0.1111111111111111,
              "#46039f"
             ],
             [
              0.2222222222222222,
              "#7201a8"
             ],
             [
              0.3333333333333333,
              "#9c179e"
             ],
             [
              0.4444444444444444,
              "#bd3786"
             ],
             [
              0.5555555555555556,
              "#d8576b"
             ],
             [
              0.6666666666666666,
              "#ed7953"
             ],
             [
              0.7777777777777778,
              "#fb9f3a"
             ],
             [
              0.8888888888888888,
              "#fdca26"
             ],
             [
              1,
              "#f0f921"
             ]
            ],
            "type": "heatmapgl"
           }
          ],
          "histogram": [
           {
            "marker": {
             "pattern": {
              "fillmode": "overlay",
              "size": 10,
              "solidity": 0.2
             }
            },
            "type": "histogram"
           }
          ],
          "histogram2d": [
           {
            "colorbar": {
             "outlinewidth": 0,
             "ticks": ""
            },
            "colorscale": [
             [
              0,
              "#0d0887"
             ],
             [
              0.1111111111111111,
              "#46039f"
             ],
             [
              0.2222222222222222,
              "#7201a8"
             ],
             [
              0.3333333333333333,
              "#9c179e"
             ],
             [
              0.4444444444444444,
              "#bd3786"
             ],
             [
              0.5555555555555556,
              "#d8576b"
             ],
             [
              0.6666666666666666,
              "#ed7953"
             ],
             [
              0.7777777777777778,
              "#fb9f3a"
             ],
             [
              0.8888888888888888,
              "#fdca26"
             ],
             [
              1,
              "#f0f921"
             ]
            ],
            "type": "histogram2d"
           }
          ],
          "histogram2dcontour": [
           {
            "colorbar": {
             "outlinewidth": 0,
             "ticks": ""
            },
            "colorscale": [
             [
              0,
              "#0d0887"
             ],
             [
              0.1111111111111111,
              "#46039f"
             ],
             [
              0.2222222222222222,
              "#7201a8"
             ],
             [
              0.3333333333333333,
              "#9c179e"
             ],
             [
              0.4444444444444444,
              "#bd3786"
             ],
             [
              0.5555555555555556,
              "#d8576b"
             ],
             [
              0.6666666666666666,
              "#ed7953"
             ],
             [
              0.7777777777777778,
              "#fb9f3a"
             ],
             [
              0.8888888888888888,
              "#fdca26"
             ],
             [
              1,
              "#f0f921"
             ]
            ],
            "type": "histogram2dcontour"
           }
          ],
          "mesh3d": [
           {
            "colorbar": {
             "outlinewidth": 0,
             "ticks": ""
            },
            "type": "mesh3d"
           }
          ],
          "parcoords": [
           {
            "line": {
             "colorbar": {
              "outlinewidth": 0,
              "ticks": ""
             }
            },
            "type": "parcoords"
           }
          ],
          "pie": [
           {
            "automargin": true,
            "type": "pie"
           }
          ],
          "scatter": [
           {
            "marker": {
             "line": {
              "color": "#283442"
             }
            },
            "type": "scatter"
           }
          ],
          "scatter3d": [
           {
            "line": {
             "colorbar": {
              "outlinewidth": 0,
              "ticks": ""
             }
            },
            "marker": {
             "colorbar": {
              "outlinewidth": 0,
              "ticks": ""
             }
            },
            "type": "scatter3d"
           }
          ],
          "scattercarpet": [
           {
            "marker": {
             "colorbar": {
              "outlinewidth": 0,
              "ticks": ""
             }
            },
            "type": "scattercarpet"
           }
          ],
          "scattergeo": [
           {
            "marker": {
             "colorbar": {
              "outlinewidth": 0,
              "ticks": ""
             }
            },
            "type": "scattergeo"
           }
          ],
          "scattergl": [
           {
            "marker": {
             "line": {
              "color": "#283442"
             }
            },
            "type": "scattergl"
           }
          ],
          "scattermapbox": [
           {
            "marker": {
             "colorbar": {
              "outlinewidth": 0,
              "ticks": ""
             }
            },
            "type": "scattermapbox"
           }
          ],
          "scatterpolar": [
           {
            "marker": {
             "colorbar": {
              "outlinewidth": 0,
              "ticks": ""
             }
            },
            "type": "scatterpolar"
           }
          ],
          "scatterpolargl": [
           {
            "marker": {
             "colorbar": {
              "outlinewidth": 0,
              "ticks": ""
             }
            },
            "type": "scatterpolargl"
           }
          ],
          "scatterternary": [
           {
            "marker": {
             "colorbar": {
              "outlinewidth": 0,
              "ticks": ""
             }
            },
            "type": "scatterternary"
           }
          ],
          "surface": [
           {
            "colorbar": {
             "outlinewidth": 0,
             "ticks": ""
            },
            "colorscale": [
             [
              0,
              "#0d0887"
             ],
             [
              0.1111111111111111,
              "#46039f"
             ],
             [
              0.2222222222222222,
              "#7201a8"
             ],
             [
              0.3333333333333333,
              "#9c179e"
             ],
             [
              0.4444444444444444,
              "#bd3786"
             ],
             [
              0.5555555555555556,
              "#d8576b"
             ],
             [
              0.6666666666666666,
              "#ed7953"
             ],
             [
              0.7777777777777778,
              "#fb9f3a"
             ],
             [
              0.8888888888888888,
              "#fdca26"
             ],
             [
              1,
              "#f0f921"
             ]
            ],
            "type": "surface"
           }
          ],
          "table": [
           {
            "cells": {
             "fill": {
              "color": "#506784"
             },
             "line": {
              "color": "rgb(17,17,17)"
             }
            },
            "header": {
             "fill": {
              "color": "#2a3f5f"
             },
             "line": {
              "color": "rgb(17,17,17)"
             }
            },
            "type": "table"
           }
          ]
         },
         "layout": {
          "annotationdefaults": {
           "arrowcolor": "#f2f5fa",
           "arrowhead": 0,
           "arrowwidth": 1
          },
          "autotypenumbers": "strict",
          "coloraxis": {
           "colorbar": {
            "outlinewidth": 0,
            "ticks": ""
           }
          },
          "colorscale": {
           "diverging": [
            [
             0,
             "#8e0152"
            ],
            [
             0.1,
             "#c51b7d"
            ],
            [
             0.2,
             "#de77ae"
            ],
            [
             0.3,
             "#f1b6da"
            ],
            [
             0.4,
             "#fde0ef"
            ],
            [
             0.5,
             "#f7f7f7"
            ],
            [
             0.6,
             "#e6f5d0"
            ],
            [
             0.7,
             "#b8e186"
            ],
            [
             0.8,
             "#7fbc41"
            ],
            [
             0.9,
             "#4d9221"
            ],
            [
             1,
             "#276419"
            ]
           ],
           "sequential": [
            [
             0,
             "#0d0887"
            ],
            [
             0.1111111111111111,
             "#46039f"
            ],
            [
             0.2222222222222222,
             "#7201a8"
            ],
            [
             0.3333333333333333,
             "#9c179e"
            ],
            [
             0.4444444444444444,
             "#bd3786"
            ],
            [
             0.5555555555555556,
             "#d8576b"
            ],
            [
             0.6666666666666666,
             "#ed7953"
            ],
            [
             0.7777777777777778,
             "#fb9f3a"
            ],
            [
             0.8888888888888888,
             "#fdca26"
            ],
            [
             1,
             "#f0f921"
            ]
           ],
           "sequentialminus": [
            [
             0,
             "#0d0887"
            ],
            [
             0.1111111111111111,
             "#46039f"
            ],
            [
             0.2222222222222222,
             "#7201a8"
            ],
            [
             0.3333333333333333,
             "#9c179e"
            ],
            [
             0.4444444444444444,
             "#bd3786"
            ],
            [
             0.5555555555555556,
             "#d8576b"
            ],
            [
             0.6666666666666666,
             "#ed7953"
            ],
            [
             0.7777777777777778,
             "#fb9f3a"
            ],
            [
             0.8888888888888888,
             "#fdca26"
            ],
            [
             1,
             "#f0f921"
            ]
           ]
          },
          "colorway": [
           "#636efa",
           "#EF553B",
           "#00cc96",
           "#ab63fa",
           "#FFA15A",
           "#19d3f3",
           "#FF6692",
           "#B6E880",
           "#FF97FF",
           "#FECB52"
          ],
          "font": {
           "color": "#f2f5fa"
          },
          "geo": {
           "bgcolor": "rgb(17,17,17)",
           "lakecolor": "rgb(17,17,17)",
           "landcolor": "rgb(17,17,17)",
           "showlakes": true,
           "showland": true,
           "subunitcolor": "#506784"
          },
          "hoverlabel": {
           "align": "left"
          },
          "hovermode": "closest",
          "mapbox": {
           "style": "dark"
          },
          "paper_bgcolor": "rgb(17,17,17)",
          "plot_bgcolor": "rgb(17,17,17)",
          "polar": {
           "angularaxis": {
            "gridcolor": "#506784",
            "linecolor": "#506784",
            "ticks": ""
           },
           "bgcolor": "rgb(17,17,17)",
           "radialaxis": {
            "gridcolor": "#506784",
            "linecolor": "#506784",
            "ticks": ""
           }
          },
          "scene": {
           "xaxis": {
            "backgroundcolor": "rgb(17,17,17)",
            "gridcolor": "#506784",
            "gridwidth": 2,
            "linecolor": "#506784",
            "showbackground": true,
            "ticks": "",
            "zerolinecolor": "#C8D4E3"
           },
           "yaxis": {
            "backgroundcolor": "rgb(17,17,17)",
            "gridcolor": "#506784",
            "gridwidth": 2,
            "linecolor": "#506784",
            "showbackground": true,
            "ticks": "",
            "zerolinecolor": "#C8D4E3"
           },
           "zaxis": {
            "backgroundcolor": "rgb(17,17,17)",
            "gridcolor": "#506784",
            "gridwidth": 2,
            "linecolor": "#506784",
            "showbackground": true,
            "ticks": "",
            "zerolinecolor": "#C8D4E3"
           }
          },
          "shapedefaults": {
           "line": {
            "color": "#f2f5fa"
           }
          },
          "sliderdefaults": {
           "bgcolor": "#C8D4E3",
           "bordercolor": "rgb(17,17,17)",
           "borderwidth": 1,
           "tickwidth": 0
          },
          "ternary": {
           "aaxis": {
            "gridcolor": "#506784",
            "linecolor": "#506784",
            "ticks": ""
           },
           "baxis": {
            "gridcolor": "#506784",
            "linecolor": "#506784",
            "ticks": ""
           },
           "bgcolor": "rgb(17,17,17)",
           "caxis": {
            "gridcolor": "#506784",
            "linecolor": "#506784",
            "ticks": ""
           }
          },
          "title": {
           "x": 0.05
          },
          "updatemenudefaults": {
           "bgcolor": "#506784",
           "borderwidth": 0
          },
          "xaxis": {
           "automargin": true,
           "gridcolor": "#283442",
           "linecolor": "#506784",
           "ticks": "",
           "title": {
            "standoff": 15
           },
           "zerolinecolor": "#283442",
           "zerolinewidth": 2
          },
          "yaxis": {
           "automargin": true,
           "gridcolor": "#283442",
           "linecolor": "#506784",
           "ticks": "",
           "title": {
            "standoff": 15
           },
           "zerolinecolor": "#283442",
           "zerolinewidth": 2
          }
         }
        },
        "xaxis": {
         "anchor": "y",
         "domain": [
          0,
          1
         ],
         "title": {
          "text": "mean_u"
         }
        },
        "yaxis": {
         "anchor": "x",
         "domain": [
          0,
          1
         ],
         "title": {
          "text": "Hveg/WC"
         }
        }
       }
      }
     },
     "metadata": {},
     "output_type": "display_data"
    }
   ],
   "source": [
    "fig = px.scatter(dff, x='mean_u', y='Hveg/WC', symbol='Runtype', color='site', trendline='ols', template='plotly_dark')\n",
    "#fig = px.scatter(base_df, x='mean_u', y='Hveg/WC', symbol='site', color='site')\n",
    "fig.update_layout(\n",
    "    height=500,\n",
    "    autosize=True,)\n",
    "fig.show()"
   ]
  },
  {
   "cell_type": "markdown",
   "metadata": {},
   "source": [
    "## Jointplots"
   ]
  },
  {
   "cell_type": "code",
   "execution_count": 22,
   "metadata": {},
   "outputs": [
    {
     "ename": "ValueError",
     "evalue": "Length of list vectors must match length of `data` when both are used, but `data` has length 216 and the vector passed to `x` has length 2.",
     "output_type": "error",
     "traceback": [
      "\u001b[1;31m---------------------------------------------------------------------------\u001b[0m",
      "\u001b[1;31mValueError\u001b[0m                                Traceback (most recent call last)",
      "\u001b[1;32mc:\\Users\\erich\\OneDrive\\UC Berkeley\\Courses\\PhD Projects\\USGS LAI-Density Water Column\\usgs_wc_visualization.ipynb Cell 25\u001b[0m in \u001b[0;36m<cell line: 3>\u001b[1;34m()\u001b[0m\n\u001b[0;32m      <a href='vscode-notebook-cell:/c%3A/Users/erich/OneDrive/UC%20Berkeley/Courses/PhD%20Projects/USGS%20LAI-Density%20Water%20Column/usgs_wc_visualization.ipynb#X33sZmlsZQ%3D%3D?line=0'>1</a>\u001b[0m to_plot \u001b[39m=\u001b[39m [\u001b[39m'\u001b[39m\u001b[39mmean_u\u001b[39m\u001b[39m'\u001b[39m, \u001b[39m'\u001b[39m\u001b[39mdTopBottom\u001b[39m\u001b[39m'\u001b[39m, \u001b[39m'\u001b[39m\u001b[39mQ2\u001b[39m\u001b[39m'\u001b[39m]\n\u001b[0;32m      <a href='vscode-notebook-cell:/c%3A/Users/erich/OneDrive/UC%20Berkeley/Courses/PhD%20Projects/USGS%20LAI-Density%20Water%20Column/usgs_wc_visualization.ipynb#X33sZmlsZQ%3D%3D?line=2'>3</a>\u001b[0m \u001b[39mfor\u001b[39;00m n, feature \u001b[39min\u001b[39;00m \u001b[39menumerate\u001b[39m(to_plot):\n\u001b[0;32m      <a href='vscode-notebook-cell:/c%3A/Users/erich/OneDrive/UC%20Berkeley/Courses/PhD%20Projects/USGS%20LAI-Density%20Water%20Column/usgs_wc_visualization.ipynb#X33sZmlsZQ%3D%3D?line=3'>4</a>\u001b[0m     \u001b[39m#ax2= plt.subplot(3,2,n+2)\u001b[39;00m\n\u001b[1;32m----> <a href='vscode-notebook-cell:/c%3A/Users/erich/OneDrive/UC%20Berkeley/Courses/PhD%20Projects/USGS%20LAI-Density%20Water%20Column/usgs_wc_visualization.ipynb#X33sZmlsZQ%3D%3D?line=4'>5</a>\u001b[0m     sns\u001b[39m.\u001b[39;49mjointplot(data\u001b[39m=\u001b[39;49mdff, x\u001b[39m=\u001b[39;49m[\u001b[39m'\u001b[39;49m\u001b[39mHveg/WC\u001b[39;49m\u001b[39m'\u001b[39;49m,\u001b[39m'\u001b[39;49m\u001b[39mdensity_total\u001b[39;49m\u001b[39m'\u001b[39;49m], y\u001b[39m=\u001b[39;49mfeature, hue\u001b[39m=\u001b[39;49m\u001b[39m'\u001b[39;49m\u001b[39mRuntype\u001b[39;49m\u001b[39m'\u001b[39;49m)\n\u001b[0;32m      <a href='vscode-notebook-cell:/c%3A/Users/erich/OneDrive/UC%20Berkeley/Courses/PhD%20Projects/USGS%20LAI-Density%20Water%20Column/usgs_wc_visualization.ipynb#X33sZmlsZQ%3D%3D?line=5'>6</a>\u001b[0m     sns\u001b[39m.\u001b[39mjointplot(data\u001b[39m=\u001b[39mdff, x\u001b[39m=\u001b[39m\u001b[39m'\u001b[39m\u001b[39mHveg/WC\u001b[39m\u001b[39m'\u001b[39m, y\u001b[39m=\u001b[39mfeature, hue\u001b[39m=\u001b[39m\u001b[39m'\u001b[39m\u001b[39mRuntype\u001b[39m\u001b[39m'\u001b[39m)\n\u001b[0;32m      <a href='vscode-notebook-cell:/c%3A/Users/erich/OneDrive/UC%20Berkeley/Courses/PhD%20Projects/USGS%20LAI-Density%20Water%20Column/usgs_wc_visualization.ipynb#X33sZmlsZQ%3D%3D?line=6'>7</a>\u001b[0m     \u001b[39m#sns.jointplot(data=df1, x='Hveg/WC', y='mean_u', kind='kde', ax=ax2)\u001b[39;00m\n",
      "File \u001b[1;32mc:\\Users\\erich\\anaconda3\\envs\\EFMHModeling_20220915\\lib\\site-packages\\seaborn\\_decorators.py:46\u001b[0m, in \u001b[0;36m_deprecate_positional_args.<locals>.inner_f\u001b[1;34m(*args, **kwargs)\u001b[0m\n\u001b[0;32m     36\u001b[0m     warnings\u001b[39m.\u001b[39mwarn(\n\u001b[0;32m     37\u001b[0m         \u001b[39m\"\u001b[39m\u001b[39mPass the following variable\u001b[39m\u001b[39m{}\u001b[39;00m\u001b[39m as \u001b[39m\u001b[39m{}\u001b[39;00m\u001b[39mkeyword arg\u001b[39m\u001b[39m{}\u001b[39;00m\u001b[39m: \u001b[39m\u001b[39m{}\u001b[39;00m\u001b[39m. \u001b[39m\u001b[39m\"\u001b[39m\n\u001b[0;32m     38\u001b[0m         \u001b[39m\"\u001b[39m\u001b[39mFrom version 0.12, the only valid positional argument \u001b[39m\u001b[39m\"\u001b[39m\n\u001b[1;32m   (...)\u001b[0m\n\u001b[0;32m     43\u001b[0m         \u001b[39mFutureWarning\u001b[39;00m\n\u001b[0;32m     44\u001b[0m     )\n\u001b[0;32m     45\u001b[0m kwargs\u001b[39m.\u001b[39mupdate({k: arg \u001b[39mfor\u001b[39;00m k, arg \u001b[39min\u001b[39;00m \u001b[39mzip\u001b[39m(sig\u001b[39m.\u001b[39mparameters, args)})\n\u001b[1;32m---> 46\u001b[0m \u001b[39mreturn\u001b[39;00m f(\u001b[39m*\u001b[39m\u001b[39m*\u001b[39mkwargs)\n",
      "File \u001b[1;32mc:\\Users\\erich\\anaconda3\\envs\\EFMHModeling_20220915\\lib\\site-packages\\seaborn\\axisgrid.py:2230\u001b[0m, in \u001b[0;36mjointplot\u001b[1;34m(x, y, data, kind, color, height, ratio, space, dropna, xlim, ylim, marginal_ticks, joint_kws, marginal_kws, hue, palette, hue_order, hue_norm, **kwargs)\u001b[0m\n\u001b[0;32m   2227\u001b[0m     dropna \u001b[39m=\u001b[39m \u001b[39mTrue\u001b[39;00m\n\u001b[0;32m   2229\u001b[0m \u001b[39m# Initialize the JointGrid object\u001b[39;00m\n\u001b[1;32m-> 2230\u001b[0m grid \u001b[39m=\u001b[39m JointGrid(\n\u001b[0;32m   2231\u001b[0m     data\u001b[39m=\u001b[39;49mdata, x\u001b[39m=\u001b[39;49mx, y\u001b[39m=\u001b[39;49my, hue\u001b[39m=\u001b[39;49mhue,\n\u001b[0;32m   2232\u001b[0m     palette\u001b[39m=\u001b[39;49mpalette, hue_order\u001b[39m=\u001b[39;49mhue_order, hue_norm\u001b[39m=\u001b[39;49mhue_norm,\n\u001b[0;32m   2233\u001b[0m     dropna\u001b[39m=\u001b[39;49mdropna, height\u001b[39m=\u001b[39;49mheight, ratio\u001b[39m=\u001b[39;49mratio, space\u001b[39m=\u001b[39;49mspace,\n\u001b[0;32m   2234\u001b[0m     xlim\u001b[39m=\u001b[39;49mxlim, ylim\u001b[39m=\u001b[39;49mylim, marginal_ticks\u001b[39m=\u001b[39;49mmarginal_ticks,\n\u001b[0;32m   2235\u001b[0m )\n\u001b[0;32m   2237\u001b[0m \u001b[39mif\u001b[39;00m grid\u001b[39m.\u001b[39mhue \u001b[39mis\u001b[39;00m \u001b[39mnot\u001b[39;00m \u001b[39mNone\u001b[39;00m:\n\u001b[0;32m   2238\u001b[0m     marginal_kws\u001b[39m.\u001b[39msetdefault(\u001b[39m\"\u001b[39m\u001b[39mlegend\u001b[39m\u001b[39m\"\u001b[39m, \u001b[39mFalse\u001b[39;00m)\n",
      "File \u001b[1;32mc:\\Users\\erich\\anaconda3\\envs\\EFMHModeling_20220915\\lib\\site-packages\\seaborn\\_decorators.py:46\u001b[0m, in \u001b[0;36m_deprecate_positional_args.<locals>.inner_f\u001b[1;34m(*args, **kwargs)\u001b[0m\n\u001b[0;32m     36\u001b[0m     warnings\u001b[39m.\u001b[39mwarn(\n\u001b[0;32m     37\u001b[0m         \u001b[39m\"\u001b[39m\u001b[39mPass the following variable\u001b[39m\u001b[39m{}\u001b[39;00m\u001b[39m as \u001b[39m\u001b[39m{}\u001b[39;00m\u001b[39mkeyword arg\u001b[39m\u001b[39m{}\u001b[39;00m\u001b[39m: \u001b[39m\u001b[39m{}\u001b[39;00m\u001b[39m. \u001b[39m\u001b[39m\"\u001b[39m\n\u001b[0;32m     38\u001b[0m         \u001b[39m\"\u001b[39m\u001b[39mFrom version 0.12, the only valid positional argument \u001b[39m\u001b[39m\"\u001b[39m\n\u001b[1;32m   (...)\u001b[0m\n\u001b[0;32m     43\u001b[0m         \u001b[39mFutureWarning\u001b[39;00m\n\u001b[0;32m     44\u001b[0m     )\n\u001b[0;32m     45\u001b[0m kwargs\u001b[39m.\u001b[39mupdate({k: arg \u001b[39mfor\u001b[39;00m k, arg \u001b[39min\u001b[39;00m \u001b[39mzip\u001b[39m(sig\u001b[39m.\u001b[39mparameters, args)})\n\u001b[1;32m---> 46\u001b[0m \u001b[39mreturn\u001b[39;00m f(\u001b[39m*\u001b[39m\u001b[39m*\u001b[39mkwargs)\n",
      "File \u001b[1;32mc:\\Users\\erich\\anaconda3\\envs\\EFMHModeling_20220915\\lib\\site-packages\\seaborn\\axisgrid.py:1702\u001b[0m, in \u001b[0;36mJointGrid.__init__\u001b[1;34m(self, x, y, data, height, ratio, space, dropna, xlim, ylim, size, marginal_ticks, hue, palette, hue_order, hue_norm)\u001b[0m\n\u001b[0;32m   1699\u001b[0m     ax_marg_y\u001b[39m.\u001b[39mxaxis\u001b[39m.\u001b[39mgrid(\u001b[39mFalse\u001b[39;00m)\n\u001b[0;32m   1701\u001b[0m \u001b[39m# Process the input variables\u001b[39;00m\n\u001b[1;32m-> 1702\u001b[0m p \u001b[39m=\u001b[39m VectorPlotter(data\u001b[39m=\u001b[39;49mdata, variables\u001b[39m=\u001b[39;49m\u001b[39mdict\u001b[39;49m(x\u001b[39m=\u001b[39;49mx, y\u001b[39m=\u001b[39;49my, hue\u001b[39m=\u001b[39;49mhue))\n\u001b[0;32m   1703\u001b[0m plot_data \u001b[39m=\u001b[39m p\u001b[39m.\u001b[39mplot_data\u001b[39m.\u001b[39mloc[:, p\u001b[39m.\u001b[39mplot_data\u001b[39m.\u001b[39mnotna()\u001b[39m.\u001b[39many()]\n\u001b[0;32m   1705\u001b[0m \u001b[39m# Possibly drop NA\u001b[39;00m\n",
      "File \u001b[1;32mc:\\Users\\erich\\anaconda3\\envs\\EFMHModeling_20220915\\lib\\site-packages\\seaborn\\_core.py:605\u001b[0m, in \u001b[0;36mVectorPlotter.__init__\u001b[1;34m(self, data, variables)\u001b[0m\n\u001b[0;32m    603\u001b[0m \u001b[39mdef\u001b[39;00m \u001b[39m__init__\u001b[39m(\u001b[39mself\u001b[39m, data\u001b[39m=\u001b[39m\u001b[39mNone\u001b[39;00m, variables\u001b[39m=\u001b[39m{}):\n\u001b[1;32m--> 605\u001b[0m     \u001b[39mself\u001b[39;49m\u001b[39m.\u001b[39;49massign_variables(data, variables)\n\u001b[0;32m    607\u001b[0m     \u001b[39mfor\u001b[39;00m var, \u001b[39mcls\u001b[39m \u001b[39min\u001b[39;00m \u001b[39mself\u001b[39m\u001b[39m.\u001b[39m_semantic_mappings\u001b[39m.\u001b[39mitems():\n\u001b[0;32m    608\u001b[0m \n\u001b[0;32m    609\u001b[0m         \u001b[39m# Create the mapping function\u001b[39;00m\n\u001b[0;32m    610\u001b[0m         map_func \u001b[39m=\u001b[39m partial(\u001b[39mcls\u001b[39m\u001b[39m.\u001b[39mmap, plotter\u001b[39m=\u001b[39m\u001b[39mself\u001b[39m)\n",
      "File \u001b[1;32mc:\\Users\\erich\\anaconda3\\envs\\EFMHModeling_20220915\\lib\\site-packages\\seaborn\\_core.py:668\u001b[0m, in \u001b[0;36mVectorPlotter.assign_variables\u001b[1;34m(self, data, variables)\u001b[0m\n\u001b[0;32m    666\u001b[0m \u001b[39melse\u001b[39;00m:\n\u001b[0;32m    667\u001b[0m     \u001b[39mself\u001b[39m\u001b[39m.\u001b[39minput_format \u001b[39m=\u001b[39m \u001b[39m\"\u001b[39m\u001b[39mlong\u001b[39m\u001b[39m\"\u001b[39m\n\u001b[1;32m--> 668\u001b[0m     plot_data, variables \u001b[39m=\u001b[39m \u001b[39mself\u001b[39m\u001b[39m.\u001b[39m_assign_variables_longform(\n\u001b[0;32m    669\u001b[0m         data, \u001b[39m*\u001b[39m\u001b[39m*\u001b[39mvariables,\n\u001b[0;32m    670\u001b[0m     )\n\u001b[0;32m    672\u001b[0m \u001b[39mself\u001b[39m\u001b[39m.\u001b[39mplot_data \u001b[39m=\u001b[39m plot_data\n\u001b[0;32m    673\u001b[0m \u001b[39mself\u001b[39m\u001b[39m.\u001b[39mvariables \u001b[39m=\u001b[39m variables\n",
      "File \u001b[1;32mc:\\Users\\erich\\anaconda3\\envs\\EFMHModeling_20220915\\lib\\site-packages\\seaborn\\_core.py:918\u001b[0m, in \u001b[0;36mVectorPlotter._assign_variables_longform\u001b[1;34m(self, data, **kwargs)\u001b[0m\n\u001b[0;32m    912\u001b[0m         val_cls \u001b[39m=\u001b[39m val\u001b[39m.\u001b[39m\u001b[39m__class__\u001b[39m\u001b[39m.\u001b[39m\u001b[39m__name__\u001b[39m\n\u001b[0;32m    913\u001b[0m         err \u001b[39m=\u001b[39m (\n\u001b[0;32m    914\u001b[0m             \u001b[39mf\u001b[39m\u001b[39m\"\u001b[39m\u001b[39mLength of \u001b[39m\u001b[39m{\u001b[39;00mval_cls\u001b[39m}\u001b[39;00m\u001b[39m vectors must match length of `data`\u001b[39m\u001b[39m\"\u001b[39m\n\u001b[0;32m    915\u001b[0m             \u001b[39mf\u001b[39m\u001b[39m\"\u001b[39m\u001b[39m when both are used, but `data` has length \u001b[39m\u001b[39m{\u001b[39;00m\u001b[39mlen\u001b[39m(data)\u001b[39m}\u001b[39;00m\u001b[39m\"\u001b[39m\n\u001b[0;32m    916\u001b[0m             \u001b[39mf\u001b[39m\u001b[39m\"\u001b[39m\u001b[39m and the vector passed to `\u001b[39m\u001b[39m{\u001b[39;00mkey\u001b[39m}\u001b[39;00m\u001b[39m` has length \u001b[39m\u001b[39m{\u001b[39;00m\u001b[39mlen\u001b[39m(val)\u001b[39m}\u001b[39;00m\u001b[39m.\u001b[39m\u001b[39m\"\u001b[39m\n\u001b[0;32m    917\u001b[0m         )\n\u001b[1;32m--> 918\u001b[0m         \u001b[39mraise\u001b[39;00m \u001b[39mValueError\u001b[39;00m(err)\n\u001b[0;32m    920\u001b[0m plot_data[key] \u001b[39m=\u001b[39m val\n\u001b[0;32m    922\u001b[0m \u001b[39m# Try to infer the name of the variable\u001b[39;00m\n",
      "\u001b[1;31mValueError\u001b[0m: Length of list vectors must match length of `data` when both are used, but `data` has length 216 and the vector passed to `x` has length 2."
     ]
    },
    {
     "data": {
      "image/png": "[encoded data removed]",
      "text/plain": [
       "<Figure size 600x600 with 3 Axes>"
      ]
     },
     "metadata": {},
     "output_type": "display_data"
    }
   ],
   "source": [
    "to_plot = ['mean_u', 'dTopBottom', 'Q2']\n",
    "\n",
    "for n, feature in enumerate(to_plot):\n",
    "    #ax2= plt.subplot(3,2,n+2)\n",
    "    sns.jointplot(data=dff, x='density_total', y=feature, hue='Runtype')\n",
    "    sns.jointplot(data=dff, x='Hveg/WC', y=feature, hue='Runtype')\n",
    "    #sns.jointplot(data=df1, x='Hveg/WC', y='mean_u', kind='kde', ax=ax2)\n",
    "\n",
    "plt.show()"
   ]
  },
  {
   "cell_type": "markdown",
   "metadata": {},
   "source": [
    "## Maps"
   ]
  },
  {
   "cell_type": "code",
   "execution_count": 19,
   "metadata": {},
   "outputs": [],
   "source": [
    "# Dropping Inf values from dataframe so map can center\n",
    "dff= dff[dff['lat']!= np.inf]\n",
    "dff= dff[dff['lon']!= np.inf]"
   ]
  },
  {
   "cell_type": "code",
   "execution_count": 20,
   "metadata": {},
   "outputs": [
    {
     "data": {
      "application/vnd.plotly.v1+json": {
       "config": {
        "plotlyServerURL": "https://plot.ly"
       },
       "data": [
        {
         "customdata": [
          [
           "Bay",
           1.3592650169565137,
           630.481094184055,
           9.61680722000296
          ],
          [
           "Bay",
           0.5103025642236216,
           2837.16492382825,
           22.657054582904223
          ],
          [
           "Bay",
           0.3286437924729354,
           3467.6460180123,
           33.622367722527
          ],
          [
           "Bay",
           0.45515997537639585,
           4728.60820638041,
           26.525198938992038
          ],
          [
           "Bay",
           0.698899136355107,
           3467.6460180123,
           18.787361229718186
          ],
          [
           "Bay",
           0.5200176014225153,
           4728.60820638041,
           25.465541938564385
          ],
          [
           "Bay",
           0.3265804713721051,
           4098.12711219636,
           35.48196333530455
          ],
          [
           "Bay",
           0.543751367828793,
           4098.12711219636,
           23.398128149748015
          ],
          [
           "Bay",
           0.38082686886336153,
           4413.36765928838,
           31.13648157758173
          ],
          [
           "Bay",
           0.20112182662794495,
           5359.08930056447,
           44.20265215912954
          ],
          [
           "Bay",
           0.7625154658544469,
           5359.08930056447,
           17.58312020460358
          ],
          [
           "Bay",
           0.40975347369678367,
           4728.60820638041,
           30.01650907999399
          ],
          [
           "Bay",
           1.2777263819523763,
           945.721641276082,
           9.775171065493648
          ],
          [
           "Bay",
           0.8709433130067955,
           3782.88656510433,
           14.53752498637107
          ],
          [
           "Bay",
           0.26654950669580113,
           4098.12711219636,
           36.266463065470525
          ],
          [
           "Bay",
           0.17164323846681598,
           5674.32984765649,
           45.89682393978339
          ],
          [
           "Bay",
           0.47691502456706003,
           5359.08930056447,
           25.882787946015913
          ],
          [
           "Bay",
           0.8433391850343966,
           5359.08930056447,
           15.40041067761807
          ],
          [
           "Bay",
           0.3290697201519917,
           5674.32984765649,
           34.682080924855505
          ],
          [
           "Creek",
           0.7012205971671923,
           5359.08930056447,
           22.393630256282663
          ],
          [
           "Creek",
           0.5554442297995603,
           5989.57039474852,
           24.82159478746509
          ],
          [
           "Creek",
           0.4413861500219262,
           4728.60820638041,
           29.252596167909903
          ],
          [
           "Creek",
           0.690553787409425,
           5043.84875347244,
           20.446911055936912
          ],
          [
           "Creek",
           0.7992741099075418,
           5674.3298476565,
           18.67279517380064
          ],
          [
           "Creek",
           0.8898439756923031,
           5989.57039474852,
           17.414601473543208
          ],
          [
           "Creek",
           0.5908675654258939,
           4098.12711219636,
           24.340770791075048
          ],
          [
           "Creek",
           0.4397756349892603,
           4728.60820638041,
           29.66478789676654
          ],
          [
           "Creek",
           0.6760749858908367,
           5989.57039474852,
           20.64287820701858
          ],
          [
           "Creek",
           0.5363194580364846,
           4728.60820638041,
           26.079397276151845
          ],
          [
           "Creek",
           0.46909420986116634,
           5674.32984765649,
           27.676620538965764
          ],
          [
           "Creek",
           0.8287400877592603,
           5674.32984765649,
           19.897003745318354
          ],
          [
           "Creek",
           0.8086795514175197,
           5989.57039474852,
           20.214916480476646
          ],
          [
           "Creek",
           0.5651702857145902,
           4728.60820638041,
           24.020417354751533
          ],
          [
           "Creek",
           0.4950741918960787,
           5674.32984765649,
           28.67491699366134
          ],
          [
           "Creek",
           0.6446474608426062,
           5043.84875347244,
           22.30483271375465
          ],
          [
           "Creek",
           0.49707070332813225,
           5359.08930056447,
           26.90985199581403
          ],
          [
           "Interior",
           0.3324782009321994,
           5674.32984765649,
           34.68937243771681
          ],
          [
           "Interior",
           0.5605192619077259,
           5359.08930056447,
           22.510822510822507
          ],
          [
           "Interior",
           0.5221258022091906,
           4413.36765928838,
           24.034334763948497
          ],
          [
           "Interior",
           0.4522017025862316,
           5043.84875347244,
           28.3777392401072
          ],
          [
           "Interior",
           0.4598617743343786,
           5674.32984765649,
           29.976019184652287
          ],
          [
           "Interior",
           0.6404308369864579,
           5359.08930056447,
           22.311468094600627
          ],
          [
           "Interior",
           1.1978981800785493,
           5043.84875347244,
           12.772875058058524
          ],
          [
           "Interior",
           1.0842203100063368,
           5989.57039474852,
           11.674449633088724
          ],
          [
           "Interior",
           0.7808682854363156,
           3782.88656510433,
           18.413380389749886
          ],
          [
           "Interior",
           0.6874622338211613,
           4098.12711219636,
           20.886170371475455
          ],
          [
           "Interior",
           0.5053887828651638,
           4728.60820638041,
           27.349935223837623
          ],
          [
           "Interior",
           0.4007947695683334,
           5359.08930056447,
           32.14086081609839
          ],
          [
           "Interior",
           0.88090332438123,
           5674.32984765649,
           15.852885225110976
          ],
          [
           "Interior",
           1.246928195992003,
           4413.36765928838,
           10.327530244910003
          ],
          [
           "Interior",
           0.34257505689218215,
           5359.08930056447,
           34.01360544217686
          ],
          [
           "Interior",
           0.4581330220253045,
           5989.57039474852,
           29.86348122866895
          ],
          [
           "Interior",
           0.4237513277861222,
           5674.32984765649,
           30.75632601705578
          ],
          [
           "Interior",
           0.32795938556551335,
           5674.3298476565,
           36.08605135322693
          ],
          [
           "Bay",
           0.9916123850499081,
           315.240547092027,
           14.795088030773785
          ],
          [
           "Bay",
           0.25945525042793266,
           3467.6460180123,
           37.075180226570545
          ],
          [
           "Bay",
           0.35722004861242634,
           3467.6460180123,
           31.85276942134137
          ],
          [
           "Bay",
           0.4263030163263412,
           5989.57039474852,
           28.29354553492484
          ],
          [
           "Bay",
           0.5950197344133862,
           5043.84875347244,
           22.203245089666947
          ],
          [
           "Bay",
           0.5158934199389179,
           5989.57039474852,
           25.465541938564385
          ],
          [
           "Bay",
           0.7439415723306905,
           4413.36765928838,
           19.219396806623298
          ],
          [
           "Bay",
           0.5412187000103333,
           2837.16492382825,
           23.398128149748015
          ],
          [
           "Bay",
           0.6836638936476852,
           5989.57039474852,
           19.027849852966614
          ],
          [
           "Bay",
           0.4632916358853887,
           5674.32984765649,
           27.201632097925874
          ],
          [
           "Bay",
           0.369575831093671,
           5674.32984765649,
           31.969309462915604
          ],
          [
           "Bay",
           0.7221646733015429,
           5043.84875347244,
           19.510730901996094
          ],
          [
           "Bay",
           0.6553435740122208,
           945.721641276082,
           21.17953730856957
          ],
          [
           "Bay",
           0.5826878863742487,
           1891.44328255216,
           21.806287479556605
          ],
          [
           "Bay",
           1.3089906898905679,
           2837.16492382825,
           7.635044855888531
          ],
          [
           "Bay",
           0.10171930592298131,
           4728.60820638041,
           55.07618872774007
          ],
          [
           "Bay",
           0.14852464806883567,
           5989.57039474852,
           49.91680532445926
          ],
          [
           "Bay",
           0.40950966157062546,
           5359.08930056447,
           29.089664613278575
          ],
          [
           "Bay",
           0.2716526334527395,
           5359.08930056447,
           37.98513625103222
          ],
          [
           "Creek",
           0.7908562660418602,
           4413.36765928838,
           19.9054491166957
          ],
          [
           "Creek",
           0.5887136684876483,
           5674.32984765649,
           23.270245113248524
          ],
          [
           "Creek",
           0.3123951438875673,
           3782.88656510433,
           36.56574520988738
          ],
          [
           "Creek",
           0.9069496709412486,
           5359.08930056447,
           16.065430115379
          ],
          [
           "Creek",
           0.35088555805782906,
           5043.84875347244,
           34.472852628555025
          ],
          [
           "Creek",
           1.108348388807586,
           5043.84875347244,
           13.39584728734093
          ],
          [
           "Creek",
           0.8269815667876742,
           5043.84875347244,
           17.57944557133198
          ],
          [
           "Creek",
           0.5296118922434696,
           5359.08930056447,
           25.215069712251562
          ],
          [
           "Creek",
           0.7858527847810537,
           3782.88656510433,
           17.69389560601593
          ],
          [
           "Creek",
           0.652363195535387,
           5043.84875347244,
           21.73283106345987
          ],
          [
           "Creek",
           0.697215243347076,
           4413.36765928838,
           20.393299344501088
          ],
          [
           "Creek",
           1.3861057989652343,
           5359.08930056447,
           10.533707865168541
          ],
          [
           "Creek",
           1.3480995087939405,
           5674.32984765649,
           11.703372699223323
          ],
          [
           "Creek",
           0.7336325640708997,
           4413.36765928838,
           19.516589100735622
          ],
          [
           "Creek",
           0.46237621879014545,
           4413.36765928838,
           28.67491699366134
          ],
          [
           "Creek",
           0.5352518203519523,
           5359.08930056447,
           25.278810408921938
          ],
          [
           "Creek",
           0.8365373645640469,
           5674.32984765649,
           16.444909552997462
          ],
          [
           "Interior",
           1.4622657631981093,
           4413.36765928838,
           7.8839482812992765
          ],
          [
           "Interior",
           1.1491061157834896,
           4098.12711219636,
           10.389610389610388
          ],
          [
           "Interior",
           0.49261612431010615,
           4728.60820638041,
           25.75107296137339
          ],
          [
           "Interior",
           0.5032697715657666,
           5359.08930056447,
           26.801198171212356
          ],
          [
           "Interior",
           0.46758428783971756,
           5674.32984765649,
           28.477218225419673
          ],
          [
           "Interior",
           0.4821531906882198,
           5359.08930056447,
           32.723486538747586
          ],
          [
           "Interior",
           1.424962409796556,
           4098.12711219636,
           10.45053413841152
          ],
          [
           "Interior",
           1.2077743399244807,
           5043.84875347244,
           10.006671114076049
          ],
          [
           "Interior",
           0.8280468136003757,
           4728.60820638041,
           16.878932023937395
          ],
          [
           "Interior",
           0.73761002260273,
           4728.60820638041,
           20.886170371475455
          ],
          [
           "Interior",
           0.3945666755180598,
           5674.32984765649,
           31.66834604865409
          ],
          [
           "Interior",
           0.7510287301279653,
           5359.08930056447,
           19.564002235885976
          ],
          [
           "Interior",
           0.7060010045180906,
           5359.08930056447,
           19.02346227013317
          ],
          [
           "Interior",
           0.7148145690067229,
           4728.60820638041,
           19.179699026261435
          ],
          [
           "Interior",
           0.4661870675468359,
           5043.84875347244,
           28.09819580005915
          ],
          [
           "Interior",
           0.7969722493283818,
           4098.12711219636,
           19.9089874857793
          ],
          [
           "Interior",
           0.4787615550155717,
           5359.08930056447,
           27.960296379141617
          ],
          [
           "Interior",
           0.8704910931158285,
           5359.08930056447,
           16.655100624566277
          ]
         ],
         "hovertemplate": "<b>%{hovertext}</b><br><br>Hveg/WC=%{customdata[3]}<br>lat=%{lat}<br>lon=%{lon}<br>site=%{customdata[0]}<br>mean_u=%{marker.color}<br>density_total=%{customdata[2]}<extra></extra>",
         "hovertext": [
          "A0.5",
          "A2",
          "A6",
          "A12",
          "A24",
          "A48",
          "A72",
          "B6",
          "B12",
          "B24",
          "B48",
          "B72",
          "C0.5",
          "C2",
          "C6",
          "C12",
          "C24",
          "C48",
          "C72",
          "D0.5",
          "D6",
          "D12",
          "D24",
          "D30",
          "E0.5",
          "E2",
          "E6",
          "E12",
          "E24",
          "E30",
          "I0.5",
          "I2",
          "I6",
          "I12",
          "I24",
          "I30",
          "F0.5",
          "F2",
          "F6",
          "F12",
          "F24",
          "F30",
          "G0.5",
          "G2",
          "G6",
          "G12",
          "G24",
          "G30",
          "H0.5",
          "H2",
          "H6",
          "H12",
          "H24",
          "H30",
          "A0.5",
          "A2",
          "A6",
          "A12",
          "A24",
          "A48",
          "A72",
          "B6",
          "B12",
          "B24",
          "B48",
          "B72",
          "C0.5",
          "C2",
          "C6",
          "C12",
          "C24",
          "C48",
          "C72",
          "D0.5",
          "D6",
          "D12",
          "D24",
          "D30",
          "E0.5",
          "E24",
          "E6",
          "E12",
          "E24",
          "E30",
          "I0.5",
          "I2",
          "I6",
          "I12",
          "I24",
          "I30",
          "F0.5",
          "F2",
          "F6",
          "F12",
          "F24",
          "F30",
          "G0.5",
          "G2",
          "G6",
          "G12",
          "G24",
          "G30",
          "H0.5",
          "H24",
          "H6",
          "H12",
          "H24",
          "H30"
         ],
         "lat": [
          37.58337817323479,
          37.583388162513195,
          37.5834038385779,
          37.58342810310442,
          37.58348088117915,
          37.5835827265273,
          37.58368461649292,
          37.58309924724294,
          37.58312337206426,
          37.58317481705138,
          37.583284855678805,
          37.58340173765898,
          37.582810726303066,
          37.58281736902726,
          37.58283850892091,
          37.582868430236076,
          37.58292423843334,
          37.58303524209037,
          37.583145148702776,
          37.583347466430155,
          37.58336157946457,
          37.58338036989468,
          37.58341714983487,
          37.58343479339755,
          37.583557580346806,
          37.58356135510702,
          37.58357090956617,
          37.58358735871719,
          37.583618460755964,
          37.58363416411016,
          37.58392366329936,
          37.58392481218142,
          37.583925272396556,
          37.58392654948286,
          37.58393086254132,
          37.5839351409277,
          37.587332822411774,
          37.58734514424084,
          37.58738192437034,
          37.587434760434554,
          37.58754162127226,
          37.5875951911084,
          37.58738063537536,
          37.58739404334074,
          37.587429469883574,
          37.587483795173135,
          37.58759193160835,
          37.58764438287013,
          37.58811724525316,
          37.5881053647653,
          37.5880813403357,
          37.58804563401874,
          37.58797293640687,
          37.58793712788751,
          37.58337817323479,
          37.583388162513195,
          37.5834038385779,
          37.58342810310442,
          37.58348088117915,
          37.5835827265273,
          37.58368461649292,
          37.58309924724294,
          37.58312337206426,
          37.58317481705138,
          37.583284855678805,
          37.58340173765898,
          37.582810726303066,
          37.58281736902726,
          37.58283850892091,
          37.582868430236076,
          37.58292423843334,
          37.58303524209037,
          37.583145148702776,
          37.583347466430155,
          37.58336157946457,
          37.58338036989468,
          37.58341714983487,
          37.58343479339755,
          37.583557580346806,
          37.583618460755964,
          37.58357090956617,
          37.58358735871719,
          37.583618460755964,
          37.58363416411016,
          37.58392366329936,
          37.58392481218142,
          37.583925272396556,
          37.58392654948286,
          37.58393086254132,
          37.5839351409277,
          37.587332822411774,
          37.58734514424084,
          37.58738192437034,
          37.587434760434554,
          37.58754162127226,
          37.5875951911084,
          37.58738063537536,
          37.58739404334074,
          37.587429469883574,
          37.587483795173135,
          37.58759193160835,
          37.58764438287013,
          37.58811724525316,
          37.58797293640687,
          37.5880813403357,
          37.58804563401874,
          37.58797293640687,
          37.58793712788751
         ],
         "legendgroup": "",
         "lon": [
          -122.14509818330222,
          -122.14508038373529,
          -122.14503869833155,
          -122.14497741156467,
          -122.14485899899375,
          -122.14461994381986,
          -122.1443813682423,
          -122.14478294483007,
          -122.14472385861461,
          -122.14460461554958,
          -122.14437362808194,
          -122.1441451173416,
          -122.14466286826367,
          -122.14464738179639,
          -122.14461111966155,
          -122.14455328352622,
          -122.14444110283719,
          -122.1442084418528,
          -122.14397487996725,
          -122.14227575323211,
          -122.14233492395816,
          -122.14239985443506,
          -122.14252709186387,
          -122.1425946488592,
          -122.14213269235695,
          -122.14214945591316,
          -122.14219274651536,
          -122.14225646867035,
          -122.14238704669408,
          -122.14245249437238,
          -122.1419288145704,
          -122.14194568545243,
          -122.14199077270543,
          -122.14205998424364,
          -122.14219471566082,
          -122.14226202930614,
          -122.14304441991689,
          -122.14304870481872,
          -122.14305514755708,
          -122.1430644624004,
          -122.14307546499451,
          -122.14307884910853,
          -122.14351118742512,
          -122.14350937297232,
          -122.1435048961826,
          -122.1434976237197,
          -122.1434840132893,
          -122.14347807309179,
          -122.14416306511293,
          -122.14414619313268,
          -122.14411254527921,
          -122.14406202325586,
          -122.14396000470556,
          -122.14390884742828,
          -122.14509818330222,
          -122.14508038373529,
          -122.14503869833155,
          -122.14497741156467,
          -122.14485899899375,
          -122.14461994381986,
          -122.1443813682423,
          -122.14478294483007,
          -122.14472385861461,
          -122.14460461554958,
          -122.14437362808194,
          -122.1441451173416,
          -122.14466286826367,
          -122.14464738179639,
          -122.14461111966155,
          -122.14455328352622,
          -122.14444110283719,
          -122.1442084418528,
          -122.14397487996725,
          -122.14227575323211,
          -122.14233492395816,
          -122.14239985443506,
          -122.14252709186387,
          -122.1425946488592,
          -122.14213269235695,
          -122.14238704669408,
          -122.14219274651536,
          -122.14225646867035,
          -122.14238704669408,
          -122.14245249437238,
          -122.1419288145704,
          -122.14194568545243,
          -122.14199077270543,
          -122.14205998424364,
          -122.14219471566082,
          -122.14226202930614,
          -122.14304441991689,
          -122.14304870481872,
          -122.14305514755708,
          -122.1430644624004,
          -122.14307546499451,
          -122.14307884910853,
          -122.14351118742512,
          -122.14350937297232,
          -122.1435048961826,
          -122.1434976237197,
          -122.1434840132893,
          -122.14347807309179,
          -122.14416306511293,
          -122.14396000470556,
          -122.14411254527921,
          -122.14406202325586,
          -122.14396000470556,
          -122.14390884742828
         ],
         "marker": {
          "color": [
           1.3592650169565137,
           0.5103025642236216,
           0.3286437924729354,
           0.45515997537639585,
           0.698899136355107,
           0.5200176014225153,
           0.3265804713721051,
           0.543751367828793,
           0.38082686886336153,
           0.20112182662794495,
           0.7625154658544469,
           0.40975347369678367,
           1.2777263819523763,
           0.8709433130067955,
           0.26654950669580113,
           0.17164323846681598,
           0.47691502456706003,
           0.8433391850343966,
           0.3290697201519917,
           0.7012205971671923,
           0.5554442297995603,
           0.4413861500219262,
           0.690553787409425,
           0.7992741099075418,
           0.8898439756923031,
           0.5908675654258939,
           0.4397756349892603,
           0.6760749858908367,
           0.5363194580364846,
           0.46909420986116634,
           0.8287400877592603,
           0.8086795514175197,
           0.5651702857145902,
           0.4950741918960787,
           0.6446474608426062,
           0.49707070332813225,
           0.3324782009321994,
           0.5605192619077259,
           0.5221258022091906,
           0.4522017025862316,
           0.4598617743343786,
           0.6404308369864579,
           1.1978981800785493,
           1.0842203100063368,
           0.7808682854363156,
           0.6874622338211613,
           0.5053887828651638,
           0.4007947695683334,
           0.88090332438123,
           1.246928195992003,
           0.34257505689218215,
           0.4581330220253045,
           0.4237513277861222,
           0.32795938556551335,
           0.9916123850499081,
           0.25945525042793266,
           0.35722004861242634,
           0.4263030163263412,
           0.5950197344133862,
           0.5158934199389179,
           0.7439415723306905,
           0.5412187000103333,
           0.6836638936476852,
           0.4632916358853887,
           0.369575831093671,
           0.7221646733015429,
           0.6553435740122208,
           0.5826878863742487,
           1.3089906898905679,
           0.10171930592298131,
           0.14852464806883567,
           0.40950966157062546,
           0.2716526334527395,
           0.7908562660418602,
           0.5887136684876483,
           0.3123951438875673,
           0.9069496709412486,
           0.35088555805782906,
           1.108348388807586,
           0.8269815667876742,
           0.5296118922434696,
           0.7858527847810537,
           0.652363195535387,
           0.697215243347076,
           1.3861057989652343,
           1.3480995087939405,
           0.7336325640708997,
           0.46237621879014545,
           0.5352518203519523,
           0.8365373645640469,
           1.4622657631981093,
           1.1491061157834896,
           0.49261612431010615,
           0.5032697715657666,
           0.46758428783971756,
           0.4821531906882198,
           1.424962409796556,
           1.2077743399244807,
           0.8280468136003757,
           0.73761002260273,
           0.3945666755180598,
           0.7510287301279653,
           0.7060010045180906,
           0.7148145690067229,
           0.4661870675468359,
           0.7969722493283818,
           0.4787615550155717,
           0.8704910931158285
          ],
          "coloraxis": "coloraxis",
          "size": [
           9.61680722000296,
           22.657054582904223,
           33.622367722527,
           26.525198938992038,
           18.787361229718186,
           25.465541938564385,
           35.48196333530455,
           23.398128149748015,
           31.13648157758173,
           44.20265215912954,
           17.58312020460358,
           30.01650907999399,
           9.775171065493648,
           14.53752498637107,
           36.266463065470525,
           45.89682393978339,
           25.882787946015913,
           15.40041067761807,
           34.682080924855505,
           22.393630256282663,
           24.82159478746509,
           29.252596167909903,
           20.446911055936912,
           18.67279517380064,
           17.414601473543208,
           24.340770791075048,
           29.66478789676654,
           20.64287820701858,
           26.079397276151845,
           27.676620538965764,
           19.897003745318354,
           20.214916480476646,
           24.020417354751533,
           28.67491699366134,
           22.30483271375465,
           26.90985199581403,
           34.68937243771681,
           22.510822510822507,
           24.034334763948497,
           28.3777392401072,
           29.976019184652287,
           22.311468094600627,
           12.772875058058524,
           11.674449633088724,
           18.413380389749886,
           20.886170371475455,
           27.349935223837623,
           32.14086081609839,
           15.852885225110976,
           10.327530244910003,
           34.01360544217686,
           29.86348122866895,
           30.75632601705578,
           36.08605135322693,
           14.795088030773785,
           37.075180226570545,
           31.85276942134137,
           28.29354553492484,
           22.203245089666947,
           25.465541938564385,
           19.219396806623298,
           23.398128149748015,
           19.027849852966614,
           27.201632097925874,
           31.969309462915604,
           19.510730901996094,
           21.17953730856957,
           21.806287479556605,
           7.635044855888531,
           55.07618872774007,
           49.91680532445926,
           29.089664613278575,
           37.98513625103222,
           19.9054491166957,
           23.270245113248524,
           36.56574520988738,
           16.065430115379,
           34.472852628555025,
           13.39584728734093,
           17.57944557133198,
           25.215069712251562,
           17.69389560601593,
           21.73283106345987,
           20.393299344501088,
           10.533707865168541,
           11.703372699223323,
           19.516589100735622,
           28.67491699366134,
           25.278810408921938,
           16.444909552997462,
           7.8839482812992765,
           10.389610389610388,
           25.75107296137339,
           26.801198171212356,
           28.477218225419673,
           32.723486538747586,
           10.45053413841152,
           10.006671114076049,
           16.878932023937395,
           20.886170371475455,
           31.66834604865409,
           19.564002235885976,
           19.02346227013317,
           19.179699026261435,
           28.09819580005915,
           19.9089874857793,
           27.960296379141617,
           16.655100624566277
          ],
          "sizemode": "area",
          "sizeref": 0.38247353283152824
         },
         "mode": "markers",
         "name": "",
         "showlegend": false,
         "subplot": "mapbox",
         "type": "scattermapbox"
        }
       ],
       "layout": {
        "coloraxis": {
         "colorbar": {
          "title": {
           "text": "mean_u"
          }
         },
         "colorscale": [
          [
           0,
           "#0d0887"
          ],
          [
           0.1111111111111111,
           "#46039f"
          ],
          [
           0.2222222222222222,
           "#7201a8"
          ],
          [
           0.3333333333333333,
           "#9c179e"
          ],
          [
           0.4444444444444444,
           "#bd3786"
          ],
          [
           0.5555555555555556,
           "#d8576b"
          ],
          [
           0.6666666666666666,
           "#ed7953"
          ],
          [
           0.7777777777777778,
           "#fb9f3a"
          ],
          [
           0.8888888888888888,
           "#fdca26"
          ],
          [
           1,
           "#f0f921"
          ]
         ]
        },
        "height": 600,
        "legend": {
         "itemsizing": "constant",
         "tracegroupgap": 0
        },
        "mapbox": {
         "center": {
          "lat": 37.584827507275854,
          "lon": -122.14351111119795
         },
         "domain": {
          "x": [
           0,
           1
          ],
          "y": [
           0,
           1
          ]
         },
         "layers": [
          {
           "below": "traces",
           "source": [
            "https://basemap.nationalmap.gov/arcgis/rest/services/USGSImageryOnly/MapServer/tile/{z}/{y}/{x}"
           ],
           "sourceattribution": "United States Geological Survey",
           "sourcetype": "raster"
          }
         ],
         "style": "white-bg",
         "zoom": 15
        },
        "margin": {
         "b": 0,
         "l": 0,
         "r": 0,
         "t": 0
        },
        "template": {
         "data": {
          "bar": [
           {
            "error_x": {
             "color": "#f2f5fa"
            },
            "error_y": {
             "color": "#f2f5fa"
            },
            "marker": {
             "line": {
              "color": "rgb(17,17,17)",
              "width": 0.5
             },
             "pattern": {
              "fillmode": "overlay",
              "size": 10,
              "solidity": 0.2
             }
            },
            "type": "bar"
           }
          ],
          "barpolar": [
           {
            "marker": {
             "line": {
              "color": "rgb(17,17,17)",
              "width": 0.5
             },
             "pattern": {
              "fillmode": "overlay",
              "size": 10,
              "solidity": 0.2
             }
            },
            "type": "barpolar"
           }
          ],
          "carpet": [
           {
            "aaxis": {
             "endlinecolor": "#A2B1C6",
             "gridcolor": "#506784",
             "linecolor": "#506784",
             "minorgridcolor": "#506784",
             "startlinecolor": "#A2B1C6"
            },
            "baxis": {
             "endlinecolor": "#A2B1C6",
             "gridcolor": "#506784",
             "linecolor": "#506784",
             "minorgridcolor": "#506784",
             "startlinecolor": "#A2B1C6"
            },
            "type": "carpet"
           }
          ],
          "choropleth": [
           {
            "colorbar": {
             "outlinewidth": 0,
             "ticks": ""
            },
            "type": "choropleth"
           }
          ],
          "contour": [
           {
            "colorbar": {
             "outlinewidth": 0,
             "ticks": ""
            },
            "colorscale": [
             [
              0,
              "#0d0887"
             ],
             [
              0.1111111111111111,
              "#46039f"
             ],
             [
              0.2222222222222222,
              "#7201a8"
             ],
             [
              0.3333333333333333,
              "#9c179e"
             ],
             [
              0.4444444444444444,
              "#bd3786"
             ],
             [
              0.5555555555555556,
              "#d8576b"
             ],
             [
              0.6666666666666666,
              "#ed7953"
             ],
             [
              0.7777777777777778,
              "#fb9f3a"
             ],
             [
              0.8888888888888888,
              "#fdca26"
             ],
             [
              1,
              "#f0f921"
             ]
            ],
            "type": "contour"
           }
          ],
          "contourcarpet": [
           {
            "colorbar": {
             "outlinewidth": 0,
             "ticks": ""
            },
            "type": "contourcarpet"
           }
          ],
          "heatmap": [
           {
            "colorbar": {
             "outlinewidth": 0,
             "ticks": ""
            },
            "colorscale": [
             [
              0,
              "#0d0887"
             ],
             [
              0.1111111111111111,
              "#46039f"
             ],
             [
              0.2222222222222222,
              "#7201a8"
             ],
             [
              0.3333333333333333,
              "#9c179e"
             ],
             [
              0.4444444444444444,
              "#bd3786"
             ],
             [
              0.5555555555555556,
              "#d8576b"
             ],
             [
              0.6666666666666666,
              "#ed7953"
             ],
             [
              0.7777777777777778,
              "#fb9f3a"
             ],
             [
              0.8888888888888888,
              "#fdca26"
             ],
             [
              1,
              "#f0f921"
             ]
            ],
            "type": "heatmap"
           }
          ],
          "heatmapgl": [
           {
            "colorbar": {
             "outlinewidth": 0,
             "ticks": ""
            },
            "colorscale": [
             [
              0,
              "#0d0887"
             ],
             [
              0.1111111111111111,
              "#46039f"
             ],
             [
              0.2222222222222222,
              "#7201a8"
             ],
             [
              0.3333333333333333,
              "#9c179e"
             ],
             [
              0.4444444444444444,
              "#bd3786"
             ],
             [
              0.5555555555555556,
              "#d8576b"
             ],
             [
              0.6666666666666666,
              "#ed7953"
             ],
             [
              0.7777777777777778,
              "#fb9f3a"
             ],
             [
              0.8888888888888888,
              "#fdca26"
             ],
             [
              1,
              "#f0f921"
             ]
            ],
            "type": "heatmapgl"
           }
          ],
          "histogram": [
           {
            "marker": {
             "pattern": {
              "fillmode": "overlay",
              "size": 10,
              "solidity": 0.2
             }
            },
            "type": "histogram"
           }
          ],
          "histogram2d": [
           {
            "colorbar": {
             "outlinewidth": 0,
             "ticks": ""
            },
            "colorscale": [
             [
              0,
              "#0d0887"
             ],
             [
              0.1111111111111111,
              "#46039f"
             ],
             [
              0.2222222222222222,
              "#7201a8"
             ],
             [
              0.3333333333333333,
              "#9c179e"
             ],
             [
              0.4444444444444444,
              "#bd3786"
             ],
             [
              0.5555555555555556,
              "#d8576b"
             ],
             [
              0.6666666666666666,
              "#ed7953"
             ],
             [
              0.7777777777777778,
              "#fb9f3a"
             ],
             [
              0.8888888888888888,
              "#fdca26"
             ],
             [
              1,
              "#f0f921"
             ]
            ],
            "type": "histogram2d"
           }
          ],
          "histogram2dcontour": [
           {
            "colorbar": {
             "outlinewidth": 0,
             "ticks": ""
            },
            "colorscale": [
             [
              0,
              "#0d0887"
             ],
             [
              0.1111111111111111,
              "#46039f"
             ],
             [
              0.2222222222222222,
              "#7201a8"
             ],
             [
              0.3333333333333333,
              "#9c179e"
             ],
             [
              0.4444444444444444,
              "#bd3786"
             ],
             [
              0.5555555555555556,
              "#d8576b"
             ],
             [
              0.6666666666666666,
              "#ed7953"
             ],
             [
              0.7777777777777778,
              "#fb9f3a"
             ],
             [
              0.8888888888888888,
              "#fdca26"
             ],
             [
              1,
              "#f0f921"
             ]
            ],
            "type": "histogram2dcontour"
           }
          ],
          "mesh3d": [
           {
            "colorbar": {
             "outlinewidth": 0,
             "ticks": ""
            },
            "type": "mesh3d"
           }
          ],
          "parcoords": [
           {
            "line": {
             "colorbar": {
              "outlinewidth": 0,
              "ticks": ""
             }
            },
            "type": "parcoords"
           }
          ],
          "pie": [
           {
            "automargin": true,
            "type": "pie"
           }
          ],
          "scatter": [
           {
            "marker": {
             "line": {
              "color": "#283442"
             }
            },
            "type": "scatter"
           }
          ],
          "scatter3d": [
           {
            "line": {
             "colorbar": {
              "outlinewidth": 0,
              "ticks": ""
             }
            },
            "marker": {
             "colorbar": {
              "outlinewidth": 0,
              "ticks": ""
             }
            },
            "type": "scatter3d"
           }
          ],
          "scattercarpet": [
           {
            "marker": {
             "colorbar": {
              "outlinewidth": 0,
              "ticks": ""
             }
            },
            "type": "scattercarpet"
           }
          ],
          "scattergeo": [
           {
            "marker": {
             "colorbar": {
              "outlinewidth": 0,
              "ticks": ""
             }
            },
            "type": "scattergeo"
           }
          ],
          "scattergl": [
           {
            "marker": {
             "line": {
              "color": "#283442"
             }
            },
            "type": "scattergl"
           }
          ],
          "scattermapbox": [
           {
            "marker": {
             "colorbar": {
              "outlinewidth": 0,
              "ticks": ""
             }
            },
            "type": "scattermapbox"
           }
          ],
          "scatterpolar": [
           {
            "marker": {
             "colorbar": {
              "outlinewidth": 0,
              "ticks": ""
             }
            },
            "type": "scatterpolar"
           }
          ],
          "scatterpolargl": [
           {
            "marker": {
             "colorbar": {
              "outlinewidth": 0,
              "ticks": ""
             }
            },
            "type": "scatterpolargl"
           }
          ],
          "scatterternary": [
           {
            "marker": {
             "colorbar": {
              "outlinewidth": 0,
              "ticks": ""
             }
            },
            "type": "scatterternary"
           }
          ],
          "surface": [
           {
            "colorbar": {
             "outlinewidth": 0,
             "ticks": ""
            },
            "colorscale": [
             [
              0,
              "#0d0887"
             ],
             [
              0.1111111111111111,
              "#46039f"
             ],
             [
              0.2222222222222222,
              "#7201a8"
             ],
             [
              0.3333333333333333,
              "#9c179e"
             ],
             [
              0.4444444444444444,
              "#bd3786"
             ],
             [
              0.5555555555555556,
              "#d8576b"
             ],
             [
              0.6666666666666666,
              "#ed7953"
             ],
             [
              0.7777777777777778,
              "#fb9f3a"
             ],
             [
              0.8888888888888888,
              "#fdca26"
             ],
             [
              1,
              "#f0f921"
             ]
            ],
            "type": "surface"
           }
          ],
          "table": [
           {
            "cells": {
             "fill": {
              "color": "#506784"
             },
             "line": {
              "color": "rgb(17,17,17)"
             }
            },
            "header": {
             "fill": {
              "color": "#2a3f5f"
             },
             "line": {
              "color": "rgb(17,17,17)"
             }
            },
            "type": "table"
           }
          ]
         },
         "layout": {
          "annotationdefaults": {
           "arrowcolor": "#f2f5fa",
           "arrowhead": 0,
           "arrowwidth": 1
          },
          "autotypenumbers": "strict",
          "coloraxis": {
           "colorbar": {
            "outlinewidth": 0,
            "ticks": ""
           }
          },
          "colorscale": {
           "diverging": [
            [
             0,
             "#8e0152"
            ],
            [
             0.1,
             "#c51b7d"
            ],
            [
             0.2,
             "#de77ae"
            ],
            [
             0.3,
             "#f1b6da"
            ],
            [
             0.4,
             "#fde0ef"
            ],
            [
             0.5,
             "#f7f7f7"
            ],
            [
             0.6,
             "#e6f5d0"
            ],
            [
             0.7,
             "#b8e186"
            ],
            [
             0.8,
             "#7fbc41"
            ],
            [
             0.9,
             "#4d9221"
            ],
            [
             1,
             "#276419"
            ]
           ],
           "sequential": [
            [
             0,
             "#0d0887"
            ],
            [
             0.1111111111111111,
             "#46039f"
            ],
            [
             0.2222222222222222,
             "#7201a8"
            ],
            [
             0.3333333333333333,
             "#9c179e"
            ],
            [
             0.4444444444444444,
             "#bd3786"
            ],
            [
             0.5555555555555556,
             "#d8576b"
            ],
            [
             0.6666666666666666,
             "#ed7953"
            ],
            [
             0.7777777777777778,
             "#fb9f3a"
            ],
            [
             0.8888888888888888,
             "#fdca26"
            ],
            [
             1,
             "#f0f921"
            ]
           ],
           "sequentialminus": [
            [
             0,
             "#0d0887"
            ],
            [
             0.1111111111111111,
             "#46039f"
            ],
            [
             0.2222222222222222,
             "#7201a8"
            ],
            [
             0.3333333333333333,
             "#9c179e"
            ],
            [
             0.4444444444444444,
             "#bd3786"
            ],
            [
             0.5555555555555556,
             "#d8576b"
            ],
            [
             0.6666666666666666,
             "#ed7953"
            ],
            [
             0.7777777777777778,
             "#fb9f3a"
            ],
            [
             0.8888888888888888,
             "#fdca26"
            ],
            [
             1,
             "#f0f921"
            ]
           ]
          },
          "colorway": [
           "#636efa",
           "#EF553B",
           "#00cc96",
           "#ab63fa",
           "#FFA15A",
           "#19d3f3",
           "#FF6692",
           "#B6E880",
           "#FF97FF",
           "#FECB52"
          ],
          "font": {
           "color": "#f2f5fa"
          },
          "geo": {
           "bgcolor": "rgb(17,17,17)",
           "lakecolor": "rgb(17,17,17)",
           "landcolor": "rgb(17,17,17)",
           "showlakes": true,
           "showland": true,
           "subunitcolor": "#506784"
          },
          "hoverlabel": {
           "align": "left"
          },
          "hovermode": "closest",
          "mapbox": {
           "style": "dark"
          },
          "paper_bgcolor": "rgb(17,17,17)",
          "plot_bgcolor": "rgb(17,17,17)",
          "polar": {
           "angularaxis": {
            "gridcolor": "#506784",
            "linecolor": "#506784",
            "ticks": ""
           },
           "bgcolor": "rgb(17,17,17)",
           "radialaxis": {
            "gridcolor": "#506784",
            "linecolor": "#506784",
            "ticks": ""
           }
          },
          "scene": {
           "xaxis": {
            "backgroundcolor": "rgb(17,17,17)",
            "gridcolor": "#506784",
            "gridwidth": 2,
            "linecolor": "#506784",
            "showbackground": true,
            "ticks": "",
            "zerolinecolor": "#C8D4E3"
           },
           "yaxis": {
            "backgroundcolor": "rgb(17,17,17)",
            "gridcolor": "#506784",
            "gridwidth": 2,
            "linecolor": "#506784",
            "showbackground": true,
            "ticks": "",
            "zerolinecolor": "#C8D4E3"
           },
           "zaxis": {
            "backgroundcolor": "rgb(17,17,17)",
            "gridcolor": "#506784",
            "gridwidth": 2,
            "linecolor": "#506784",
            "showbackground": true,
            "ticks": "",
            "zerolinecolor": "#C8D4E3"
           }
          },
          "shapedefaults": {
           "line": {
            "color": "#f2f5fa"
           }
          },
          "sliderdefaults": {
           "bgcolor": "#C8D4E3",
           "bordercolor": "rgb(17,17,17)",
           "borderwidth": 1,
           "tickwidth": 0
          },
          "ternary": {
           "aaxis": {
            "gridcolor": "#506784",
            "linecolor": "#506784",
            "ticks": ""
           },
           "baxis": {
            "gridcolor": "#506784",
            "linecolor": "#506784",
            "ticks": ""
           },
           "bgcolor": "rgb(17,17,17)",
           "caxis": {
            "gridcolor": "#506784",
            "linecolor": "#506784",
            "ticks": ""
           }
          },
          "title": {
           "x": 0.05
          },
          "updatemenudefaults": {
           "bgcolor": "#506784",
           "borderwidth": 0
          },
          "xaxis": {
           "automargin": true,
           "gridcolor": "#283442",
           "linecolor": "#506784",
           "ticks": "",
           "title": {
            "standoff": 15
           },
           "zerolinecolor": "#283442",
           "zerolinewidth": 2
          },
          "yaxis": {
           "automargin": true,
           "gridcolor": "#283442",
           "linecolor": "#506784",
           "ticks": "",
           "title": {
            "standoff": 15
           },
           "zerolinecolor": "#283442",
           "zerolinewidth": 2
          }
         }
        }
       }
      }
     },
     "metadata": {},
     "output_type": "display_data"
    }
   ],
   "source": [
    "fig = px.scatter_mapbox(dff[dff['Runtype']=='Vegetated Run'], \n",
    "    lat=\"lat\", \n",
    "    lon=\"lon\", \n",
    "    color='mean_u', \n",
    "    size='Hveg/WC',\n",
    "    size_max=12,\n",
    "    hover_name=\"plot_ID\", \n",
    "    hover_data=[\"site\", \"mean_u\", \"density_total\", \"Hveg/WC\"], \n",
    "    zoom=15, \n",
    "    height=600)\n",
    "    \n",
    "fig.update_layout(\n",
    "    mapbox_style=\"white-bg\",\n",
    "    mapbox_layers=[\n",
    "        {\n",
    "            \"below\": 'traces',\n",
    "            \"sourcetype\": \"raster\",\n",
    "            \"sourceattribution\": \"United States Geological Survey\",\n",
    "            \"source\": [\n",
    "                \"https://basemap.nationalmap.gov/arcgis/rest/services/USGSImageryOnly/MapServer/tile/{z}/{y}/{x}\"\n",
    "            ]\n",
    "        }\n",
    "      ])\n",
    "fig.update_layout(margin={\"r\":0,\"t\":0,\"l\":0,\"b\":0},template='plotly_dark')\n",
    "fig.show()"
   ]
  },
  {
   "cell_type": "markdown",
   "metadata": {},
   "source": [
    "## Animations"
   ]
  },
  {
   "cell_type": "markdown",
   "metadata": {},
   "source": [
    "# Others"
   ]
  },
  {
   "cell_type": "code",
   "execution_count": 21,
   "metadata": {},
   "outputs": [
    {
     "data": {
      "text/plain": [
       "'\\nfig = make_subplots(rows=4, cols=2,\\n                    subplot_titles=(\\'Baseline Runs\\', \\'Vegetated Runs\\'))\\n\\ncbarlocs = [.85, .5, .15]\\n\\n# U Mean Contour Plots\\nfig.add_trace(go.Contour(\\n        z=df2[\\'mean_u_25\\'],\\n        x=df2[\\'density_total\\'], # horizontal axis\\n        y=df2[\\'Hveg/WC\\'],# vertical axis,\\n        colorbar_x=0.46,\\n        line_smoothing=0.85), 1, 1)\\nfig.add_trace(go.Contour(\\n        z=df1[\\'mean_u_25\\'],\\n        x=df1[\\'density_total\\'], # horizontal axis\\n        y=df1[\\'Hveg/WC\\'],# vertical axis,\\n        line_smoothing=0.85), 1, 2)\\n\\n# dU Contour Plots\\nfig.add_trace(go.Contour(\\n        z=df2[\\'dTopBottom\\'],\\n        x=df2[\\'density_total\\'], # horizontal axis\\n        y=df2[\\'Hveg/WC\\'],# vertical axis,\\n        colorbar_x=0.46,\\n        colorbar_y= -1,\\n        line_smoothing=0.85), 2, 1)\\nfig.add_trace(go.Contour(\\n        z=df1[\\'dTopBottom\\'],\\n        x=df1[\\'density_total\\'], # horizontal axis\\n        y=df1[\\'Hveg/WC\\'],# vertical axis,\\n        line_smoothing=0.85), 2, 2)\\n\\n# utop/ubot Contour Plots\\nfig.add_trace(go.Contour(\\n        z=df2[\\'U Top\\']/df2[\\'U Bottom\\'],\\n        x=df2[\\'density_total\\'], # horizontal axis\\n        y=df2[\\'Hveg/WC\\'],# vertical axis,\\n        colorbar_x=0.46,\\n        line_smoothing=0.85), 3, 1)\\nfig.add_trace(go.Contour(\\n        z=df1[\\'U Top\\']/df1[\\'U Bottom\\'],\\n        x=df1[\\'density_total\\'], # horizontal axis\\n        y=df1[\\'Hveg/WC\\'],# vertical axis,\\n        line_smoothing=0.85), 3, 2)\\n\\n# mean(Q2) Contour Plots\\nfig.add_trace(go.Contour(\\n        z=df2[\\'Q2\\'],\\n        x=df2[\\'density_total\\'], # horizontal axis\\n        y=df2[\\'Hveg/WC\\'],# vertical axis,\\n        colorbar_x=0.46,\\n        line_smoothing=0.85), 4, 1)\\nfig.add_trace(go.Contour(\\n        z=df1[\\'Q2\\'],\\n        x=df1[\\'density_total\\'], # horizontal axis\\n        y=df1[\\'Hveg/WC\\'],# vertical axis,\\n        line_smoothing=0.85), 4, 2)\\n\\n# max(Q2) Contour Plots\\n\\n# Bed Stress Contour Plots\\n\\n#fig = go.Figure(data =\\n #   go.Contour(\\n  #      z=dff[\\'mean_u_25\\'],\\n   #     x=dff[\\'density_total\\'], # horizontal axis\\n    #    y=dff[\\'Hveg/WC\\'],# vertical axis,\\n     #))\\nfig.update_layout(\\n    title=\"Velocity Contour Plot\",\\n    xaxis_title=\"Density\",\\n    yaxis_title=\"Hveg/WC\",\\n    width=1400,\\n    height=2800,\\n    autosize=True,\\n    template=\\'plotly_dark\\')\\nfig.update_traces(showscale=False)\\nfig.show()\\n'"
      ]
     },
     "execution_count": 21,
     "metadata": {},
     "output_type": "execute_result"
    }
   ],
   "source": [
    "# Visualization using Plotly\n",
    "\"\"\"\n",
    "fig = make_subplots(rows=4, cols=2,\n",
    "                    subplot_titles=('Baseline Runs', 'Vegetated Runs'))\n",
    "\n",
    "cbarlocs = [.85, .5, .15]\n",
    "\n",
    "# U Mean Contour Plots\n",
    "fig.add_trace(go.Contour(\n",
    "        z=df2['mean_u_25'],\n",
    "        x=df2['density_total'], # horizontal axis\n",
    "        y=df2['Hveg/WC'],# vertical axis,\n",
    "        colorbar_x=0.46,\n",
    "        line_smoothing=0.85), 1, 1)\n",
    "fig.add_trace(go.Contour(\n",
    "        z=df1['mean_u_25'],\n",
    "        x=df1['density_total'], # horizontal axis\n",
    "        y=df1['Hveg/WC'],# vertical axis,\n",
    "        line_smoothing=0.85), 1, 2)\n",
    "\n",
    "# dU Contour Plots\n",
    "fig.add_trace(go.Contour(\n",
    "        z=df2['dTopBottom'],\n",
    "        x=df2['density_total'], # horizontal axis\n",
    "        y=df2['Hveg/WC'],# vertical axis,\n",
    "        colorbar_x=0.46,\n",
    "        colorbar_y= -1,\n",
    "        line_smoothing=0.85), 2, 1)\n",
    "fig.add_trace(go.Contour(\n",
    "        z=df1['dTopBottom'],\n",
    "        x=df1['density_total'], # horizontal axis\n",
    "        y=df1['Hveg/WC'],# vertical axis,\n",
    "        line_smoothing=0.85), 2, 2)\n",
    "\n",
    "# utop/ubot Contour Plots\n",
    "fig.add_trace(go.Contour(\n",
    "        z=df2['U Top']/df2['U Bottom'],\n",
    "        x=df2['density_total'], # horizontal axis\n",
    "        y=df2['Hveg/WC'],# vertical axis,\n",
    "        colorbar_x=0.46,\n",
    "        line_smoothing=0.85), 3, 1)\n",
    "fig.add_trace(go.Contour(\n",
    "        z=df1['U Top']/df1['U Bottom'],\n",
    "        x=df1['density_total'], # horizontal axis\n",
    "        y=df1['Hveg/WC'],# vertical axis,\n",
    "        line_smoothing=0.85), 3, 2)\n",
    "\n",
    "# mean(Q2) Contour Plots\n",
    "fig.add_trace(go.Contour(\n",
    "        z=df2['Q2'],\n",
    "        x=df2['density_total'], # horizontal axis\n",
    "        y=df2['Hveg/WC'],# vertical axis,\n",
    "        colorbar_x=0.46,\n",
    "        line_smoothing=0.85), 4, 1)\n",
    "fig.add_trace(go.Contour(\n",
    "        z=df1['Q2'],\n",
    "        x=df1['density_total'], # horizontal axis\n",
    "        y=df1['Hveg/WC'],# vertical axis,\n",
    "        line_smoothing=0.85), 4, 2)\n",
    "\n",
    "# max(Q2) Contour Plots\n",
    "\n",
    "# Bed Stress Contour Plots\n",
    "\n",
    "#fig = go.Figure(data =\n",
    " #   go.Contour(\n",
    "  #      z=dff['mean_u_25'],\n",
    "   #     x=dff['density_total'], # horizontal axis\n",
    "    #    y=dff['Hveg/WC'],# vertical axis,\n",
    "     #))\n",
    "fig.update_layout(\n",
    "    title=\"Velocity Contour Plot\",\n",
    "    xaxis_title=\"Density\",\n",
    "    yaxis_title=\"Hveg/WC\",\n",
    "    width=1400,\n",
    "    height=2800,\n",
    "    autosize=True,\n",
    "    template='plotly_dark')\n",
    "fig.update_traces(showscale=False)\n",
    "fig.show()\n",
    "\"\"\""
   ]
  }
 ],
 "metadata": {
  "kernelspec": {
   "display_name": "Python 3.9.13 ('EFMHModeling_20220915')",
   "language": "python",
   "name": "python3"
  },
  "language_info": {
   "codemirror_mode": {
    "name": "ipython",
    "version": 3
   },
   "file_extension": ".py",
   "mimetype": "text/x-python",
   "name": "python",
   "nbconvert_exporter": "python",
   "pygments_lexer": "ipython3",
   "version": "3.9.13"
  },
  "orig_nbformat": 4,
  "vscode": {
   "interpreter": {
    "hash": "b17acb4996bf1f81ae7b7b859afc8c9430e41316f8cf32ebfba3f7b073322fea"
   }
  }
 },
 "nbformat": 4,
 "nbformat_minor": 2
}
