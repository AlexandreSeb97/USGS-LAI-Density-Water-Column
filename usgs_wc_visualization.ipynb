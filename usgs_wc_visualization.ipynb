{
 "cells": [
  {
   "cell_type": "markdown",
   "metadata": {},
   "source": [
    "# Figures from Water Column Model Runs"
   ]
  },
  {
   "cell_type": "code",
   "execution_count": 68,
   "metadata": {},
   "outputs": [],
   "source": [
    "#from IPython.core.interactiveshell import InteractiveShell\n",
    "#InteractiveShell.ast_node_interactivity = 'all'\n",
    "\n",
    "# Data Science and Visualization Imports\n",
    "from plotly.subplots import make_subplots\n",
    "import geopandas as gpd\n",
    "from pyproj import Proj\n",
    "import plotly.graph_objects as go\n",
    "import plotly.express as px\n",
    "import pandas as pd\n",
    "import xarray as xr\n",
    "import numpy as np"
   ]
  },
  {
   "cell_type": "markdown",
   "metadata": {},
   "source": [
    "### Data Imports"
   ]
  },
  {
   "cell_type": "code",
   "execution_count": 69,
   "metadata": {},
   "outputs": [],
   "source": [
    "wc_results_path = 'results_data/wc_runs_all.nc'\n",
    "baseline_path = 'results_data/baseline_wc_full.nc'\n",
    "input_data_path = 'results_data/usgs_data_full.csv'\n",
    "locs_path = 'results_data/locs_data.csv'\n",
    "wc_ds = xr.open_dataset(wc_results_path)\n",
    "base_wc_ds = xr.open_dataset(baseline_path)\n",
    "df = pd.read_csv(input_data_path)\n",
    "locs = pd.read_csv(locs_path)"
   ]
  },
  {
   "cell_type": "code",
   "execution_count": 70,
   "metadata": {},
   "outputs": [
    {
     "data": {
      "text/html": [
       "<div><svg style=\"position: absolute; width: 0; height: 0; overflow: hidden\">\n",
       "<defs>\n",
       "<symbol id=\"icon-database\" viewBox=\"0 0 32 32\">\n",
       "<path d=\"M16 0c-8.837 0-16 2.239-16 5v4c0 2.761 7.163 5 16 5s16-2.239 16-5v-4c0-2.761-7.163-5-16-5z\"></path>\n",
       "<path d=\"M16 17c-8.837 0-16-2.239-16-5v6c0 2.761 7.163 5 16 5s16-2.239 16-5v-6c0 2.761-7.163 5-16 5z\"></path>\n",
       "<path d=\"M16 26c-8.837 0-16-2.239-16-5v6c0 2.761 7.163 5 16 5s16-2.239 16-5v-6c0 2.761-7.163 5-16 5z\"></path>\n",
       "</symbol>\n",
       "<symbol id=\"icon-file-text2\" viewBox=\"0 0 32 32\">\n",
       "<path d=\"M28.681 7.159c-0.694-0.947-1.662-2.053-2.724-3.116s-2.169-2.030-3.116-2.724c-1.612-1.182-2.393-1.319-2.841-1.319h-15.5c-1.378 0-2.5 1.121-2.5 2.5v27c0 1.378 1.122 2.5 2.5 2.5h23c1.378 0 2.5-1.122 2.5-2.5v-19.5c0-0.448-0.137-1.23-1.319-2.841zM24.543 5.457c0.959 0.959 1.712 1.825 2.268 2.543h-4.811v-4.811c0.718 0.556 1.584 1.309 2.543 2.268zM28 29.5c0 0.271-0.229 0.5-0.5 0.5h-23c-0.271 0-0.5-0.229-0.5-0.5v-27c0-0.271 0.229-0.5 0.5-0.5 0 0 15.499-0 15.5 0v7c0 0.552 0.448 1 1 1h7v19.5z\"></path>\n",
       "<path d=\"M23 26h-14c-0.552 0-1-0.448-1-1s0.448-1 1-1h14c0.552 0 1 0.448 1 1s-0.448 1-1 1z\"></path>\n",
       "<path d=\"M23 22h-14c-0.552 0-1-0.448-1-1s0.448-1 1-1h14c0.552 0 1 0.448 1 1s-0.448 1-1 1z\"></path>\n",
       "<path d=\"M23 18h-14c-0.552 0-1-0.448-1-1s0.448-1 1-1h14c0.552 0 1 0.448 1 1s-0.448 1-1 1z\"></path>\n",
       "</symbol>\n",
       "</defs>\n",
       "</svg>\n",
       "<style>/* CSS stylesheet for displaying xarray objects in jupyterlab.\n",
       " *\n",
       " */\n",
       "\n",
       ":root {\n",
       "  --xr-font-color0: var(--jp-content-font-color0, rgba(0, 0, 0, 1));\n",
       "  --xr-font-color2: var(--jp-content-font-color2, rgba(0, 0, 0, 0.54));\n",
       "  --xr-font-color3: var(--jp-content-font-color3, rgba(0, 0, 0, 0.38));\n",
       "  --xr-border-color: var(--jp-border-color2, #e0e0e0);\n",
       "  --xr-disabled-color: var(--jp-layout-color3, #bdbdbd);\n",
       "  --xr-background-color: var(--jp-layout-color0, white);\n",
       "  --xr-background-color-row-even: var(--jp-layout-color1, white);\n",
       "  --xr-background-color-row-odd: var(--jp-layout-color2, #eeeeee);\n",
       "}\n",
       "\n",
       "html[theme=dark],\n",
       "body.vscode-dark {\n",
       "  --xr-font-color0: rgba(255, 255, 255, 1);\n",
       "  --xr-font-color2: rgba(255, 255, 255, 0.54);\n",
       "  --xr-font-color3: rgba(255, 255, 255, 0.38);\n",
       "  --xr-border-color: #1F1F1F;\n",
       "  --xr-disabled-color: #515151;\n",
       "  --xr-background-color: #111111;\n",
       "  --xr-background-color-row-even: #111111;\n",
       "  --xr-background-color-row-odd: #313131;\n",
       "}\n",
       "\n",
       ".xr-wrap {\n",
       "  display: block;\n",
       "  min-width: 300px;\n",
       "  max-width: 700px;\n",
       "}\n",
       "\n",
       ".xr-text-repr-fallback {\n",
       "  /* fallback to plain text repr when CSS is not injected (untrusted notebook) */\n",
       "  display: none;\n",
       "}\n",
       "\n",
       ".xr-header {\n",
       "  padding-top: 6px;\n",
       "  padding-bottom: 6px;\n",
       "  margin-bottom: 4px;\n",
       "  border-bottom: solid 1px var(--xr-border-color);\n",
       "}\n",
       "\n",
       ".xr-header > div,\n",
       ".xr-header > ul {\n",
       "  display: inline;\n",
       "  margin-top: 0;\n",
       "  margin-bottom: 0;\n",
       "}\n",
       "\n",
       ".xr-obj-type,\n",
       ".xr-array-name {\n",
       "  margin-left: 2px;\n",
       "  margin-right: 10px;\n",
       "}\n",
       "\n",
       ".xr-obj-type {\n",
       "  color: var(--xr-font-color2);\n",
       "}\n",
       "\n",
       ".xr-sections {\n",
       "  padding-left: 0 !important;\n",
       "  display: grid;\n",
       "  grid-template-columns: 150px auto auto 1fr 20px 20px;\n",
       "}\n",
       "\n",
       ".xr-section-item {\n",
       "  display: contents;\n",
       "}\n",
       "\n",
       ".xr-section-item input {\n",
       "  display: none;\n",
       "}\n",
       "\n",
       ".xr-section-item input + label {\n",
       "  color: var(--xr-disabled-color);\n",
       "}\n",
       "\n",
       ".xr-section-item input:enabled + label {\n",
       "  cursor: pointer;\n",
       "  color: var(--xr-font-color2);\n",
       "}\n",
       "\n",
       ".xr-section-item input:enabled + label:hover {\n",
       "  color: var(--xr-font-color0);\n",
       "}\n",
       "\n",
       ".xr-section-summary {\n",
       "  grid-column: 1;\n",
       "  color: var(--xr-font-color2);\n",
       "  font-weight: 500;\n",
       "}\n",
       "\n",
       ".xr-section-summary > span {\n",
       "  display: inline-block;\n",
       "  padding-left: 0.5em;\n",
       "}\n",
       "\n",
       ".xr-section-summary-in:disabled + label {\n",
       "  color: var(--xr-font-color2);\n",
       "}\n",
       "\n",
       ".xr-section-summary-in + label:before {\n",
       "  display: inline-block;\n",
       "  content: '►';\n",
       "  font-size: 11px;\n",
       "  width: 15px;\n",
       "  text-align: center;\n",
       "}\n",
       "\n",
       ".xr-section-summary-in:disabled + label:before {\n",
       "  color: var(--xr-disabled-color);\n",
       "}\n",
       "\n",
       ".xr-section-summary-in:checked + label:before {\n",
       "  content: '▼';\n",
       "}\n",
       "\n",
       ".xr-section-summary-in:checked + label > span {\n",
       "  display: none;\n",
       "}\n",
       "\n",
       ".xr-section-summary,\n",
       ".xr-section-inline-details {\n",
       "  padding-top: 4px;\n",
       "  padding-bottom: 4px;\n",
       "}\n",
       "\n",
       ".xr-section-inline-details {\n",
       "  grid-column: 2 / -1;\n",
       "}\n",
       "\n",
       ".xr-section-details {\n",
       "  display: none;\n",
       "  grid-column: 1 / -1;\n",
       "  margin-bottom: 5px;\n",
       "}\n",
       "\n",
       ".xr-section-summary-in:checked ~ .xr-section-details {\n",
       "  display: contents;\n",
       "}\n",
       "\n",
       ".xr-array-wrap {\n",
       "  grid-column: 1 / -1;\n",
       "  display: grid;\n",
       "  grid-template-columns: 20px auto;\n",
       "}\n",
       "\n",
       ".xr-array-wrap > label {\n",
       "  grid-column: 1;\n",
       "  vertical-align: top;\n",
       "}\n",
       "\n",
       ".xr-preview {\n",
       "  color: var(--xr-font-color3);\n",
       "}\n",
       "\n",
       ".xr-array-preview,\n",
       ".xr-array-data {\n",
       "  padding: 0 5px !important;\n",
       "  grid-column: 2;\n",
       "}\n",
       "\n",
       ".xr-array-data,\n",
       ".xr-array-in:checked ~ .xr-array-preview {\n",
       "  display: none;\n",
       "}\n",
       "\n",
       ".xr-array-in:checked ~ .xr-array-data,\n",
       ".xr-array-preview {\n",
       "  display: inline-block;\n",
       "}\n",
       "\n",
       ".xr-dim-list {\n",
       "  display: inline-block !important;\n",
       "  list-style: none;\n",
       "  padding: 0 !important;\n",
       "  margin: 0;\n",
       "}\n",
       "\n",
       ".xr-dim-list li {\n",
       "  display: inline-block;\n",
       "  padding: 0;\n",
       "  margin: 0;\n",
       "}\n",
       "\n",
       ".xr-dim-list:before {\n",
       "  content: '(';\n",
       "}\n",
       "\n",
       ".xr-dim-list:after {\n",
       "  content: ')';\n",
       "}\n",
       "\n",
       ".xr-dim-list li:not(:last-child):after {\n",
       "  content: ',';\n",
       "  padding-right: 5px;\n",
       "}\n",
       "\n",
       ".xr-has-index {\n",
       "  font-weight: bold;\n",
       "}\n",
       "\n",
       ".xr-var-list,\n",
       ".xr-var-item {\n",
       "  display: contents;\n",
       "}\n",
       "\n",
       ".xr-var-item > div,\n",
       ".xr-var-item label,\n",
       ".xr-var-item > .xr-var-name span {\n",
       "  background-color: var(--xr-background-color-row-even);\n",
       "  margin-bottom: 0;\n",
       "}\n",
       "\n",
       ".xr-var-item > .xr-var-name:hover span {\n",
       "  padding-right: 5px;\n",
       "}\n",
       "\n",
       ".xr-var-list > li:nth-child(odd) > div,\n",
       ".xr-var-list > li:nth-child(odd) > label,\n",
       ".xr-var-list > li:nth-child(odd) > .xr-var-name span {\n",
       "  background-color: var(--xr-background-color-row-odd);\n",
       "}\n",
       "\n",
       ".xr-var-name {\n",
       "  grid-column: 1;\n",
       "}\n",
       "\n",
       ".xr-var-dims {\n",
       "  grid-column: 2;\n",
       "}\n",
       "\n",
       ".xr-var-dtype {\n",
       "  grid-column: 3;\n",
       "  text-align: right;\n",
       "  color: var(--xr-font-color2);\n",
       "}\n",
       "\n",
       ".xr-var-preview {\n",
       "  grid-column: 4;\n",
       "}\n",
       "\n",
       ".xr-var-name,\n",
       ".xr-var-dims,\n",
       ".xr-var-dtype,\n",
       ".xr-preview,\n",
       ".xr-attrs dt {\n",
       "  white-space: nowrap;\n",
       "  overflow: hidden;\n",
       "  text-overflow: ellipsis;\n",
       "  padding-right: 10px;\n",
       "}\n",
       "\n",
       ".xr-var-name:hover,\n",
       ".xr-var-dims:hover,\n",
       ".xr-var-dtype:hover,\n",
       ".xr-attrs dt:hover {\n",
       "  overflow: visible;\n",
       "  width: auto;\n",
       "  z-index: 1;\n",
       "}\n",
       "\n",
       ".xr-var-attrs,\n",
       ".xr-var-data {\n",
       "  display: none;\n",
       "  background-color: var(--xr-background-color) !important;\n",
       "  padding-bottom: 5px !important;\n",
       "}\n",
       "\n",
       ".xr-var-attrs-in:checked ~ .xr-var-attrs,\n",
       ".xr-var-data-in:checked ~ .xr-var-data {\n",
       "  display: block;\n",
       "}\n",
       "\n",
       ".xr-var-data > table {\n",
       "  float: right;\n",
       "}\n",
       "\n",
       ".xr-var-name span,\n",
       ".xr-var-data,\n",
       ".xr-attrs {\n",
       "  padding-left: 25px !important;\n",
       "}\n",
       "\n",
       ".xr-attrs,\n",
       ".xr-var-attrs,\n",
       ".xr-var-data {\n",
       "  grid-column: 1 / -1;\n",
       "}\n",
       "\n",
       "dl.xr-attrs {\n",
       "  padding: 0;\n",
       "  margin: 0;\n",
       "  display: grid;\n",
       "  grid-template-columns: 125px auto;\n",
       "}\n",
       "\n",
       ".xr-attrs dt,\n",
       ".xr-attrs dd {\n",
       "  padding: 0;\n",
       "  margin: 0;\n",
       "  float: left;\n",
       "  padding-right: 10px;\n",
       "  width: auto;\n",
       "}\n",
       "\n",
       ".xr-attrs dt {\n",
       "  font-weight: normal;\n",
       "  grid-column: 1;\n",
       "}\n",
       "\n",
       ".xr-attrs dt:hover span {\n",
       "  display: inline-block;\n",
       "  background: var(--xr-background-color);\n",
       "  padding-right: 10px;\n",
       "}\n",
       "\n",
       ".xr-attrs dd {\n",
       "  grid-column: 2;\n",
       "  white-space: pre-wrap;\n",
       "  word-break: break-all;\n",
       "}\n",
       "\n",
       ".xr-icon-database,\n",
       ".xr-icon-file-text2 {\n",
       "  display: inline-block;\n",
       "  vertical-align: middle;\n",
       "  width: 1em;\n",
       "  height: 1.5em !important;\n",
       "  stroke-width: 0;\n",
       "  stroke: currentColor;\n",
       "  fill: currentColor;\n",
       "}\n",
       "</style><pre class='xr-text-repr-fallback'>&lt;xarray.Dataset&gt;\n",
       "Dimensions:     (Model Runs: 114, index: 80)\n",
       "Coordinates:\n",
       "  * index       (index) int32 0 1 2 3 4 5 6 7 8 9 ... 71 72 73 74 75 76 77 78 79\n",
       "Dimensions without coordinates: Model Runs\n",
       "Data variables:\n",
       "    U Velocity  (Model Runs, index) float64 9.077 9.963 10.45 ... 13.98 13.99\n",
       "    Q           (Model Runs, index) float64 0.9727 0.5926 ... 0.1385 0.1047\n",
       "    Q2          (Model Runs, index) float64 0.9461 0.3511 ... 0.01918 0.01096\n",
       "    Q2L         (Model Runs, index) float64 0.1249 0.1163 ... 0.04335 0.01165\n",
       "    Z           (Model Runs, index) float64 -67.17 -66.32 ... -1.351 -0.4503\n",
       "    Kq          (Model Runs, index) float64 0.02568 0.03927 ... 0.0626 0.02224\n",
       "    nu_t        (Model Runs, index) float64 0.05033 0.07697 ... 0.1227 0.0436\n",
       "Attributes:\n",
       "    description:  Model run results for Bay-side sites.</pre><div class='xr-wrap' hidden><div class='xr-header'><div class='xr-obj-type'>xarray.Dataset</div></div><ul class='xr-sections'><li class='xr-section-item'><input id='section-df633684-7145-4b84-af8e-8ffdf9af393f' class='xr-section-summary-in' type='checkbox' disabled ><label for='section-df633684-7145-4b84-af8e-8ffdf9af393f' class='xr-section-summary'  title='Expand/collapse section'>Dimensions:</label><div class='xr-section-inline-details'><ul class='xr-dim-list'><li><span>Model Runs</span>: 114</li><li><span class='xr-has-index'>index</span>: 80</li></ul></div><div class='xr-section-details'></div></li><li class='xr-section-item'><input id='section-9d6dce79-634a-4d91-ba2b-4d9fa2570177' class='xr-section-summary-in' type='checkbox'  checked><label for='section-9d6dce79-634a-4d91-ba2b-4d9fa2570177' class='xr-section-summary' >Coordinates: <span>(1)</span></label><div class='xr-section-inline-details'></div><div class='xr-section-details'><ul class='xr-var-list'><li class='xr-var-item'><div class='xr-var-name'><span class='xr-has-index'>index</span></div><div class='xr-var-dims'>(index)</div><div class='xr-var-dtype'>int32</div><div class='xr-var-preview xr-preview'>0 1 2 3 4 5 6 ... 74 75 76 77 78 79</div><input id='attrs-5ca005bc-f694-4eb9-b3db-43eabedd1369' class='xr-var-attrs-in' type='checkbox' disabled><label for='attrs-5ca005bc-f694-4eb9-b3db-43eabedd1369' title='Show/Hide attributes'><svg class='icon xr-icon-file-text2'><use xlink:href='#icon-file-text2'></use></svg></label><input id='data-f68b085b-96bb-495e-984c-9d4e646c3eb3' class='xr-var-data-in' type='checkbox'><label for='data-f68b085b-96bb-495e-984c-9d4e646c3eb3' title='Show/Hide data repr'><svg class='icon xr-icon-database'><use xlink:href='#icon-database'></use></svg></label><div class='xr-var-attrs'><dl class='xr-attrs'></dl></div><div class='xr-var-data'><pre>array([ 0,  1,  2,  3,  4,  5,  6,  7,  8,  9, 10, 11, 12, 13, 14, 15, 16, 17,\n",
       "       18, 19, 20, 21, 22, 23, 24, 25, 26, 27, 28, 29, 30, 31, 32, 33, 34, 35,\n",
       "       36, 37, 38, 39, 40, 41, 42, 43, 44, 45, 46, 47, 48, 49, 50, 51, 52, 53,\n",
       "       54, 55, 56, 57, 58, 59, 60, 61, 62, 63, 64, 65, 66, 67, 68, 69, 70, 71,\n",
       "       72, 73, 74, 75, 76, 77, 78, 79])</pre></div></li></ul></div></li><li class='xr-section-item'><input id='section-4c6d76f2-99d4-46dd-a1c9-ab384d422469' class='xr-section-summary-in' type='checkbox'  checked><label for='section-4c6d76f2-99d4-46dd-a1c9-ab384d422469' class='xr-section-summary' >Data variables: <span>(7)</span></label><div class='xr-section-inline-details'></div><div class='xr-section-details'><ul class='xr-var-list'><li class='xr-var-item'><div class='xr-var-name'><span>U Velocity</span></div><div class='xr-var-dims'>(Model Runs, index)</div><div class='xr-var-dtype'>float64</div><div class='xr-var-preview xr-preview'>...</div><input id='attrs-f8f351cf-b3dc-4bb5-b69f-2a8d9b5b68b0' class='xr-var-attrs-in' type='checkbox' disabled><label for='attrs-f8f351cf-b3dc-4bb5-b69f-2a8d9b5b68b0' title='Show/Hide attributes'><svg class='icon xr-icon-file-text2'><use xlink:href='#icon-file-text2'></use></svg></label><input id='data-3c73fcb7-be02-44cc-b4b2-d465050bb8db' class='xr-var-data-in' type='checkbox'><label for='data-3c73fcb7-be02-44cc-b4b2-d465050bb8db' title='Show/Hide data repr'><svg class='icon xr-icon-database'><use xlink:href='#icon-database'></use></svg></label><div class='xr-var-attrs'><dl class='xr-attrs'></dl></div><div class='xr-var-data'><pre>array([[ 9.076938,  9.962892, 10.447551, ..., 13.528046, 13.538049, 13.547498],\n",
       "       [ 7.489791,  8.229506,  8.638526, ..., 11.248467, 11.256944, 11.264953],\n",
       "       [ 8.295316,  9.105108,  9.548214, ..., 12.364908, 12.374055, 12.382695],\n",
       "       ...,\n",
       "       [ 9.259397, 10.163131, 10.657492, ..., 13.799586, 13.809789, 13.819427],\n",
       "       [ 9.339127, 10.250631, 10.749232, ..., 13.918245, 13.928535, 13.938255],\n",
       "       [ 9.373182, 10.288006, 10.788418, ..., 13.968929, 13.979256, 13.989012]])</pre></div></li><li class='xr-var-item'><div class='xr-var-name'><span>Q</span></div><div class='xr-var-dims'>(Model Runs, index)</div><div class='xr-var-dtype'>float64</div><div class='xr-var-preview xr-preview'>...</div><input id='attrs-8df3cc35-651e-4907-9c1c-e7869c9f7757' class='xr-var-attrs-in' type='checkbox' disabled><label for='attrs-8df3cc35-651e-4907-9c1c-e7869c9f7757' title='Show/Hide attributes'><svg class='icon xr-icon-file-text2'><use xlink:href='#icon-file-text2'></use></svg></label><input id='data-962111f6-e272-4bca-81a5-d05950d88265' class='xr-var-data-in' type='checkbox'><label for='data-962111f6-e272-4bca-81a5-d05950d88265' title='Show/Hide data repr'><svg class='icon xr-icon-database'><use xlink:href='#icon-database'></use></svg></label><div class='xr-var-attrs'><dl class='xr-attrs'></dl></div><div class='xr-var-data'><pre>array([[0.972682, 0.59257 , 0.571105, ..., 0.152552, 0.134137, 0.10142 ],\n",
       "       [0.802782, 0.499423, 0.4833  , ..., 0.129291, 0.113685, 0.085955],\n",
       "       [0.888925, 0.541784, 0.522184, ..., 0.139488, 0.122651, 0.092735],\n",
       "       ...,\n",
       "       [0.992233, 0.604429, 0.582528, ..., 0.155602, 0.13682 , 0.103448],\n",
       "       [1.000777, 0.609611, 0.58752 , ..., 0.156935, 0.137992, 0.104334],\n",
       "       [1.004426, 0.611825, 0.589652, ..., 0.157505, 0.138492, 0.104713]])</pre></div></li><li class='xr-var-item'><div class='xr-var-name'><span>Q2</span></div><div class='xr-var-dims'>(Model Runs, index)</div><div class='xr-var-dtype'>float64</div><div class='xr-var-preview xr-preview'>...</div><input id='attrs-f97c8ae5-ff68-492b-ac98-16d8dda13401' class='xr-var-attrs-in' type='checkbox' disabled><label for='attrs-f97c8ae5-ff68-492b-ac98-16d8dda13401' title='Show/Hide attributes'><svg class='icon xr-icon-file-text2'><use xlink:href='#icon-file-text2'></use></svg></label><input id='data-54f32dbd-4a79-4c5d-b6c8-c5594c6626a3' class='xr-var-data-in' type='checkbox'><label for='data-54f32dbd-4a79-4c5d-b6c8-c5594c6626a3' title='Show/Hide data repr'><svg class='icon xr-icon-database'><use xlink:href='#icon-database'></use></svg></label><div class='xr-var-attrs'><dl class='xr-attrs'></dl></div><div class='xr-var-data'><pre>array([[0.946109, 0.35114 , 0.32616 , ..., 0.023272, 0.017993, 0.010286],\n",
       "       [0.644459, 0.249424, 0.233579, ..., 0.016716, 0.012924, 0.007388],\n",
       "       [0.790188, 0.29353 , 0.272676, ..., 0.019457, 0.015043, 0.0086  ],\n",
       "       ...,\n",
       "       [0.984527, 0.365334, 0.339338, ..., 0.024212, 0.01872 , 0.010701],\n",
       "       [1.001554, 0.371626, 0.345179, ..., 0.024629, 0.019042, 0.010886],\n",
       "       [1.008872, 0.374329, 0.347689, ..., 0.024808, 0.01918 , 0.010965]])</pre></div></li><li class='xr-var-item'><div class='xr-var-name'><span>Q2L</span></div><div class='xr-var-dims'>(Model Runs, index)</div><div class='xr-var-dtype'>float64</div><div class='xr-var-preview xr-preview'>...</div><input id='attrs-e9d300dc-73a8-45d4-a5e1-4b9dab15ebbe' class='xr-var-attrs-in' type='checkbox' disabled><label for='attrs-e9d300dc-73a8-45d4-a5e1-4b9dab15ebbe' title='Show/Hide attributes'><svg class='icon xr-icon-file-text2'><use xlink:href='#icon-file-text2'></use></svg></label><input id='data-ffb12070-7fff-462b-8040-e11826a19639' class='xr-var-data-in' type='checkbox'><label for='data-ffb12070-7fff-462b-8040-e11826a19639' title='Show/Hide data repr'><svg class='icon xr-icon-database'><use xlink:href='#icon-database'></use></svg></label><div class='xr-var-attrs'><dl class='xr-attrs'></dl></div><div class='xr-var-data'><pre>array([[0.124879, 0.11635 , 0.222591, ..., 0.067701, 0.038147, 0.010249],\n",
       "       [0.061515, 0.060127, 0.114993, ..., 0.034931, 0.019682, 0.005288],\n",
       "       [0.087292, 0.081344, 0.155595, ..., 0.047324, 0.026665, 0.007164],\n",
       "       ...,\n",
       "       [0.135171, 0.125934, 0.240935, ..., 0.073281, 0.041291, 0.011094],\n",
       "       [0.139863, 0.130303, 0.249298, ..., 0.075824, 0.042724, 0.011479],\n",
       "       [0.141904, 0.132204, 0.252936, ..., 0.076931, 0.043348, 0.011646]])</pre></div></li><li class='xr-var-item'><div class='xr-var-name'><span>Z</span></div><div class='xr-var-dims'>(Model Runs, index)</div><div class='xr-var-dtype'>float64</div><div class='xr-var-preview xr-preview'>...</div><input id='attrs-72f99a46-640a-4376-8a34-29f7d5b1bd3e' class='xr-var-attrs-in' type='checkbox' disabled><label for='attrs-72f99a46-640a-4376-8a34-29f7d5b1bd3e' title='Show/Hide attributes'><svg class='icon xr-icon-file-text2'><use xlink:href='#icon-file-text2'></use></svg></label><input id='data-ff0052a7-2e9e-4272-8db2-8f0a02abf60d' class='xr-var-data-in' type='checkbox'><label for='data-ff0052a7-2e9e-4272-8db2-8f0a02abf60d' title='Show/Hide data repr'><svg class='icon xr-icon-database'><use xlink:href='#icon-database'></use></svg></label><div class='xr-var-attrs'><dl class='xr-attrs'></dl></div><div class='xr-var-data'><pre>array([[-67.167562, -66.322687, -65.477812, ...,  -2.112188,  -1.267313,\n",
       "         -0.422438],\n",
       "       [-48.246563, -47.639688, -47.032813, ...,  -1.517187,  -0.910313,\n",
       "         -0.303438],\n",
       "       [-56.156812, -55.450437, -54.744062, ...,  -1.765937,  -1.059562,\n",
       "         -0.353187],\n",
       "       ...,\n",
       "       [-69.8805  , -69.0015  , -68.1225  , ...,  -2.1975  ,  -1.3185  ,\n",
       "         -0.4395  ],\n",
       "       [-71.082937, -70.188812, -69.294687, ...,  -2.235312,  -1.341187,\n",
       "         -0.447063],\n",
       "       [-71.599688, -70.699062, -69.798437, ...,  -2.251562,  -1.350938,\n",
       "         -0.450312]])</pre></div></li><li class='xr-var-item'><div class='xr-var-name'><span>Kq</span></div><div class='xr-var-dims'>(Model Runs, index)</div><div class='xr-var-dtype'>float64</div><div class='xr-var-preview xr-preview'>...</div><input id='attrs-92f25b01-e08d-4ec6-b7cc-8523745a002f' class='xr-var-attrs-in' type='checkbox' disabled><label for='attrs-92f25b01-e08d-4ec6-b7cc-8523745a002f' title='Show/Hide attributes'><svg class='icon xr-icon-file-text2'><use xlink:href='#icon-file-text2'></use></svg></label><input id='data-443c66b7-fb75-4099-bf09-e7cb516cb834' class='xr-var-data-in' type='checkbox'><label for='data-443c66b7-fb75-4099-bf09-e7cb516cb834' title='Show/Hide data repr'><svg class='icon xr-icon-database'><use xlink:href='#icon-database'></use></svg></label><div class='xr-var-attrs'><dl class='xr-attrs'></dl></div><div class='xr-var-data'><pre>array([[0.025678, 0.03927 , 0.077952, ..., 0.088756, 0.056876, 0.02021 ],\n",
       "       [0.016057, 0.024079, 0.047587, ..., 0.054032, 0.034625, 0.012304],\n",
       "       [0.019641, 0.030029, 0.059595, ..., 0.067851, 0.04348 , 0.01545 ],\n",
       "       ...,\n",
       "       [0.027247, 0.041671, 0.082721, ..., 0.094187, 0.060356, 0.021447],\n",
       "       [0.027952, 0.04275 , 0.084865, ..., 0.096629, 0.061921, 0.022003],\n",
       "       [0.028257, 0.043217, 0.085792, ..., 0.097684, 0.062597, 0.022243]])</pre></div></li><li class='xr-var-item'><div class='xr-var-name'><span>nu_t</span></div><div class='xr-var-dims'>(Model Runs, index)</div><div class='xr-var-dtype'>float64</div><div class='xr-var-preview xr-preview'>...</div><input id='attrs-7b8e8797-5fd7-463a-8108-ad8fcc8b976f' class='xr-var-attrs-in' type='checkbox' disabled><label for='attrs-7b8e8797-5fd7-463a-8108-ad8fcc8b976f' title='Show/Hide attributes'><svg class='icon xr-icon-file-text2'><use xlink:href='#icon-file-text2'></use></svg></label><input id='data-a47ec464-0682-4abd-9297-c936e48cbbe1' class='xr-var-data-in' type='checkbox'><label for='data-a47ec464-0682-4abd-9297-c936e48cbbe1' title='Show/Hide data repr'><svg class='icon xr-icon-database'><use xlink:href='#icon-database'></use></svg></label><div class='xr-var-attrs'><dl class='xr-attrs'></dl></div><div class='xr-var-data'><pre>array([[0.05033 , 0.076971, 0.152789, ..., 0.173965, 0.111478, 0.039612],\n",
       "       [0.031471, 0.047196, 0.093272, ..., 0.105905, 0.067865, 0.024115],\n",
       "       [0.038496, 0.058858, 0.116808, ..., 0.132991, 0.085222, 0.030282],\n",
       "       ...,\n",
       "       [0.053404, 0.081677, 0.162137, ..., 0.18461 , 0.1183  , 0.042036],\n",
       "       [0.054786, 0.083792, 0.166339, ..., 0.189396, 0.121366, 0.043126],\n",
       "       [0.055384, 0.084707, 0.168156, ..., 0.191465, 0.122692, 0.043597]])</pre></div></li></ul></div></li><li class='xr-section-item'><input id='section-b9138ea4-e7aa-4a9a-a1d5-a514040604f3' class='xr-section-summary-in' type='checkbox'  checked><label for='section-b9138ea4-e7aa-4a9a-a1d5-a514040604f3' class='xr-section-summary' >Attributes: <span>(1)</span></label><div class='xr-section-inline-details'></div><div class='xr-section-details'><dl class='xr-attrs'><dt><span>description :</span></dt><dd>Model run results for Bay-side sites.</dd></dl></div></li></ul></div></div>"
      ],
      "text/plain": [
       "<xarray.Dataset>\n",
       "Dimensions:     (Model Runs: 114, index: 80)\n",
       "Coordinates:\n",
       "  * index       (index) int32 0 1 2 3 4 5 6 7 8 9 ... 71 72 73 74 75 76 77 78 79\n",
       "Dimensions without coordinates: Model Runs\n",
       "Data variables:\n",
       "    U Velocity  (Model Runs, index) float64 ...\n",
       "    Q           (Model Runs, index) float64 ...\n",
       "    Q2          (Model Runs, index) float64 ...\n",
       "    Q2L         (Model Runs, index) float64 ...\n",
       "    Z           (Model Runs, index) float64 ...\n",
       "    Kq          (Model Runs, index) float64 ...\n",
       "    nu_t        (Model Runs, index) float64 ...\n",
       "Attributes:\n",
       "    description:  Model run results for Bay-side sites."
      ]
     },
     "execution_count": 70,
     "metadata": {},
     "output_type": "execute_result"
    }
   ],
   "source": [
    "base_wc_ds"
   ]
  },
  {
   "cell_type": "code",
   "execution_count": 71,
   "metadata": {},
   "outputs": [
    {
     "data": {
      "text/html": [
       "<div><svg style=\"position: absolute; width: 0; height: 0; overflow: hidden\">\n",
       "<defs>\n",
       "<symbol id=\"icon-database\" viewBox=\"0 0 32 32\">\n",
       "<path d=\"M16 0c-8.837 0-16 2.239-16 5v4c0 2.761 7.163 5 16 5s16-2.239 16-5v-4c0-2.761-7.163-5-16-5z\"></path>\n",
       "<path d=\"M16 17c-8.837 0-16-2.239-16-5v6c0 2.761 7.163 5 16 5s16-2.239 16-5v-6c0 2.761-7.163 5-16 5z\"></path>\n",
       "<path d=\"M16 26c-8.837 0-16-2.239-16-5v6c0 2.761 7.163 5 16 5s16-2.239 16-5v-6c0 2.761-7.163 5-16 5z\"></path>\n",
       "</symbol>\n",
       "<symbol id=\"icon-file-text2\" viewBox=\"0 0 32 32\">\n",
       "<path d=\"M28.681 7.159c-0.694-0.947-1.662-2.053-2.724-3.116s-2.169-2.030-3.116-2.724c-1.612-1.182-2.393-1.319-2.841-1.319h-15.5c-1.378 0-2.5 1.121-2.5 2.5v27c0 1.378 1.122 2.5 2.5 2.5h23c1.378 0 2.5-1.122 2.5-2.5v-19.5c0-0.448-0.137-1.23-1.319-2.841zM24.543 5.457c0.959 0.959 1.712 1.825 2.268 2.543h-4.811v-4.811c0.718 0.556 1.584 1.309 2.543 2.268zM28 29.5c0 0.271-0.229 0.5-0.5 0.5h-23c-0.271 0-0.5-0.229-0.5-0.5v-27c0-0.271 0.229-0.5 0.5-0.5 0 0 15.499-0 15.5 0v7c0 0.552 0.448 1 1 1h7v19.5z\"></path>\n",
       "<path d=\"M23 26h-14c-0.552 0-1-0.448-1-1s0.448-1 1-1h14c0.552 0 1 0.448 1 1s-0.448 1-1 1z\"></path>\n",
       "<path d=\"M23 22h-14c-0.552 0-1-0.448-1-1s0.448-1 1-1h14c0.552 0 1 0.448 1 1s-0.448 1-1 1z\"></path>\n",
       "<path d=\"M23 18h-14c-0.552 0-1-0.448-1-1s0.448-1 1-1h14c0.552 0 1 0.448 1 1s-0.448 1-1 1z\"></path>\n",
       "</symbol>\n",
       "</defs>\n",
       "</svg>\n",
       "<style>/* CSS stylesheet for displaying xarray objects in jupyterlab.\n",
       " *\n",
       " */\n",
       "\n",
       ":root {\n",
       "  --xr-font-color0: var(--jp-content-font-color0, rgba(0, 0, 0, 1));\n",
       "  --xr-font-color2: var(--jp-content-font-color2, rgba(0, 0, 0, 0.54));\n",
       "  --xr-font-color3: var(--jp-content-font-color3, rgba(0, 0, 0, 0.38));\n",
       "  --xr-border-color: var(--jp-border-color2, #e0e0e0);\n",
       "  --xr-disabled-color: var(--jp-layout-color3, #bdbdbd);\n",
       "  --xr-background-color: var(--jp-layout-color0, white);\n",
       "  --xr-background-color-row-even: var(--jp-layout-color1, white);\n",
       "  --xr-background-color-row-odd: var(--jp-layout-color2, #eeeeee);\n",
       "}\n",
       "\n",
       "html[theme=dark],\n",
       "body.vscode-dark {\n",
       "  --xr-font-color0: rgba(255, 255, 255, 1);\n",
       "  --xr-font-color2: rgba(255, 255, 255, 0.54);\n",
       "  --xr-font-color3: rgba(255, 255, 255, 0.38);\n",
       "  --xr-border-color: #1F1F1F;\n",
       "  --xr-disabled-color: #515151;\n",
       "  --xr-background-color: #111111;\n",
       "  --xr-background-color-row-even: #111111;\n",
       "  --xr-background-color-row-odd: #313131;\n",
       "}\n",
       "\n",
       ".xr-wrap {\n",
       "  display: block;\n",
       "  min-width: 300px;\n",
       "  max-width: 700px;\n",
       "}\n",
       "\n",
       ".xr-text-repr-fallback {\n",
       "  /* fallback to plain text repr when CSS is not injected (untrusted notebook) */\n",
       "  display: none;\n",
       "}\n",
       "\n",
       ".xr-header {\n",
       "  padding-top: 6px;\n",
       "  padding-bottom: 6px;\n",
       "  margin-bottom: 4px;\n",
       "  border-bottom: solid 1px var(--xr-border-color);\n",
       "}\n",
       "\n",
       ".xr-header > div,\n",
       ".xr-header > ul {\n",
       "  display: inline;\n",
       "  margin-top: 0;\n",
       "  margin-bottom: 0;\n",
       "}\n",
       "\n",
       ".xr-obj-type,\n",
       ".xr-array-name {\n",
       "  margin-left: 2px;\n",
       "  margin-right: 10px;\n",
       "}\n",
       "\n",
       ".xr-obj-type {\n",
       "  color: var(--xr-font-color2);\n",
       "}\n",
       "\n",
       ".xr-sections {\n",
       "  padding-left: 0 !important;\n",
       "  display: grid;\n",
       "  grid-template-columns: 150px auto auto 1fr 20px 20px;\n",
       "}\n",
       "\n",
       ".xr-section-item {\n",
       "  display: contents;\n",
       "}\n",
       "\n",
       ".xr-section-item input {\n",
       "  display: none;\n",
       "}\n",
       "\n",
       ".xr-section-item input + label {\n",
       "  color: var(--xr-disabled-color);\n",
       "}\n",
       "\n",
       ".xr-section-item input:enabled + label {\n",
       "  cursor: pointer;\n",
       "  color: var(--xr-font-color2);\n",
       "}\n",
       "\n",
       ".xr-section-item input:enabled + label:hover {\n",
       "  color: var(--xr-font-color0);\n",
       "}\n",
       "\n",
       ".xr-section-summary {\n",
       "  grid-column: 1;\n",
       "  color: var(--xr-font-color2);\n",
       "  font-weight: 500;\n",
       "}\n",
       "\n",
       ".xr-section-summary > span {\n",
       "  display: inline-block;\n",
       "  padding-left: 0.5em;\n",
       "}\n",
       "\n",
       ".xr-section-summary-in:disabled + label {\n",
       "  color: var(--xr-font-color2);\n",
       "}\n",
       "\n",
       ".xr-section-summary-in + label:before {\n",
       "  display: inline-block;\n",
       "  content: '►';\n",
       "  font-size: 11px;\n",
       "  width: 15px;\n",
       "  text-align: center;\n",
       "}\n",
       "\n",
       ".xr-section-summary-in:disabled + label:before {\n",
       "  color: var(--xr-disabled-color);\n",
       "}\n",
       "\n",
       ".xr-section-summary-in:checked + label:before {\n",
       "  content: '▼';\n",
       "}\n",
       "\n",
       ".xr-section-summary-in:checked + label > span {\n",
       "  display: none;\n",
       "}\n",
       "\n",
       ".xr-section-summary,\n",
       ".xr-section-inline-details {\n",
       "  padding-top: 4px;\n",
       "  padding-bottom: 4px;\n",
       "}\n",
       "\n",
       ".xr-section-inline-details {\n",
       "  grid-column: 2 / -1;\n",
       "}\n",
       "\n",
       ".xr-section-details {\n",
       "  display: none;\n",
       "  grid-column: 1 / -1;\n",
       "  margin-bottom: 5px;\n",
       "}\n",
       "\n",
       ".xr-section-summary-in:checked ~ .xr-section-details {\n",
       "  display: contents;\n",
       "}\n",
       "\n",
       ".xr-array-wrap {\n",
       "  grid-column: 1 / -1;\n",
       "  display: grid;\n",
       "  grid-template-columns: 20px auto;\n",
       "}\n",
       "\n",
       ".xr-array-wrap > label {\n",
       "  grid-column: 1;\n",
       "  vertical-align: top;\n",
       "}\n",
       "\n",
       ".xr-preview {\n",
       "  color: var(--xr-font-color3);\n",
       "}\n",
       "\n",
       ".xr-array-preview,\n",
       ".xr-array-data {\n",
       "  padding: 0 5px !important;\n",
       "  grid-column: 2;\n",
       "}\n",
       "\n",
       ".xr-array-data,\n",
       ".xr-array-in:checked ~ .xr-array-preview {\n",
       "  display: none;\n",
       "}\n",
       "\n",
       ".xr-array-in:checked ~ .xr-array-data,\n",
       ".xr-array-preview {\n",
       "  display: inline-block;\n",
       "}\n",
       "\n",
       ".xr-dim-list {\n",
       "  display: inline-block !important;\n",
       "  list-style: none;\n",
       "  padding: 0 !important;\n",
       "  margin: 0;\n",
       "}\n",
       "\n",
       ".xr-dim-list li {\n",
       "  display: inline-block;\n",
       "  padding: 0;\n",
       "  margin: 0;\n",
       "}\n",
       "\n",
       ".xr-dim-list:before {\n",
       "  content: '(';\n",
       "}\n",
       "\n",
       ".xr-dim-list:after {\n",
       "  content: ')';\n",
       "}\n",
       "\n",
       ".xr-dim-list li:not(:last-child):after {\n",
       "  content: ',';\n",
       "  padding-right: 5px;\n",
       "}\n",
       "\n",
       ".xr-has-index {\n",
       "  font-weight: bold;\n",
       "}\n",
       "\n",
       ".xr-var-list,\n",
       ".xr-var-item {\n",
       "  display: contents;\n",
       "}\n",
       "\n",
       ".xr-var-item > div,\n",
       ".xr-var-item label,\n",
       ".xr-var-item > .xr-var-name span {\n",
       "  background-color: var(--xr-background-color-row-even);\n",
       "  margin-bottom: 0;\n",
       "}\n",
       "\n",
       ".xr-var-item > .xr-var-name:hover span {\n",
       "  padding-right: 5px;\n",
       "}\n",
       "\n",
       ".xr-var-list > li:nth-child(odd) > div,\n",
       ".xr-var-list > li:nth-child(odd) > label,\n",
       ".xr-var-list > li:nth-child(odd) > .xr-var-name span {\n",
       "  background-color: var(--xr-background-color-row-odd);\n",
       "}\n",
       "\n",
       ".xr-var-name {\n",
       "  grid-column: 1;\n",
       "}\n",
       "\n",
       ".xr-var-dims {\n",
       "  grid-column: 2;\n",
       "}\n",
       "\n",
       ".xr-var-dtype {\n",
       "  grid-column: 3;\n",
       "  text-align: right;\n",
       "  color: var(--xr-font-color2);\n",
       "}\n",
       "\n",
       ".xr-var-preview {\n",
       "  grid-column: 4;\n",
       "}\n",
       "\n",
       ".xr-var-name,\n",
       ".xr-var-dims,\n",
       ".xr-var-dtype,\n",
       ".xr-preview,\n",
       ".xr-attrs dt {\n",
       "  white-space: nowrap;\n",
       "  overflow: hidden;\n",
       "  text-overflow: ellipsis;\n",
       "  padding-right: 10px;\n",
       "}\n",
       "\n",
       ".xr-var-name:hover,\n",
       ".xr-var-dims:hover,\n",
       ".xr-var-dtype:hover,\n",
       ".xr-attrs dt:hover {\n",
       "  overflow: visible;\n",
       "  width: auto;\n",
       "  z-index: 1;\n",
       "}\n",
       "\n",
       ".xr-var-attrs,\n",
       ".xr-var-data {\n",
       "  display: none;\n",
       "  background-color: var(--xr-background-color) !important;\n",
       "  padding-bottom: 5px !important;\n",
       "}\n",
       "\n",
       ".xr-var-attrs-in:checked ~ .xr-var-attrs,\n",
       ".xr-var-data-in:checked ~ .xr-var-data {\n",
       "  display: block;\n",
       "}\n",
       "\n",
       ".xr-var-data > table {\n",
       "  float: right;\n",
       "}\n",
       "\n",
       ".xr-var-name span,\n",
       ".xr-var-data,\n",
       ".xr-attrs {\n",
       "  padding-left: 25px !important;\n",
       "}\n",
       "\n",
       ".xr-attrs,\n",
       ".xr-var-attrs,\n",
       ".xr-var-data {\n",
       "  grid-column: 1 / -1;\n",
       "}\n",
       "\n",
       "dl.xr-attrs {\n",
       "  padding: 0;\n",
       "  margin: 0;\n",
       "  display: grid;\n",
       "  grid-template-columns: 125px auto;\n",
       "}\n",
       "\n",
       ".xr-attrs dt,\n",
       ".xr-attrs dd {\n",
       "  padding: 0;\n",
       "  margin: 0;\n",
       "  float: left;\n",
       "  padding-right: 10px;\n",
       "  width: auto;\n",
       "}\n",
       "\n",
       ".xr-attrs dt {\n",
       "  font-weight: normal;\n",
       "  grid-column: 1;\n",
       "}\n",
       "\n",
       ".xr-attrs dt:hover span {\n",
       "  display: inline-block;\n",
       "  background: var(--xr-background-color);\n",
       "  padding-right: 10px;\n",
       "}\n",
       "\n",
       ".xr-attrs dd {\n",
       "  grid-column: 2;\n",
       "  white-space: pre-wrap;\n",
       "  word-break: break-all;\n",
       "}\n",
       "\n",
       ".xr-icon-database,\n",
       ".xr-icon-file-text2 {\n",
       "  display: inline-block;\n",
       "  vertical-align: middle;\n",
       "  width: 1em;\n",
       "  height: 1.5em !important;\n",
       "  stroke-width: 0;\n",
       "  stroke: currentColor;\n",
       "  fill: currentColor;\n",
       "}\n",
       "</style><pre class='xr-text-repr-fallback'>&lt;xarray.Dataset&gt;\n",
       "Dimensions:     (Model Runs: 114, index: 80)\n",
       "Coordinates:\n",
       "  * index       (index) int32 0 1 2 3 4 5 6 7 8 9 ... 71 72 73 74 75 76 77 78 79\n",
       "Dimensions without coordinates: Model Runs\n",
       "Data variables:\n",
       "    U Velocity  (Model Runs, index) float64 0.003122 0.007679 ... 1.6 1.61\n",
       "    Q           (Model Runs, index) float64 0.06818 0.1382 ... 0.1392 0.1053\n",
       "    Q2          (Model Runs, index) float64 0.004648 0.01911 ... 0.01936 0.01108\n",
       "    Q2L         (Model Runs, index) float64 0.0009885 0.01047 ... 0.01183\n",
       "    Z           (Model Runs, index) float64 -67.17 -66.32 ... -1.351 -0.4503\n",
       "    Kq          (Model Runs, index) float64 0.0029 0.01514 ... 0.06322 0.02246\n",
       "    nu_t        (Model Runs, index) float64 0.005684 0.02968 ... 0.1239 0.04403\n",
       "Attributes:\n",
       "    description:  Model run results for Bay-side sites.</pre><div class='xr-wrap' hidden><div class='xr-header'><div class='xr-obj-type'>xarray.Dataset</div></div><ul class='xr-sections'><li class='xr-section-item'><input id='section-f91b8481-e761-43a9-aef5-e5dafc66d09f' class='xr-section-summary-in' type='checkbox' disabled ><label for='section-f91b8481-e761-43a9-aef5-e5dafc66d09f' class='xr-section-summary'  title='Expand/collapse section'>Dimensions:</label><div class='xr-section-inline-details'><ul class='xr-dim-list'><li><span>Model Runs</span>: 114</li><li><span class='xr-has-index'>index</span>: 80</li></ul></div><div class='xr-section-details'></div></li><li class='xr-section-item'><input id='section-c6bce5f7-aa5d-4375-8fc3-c52b808b7ea4' class='xr-section-summary-in' type='checkbox'  checked><label for='section-c6bce5f7-aa5d-4375-8fc3-c52b808b7ea4' class='xr-section-summary' >Coordinates: <span>(1)</span></label><div class='xr-section-inline-details'></div><div class='xr-section-details'><ul class='xr-var-list'><li class='xr-var-item'><div class='xr-var-name'><span class='xr-has-index'>index</span></div><div class='xr-var-dims'>(index)</div><div class='xr-var-dtype'>int32</div><div class='xr-var-preview xr-preview'>0 1 2 3 4 5 6 ... 74 75 76 77 78 79</div><input id='attrs-ca72d0b5-d95f-4b4f-84a0-77d99ad1a664' class='xr-var-attrs-in' type='checkbox' disabled><label for='attrs-ca72d0b5-d95f-4b4f-84a0-77d99ad1a664' title='Show/Hide attributes'><svg class='icon xr-icon-file-text2'><use xlink:href='#icon-file-text2'></use></svg></label><input id='data-d669c5db-1991-4d8c-9165-78cbcbe19f3b' class='xr-var-data-in' type='checkbox'><label for='data-d669c5db-1991-4d8c-9165-78cbcbe19f3b' title='Show/Hide data repr'><svg class='icon xr-icon-database'><use xlink:href='#icon-database'></use></svg></label><div class='xr-var-attrs'><dl class='xr-attrs'></dl></div><div class='xr-var-data'><pre>array([ 0,  1,  2,  3,  4,  5,  6,  7,  8,  9, 10, 11, 12, 13, 14, 15, 16, 17,\n",
       "       18, 19, 20, 21, 22, 23, 24, 25, 26, 27, 28, 29, 30, 31, 32, 33, 34, 35,\n",
       "       36, 37, 38, 39, 40, 41, 42, 43, 44, 45, 46, 47, 48, 49, 50, 51, 52, 53,\n",
       "       54, 55, 56, 57, 58, 59, 60, 61, 62, 63, 64, 65, 66, 67, 68, 69, 70, 71,\n",
       "       72, 73, 74, 75, 76, 77, 78, 79])</pre></div></li></ul></div></li><li class='xr-section-item'><input id='section-817af3d0-85a9-46aa-9bb6-ecf256fa443a' class='xr-section-summary-in' type='checkbox'  checked><label for='section-817af3d0-85a9-46aa-9bb6-ecf256fa443a' class='xr-section-summary' >Data variables: <span>(7)</span></label><div class='xr-section-inline-details'></div><div class='xr-section-details'><ul class='xr-var-list'><li class='xr-var-item'><div class='xr-var-name'><span>U Velocity</span></div><div class='xr-var-dims'>(Model Runs, index)</div><div class='xr-var-dtype'>float64</div><div class='xr-var-preview xr-preview'>...</div><input id='attrs-d581ef86-e25d-45ff-96ef-65663cb4dd4c' class='xr-var-attrs-in' type='checkbox' disabled><label for='attrs-d581ef86-e25d-45ff-96ef-65663cb4dd4c' title='Show/Hide attributes'><svg class='icon xr-icon-file-text2'><use xlink:href='#icon-file-text2'></use></svg></label><input id='data-dc0345de-f17d-43ad-b5d9-de94f2c45bae' class='xr-var-data-in' type='checkbox'><label for='data-dc0345de-f17d-43ad-b5d9-de94f2c45bae' title='Show/Hide data repr'><svg class='icon xr-icon-database'><use xlink:href='#icon-database'></use></svg></label><div class='xr-var-attrs'><dl class='xr-attrs'></dl></div><div class='xr-var-data'><pre>array([[ 3.122460e-03,  7.678820e-03,  1.126033e-02, ...,  2.136937e+00,\n",
       "         2.146933e+00,  2.156375e+00],\n",
       "       [ 2.730431e-03, -5.794936e-04, -3.373841e-04, ...,  1.043050e+00,\n",
       "         1.051358e+00,  1.059206e+00],\n",
       "       [ 3.082470e-03, -2.121948e-04,  6.827243e-04, ...,  7.892914e-01,\n",
       "         7.973807e-01,  8.050139e-01],\n",
       "       ...,\n",
       "       [-8.334176e-04,  3.171019e-03,  5.043106e-03, ...,  1.436743e+00,\n",
       "         1.446086e+00,  1.454947e+00],\n",
       "       [ 4.587025e-04,  3.748737e-04,  5.601790e-04, ...,  1.066450e+00,\n",
       "         1.076324e+00,  1.085654e+00],\n",
       "       [-6.309351e-04, -3.864823e-04, -1.126965e-03, ...,  1.589906e+00,\n",
       "         1.600156e+00,  1.609838e+00]])</pre></div></li><li class='xr-var-item'><div class='xr-var-name'><span>Q</span></div><div class='xr-var-dims'>(Model Runs, index)</div><div class='xr-var-dtype'>float64</div><div class='xr-var-preview xr-preview'>...</div><input id='attrs-83f59ecc-021d-4193-9054-b1d94aafb9d8' class='xr-var-attrs-in' type='checkbox' disabled><label for='attrs-83f59ecc-021d-4193-9054-b1d94aafb9d8' title='Show/Hide attributes'><svg class='icon xr-icon-file-text2'><use xlink:href='#icon-file-text2'></use></svg></label><input id='data-97ad7bf9-4d78-4829-af28-a43b7abf3a99' class='xr-var-data-in' type='checkbox'><label for='data-97ad7bf9-4d78-4829-af28-a43b7abf3a99' title='Show/Hide data repr'><svg class='icon xr-icon-database'><use xlink:href='#icon-database'></use></svg></label><div class='xr-var-attrs'><dl class='xr-attrs'></dl></div><div class='xr-var-data'><pre>array([[0.068178, 0.138245, 0.201451, ..., 0.152508, 0.134093, 0.10138 ],\n",
       "       [0.023643, 0.048324, 0.071049, ..., 0.130571, 0.114918, 0.087018],\n",
       "       [0.016936, 0.03436 , 0.049851, ..., 0.132275, 0.11624 , 0.087678],\n",
       "       ...,\n",
       "       [0.016547, 0.03717 , 0.059552, ..., 0.15218 , 0.133908, 0.101285],\n",
       "       [0.022725, 0.04658 , 0.068673, ..., 0.159584, 0.140595, 0.106631],\n",
       "       [0.040556, 0.082645, 0.121098, ..., 0.158202, 0.139155, 0.105274]])</pre></div></li><li class='xr-var-item'><div class='xr-var-name'><span>Q2</span></div><div class='xr-var-dims'>(Model Runs, index)</div><div class='xr-var-dtype'>float64</div><div class='xr-var-preview xr-preview'>...</div><input id='attrs-7a5d6a73-d490-4e96-8e4d-0997242b7416' class='xr-var-attrs-in' type='checkbox' disabled><label for='attrs-7a5d6a73-d490-4e96-8e4d-0997242b7416' title='Show/Hide attributes'><svg class='icon xr-icon-file-text2'><use xlink:href='#icon-file-text2'></use></svg></label><input id='data-84d416aa-1bc4-4b6c-b007-49f99e2f5608' class='xr-var-data-in' type='checkbox'><label for='data-84d416aa-1bc4-4b6c-b007-49f99e2f5608' title='Show/Hide data repr'><svg class='icon xr-icon-database'><use xlink:href='#icon-database'></use></svg></label><div class='xr-var-attrs'><dl class='xr-attrs'></dl></div><div class='xr-var-data'><pre>array([[0.004648, 0.019112, 0.040583, ..., 0.023259, 0.017981, 0.010278],\n",
       "       [0.000559, 0.002335, 0.005048, ..., 0.017049, 0.013206, 0.007572],\n",
       "       [0.000287, 0.001181, 0.002485, ..., 0.017497, 0.013512, 0.007687],\n",
       "       ...,\n",
       "       [0.000274, 0.001382, 0.003546, ..., 0.023159, 0.017931, 0.010259],\n",
       "       [0.000516, 0.00217 , 0.004716, ..., 0.025467, 0.019767, 0.01137 ],\n",
       "       [0.001645, 0.00683 , 0.014665, ..., 0.025028, 0.019364, 0.011083]])</pre></div></li><li class='xr-var-item'><div class='xr-var-name'><span>Q2L</span></div><div class='xr-var-dims'>(Model Runs, index)</div><div class='xr-var-dtype'>float64</div><div class='xr-var-preview xr-preview'>...</div><input id='attrs-0b18157e-7e3a-4f1b-9fbb-00c1add02c7e' class='xr-var-attrs-in' type='checkbox' disabled><label for='attrs-0b18157e-7e3a-4f1b-9fbb-00c1add02c7e' title='Show/Hide attributes'><svg class='icon xr-icon-file-text2'><use xlink:href='#icon-file-text2'></use></svg></label><input id='data-3567a69f-825e-4a9c-a735-365f1044a20f' class='xr-var-data-in' type='checkbox'><label for='data-3567a69f-825e-4a9c-a735-365f1044a20f' title='Show/Hide data repr'><svg class='icon xr-icon-database'><use xlink:href='#icon-database'></use></svg></label><div class='xr-var-attrs'><dl class='xr-attrs'></dl></div><div class='xr-var-data'><pre>array([[9.885500e-04, 1.046713e-02, 3.660868e-02, ..., 6.762959e-02,\n",
       "        3.810348e-02, 1.023634e-02],\n",
       "       [8.398324e-05, 8.925532e-04, 3.144344e-03, ..., 3.617594e-02,\n",
       "        2.039892e-02, 5.488259e-03],\n",
       "       [4.530815e-05, 4.740081e-04, 1.649230e-03, ..., 4.036030e-02,\n",
       "        2.270139e-02, 6.080284e-03],\n",
       "       ...,\n",
       "       [4.729936e-05, 6.024181e-04, 2.627079e-03, ..., 6.810273e-02,\n",
       "        3.847776e-02, 1.035572e-02],\n",
       "       [1.138691e-04, 1.213487e-03, 4.289395e-03, ..., 8.082637e-02,\n",
       "        4.561980e-02, 1.229265e-02],\n",
       "       [3.693081e-04, 3.918027e-03, 1.375626e-02, ..., 7.805011e-02,\n",
       "        4.399072e-02, 1.182530e-02]])</pre></div></li><li class='xr-var-item'><div class='xr-var-name'><span>Z</span></div><div class='xr-var-dims'>(Model Runs, index)</div><div class='xr-var-dtype'>float64</div><div class='xr-var-preview xr-preview'>...</div><input id='attrs-9d021c41-56ae-41b9-bd2e-d8a630c4a046' class='xr-var-attrs-in' type='checkbox' disabled><label for='attrs-9d021c41-56ae-41b9-bd2e-d8a630c4a046' title='Show/Hide attributes'><svg class='icon xr-icon-file-text2'><use xlink:href='#icon-file-text2'></use></svg></label><input id='data-1223f7b3-18ac-4f19-97dd-a561ff510613' class='xr-var-data-in' type='checkbox'><label for='data-1223f7b3-18ac-4f19-97dd-a561ff510613' title='Show/Hide data repr'><svg class='icon xr-icon-database'><use xlink:href='#icon-database'></use></svg></label><div class='xr-var-attrs'><dl class='xr-attrs'></dl></div><div class='xr-var-data'><pre>array([[-67.167562, -66.322687, -65.477812, ...,  -2.112188,  -1.267313,\n",
       "         -0.422438],\n",
       "       [-48.246563, -47.639688, -47.032813, ...,  -1.517187,  -0.910313,\n",
       "         -0.303438],\n",
       "       [-56.156812, -55.450437, -54.744062, ...,  -1.765937,  -1.059562,\n",
       "         -0.353187],\n",
       "       ...,\n",
       "       [-69.8805  , -69.0015  , -68.1225  , ...,  -2.1975  ,  -1.3185  ,\n",
       "         -0.4395  ],\n",
       "       [-71.082937, -70.188812, -69.294687, ...,  -2.235312,  -1.341187,\n",
       "         -0.447063],\n",
       "       [-71.599688, -70.699062, -69.798437, ...,  -2.251562,  -1.350938,\n",
       "         -0.450312]])</pre></div></li><li class='xr-var-item'><div class='xr-var-name'><span>Kq</span></div><div class='xr-var-dims'>(Model Runs, index)</div><div class='xr-var-dtype'>float64</div><div class='xr-var-preview xr-preview'>...</div><input id='attrs-e1b7d6d9-f198-4201-93ff-925a6ef3d82d' class='xr-var-attrs-in' type='checkbox' disabled><label for='attrs-e1b7d6d9-f198-4201-93ff-925a6ef3d82d' title='Show/Hide attributes'><svg class='icon xr-icon-file-text2'><use xlink:href='#icon-file-text2'></use></svg></label><input id='data-1a74a6b7-b15c-4069-b092-bf61efcbc561' class='xr-var-data-in' type='checkbox'><label for='data-1a74a6b7-b15c-4069-b092-bf61efcbc561' title='Show/Hide data repr'><svg class='icon xr-icon-database'><use xlink:href='#icon-database'></use></svg></label><div class='xr-var-attrs'><dl class='xr-attrs'></dl></div><div class='xr-var-data'><pre>array([[0.0029  , 0.015143, 0.036345, ..., 0.088687, 0.056829, 0.020193],\n",
       "       [0.00071 , 0.003693, 0.00885 , ..., 0.05541 , 0.0355  , 0.012613],\n",
       "       [0.000534, 0.002758, 0.006615, ..., 0.061022, 0.039057, 0.013869],\n",
       "       ...,\n",
       "       [0.000571, 0.00324 , 0.008821, ..., 0.0895  , 0.057467, 0.020448],\n",
       "       [0.001001, 0.005209, 0.012491, ..., 0.101293, 0.064893, 0.023055],\n",
       "       [0.001821, 0.009481, 0.022719, ..., 0.098668, 0.063223, 0.022465]])</pre></div></li><li class='xr-var-item'><div class='xr-var-name'><span>nu_t</span></div><div class='xr-var-dims'>(Model Runs, index)</div><div class='xr-var-dtype'>float64</div><div class='xr-var-preview xr-preview'>...</div><input id='attrs-4dde75de-8c31-4e9d-9293-0db768df6ebd' class='xr-var-attrs-in' type='checkbox' disabled><label for='attrs-4dde75de-8c31-4e9d-9293-0db768df6ebd' title='Show/Hide attributes'><svg class='icon xr-icon-file-text2'><use xlink:href='#icon-file-text2'></use></svg></label><input id='data-1861c843-17a5-4640-871f-8f3790e00a4f' class='xr-var-data-in' type='checkbox'><label for='data-1861c843-17a5-4640-871f-8f3790e00a4f' title='Show/Hide data repr'><svg class='icon xr-icon-database'><use xlink:href='#icon-database'></use></svg></label><div class='xr-var-attrs'><dl class='xr-attrs'></dl></div><div class='xr-var-data'><pre>array([[0.005684, 0.02968 , 0.071237, ..., 0.173831, 0.111387, 0.039579],\n",
       "       [0.001391, 0.007238, 0.017346, ..., 0.108605, 0.069581, 0.024722],\n",
       "       [0.001046, 0.005404, 0.012965, ..., 0.119606, 0.076554, 0.027183],\n",
       "       ...,\n",
       "       [0.001118, 0.00635 , 0.017289, ..., 0.175424, 0.112636, 0.040077],\n",
       "       [0.001961, 0.010209, 0.024481, ..., 0.198539, 0.127192, 0.045189],\n",
       "       [0.003569, 0.018583, 0.044529, ..., 0.193394, 0.12392 , 0.044031]])</pre></div></li></ul></div></li><li class='xr-section-item'><input id='section-d798c6b5-aacf-4926-a8a7-7eafb8a253f4' class='xr-section-summary-in' type='checkbox'  checked><label for='section-d798c6b5-aacf-4926-a8a7-7eafb8a253f4' class='xr-section-summary' >Attributes: <span>(1)</span></label><div class='xr-section-inline-details'></div><div class='xr-section-details'><dl class='xr-attrs'><dt><span>description :</span></dt><dd>Model run results for Bay-side sites.</dd></dl></div></li></ul></div></div>"
      ],
      "text/plain": [
       "<xarray.Dataset>\n",
       "Dimensions:     (Model Runs: 114, index: 80)\n",
       "Coordinates:\n",
       "  * index       (index) int32 0 1 2 3 4 5 6 7 8 9 ... 71 72 73 74 75 76 77 78 79\n",
       "Dimensions without coordinates: Model Runs\n",
       "Data variables:\n",
       "    U Velocity  (Model Runs, index) float64 ...\n",
       "    Q           (Model Runs, index) float64 ...\n",
       "    Q2          (Model Runs, index) float64 ...\n",
       "    Q2L         (Model Runs, index) float64 ...\n",
       "    Z           (Model Runs, index) float64 ...\n",
       "    Kq          (Model Runs, index) float64 ...\n",
       "    nu_t        (Model Runs, index) float64 ...\n",
       "Attributes:\n",
       "    description:  Model run results for Bay-side sites."
      ]
     },
     "execution_count": 71,
     "metadata": {},
     "output_type": "execute_result"
    }
   ],
   "source": [
    "wc_ds"
   ]
  },
  {
   "cell_type": "code",
   "execution_count": 72,
   "metadata": {},
   "outputs": [],
   "source": [
    "df = (pd.merge(df, locs, how='left', on='plot_ID'))\n",
    "df = df.drop(['Unnamed: 0_x', 'Unnamed: 0_y'], axis=1)"
   ]
  },
  {
   "cell_type": "code",
   "execution_count": 73,
   "metadata": {},
   "outputs": [
    {
     "name": "stderr",
     "output_type": "stream",
     "text": [
      "c:\\Users\\erich\\anaconda3\\envs\\EFMHModeling_20220915\\lib\\site-packages\\pyproj\\crs\\crs.py:141: FutureWarning:\n",
      "\n",
      "'+init=<authority>:<code>' syntax is deprecated. '<authority>:<code>' is the preferred initialization method. When making the change, be mindful of axis order changes: https://pyproj4.github.io/pyproj/stable/gotchas.html#axis-order-changes-in-proj-6\n",
      "\n"
     ]
    },
    {
     "data": {
      "text/html": [
       "<div>\n",
       "<style scoped>\n",
       "    .dataframe tbody tr th:only-of-type {\n",
       "        vertical-align: middle;\n",
       "    }\n",
       "\n",
       "    .dataframe tbody tr th {\n",
       "        vertical-align: top;\n",
       "    }\n",
       "\n",
       "    .dataframe thead th {\n",
       "        text-align: right;\n",
       "    }\n",
       "</style>\n",
       "<table border=\"1\" class=\"dataframe\">\n",
       "  <thead>\n",
       "    <tr style=\"text-align: right;\">\n",
       "      <th></th>\n",
       "      <th>Season</th>\n",
       "      <th>date</th>\n",
       "      <th>site</th>\n",
       "      <th>plot_ID</th>\n",
       "      <th>Elevation</th>\n",
       "      <th>channel_dist</th>\n",
       "      <th>ave_ht</th>\n",
       "      <th>cover</th>\n",
       "      <th>vol_est</th>\n",
       "      <th>vol_calc</th>\n",
       "      <th>...</th>\n",
       "      <th>frontal_20</th>\n",
       "      <th>frontal_25</th>\n",
       "      <th>frontal_30</th>\n",
       "      <th>wc_height</th>\n",
       "      <th>Easting</th>\n",
       "      <th>Northing</th>\n",
       "      <th>Transect</th>\n",
       "      <th>Distance</th>\n",
       "      <th>Lon</th>\n",
       "      <th>Lat</th>\n",
       "    </tr>\n",
       "  </thead>\n",
       "  <tbody>\n",
       "    <tr>\n",
       "      <th>0</th>\n",
       "      <td>Summer</td>\n",
       "      <td>7/28/2021</td>\n",
       "      <td>Bay</td>\n",
       "      <td>A0.5</td>\n",
       "      <td>2.1313</td>\n",
       "      <td>0.5</td>\n",
       "      <td>6.5</td>\n",
       "      <td>0.10</td>\n",
       "      <td>6500</td>\n",
       "      <td>233.351057</td>\n",
       "      <td>...</td>\n",
       "      <td>0.000000</td>\n",
       "      <td>0.0</td>\n",
       "      <td>0.0</td>\n",
       "      <td>0.6759</td>\n",
       "      <td>575481.457229</td>\n",
       "      <td>4.159935e+06</td>\n",
       "      <td>A</td>\n",
       "      <td>0.5</td>\n",
       "      <td>-122.145098</td>\n",
       "      <td>37.583378</td>\n",
       "    </tr>\n",
       "    <tr>\n",
       "      <th>1</th>\n",
       "      <td>Summer</td>\n",
       "      <td>7/28/2021</td>\n",
       "      <td>Bay</td>\n",
       "      <td>A2</td>\n",
       "      <td>2.3217</td>\n",
       "      <td>2.0</td>\n",
       "      <td>11.0</td>\n",
       "      <td>0.45</td>\n",
       "      <td>49500</td>\n",
       "      <td>1777.058049</td>\n",
       "      <td>...</td>\n",
       "      <td>0.000000</td>\n",
       "      <td>0.0</td>\n",
       "      <td>0.0</td>\n",
       "      <td>0.4855</td>\n",
       "      <td>575483.018742</td>\n",
       "      <td>4.159936e+06</td>\n",
       "      <td>A</td>\n",
       "      <td>2.0</td>\n",
       "      <td>-122.145080</td>\n",
       "      <td>37.583388</td>\n",
       "    </tr>\n",
       "    <tr>\n",
       "      <th>2</th>\n",
       "      <td>Summer</td>\n",
       "      <td>7/28/2021</td>\n",
       "      <td>Bay</td>\n",
       "      <td>A6</td>\n",
       "      <td>2.2421</td>\n",
       "      <td>6.0</td>\n",
       "      <td>19.0</td>\n",
       "      <td>0.55</td>\n",
       "      <td>104500</td>\n",
       "      <td>3751.566993</td>\n",
       "      <td>...</td>\n",
       "      <td>3734.753837</td>\n",
       "      <td>0.0</td>\n",
       "      <td>0.0</td>\n",
       "      <td>0.5651</td>\n",
       "      <td>575486.683492</td>\n",
       "      <td>4.159938e+06</td>\n",
       "      <td>A</td>\n",
       "      <td>6.0</td>\n",
       "      <td>-122.145039</td>\n",
       "      <td>37.583404</td>\n",
       "    </tr>\n",
       "    <tr>\n",
       "      <th>3</th>\n",
       "      <td>Summer</td>\n",
       "      <td>7/28/2021</td>\n",
       "      <td>Bay</td>\n",
       "      <td>A12</td>\n",
       "      <td>2.2417</td>\n",
       "      <td>12.0</td>\n",
       "      <td>15.0</td>\n",
       "      <td>0.75</td>\n",
       "      <td>112500</td>\n",
       "      <td>4038.768294</td>\n",
       "      <td>...</td>\n",
       "      <td>0.000000</td>\n",
       "      <td>0.0</td>\n",
       "      <td>0.0</td>\n",
       "      <td>0.5655</td>\n",
       "      <td>575492.070254</td>\n",
       "      <td>4.159941e+06</td>\n",
       "      <td>A</td>\n",
       "      <td>12.0</td>\n",
       "      <td>-122.144977</td>\n",
       "      <td>37.583428</td>\n",
       "    </tr>\n",
       "    <tr>\n",
       "      <th>4</th>\n",
       "      <td>Summer</td>\n",
       "      <td>7/28/2021</td>\n",
       "      <td>Bay</td>\n",
       "      <td>A24</td>\n",
       "      <td>2.2217</td>\n",
       "      <td>24.0</td>\n",
       "      <td>11.0</td>\n",
       "      <td>0.55</td>\n",
       "      <td>60500</td>\n",
       "      <td>2171.959838</td>\n",
       "      <td>...</td>\n",
       "      <td>0.000000</td>\n",
       "      <td>0.0</td>\n",
       "      <td>0.0</td>\n",
       "      <td>0.5855</td>\n",
       "      <td>575502.472088</td>\n",
       "      <td>4.159947e+06</td>\n",
       "      <td>A</td>\n",
       "      <td>24.0</td>\n",
       "      <td>-122.144859</td>\n",
       "      <td>37.583481</td>\n",
       "    </tr>\n",
       "  </tbody>\n",
       "</table>\n",
       "<p>5 rows × 26 columns</p>\n",
       "</div>"
      ],
      "text/plain": [
       "   Season       date site plot_ID  Elevation  channel_dist  ave_ht  cover  \\\n",
       "0  Summer  7/28/2021  Bay    A0.5     2.1313           0.5     6.5   0.10   \n",
       "1  Summer  7/28/2021  Bay      A2     2.3217           2.0    11.0   0.45   \n",
       "2  Summer  7/28/2021  Bay      A6     2.2421           6.0    19.0   0.55   \n",
       "3  Summer  7/28/2021  Bay     A12     2.2417          12.0    15.0   0.75   \n",
       "4  Summer  7/28/2021  Bay     A24     2.2217          24.0    11.0   0.55   \n",
       "\n",
       "   vol_est     vol_calc  ...   frontal_20  frontal_25  frontal_30  wc_height  \\\n",
       "0     6500   233.351057  ...     0.000000         0.0         0.0     0.6759   \n",
       "1    49500  1777.058049  ...     0.000000         0.0         0.0     0.4855   \n",
       "2   104500  3751.566993  ...  3734.753837         0.0         0.0     0.5651   \n",
       "3   112500  4038.768294  ...     0.000000         0.0         0.0     0.5655   \n",
       "4    60500  2171.959838  ...     0.000000         0.0         0.0     0.5855   \n",
       "\n",
       "         Easting      Northing  Transect  Distance         Lon        Lat  \n",
       "0  575481.457229  4.159935e+06         A       0.5 -122.145098  37.583378  \n",
       "1  575483.018742  4.159936e+06         A       2.0 -122.145080  37.583388  \n",
       "2  575486.683492  4.159938e+06         A       6.0 -122.145039  37.583404  \n",
       "3  575492.070254  4.159941e+06         A      12.0 -122.144977  37.583428  \n",
       "4  575502.472088  4.159947e+06         A      24.0 -122.144859  37.583481  \n",
       "\n",
       "[5 rows x 26 columns]"
      ]
     },
     "execution_count": 73,
     "metadata": {},
     "output_type": "execute_result"
    }
   ],
   "source": [
    "p2 = Proj(init=\"epsg:7131\", proj=\"utm\", zone=10)\n",
    "df['Lon'], df['Lat'] = p2(df['Easting'],df['Northing'],inverse=True)\n",
    "#df = df.drop(['Easting', 'Northing'], axis=1)\n",
    "df.head()"
   ]
  },
  {
   "cell_type": "markdown",
   "metadata": {},
   "source": [
    "Compiling Data from modeling runs for analysis"
   ]
  },
  {
   "cell_type": "code",
   "execution_count": 74,
   "metadata": {},
   "outputs": [
    {
     "data": {
      "text/html": [
       "<div>\n",
       "<style scoped>\n",
       "    .dataframe tbody tr th:only-of-type {\n",
       "        vertical-align: middle;\n",
       "    }\n",
       "\n",
       "    .dataframe tbody tr th {\n",
       "        vertical-align: top;\n",
       "    }\n",
       "\n",
       "    .dataframe thead th {\n",
       "        text-align: right;\n",
       "    }\n",
       "</style>\n",
       "<table border=\"1\" class=\"dataframe\">\n",
       "  <thead>\n",
       "    <tr style=\"text-align: right;\">\n",
       "      <th></th>\n",
       "      <th>plot_ID</th>\n",
       "      <th>mean_u</th>\n",
       "      <th>mean_u_25</th>\n",
       "      <th>mean_u_50</th>\n",
       "      <th>mean_u_75</th>\n",
       "      <th>Q2</th>\n",
       "      <th>Hveg/WC</th>\n",
       "      <th>wc_height</th>\n",
       "      <th>avg_ht</th>\n",
       "      <th>density_total</th>\n",
       "      <th>frontal_total</th>\n",
       "      <th>site</th>\n",
       "      <th>lon</th>\n",
       "      <th>lat</th>\n",
       "      <th>run</th>\n",
       "    </tr>\n",
       "  </thead>\n",
       "  <tbody>\n",
       "    <tr>\n",
       "      <th>94</th>\n",
       "      <td>I24</td>\n",
       "      <td>0.535252</td>\n",
       "      <td>0.002339</td>\n",
       "      <td>0.167641</td>\n",
       "      <td>0.364292</td>\n",
       "      <td>0.168553</td>\n",
       "      <td>25.278810</td>\n",
       "      <td>0.6725</td>\n",
       "      <td>17.0</td>\n",
       "      <td>5359.089301</td>\n",
       "      <td>24530.542248</td>\n",
       "      <td>Creek</td>\n",
       "      <td>-122.142195</td>\n",
       "      <td>37.583931</td>\n",
       "      <td>Vegetated Run</td>\n",
       "    </tr>\n",
       "    <tr>\n",
       "      <th>52</th>\n",
       "      <td>H2</td>\n",
       "      <td>1.246928</td>\n",
       "      <td>0.289861</td>\n",
       "      <td>0.721031</td>\n",
       "      <td>1.021061</td>\n",
       "      <td>0.236286</td>\n",
       "      <td>10.327530</td>\n",
       "      <td>0.6778</td>\n",
       "      <td>7.0</td>\n",
       "      <td>4413.367659</td>\n",
       "      <td>8318.315364</td>\n",
       "      <td>Interior</td>\n",
       "      <td>-122.144146</td>\n",
       "      <td>37.588105</td>\n",
       "      <td>Vegetated Run</td>\n",
       "    </tr>\n",
       "    <tr>\n",
       "      <th>41</th>\n",
       "      <td>F6</td>\n",
       "      <td>0.522126</td>\n",
       "      <td>0.001461</td>\n",
       "      <td>0.169997</td>\n",
       "      <td>0.359754</td>\n",
       "      <td>0.148074</td>\n",
       "      <td>24.034335</td>\n",
       "      <td>0.5825</td>\n",
       "      <td>14.0</td>\n",
       "      <td>4413.367659</td>\n",
       "      <td>16636.630728</td>\n",
       "      <td>Interior</td>\n",
       "      <td>-122.143055</td>\n",
       "      <td>37.587382</td>\n",
       "      <td>Vegetated Run</td>\n",
       "    </tr>\n",
       "    <tr>\n",
       "      <th>67</th>\n",
       "      <td>B12</td>\n",
       "      <td>11.710292</td>\n",
       "      <td>10.570477</td>\n",
       "      <td>11.138013</td>\n",
       "      <td>11.472735</td>\n",
       "      <td>0.808482</td>\n",
       "      <td>19.027850</td>\n",
       "      <td>0.5781</td>\n",
       "      <td>11.0</td>\n",
       "      <td>5989.570395</td>\n",
       "      <td>17740.080726</td>\n",
       "      <td>Bay</td>\n",
       "      <td>-122.144724</td>\n",
       "      <td>37.583123</td>\n",
       "      <td>Baseline Run</td>\n",
       "    </tr>\n",
       "    <tr>\n",
       "      <th>4</th>\n",
       "      <td>A24</td>\n",
       "      <td>0.698899</td>\n",
       "      <td>0.038417</td>\n",
       "      <td>0.298809</td>\n",
       "      <td>0.522201</td>\n",
       "      <td>0.151452</td>\n",
       "      <td>18.787361</td>\n",
       "      <td>0.5855</td>\n",
       "      <td>11.0</td>\n",
       "      <td>3467.646018</td>\n",
       "      <td>10270.573052</td>\n",
       "      <td>Bay</td>\n",
       "      <td>-122.144859</td>\n",
       "      <td>37.583481</td>\n",
       "      <td>Vegetated Run</td>\n",
       "    </tr>\n",
       "  </tbody>\n",
       "</table>\n",
       "</div>"
      ],
      "text/plain": [
       "   plot_ID     mean_u  mean_u_25  mean_u_50  mean_u_75        Q2    Hveg/WC  \\\n",
       "94     I24   0.535252   0.002339   0.167641   0.364292  0.168553  25.278810   \n",
       "52      H2   1.246928   0.289861   0.721031   1.021061  0.236286  10.327530   \n",
       "41      F6   0.522126   0.001461   0.169997   0.359754  0.148074  24.034335   \n",
       "67     B12  11.710292  10.570477  11.138013  11.472735  0.808482  19.027850   \n",
       "4      A24   0.698899   0.038417   0.298809   0.522201  0.151452  18.787361   \n",
       "\n",
       "    wc_height  avg_ht  density_total  frontal_total      site         lon  \\\n",
       "94     0.6725    17.0    5359.089301   24530.542248     Creek -122.142195   \n",
       "52     0.6778     7.0    4413.367659    8318.315364  Interior -122.144146   \n",
       "41     0.5825    14.0    4413.367659   16636.630728  Interior -122.143055   \n",
       "67     0.5781    11.0    5989.570395   17740.080726       Bay -122.144724   \n",
       "4      0.5855    11.0    3467.646018   10270.573052       Bay -122.144859   \n",
       "\n",
       "          lat            run  \n",
       "94  37.583931  Vegetated Run  \n",
       "52  37.588105  Vegetated Run  \n",
       "41  37.587382  Vegetated Run  \n",
       "67  37.583123   Baseline Run  \n",
       "4   37.583481  Vegetated Run  "
      ]
     },
     "execution_count": 74,
     "metadata": {},
     "output_type": "execute_result"
    }
   ],
   "source": [
    "a = len(wc_ds['U Velocity'])\n",
    "df1 = pd.DataFrame({\n",
    "    'plot_ID': df['plot_ID'],\n",
    "    'mean_u': ([vel.values.mean() for vel in wc_ds['U Velocity']]),\n",
    "    'mean_u_25': ([vel[:20].values.mean() for vel in wc_ds['U Velocity']]),\n",
    "    'mean_u_50': ([vel[:40].values.mean() for vel in wc_ds['U Velocity']]),\n",
    "    'mean_u_75': ([vel[:60].values.mean() for vel in wc_ds['U Velocity']]),\n",
    "    'Q2': ([val.values.max() for val in wc_ds['Q2']]),\n",
    "    'Hveg/WC': df['ave_ht']/df['wc_height'],\n",
    "    'wc_height': df['wc_height'],\n",
    "    'avg_ht': df['ave_ht'],\n",
    "    'density_total': df['density_final'],\n",
    "    'frontal_total': df['frontal_total'],\n",
    "    'site': df['site'],\n",
    "    'lon': df['Lon'],\n",
    "    'lat': df['Lat'],\n",
    "    'run': np.repeat('Vegetated Run',a)\n",
    "})\n",
    "df2 = pd.DataFrame({\n",
    "    'plot_ID': df['plot_ID'],\n",
    "    'mean_u': ([vel.values.mean() for vel in base_wc_ds['U Velocity']]),\n",
    "    'mean_u_25': ([vel[:20].values.mean() for vel in base_wc_ds['U Velocity']]),\n",
    "    'mean_u_50': ([vel[:40].values.mean() for vel in base_wc_ds['U Velocity']]),\n",
    "    'mean_u_75': ([vel[:60].values.mean() for vel in base_wc_ds['U Velocity']]),\n",
    "    'Q2': ([val.values.max() for val in base_wc_ds['Q2']]),\n",
    "    'Hveg/WC': df['ave_ht']/df['wc_height'],\n",
    "    'wc_height': df['wc_height'],\n",
    "    'avg_ht': df['ave_ht'],\n",
    "    'density_total': df['density_final'],\n",
    "    'frontal_total': df['frontal_total'],\n",
    "    'site': df['site'],\n",
    "    'lon': df['Lon'],\n",
    "    'lat': df['Lat'],\n",
    "    'run': np.repeat('Baseline Run',a)\n",
    "})\n",
    "dff = pd.concat([df1, df2])\n",
    "dff.sample(5)"
   ]
  },
  {
   "cell_type": "markdown",
   "metadata": {},
   "source": [
    "Dropping invalid location values from dataframe"
   ]
  },
  {
   "cell_type": "code",
   "execution_count": 75,
   "metadata": {},
   "outputs": [],
   "source": [
    "dff = dff.replace([np.inf, -np.inf], np.nan)\n",
    "dff = dff.dropna()"
   ]
  },
  {
   "cell_type": "markdown",
   "metadata": {},
   "source": [
    "## EDA and Scatterplots"
   ]
  },
  {
   "cell_type": "code",
   "execution_count": 76,
   "metadata": {},
   "outputs": [
    {
     "data": {
      "application/vnd.plotly.v1+json": {
       "config": {
        "plotlyServerURL": "https://plot.ly"
       },
       "data": [
        {
         "hovertemplate": "site=Bay<br>run=Vegetated Run<br>Q2=%{x}<br>avg_ht=%{y}<extra></extra>",
         "legendgroup": "Bay, Vegetated Run",
         "marker": {
          "color": "#636efa",
          "symbol": "circle"
         },
         "mode": "markers",
         "name": "Bay, Vegetated Run",
         "orientation": "v",
         "showlegend": true,
         "type": "scatter",
         "x": [
          0.24390816761419343,
          0.12702809420400155,
          0.11013982671835493,
          0.1363575670075969,
          0.15145160875620933,
          0.15643670460914177,
          0.13440275561291568,
          0.14485351854457876,
          0.12766205468175207,
          0.0923412292858953,
          0.18338152235982935,
          0.1472469048721474,
          0.23986632562649557,
          0.17545783553321964,
          0.09975652184856383,
          0.08854550096079324,
          0.1345888121990549,
          0.18159977054148882,
          0.1160771067326177,
          0.2243711257066961,
          0.09222426669582424,
          0.12183663860431031,
          0.1326724081797756,
          0.16017104207484076,
          0.1593479156402609,
          0.19633106717273585,
          0.14519768291173438,
          0.1649038184502154,
          0.1420450599856811,
          0.13317873979535164,
          0.19606921387534254,
          0.17364484298086288,
          0.1478967855050702,
          0.19814312357851988,
          0.0662064640185376,
          0.07368049445370027,
          0.13305318030731025,
          0.11380162993224015
         ],
         "xaxis": "x",
         "y": [
          6.5,
          11,
          19,
          15,
          11,
          16,
          24,
          13,
          18,
          26,
          11,
          20,
          6,
          8,
          19,
          25,
          14,
          9,
          21,
          10,
          18,
          18,
          16,
          13,
          16,
          13,
          13,
          11,
          16,
          20,
          13,
          13,
          12,
          4,
          30,
          27,
          17,
          23
         ],
         "yaxis": "y"
        },
        {
         "hovertemplate": "<b>OLS trendline</b><br>avg_ht = -121.627 * Q2 + 33.4858<br>R<sup>2</sup>=0.717789<br><br>site=Bay<br>run=Vegetated Run<br>Q2=%{x}<br>avg_ht=%{y} <b>(trend)</b><extra></extra>",
         "legendgroup": "Bay, Vegetated Run",
         "marker": {
          "color": "#636efa",
          "symbol": "circle"
         },
         "mode": "lines",
         "name": "Bay, Vegetated Run",
         "showlegend": false,
         "type": "scatter",
         "x": [
          0.0662064640185376,
          0.07368049445370027,
          0.08854550096079324,
          0.09222426669582424,
          0.0923412292858953,
          0.09975652184856383,
          0.11013982671835493,
          0.11380162993224015,
          0.1160771067326177,
          0.12183663860431031,
          0.12702809420400155,
          0.12766205468175207,
          0.1326724081797756,
          0.13305318030731025,
          0.13317873979535164,
          0.13440275561291568,
          0.1345888121990549,
          0.1363575670075969,
          0.1420450599856811,
          0.14485351854457876,
          0.14519768291173438,
          0.1472469048721474,
          0.1478967855050702,
          0.15145160875620933,
          0.15643670460914177,
          0.1593479156402609,
          0.16017104207484076,
          0.1649038184502154,
          0.17364484298086288,
          0.17545783553321964,
          0.18159977054148882,
          0.18338152235982935,
          0.19606921387534254,
          0.19633106717273585,
          0.19814312357851988,
          0.2243711257066961,
          0.23986632562649557,
          0.24390816761419343
         ],
         "xaxis": "x",
         "y": [
          25.43328620685964,
          24.524245564029854,
          22.716265895215116,
          22.26883025823139,
          22.25460450025681,
          21.35270794304907,
          20.0898222463136,
          19.644449702497628,
          19.36769127726726,
          18.667179204101195,
          18.03576029612308,
          17.95865386135239,
          17.349261779776175,
          17.302949774147017,
          17.287678405009217,
          17.138805566547457,
          17.116176143221722,
          16.901048572881518,
          16.209298342836462,
          15.867715177516427,
          15.825855648006574,
          15.576615821603028,
          15.497573073056618,
          15.06521213455163,
          14.458892053568555,
          14.10481145808539,
          14.004697417914993,
          13.429066088077285,
          12.365925306505428,
          12.145417251375449,
          11.398394798554214,
          11.181686446566864,
          9.638526119439152,
          9.606677802543139,
          9.38628360770442,
          6.19626182206002,
          4.311633893653148,
          3.8200385395015957
         ],
         "yaxis": "y"
        },
        {
         "hovertemplate": "site=Bay<br>run=Baseline Run<br>Q2=%{x}<br>avg_ht=%{y}<extra></extra>",
         "legendgroup": "Bay, Baseline Run",
         "marker": {
          "color": "#636efa",
          "symbol": "diamond"
         },
         "mode": "markers",
         "name": "Bay, Baseline Run",
         "orientation": "v",
         "showlegend": true,
         "type": "scatter",
         "x": [
          0.946109316004206,
          0.6444590264485041,
          0.7901876140326107,
          0.7907505074813672,
          0.8188951887588701,
          0.8791248570244761,
          0.946812934537952,
          0.7768188968066977,
          0.8084816547272895,
          0.8226947219891233,
          0.8753253201260739,
          0.9325998411139633,
          0.8587199392185118,
          0.7693605617147052,
          0.7322096317373311,
          0.7614800582511523,
          0.7561325746903425,
          0.8173472308581631,
          0.847039885813879,
          0.946109316004206,
          0.6444590264485041,
          0.7901876140326107,
          0.7907505074813672,
          0.8188951887588701,
          0.8791248570244761,
          0.946812934537952,
          0.7768188968066977,
          0.8084816547272895,
          0.8226947219891233,
          0.8753253201260739,
          0.9325998411139633,
          0.8587199392185118,
          0.7693605617147052,
          0.7322096317373311,
          0.7614800582511523,
          0.7561325746903425,
          0.8173472308581631,
          0.847039885813879
         ],
         "xaxis": "x",
         "y": [
          6.5,
          11,
          19,
          15,
          11,
          16,
          24,
          13,
          18,
          26,
          11,
          20,
          6,
          8,
          19,
          25,
          14,
          9,
          21,
          10,
          18,
          18,
          16,
          13,
          16,
          13,
          13,
          11,
          16,
          20,
          13,
          13,
          12,
          4,
          30,
          27,
          17,
          23
         ],
         "yaxis": "y"
        },
        {
         "hovertemplate": "<b>OLS trendline</b><br>avg_ht = -5.74995 * Q2 + 20.3844<br>R<sup>2</sup>=0.005170<br><br>site=Bay<br>run=Baseline Run<br>Q2=%{x}<br>avg_ht=%{y} <b>(trend)</b><extra></extra>",
         "legendgroup": "Bay, Baseline Run",
         "marker": {
          "color": "#636efa",
          "symbol": "diamond"
         },
         "mode": "lines",
         "name": "Bay, Baseline Run",
         "showlegend": false,
         "type": "scatter",
         "x": [
          0.6444590264485041,
          0.6444590264485041,
          0.7322096317373311,
          0.7322096317373311,
          0.7561325746903425,
          0.7561325746903425,
          0.7614800582511523,
          0.7614800582511523,
          0.7693605617147052,
          0.7693605617147052,
          0.7768188968066977,
          0.7768188968066977,
          0.7901876140326107,
          0.7901876140326107,
          0.7907505074813672,
          0.7907505074813672,
          0.8084816547272895,
          0.8084816547272895,
          0.8173472308581631,
          0.8173472308581631,
          0.8188951887588701,
          0.8188951887588701,
          0.8226947219891233,
          0.8226947219891233,
          0.847039885813879,
          0.847039885813879,
          0.8587199392185118,
          0.8587199392185118,
          0.8753253201260739,
          0.8753253201260739,
          0.8791248570244761,
          0.8791248570244761,
          0.9325998411139633,
          0.9325998411139633,
          0.946109316004206,
          0.946109316004206,
          0.946812934537952,
          0.946812934537952
         ],
         "xaxis": "x",
         "y": [
          16.678755726326084,
          16.678755726326084,
          16.174193796038182,
          16.174193796038182,
          16.03663797822007,
          16.03663797822007,
          16.00589019455813,
          16.00589019455813,
          15.96057766336677,
          15.96057766336677,
          15.917692580826731,
          15.917692580826731,
          15.84082307380991,
          15.84082307380991,
          15.837586462459866,
          15.837586462459866,
          15.735633184175633,
          15.735633184175633,
          15.684656530613136,
          15.684656530613136,
          15.675755844129956,
          15.675755844129956,
          15.653908703423182,
          15.653908703423182,
          15.513925135080115,
          15.513925135080115,
          15.446765367095498,
          15.446765367095498,
          15.351285193297173,
          15.351285193297173,
          15.32943803149871,
          15.32943803149871,
          15.02195934111819,
          15.02195934111819,
          14.944280484028132,
          14.944280484028132,
          14.940234709934556,
          14.940234709934556
         ],
         "yaxis": "y"
        },
        {
         "hovertemplate": "site=Creek<br>run=Vegetated Run<br>Q2=%{x}<br>avg_ht=%{y}<extra></extra>",
         "legendgroup": "Creek, Vegetated Run",
         "marker": {
          "color": "#EF553B",
          "symbol": "circle"
         },
         "mode": "markers",
         "name": "Creek, Vegetated Run",
         "orientation": "v",
         "showlegend": true,
         "type": "scatter",
         "x": [
          0.2173194213859924,
          0.16558552868188783,
          0.15539366809477684,
          0.19044729582598693,
          0.20433108502150074,
          0.2255116520437461,
          0.1892115480020254,
          0.15293570725819886,
          0.19485425283833435,
          0.17130614016829768,
          0.16083704766450369,
          0.2447179760250613,
          0.26088812522318855,
          0.17336787266067064,
          0.14998356598257293,
          0.18200936301768725,
          0.16162506501244486,
          0.2361814024156617,
          0.16939757860802757,
          0.12345222227125913,
          0.21587970650543287,
          0.13768728487471932,
          0.24650263044695248,
          0.21828344533810357,
          0.16685490838964168,
          0.19887315402861722,
          0.18696323739484172,
          0.19039960720354768,
          0.30624075682089363,
          0.31885376469268023,
          0.1891420198793405,
          0.154334551064924,
          0.16855313525286053,
          0.2028873492500981
         ],
         "xaxis": "x",
         "y": [
          18,
          16,
          20,
          14,
          13,
          13,
          18,
          20,
          14,
          18,
          19,
          17,
          19,
          16,
          19,
          15,
          18,
          16,
          15,
          25,
          11,
          24,
          10,
          13,
          17,
          12,
          15,
          14,
          9,
          11,
          13,
          19,
          17,
          11
         ],
         "yaxis": "y"
        },
        {
         "hovertemplate": "<b>OLS trendline</b><br>avg_ht = -57.4437 * Q2 + 27.0558<br>R<sup>2</sup>=0.457491<br><br>site=Creek<br>run=Vegetated Run<br>Q2=%{x}<br>avg_ht=%{y} <b>(trend)</b><extra></extra>",
         "legendgroup": "Creek, Vegetated Run",
         "marker": {
          "color": "#EF553B",
          "symbol": "circle"
         },
         "mode": "lines",
         "name": "Creek, Vegetated Run",
         "showlegend": false,
         "type": "scatter",
         "x": [
          0.12345222227125913,
          0.13768728487471932,
          0.14998356598257293,
          0.15293570725819886,
          0.154334551064924,
          0.15539366809477684,
          0.16083704766450369,
          0.16162506501244486,
          0.16558552868188783,
          0.16685490838964168,
          0.16855313525286053,
          0.16939757860802757,
          0.17130614016829768,
          0.17336787266067064,
          0.18200936301768725,
          0.18696323739484172,
          0.1891420198793405,
          0.1892115480020254,
          0.19039960720354768,
          0.19044729582598693,
          0.19485425283833435,
          0.19887315402861722,
          0.2028873492500981,
          0.20433108502150074,
          0.21587970650543287,
          0.2173194213859924,
          0.21828344533810357,
          0.2255116520437461,
          0.2361814024156617,
          0.2447179760250613,
          0.24650263044695248,
          0.26088812522318855,
          0.30624075682089363,
          0.31885376469268023
         ],
         "xaxis": "x",
         "y": [
          19.964284948201733,
          19.14656974863279,
          18.440225404378182,
          18.27064337586168,
          18.190288559416828,
          18.12944891876625,
          17.81676085161952,
          17.77149418993453,
          17.543990354506583,
          17.471072439779434,
          17.373519941623734,
          17.325011959191173,
          17.215377049909737,
          17.0969434298111,
          16.600543926085464,
          16.31597486672849,
          16.190817457607142,
          16.186823502378374,
          16.118576941465015,
          16.115837528755613,
          15.862685446939865,
          15.631824741904316,
          15.401234365305335,
          15.318300786625437,
          14.654904805550913,
          14.572202201869146,
          14.516825063014961,
          14.101609854379817,
          13.488699514765221,
          12.998326821149643,
          12.89580960100032,
          12.06945301518604,
          9.464228350499308,
          8.739690037156336
         ],
         "yaxis": "y"
        },
        {
         "hovertemplate": "site=Creek<br>run=Baseline Run<br>Q2=%{x}<br>avg_ht=%{y}<extra></extra>",
         "legendgroup": "Creek, Baseline Run",
         "marker": {
          "color": "#EF553B",
          "symbol": "diamond"
         },
         "mode": "markers",
         "name": "Creek, Baseline Run",
         "orientation": "v",
         "showlegend": true,
         "type": "scatter",
         "x": [
          1.1260950296745766,
          0.902062806310896,
          0.9570857656602717,
          0.9584930028754789,
          0.9746762320625081,
          1.0454602896430911,
          1.035609624076446,
          0.9437170130256399,
          0.9493459612983955,
          0.9662328078668934,
          0.9610260299067344,
          1.1973012638434732,
          1.3176199916130853,
          0.9323183937404541,
          0.9273930648405134,
          0.9413247101034238,
          0.9362586570461643,
          1.1260950296745766,
          0.902062806310896,
          0.9570857656602717,
          0.9584930028754789,
          0.9746762320625081,
          1.0454602896430911,
          1.035609624076446,
          0.9437170130256399,
          0.9493459612983955,
          0.9662328078668934,
          0.9610260299067344,
          1.1973012638434732,
          1.3176199916130853,
          0.9323183937404541,
          0.9273930648405134,
          0.9413247101034238,
          0.9362586570461643
         ],
         "xaxis": "x",
         "y": [
          18,
          16,
          20,
          14,
          13,
          13,
          18,
          20,
          14,
          18,
          19,
          17,
          19,
          16,
          19,
          15,
          18,
          16,
          15,
          25,
          11,
          24,
          10,
          13,
          17,
          12,
          15,
          14,
          9,
          11,
          13,
          19,
          17,
          11
         ],
         "yaxis": "y"
        },
        {
         "hovertemplate": "<b>OLS trendline</b><br>avg_ht = -5.99644 * Q2 + 21.8748<br>R<sup>2</sup>=0.031117<br><br>site=Creek<br>run=Baseline Run<br>Q2=%{x}<br>avg_ht=%{y} <b>(trend)</b><extra></extra>",
         "legendgroup": "Creek, Baseline Run",
         "marker": {
          "color": "#EF553B",
          "symbol": "diamond"
         },
         "mode": "lines",
         "name": "Creek, Baseline Run",
         "showlegend": false,
         "type": "scatter",
         "x": [
          0.902062806310896,
          0.902062806310896,
          0.9273930648405134,
          0.9273930648405134,
          0.9323183937404541,
          0.9323183937404541,
          0.9362586570461643,
          0.9362586570461643,
          0.9413247101034238,
          0.9413247101034238,
          0.9437170130256399,
          0.9437170130256399,
          0.9493459612983955,
          0.9493459612983955,
          0.9570857656602717,
          0.9570857656602717,
          0.9584930028754789,
          0.9584930028754789,
          0.9610260299067344,
          0.9610260299067344,
          0.9662328078668934,
          0.9662328078668934,
          0.9746762320625081,
          0.9746762320625081,
          1.035609624076446,
          1.035609624076446,
          1.0454602896430911,
          1.0454602896430911,
          1.1260950296745766,
          1.1260950296745766,
          1.1973012638434732,
          1.1973012638434732,
          1.3176199916130853,
          1.3176199916130853
         ],
         "xaxis": "x",
         "y": [
          16.465619989928655,
          16.465619989928655,
          16.313728530422402,
          16.313728530422402,
          16.284194074850795,
          16.284194074850795,
          16.260566509279627,
          16.260566509279627,
          16.230188209275166,
          16.230188209275166,
          16.21584290040232,
          16.21584290040232,
          16.182089231144094,
          16.182089231144094,
          16.135677932994742,
          16.135677932994742,
          16.1272395147986,
          16.1272395147986,
          16.1120503617824,
          16.1120503617824,
          16.08082821287426,
          16.08082821287426,
          16.030197698274385,
          16.030197698274385,
          15.664814066881842,
          15.664814066881842,
          15.605745109165671,
          15.605745109165671,
          15.122223461095288,
          15.122223461095288,
          14.695239314004512,
          14.695239314004512,
          13.973754882825371,
          13.973754882825371
         ],
         "yaxis": "y"
        },
        {
         "hovertemplate": "site=Interior<br>run=Vegetated Run<br>Q2=%{x}<br>avg_ht=%{y}<extra></extra>",
         "legendgroup": "Interior, Vegetated Run",
         "marker": {
          "color": "#00cc96",
          "symbol": "circle"
         },
         "mode": "markers",
         "name": "Interior, Vegetated Run",
         "orientation": "v",
         "showlegend": true,
         "type": "scatter",
         "x": [
          0.12787554220985198,
          0.15195956128338495,
          0.14807427191533834,
          0.14740720361231732,
          0.13382886540819933,
          0.18175810312612828,
          0.28551756932714795,
          0.20569876106065527,
          0.19891950398190192,
          0.18697445853249678,
          0.16751014825736116,
          0.15360103740979952,
          0.19711945042421558,
          0.2362858023602221,
          0.13602335598583468,
          0.15994878231682735,
          0.1568814486695281,
          0.13763457338062315,
          0.23808292407454015,
          0.2022813890559232,
          0.14432226240767015,
          0.15172050583892324,
          0.1549663877962454,
          0.1085245538765654,
          0.3009058574907426,
          0.1922868150892392,
          0.19754299039580386,
          0.17145227728656254,
          0.14923642144339935,
          0.20594103481100115,
          0.17953299757799773,
          0.19621059694984297,
          0.15785663682374973,
          0.14144696051727013,
          0.1668190001706712,
          0.21879162787116302
         ],
         "xaxis": "x",
         "y": [
          22,
          13,
          14,
          18,
          20,
          15,
          11,
          7,
          12,
          14,
          19,
          23,
          10,
          7,
          23,
          21,
          22,
          26,
          5,
          6,
          15,
          17,
          19,
          22,
          9,
          6,
          11,
          14,
          22,
          14,
          12,
          13,
          19,
          14,
          20,
          12
         ],
         "yaxis": "y"
        },
        {
         "hovertemplate": "<b>OLS trendline</b><br>avg_ht = -98.5695 * Q2 + 32.6931<br>R<sup>2</sup>=0.532591<br><br>site=Interior<br>run=Vegetated Run<br>Q2=%{x}<br>avg_ht=%{y} <b>(trend)</b><extra></extra>",
         "legendgroup": "Interior, Vegetated Run",
         "marker": {
          "color": "#00cc96",
          "symbol": "circle"
         },
         "mode": "lines",
         "name": "Interior, Vegetated Run",
         "showlegend": false,
         "type": "scatter",
         "x": [
          0.1085245538765654,
          0.12787554220985198,
          0.13382886540819933,
          0.13602335598583468,
          0.13763457338062315,
          0.14144696051727013,
          0.14432226240767015,
          0.14740720361231732,
          0.14807427191533834,
          0.14923642144339935,
          0.15172050583892324,
          0.15195956128338495,
          0.15360103740979952,
          0.1549663877962454,
          0.1568814486695281,
          0.15785663682374973,
          0.15994878231682735,
          0.1668190001706712,
          0.16751014825736116,
          0.17145227728656254,
          0.17953299757799773,
          0.18175810312612828,
          0.18697445853249678,
          0.1922868150892392,
          0.19621059694984297,
          0.19711945042421558,
          0.19754299039580386,
          0.19891950398190192,
          0.2022813890559232,
          0.20569876106065527,
          0.20594103481100115,
          0.21879162787116302,
          0.2362858023602221,
          0.23808292407454015,
          0.28551756932714795,
          0.3009058574907426
         ],
         "xaxis": "x",
         "y": [
          21.99589592972927,
          20.08847774037714,
          19.5016613586998,
          19.285351412559045,
          19.126534440893902,
          18.750749160884,
          18.467331950808294,
          18.163250688111027,
          18.097498066446022,
          17.982945511796522,
          17.73809043368366,
          17.714526846378632,
          17.552727285189054,
          17.418145313607475,
          17.22937862735339,
          17.133254770971156,
          16.927032933639836,
          16.249838659449097,
          16.181712504372012,
          15.793138624549165,
          14.996625671232092,
          14.777298021262304,
          14.26312422233972,
          13.739487633337983,
          13.352722225646044,
          13.263136948728057,
          13.221388804818762,
          13.085706481684014,
          12.754326986732373,
          12.417478170054817,
          12.393597355790806,
          11.126920195702212,
          9.402527309229736,
          9.22538583266373,
          4.549774251385756,
          3.0329576298934633
         ],
         "yaxis": "y"
        },
        {
         "hovertemplate": "site=Interior<br>run=Baseline Run<br>Q2=%{x}<br>avg_ht=%{y}<extra></extra>",
         "legendgroup": "Interior, Baseline Run",
         "marker": {
          "color": "#00cc96",
          "symbol": "diamond"
         },
         "mode": "markers",
         "name": "Interior, Baseline Run",
         "orientation": "v",
         "showlegend": true,
         "type": "scatter",
         "x": [
          0.8874275494901843,
          0.807637314228109,
          0.8146734855066624,
          0.8875682730996699,
          0.9338663543053816,
          0.941043262704493,
          1.2068704787504558,
          0.8387371986709918,
          0.9120541851505215,
          0.9382287887596216,
          0.972565375960072,
          1.0019766405605266,
          0.8826429469325238,
          0.948783066457453,
          0.9465314871237677,
          0.9845268943224241,
          1.0015544692574565,
          1.0088721053243173,
          0.8874275494901843,
          0.807637314228109,
          0.8146734855066624,
          0.8875682730996699,
          0.9338663543053816,
          0.941043262704493,
          1.2068704787504558,
          0.8387371986709918,
          0.9120541851505215,
          0.9382287887596216,
          0.972565375960072,
          1.0019766405605266,
          0.8826429469325238,
          0.948783066457453,
          0.9465314871237677,
          0.9845268943224241,
          1.0015544692574565,
          1.0088721053243173
         ],
         "xaxis": "x",
         "y": [
          22,
          13,
          14,
          18,
          20,
          15,
          11,
          7,
          12,
          14,
          19,
          23,
          10,
          7,
          23,
          21,
          22,
          26,
          5,
          6,
          15,
          17,
          19,
          22,
          9,
          6,
          11,
          14,
          22,
          14,
          12,
          13,
          19,
          14,
          20,
          12
         ],
         "yaxis": "y"
        },
        {
         "hovertemplate": "<b>OLS trendline</b><br>avg_ht = 12.2848 * Q2 + 3.64973<br>R<sup>2</sup>=0.037907<br><br>site=Interior<br>run=Baseline Run<br>Q2=%{x}<br>avg_ht=%{y} <b>(trend)</b><extra></extra>",
         "legendgroup": "Interior, Baseline Run",
         "marker": {
          "color": "#00cc96",
          "symbol": "diamond"
         },
         "mode": "lines",
         "name": "Interior, Baseline Run",
         "showlegend": false,
         "type": "scatter",
         "x": [
          0.807637314228109,
          0.807637314228109,
          0.8146734855066624,
          0.8146734855066624,
          0.8387371986709918,
          0.8387371986709918,
          0.8826429469325238,
          0.8826429469325238,
          0.8874275494901843,
          0.8874275494901843,
          0.8875682730996699,
          0.8875682730996699,
          0.9120541851505215,
          0.9120541851505215,
          0.9338663543053816,
          0.9338663543053816,
          0.9382287887596216,
          0.9382287887596216,
          0.941043262704493,
          0.941043262704493,
          0.9465314871237677,
          0.9465314871237677,
          0.948783066457453,
          0.948783066457453,
          0.972565375960072,
          0.972565375960072,
          0.9845268943224241,
          0.9845268943224241,
          1.0015544692574565,
          1.0015544692574565,
          1.0019766405605266,
          1.0019766405605266,
          1.0088721053243173,
          1.0088721053243173,
          1.2068704787504558,
          1.2068704787504558
         ],
         "xaxis": "x",
         "y": [
          13.571420655501749,
          13.571420655501749,
          13.657858878800257,
          13.657858878800257,
          13.953477693286704,
          13.953477693286704,
          14.492852691716054,
          14.492852691716054,
          14.551630758352132,
          14.551630758352132,
          14.553359525077463,
          14.553359525077463,
          14.854164984428685,
          14.854164984428685,
          15.122123945828536,
          15.122123945828536,
          15.17571574576525,
          15.17571574576525,
          15.210291101833707,
          15.210291101833707,
          15.277713048953096,
          15.277713048953096,
          15.30537333599196,
          15.30537333599196,
          15.597535152121633,
          15.597535152121633,
          15.744480465739237,
          15.744480465739237,
          15.953661462931931,
          15.953661462931931,
          15.95884776893847,
          15.95884776893847,
          16.043557435517545,
          16.043557435517545,
          18.475935349215604,
          18.475935349215604
         ],
         "yaxis": "y"
        }
       ],
       "layout": {
        "autosize": true,
        "height": 500,
        "legend": {
         "title": {
          "text": "site, run"
         },
         "tracegroupgap": 0
        },
        "margin": {
         "t": 60
        },
        "template": {
         "data": {
          "bar": [
           {
            "error_x": {
             "color": "#f2f5fa"
            },
            "error_y": {
             "color": "#f2f5fa"
            },
            "marker": {
             "line": {
              "color": "rgb(17,17,17)",
              "width": 0.5
             },
             "pattern": {
              "fillmode": "overlay",
              "size": 10,
              "solidity": 0.2
             }
            },
            "type": "bar"
           }
          ],
          "barpolar": [
           {
            "marker": {
             "line": {
              "color": "rgb(17,17,17)",
              "width": 0.5
             },
             "pattern": {
              "fillmode": "overlay",
              "size": 10,
              "solidity": 0.2
             }
            },
            "type": "barpolar"
           }
          ],
          "carpet": [
           {
            "aaxis": {
             "endlinecolor": "#A2B1C6",
             "gridcolor": "#506784",
             "linecolor": "#506784",
             "minorgridcolor": "#506784",
             "startlinecolor": "#A2B1C6"
            },
            "baxis": {
             "endlinecolor": "#A2B1C6",
             "gridcolor": "#506784",
             "linecolor": "#506784",
             "minorgridcolor": "#506784",
             "startlinecolor": "#A2B1C6"
            },
            "type": "carpet"
           }
          ],
          "choropleth": [
           {
            "colorbar": {
             "outlinewidth": 0,
             "ticks": ""
            },
            "type": "choropleth"
           }
          ],
          "contour": [
           {
            "colorbar": {
             "outlinewidth": 0,
             "ticks": ""
            },
            "colorscale": [
             [
              0,
              "#0d0887"
             ],
             [
              0.1111111111111111,
              "#46039f"
             ],
             [
              0.2222222222222222,
              "#7201a8"
             ],
             [
              0.3333333333333333,
              "#9c179e"
             ],
             [
              0.4444444444444444,
              "#bd3786"
             ],
             [
              0.5555555555555556,
              "#d8576b"
             ],
             [
              0.6666666666666666,
              "#ed7953"
             ],
             [
              0.7777777777777778,
              "#fb9f3a"
             ],
             [
              0.8888888888888888,
              "#fdca26"
             ],
             [
              1,
              "#f0f921"
             ]
            ],
            "type": "contour"
           }
          ],
          "contourcarpet": [
           {
            "colorbar": {
             "outlinewidth": 0,
             "ticks": ""
            },
            "type": "contourcarpet"
           }
          ],
          "heatmap": [
           {
            "colorbar": {
             "outlinewidth": 0,
             "ticks": ""
            },
            "colorscale": [
             [
              0,
              "#0d0887"
             ],
             [
              0.1111111111111111,
              "#46039f"
             ],
             [
              0.2222222222222222,
              "#7201a8"
             ],
             [
              0.3333333333333333,
              "#9c179e"
             ],
             [
              0.4444444444444444,
              "#bd3786"
             ],
             [
              0.5555555555555556,
              "#d8576b"
             ],
             [
              0.6666666666666666,
              "#ed7953"
             ],
             [
              0.7777777777777778,
              "#fb9f3a"
             ],
             [
              0.8888888888888888,
              "#fdca26"
             ],
             [
              1,
              "#f0f921"
             ]
            ],
            "type": "heatmap"
           }
          ],
          "heatmapgl": [
           {
            "colorbar": {
             "outlinewidth": 0,
             "ticks": ""
            },
            "colorscale": [
             [
              0,
              "#0d0887"
             ],
             [
              0.1111111111111111,
              "#46039f"
             ],
             [
              0.2222222222222222,
              "#7201a8"
             ],
             [
              0.3333333333333333,
              "#9c179e"
             ],
             [
              0.4444444444444444,
              "#bd3786"
             ],
             [
              0.5555555555555556,
              "#d8576b"
             ],
             [
              0.6666666666666666,
              "#ed7953"
             ],
             [
              0.7777777777777778,
              "#fb9f3a"
             ],
             [
              0.8888888888888888,
              "#fdca26"
             ],
             [
              1,
              "#f0f921"
             ]
            ],
            "type": "heatmapgl"
           }
          ],
          "histogram": [
           {
            "marker": {
             "pattern": {
              "fillmode": "overlay",
              "size": 10,
              "solidity": 0.2
             }
            },
            "type": "histogram"
           }
          ],
          "histogram2d": [
           {
            "colorbar": {
             "outlinewidth": 0,
             "ticks": ""
            },
            "colorscale": [
             [
              0,
              "#0d0887"
             ],
             [
              0.1111111111111111,
              "#46039f"
             ],
             [
              0.2222222222222222,
              "#7201a8"
             ],
             [
              0.3333333333333333,
              "#9c179e"
             ],
             [
              0.4444444444444444,
              "#bd3786"
             ],
             [
              0.5555555555555556,
              "#d8576b"
             ],
             [
              0.6666666666666666,
              "#ed7953"
             ],
             [
              0.7777777777777778,
              "#fb9f3a"
             ],
             [
              0.8888888888888888,
              "#fdca26"
             ],
             [
              1,
              "#f0f921"
             ]
            ],
            "type": "histogram2d"
           }
          ],
          "histogram2dcontour": [
           {
            "colorbar": {
             "outlinewidth": 0,
             "ticks": ""
            },
            "colorscale": [
             [
              0,
              "#0d0887"
             ],
             [
              0.1111111111111111,
              "#46039f"
             ],
             [
              0.2222222222222222,
              "#7201a8"
             ],
             [
              0.3333333333333333,
              "#9c179e"
             ],
             [
              0.4444444444444444,
              "#bd3786"
             ],
             [
              0.5555555555555556,
              "#d8576b"
             ],
             [
              0.6666666666666666,
              "#ed7953"
             ],
             [
              0.7777777777777778,
              "#fb9f3a"
             ],
             [
              0.8888888888888888,
              "#fdca26"
             ],
             [
              1,
              "#f0f921"
             ]
            ],
            "type": "histogram2dcontour"
           }
          ],
          "mesh3d": [
           {
            "colorbar": {
             "outlinewidth": 0,
             "ticks": ""
            },
            "type": "mesh3d"
           }
          ],
          "parcoords": [
           {
            "line": {
             "colorbar": {
              "outlinewidth": 0,
              "ticks": ""
             }
            },
            "type": "parcoords"
           }
          ],
          "pie": [
           {
            "automargin": true,
            "type": "pie"
           }
          ],
          "scatter": [
           {
            "marker": {
             "line": {
              "color": "#283442"
             }
            },
            "type": "scatter"
           }
          ],
          "scatter3d": [
           {
            "line": {
             "colorbar": {
              "outlinewidth": 0,
              "ticks": ""
             }
            },
            "marker": {
             "colorbar": {
              "outlinewidth": 0,
              "ticks": ""
             }
            },
            "type": "scatter3d"
           }
          ],
          "scattercarpet": [
           {
            "marker": {
             "colorbar": {
              "outlinewidth": 0,
              "ticks": ""
             }
            },
            "type": "scattercarpet"
           }
          ],
          "scattergeo": [
           {
            "marker": {
             "colorbar": {
              "outlinewidth": 0,
              "ticks": ""
             }
            },
            "type": "scattergeo"
           }
          ],
          "scattergl": [
           {
            "marker": {
             "line": {
              "color": "#283442"
             }
            },
            "type": "scattergl"
           }
          ],
          "scattermapbox": [
           {
            "marker": {
             "colorbar": {
              "outlinewidth": 0,
              "ticks": ""
             }
            },
            "type": "scattermapbox"
           }
          ],
          "scatterpolar": [
           {
            "marker": {
             "colorbar": {
              "outlinewidth": 0,
              "ticks": ""
             }
            },
            "type": "scatterpolar"
           }
          ],
          "scatterpolargl": [
           {
            "marker": {
             "colorbar": {
              "outlinewidth": 0,
              "ticks": ""
             }
            },
            "type": "scatterpolargl"
           }
          ],
          "scatterternary": [
           {
            "marker": {
             "colorbar": {
              "outlinewidth": 0,
              "ticks": ""
             }
            },
            "type": "scatterternary"
           }
          ],
          "surface": [
           {
            "colorbar": {
             "outlinewidth": 0,
             "ticks": ""
            },
            "colorscale": [
             [
              0,
              "#0d0887"
             ],
             [
              0.1111111111111111,
              "#46039f"
             ],
             [
              0.2222222222222222,
              "#7201a8"
             ],
             [
              0.3333333333333333,
              "#9c179e"
             ],
             [
              0.4444444444444444,
              "#bd3786"
             ],
             [
              0.5555555555555556,
              "#d8576b"
             ],
             [
              0.6666666666666666,
              "#ed7953"
             ],
             [
              0.7777777777777778,
              "#fb9f3a"
             ],
             [
              0.8888888888888888,
              "#fdca26"
             ],
             [
              1,
              "#f0f921"
             ]
            ],
            "type": "surface"
           }
          ],
          "table": [
           {
            "cells": {
             "fill": {
              "color": "#506784"
             },
             "line": {
              "color": "rgb(17,17,17)"
             }
            },
            "header": {
             "fill": {
              "color": "#2a3f5f"
             },
             "line": {
              "color": "rgb(17,17,17)"
             }
            },
            "type": "table"
           }
          ]
         },
         "layout": {
          "annotationdefaults": {
           "arrowcolor": "#f2f5fa",
           "arrowhead": 0,
           "arrowwidth": 1
          },
          "autotypenumbers": "strict",
          "coloraxis": {
           "colorbar": {
            "outlinewidth": 0,
            "ticks": ""
           }
          },
          "colorscale": {
           "diverging": [
            [
             0,
             "#8e0152"
            ],
            [
             0.1,
             "#c51b7d"
            ],
            [
             0.2,
             "#de77ae"
            ],
            [
             0.3,
             "#f1b6da"
            ],
            [
             0.4,
             "#fde0ef"
            ],
            [
             0.5,
             "#f7f7f7"
            ],
            [
             0.6,
             "#e6f5d0"
            ],
            [
             0.7,
             "#b8e186"
            ],
            [
             0.8,
             "#7fbc41"
            ],
            [
             0.9,
             "#4d9221"
            ],
            [
             1,
             "#276419"
            ]
           ],
           "sequential": [
            [
             0,
             "#0d0887"
            ],
            [
             0.1111111111111111,
             "#46039f"
            ],
            [
             0.2222222222222222,
             "#7201a8"
            ],
            [
             0.3333333333333333,
             "#9c179e"
            ],
            [
             0.4444444444444444,
             "#bd3786"
            ],
            [
             0.5555555555555556,
             "#d8576b"
            ],
            [
             0.6666666666666666,
             "#ed7953"
            ],
            [
             0.7777777777777778,
             "#fb9f3a"
            ],
            [
             0.8888888888888888,
             "#fdca26"
            ],
            [
             1,
             "#f0f921"
            ]
           ],
           "sequentialminus": [
            [
             0,
             "#0d0887"
            ],
            [
             0.1111111111111111,
             "#46039f"
            ],
            [
             0.2222222222222222,
             "#7201a8"
            ],
            [
             0.3333333333333333,
             "#9c179e"
            ],
            [
             0.4444444444444444,
             "#bd3786"
            ],
            [
             0.5555555555555556,
             "#d8576b"
            ],
            [
             0.6666666666666666,
             "#ed7953"
            ],
            [
             0.7777777777777778,
             "#fb9f3a"
            ],
            [
             0.8888888888888888,
             "#fdca26"
            ],
            [
             1,
             "#f0f921"
            ]
           ]
          },
          "colorway": [
           "#636efa",
           "#EF553B",
           "#00cc96",
           "#ab63fa",
           "#FFA15A",
           "#19d3f3",
           "#FF6692",
           "#B6E880",
           "#FF97FF",
           "#FECB52"
          ],
          "font": {
           "color": "#f2f5fa"
          },
          "geo": {
           "bgcolor": "rgb(17,17,17)",
           "lakecolor": "rgb(17,17,17)",
           "landcolor": "rgb(17,17,17)",
           "showlakes": true,
           "showland": true,
           "subunitcolor": "#506784"
          },
          "hoverlabel": {
           "align": "left"
          },
          "hovermode": "closest",
          "mapbox": {
           "style": "dark"
          },
          "paper_bgcolor": "rgb(17,17,17)",
          "plot_bgcolor": "rgb(17,17,17)",
          "polar": {
           "angularaxis": {
            "gridcolor": "#506784",
            "linecolor": "#506784",
            "ticks": ""
           },
           "bgcolor": "rgb(17,17,17)",
           "radialaxis": {
            "gridcolor": "#506784",
            "linecolor": "#506784",
            "ticks": ""
           }
          },
          "scene": {
           "xaxis": {
            "backgroundcolor": "rgb(17,17,17)",
            "gridcolor": "#506784",
            "gridwidth": 2,
            "linecolor": "#506784",
            "showbackground": true,
            "ticks": "",
            "zerolinecolor": "#C8D4E3"
           },
           "yaxis": {
            "backgroundcolor": "rgb(17,17,17)",
            "gridcolor": "#506784",
            "gridwidth": 2,
            "linecolor": "#506784",
            "showbackground": true,
            "ticks": "",
            "zerolinecolor": "#C8D4E3"
           },
           "zaxis": {
            "backgroundcolor": "rgb(17,17,17)",
            "gridcolor": "#506784",
            "gridwidth": 2,
            "linecolor": "#506784",
            "showbackground": true,
            "ticks": "",
            "zerolinecolor": "#C8D4E3"
           }
          },
          "shapedefaults": {
           "line": {
            "color": "#f2f5fa"
           }
          },
          "sliderdefaults": {
           "bgcolor": "#C8D4E3",
           "bordercolor": "rgb(17,17,17)",
           "borderwidth": 1,
           "tickwidth": 0
          },
          "ternary": {
           "aaxis": {
            "gridcolor": "#506784",
            "linecolor": "#506784",
            "ticks": ""
           },
           "baxis": {
            "gridcolor": "#506784",
            "linecolor": "#506784",
            "ticks": ""
           },
           "bgcolor": "rgb(17,17,17)",
           "caxis": {
            "gridcolor": "#506784",
            "linecolor": "#506784",
            "ticks": ""
           }
          },
          "title": {
           "x": 0.05
          },
          "updatemenudefaults": {
           "bgcolor": "#506784",
           "borderwidth": 0
          },
          "xaxis": {
           "automargin": true,
           "gridcolor": "#283442",
           "linecolor": "#506784",
           "ticks": "",
           "title": {
            "standoff": 15
           },
           "zerolinecolor": "#283442",
           "zerolinewidth": 2
          },
          "yaxis": {
           "automargin": true,
           "gridcolor": "#283442",
           "linecolor": "#506784",
           "ticks": "",
           "title": {
            "standoff": 15
           },
           "zerolinecolor": "#283442",
           "zerolinewidth": 2
          }
         }
        },
        "xaxis": {
         "anchor": "y",
         "domain": [
          0,
          1
         ],
         "title": {
          "text": "Q2"
         }
        },
        "yaxis": {
         "anchor": "x",
         "domain": [
          0,
          1
         ],
         "title": {
          "text": "avg_ht"
         }
        }
       }
      }
     },
     "metadata": {},
     "output_type": "display_data"
    }
   ],
   "source": [
    "fig = px.scatter(dff, x='Q2', y='avg_ht', color='site', symbol='run', trendline='ols', template='plotly_dark')\n",
    "fig.update_layout(\n",
    "    height=500,\n",
    "    autosize=True,)\n",
    "fig.show()"
   ]
  },
  {
   "cell_type": "code",
   "execution_count": 77,
   "metadata": {},
   "outputs": [
    {
     "data": {
      "application/vnd.plotly.v1+json": {
       "config": {
        "plotlyServerURL": "https://plot.ly"
       },
       "data": [
        {
         "hovertemplate": "site=Bay<br>run=Vegetated Run<br>mean_u=%{x}<br>wc_height=%{y}<extra></extra>",
         "legendgroup": "Bay, Vegetated Run",
         "marker": {
          "color": "#636efa",
          "symbol": "circle"
         },
         "mode": "markers",
         "name": "Bay, Vegetated Run",
         "orientation": "v",
         "showlegend": true,
         "type": "scatter",
         "x": [
          1.3592650169565137,
          0.5103025642236216,
          0.3286437924729354,
          0.45515997537639585,
          0.698899136355107,
          0.5200176014225153,
          0.3265804713721051,
          0.543751367828793,
          0.38082686886336153,
          0.20112182662794495,
          0.7625154658544469,
          0.40975347369678367,
          1.2777263819523763,
          0.8709433130067955,
          0.26654950669580113,
          0.17164323846681598,
          0.47691502456706003,
          0.8433391850343966,
          0.3290697201519917,
          0.9916123850499081,
          0.25945525042793266,
          0.35722004861242634,
          0.4263030163263412,
          0.5950197344133862,
          0.5158934199389179,
          0.7439415723306905,
          0.5412187000103333,
          0.6836638936476852,
          0.4632916358853887,
          0.369575831093671,
          0.7221646733015429,
          0.6553435740122208,
          0.5826878863742487,
          1.3089906898905679,
          0.10171930592298131,
          0.14852464806883567,
          0.40950966157062546,
          0.2716526334527395
         ],
         "xaxis": "x",
         "y": [
          0.6759,
          0.4855,
          0.5650999999999997,
          0.5655000000000001,
          0.5855000000000001,
          0.6282999999999999,
          0.6764000000000001,
          0.5556000000000001,
          0.5781000000000001,
          0.5882000000000001,
          0.6255999999999999,
          0.6663000000000001,
          0.6137999999999999,
          0.5503,
          0.5238999999999998,
          0.5446999999999997,
          0.5408999999999997,
          0.5844,
          0.6054999999999997,
          0.6759,
          0.4855,
          0.5650999999999997,
          0.5655000000000001,
          0.5855000000000001,
          0.6282999999999999,
          0.6764000000000001,
          0.5556000000000001,
          0.5781000000000001,
          0.5882000000000001,
          0.6255999999999999,
          0.6663000000000001,
          0.6137999999999999,
          0.5503,
          0.5238999999999998,
          0.5446999999999997,
          0.5408999999999997,
          0.5844,
          0.6054999999999997
         ],
         "yaxis": "y"
        },
        {
         "hovertemplate": "<b>OLS trendline</b><br>wc_height = 0.0523285 * mean_u + 0.558588<br>R<sup>2</sup>=0.100028<br><br>site=Bay<br>run=Vegetated Run<br>mean_u=%{x}<br>wc_height=%{y} <b>(trend)</b><extra></extra>",
         "legendgroup": "Bay, Vegetated Run",
         "marker": {
          "color": "#636efa",
          "symbol": "circle"
         },
         "mode": "lines",
         "name": "Bay, Vegetated Run",
         "showlegend": false,
         "type": "scatter",
         "x": [
          0.10171930592298131,
          0.14852464806883567,
          0.17164323846681598,
          0.20112182662794495,
          0.25945525042793266,
          0.26654950669580113,
          0.2716526334527395,
          0.3265804713721051,
          0.3286437924729354,
          0.3290697201519917,
          0.35722004861242634,
          0.369575831093671,
          0.38082686886336153,
          0.40950966157062546,
          0.40975347369678367,
          0.4263030163263412,
          0.45515997537639585,
          0.4632916358853887,
          0.47691502456706003,
          0.5103025642236216,
          0.5158934199389179,
          0.5200176014225153,
          0.5412187000103333,
          0.543751367828793,
          0.5826878863742487,
          0.5950197344133862,
          0.6553435740122208,
          0.6836638936476852,
          0.698899136355107,
          0.7221646733015429,
          0.7439415723306905,
          0.7625154658544469,
          0.8433391850343966,
          0.8709433130067955,
          0.9916123850499081,
          1.2777263819523763,
          1.3089906898905679,
          1.3592650169565137
         ],
         "xaxis": "x",
         "y": [
          0.5639106663203194,
          0.5663599202003862,
          0.567569681621582,
          0.5691122522582316,
          0.5721647534905583,
          0.572535985360547,
          0.5728030243872237,
          0.5756773163799722,
          0.5757852869017192,
          0.5758075750631283,
          0.5772806398468877,
          0.5779271995513152,
          0.5785159496095098,
          0.5800168774546797,
          0.5800296357803029,
          0.5808956487104607,
          0.5824056904210848,
          0.5828312081107316,
          0.583544099760669,
          0.58529122001021,
          0.5855837811672444,
          0.5857995934450251,
          0.5869090153741732,
          0.5870415461109841,
          0.5890790361655717,
          0.5897243434162724,
          0.5928810001444202,
          0.5943629603133201,
          0.5951601978850194,
          0.5963776488003513,
          0.5975172015094576,
          0.5984891457084605,
          0.6027185306189701,
          0.6041630135442646,
          0.6104774464563166,
          0.6254493660049665,
          0.6270853806993275,
          0.6297161613963321
         ],
         "yaxis": "y"
        },
        {
         "hovertemplate": "site=Bay<br>run=Baseline Run<br>mean_u=%{x}<br>wc_height=%{y}<extra></extra>",
         "legendgroup": "Bay, Baseline Run",
         "marker": {
          "color": "#636efa",
          "symbol": "diamond"
         },
         "mode": "markers",
         "name": "Bay, Baseline Run",
         "orientation": "v",
         "showlegend": true,
         "type": "scatter",
         "x": [
          12.666596046563184,
          10.51859039204306,
          11.577230183104732,
          11.58134720129095,
          11.785364586021501,
          12.210514583684175,
          12.67129969658718,
          11.479017042446284,
          11.710292415099374,
          11.81263699102164,
          12.184132781358366,
          12.575944820816172,
          12.068157767829915,
          11.423857532362923,
          11.145034917040466,
          11.365284932633738,
          11.325366725827468,
          11.774235496098159,
          11.985909895842886,
          12.666596046563184,
          10.51859039204306,
          11.577230183104732,
          11.58134720129095,
          11.785364586021501,
          12.210514583684175,
          12.67129969658718,
          11.479017042446284,
          11.710292415099374,
          11.81263699102164,
          12.184132781358366,
          12.575944820816172,
          12.068157767829915,
          11.423857532362923,
          11.145034917040466,
          11.365284932633738,
          11.325366725827468,
          11.774235496098159,
          11.985909895842886
         ],
         "xaxis": "x",
         "y": [
          0.6759,
          0.4855,
          0.5650999999999997,
          0.5655000000000001,
          0.5855000000000001,
          0.6282999999999999,
          0.6764000000000001,
          0.5556000000000001,
          0.5781000000000001,
          0.5882000000000001,
          0.6255999999999999,
          0.6663000000000001,
          0.6137999999999999,
          0.5503,
          0.5238999999999998,
          0.5446999999999997,
          0.5408999999999997,
          0.5844,
          0.6054999999999997,
          0.6759,
          0.4855,
          0.5650999999999997,
          0.5655000000000001,
          0.5855000000000001,
          0.6282999999999999,
          0.6764000000000001,
          0.5556000000000001,
          0.5781000000000001,
          0.5882000000000001,
          0.6255999999999999,
          0.6663000000000001,
          0.6137999999999999,
          0.5503,
          0.5238999999999998,
          0.5446999999999997,
          0.5408999999999997,
          0.5844,
          0.6054999999999997
         ],
         "yaxis": "y"
        },
        {
         "hovertemplate": "<b>OLS trendline</b><br>wc_height = 0.0941314 * mean_u + -0.521728<br>R<sup>2</sup>=0.990359<br><br>site=Bay<br>run=Baseline Run<br>mean_u=%{x}<br>wc_height=%{y} <b>(trend)</b><extra></extra>",
         "legendgroup": "Bay, Baseline Run",
         "marker": {
          "color": "#636efa",
          "symbol": "diamond"
         },
         "mode": "lines",
         "name": "Bay, Baseline Run",
         "showlegend": false,
         "type": "scatter",
         "x": [
          10.51859039204306,
          10.51859039204306,
          11.145034917040466,
          11.145034917040466,
          11.325366725827468,
          11.325366725827468,
          11.365284932633738,
          11.365284932633738,
          11.423857532362923,
          11.423857532362923,
          11.479017042446284,
          11.479017042446284,
          11.577230183104732,
          11.577230183104732,
          11.58134720129095,
          11.58134720129095,
          11.710292415099374,
          11.710292415099374,
          11.774235496098159,
          11.774235496098159,
          11.785364586021501,
          11.785364586021501,
          11.81263699102164,
          11.81263699102164,
          11.985909895842886,
          11.985909895842886,
          12.068157767829915,
          12.068157767829915,
          12.184132781358366,
          12.184132781358366,
          12.210514583684175,
          12.210514583684175,
          12.575944820816172,
          12.575944820816172,
          12.666596046563184,
          12.666596046563184,
          12.67129969658718,
          12.67129969658718
         ],
         "xaxis": "x",
         "y": [
          0.46840159719159224,
          0.46840159719159224,
          0.52736972288816,
          0.52736972288816,
          0.5443446158648133,
          0.5443446158648133,
          0.5481021741841927,
          0.5481021741841927,
          0.5536156973859792,
          0.5536156973859792,
          0.5588079415419485,
          0.5588079415419485,
          0.5680528859740608,
          0.5680528859740608,
          0.56844042682758,
          0.56844042682758,
          0.5805782255829566,
          0.5805782255829566,
          0.5865972799242452,
          0.5865972799242452,
          0.5876448771931189,
          0.5876448771931189,
          0.5902120679688743,
          0.5902120679688743,
          0.606522496145018,
          0.606522496145018,
          0.6142646068349094,
          0.6142646068349094,
          0.6251815019509377,
          0.6251815019509377,
          0.6276648590138105,
          0.6276648590138105,
          0.6620633337336834,
          0.6620633337336834,
          0.6705964642202495,
          0.6705964642202495,
          0.6710392255738566,
          0.6710392255738566
         ],
         "yaxis": "y"
        },
        {
         "hovertemplate": "site=Creek<br>run=Vegetated Run<br>mean_u=%{x}<br>wc_height=%{y}<extra></extra>",
         "legendgroup": "Creek, Vegetated Run",
         "marker": {
          "color": "#EF553B",
          "symbol": "circle"
         },
         "mode": "markers",
         "name": "Creek, Vegetated Run",
         "orientation": "v",
         "showlegend": true,
         "type": "scatter",
         "x": [
          0.7012205971671923,
          0.5554442297995603,
          0.4413861500219262,
          0.690553787409425,
          0.7992741099075418,
          0.8898439756923031,
          0.5908675654258939,
          0.4397756349892603,
          0.6760749858908367,
          0.5363194580364846,
          0.46909420986116634,
          0.8287400877592603,
          0.8086795514175197,
          0.5651702857145902,
          0.4950741918960787,
          0.6446474608426062,
          0.49707070332813225,
          0.7908562660418602,
          0.5887136684876483,
          0.3123951438875673,
          0.9069496709412486,
          0.35088555805782906,
          1.108348388807586,
          0.8269815667876742,
          0.5296118922434696,
          0.7858527847810537,
          0.652363195535387,
          0.697215243347076,
          1.3861057989652343,
          1.3480995087939405,
          0.7336325640708997,
          0.46237621879014545,
          0.5352518203519523,
          0.8365373645640469
         ],
         "xaxis": "x",
         "y": [
          0.8037999999999998,
          0.6446000000000001,
          0.6837,
          0.6846999999999999,
          0.6961999999999997,
          0.7464999999999997,
          0.7395,
          0.6741999999999999,
          0.6781999999999999,
          0.6901999999999999,
          0.6865000000000001,
          0.8543999999999998,
          0.9399,
          0.6661000000000001,
          0.6625999999999999,
          0.6724999999999999,
          0.6688999999999998,
          0.8037999999999998,
          0.6446000000000001,
          0.6837,
          0.6846999999999999,
          0.6961999999999997,
          0.7464999999999997,
          0.7395,
          0.6741999999999999,
          0.6781999999999999,
          0.6901999999999999,
          0.6865000000000001,
          0.8543999999999998,
          0.9399,
          0.6661000000000001,
          0.6625999999999999,
          0.6724999999999999,
          0.6688999999999998
         ],
         "yaxis": "y"
        },
        {
         "hovertemplate": "<b>OLS trendline</b><br>wc_height = 0.210939 * mean_u + 0.571525<br>R<sup>2</sup>=0.438863<br><br>site=Creek<br>run=Vegetated Run<br>mean_u=%{x}<br>wc_height=%{y} <b>(trend)</b><extra></extra>",
         "legendgroup": "Creek, Vegetated Run",
         "marker": {
          "color": "#EF553B",
          "symbol": "circle"
         },
         "mode": "lines",
         "name": "Creek, Vegetated Run",
         "showlegend": false,
         "type": "scatter",
         "x": [
          0.3123951438875673,
          0.35088555805782906,
          0.4397756349892603,
          0.4413861500219262,
          0.46237621879014545,
          0.46909420986116634,
          0.4950741918960787,
          0.49707070332813225,
          0.5296118922434696,
          0.5352518203519523,
          0.5363194580364846,
          0.5554442297995603,
          0.5651702857145902,
          0.5887136684876483,
          0.5908675654258939,
          0.6446474608426062,
          0.652363195535387,
          0.6760749858908367,
          0.690553787409425,
          0.697215243347076,
          0.7012205971671923,
          0.7336325640708997,
          0.7858527847810537,
          0.7908562660418602,
          0.7992741099075418,
          0.8086795514175197,
          0.8269815667876742,
          0.8287400877592603,
          0.8365373645640469,
          0.8898439756923031,
          0.9069496709412486,
          1.108348388807586,
          1.3480995087939405,
          1.3861057989652343
         ],
         "xaxis": "x",
         "y": [
          0.6374214348066926,
          0.6455405647589432,
          0.6642909497997318,
          0.6646306702501905,
          0.6690582946265351,
          0.6704753810284221,
          0.6759555727812445,
          0.6763767149309832,
          0.6832409211833671,
          0.6844306020486226,
          0.6846558084874075,
          0.6886899689556394,
          0.6907415735849809,
          0.6957077914958737,
          0.6961621323888558,
          0.7075064104154635,
          0.7091339598715609,
          0.7141357015115655,
          0.7171898456047481,
          0.7185950065414357,
          0.7194398919205958,
          0.726276840209465,
          0.7372921219937936,
          0.7383475513895501,
          0.7401232030611818,
          0.7421071776045579,
          0.7459677866518146,
          0.7463387273288598,
          0.7479834771975333,
          0.7592279211037459,
          0.7628361795661109,
          0.8053190262130767,
          0.8558918906867139,
          0.8639089000007392
         ],
         "yaxis": "y"
        },
        {
         "hovertemplate": "site=Creek<br>run=Baseline Run<br>mean_u=%{x}<br>wc_height=%{y}<extra></extra>",
         "legendgroup": "Creek, Baseline Run",
         "marker": {
          "color": "#EF553B",
          "symbol": "diamond"
         },
         "mode": "markers",
         "name": "Creek, Baseline Run",
         "orientation": "v",
         "showlegend": true,
         "type": "scatter",
         "x": [
          13.817708332780828,
          12.368587295543255,
          12.739775223497649,
          12.749126791804448,
          12.856180926516961,
          13.314314111715754,
          13.2515067494333,
          12.650590555087883,
          12.688218399138787,
          12.800438298798559,
          12.765942351993685,
          14.24746095527085,
          14.945568351612035,
          12.574049304189142,
          12.540831386423696,
          12.634564788150003,
          12.60056058924204,
          13.817708332780828,
          12.368587295543255,
          12.739775223497649,
          12.749126791804448,
          12.856180926516961,
          13.314314111715754,
          13.2515067494333,
          12.650590555087883,
          12.688218399138787,
          12.800438298798559,
          12.765942351993685,
          14.24746095527085,
          14.945568351612035,
          12.574049304189142,
          12.540831386423696,
          12.634564788150003,
          12.60056058924204
         ],
         "xaxis": "x",
         "y": [
          0.8037999999999998,
          0.6446000000000001,
          0.6837,
          0.6846999999999999,
          0.6961999999999997,
          0.7464999999999997,
          0.7395,
          0.6741999999999999,
          0.6781999999999999,
          0.6901999999999999,
          0.6865000000000001,
          0.8543999999999998,
          0.9399,
          0.6661000000000001,
          0.6625999999999999,
          0.6724999999999999,
          0.6688999999999998,
          0.8037999999999998,
          0.6446000000000001,
          0.6837,
          0.6846999999999999,
          0.6961999999999997,
          0.7464999999999997,
          0.7395,
          0.6741999999999999,
          0.6781999999999999,
          0.6901999999999999,
          0.6865000000000001,
          0.8543999999999998,
          0.9399,
          0.6661000000000001,
          0.6625999999999999,
          0.6724999999999999,
          0.6688999999999998
         ],
         "yaxis": "y"
        },
        {
         "hovertemplate": "<b>OLS trendline</b><br>wc_height = 0.11397 * mean_u + -0.768062<br>R<sup>2</sup>=0.999377<br><br>site=Creek<br>run=Baseline Run<br>mean_u=%{x}<br>wc_height=%{y} <b>(trend)</b><extra></extra>",
         "legendgroup": "Creek, Baseline Run",
         "marker": {
          "color": "#EF553B",
          "symbol": "diamond"
         },
         "mode": "lines",
         "name": "Creek, Baseline Run",
         "showlegend": false,
         "type": "scatter",
         "x": [
          12.368587295543255,
          12.368587295543255,
          12.540831386423696,
          12.540831386423696,
          12.574049304189142,
          12.574049304189142,
          12.60056058924204,
          12.60056058924204,
          12.634564788150003,
          12.634564788150003,
          12.650590555087883,
          12.650590555087883,
          12.688218399138787,
          12.688218399138787,
          12.739775223497649,
          12.739775223497649,
          12.749126791804448,
          12.749126791804448,
          12.765942351993685,
          12.765942351993685,
          12.800438298798559,
          12.800438298798559,
          12.856180926516961,
          12.856180926516961,
          13.2515067494333,
          13.2515067494333,
          13.314314111715754,
          13.314314111715754,
          13.817708332780828,
          13.817708332780828,
          14.24746095527085,
          14.24746095527085,
          14.945568351612035,
          14.945568351612035
         ],
         "xaxis": "x",
         "y": [
          0.6415870993320614,
          0.6415870993320614,
          0.6612177811298479,
          0.6612177811298479,
          0.6650036316069545,
          0.6650036316069545,
          0.6680251262676049,
          0.6680251262676049,
          0.6719005893104226,
          0.6719005893104226,
          0.6737270480859598,
          0.6737270480859598,
          0.6780154984445428,
          0.6780154984445428,
          0.6838914365293838,
          0.6838914365293838,
          0.6849572360050156,
          0.6849572360050156,
          0.6868737076217724,
          0.6868737076217724,
          0.6908052152373798,
          0.6908052152373798,
          0.6971582098842151,
          0.6971582098842151,
          0.7422135461599051,
          0.7422135461599051,
          0.7493717095385315,
          0.7493717095385315,
          0.8067436154312708,
          0.8067436154312708,
          0.8557225786034923,
          0.8557225786034923,
          0.9352859708116328,
          0.9352859708116328
         ],
         "yaxis": "y"
        },
        {
         "hovertemplate": "site=Interior<br>run=Vegetated Run<br>mean_u=%{x}<br>wc_height=%{y}<extra></extra>",
         "legendgroup": "Interior, Vegetated Run",
         "marker": {
          "color": "#00cc96",
          "symbol": "circle"
         },
         "mode": "markers",
         "name": "Interior, Vegetated Run",
         "orientation": "v",
         "showlegend": true,
         "type": "scatter",
         "x": [
          0.3324782009321994,
          0.5605192619077259,
          0.5221258022091906,
          0.4522017025862316,
          0.4598617743343786,
          0.6404308369864579,
          1.1978981800785493,
          1.0842203100063368,
          0.7808682854363156,
          0.6874622338211613,
          0.5053887828651638,
          0.4007947695683334,
          0.88090332438123,
          1.246928195992003,
          0.34257505689218215,
          0.4581330220253045,
          0.4237513277861222,
          0.32795938556551335,
          1.4622657631981093,
          1.1491061157834896,
          0.49261612431010615,
          0.5032697715657666,
          0.46758428783971756,
          0.4821531906882198,
          1.424962409796556,
          1.2077743399244807,
          0.8280468136003757,
          0.73761002260273,
          0.3945666755180598,
          0.7510287301279653,
          0.7060010045180906,
          0.7148145690067229,
          0.4661870675468359,
          0.7969722493283818,
          0.4787615550155717,
          0.8704910931158285
         ],
         "xaxis": "x",
         "y": [
          0.6341999999999999,
          0.5775000000000001,
          0.5825,
          0.6343000000000001,
          0.6671999999999998,
          0.6722999999999999,
          0.8612,
          0.5996000000000001,
          0.6517,
          0.6703000000000001,
          0.6947000000000001,
          0.7155999999999998,
          0.6307999999999998,
          0.6778,
          0.6762000000000001,
          0.7031999999999998,
          0.7153,
          0.7204999999999999,
          0.6341999999999999,
          0.5775000000000001,
          0.5825,
          0.6343000000000001,
          0.6671999999999998,
          0.6722999999999999,
          0.8612,
          0.5996000000000001,
          0.6517,
          0.6703000000000001,
          0.6947000000000001,
          0.7155999999999998,
          0.6307999999999998,
          0.6778,
          0.6762000000000001,
          0.7031999999999998,
          0.7153,
          0.7204999999999999
         ],
         "yaxis": "y"
        },
        {
         "hovertemplate": "<b>OLS trendline</b><br>wc_height = 0.0298705 * mean_u + 0.650442<br>R<sup>2</sup>=0.022592<br><br>site=Interior<br>run=Vegetated Run<br>mean_u=%{x}<br>wc_height=%{y} <b>(trend)</b><extra></extra>",
         "legendgroup": "Interior, Vegetated Run",
         "marker": {
          "color": "#00cc96",
          "symbol": "circle"
         },
         "mode": "lines",
         "name": "Interior, Vegetated Run",
         "showlegend": false,
         "type": "scatter",
         "x": [
          0.32795938556551335,
          0.3324782009321994,
          0.34257505689218215,
          0.3945666755180598,
          0.4007947695683334,
          0.4237513277861222,
          0.4522017025862316,
          0.4581330220253045,
          0.4598617743343786,
          0.4661870675468359,
          0.46758428783971756,
          0.4787615550155717,
          0.4821531906882198,
          0.49261612431010615,
          0.5032697715657666,
          0.5053887828651638,
          0.5221258022091906,
          0.5605192619077259,
          0.6404308369864579,
          0.6874622338211613,
          0.7060010045180906,
          0.7148145690067229,
          0.73761002260273,
          0.7510287301279653,
          0.7808682854363156,
          0.7969722493283818,
          0.8280468136003757,
          0.8704910931158285,
          0.88090332438123,
          1.0842203100063368,
          1.1491061157834896,
          1.1978981800785493,
          1.2077743399244807,
          1.246928195992003,
          1.424962409796556,
          1.4622657631981093
         ],
         "xaxis": "x",
         "y": [
          0.6602381641282417,
          0.6603731435127507,
          0.6606747418947075,
          0.6622277588056185,
          0.6624137952406912,
          0.6630995196722593,
          0.6639493472859034,
          0.6641265189077215,
          0.6641781576456898,
          0.6643670974707047,
          0.6644088331735056,
          0.6647427040050099,
          0.664844013941005,
          0.6651565472546811,
          0.6654747772846014,
          0.6655380732632485,
          0.6660380168073524,
          0.6671848495807126,
          0.6695718502311025,
          0.6709767027161471,
          0.6715304655179365,
          0.6717937313107317,
          0.6724746434627696,
          0.6728754672928415,
          0.6737667904567036,
          0.6742478243025056,
          0.6751760378317065,
          0.6764438707171039,
          0.6767548895248052,
          0.6828280744976242,
          0.6847662475399969,
          0.6862236920853138,
          0.6865186981586188,
          0.6876882443702453,
          0.693006219691398,
          0.6941204904180543
         ],
         "yaxis": "y"
        },
        {
         "hovertemplate": "site=Interior<br>run=Baseline Run<br>mean_u=%{x}<br>wc_height=%{y}<extra></extra>",
         "legendgroup": "Interior, Baseline Run",
         "marker": {
          "color": "#00cc96",
          "symbol": "diamond"
         },
         "mode": "markers",
         "name": "Interior, Baseline Run",
         "orientation": "v",
         "showlegend": true,
         "type": "scatter",
         "x": [
          12.267966275643186,
          11.704184378926797,
          11.754987705866252,
          12.268937714634541,
          12.584471112518097,
          12.632678067235405,
          14.304230138870242,
          11.927099673783966,
          12.43681291643437,
          12.613795336894194,
          12.842267952527006,
          13.034784092897246,
          12.234891457803208,
          12.684460637613892,
          12.669418446127429,
          12.920910057495092,
          13.032040821263658,
          13.079509417292295,
          12.267966275643186,
          11.704184378926797,
          11.754987705866252,
          12.268937714634541,
          12.584471112518097,
          12.632678067235405,
          14.304230138870242,
          11.927099673783966,
          12.43681291643437,
          12.613795336894194,
          12.842267952527006,
          13.034784092897246,
          12.234891457803208,
          12.684460637613892,
          12.669418446127429,
          12.920910057495092,
          13.032040821263658,
          13.079509417292295
         ],
         "xaxis": "x",
         "y": [
          0.6341999999999999,
          0.5775000000000001,
          0.5825,
          0.6343000000000001,
          0.6671999999999998,
          0.6722999999999999,
          0.8612,
          0.5996000000000001,
          0.6517,
          0.6703000000000001,
          0.6947000000000001,
          0.7155999999999998,
          0.6307999999999998,
          0.6778,
          0.6762000000000001,
          0.7031999999999998,
          0.7153,
          0.7204999999999999,
          0.6341999999999999,
          0.5775000000000001,
          0.5825,
          0.6343000000000001,
          0.6671999999999998,
          0.6722999999999999,
          0.8612,
          0.5996000000000001,
          0.6517,
          0.6703000000000001,
          0.6947000000000001,
          0.7155999999999998,
          0.6307999999999998,
          0.6778,
          0.6762000000000001,
          0.7031999999999998,
          0.7153,
          0.7204999999999999
         ],
         "yaxis": "y"
        },
        {
         "hovertemplate": "<b>OLS trendline</b><br>wc_height = 0.108124 * mean_u + -0.692137<br>R<sup>2</sup>=0.998511<br><br>site=Interior<br>run=Baseline Run<br>mean_u=%{x}<br>wc_height=%{y} <b>(trend)</b><extra></extra>",
         "legendgroup": "Interior, Baseline Run",
         "marker": {
          "color": "#00cc96",
          "symbol": "diamond"
         },
         "mode": "lines",
         "name": "Interior, Baseline Run",
         "showlegend": false,
         "type": "scatter",
         "x": [
          11.704184378926797,
          11.704184378926797,
          11.754987705866252,
          11.754987705866252,
          11.927099673783966,
          11.927099673783966,
          12.234891457803208,
          12.234891457803208,
          12.267966275643186,
          12.267966275643186,
          12.268937714634541,
          12.268937714634541,
          12.43681291643437,
          12.43681291643437,
          12.584471112518097,
          12.584471112518097,
          12.613795336894194,
          12.613795336894194,
          12.632678067235405,
          12.632678067235405,
          12.669418446127429,
          12.669418446127429,
          12.684460637613892,
          12.684460637613892,
          12.842267952527006,
          12.842267952527006,
          12.920910057495092,
          12.920910057495092,
          13.032040821263658,
          13.032040821263658,
          13.034784092897246,
          13.034784092897246,
          13.079509417292295,
          13.079509417292295,
          14.304230138870242,
          14.304230138870242
         ],
         "xaxis": "x",
         "y": [
          0.5733624177461123,
          0.5733624177461123,
          0.5788554619589716,
          0.5788554619589716,
          0.5974648465463415,
          0.5974648465463415,
          0.6307444362863486,
          0.6307444362863486,
          0.6343206083142905,
          0.6343206083142905,
          0.63442564390253,
          0.63442564390253,
          0.6525769336168452,
          0.6525769336168452,
          0.6685422856585641,
          0.6685422856585641,
          0.6717129296047308,
          0.6717129296047308,
          0.6737546004730064,
          0.6737546004730064,
          0.6777271065628458,
          0.6777271065628458,
          0.6793535241199462,
          0.6793535241199462,
          0.6964162365474884,
          0.6964162365474884,
          0.7049193127357238,
          0.7049193127357238,
          0.7169351832616255,
          0.7169351832616255,
          0.717231795969473,
          0.717231795969473,
          0.7220676639949917,
          0.7220676639949917,
          0.8544890127001652,
          0.8544890127001652
         ],
         "yaxis": "y"
        }
       ],
       "layout": {
        "autosize": true,
        "height": 500,
        "legend": {
         "title": {
          "text": "site, run"
         },
         "tracegroupgap": 0
        },
        "margin": {
         "t": 60
        },
        "template": {
         "data": {
          "bar": [
           {
            "error_x": {
             "color": "#f2f5fa"
            },
            "error_y": {
             "color": "#f2f5fa"
            },
            "marker": {
             "line": {
              "color": "rgb(17,17,17)",
              "width": 0.5
             },
             "pattern": {
              "fillmode": "overlay",
              "size": 10,
              "solidity": 0.2
             }
            },
            "type": "bar"
           }
          ],
          "barpolar": [
           {
            "marker": {
             "line": {
              "color": "rgb(17,17,17)",
              "width": 0.5
             },
             "pattern": {
              "fillmode": "overlay",
              "size": 10,
              "solidity": 0.2
             }
            },
            "type": "barpolar"
           }
          ],
          "carpet": [
           {
            "aaxis": {
             "endlinecolor": "#A2B1C6",
             "gridcolor": "#506784",
             "linecolor": "#506784",
             "minorgridcolor": "#506784",
             "startlinecolor": "#A2B1C6"
            },
            "baxis": {
             "endlinecolor": "#A2B1C6",
             "gridcolor": "#506784",
             "linecolor": "#506784",
             "minorgridcolor": "#506784",
             "startlinecolor": "#A2B1C6"
            },
            "type": "carpet"
           }
          ],
          "choropleth": [
           {
            "colorbar": {
             "outlinewidth": 0,
             "ticks": ""
            },
            "type": "choropleth"
           }
          ],
          "contour": [
           {
            "colorbar": {
             "outlinewidth": 0,
             "ticks": ""
            },
            "colorscale": [
             [
              0,
              "#0d0887"
             ],
             [
              0.1111111111111111,
              "#46039f"
             ],
             [
              0.2222222222222222,
              "#7201a8"
             ],
             [
              0.3333333333333333,
              "#9c179e"
             ],
             [
              0.4444444444444444,
              "#bd3786"
             ],
             [
              0.5555555555555556,
              "#d8576b"
             ],
             [
              0.6666666666666666,
              "#ed7953"
             ],
             [
              0.7777777777777778,
              "#fb9f3a"
             ],
             [
              0.8888888888888888,
              "#fdca26"
             ],
             [
              1,
              "#f0f921"
             ]
            ],
            "type": "contour"
           }
          ],
          "contourcarpet": [
           {
            "colorbar": {
             "outlinewidth": 0,
             "ticks": ""
            },
            "type": "contourcarpet"
           }
          ],
          "heatmap": [
           {
            "colorbar": {
             "outlinewidth": 0,
             "ticks": ""
            },
            "colorscale": [
             [
              0,
              "#0d0887"
             ],
             [
              0.1111111111111111,
              "#46039f"
             ],
             [
              0.2222222222222222,
              "#7201a8"
             ],
             [
              0.3333333333333333,
              "#9c179e"
             ],
             [
              0.4444444444444444,
              "#bd3786"
             ],
             [
              0.5555555555555556,
              "#d8576b"
             ],
             [
              0.6666666666666666,
              "#ed7953"
             ],
             [
              0.7777777777777778,
              "#fb9f3a"
             ],
             [
              0.8888888888888888,
              "#fdca26"
             ],
             [
              1,
              "#f0f921"
             ]
            ],
            "type": "heatmap"
           }
          ],
          "heatmapgl": [
           {
            "colorbar": {
             "outlinewidth": 0,
             "ticks": ""
            },
            "colorscale": [
             [
              0,
              "#0d0887"
             ],
             [
              0.1111111111111111,
              "#46039f"
             ],
             [
              0.2222222222222222,
              "#7201a8"
             ],
             [
              0.3333333333333333,
              "#9c179e"
             ],
             [
              0.4444444444444444,
              "#bd3786"
             ],
             [
              0.5555555555555556,
              "#d8576b"
             ],
             [
              0.6666666666666666,
              "#ed7953"
             ],
             [
              0.7777777777777778,
              "#fb9f3a"
             ],
             [
              0.8888888888888888,
              "#fdca26"
             ],
             [
              1,
              "#f0f921"
             ]
            ],
            "type": "heatmapgl"
           }
          ],
          "histogram": [
           {
            "marker": {
             "pattern": {
              "fillmode": "overlay",
              "size": 10,
              "solidity": 0.2
             }
            },
            "type": "histogram"
           }
          ],
          "histogram2d": [
           {
            "colorbar": {
             "outlinewidth": 0,
             "ticks": ""
            },
            "colorscale": [
             [
              0,
              "#0d0887"
             ],
             [
              0.1111111111111111,
              "#46039f"
             ],
             [
              0.2222222222222222,
              "#7201a8"
             ],
             [
              0.3333333333333333,
              "#9c179e"
             ],
             [
              0.4444444444444444,
              "#bd3786"
             ],
             [
              0.5555555555555556,
              "#d8576b"
             ],
             [
              0.6666666666666666,
              "#ed7953"
             ],
             [
              0.7777777777777778,
              "#fb9f3a"
             ],
             [
              0.8888888888888888,
              "#fdca26"
             ],
             [
              1,
              "#f0f921"
             ]
            ],
            "type": "histogram2d"
           }
          ],
          "histogram2dcontour": [
           {
            "colorbar": {
             "outlinewidth": 0,
             "ticks": ""
            },
            "colorscale": [
             [
              0,
              "#0d0887"
             ],
             [
              0.1111111111111111,
              "#46039f"
             ],
             [
              0.2222222222222222,
              "#7201a8"
             ],
             [
              0.3333333333333333,
              "#9c179e"
             ],
             [
              0.4444444444444444,
              "#bd3786"
             ],
             [
              0.5555555555555556,
              "#d8576b"
             ],
             [
              0.6666666666666666,
              "#ed7953"
             ],
             [
              0.7777777777777778,
              "#fb9f3a"
             ],
             [
              0.8888888888888888,
              "#fdca26"
             ],
             [
              1,
              "#f0f921"
             ]
            ],
            "type": "histogram2dcontour"
           }
          ],
          "mesh3d": [
           {
            "colorbar": {
             "outlinewidth": 0,
             "ticks": ""
            },
            "type": "mesh3d"
           }
          ],
          "parcoords": [
           {
            "line": {
             "colorbar": {
              "outlinewidth": 0,
              "ticks": ""
             }
            },
            "type": "parcoords"
           }
          ],
          "pie": [
           {
            "automargin": true,
            "type": "pie"
           }
          ],
          "scatter": [
           {
            "marker": {
             "line": {
              "color": "#283442"
             }
            },
            "type": "scatter"
           }
          ],
          "scatter3d": [
           {
            "line": {
             "colorbar": {
              "outlinewidth": 0,
              "ticks": ""
             }
            },
            "marker": {
             "colorbar": {
              "outlinewidth": 0,
              "ticks": ""
             }
            },
            "type": "scatter3d"
           }
          ],
          "scattercarpet": [
           {
            "marker": {
             "colorbar": {
              "outlinewidth": 0,
              "ticks": ""
             }
            },
            "type": "scattercarpet"
           }
          ],
          "scattergeo": [
           {
            "marker": {
             "colorbar": {
              "outlinewidth": 0,
              "ticks": ""
             }
            },
            "type": "scattergeo"
           }
          ],
          "scattergl": [
           {
            "marker": {
             "line": {
              "color": "#283442"
             }
            },
            "type": "scattergl"
           }
          ],
          "scattermapbox": [
           {
            "marker": {
             "colorbar": {
              "outlinewidth": 0,
              "ticks": ""
             }
            },
            "type": "scattermapbox"
           }
          ],
          "scatterpolar": [
           {
            "marker": {
             "colorbar": {
              "outlinewidth": 0,
              "ticks": ""
             }
            },
            "type": "scatterpolar"
           }
          ],
          "scatterpolargl": [
           {
            "marker": {
             "colorbar": {
              "outlinewidth": 0,
              "ticks": ""
             }
            },
            "type": "scatterpolargl"
           }
          ],
          "scatterternary": [
           {
            "marker": {
             "colorbar": {
              "outlinewidth": 0,
              "ticks": ""
             }
            },
            "type": "scatterternary"
           }
          ],
          "surface": [
           {
            "colorbar": {
             "outlinewidth": 0,
             "ticks": ""
            },
            "colorscale": [
             [
              0,
              "#0d0887"
             ],
             [
              0.1111111111111111,
              "#46039f"
             ],
             [
              0.2222222222222222,
              "#7201a8"
             ],
             [
              0.3333333333333333,
              "#9c179e"
             ],
             [
              0.4444444444444444,
              "#bd3786"
             ],
             [
              0.5555555555555556,
              "#d8576b"
             ],
             [
              0.6666666666666666,
              "#ed7953"
             ],
             [
              0.7777777777777778,
              "#fb9f3a"
             ],
             [
              0.8888888888888888,
              "#fdca26"
             ],
             [
              1,
              "#f0f921"
             ]
            ],
            "type": "surface"
           }
          ],
          "table": [
           {
            "cells": {
             "fill": {
              "color": "#506784"
             },
             "line": {
              "color": "rgb(17,17,17)"
             }
            },
            "header": {
             "fill": {
              "color": "#2a3f5f"
             },
             "line": {
              "color": "rgb(17,17,17)"
             }
            },
            "type": "table"
           }
          ]
         },
         "layout": {
          "annotationdefaults": {
           "arrowcolor": "#f2f5fa",
           "arrowhead": 0,
           "arrowwidth": 1
          },
          "autotypenumbers": "strict",
          "coloraxis": {
           "colorbar": {
            "outlinewidth": 0,
            "ticks": ""
           }
          },
          "colorscale": {
           "diverging": [
            [
             0,
             "#8e0152"
            ],
            [
             0.1,
             "#c51b7d"
            ],
            [
             0.2,
             "#de77ae"
            ],
            [
             0.3,
             "#f1b6da"
            ],
            [
             0.4,
             "#fde0ef"
            ],
            [
             0.5,
             "#f7f7f7"
            ],
            [
             0.6,
             "#e6f5d0"
            ],
            [
             0.7,
             "#b8e186"
            ],
            [
             0.8,
             "#7fbc41"
            ],
            [
             0.9,
             "#4d9221"
            ],
            [
             1,
             "#276419"
            ]
           ],
           "sequential": [
            [
             0,
             "#0d0887"
            ],
            [
             0.1111111111111111,
             "#46039f"
            ],
            [
             0.2222222222222222,
             "#7201a8"
            ],
            [
             0.3333333333333333,
             "#9c179e"
            ],
            [
             0.4444444444444444,
             "#bd3786"
            ],
            [
             0.5555555555555556,
             "#d8576b"
            ],
            [
             0.6666666666666666,
             "#ed7953"
            ],
            [
             0.7777777777777778,
             "#fb9f3a"
            ],
            [
             0.8888888888888888,
             "#fdca26"
            ],
            [
             1,
             "#f0f921"
            ]
           ],
           "sequentialminus": [
            [
             0,
             "#0d0887"
            ],
            [
             0.1111111111111111,
             "#46039f"
            ],
            [
             0.2222222222222222,
             "#7201a8"
            ],
            [
             0.3333333333333333,
             "#9c179e"
            ],
            [
             0.4444444444444444,
             "#bd3786"
            ],
            [
             0.5555555555555556,
             "#d8576b"
            ],
            [
             0.6666666666666666,
             "#ed7953"
            ],
            [
             0.7777777777777778,
             "#fb9f3a"
            ],
            [
             0.8888888888888888,
             "#fdca26"
            ],
            [
             1,
             "#f0f921"
            ]
           ]
          },
          "colorway": [
           "#636efa",
           "#EF553B",
           "#00cc96",
           "#ab63fa",
           "#FFA15A",
           "#19d3f3",
           "#FF6692",
           "#B6E880",
           "#FF97FF",
           "#FECB52"
          ],
          "font": {
           "color": "#f2f5fa"
          },
          "geo": {
           "bgcolor": "rgb(17,17,17)",
           "lakecolor": "rgb(17,17,17)",
           "landcolor": "rgb(17,17,17)",
           "showlakes": true,
           "showland": true,
           "subunitcolor": "#506784"
          },
          "hoverlabel": {
           "align": "left"
          },
          "hovermode": "closest",
          "mapbox": {
           "style": "dark"
          },
          "paper_bgcolor": "rgb(17,17,17)",
          "plot_bgcolor": "rgb(17,17,17)",
          "polar": {
           "angularaxis": {
            "gridcolor": "#506784",
            "linecolor": "#506784",
            "ticks": ""
           },
           "bgcolor": "rgb(17,17,17)",
           "radialaxis": {
            "gridcolor": "#506784",
            "linecolor": "#506784",
            "ticks": ""
           }
          },
          "scene": {
           "xaxis": {
            "backgroundcolor": "rgb(17,17,17)",
            "gridcolor": "#506784",
            "gridwidth": 2,
            "linecolor": "#506784",
            "showbackground": true,
            "ticks": "",
            "zerolinecolor": "#C8D4E3"
           },
           "yaxis": {
            "backgroundcolor": "rgb(17,17,17)",
            "gridcolor": "#506784",
            "gridwidth": 2,
            "linecolor": "#506784",
            "showbackground": true,
            "ticks": "",
            "zerolinecolor": "#C8D4E3"
           },
           "zaxis": {
            "backgroundcolor": "rgb(17,17,17)",
            "gridcolor": "#506784",
            "gridwidth": 2,
            "linecolor": "#506784",
            "showbackground": true,
            "ticks": "",
            "zerolinecolor": "#C8D4E3"
           }
          },
          "shapedefaults": {
           "line": {
            "color": "#f2f5fa"
           }
          },
          "sliderdefaults": {
           "bgcolor": "#C8D4E3",
           "bordercolor": "rgb(17,17,17)",
           "borderwidth": 1,
           "tickwidth": 0
          },
          "ternary": {
           "aaxis": {
            "gridcolor": "#506784",
            "linecolor": "#506784",
            "ticks": ""
           },
           "baxis": {
            "gridcolor": "#506784",
            "linecolor": "#506784",
            "ticks": ""
           },
           "bgcolor": "rgb(17,17,17)",
           "caxis": {
            "gridcolor": "#506784",
            "linecolor": "#506784",
            "ticks": ""
           }
          },
          "title": {
           "x": 0.05
          },
          "updatemenudefaults": {
           "bgcolor": "#506784",
           "borderwidth": 0
          },
          "xaxis": {
           "automargin": true,
           "gridcolor": "#283442",
           "linecolor": "#506784",
           "ticks": "",
           "title": {
            "standoff": 15
           },
           "zerolinecolor": "#283442",
           "zerolinewidth": 2
          },
          "yaxis": {
           "automargin": true,
           "gridcolor": "#283442",
           "linecolor": "#506784",
           "ticks": "",
           "title": {
            "standoff": 15
           },
           "zerolinecolor": "#283442",
           "zerolinewidth": 2
          }
         }
        },
        "xaxis": {
         "anchor": "y",
         "domain": [
          0,
          1
         ],
         "title": {
          "text": "mean_u"
         }
        },
        "yaxis": {
         "anchor": "x",
         "domain": [
          0,
          1
         ],
         "title": {
          "text": "wc_height"
         }
        }
       }
      }
     },
     "metadata": {},
     "output_type": "display_data"
    }
   ],
   "source": [
    "fig = px.scatter(dff, x='mean_u', y='wc_height', trendline='ols', symbol='run', color='site', template='plotly_dark')\n",
    "fig.update_layout(\n",
    "    height=500,\n",
    "    autosize=True,)\n",
    "fig.show()"
   ]
  },
  {
   "cell_type": "code",
   "execution_count": 78,
   "metadata": {},
   "outputs": [
    {
     "data": {
      "application/vnd.plotly.v1+json": {
       "config": {
        "plotlyServerURL": "https://plot.ly"
       },
       "data": [
        {
         "hovertemplate": "site=Bay<br>run=Vegetated Run<br>mean_u_25=%{x}<br>density_total=%{y}<extra></extra>",
         "legendgroup": "Bay, Vegetated Run",
         "marker": {
          "color": "#636efa",
          "symbol": "circle"
         },
         "mode": "markers",
         "name": "Bay, Vegetated Run",
         "orientation": "v",
         "showlegend": true,
         "type": "scatter",
         "x": [
          0.3734292352375515,
          0.004929030944210574,
          0.0016851723896683496,
          0.002885204398040054,
          0.03841700154945067,
          0.004118452433871988,
          0.0007558926536391336,
          0.005192999039757156,
          0.0019947016909549094,
          0.0005399224132622771,
          0.05266697989354076,
          0.0014214645829165955,
          0.3360911582760867,
          0.1142274096027529,
          -0.00024263728921717118,
          -0.0000019498706000150495,
          0.003515285940208214,
          0.09458165970530395,
          0.00006789165556886744,
          0.1506688760403536,
          0.0010616662941976237,
          0.0004144965818353142,
          0.0007777073642409654,
          0.013953741044151261,
          0.00031609807803285254,
          0.04350674434899822,
          0.0038371156023008163,
          0.03434991570494521,
          -0.0016972575679772544,
          -0.0004503517796941325,
          0.03757879727686975,
          0.02977885266902029,
          0.01154581581105171,
          0.40899210416094894,
          0.0004988001130047737,
          0.00025842501448899286,
          0.0019508137022803344,
          0.002122193037308142
         ],
         "xaxis": "x",
         "y": [
          630.481094184055,
          2837.16492382825,
          3467.6460180123,
          4728.60820638041,
          3467.6460180123,
          4728.60820638041,
          4098.12711219636,
          4098.12711219636,
          4413.36765928838,
          5359.08930056447,
          5359.08930056447,
          4728.60820638041,
          945.721641276082,
          3782.88656510433,
          4098.12711219636,
          5674.32984765649,
          5359.08930056447,
          5359.08930056447,
          5674.32984765649,
          315.240547092027,
          3467.6460180123,
          3467.6460180123,
          5989.57039474852,
          5043.84875347244,
          5989.57039474852,
          4413.36765928838,
          2837.16492382825,
          5989.57039474852,
          5674.32984765649,
          5674.32984765649,
          5043.84875347244,
          945.721641276082,
          1891.44328255216,
          2837.16492382825,
          4728.60820638041,
          5989.57039474852,
          5359.08930056447,
          5359.08930056447
         ],
         "yaxis": "y"
        },
        {
         "hovertemplate": "<b>OLS trendline</b><br>density_total = -8928.76 * mean_u_25 + 4623.21<br>R<sup>2</sup>=0.330387<br><br>site=Bay<br>run=Vegetated Run<br>mean_u_25=%{x}<br>density_total=%{y} <b>(trend)</b><extra></extra>",
         "legendgroup": "Bay, Vegetated Run",
         "marker": {
          "color": "#636efa",
          "symbol": "circle"
         },
         "mode": "lines",
         "name": "Bay, Vegetated Run",
         "showlegend": false,
         "type": "scatter",
         "x": [
          -0.0016972575679772544,
          -0.0004503517796941325,
          -0.00024263728921717118,
          -0.0000019498706000150495,
          0.00006789165556886744,
          0.00025842501448899286,
          0.00031609807803285254,
          0.0004144965818353142,
          0.0004988001130047737,
          0.0005399224132622771,
          0.0007558926536391336,
          0.0007777073642409654,
          0.0010616662941976237,
          0.0014214645829165955,
          0.0016851723896683496,
          0.0019508137022803344,
          0.0019947016909549094,
          0.002122193037308142,
          0.002885204398040054,
          0.003515285940208214,
          0.0038371156023008163,
          0.004118452433871988,
          0.004929030944210574,
          0.005192999039757156,
          0.01154581581105171,
          0.013953741044151261,
          0.02977885266902029,
          0.03434991570494521,
          0.03757879727686975,
          0.03841700154945067,
          0.04350674434899822,
          0.05266697989354076,
          0.09458165970530395,
          0.1142274096027529,
          0.1506688760403536,
          0.3360911582760867,
          0.3734292352375515,
          0.40899210416094894
         ],
         "xaxis": "x",
         "y": [
          4638.3678349399415,
          4627.234511219901,
          4625.379878187034,
          4623.230837760736,
          4622.60723946867,
          4620.906012652453,
          4620.391063654385,
          4619.512486935362,
          4618.759760857682,
          4618.3925896686615,
          4616.464243018414,
          4616.269464682095,
          4613.734063274778,
          4610.521510361907,
          4608.166926392807,
          4605.795078612071,
          4605.4032132522925,
          4604.264873496561,
          4597.452127448768,
          4591.826279975046,
          4588.9527398532055,
          4586.44075053558,
          4579.203288779521,
          4576.846380753992,
          4520.123598396625,
          4498.6238095868675,
          4357.325170763453,
          4316.511241594244,
          4287.6813298786155,
          4280.1972042952275,
          4234.752107503166,
          4152.962554012011,
          3778.7163973647316,
          3603.3041927005665,
          3277.927049940301,
          1622.3358156726545,
          1288.9530518728725,
          971.4206962947378
         ],
         "yaxis": "y"
        },
        {
         "hovertemplate": "site=Bay<br>run=Baseline Run<br>mean_u_25=%{x}<br>density_total=%{y}<extra></extra>",
         "legendgroup": "Bay, Baseline Run",
         "marker": {
          "color": "#636efa",
          "symbol": "diamond"
         },
         "mode": "markers",
         "name": "Bay, Baseline Run",
         "orientation": "v",
         "showlegend": true,
         "type": "scatter",
         "x": [
          11.434116546838538,
          9.474710819850497,
          10.45030590623715,
          10.454024082517174,
          10.638276172671308,
          11.022232522243687,
          11.43836434672227,
          10.361607100920704,
          10.570477212771559,
          10.662906294923475,
          10.998407090756528,
          11.352250573790563,
          10.89366965998431,
          10.311790962295648,
          10.059976293181483,
          10.258892227295387,
          10.222840772283014,
          10.62822531490318,
          10.819391041677104,
          11.434116546838538,
          9.474710819850497,
          10.45030590623715,
          10.454024082517174,
          10.638276172671308,
          11.022232522243687,
          11.43836434672227,
          10.361607100920704,
          10.570477212771559,
          10.662906294923475,
          10.998407090756528,
          11.352250573790563,
          10.89366965998431,
          10.311790962295648,
          10.059976293181483,
          10.258892227295387,
          10.222840772283014,
          10.62822531490318,
          10.819391041677104
         ],
         "xaxis": "x",
         "y": [
          630.481094184055,
          2837.16492382825,
          3467.6460180123,
          4728.60820638041,
          3467.6460180123,
          4728.60820638041,
          4098.12711219636,
          4098.12711219636,
          4413.36765928838,
          5359.08930056447,
          5359.08930056447,
          4728.60820638041,
          945.721641276082,
          3782.88656510433,
          4098.12711219636,
          5674.32984765649,
          5359.08930056447,
          5359.08930056447,
          5674.32984765649,
          315.240547092027,
          3467.6460180123,
          3467.6460180123,
          5989.57039474852,
          5043.84875347244,
          5989.57039474852,
          4413.36765928838,
          2837.16492382825,
          5989.57039474852,
          5674.32984765649,
          5674.32984765649,
          5043.84875347244,
          945.721641276082,
          1891.44328255216,
          2837.16492382825,
          4728.60820638041,
          5989.57039474852,
          5359.08930056447,
          5359.08930056447
         ],
         "yaxis": "y"
        },
        {
         "hovertemplate": "<b>OLS trendline</b><br>density_total = -210.386 * mean_u_25 + 6443.29<br>R<sup>2</sup>=0.004143<br><br>site=Bay<br>run=Baseline Run<br>mean_u_25=%{x}<br>density_total=%{y} <b>(trend)</b><extra></extra>",
         "legendgroup": "Bay, Baseline Run",
         "marker": {
          "color": "#636efa",
          "symbol": "diamond"
         },
         "mode": "lines",
         "name": "Bay, Baseline Run",
         "showlegend": false,
         "type": "scatter",
         "x": [
          9.474710819850497,
          9.474710819850497,
          10.059976293181483,
          10.059976293181483,
          10.222840772283014,
          10.222840772283014,
          10.258892227295387,
          10.258892227295387,
          10.311790962295648,
          10.311790962295648,
          10.361607100920704,
          10.361607100920704,
          10.45030590623715,
          10.45030590623715,
          10.454024082517174,
          10.454024082517174,
          10.570477212771559,
          10.570477212771559,
          10.62822531490318,
          10.62822531490318,
          10.638276172671308,
          10.638276172671308,
          10.662906294923475,
          10.662906294923475,
          10.819391041677104,
          10.819391041677104,
          10.89366965998431,
          10.89366965998431,
          10.998407090756528,
          10.998407090756528,
          11.022232522243687,
          11.022232522243687,
          11.352250573790563,
          11.352250573790563,
          11.434116546838538,
          11.434116546838538,
          11.43836434672227,
          11.43836434672227
         ],
         "xaxis": "x",
         "y": [
          4449.9426793780385,
          4449.9426793780385,
          4326.810857291301,
          4326.810857291301,
          4292.546406407423,
          4292.546406407423,
          4284.961675124221,
          4284.961675124221,
          4273.8325073815995,
          4273.8325073815995,
          4263.351875603821,
          4263.351875603821,
          4244.690864467506,
          4244.690864467506,
          4243.908611214818,
          4243.908611214818,
          4219.408471074452,
          4219.408471074452,
          4207.259063051033,
          4207.259063051033,
          4205.144500537238,
          4205.144500537238,
          4199.962660894677,
          4199.962660894677,
          4167.040418126977,
          4167.040418126977,
          4151.413216402266,
          4151.413216402266,
          4129.37789862029,
          4129.37789862029,
          4124.365354869298,
          4124.365354869298,
          4054.9340867351852,
          4054.9340867351852,
          4037.7106097189694,
          4037.7106097189694,
          4036.816930929809,
          4036.816930929809
         ],
         "yaxis": "y"
        },
        {
         "hovertemplate": "site=Creek<br>run=Vegetated Run<br>mean_u_25=%{x}<br>density_total=%{y}<extra></extra>",
         "legendgroup": "Creek, Vegetated Run",
         "marker": {
          "color": "#EF553B",
          "symbol": "circle"
         },
         "mode": "markers",
         "name": "Creek, Vegetated Run",
         "orientation": "v",
         "showlegend": true,
         "type": "scatter",
         "x": [
          0.016934590886659544,
          0.006372730534849795,
          -0.00004586971869447415,
          0.0257482748586637,
          0.054628235996303995,
          0.07992236653358013,
          0.0019166251908948073,
          0.0025404937746195803,
          0.024456850355965464,
          0.004022797820505777,
          0.0030476236767782838,
          0.04557546520054787,
          0.031699094217129145,
          0.003574960869766075,
          0.004166883074029617,
          0.013617114402965452,
          0.003167432173020364,
          0.040300510765857736,
          0.008814516874630529,
          -0.0003413742422504161,
          0.08827206686418901,
          0.00129690605988384,
          0.18789655871882474,
          0.060720189409911196,
          -0.0002683030852027232,
          0.0523803101757719,
          0.017489446230999663,
          0.024256918183687592,
          0.31800307518738613,
          0.27071813883927864,
          0.03706477951504408,
          0.004843063591332699,
          0.0023385296985131607,
          0.0774222310331337
         ],
         "xaxis": "x",
         "y": [
          5359.08930056447,
          5989.57039474852,
          4728.60820638041,
          5043.84875347244,
          5674.3298476565,
          5989.57039474852,
          4098.12711219636,
          4728.60820638041,
          5989.57039474852,
          4728.60820638041,
          5674.32984765649,
          5674.32984765649,
          5989.57039474852,
          4728.60820638041,
          5674.32984765649,
          5043.84875347244,
          5359.08930056447,
          4413.36765928838,
          5674.32984765649,
          3782.88656510433,
          5359.08930056447,
          5043.84875347244,
          5043.84875347244,
          5043.84875347244,
          5359.08930056447,
          3782.88656510433,
          5043.84875347244,
          4413.36765928838,
          5359.08930056447,
          5674.32984765649,
          4413.36765928838,
          4413.36765928838,
          5359.08930056447,
          5674.32984765649
         ],
         "yaxis": "y"
        },
        {
         "hovertemplate": "<b>OLS trendline</b><br>density_total = 1650.21 * mean_u_25 + 5053.88<br>R<sup>2</sup>=0.038553<br><br>site=Creek<br>run=Vegetated Run<br>mean_u_25=%{x}<br>density_total=%{y} <b>(trend)</b><extra></extra>",
         "legendgroup": "Creek, Vegetated Run",
         "marker": {
          "color": "#EF553B",
          "symbol": "circle"
         },
         "mode": "lines",
         "name": "Creek, Vegetated Run",
         "showlegend": false,
         "type": "scatter",
         "x": [
          -0.0003413742422504161,
          -0.0002683030852027232,
          -0.00004586971869447415,
          0.00129690605988384,
          0.0019166251908948073,
          0.0023385296985131607,
          0.0025404937746195803,
          0.0030476236767782838,
          0.003167432173020364,
          0.003574960869766075,
          0.004022797820505777,
          0.004166883074029617,
          0.004843063591332699,
          0.006372730534849795,
          0.008814516874630529,
          0.013617114402965452,
          0.016934590886659544,
          0.017489446230999663,
          0.024256918183687592,
          0.024456850355965464,
          0.0257482748586637,
          0.031699094217129145,
          0.03706477951504408,
          0.040300510765857736,
          0.04557546520054787,
          0.0523803101757719,
          0.054628235996303995,
          0.060720189409911196,
          0.0774222310331337,
          0.07992236653358013,
          0.08827206686418901,
          0.18789655871882474,
          0.27071813883927864,
          0.31800307518738613
         ],
         "xaxis": "x",
         "y": [
          5053.318992161743,
          5053.439574570838,
          5053.806635286448,
          5056.02249096461,
          5057.045154746027,
          5057.741383791682,
          5058.074665976217,
          5058.911534417837,
          5059.10924303079,
          5059.781749037455,
          5060.520771937643,
          5060.758542183617,
          5061.8743788427455,
          5064.398643307865,
          5068.428092015667,
          5076.3533638092595,
          5081.827881015211,
          5082.743506233455,
          5093.911224174451,
          5094.241153300562,
          5096.372268832189,
          5106.192342351187,
          5115.0468245546135,
          5120.386445345742,
          5129.091202999717,
          5140.320594099789,
          5144.03013315536,
          5154.083106837184,
          5181.644904091892,
          5185.770640892643,
          5199.549360455277,
          5363.950222819495,
          5500.622831539418,
          5578.652683112552
         ],
         "yaxis": "y"
        },
        {
         "hovertemplate": "site=Creek<br>run=Baseline Run<br>mean_u_25=%{x}<br>density_total=%{y}<extra></extra>",
         "legendgroup": "Creek, Baseline Run",
         "marker": {
          "color": "#EF553B",
          "symbol": "diamond"
         },
         "mode": "markers",
         "name": "Creek, Baseline Run",
         "orientation": "v",
         "showlegend": true,
         "type": "scatter",
         "x": [
          12.473651459982452,
          11.164987655830519,
          11.50020355222584,
          11.508648800258582,
          11.60532745059137,
          12.019055578951342,
          11.962336225796175,
          11.419662208588123,
          11.453643382441,
          11.554987334957696,
          11.52383465046621,
          12.8617397368975,
          13.492157635653905,
          11.350538754053648,
          11.320540008199771,
          11.405189552044186,
          11.374480787194233,
          12.473651459982452,
          11.164987655830519,
          11.50020355222584,
          11.508648800258582,
          11.60532745059137,
          12.019055578951342,
          11.962336225796175,
          11.419662208588123,
          11.453643382441,
          11.554987334957696,
          11.52383465046621,
          12.8617397368975,
          13.492157635653905,
          11.350538754053648,
          11.320540008199771,
          11.405189552044186,
          11.374480787194233
         ],
         "xaxis": "x",
         "y": [
          5359.08930056447,
          5989.57039474852,
          4728.60820638041,
          5043.84875347244,
          5674.3298476565,
          5989.57039474852,
          4098.12711219636,
          4728.60820638041,
          5989.57039474852,
          4728.60820638041,
          5674.32984765649,
          5674.32984765649,
          5989.57039474852,
          4728.60820638041,
          5674.32984765649,
          5043.84875347244,
          5359.08930056447,
          4413.36765928838,
          5674.32984765649,
          3782.88656510433,
          5359.08930056447,
          5043.84875347244,
          5043.84875347244,
          5043.84875347244,
          5359.08930056447,
          3782.88656510433,
          5043.84875347244,
          4413.36765928838,
          5359.08930056447,
          5674.32984765649,
          4413.36765928838,
          4413.36765928838,
          5359.08930056447,
          5674.32984765649
         ],
         "yaxis": "y"
        },
        {
         "hovertemplate": "<b>OLS trendline</b><br>density_total = 235.24 * mean_u_25 + 2359.9<br>R<sup>2</sup>=0.054401<br><br>site=Creek<br>run=Baseline Run<br>mean_u_25=%{x}<br>density_total=%{y} <b>(trend)</b><extra></extra>",
         "legendgroup": "Creek, Baseline Run",
         "marker": {
          "color": "#EF553B",
          "symbol": "diamond"
         },
         "mode": "lines",
         "name": "Creek, Baseline Run",
         "showlegend": false,
         "type": "scatter",
         "x": [
          11.164987655830519,
          11.164987655830519,
          11.320540008199771,
          11.320540008199771,
          11.350538754053648,
          11.350538754053648,
          11.374480787194233,
          11.374480787194233,
          11.405189552044186,
          11.405189552044186,
          11.419662208588123,
          11.419662208588123,
          11.453643382441,
          11.453643382441,
          11.50020355222584,
          11.50020355222584,
          11.508648800258582,
          11.508648800258582,
          11.52383465046621,
          11.52383465046621,
          11.554987334957696,
          11.554987334957696,
          11.60532745059137,
          11.60532745059137,
          11.962336225796175,
          11.962336225796175,
          12.019055578951342,
          12.019055578951342,
          12.473651459982452,
          12.473651459982452,
          12.8617397368975,
          12.8617397368975,
          13.492157635653905,
          13.492157635653905
         ],
         "xaxis": "x",
         "y": [
          4986.34211393955,
          4986.34211393955,
          5022.9341715878945,
          5022.9341715878945,
          5029.9910615734425,
          5029.9910615734425,
          5035.623173486602,
          5035.623173486602,
          5042.8470879860215,
          5042.8470879860215,
          5046.251628480037,
          5046.251628480037,
          5054.245342838217,
          5054.245342838217,
          5065.198133914235,
          5065.198133914235,
          5067.18478984172,
          5067.18478984172,
          5070.757101656829,
          5070.757101656829,
          5078.085443590914,
          5078.085443590914,
          5089.927427239731,
          5089.927427239731,
          5173.909993136571,
          5173.909993136571,
          5187.252625432506,
          5187.252625432506,
          5294.191533343734,
          5294.191533343734,
          5385.485225693765,
          5385.485225693765,
          5533.784417203789,
          5533.784417203789
         ],
         "yaxis": "y"
        },
        {
         "hovertemplate": "site=Interior<br>run=Vegetated Run<br>mean_u_25=%{x}<br>density_total=%{y}<extra></extra>",
         "legendgroup": "Interior, Vegetated Run",
         "marker": {
          "color": "#00cc96",
          "symbol": "circle"
         },
         "mode": "markers",
         "name": "Interior, Vegetated Run",
         "orientation": "v",
         "showlegend": true,
         "type": "scatter",
         "x": [
          0.0015746731632190157,
          0.006789610594777985,
          0.0014610623283258745,
          0.00992456527611634,
          0.0054448029798137825,
          0.01635967806290349,
          0.20072500427280965,
          0.2196626453136564,
          0.052856819411373546,
          0.023865710947378035,
          0.0028308942383308013,
          -0.00016430959319379895,
          0.1048055342761284,
          0.2898613377739972,
          -0.000290117664191229,
          0.0025519313052247395,
          0.0005411168303500153,
          0.000023395695846995027,
          0.46126071704246374,
          0.26948721896359634,
          -0.00012407115160255873,
          0.0003542568890536012,
          -0.0001042425262878452,
          -0.000060104387769113625,
          0.36207772981973035,
          0.31570041532012644,
          0.07694756328309241,
          0.058714588438223435,
          0.0005679014937473774,
          0.042245954873329924,
          0.03361021314719008,
          0.010095908034088294,
          -0.00016244868360976877,
          0.051000534426177344,
          0.0008122283121855901,
          0.0788035800740835
         ],
         "xaxis": "x",
         "y": [
          5674.32984765649,
          5359.08930056447,
          4413.36765928838,
          5043.84875347244,
          5674.32984765649,
          5359.08930056447,
          5043.84875347244,
          5989.57039474852,
          3782.88656510433,
          4098.12711219636,
          4728.60820638041,
          5359.08930056447,
          5674.32984765649,
          4413.36765928838,
          5359.08930056447,
          5989.57039474852,
          5674.32984765649,
          5674.3298476565,
          4413.36765928838,
          4098.12711219636,
          4728.60820638041,
          5359.08930056447,
          5674.32984765649,
          5359.08930056447,
          4098.12711219636,
          5043.84875347244,
          4728.60820638041,
          4728.60820638041,
          5674.32984765649,
          5359.08930056447,
          5359.08930056447,
          4728.60820638041,
          5043.84875347244,
          4098.12711219636,
          5359.08930056447,
          5359.08930056447
         ],
         "yaxis": "y"
        },
        {
         "hovertemplate": "<b>OLS trendline</b><br>density_total = -1894.63 * mean_u_25 + 5212.22<br>R<sup>2</sup>=0.151206<br><br>site=Interior<br>run=Vegetated Run<br>mean_u_25=%{x}<br>density_total=%{y} <b>(trend)</b><extra></extra>",
         "legendgroup": "Interior, Vegetated Run",
         "marker": {
          "color": "#00cc96",
          "symbol": "circle"
         },
         "mode": "lines",
         "name": "Interior, Vegetated Run",
         "showlegend": false,
         "type": "scatter",
         "x": [
          -0.000290117664191229,
          -0.00016430959319379895,
          -0.00016244868360976877,
          -0.00012407115160255873,
          -0.0001042425262878452,
          -0.000060104387769113625,
          0.000023395695846995027,
          0.0003542568890536012,
          0.0005411168303500153,
          0.0005679014937473774,
          0.0008122283121855901,
          0.0014610623283258745,
          0.0015746731632190157,
          0.0025519313052247395,
          0.0028308942383308013,
          0.0054448029798137825,
          0.006789610594777985,
          0.00992456527611634,
          0.010095908034088294,
          0.01635967806290349,
          0.023865710947378035,
          0.03361021314719008,
          0.042245954873329924,
          0.051000534426177344,
          0.052856819411373546,
          0.058714588438223435,
          0.07694756328309241,
          0.0788035800740835,
          0.1048055342761284,
          0.20072500427280965,
          0.2196626453136564,
          0.26948721896359634,
          0.2898613377739972,
          0.31570041532012644,
          0.36207772981973035,
          0.46126071704246374
         ],
         "xaxis": "x",
         "y": [
          5212.768292523414,
          5212.52993306956,
          5212.52640733875,
          5212.453696204265,
          5212.41612834186,
          5212.332503002817,
          5212.1743014329995,
          5211.547442657653,
          5211.19341264033,
          5211.14266567562,
          5210.679757322102,
          5209.450458434495,
          5209.235208201801,
          5207.383667874093,
          5206.855136978948,
          5201.9027531207075,
          5199.354843387253,
          5193.415271468086,
          5193.090640735827,
          5181.223128649373,
          5167.001990969025,
          5148.539787359897,
          5132.178272036219,
          5115.591603276464,
          5112.0746343589635,
          5100.976343009505,
          5066.4316441543315,
          5062.915183364996,
          5013.65116116357,
          4831.919478123614,
          4796.0396991874,
          4701.640682736776,
          4663.039313254665,
          4614.08388167419,
          4526.216137834716,
          4338.301304719589
         ],
         "yaxis": "y"
        },
        {
         "hovertemplate": "site=Interior<br>run=Baseline Run<br>mean_u_25=%{x}<br>density_total=%{y}<extra></extra>",
         "legendgroup": "Interior, Baseline Run",
         "marker": {
          "color": "#00cc96",
          "symbol": "diamond"
         },
         "mode": "markers",
         "name": "Interior, Baseline Run",
         "orientation": "v",
         "showlegend": true,
         "type": "scatter",
         "x": [
          11.074117120333446,
          10.564960931548402,
          10.610842319010464,
          11.074994425515872,
          11.35995057051224,
          11.403485679015631,
          12.91300486798032,
          10.766278978350103,
          11.226601817789735,
          11.386432925747325,
          11.592762914696792,
          11.766620000325165,
          11.044247280211106,
          11.45024980307172,
          11.436665416090609,
          11.663782994882144,
          11.764142619491881,
          11.807010306305619,
          11.074117120333446,
          10.564960931548402,
          10.610842319010464,
          11.074994425515872,
          11.35995057051224,
          11.403485679015631,
          12.91300486798032,
          10.766278978350103,
          11.226601817789735,
          11.386432925747325,
          11.592762914696792,
          11.766620000325165,
          11.044247280211106,
          11.45024980307172,
          11.436665416090609,
          11.663782994882144,
          11.764142619491881,
          11.807010306305619
         ],
         "xaxis": "x",
         "y": [
          5674.32984765649,
          5359.08930056447,
          4413.36765928838,
          5043.84875347244,
          5674.32984765649,
          5359.08930056447,
          5043.84875347244,
          5989.57039474852,
          3782.88656510433,
          4098.12711219636,
          4728.60820638041,
          5359.08930056447,
          5674.32984765649,
          4413.36765928838,
          5359.08930056447,
          5989.57039474852,
          5674.32984765649,
          5674.3298476565,
          4413.36765928838,
          4098.12711219636,
          4728.60820638041,
          5359.08930056447,
          5674.32984765649,
          5359.08930056447,
          4098.12711219636,
          5043.84875347244,
          4728.60820638041,
          4728.60820638041,
          5674.32984765649,
          5359.08930056447,
          5359.08930056447,
          4728.60820638041,
          5043.84875347244,
          4098.12711219636,
          5359.08930056447,
          5359.08930056447
         ],
         "yaxis": "y"
        },
        {
         "hovertemplate": "<b>OLS trendline</b><br>density_total = 4.72565 * mean_u_25 + 5016.32<br>R<sup>2</sup>=0.000018<br><br>site=Interior<br>run=Baseline Run<br>mean_u_25=%{x}<br>density_total=%{y} <b>(trend)</b><extra></extra>",
         "legendgroup": "Interior, Baseline Run",
         "marker": {
          "color": "#00cc96",
          "symbol": "diamond"
         },
         "mode": "lines",
         "name": "Interior, Baseline Run",
         "showlegend": false,
         "type": "scatter",
         "x": [
          10.564960931548402,
          10.564960931548402,
          10.610842319010464,
          10.610842319010464,
          10.766278978350103,
          10.766278978350103,
          11.044247280211106,
          11.044247280211106,
          11.074117120333446,
          11.074117120333446,
          11.074994425515872,
          11.074994425515872,
          11.226601817789735,
          11.226601817789735,
          11.35995057051224,
          11.35995057051224,
          11.386432925747325,
          11.386432925747325,
          11.403485679015631,
          11.403485679015631,
          11.436665416090609,
          11.436665416090609,
          11.45024980307172,
          11.45024980307172,
          11.592762914696792,
          11.592762914696792,
          11.663782994882144,
          11.663782994882144,
          11.764142619491881,
          11.764142619491881,
          11.766620000325165,
          11.766620000325165,
          11.807010306305619,
          11.807010306305619,
          12.91300486798032,
          12.91300486798032
         ],
         "xaxis": "x",
         "y": [
          5066.249840477297,
          5066.249840477297,
          5066.466659978892,
          5066.466659978892,
          5067.201199644579,
          5067.201199644579,
          5068.51478129506,
          5068.51478129506,
          5068.655935785068,
          5068.655935785068,
          5068.660081624654,
          5068.660081624654,
          5069.376525504172,
          5069.376525504172,
          5070.006685394771,
          5070.006685394771,
          5070.131831807745,
          5070.131831807745,
          5070.212417196919,
          5070.212417196919,
          5070.369213110329,
          5070.369213110329,
          5070.433408205065,
          5070.433408205065,
          5071.106875672867,
          5071.106875672867,
          5071.442491905087,
          5071.442491905087,
          5071.916756634029,
          5071.916756634029,
          5071.928463875402,
          5071.928463875402,
          5072.11933443308,
          5072.11933443308,
          5077.345880596874,
          5077.345880596874
         ],
         "yaxis": "y"
        }
       ],
       "layout": {
        "autosize": true,
        "height": 500,
        "legend": {
         "title": {
          "text": "site, run"
         },
         "tracegroupgap": 0
        },
        "margin": {
         "t": 60
        },
        "template": {
         "data": {
          "bar": [
           {
            "error_x": {
             "color": "#f2f5fa"
            },
            "error_y": {
             "color": "#f2f5fa"
            },
            "marker": {
             "line": {
              "color": "rgb(17,17,17)",
              "width": 0.5
             },
             "pattern": {
              "fillmode": "overlay",
              "size": 10,
              "solidity": 0.2
             }
            },
            "type": "bar"
           }
          ],
          "barpolar": [
           {
            "marker": {
             "line": {
              "color": "rgb(17,17,17)",
              "width": 0.5
             },
             "pattern": {
              "fillmode": "overlay",
              "size": 10,
              "solidity": 0.2
             }
            },
            "type": "barpolar"
           }
          ],
          "carpet": [
           {
            "aaxis": {
             "endlinecolor": "#A2B1C6",
             "gridcolor": "#506784",
             "linecolor": "#506784",
             "minorgridcolor": "#506784",
             "startlinecolor": "#A2B1C6"
            },
            "baxis": {
             "endlinecolor": "#A2B1C6",
             "gridcolor": "#506784",
             "linecolor": "#506784",
             "minorgridcolor": "#506784",
             "startlinecolor": "#A2B1C6"
            },
            "type": "carpet"
           }
          ],
          "choropleth": [
           {
            "colorbar": {
             "outlinewidth": 0,
             "ticks": ""
            },
            "type": "choropleth"
           }
          ],
          "contour": [
           {
            "colorbar": {
             "outlinewidth": 0,
             "ticks": ""
            },
            "colorscale": [
             [
              0,
              "#0d0887"
             ],
             [
              0.1111111111111111,
              "#46039f"
             ],
             [
              0.2222222222222222,
              "#7201a8"
             ],
             [
              0.3333333333333333,
              "#9c179e"
             ],
             [
              0.4444444444444444,
              "#bd3786"
             ],
             [
              0.5555555555555556,
              "#d8576b"
             ],
             [
              0.6666666666666666,
              "#ed7953"
             ],
             [
              0.7777777777777778,
              "#fb9f3a"
             ],
             [
              0.8888888888888888,
              "#fdca26"
             ],
             [
              1,
              "#f0f921"
             ]
            ],
            "type": "contour"
           }
          ],
          "contourcarpet": [
           {
            "colorbar": {
             "outlinewidth": 0,
             "ticks": ""
            },
            "type": "contourcarpet"
           }
          ],
          "heatmap": [
           {
            "colorbar": {
             "outlinewidth": 0,
             "ticks": ""
            },
            "colorscale": [
             [
              0,
              "#0d0887"
             ],
             [
              0.1111111111111111,
              "#46039f"
             ],
             [
              0.2222222222222222,
              "#7201a8"
             ],
             [
              0.3333333333333333,
              "#9c179e"
             ],
             [
              0.4444444444444444,
              "#bd3786"
             ],
             [
              0.5555555555555556,
              "#d8576b"
             ],
             [
              0.6666666666666666,
              "#ed7953"
             ],
             [
              0.7777777777777778,
              "#fb9f3a"
             ],
             [
              0.8888888888888888,
              "#fdca26"
             ],
             [
              1,
              "#f0f921"
             ]
            ],
            "type": "heatmap"
           }
          ],
          "heatmapgl": [
           {
            "colorbar": {
             "outlinewidth": 0,
             "ticks": ""
            },
            "colorscale": [
             [
              0,
              "#0d0887"
             ],
             [
              0.1111111111111111,
              "#46039f"
             ],
             [
              0.2222222222222222,
              "#7201a8"
             ],
             [
              0.3333333333333333,
              "#9c179e"
             ],
             [
              0.4444444444444444,
              "#bd3786"
             ],
             [
              0.5555555555555556,
              "#d8576b"
             ],
             [
              0.6666666666666666,
              "#ed7953"
             ],
             [
              0.7777777777777778,
              "#fb9f3a"
             ],
             [
              0.8888888888888888,
              "#fdca26"
             ],
             [
              1,
              "#f0f921"
             ]
            ],
            "type": "heatmapgl"
           }
          ],
          "histogram": [
           {
            "marker": {
             "pattern": {
              "fillmode": "overlay",
              "size": 10,
              "solidity": 0.2
             }
            },
            "type": "histogram"
           }
          ],
          "histogram2d": [
           {
            "colorbar": {
             "outlinewidth": 0,
             "ticks": ""
            },
            "colorscale": [
             [
              0,
              "#0d0887"
             ],
             [
              0.1111111111111111,
              "#46039f"
             ],
             [
              0.2222222222222222,
              "#7201a8"
             ],
             [
              0.3333333333333333,
              "#9c179e"
             ],
             [
              0.4444444444444444,
              "#bd3786"
             ],
             [
              0.5555555555555556,
              "#d8576b"
             ],
             [
              0.6666666666666666,
              "#ed7953"
             ],
             [
              0.7777777777777778,
              "#fb9f3a"
             ],
             [
              0.8888888888888888,
              "#fdca26"
             ],
             [
              1,
              "#f0f921"
             ]
            ],
            "type": "histogram2d"
           }
          ],
          "histogram2dcontour": [
           {
            "colorbar": {
             "outlinewidth": 0,
             "ticks": ""
            },
            "colorscale": [
             [
              0,
              "#0d0887"
             ],
             [
              0.1111111111111111,
              "#46039f"
             ],
             [
              0.2222222222222222,
              "#7201a8"
             ],
             [
              0.3333333333333333,
              "#9c179e"
             ],
             [
              0.4444444444444444,
              "#bd3786"
             ],
             [
              0.5555555555555556,
              "#d8576b"
             ],
             [
              0.6666666666666666,
              "#ed7953"
             ],
             [
              0.7777777777777778,
              "#fb9f3a"
             ],
             [
              0.8888888888888888,
              "#fdca26"
             ],
             [
              1,
              "#f0f921"
             ]
            ],
            "type": "histogram2dcontour"
           }
          ],
          "mesh3d": [
           {
            "colorbar": {
             "outlinewidth": 0,
             "ticks": ""
            },
            "type": "mesh3d"
           }
          ],
          "parcoords": [
           {
            "line": {
             "colorbar": {
              "outlinewidth": 0,
              "ticks": ""
             }
            },
            "type": "parcoords"
           }
          ],
          "pie": [
           {
            "automargin": true,
            "type": "pie"
           }
          ],
          "scatter": [
           {
            "marker": {
             "line": {
              "color": "#283442"
             }
            },
            "type": "scatter"
           }
          ],
          "scatter3d": [
           {
            "line": {
             "colorbar": {
              "outlinewidth": 0,
              "ticks": ""
             }
            },
            "marker": {
             "colorbar": {
              "outlinewidth": 0,
              "ticks": ""
             }
            },
            "type": "scatter3d"
           }
          ],
          "scattercarpet": [
           {
            "marker": {
             "colorbar": {
              "outlinewidth": 0,
              "ticks": ""
             }
            },
            "type": "scattercarpet"
           }
          ],
          "scattergeo": [
           {
            "marker": {
             "colorbar": {
              "outlinewidth": 0,
              "ticks": ""
             }
            },
            "type": "scattergeo"
           }
          ],
          "scattergl": [
           {
            "marker": {
             "line": {
              "color": "#283442"
             }
            },
            "type": "scattergl"
           }
          ],
          "scattermapbox": [
           {
            "marker": {
             "colorbar": {
              "outlinewidth": 0,
              "ticks": ""
             }
            },
            "type": "scattermapbox"
           }
          ],
          "scatterpolar": [
           {
            "marker": {
             "colorbar": {
              "outlinewidth": 0,
              "ticks": ""
             }
            },
            "type": "scatterpolar"
           }
          ],
          "scatterpolargl": [
           {
            "marker": {
             "colorbar": {
              "outlinewidth": 0,
              "ticks": ""
             }
            },
            "type": "scatterpolargl"
           }
          ],
          "scatterternary": [
           {
            "marker": {
             "colorbar": {
              "outlinewidth": 0,
              "ticks": ""
             }
            },
            "type": "scatterternary"
           }
          ],
          "surface": [
           {
            "colorbar": {
             "outlinewidth": 0,
             "ticks": ""
            },
            "colorscale": [
             [
              0,
              "#0d0887"
             ],
             [
              0.1111111111111111,
              "#46039f"
             ],
             [
              0.2222222222222222,
              "#7201a8"
             ],
             [
              0.3333333333333333,
              "#9c179e"
             ],
             [
              0.4444444444444444,
              "#bd3786"
             ],
             [
              0.5555555555555556,
              "#d8576b"
             ],
             [
              0.6666666666666666,
              "#ed7953"
             ],
             [
              0.7777777777777778,
              "#fb9f3a"
             ],
             [
              0.8888888888888888,
              "#fdca26"
             ],
             [
              1,
              "#f0f921"
             ]
            ],
            "type": "surface"
           }
          ],
          "table": [
           {
            "cells": {
             "fill": {
              "color": "#506784"
             },
             "line": {
              "color": "rgb(17,17,17)"
             }
            },
            "header": {
             "fill": {
              "color": "#2a3f5f"
             },
             "line": {
              "color": "rgb(17,17,17)"
             }
            },
            "type": "table"
           }
          ]
         },
         "layout": {
          "annotationdefaults": {
           "arrowcolor": "#f2f5fa",
           "arrowhead": 0,
           "arrowwidth": 1
          },
          "autotypenumbers": "strict",
          "coloraxis": {
           "colorbar": {
            "outlinewidth": 0,
            "ticks": ""
           }
          },
          "colorscale": {
           "diverging": [
            [
             0,
             "#8e0152"
            ],
            [
             0.1,
             "#c51b7d"
            ],
            [
             0.2,
             "#de77ae"
            ],
            [
             0.3,
             "#f1b6da"
            ],
            [
             0.4,
             "#fde0ef"
            ],
            [
             0.5,
             "#f7f7f7"
            ],
            [
             0.6,
             "#e6f5d0"
            ],
            [
             0.7,
             "#b8e186"
            ],
            [
             0.8,
             "#7fbc41"
            ],
            [
             0.9,
             "#4d9221"
            ],
            [
             1,
             "#276419"
            ]
           ],
           "sequential": [
            [
             0,
             "#0d0887"
            ],
            [
             0.1111111111111111,
             "#46039f"
            ],
            [
             0.2222222222222222,
             "#7201a8"
            ],
            [
             0.3333333333333333,
             "#9c179e"
            ],
            [
             0.4444444444444444,
             "#bd3786"
            ],
            [
             0.5555555555555556,
             "#d8576b"
            ],
            [
             0.6666666666666666,
             "#ed7953"
            ],
            [
             0.7777777777777778,
             "#fb9f3a"
            ],
            [
             0.8888888888888888,
             "#fdca26"
            ],
            [
             1,
             "#f0f921"
            ]
           ],
           "sequentialminus": [
            [
             0,
             "#0d0887"
            ],
            [
             0.1111111111111111,
             "#46039f"
            ],
            [
             0.2222222222222222,
             "#7201a8"
            ],
            [
             0.3333333333333333,
             "#9c179e"
            ],
            [
             0.4444444444444444,
             "#bd3786"
            ],
            [
             0.5555555555555556,
             "#d8576b"
            ],
            [
             0.6666666666666666,
             "#ed7953"
            ],
            [
             0.7777777777777778,
             "#fb9f3a"
            ],
            [
             0.8888888888888888,
             "#fdca26"
            ],
            [
             1,
             "#f0f921"
            ]
           ]
          },
          "colorway": [
           "#636efa",
           "#EF553B",
           "#00cc96",
           "#ab63fa",
           "#FFA15A",
           "#19d3f3",
           "#FF6692",
           "#B6E880",
           "#FF97FF",
           "#FECB52"
          ],
          "font": {
           "color": "#f2f5fa"
          },
          "geo": {
           "bgcolor": "rgb(17,17,17)",
           "lakecolor": "rgb(17,17,17)",
           "landcolor": "rgb(17,17,17)",
           "showlakes": true,
           "showland": true,
           "subunitcolor": "#506784"
          },
          "hoverlabel": {
           "align": "left"
          },
          "hovermode": "closest",
          "mapbox": {
           "style": "dark"
          },
          "paper_bgcolor": "rgb(17,17,17)",
          "plot_bgcolor": "rgb(17,17,17)",
          "polar": {
           "angularaxis": {
            "gridcolor": "#506784",
            "linecolor": "#506784",
            "ticks": ""
           },
           "bgcolor": "rgb(17,17,17)",
           "radialaxis": {
            "gridcolor": "#506784",
            "linecolor": "#506784",
            "ticks": ""
           }
          },
          "scene": {
           "xaxis": {
            "backgroundcolor": "rgb(17,17,17)",
            "gridcolor": "#506784",
            "gridwidth": 2,
            "linecolor": "#506784",
            "showbackground": true,
            "ticks": "",
            "zerolinecolor": "#C8D4E3"
           },
           "yaxis": {
            "backgroundcolor": "rgb(17,17,17)",
            "gridcolor": "#506784",
            "gridwidth": 2,
            "linecolor": "#506784",
            "showbackground": true,
            "ticks": "",
            "zerolinecolor": "#C8D4E3"
           },
           "zaxis": {
            "backgroundcolor": "rgb(17,17,17)",
            "gridcolor": "#506784",
            "gridwidth": 2,
            "linecolor": "#506784",
            "showbackground": true,
            "ticks": "",
            "zerolinecolor": "#C8D4E3"
           }
          },
          "shapedefaults": {
           "line": {
            "color": "#f2f5fa"
           }
          },
          "sliderdefaults": {
           "bgcolor": "#C8D4E3",
           "bordercolor": "rgb(17,17,17)",
           "borderwidth": 1,
           "tickwidth": 0
          },
          "ternary": {
           "aaxis": {
            "gridcolor": "#506784",
            "linecolor": "#506784",
            "ticks": ""
           },
           "baxis": {
            "gridcolor": "#506784",
            "linecolor": "#506784",
            "ticks": ""
           },
           "bgcolor": "rgb(17,17,17)",
           "caxis": {
            "gridcolor": "#506784",
            "linecolor": "#506784",
            "ticks": ""
           }
          },
          "title": {
           "x": 0.05
          },
          "updatemenudefaults": {
           "bgcolor": "#506784",
           "borderwidth": 0
          },
          "xaxis": {
           "automargin": true,
           "gridcolor": "#283442",
           "linecolor": "#506784",
           "ticks": "",
           "title": {
            "standoff": 15
           },
           "zerolinecolor": "#283442",
           "zerolinewidth": 2
          },
          "yaxis": {
           "automargin": true,
           "gridcolor": "#283442",
           "linecolor": "#506784",
           "ticks": "",
           "title": {
            "standoff": 15
           },
           "zerolinecolor": "#283442",
           "zerolinewidth": 2
          }
         }
        },
        "xaxis": {
         "anchor": "y",
         "domain": [
          0,
          1
         ],
         "title": {
          "text": "mean_u_25"
         }
        },
        "yaxis": {
         "anchor": "x",
         "domain": [
          0,
          1
         ],
         "title": {
          "text": "density_total"
         }
        }
       }
      }
     },
     "metadata": {},
     "output_type": "display_data"
    }
   ],
   "source": [
    "fig = px.scatter(dff, x='mean_u_25', y='density_total', symbol='run', color='site', trendline='ols', template='plotly_dark')\n",
    "#fig = px.scatter(base_df, x='mean_u_25', y='density_total', symbol='site', color='site')\n",
    "fig.update_layout(\n",
    "    height=500,\n",
    "    autosize=True,)\n",
    "fig.show()"
   ]
  },
  {
   "cell_type": "code",
   "execution_count": 79,
   "metadata": {},
   "outputs": [
    {
     "data": {
      "application/vnd.plotly.v1+json": {
       "config": {
        "plotlyServerURL": "https://plot.ly"
       },
       "data": [
        {
         "hovertemplate": "site=Bay<br>run=Vegetated Run<br>mean_u=%{x}<br>Hveg/WC=%{y}<extra></extra>",
         "legendgroup": "Bay, Vegetated Run",
         "marker": {
          "color": "#636efa",
          "symbol": "circle"
         },
         "mode": "markers",
         "name": "Bay, Vegetated Run",
         "orientation": "v",
         "showlegend": true,
         "type": "scatter",
         "x": [
          1.3592650169565137,
          0.5103025642236216,
          0.3286437924729354,
          0.45515997537639585,
          0.698899136355107,
          0.5200176014225153,
          0.3265804713721051,
          0.543751367828793,
          0.38082686886336153,
          0.20112182662794495,
          0.7625154658544469,
          0.40975347369678367,
          1.2777263819523763,
          0.8709433130067955,
          0.26654950669580113,
          0.17164323846681598,
          0.47691502456706003,
          0.8433391850343966,
          0.3290697201519917,
          0.9916123850499081,
          0.25945525042793266,
          0.35722004861242634,
          0.4263030163263412,
          0.5950197344133862,
          0.5158934199389179,
          0.7439415723306905,
          0.5412187000103333,
          0.6836638936476852,
          0.4632916358853887,
          0.369575831093671,
          0.7221646733015429,
          0.6553435740122208,
          0.5826878863742487,
          1.3089906898905679,
          0.10171930592298131,
          0.14852464806883567,
          0.40950966157062546,
          0.2716526334527395
         ],
         "xaxis": "x",
         "y": [
          9.61680722000296,
          22.657054582904223,
          33.622367722527,
          26.525198938992038,
          18.787361229718186,
          25.465541938564385,
          35.48196333530455,
          23.398128149748015,
          31.13648157758173,
          44.20265215912954,
          17.58312020460358,
          30.01650907999399,
          9.775171065493648,
          14.53752498637107,
          36.266463065470525,
          45.89682393978339,
          25.882787946015913,
          15.40041067761807,
          34.682080924855505,
          14.795088030773785,
          37.075180226570545,
          31.85276942134137,
          28.29354553492484,
          22.203245089666947,
          25.465541938564385,
          19.219396806623298,
          23.398128149748015,
          19.027849852966614,
          27.201632097925874,
          31.969309462915604,
          19.510730901996094,
          21.17953730856957,
          21.806287479556605,
          7.635044855888531,
          55.07618872774007,
          49.91680532445926,
          29.089664613278575,
          37.98513625103222
         ],
         "yaxis": "y"
        },
        {
         "hovertemplate": "<b>OLS trendline</b><br>Hveg/WC = -32.4397 * mean_u + 44.7632<br>R<sup>2</sup>=0.836154<br><br>site=Bay<br>run=Vegetated Run<br>mean_u=%{x}<br>Hveg/WC=%{y} <b>(trend)</b><extra></extra>",
         "legendgroup": "Bay, Vegetated Run",
         "marker": {
          "color": "#636efa",
          "symbol": "circle"
         },
         "mode": "lines",
         "name": "Bay, Vegetated Run",
         "showlegend": false,
         "type": "scatter",
         "x": [
          0.10171930592298131,
          0.14852464806883567,
          0.17164323846681598,
          0.20112182662794495,
          0.25945525042793266,
          0.26654950669580113,
          0.2716526334527395,
          0.3265804713721051,
          0.3286437924729354,
          0.3290697201519917,
          0.35722004861242634,
          0.369575831093671,
          0.38082686886336153,
          0.40950966157062546,
          0.40975347369678367,
          0.4263030163263412,
          0.45515997537639585,
          0.4632916358853887,
          0.47691502456706003,
          0.5103025642236216,
          0.5158934199389179,
          0.5200176014225153,
          0.5412187000103333,
          0.543751367828793,
          0.5826878863742487,
          0.5950197344133862,
          0.6553435740122208,
          0.6836638936476852,
          0.698899136355107,
          0.7221646733015429,
          0.7439415723306905,
          0.7625154658544469,
          0.8433391850343966,
          0.8709433130067955,
          0.9916123850499081,
          1.2777263819523763,
          1.3089906898905679,
          1.3592650169565137
         ],
         "xaxis": "x",
         "y": [
          41.46350066736404,
          39.94514813130165,
          39.19518736290098,
          38.238910001344436,
          36.34658963996539,
          36.116453901138215,
          35.950909860693,
          34.16906577662664,
          34.102132202753936,
          34.088315224989756,
          33.17512624592626,
          32.77430803148031,
          32.409327434229056,
          31.478865460193823,
          31.47095626130534,
          30.93409361122669,
          29.997981728524007,
          29.7341928790001,
          29.29225386507044,
          28.209171182917373,
          28.02780534805976,
          27.89401802533732,
          27.206260168385654,
          27.12410111497721,
          25.861011070795804,
          25.46096928312523,
          23.504080375989577,
          22.585376929562287,
          22.09114981056688,
          21.336422136204543,
          20.629985469948714,
          20.027453428873862,
          17.405554018151562,
          16.51008363397887,
          12.595611841634899,
          3.3141518013243783,
          2.299946177140228,
          0.6690607162127762
         ],
         "yaxis": "y"
        },
        {
         "hovertemplate": "site=Bay<br>run=Baseline Run<br>mean_u=%{x}<br>Hveg/WC=%{y}<extra></extra>",
         "legendgroup": "Bay, Baseline Run",
         "marker": {
          "color": "#636efa",
          "symbol": "diamond"
         },
         "mode": "markers",
         "name": "Bay, Baseline Run",
         "orientation": "v",
         "showlegend": true,
         "type": "scatter",
         "x": [
          12.666596046563184,
          10.51859039204306,
          11.577230183104732,
          11.58134720129095,
          11.785364586021501,
          12.210514583684175,
          12.67129969658718,
          11.479017042446284,
          11.710292415099374,
          11.81263699102164,
          12.184132781358366,
          12.575944820816172,
          12.068157767829915,
          11.423857532362923,
          11.145034917040466,
          11.365284932633738,
          11.325366725827468,
          11.774235496098159,
          11.985909895842886,
          12.666596046563184,
          10.51859039204306,
          11.577230183104732,
          11.58134720129095,
          11.785364586021501,
          12.210514583684175,
          12.67129969658718,
          11.479017042446284,
          11.710292415099374,
          11.81263699102164,
          12.184132781358366,
          12.575944820816172,
          12.068157767829915,
          11.423857532362923,
          11.145034917040466,
          11.365284932633738,
          11.325366725827468,
          11.774235496098159,
          11.985909895842886
         ],
         "xaxis": "x",
         "y": [
          9.61680722000296,
          22.657054582904223,
          33.622367722527,
          26.525198938992038,
          18.787361229718186,
          25.465541938564385,
          35.48196333530455,
          23.398128149748015,
          31.13648157758173,
          44.20265215912954,
          17.58312020460358,
          30.01650907999399,
          9.775171065493648,
          14.53752498637107,
          36.266463065470525,
          45.89682393978339,
          25.882787946015913,
          15.40041067761807,
          34.682080924855505,
          14.795088030773785,
          37.075180226570545,
          31.85276942134137,
          28.29354553492484,
          22.203245089666947,
          25.465541938564385,
          19.219396806623298,
          23.398128149748015,
          19.027849852966614,
          27.201632097925874,
          31.969309462915604,
          19.510730901996094,
          21.17953730856957,
          21.806287479556605,
          7.635044855888531,
          55.07618872774007,
          49.91680532445926,
          29.089664613278575,
          37.98513625103222
         ],
         "yaxis": "y"
        },
        {
         "hovertemplate": "<b>OLS trendline</b><br>Hveg/WC = -5.45204 * mean_u + 91.1745<br>R<sup>2</sup>=0.072265<br><br>site=Bay<br>run=Baseline Run<br>mean_u=%{x}<br>Hveg/WC=%{y} <b>(trend)</b><extra></extra>",
         "legendgroup": "Bay, Baseline Run",
         "marker": {
          "color": "#636efa",
          "symbol": "diamond"
         },
         "mode": "lines",
         "name": "Bay, Baseline Run",
         "showlegend": false,
         "type": "scatter",
         "x": [
          10.51859039204306,
          10.51859039204306,
          11.145034917040466,
          11.145034917040466,
          11.325366725827468,
          11.325366725827468,
          11.365284932633738,
          11.365284932633738,
          11.423857532362923,
          11.423857532362923,
          11.479017042446284,
          11.479017042446284,
          11.577230183104732,
          11.577230183104732,
          11.58134720129095,
          11.58134720129095,
          11.710292415099374,
          11.710292415099374,
          11.774235496098159,
          11.774235496098159,
          11.785364586021501,
          11.785364586021501,
          11.81263699102164,
          11.81263699102164,
          11.985909895842886,
          11.985909895842886,
          12.068157767829915,
          12.068157767829915,
          12.184132781358366,
          12.184132781358366,
          12.210514583684175,
          12.210514583684175,
          12.575944820816172,
          12.575944820816172,
          12.666596046563184,
          12.666596046563184,
          12.67129969658718,
          12.67129969658718
         ],
         "xaxis": "x",
         "y": [
          33.8267429555969,
          33.8267429555969,
          30.41134302585926,
          30.41134302585926,
          29.428166986347797,
          29.428166986347797,
          29.21053136933613,
          29.21053136933613,
          28.891191276132446,
          28.891191276132446,
          28.590459480505608,
          28.590459480505608,
          28.05499761545768,
          28.05499761545768,
          28.032551472083696,
          28.032551472083696,
          27.329537148216595,
          27.329537148216595,
          26.980916982127084,
          26.980916982127084,
          26.92024075075227,
          26.92024075075227,
          26.771550537326533,
          26.771550537326533,
          25.82685991694899,
          25.82685991694899,
          25.378441318020805,
          25.378441318020805,
          24.746141030843674,
          24.746141030843674,
          24.60230641785813,
          24.60230641785813,
          22.609966543501656,
          22.609966543501656,
          22.115732532839246,
          22.115732532839246,
          22.090088049855638,
          22.090088049855638
         ],
         "yaxis": "y"
        },
        {
         "hovertemplate": "site=Creek<br>run=Vegetated Run<br>mean_u=%{x}<br>Hveg/WC=%{y}<extra></extra>",
         "legendgroup": "Creek, Vegetated Run",
         "marker": {
          "color": "#EF553B",
          "symbol": "circle"
         },
         "mode": "markers",
         "name": "Creek, Vegetated Run",
         "orientation": "v",
         "showlegend": true,
         "type": "scatter",
         "x": [
          0.7012205971671923,
          0.5554442297995603,
          0.4413861500219262,
          0.690553787409425,
          0.7992741099075418,
          0.8898439756923031,
          0.5908675654258939,
          0.4397756349892603,
          0.6760749858908367,
          0.5363194580364846,
          0.46909420986116634,
          0.8287400877592603,
          0.8086795514175197,
          0.5651702857145902,
          0.4950741918960787,
          0.6446474608426062,
          0.49707070332813225,
          0.7908562660418602,
          0.5887136684876483,
          0.3123951438875673,
          0.9069496709412486,
          0.35088555805782906,
          1.108348388807586,
          0.8269815667876742,
          0.5296118922434696,
          0.7858527847810537,
          0.652363195535387,
          0.697215243347076,
          1.3861057989652343,
          1.3480995087939405,
          0.7336325640708997,
          0.46237621879014545,
          0.5352518203519523,
          0.8365373645640469
         ],
         "xaxis": "x",
         "y": [
          22.393630256282663,
          24.82159478746509,
          29.252596167909903,
          20.446911055936912,
          18.67279517380064,
          17.414601473543208,
          24.340770791075048,
          29.66478789676654,
          20.64287820701858,
          26.079397276151845,
          27.676620538965764,
          19.897003745318354,
          20.214916480476646,
          24.020417354751533,
          28.67491699366134,
          22.30483271375465,
          26.90985199581403,
          19.9054491166957,
          23.270245113248524,
          36.56574520988738,
          16.065430115379,
          34.472852628555025,
          13.39584728734093,
          17.57944557133198,
          25.215069712251562,
          17.69389560601593,
          21.73283106345987,
          20.393299344501088,
          10.533707865168541,
          11.703372699223323,
          19.516589100735622,
          28.67491699366134,
          25.278810408921938,
          16.444909552997462
         ],
         "yaxis": "y"
        },
        {
         "hovertemplate": "<b>OLS trendline</b><br>Hveg/WC = -22.6294 * mean_u + 38.0365<br>R<sup>2</sup>=0.880435<br><br>site=Creek<br>run=Vegetated Run<br>mean_u=%{x}<br>Hveg/WC=%{y} <b>(trend)</b><extra></extra>",
         "legendgroup": "Creek, Vegetated Run",
         "marker": {
          "color": "#EF553B",
          "symbol": "circle"
         },
         "mode": "lines",
         "name": "Creek, Vegetated Run",
         "showlegend": false,
         "type": "scatter",
         "x": [
          0.3123951438875673,
          0.35088555805782906,
          0.4397756349892603,
          0.4413861500219262,
          0.46237621879014545,
          0.46909420986116634,
          0.4950741918960787,
          0.49707070332813225,
          0.5296118922434696,
          0.5352518203519523,
          0.5363194580364846,
          0.5554442297995603,
          0.5651702857145902,
          0.5887136684876483,
          0.5908675654258939,
          0.6446474608426062,
          0.652363195535387,
          0.6760749858908367,
          0.690553787409425,
          0.697215243347076,
          0.7012205971671923,
          0.7336325640708997,
          0.7858527847810537,
          0.7908562660418602,
          0.7992741099075418,
          0.8086795514175197,
          0.8269815667876742,
          0.8287400877592603,
          0.8365373645640469,
          0.8898439756923031,
          0.9069496709412486,
          1.108348388807586,
          1.3480995087939405,
          1.3861057989652343
         ],
         "xaxis": "x",
         "y": [
          30.96719719387456,
          30.096181732893143,
          28.084651511560175,
          28.04820650248883,
          27.573213577151396,
          27.421189385784935,
          26.833277654611315,
          26.788097773780407,
          26.051709785368608,
          25.924081525522354,
          25.899921511918954,
          25.467139162015066,
          25.24704423035528,
          24.714271309065673,
          24.665529886687786,
          23.448522447102697,
          23.2739199037132,
          22.737336017767284,
          22.40968924516084,
          22.258944410650244,
          22.168305606697913,
          21.43484183649616,
          20.253128919269404,
          20.13990307769713,
          19.949412216188005,
          19.736572600165463,
          19.3224087440945,
          19.28261444757339,
          19.106166654092174,
          17.899869359917865,
          17.512777525396135,
          12.95524285436245,
          7.5298158539674205,
          6.669755834677744
         ],
         "yaxis": "y"
        },
        {
         "hovertemplate": "site=Creek<br>run=Baseline Run<br>mean_u=%{x}<br>Hveg/WC=%{y}<extra></extra>",
         "legendgroup": "Creek, Baseline Run",
         "marker": {
          "color": "#EF553B",
          "symbol": "diamond"
         },
         "mode": "markers",
         "name": "Creek, Baseline Run",
         "orientation": "v",
         "showlegend": true,
         "type": "scatter",
         "x": [
          13.817708332780828,
          12.368587295543255,
          12.739775223497649,
          12.749126791804448,
          12.856180926516961,
          13.314314111715754,
          13.2515067494333,
          12.650590555087883,
          12.688218399138787,
          12.800438298798559,
          12.765942351993685,
          14.24746095527085,
          14.945568351612035,
          12.574049304189142,
          12.540831386423696,
          12.634564788150003,
          12.60056058924204,
          13.817708332780828,
          12.368587295543255,
          12.739775223497649,
          12.749126791804448,
          12.856180926516961,
          13.314314111715754,
          13.2515067494333,
          12.650590555087883,
          12.688218399138787,
          12.800438298798559,
          12.765942351993685,
          14.24746095527085,
          14.945568351612035,
          12.574049304189142,
          12.540831386423696,
          12.634564788150003,
          12.60056058924204
         ],
         "xaxis": "x",
         "y": [
          22.393630256282663,
          24.82159478746509,
          29.252596167909903,
          20.446911055936912,
          18.67279517380064,
          17.414601473543208,
          24.340770791075048,
          29.66478789676654,
          20.64287820701858,
          26.079397276151845,
          27.676620538965764,
          19.897003745318354,
          20.214916480476646,
          24.020417354751533,
          28.67491699366134,
          22.30483271375465,
          26.90985199581403,
          19.9054491166957,
          23.270245113248524,
          36.56574520988738,
          16.065430115379,
          34.472852628555025,
          13.39584728734093,
          17.57944557133198,
          25.215069712251562,
          17.69389560601593,
          21.73283106345987,
          20.393299344501088,
          10.533707865168541,
          11.703372699223323,
          19.516589100735622,
          28.67491699366134,
          25.278810408921938,
          16.444909552997462
         ],
         "yaxis": "y"
        },
        {
         "hovertemplate": "<b>OLS trendline</b><br>Hveg/WC = -4.24263 * mean_u + 77.6983<br>R<sup>2</sup>=0.241409<br><br>site=Creek<br>run=Baseline Run<br>mean_u=%{x}<br>Hveg/WC=%{y} <b>(trend)</b><extra></extra>",
         "legendgroup": "Creek, Baseline Run",
         "marker": {
          "color": "#EF553B",
          "symbol": "diamond"
         },
         "mode": "lines",
         "name": "Creek, Baseline Run",
         "showlegend": false,
         "type": "scatter",
         "x": [
          12.368587295543255,
          12.368587295543255,
          12.540831386423696,
          12.540831386423696,
          12.574049304189142,
          12.574049304189142,
          12.60056058924204,
          12.60056058924204,
          12.634564788150003,
          12.634564788150003,
          12.650590555087883,
          12.650590555087883,
          12.688218399138787,
          12.688218399138787,
          12.739775223497649,
          12.739775223497649,
          12.749126791804448,
          12.749126791804448,
          12.765942351993685,
          12.765942351993685,
          12.800438298798559,
          12.800438298798559,
          12.856180926516961,
          12.856180926516961,
          13.2515067494333,
          13.2515067494333,
          13.314314111715754,
          13.314314111715754,
          13.817708332780828,
          13.817708332780828,
          14.24746095527085,
          14.24746095527085,
          14.945568351612035,
          14.945568351612035
         ],
         "xaxis": "x",
         "y": [
          25.222939744725316,
          25.222939744725316,
          24.492171593687175,
          24.492171593687175,
          24.35124021994477,
          24.35124021994477,
          24.238762615280827,
          24.238762615280827,
          24.094495340644656,
          24.094495340644656,
          24.02650392210426,
          24.02650392210426,
          23.86686285758892,
          23.86686285758892,
          23.648126266873156,
          23.648126266873156,
          23.60845101156579,
          23.60845101156579,
          23.537108791549144,
          23.537108791549144,
          23.390755211951422,
          23.390755211951422,
          23.154259801377023,
          23.154259801377023,
          21.477038137669958,
          21.477038137669958,
          21.21056966393526,
          21.21056966393526,
          19.07485364435724,
          19.07485364435724,
          17.25157176725172,
          17.25157176725172,
          14.289759558527471,
          14.289759558527471
         ],
         "yaxis": "y"
        },
        {
         "hovertemplate": "site=Interior<br>run=Vegetated Run<br>mean_u=%{x}<br>Hveg/WC=%{y}<extra></extra>",
         "legendgroup": "Interior, Vegetated Run",
         "marker": {
          "color": "#00cc96",
          "symbol": "circle"
         },
         "mode": "markers",
         "name": "Interior, Vegetated Run",
         "orientation": "v",
         "showlegend": true,
         "type": "scatter",
         "x": [
          0.3324782009321994,
          0.5605192619077259,
          0.5221258022091906,
          0.4522017025862316,
          0.4598617743343786,
          0.6404308369864579,
          1.1978981800785493,
          1.0842203100063368,
          0.7808682854363156,
          0.6874622338211613,
          0.5053887828651638,
          0.4007947695683334,
          0.88090332438123,
          1.246928195992003,
          0.34257505689218215,
          0.4581330220253045,
          0.4237513277861222,
          0.32795938556551335,
          1.4622657631981093,
          1.1491061157834896,
          0.49261612431010615,
          0.5032697715657666,
          0.46758428783971756,
          0.4821531906882198,
          1.424962409796556,
          1.2077743399244807,
          0.8280468136003757,
          0.73761002260273,
          0.3945666755180598,
          0.7510287301279653,
          0.7060010045180906,
          0.7148145690067229,
          0.4661870675468359,
          0.7969722493283818,
          0.4787615550155717,
          0.8704910931158285
         ],
         "xaxis": "x",
         "y": [
          34.68937243771681,
          22.510822510822507,
          24.034334763948497,
          28.3777392401072,
          29.976019184652287,
          22.311468094600627,
          12.772875058058524,
          11.674449633088724,
          18.413380389749886,
          20.886170371475455,
          27.349935223837623,
          32.14086081609839,
          15.852885225110976,
          10.327530244910003,
          34.01360544217686,
          29.86348122866895,
          30.75632601705578,
          36.08605135322693,
          7.8839482812992765,
          10.389610389610388,
          25.75107296137339,
          26.801198171212356,
          28.477218225419673,
          32.723486538747586,
          10.45053413841152,
          10.006671114076049,
          16.878932023937395,
          20.886170371475455,
          31.66834604865409,
          19.564002235885976,
          19.02346227013317,
          19.179699026261435,
          28.09819580005915,
          19.9089874857793,
          27.960296379141617,
          16.655100624566277
         ],
         "yaxis": "y"
        },
        {
         "hovertemplate": "<b>OLS trendline</b><br>Hveg/WC = -24.2113 * mean_u + 39.5946<br>R<sup>2</sup>=0.910255<br><br>site=Interior<br>run=Vegetated Run<br>mean_u=%{x}<br>Hveg/WC=%{y} <b>(trend)</b><extra></extra>",
         "legendgroup": "Interior, Vegetated Run",
         "marker": {
          "color": "#00cc96",
          "symbol": "circle"
         },
         "mode": "lines",
         "name": "Interior, Vegetated Run",
         "showlegend": false,
         "type": "scatter",
         "x": [
          0.32795938556551335,
          0.3324782009321994,
          0.34257505689218215,
          0.3945666755180598,
          0.4007947695683334,
          0.4237513277861222,
          0.4522017025862316,
          0.4581330220253045,
          0.4598617743343786,
          0.4661870675468359,
          0.46758428783971756,
          0.4787615550155717,
          0.4821531906882198,
          0.49261612431010615,
          0.5032697715657666,
          0.5053887828651638,
          0.5221258022091906,
          0.5605192619077259,
          0.6404308369864579,
          0.6874622338211613,
          0.7060010045180906,
          0.7148145690067229,
          0.73761002260273,
          0.7510287301279653,
          0.7808682854363156,
          0.7969722493283818,
          0.8280468136003757,
          0.8704910931158285,
          0.88090332438123,
          1.0842203100063368,
          1.1491061157834896,
          1.1978981800785493,
          1.2077743399244807,
          1.246928195992003,
          1.424962409796556,
          1.4622657631981093
         ],
         "xaxis": "x",
         "y": [
          31.654296998297937,
          31.544890587117543,
          31.30043254111483,
          30.04164767301595,
          29.89085739652937,
          29.33504919374723,
          28.646228529250852,
          28.502623553004746,
          28.46076820583788,
          28.307624610916854,
          28.27379608607834,
          28.003179876013654,
          27.921063954723436,
          27.66774269127275,
          27.409804002116154,
          27.358499976015224,
          26.953274917742988,
          26.023719205114613,
          24.088955792209674,
          22.950264360287,
          22.501416552828392,
          22.28802866636659,
          21.736121016508932,
          21.41123661343317,
          20.688782077765854,
          20.29888411729624,
          19.54652840454521,
          18.518897063119375,
          18.266803369819552,
          13.344234084681414,
          11.773264135574468,
          10.591944649064793,
          10.352829943703487,
          9.404864043657678,
          5.094423625295569,
          4.191260807282276
         ],
         "yaxis": "y"
        },
        {
         "hovertemplate": "site=Interior<br>run=Baseline Run<br>mean_u=%{x}<br>Hveg/WC=%{y}<extra></extra>",
         "legendgroup": "Interior, Baseline Run",
         "marker": {
          "color": "#00cc96",
          "symbol": "diamond"
         },
         "mode": "markers",
         "name": "Interior, Baseline Run",
         "orientation": "v",
         "showlegend": true,
         "type": "scatter",
         "x": [
          12.267966275643186,
          11.704184378926797,
          11.754987705866252,
          12.268937714634541,
          12.584471112518097,
          12.632678067235405,
          14.304230138870242,
          11.927099673783966,
          12.43681291643437,
          12.613795336894194,
          12.842267952527006,
          13.034784092897246,
          12.234891457803208,
          12.684460637613892,
          12.669418446127429,
          12.920910057495092,
          13.032040821263658,
          13.079509417292295,
          12.267966275643186,
          11.704184378926797,
          11.754987705866252,
          12.268937714634541,
          12.584471112518097,
          12.632678067235405,
          14.304230138870242,
          11.927099673783966,
          12.43681291643437,
          12.613795336894194,
          12.842267952527006,
          13.034784092897246,
          12.234891457803208,
          12.684460637613892,
          12.669418446127429,
          12.920910057495092,
          13.032040821263658,
          13.079509417292295
         ],
         "xaxis": "x",
         "y": [
          34.68937243771681,
          22.510822510822507,
          24.034334763948497,
          28.3777392401072,
          29.976019184652287,
          22.311468094600627,
          12.772875058058524,
          11.674449633088724,
          18.413380389749886,
          20.886170371475455,
          27.349935223837623,
          32.14086081609839,
          15.852885225110976,
          10.327530244910003,
          34.01360544217686,
          29.86348122866895,
          30.75632601705578,
          36.08605135322693,
          7.8839482812992765,
          10.389610389610388,
          25.75107296137339,
          26.801198171212356,
          28.477218225419673,
          32.723486538747586,
          10.45053413841152,
          10.006671114076049,
          16.878932023937395,
          20.886170371475455,
          31.66834604865409,
          19.564002235885976,
          19.02346227013317,
          19.179699026261435,
          28.09819580005915,
          19.9089874857793,
          27.960296379141617,
          16.655100624566277
         ],
         "yaxis": "y"
        },
        {
         "hovertemplate": "<b>OLS trendline</b><br>Hveg/WC = 0.454115 * mean_u + 16.8939<br>R<sup>2</sup>=0.001080<br><br>site=Interior<br>run=Baseline Run<br>mean_u=%{x}<br>Hveg/WC=%{y} <b>(trend)</b><extra></extra>",
         "legendgroup": "Interior, Baseline Run",
         "marker": {
          "color": "#00cc96",
          "symbol": "diamond"
         },
         "mode": "lines",
         "name": "Interior, Baseline Run",
         "showlegend": false,
         "type": "scatter",
         "x": [
          11.704184378926797,
          11.704184378926797,
          11.754987705866252,
          11.754987705866252,
          11.927099673783966,
          11.927099673783966,
          12.234891457803208,
          12.234891457803208,
          12.267966275643186,
          12.267966275643186,
          12.268937714634541,
          12.268937714634541,
          12.43681291643437,
          12.43681291643437,
          12.584471112518097,
          12.584471112518097,
          12.613795336894194,
          12.613795336894194,
          12.632678067235405,
          12.632678067235405,
          12.669418446127429,
          12.669418446127429,
          12.684460637613892,
          12.684460637613892,
          12.842267952527006,
          12.842267952527006,
          12.920910057495092,
          12.920910057495092,
          13.032040821263658,
          13.032040821263658,
          13.034784092897246,
          13.034784092897246,
          13.079509417292295,
          13.079509417292295,
          14.304230138870242,
          14.304230138870242
         ],
         "xaxis": "x",
         "y": [
          22.208989899794982,
          22.208989899794982,
          22.232060437190277,
          22.232060437190277,
          22.310219011268625,
          22.310219011268625,
          22.44999178385976,
          22.44999178385976,
          22.4650115447256,
          22.4650115447256,
          22.465452689448348,
          22.465452689448348,
          22.541687285766848,
          22.541687285766848,
          22.608741042670044,
          22.608741042670044,
          22.622057603923267,
          22.622057603923267,
          22.630632529281627,
          22.630632529281627,
          22.647316875292198,
          22.647316875292198,
          22.65414775551406,
          22.65414775551406,
          22.725810376434406,
          22.725810376434406,
          22.76152291206565,
          22.76152291206565,
          22.81198902512841,
          22.81198902512841,
          22.813234785093766,
          22.813234785093766,
          22.833545212208165,
          22.833545212208165,
          23.389708891008826,
          23.389708891008826
         ],
         "yaxis": "y"
        }
       ],
       "layout": {
        "autosize": true,
        "height": 500,
        "legend": {
         "title": {
          "text": "site, run"
         },
         "tracegroupgap": 0
        },
        "margin": {
         "t": 60
        },
        "template": {
         "data": {
          "bar": [
           {
            "error_x": {
             "color": "#f2f5fa"
            },
            "error_y": {
             "color": "#f2f5fa"
            },
            "marker": {
             "line": {
              "color": "rgb(17,17,17)",
              "width": 0.5
             },
             "pattern": {
              "fillmode": "overlay",
              "size": 10,
              "solidity": 0.2
             }
            },
            "type": "bar"
           }
          ],
          "barpolar": [
           {
            "marker": {
             "line": {
              "color": "rgb(17,17,17)",
              "width": 0.5
             },
             "pattern": {
              "fillmode": "overlay",
              "size": 10,
              "solidity": 0.2
             }
            },
            "type": "barpolar"
           }
          ],
          "carpet": [
           {
            "aaxis": {
             "endlinecolor": "#A2B1C6",
             "gridcolor": "#506784",
             "linecolor": "#506784",
             "minorgridcolor": "#506784",
             "startlinecolor": "#A2B1C6"
            },
            "baxis": {
             "endlinecolor": "#A2B1C6",
             "gridcolor": "#506784",
             "linecolor": "#506784",
             "minorgridcolor": "#506784",
             "startlinecolor": "#A2B1C6"
            },
            "type": "carpet"
           }
          ],
          "choropleth": [
           {
            "colorbar": {
             "outlinewidth": 0,
             "ticks": ""
            },
            "type": "choropleth"
           }
          ],
          "contour": [
           {
            "colorbar": {
             "outlinewidth": 0,
             "ticks": ""
            },
            "colorscale": [
             [
              0,
              "#0d0887"
             ],
             [
              0.1111111111111111,
              "#46039f"
             ],
             [
              0.2222222222222222,
              "#7201a8"
             ],
             [
              0.3333333333333333,
              "#9c179e"
             ],
             [
              0.4444444444444444,
              "#bd3786"
             ],
             [
              0.5555555555555556,
              "#d8576b"
             ],
             [
              0.6666666666666666,
              "#ed7953"
             ],
             [
              0.7777777777777778,
              "#fb9f3a"
             ],
             [
              0.8888888888888888,
              "#fdca26"
             ],
             [
              1,
              "#f0f921"
             ]
            ],
            "type": "contour"
           }
          ],
          "contourcarpet": [
           {
            "colorbar": {
             "outlinewidth": 0,
             "ticks": ""
            },
            "type": "contourcarpet"
           }
          ],
          "heatmap": [
           {
            "colorbar": {
             "outlinewidth": 0,
             "ticks": ""
            },
            "colorscale": [
             [
              0,
              "#0d0887"
             ],
             [
              0.1111111111111111,
              "#46039f"
             ],
             [
              0.2222222222222222,
              "#7201a8"
             ],
             [
              0.3333333333333333,
              "#9c179e"
             ],
             [
              0.4444444444444444,
              "#bd3786"
             ],
             [
              0.5555555555555556,
              "#d8576b"
             ],
             [
              0.6666666666666666,
              "#ed7953"
             ],
             [
              0.7777777777777778,
              "#fb9f3a"
             ],
             [
              0.8888888888888888,
              "#fdca26"
             ],
             [
              1,
              "#f0f921"
             ]
            ],
            "type": "heatmap"
           }
          ],
          "heatmapgl": [
           {
            "colorbar": {
             "outlinewidth": 0,
             "ticks": ""
            },
            "colorscale": [
             [
              0,
              "#0d0887"
             ],
             [
              0.1111111111111111,
              "#46039f"
             ],
             [
              0.2222222222222222,
              "#7201a8"
             ],
             [
              0.3333333333333333,
              "#9c179e"
             ],
             [
              0.4444444444444444,
              "#bd3786"
             ],
             [
              0.5555555555555556,
              "#d8576b"
             ],
             [
              0.6666666666666666,
              "#ed7953"
             ],
             [
              0.7777777777777778,
              "#fb9f3a"
             ],
             [
              0.8888888888888888,
              "#fdca26"
             ],
             [
              1,
              "#f0f921"
             ]
            ],
            "type": "heatmapgl"
           }
          ],
          "histogram": [
           {
            "marker": {
             "pattern": {
              "fillmode": "overlay",
              "size": 10,
              "solidity": 0.2
             }
            },
            "type": "histogram"
           }
          ],
          "histogram2d": [
           {
            "colorbar": {
             "outlinewidth": 0,
             "ticks": ""
            },
            "colorscale": [
             [
              0,
              "#0d0887"
             ],
             [
              0.1111111111111111,
              "#46039f"
             ],
             [
              0.2222222222222222,
              "#7201a8"
             ],
             [
              0.3333333333333333,
              "#9c179e"
             ],
             [
              0.4444444444444444,
              "#bd3786"
             ],
             [
              0.5555555555555556,
              "#d8576b"
             ],
             [
              0.6666666666666666,
              "#ed7953"
             ],
             [
              0.7777777777777778,
              "#fb9f3a"
             ],
             [
              0.8888888888888888,
              "#fdca26"
             ],
             [
              1,
              "#f0f921"
             ]
            ],
            "type": "histogram2d"
           }
          ],
          "histogram2dcontour": [
           {
            "colorbar": {
             "outlinewidth": 0,
             "ticks": ""
            },
            "colorscale": [
             [
              0,
              "#0d0887"
             ],
             [
              0.1111111111111111,
              "#46039f"
             ],
             [
              0.2222222222222222,
              "#7201a8"
             ],
             [
              0.3333333333333333,
              "#9c179e"
             ],
             [
              0.4444444444444444,
              "#bd3786"
             ],
             [
              0.5555555555555556,
              "#d8576b"
             ],
             [
              0.6666666666666666,
              "#ed7953"
             ],
             [
              0.7777777777777778,
              "#fb9f3a"
             ],
             [
              0.8888888888888888,
              "#fdca26"
             ],
             [
              1,
              "#f0f921"
             ]
            ],
            "type": "histogram2dcontour"
           }
          ],
          "mesh3d": [
           {
            "colorbar": {
             "outlinewidth": 0,
             "ticks": ""
            },
            "type": "mesh3d"
           }
          ],
          "parcoords": [
           {
            "line": {
             "colorbar": {
              "outlinewidth": 0,
              "ticks": ""
             }
            },
            "type": "parcoords"
           }
          ],
          "pie": [
           {
            "automargin": true,
            "type": "pie"
           }
          ],
          "scatter": [
           {
            "marker": {
             "line": {
              "color": "#283442"
             }
            },
            "type": "scatter"
           }
          ],
          "scatter3d": [
           {
            "line": {
             "colorbar": {
              "outlinewidth": 0,
              "ticks": ""
             }
            },
            "marker": {
             "colorbar": {
              "outlinewidth": 0,
              "ticks": ""
             }
            },
            "type": "scatter3d"
           }
          ],
          "scattercarpet": [
           {
            "marker": {
             "colorbar": {
              "outlinewidth": 0,
              "ticks": ""
             }
            },
            "type": "scattercarpet"
           }
          ],
          "scattergeo": [
           {
            "marker": {
             "colorbar": {
              "outlinewidth": 0,
              "ticks": ""
             }
            },
            "type": "scattergeo"
           }
          ],
          "scattergl": [
           {
            "marker": {
             "line": {
              "color": "#283442"
             }
            },
            "type": "scattergl"
           }
          ],
          "scattermapbox": [
           {
            "marker": {
             "colorbar": {
              "outlinewidth": 0,
              "ticks": ""
             }
            },
            "type": "scattermapbox"
           }
          ],
          "scatterpolar": [
           {
            "marker": {
             "colorbar": {
              "outlinewidth": 0,
              "ticks": ""
             }
            },
            "type": "scatterpolar"
           }
          ],
          "scatterpolargl": [
           {
            "marker": {
             "colorbar": {
              "outlinewidth": 0,
              "ticks": ""
             }
            },
            "type": "scatterpolargl"
           }
          ],
          "scatterternary": [
           {
            "marker": {
             "colorbar": {
              "outlinewidth": 0,
              "ticks": ""
             }
            },
            "type": "scatterternary"
           }
          ],
          "surface": [
           {
            "colorbar": {
             "outlinewidth": 0,
             "ticks": ""
            },
            "colorscale": [
             [
              0,
              "#0d0887"
             ],
             [
              0.1111111111111111,
              "#46039f"
             ],
             [
              0.2222222222222222,
              "#7201a8"
             ],
             [
              0.3333333333333333,
              "#9c179e"
             ],
             [
              0.4444444444444444,
              "#bd3786"
             ],
             [
              0.5555555555555556,
              "#d8576b"
             ],
             [
              0.6666666666666666,
              "#ed7953"
             ],
             [
              0.7777777777777778,
              "#fb9f3a"
             ],
             [
              0.8888888888888888,
              "#fdca26"
             ],
             [
              1,
              "#f0f921"
             ]
            ],
            "type": "surface"
           }
          ],
          "table": [
           {
            "cells": {
             "fill": {
              "color": "#506784"
             },
             "line": {
              "color": "rgb(17,17,17)"
             }
            },
            "header": {
             "fill": {
              "color": "#2a3f5f"
             },
             "line": {
              "color": "rgb(17,17,17)"
             }
            },
            "type": "table"
           }
          ]
         },
         "layout": {
          "annotationdefaults": {
           "arrowcolor": "#f2f5fa",
           "arrowhead": 0,
           "arrowwidth": 1
          },
          "autotypenumbers": "strict",
          "coloraxis": {
           "colorbar": {
            "outlinewidth": 0,
            "ticks": ""
           }
          },
          "colorscale": {
           "diverging": [
            [
             0,
             "#8e0152"
            ],
            [
             0.1,
             "#c51b7d"
            ],
            [
             0.2,
             "#de77ae"
            ],
            [
             0.3,
             "#f1b6da"
            ],
            [
             0.4,
             "#fde0ef"
            ],
            [
             0.5,
             "#f7f7f7"
            ],
            [
             0.6,
             "#e6f5d0"
            ],
            [
             0.7,
             "#b8e186"
            ],
            [
             0.8,
             "#7fbc41"
            ],
            [
             0.9,
             "#4d9221"
            ],
            [
             1,
             "#276419"
            ]
           ],
           "sequential": [
            [
             0,
             "#0d0887"
            ],
            [
             0.1111111111111111,
             "#46039f"
            ],
            [
             0.2222222222222222,
             "#7201a8"
            ],
            [
             0.3333333333333333,
             "#9c179e"
            ],
            [
             0.4444444444444444,
             "#bd3786"
            ],
            [
             0.5555555555555556,
             "#d8576b"
            ],
            [
             0.6666666666666666,
             "#ed7953"
            ],
            [
             0.7777777777777778,
             "#fb9f3a"
            ],
            [
             0.8888888888888888,
             "#fdca26"
            ],
            [
             1,
             "#f0f921"
            ]
           ],
           "sequentialminus": [
            [
             0,
             "#0d0887"
            ],
            [
             0.1111111111111111,
             "#46039f"
            ],
            [
             0.2222222222222222,
             "#7201a8"
            ],
            [
             0.3333333333333333,
             "#9c179e"
            ],
            [
             0.4444444444444444,
             "#bd3786"
            ],
            [
             0.5555555555555556,
             "#d8576b"
            ],
            [
             0.6666666666666666,
             "#ed7953"
            ],
            [
             0.7777777777777778,
             "#fb9f3a"
            ],
            [
             0.8888888888888888,
             "#fdca26"
            ],
            [
             1,
             "#f0f921"
            ]
           ]
          },
          "colorway": [
           "#636efa",
           "#EF553B",
           "#00cc96",
           "#ab63fa",
           "#FFA15A",
           "#19d3f3",
           "#FF6692",
           "#B6E880",
           "#FF97FF",
           "#FECB52"
          ],
          "font": {
           "color": "#f2f5fa"
          },
          "geo": {
           "bgcolor": "rgb(17,17,17)",
           "lakecolor": "rgb(17,17,17)",
           "landcolor": "rgb(17,17,17)",
           "showlakes": true,
           "showland": true,
           "subunitcolor": "#506784"
          },
          "hoverlabel": {
           "align": "left"
          },
          "hovermode": "closest",
          "mapbox": {
           "style": "dark"
          },
          "paper_bgcolor": "rgb(17,17,17)",
          "plot_bgcolor": "rgb(17,17,17)",
          "polar": {
           "angularaxis": {
            "gridcolor": "#506784",
            "linecolor": "#506784",
            "ticks": ""
           },
           "bgcolor": "rgb(17,17,17)",
           "radialaxis": {
            "gridcolor": "#506784",
            "linecolor": "#506784",
            "ticks": ""
           }
          },
          "scene": {
           "xaxis": {
            "backgroundcolor": "rgb(17,17,17)",
            "gridcolor": "#506784",
            "gridwidth": 2,
            "linecolor": "#506784",
            "showbackground": true,
            "ticks": "",
            "zerolinecolor": "#C8D4E3"
           },
           "yaxis": {
            "backgroundcolor": "rgb(17,17,17)",
            "gridcolor": "#506784",
            "gridwidth": 2,
            "linecolor": "#506784",
            "showbackground": true,
            "ticks": "",
            "zerolinecolor": "#C8D4E3"
           },
           "zaxis": {
            "backgroundcolor": "rgb(17,17,17)",
            "gridcolor": "#506784",
            "gridwidth": 2,
            "linecolor": "#506784",
            "showbackground": true,
            "ticks": "",
            "zerolinecolor": "#C8D4E3"
           }
          },
          "shapedefaults": {
           "line": {
            "color": "#f2f5fa"
           }
          },
          "sliderdefaults": {
           "bgcolor": "#C8D4E3",
           "bordercolor": "rgb(17,17,17)",
           "borderwidth": 1,
           "tickwidth": 0
          },
          "ternary": {
           "aaxis": {
            "gridcolor": "#506784",
            "linecolor": "#506784",
            "ticks": ""
           },
           "baxis": {
            "gridcolor": "#506784",
            "linecolor": "#506784",
            "ticks": ""
           },
           "bgcolor": "rgb(17,17,17)",
           "caxis": {
            "gridcolor": "#506784",
            "linecolor": "#506784",
            "ticks": ""
           }
          },
          "title": {
           "x": 0.05
          },
          "updatemenudefaults": {
           "bgcolor": "#506784",
           "borderwidth": 0
          },
          "xaxis": {
           "automargin": true,
           "gridcolor": "#283442",
           "linecolor": "#506784",
           "ticks": "",
           "title": {
            "standoff": 15
           },
           "zerolinecolor": "#283442",
           "zerolinewidth": 2
          },
          "yaxis": {
           "automargin": true,
           "gridcolor": "#283442",
           "linecolor": "#506784",
           "ticks": "",
           "title": {
            "standoff": 15
           },
           "zerolinecolor": "#283442",
           "zerolinewidth": 2
          }
         }
        },
        "xaxis": {
         "anchor": "y",
         "domain": [
          0,
          1
         ],
         "title": {
          "text": "mean_u"
         }
        },
        "yaxis": {
         "anchor": "x",
         "domain": [
          0,
          1
         ],
         "title": {
          "text": "Hveg/WC"
         }
        }
       }
      }
     },
     "metadata": {},
     "output_type": "display_data"
    }
   ],
   "source": [
    "fig = px.scatter(dff, x='mean_u', y='Hveg/WC', symbol='run', color='site', trendline='ols', template='plotly_dark')\n",
    "#fig = px.scatter(base_df, x='mean_u', y='Hveg/WC', symbol='site', color='site')\n",
    "fig.update_layout(\n",
    "    height=500,\n",
    "    autosize=True,)\n",
    "fig.show()"
   ]
  },
  {
   "cell_type": "markdown",
   "metadata": {},
   "source": [
    "## Contour Plots"
   ]
  },
  {
   "cell_type": "code",
   "execution_count": 80,
   "metadata": {},
   "outputs": [
    {
     "data": {
      "application/vnd.plotly.v1+json": {
       "config": {
        "plotlyServerURL": "https://plot.ly"
       },
       "data": [
        {
         "colorbar": {
          "x": 0.46
         },
         "line": {
          "smoothing": 0.85
         },
         "type": "contour",
         "x": [
          630.481094184055,
          2837.16492382825,
          3467.6460180123,
          4728.60820638041,
          3467.6460180123,
          4728.60820638041,
          4098.12711219636,
          1576.20273546014,
          2837.16492382825,
          4098.12711219636,
          4413.36765928838,
          5359.08930056447,
          5359.08930056447,
          4728.60820638041,
          945.721641276082,
          3782.88656510433,
          4098.12711219636,
          5674.32984765649,
          5359.08930056447,
          5359.08930056447,
          5674.32984765649,
          5359.08930056447,
          5989.57039474852,
          5989.57039474852,
          4728.60820638041,
          5043.84875347244,
          5674.3298476565,
          5989.57039474852,
          4098.12711219636,
          4728.60820638041,
          5989.57039474852,
          4728.60820638041,
          5674.32984765649,
          5674.32984765649,
          5989.57039474852,
          4728.60820638041,
          5674.32984765649,
          5043.84875347244,
          5359.08930056447,
          5674.32984765649,
          5359.08930056447,
          4413.36765928838,
          5043.84875347244,
          5674.32984765649,
          5359.08930056447,
          5043.84875347244,
          5989.57039474852,
          3782.88656510433,
          4098.12711219636,
          4728.60820638041,
          5359.08930056447,
          5674.32984765649,
          4413.36765928838,
          5359.08930056447,
          5989.57039474852,
          5674.32984765649,
          5674.3298476565,
          315.240547092027,
          3467.6460180123,
          3467.6460180123,
          5989.57039474852,
          5043.84875347244,
          5989.57039474852,
          4413.36765928838,
          2206.68382964419,
          3152.40547092027,
          2837.16492382825,
          5989.57039474852,
          5674.32984765649,
          5674.32984765649,
          5043.84875347244,
          945.721641276082,
          1891.44328255216,
          2837.16492382825,
          4728.60820638041,
          5989.57039474852,
          5359.08930056447,
          5359.08930056447,
          4413.36765928838,
          5674.32984765649,
          5674.32984765649,
          3782.88656510433,
          5359.08930056447,
          5043.84875347244,
          5043.84875347244,
          5043.84875347244,
          5359.08930056447,
          3782.88656510433,
          5043.84875347244,
          4413.36765928838,
          5359.08930056447,
          5674.32984765649,
          4413.36765928838,
          4413.36765928838,
          5359.08930056447,
          5674.32984765649,
          4413.36765928838,
          4098.12711219636,
          4728.60820638041,
          5359.08930056447,
          5674.32984765649,
          5359.08930056447,
          4098.12711219636,
          5043.84875347244,
          4728.60820638041,
          4728.60820638041,
          5674.32984765649,
          5359.08930056447,
          5359.08930056447,
          4728.60820638041,
          5043.84875347244,
          4098.12711219636,
          5359.08930056447,
          5359.08930056447
         ],
         "xaxis": "x",
         "y": [
          9.61680722000296,
          22.657054582904223,
          33.622367722527,
          26.525198938992038,
          18.787361229718186,
          25.465541938564385,
          35.48196333530455,
          9.060706735125342,
          14.15285078851598,
          23.398128149748015,
          31.13648157758173,
          44.20265215912954,
          17.58312020460358,
          30.01650907999399,
          9.775171065493648,
          14.53752498637107,
          36.266463065470525,
          45.89682393978339,
          25.882787946015913,
          15.40041067761807,
          34.682080924855505,
          22.393630256282663,
          16.672224074691567,
          24.82159478746509,
          29.252596167909903,
          20.446911055936912,
          18.67279517380064,
          17.414601473543208,
          24.340770791075048,
          29.66478789676654,
          20.64287820701858,
          26.079397276151845,
          27.676620538965764,
          19.897003745318354,
          20.214916480476646,
          24.020417354751533,
          28.67491699366134,
          22.30483271375465,
          26.90985199581403,
          34.68937243771681,
          22.510822510822507,
          24.034334763948497,
          28.3777392401072,
          29.976019184652287,
          22.311468094600627,
          12.772875058058524,
          11.674449633088724,
          18.413380389749886,
          20.886170371475455,
          27.349935223837623,
          32.14086081609839,
          15.852885225110976,
          10.327530244910003,
          34.01360544217686,
          29.86348122866895,
          30.75632601705578,
          36.08605135322693,
          14.795088030773785,
          37.075180226570545,
          31.85276942134137,
          28.29354553492484,
          22.203245089666947,
          25.465541938564385,
          19.219396806623298,
          18.121413470250683,
          22.2401940962394,
          23.398128149748015,
          19.027849852966614,
          27.201632097925874,
          31.969309462915604,
          19.510730901996094,
          21.17953730856957,
          21.806287479556605,
          7.635044855888531,
          55.07618872774007,
          49.91680532445926,
          29.089664613278575,
          37.98513625103222,
          19.9054491166957,
          18.89518728465044,
          23.270245113248524,
          36.56574520988738,
          16.065430115379,
          34.472852628555025,
          13.39584728734093,
          17.57944557133198,
          25.215069712251562,
          17.69389560601593,
          21.73283106345987,
          20.393299344501088,
          10.533707865168541,
          11.703372699223323,
          19.516589100735622,
          28.67491699366134,
          25.278810408921938,
          16.444909552997462,
          7.8839482812992765,
          10.389610389610388,
          25.75107296137339,
          26.801198171212356,
          28.477218225419673,
          32.723486538747586,
          10.45053413841152,
          10.006671114076049,
          16.878932023937395,
          20.886170371475455,
          31.66834604865409,
          19.564002235885976,
          19.02346227013317,
          19.179699026261435,
          28.09819580005915,
          19.9089874857793,
          27.960296379141617,
          16.655100624566277
         ],
         "yaxis": "y",
         "z": [
          11.434116546838538,
          9.474710819850497,
          10.45030590623715,
          10.454024082517174,
          10.638276172671308,
          11.022232522243687,
          11.43836434672227,
          11.31710651696091,
          9.638382252015312,
          10.361607100920704,
          10.570477212771559,
          10.662906294923475,
          10.998407090756528,
          11.352250573790563,
          10.89366965998431,
          10.311790962295648,
          10.059976293181483,
          10.258892227295387,
          10.222840772283014,
          10.62822531490318,
          10.819391041677104,
          12.473651459982452,
          13.199501536110208,
          11.164987655830519,
          11.50020355222584,
          11.508648800258582,
          11.60532745059137,
          12.019055578951342,
          11.962336225796175,
          11.419662208588123,
          11.453643382441,
          11.554987334957696,
          11.52383465046621,
          12.8617397368975,
          13.492157635653905,
          11.350538754053648,
          11.320540008199771,
          11.405189552044186,
          11.374480787194233,
          11.074117120333446,
          10.564960931548402,
          10.610842319010464,
          11.074994425515872,
          11.35995057051224,
          11.403485679015631,
          12.91300486798032,
          10.766278978350103,
          11.226601817789735,
          11.386432925747325,
          11.592762914696792,
          11.766620000325165,
          11.044247280211106,
          11.45024980307172,
          11.436665416090609,
          11.663782994882144,
          11.764142619491881,
          11.807010306305619,
          11.434116546838538,
          9.474710819850497,
          10.45030590623715,
          10.454024082517174,
          10.638276172671308,
          11.022232522243687,
          11.43836434672227,
          11.31710651696091,
          9.638382252015312,
          10.361607100920704,
          10.570477212771559,
          10.662906294923475,
          10.998407090756528,
          11.352250573790563,
          10.89366965998431,
          10.311790962295648,
          10.059976293181483,
          10.258892227295387,
          10.222840772283014,
          10.62822531490318,
          10.819391041677104,
          12.473651459982452,
          13.199501536110208,
          11.164987655830519,
          11.50020355222584,
          11.508648800258582,
          11.60532745059137,
          12.019055578951342,
          11.962336225796175,
          11.419662208588123,
          11.453643382441,
          11.554987334957696,
          11.52383465046621,
          12.8617397368975,
          13.492157635653905,
          11.350538754053648,
          11.320540008199771,
          11.405189552044186,
          11.374480787194233,
          11.074117120333446,
          10.564960931548402,
          10.610842319010464,
          11.074994425515872,
          11.35995057051224,
          11.403485679015631,
          12.91300486798032,
          10.766278978350103,
          11.226601817789735,
          11.386432925747325,
          11.592762914696792,
          11.766620000325165,
          11.044247280211106,
          11.45024980307172,
          11.436665416090609,
          11.663782994882144,
          11.764142619491881,
          11.807010306305619
         ]
        },
        {
         "line": {
          "smoothing": 0.85
         },
         "type": "contour",
         "x": [
          630.481094184055,
          2837.16492382825,
          3467.6460180123,
          4728.60820638041,
          3467.6460180123,
          4728.60820638041,
          4098.12711219636,
          1576.20273546014,
          2837.16492382825,
          4098.12711219636,
          4413.36765928838,
          5359.08930056447,
          5359.08930056447,
          4728.60820638041,
          945.721641276082,
          3782.88656510433,
          4098.12711219636,
          5674.32984765649,
          5359.08930056447,
          5359.08930056447,
          5674.32984765649,
          5359.08930056447,
          5989.57039474852,
          5989.57039474852,
          4728.60820638041,
          5043.84875347244,
          5674.3298476565,
          5989.57039474852,
          4098.12711219636,
          4728.60820638041,
          5989.57039474852,
          4728.60820638041,
          5674.32984765649,
          5674.32984765649,
          5989.57039474852,
          4728.60820638041,
          5674.32984765649,
          5043.84875347244,
          5359.08930056447,
          5674.32984765649,
          5359.08930056447,
          4413.36765928838,
          5043.84875347244,
          5674.32984765649,
          5359.08930056447,
          5043.84875347244,
          5989.57039474852,
          3782.88656510433,
          4098.12711219636,
          4728.60820638041,
          5359.08930056447,
          5674.32984765649,
          4413.36765928838,
          5359.08930056447,
          5989.57039474852,
          5674.32984765649,
          5674.3298476565,
          315.240547092027,
          3467.6460180123,
          3467.6460180123,
          5989.57039474852,
          5043.84875347244,
          5989.57039474852,
          4413.36765928838,
          2206.68382964419,
          3152.40547092027,
          2837.16492382825,
          5989.57039474852,
          5674.32984765649,
          5674.32984765649,
          5043.84875347244,
          945.721641276082,
          1891.44328255216,
          2837.16492382825,
          4728.60820638041,
          5989.57039474852,
          5359.08930056447,
          5359.08930056447,
          4413.36765928838,
          5674.32984765649,
          5674.32984765649,
          3782.88656510433,
          5359.08930056447,
          5043.84875347244,
          5043.84875347244,
          5043.84875347244,
          5359.08930056447,
          3782.88656510433,
          5043.84875347244,
          4413.36765928838,
          5359.08930056447,
          5674.32984765649,
          4413.36765928838,
          4413.36765928838,
          5359.08930056447,
          5674.32984765649,
          4413.36765928838,
          4098.12711219636,
          4728.60820638041,
          5359.08930056447,
          5674.32984765649,
          5359.08930056447,
          4098.12711219636,
          5043.84875347244,
          4728.60820638041,
          4728.60820638041,
          5674.32984765649,
          5359.08930056447,
          5359.08930056447,
          4728.60820638041,
          5043.84875347244,
          4098.12711219636,
          5359.08930056447,
          5359.08930056447
         ],
         "xaxis": "x2",
         "y": [
          9.61680722000296,
          22.657054582904223,
          33.622367722527,
          26.525198938992038,
          18.787361229718186,
          25.465541938564385,
          35.48196333530455,
          9.060706735125342,
          14.15285078851598,
          23.398128149748015,
          31.13648157758173,
          44.20265215912954,
          17.58312020460358,
          30.01650907999399,
          9.775171065493648,
          14.53752498637107,
          36.266463065470525,
          45.89682393978339,
          25.882787946015913,
          15.40041067761807,
          34.682080924855505,
          22.393630256282663,
          16.672224074691567,
          24.82159478746509,
          29.252596167909903,
          20.446911055936912,
          18.67279517380064,
          17.414601473543208,
          24.340770791075048,
          29.66478789676654,
          20.64287820701858,
          26.079397276151845,
          27.676620538965764,
          19.897003745318354,
          20.214916480476646,
          24.020417354751533,
          28.67491699366134,
          22.30483271375465,
          26.90985199581403,
          34.68937243771681,
          22.510822510822507,
          24.034334763948497,
          28.3777392401072,
          29.976019184652287,
          22.311468094600627,
          12.772875058058524,
          11.674449633088724,
          18.413380389749886,
          20.886170371475455,
          27.349935223837623,
          32.14086081609839,
          15.852885225110976,
          10.327530244910003,
          34.01360544217686,
          29.86348122866895,
          30.75632601705578,
          36.08605135322693,
          14.795088030773785,
          37.075180226570545,
          31.85276942134137,
          28.29354553492484,
          22.203245089666947,
          25.465541938564385,
          19.219396806623298,
          18.121413470250683,
          22.2401940962394,
          23.398128149748015,
          19.027849852966614,
          27.201632097925874,
          31.969309462915604,
          19.510730901996094,
          21.17953730856957,
          21.806287479556605,
          7.635044855888531,
          55.07618872774007,
          49.91680532445926,
          29.089664613278575,
          37.98513625103222,
          19.9054491166957,
          18.89518728465044,
          23.270245113248524,
          36.56574520988738,
          16.065430115379,
          34.472852628555025,
          13.39584728734093,
          17.57944557133198,
          25.215069712251562,
          17.69389560601593,
          21.73283106345987,
          20.393299344501088,
          10.533707865168541,
          11.703372699223323,
          19.516589100735622,
          28.67491699366134,
          25.278810408921938,
          16.444909552997462,
          7.8839482812992765,
          10.389610389610388,
          25.75107296137339,
          26.801198171212356,
          28.477218225419673,
          32.723486538747586,
          10.45053413841152,
          10.006671114076049,
          16.878932023937395,
          20.886170371475455,
          31.66834604865409,
          19.564002235885976,
          19.02346227013317,
          19.179699026261435,
          28.09819580005915,
          19.9089874857793,
          27.960296379141617,
          16.655100624566277
         ],
         "yaxis": "y2",
         "z": [
          0.3734292352375515,
          0.004929030944210574,
          0.0016851723896683496,
          0.002885204398040054,
          0.03841700154945067,
          0.004118452433871988,
          0.0007558926536391336,
          0.36757693955314724,
          0.12868100875055416,
          0.005192999039757156,
          0.0019947016909549094,
          0.0005399224132622771,
          0.05266697989354076,
          0.0014214645829165955,
          0.3360911582760867,
          0.1142274096027529,
          -0.00024263728921717118,
          -0.0000019498706000150495,
          0.003515285940208214,
          0.09458165970530395,
          0.00006789165556886744,
          0.016934590886659544,
          0.08932821707265798,
          0.006372730534849795,
          -0.00004586971869447415,
          0.0257482748586637,
          0.054628235996303995,
          0.07992236653358013,
          0.0019166251908948073,
          0.0025404937746195803,
          0.024456850355965464,
          0.004022797820505777,
          0.0030476236767782838,
          0.04557546520054787,
          0.031699094217129145,
          0.003574960869766075,
          0.004166883074029617,
          0.013617114402965452,
          0.003167432173020364,
          0.0015746731632190157,
          0.006789610594777985,
          0.0014610623283258745,
          0.00992456527611634,
          0.0054448029798137825,
          0.01635967806290349,
          0.20072500427280965,
          0.2196626453136564,
          0.052856819411373546,
          0.023865710947378035,
          0.0028308942383308013,
          -0.00016430959319379895,
          0.1048055342761284,
          0.2898613377739972,
          -0.000290117664191229,
          0.0025519313052247395,
          0.0005411168303500153,
          0.000023395695846995027,
          0.1506688760403536,
          0.0010616662941976237,
          0.0004144965818353142,
          0.0007777073642409654,
          0.013953741044151261,
          0.00031609807803285254,
          0.04350674434899822,
          0.11759945514470693,
          0.05480152731221084,
          0.0038371156023008163,
          0.03434991570494521,
          -0.0016972575679772544,
          -0.0004503517796941325,
          0.03757879727686975,
          0.02977885266902029,
          0.01154581581105171,
          0.40899210416094894,
          0.0004988001130047737,
          0.00025842501448899286,
          0.0019508137022803344,
          0.002122193037308142,
          0.040300510765857736,
          0.04621391412379357,
          0.008814516874630529,
          -0.0003413742422504161,
          0.08827206686418901,
          0.00129690605988384,
          0.18789655871882474,
          0.060720189409911196,
          -0.0002683030852027232,
          0.0523803101757719,
          0.017489446230999663,
          0.024256918183687592,
          0.31800307518738613,
          0.27071813883927864,
          0.03706477951504408,
          0.004843063591332699,
          0.0023385296985131607,
          0.0774222310331337,
          0.46126071704246374,
          0.26948721896359634,
          -0.00012407115160255873,
          0.0003542568890536012,
          -0.0001042425262878452,
          -0.000060104387769113625,
          0.36207772981973035,
          0.31570041532012644,
          0.07694756328309241,
          0.058714588438223435,
          0.0005679014937473774,
          0.042245954873329924,
          0.03361021314719008,
          0.010095908034088294,
          -0.00016244868360976877,
          0.051000534426177344,
          0.0008122283121855901,
          0.0788035800740835
         ]
        }
       ],
       "layout": {
        "annotations": [
         {
          "font": {
           "size": 16
          },
          "showarrow": false,
          "text": "Baseline Runs",
          "x": 0.225,
          "xanchor": "center",
          "xref": "paper",
          "y": 1,
          "yanchor": "bottom",
          "yref": "paper"
         },
         {
          "font": {
           "size": 16
          },
          "showarrow": false,
          "text": "Vegetated Runs",
          "x": 0.775,
          "xanchor": "center",
          "xref": "paper",
          "y": 1,
          "yanchor": "bottom",
          "yref": "paper"
         }
        ],
        "autosize": true,
        "height": 700,
        "template": {
         "data": {
          "bar": [
           {
            "error_x": {
             "color": "#f2f5fa"
            },
            "error_y": {
             "color": "#f2f5fa"
            },
            "marker": {
             "line": {
              "color": "rgb(17,17,17)",
              "width": 0.5
             },
             "pattern": {
              "fillmode": "overlay",
              "size": 10,
              "solidity": 0.2
             }
            },
            "type": "bar"
           }
          ],
          "barpolar": [
           {
            "marker": {
             "line": {
              "color": "rgb(17,17,17)",
              "width": 0.5
             },
             "pattern": {
              "fillmode": "overlay",
              "size": 10,
              "solidity": 0.2
             }
            },
            "type": "barpolar"
           }
          ],
          "carpet": [
           {
            "aaxis": {
             "endlinecolor": "#A2B1C6",
             "gridcolor": "#506784",
             "linecolor": "#506784",
             "minorgridcolor": "#506784",
             "startlinecolor": "#A2B1C6"
            },
            "baxis": {
             "endlinecolor": "#A2B1C6",
             "gridcolor": "#506784",
             "linecolor": "#506784",
             "minorgridcolor": "#506784",
             "startlinecolor": "#A2B1C6"
            },
            "type": "carpet"
           }
          ],
          "choropleth": [
           {
            "colorbar": {
             "outlinewidth": 0,
             "ticks": ""
            },
            "type": "choropleth"
           }
          ],
          "contour": [
           {
            "colorbar": {
             "outlinewidth": 0,
             "ticks": ""
            },
            "colorscale": [
             [
              0,
              "#0d0887"
             ],
             [
              0.1111111111111111,
              "#46039f"
             ],
             [
              0.2222222222222222,
              "#7201a8"
             ],
             [
              0.3333333333333333,
              "#9c179e"
             ],
             [
              0.4444444444444444,
              "#bd3786"
             ],
             [
              0.5555555555555556,
              "#d8576b"
             ],
             [
              0.6666666666666666,
              "#ed7953"
             ],
             [
              0.7777777777777778,
              "#fb9f3a"
             ],
             [
              0.8888888888888888,
              "#fdca26"
             ],
             [
              1,
              "#f0f921"
             ]
            ],
            "type": "contour"
           }
          ],
          "contourcarpet": [
           {
            "colorbar": {
             "outlinewidth": 0,
             "ticks": ""
            },
            "type": "contourcarpet"
           }
          ],
          "heatmap": [
           {
            "colorbar": {
             "outlinewidth": 0,
             "ticks": ""
            },
            "colorscale": [
             [
              0,
              "#0d0887"
             ],
             [
              0.1111111111111111,
              "#46039f"
             ],
             [
              0.2222222222222222,
              "#7201a8"
             ],
             [
              0.3333333333333333,
              "#9c179e"
             ],
             [
              0.4444444444444444,
              "#bd3786"
             ],
             [
              0.5555555555555556,
              "#d8576b"
             ],
             [
              0.6666666666666666,
              "#ed7953"
             ],
             [
              0.7777777777777778,
              "#fb9f3a"
             ],
             [
              0.8888888888888888,
              "#fdca26"
             ],
             [
              1,
              "#f0f921"
             ]
            ],
            "type": "heatmap"
           }
          ],
          "heatmapgl": [
           {
            "colorbar": {
             "outlinewidth": 0,
             "ticks": ""
            },
            "colorscale": [
             [
              0,
              "#0d0887"
             ],
             [
              0.1111111111111111,
              "#46039f"
             ],
             [
              0.2222222222222222,
              "#7201a8"
             ],
             [
              0.3333333333333333,
              "#9c179e"
             ],
             [
              0.4444444444444444,
              "#bd3786"
             ],
             [
              0.5555555555555556,
              "#d8576b"
             ],
             [
              0.6666666666666666,
              "#ed7953"
             ],
             [
              0.7777777777777778,
              "#fb9f3a"
             ],
             [
              0.8888888888888888,
              "#fdca26"
             ],
             [
              1,
              "#f0f921"
             ]
            ],
            "type": "heatmapgl"
           }
          ],
          "histogram": [
           {
            "marker": {
             "pattern": {
              "fillmode": "overlay",
              "size": 10,
              "solidity": 0.2
             }
            },
            "type": "histogram"
           }
          ],
          "histogram2d": [
           {
            "colorbar": {
             "outlinewidth": 0,
             "ticks": ""
            },
            "colorscale": [
             [
              0,
              "#0d0887"
             ],
             [
              0.1111111111111111,
              "#46039f"
             ],
             [
              0.2222222222222222,
              "#7201a8"
             ],
             [
              0.3333333333333333,
              "#9c179e"
             ],
             [
              0.4444444444444444,
              "#bd3786"
             ],
             [
              0.5555555555555556,
              "#d8576b"
             ],
             [
              0.6666666666666666,
              "#ed7953"
             ],
             [
              0.7777777777777778,
              "#fb9f3a"
             ],
             [
              0.8888888888888888,
              "#fdca26"
             ],
             [
              1,
              "#f0f921"
             ]
            ],
            "type": "histogram2d"
           }
          ],
          "histogram2dcontour": [
           {
            "colorbar": {
             "outlinewidth": 0,
             "ticks": ""
            },
            "colorscale": [
             [
              0,
              "#0d0887"
             ],
             [
              0.1111111111111111,
              "#46039f"
             ],
             [
              0.2222222222222222,
              "#7201a8"
             ],
             [
              0.3333333333333333,
              "#9c179e"
             ],
             [
              0.4444444444444444,
              "#bd3786"
             ],
             [
              0.5555555555555556,
              "#d8576b"
             ],
             [
              0.6666666666666666,
              "#ed7953"
             ],
             [
              0.7777777777777778,
              "#fb9f3a"
             ],
             [
              0.8888888888888888,
              "#fdca26"
             ],
             [
              1,
              "#f0f921"
             ]
            ],
            "type": "histogram2dcontour"
           }
          ],
          "mesh3d": [
           {
            "colorbar": {
             "outlinewidth": 0,
             "ticks": ""
            },
            "type": "mesh3d"
           }
          ],
          "parcoords": [
           {
            "line": {
             "colorbar": {
              "outlinewidth": 0,
              "ticks": ""
             }
            },
            "type": "parcoords"
           }
          ],
          "pie": [
           {
            "automargin": true,
            "type": "pie"
           }
          ],
          "scatter": [
           {
            "marker": {
             "line": {
              "color": "#283442"
             }
            },
            "type": "scatter"
           }
          ],
          "scatter3d": [
           {
            "line": {
             "colorbar": {
              "outlinewidth": 0,
              "ticks": ""
             }
            },
            "marker": {
             "colorbar": {
              "outlinewidth": 0,
              "ticks": ""
             }
            },
            "type": "scatter3d"
           }
          ],
          "scattercarpet": [
           {
            "marker": {
             "colorbar": {
              "outlinewidth": 0,
              "ticks": ""
             }
            },
            "type": "scattercarpet"
           }
          ],
          "scattergeo": [
           {
            "marker": {
             "colorbar": {
              "outlinewidth": 0,
              "ticks": ""
             }
            },
            "type": "scattergeo"
           }
          ],
          "scattergl": [
           {
            "marker": {
             "line": {
              "color": "#283442"
             }
            },
            "type": "scattergl"
           }
          ],
          "scattermapbox": [
           {
            "marker": {
             "colorbar": {
              "outlinewidth": 0,
              "ticks": ""
             }
            },
            "type": "scattermapbox"
           }
          ],
          "scatterpolar": [
           {
            "marker": {
             "colorbar": {
              "outlinewidth": 0,
              "ticks": ""
             }
            },
            "type": "scatterpolar"
           }
          ],
          "scatterpolargl": [
           {
            "marker": {
             "colorbar": {
              "outlinewidth": 0,
              "ticks": ""
             }
            },
            "type": "scatterpolargl"
           }
          ],
          "scatterternary": [
           {
            "marker": {
             "colorbar": {
              "outlinewidth": 0,
              "ticks": ""
             }
            },
            "type": "scatterternary"
           }
          ],
          "surface": [
           {
            "colorbar": {
             "outlinewidth": 0,
             "ticks": ""
            },
            "colorscale": [
             [
              0,
              "#0d0887"
             ],
             [
              0.1111111111111111,
              "#46039f"
             ],
             [
              0.2222222222222222,
              "#7201a8"
             ],
             [
              0.3333333333333333,
              "#9c179e"
             ],
             [
              0.4444444444444444,
              "#bd3786"
             ],
             [
              0.5555555555555556,
              "#d8576b"
             ],
             [
              0.6666666666666666,
              "#ed7953"
             ],
             [
              0.7777777777777778,
              "#fb9f3a"
             ],
             [
              0.8888888888888888,
              "#fdca26"
             ],
             [
              1,
              "#f0f921"
             ]
            ],
            "type": "surface"
           }
          ],
          "table": [
           {
            "cells": {
             "fill": {
              "color": "#506784"
             },
             "line": {
              "color": "rgb(17,17,17)"
             }
            },
            "header": {
             "fill": {
              "color": "#2a3f5f"
             },
             "line": {
              "color": "rgb(17,17,17)"
             }
            },
            "type": "table"
           }
          ]
         },
         "layout": {
          "annotationdefaults": {
           "arrowcolor": "#f2f5fa",
           "arrowhead": 0,
           "arrowwidth": 1
          },
          "autotypenumbers": "strict",
          "coloraxis": {
           "colorbar": {
            "outlinewidth": 0,
            "ticks": ""
           }
          },
          "colorscale": {
           "diverging": [
            [
             0,
             "#8e0152"
            ],
            [
             0.1,
             "#c51b7d"
            ],
            [
             0.2,
             "#de77ae"
            ],
            [
             0.3,
             "#f1b6da"
            ],
            [
             0.4,
             "#fde0ef"
            ],
            [
             0.5,
             "#f7f7f7"
            ],
            [
             0.6,
             "#e6f5d0"
            ],
            [
             0.7,
             "#b8e186"
            ],
            [
             0.8,
             "#7fbc41"
            ],
            [
             0.9,
             "#4d9221"
            ],
            [
             1,
             "#276419"
            ]
           ],
           "sequential": [
            [
             0,
             "#0d0887"
            ],
            [
             0.1111111111111111,
             "#46039f"
            ],
            [
             0.2222222222222222,
             "#7201a8"
            ],
            [
             0.3333333333333333,
             "#9c179e"
            ],
            [
             0.4444444444444444,
             "#bd3786"
            ],
            [
             0.5555555555555556,
             "#d8576b"
            ],
            [
             0.6666666666666666,
             "#ed7953"
            ],
            [
             0.7777777777777778,
             "#fb9f3a"
            ],
            [
             0.8888888888888888,
             "#fdca26"
            ],
            [
             1,
             "#f0f921"
            ]
           ],
           "sequentialminus": [
            [
             0,
             "#0d0887"
            ],
            [
             0.1111111111111111,
             "#46039f"
            ],
            [
             0.2222222222222222,
             "#7201a8"
            ],
            [
             0.3333333333333333,
             "#9c179e"
            ],
            [
             0.4444444444444444,
             "#bd3786"
            ],
            [
             0.5555555555555556,
             "#d8576b"
            ],
            [
             0.6666666666666666,
             "#ed7953"
            ],
            [
             0.7777777777777778,
             "#fb9f3a"
            ],
            [
             0.8888888888888888,
             "#fdca26"
            ],
            [
             1,
             "#f0f921"
            ]
           ]
          },
          "colorway": [
           "#636efa",
           "#EF553B",
           "#00cc96",
           "#ab63fa",
           "#FFA15A",
           "#19d3f3",
           "#FF6692",
           "#B6E880",
           "#FF97FF",
           "#FECB52"
          ],
          "font": {
           "color": "#f2f5fa"
          },
          "geo": {
           "bgcolor": "rgb(17,17,17)",
           "lakecolor": "rgb(17,17,17)",
           "landcolor": "rgb(17,17,17)",
           "showlakes": true,
           "showland": true,
           "subunitcolor": "#506784"
          },
          "hoverlabel": {
           "align": "left"
          },
          "hovermode": "closest",
          "mapbox": {
           "style": "dark"
          },
          "paper_bgcolor": "rgb(17,17,17)",
          "plot_bgcolor": "rgb(17,17,17)",
          "polar": {
           "angularaxis": {
            "gridcolor": "#506784",
            "linecolor": "#506784",
            "ticks": ""
           },
           "bgcolor": "rgb(17,17,17)",
           "radialaxis": {
            "gridcolor": "#506784",
            "linecolor": "#506784",
            "ticks": ""
           }
          },
          "scene": {
           "xaxis": {
            "backgroundcolor": "rgb(17,17,17)",
            "gridcolor": "#506784",
            "gridwidth": 2,
            "linecolor": "#506784",
            "showbackground": true,
            "ticks": "",
            "zerolinecolor": "#C8D4E3"
           },
           "yaxis": {
            "backgroundcolor": "rgb(17,17,17)",
            "gridcolor": "#506784",
            "gridwidth": 2,
            "linecolor": "#506784",
            "showbackground": true,
            "ticks": "",
            "zerolinecolor": "#C8D4E3"
           },
           "zaxis": {
            "backgroundcolor": "rgb(17,17,17)",
            "gridcolor": "#506784",
            "gridwidth": 2,
            "linecolor": "#506784",
            "showbackground": true,
            "ticks": "",
            "zerolinecolor": "#C8D4E3"
           }
          },
          "shapedefaults": {
           "line": {
            "color": "#f2f5fa"
           }
          },
          "sliderdefaults": {
           "bgcolor": "#C8D4E3",
           "bordercolor": "rgb(17,17,17)",
           "borderwidth": 1,
           "tickwidth": 0
          },
          "ternary": {
           "aaxis": {
            "gridcolor": "#506784",
            "linecolor": "#506784",
            "ticks": ""
           },
           "baxis": {
            "gridcolor": "#506784",
            "linecolor": "#506784",
            "ticks": ""
           },
           "bgcolor": "rgb(17,17,17)",
           "caxis": {
            "gridcolor": "#506784",
            "linecolor": "#506784",
            "ticks": ""
           }
          },
          "title": {
           "x": 0.05
          },
          "updatemenudefaults": {
           "bgcolor": "#506784",
           "borderwidth": 0
          },
          "xaxis": {
           "automargin": true,
           "gridcolor": "#283442",
           "linecolor": "#506784",
           "ticks": "",
           "title": {
            "standoff": 15
           },
           "zerolinecolor": "#283442",
           "zerolinewidth": 2
          },
          "yaxis": {
           "automargin": true,
           "gridcolor": "#283442",
           "linecolor": "#506784",
           "ticks": "",
           "title": {
            "standoff": 15
           },
           "zerolinecolor": "#283442",
           "zerolinewidth": 2
          }
         }
        },
        "title": {
         "text": "Velocity Contour Plot"
        },
        "width": 1400,
        "xaxis": {
         "anchor": "y",
         "domain": [
          0,
          0.45
         ],
         "title": {
          "text": "Density"
         }
        },
        "xaxis2": {
         "anchor": "y2",
         "domain": [
          0.55,
          1
         ]
        },
        "yaxis": {
         "anchor": "x",
         "domain": [
          0,
          1
         ],
         "title": {
          "text": "Hveg/WC"
         }
        },
        "yaxis2": {
         "anchor": "x2",
         "domain": [
          0,
          1
         ]
        }
       }
      }
     },
     "metadata": {},
     "output_type": "display_data"
    }
   ],
   "source": [
    "fig = make_subplots(rows=1, cols=2,\n",
    "                    subplot_titles=('Baseline Runs', 'Vegetated Runs'))\n",
    "\n",
    "cbarlocs = [.85, .5, .15]\n",
    "\n",
    "fig.add_trace(go.Contour(\n",
    "        z=df2['mean_u_25'],\n",
    "        x=df2['density_total'], # horizontal axis\n",
    "        y=df2['Hveg/WC'],# vertical axis,\n",
    "        colorbar_x=0.46,\n",
    "        line_smoothing=0.85), 1, 1)\n",
    "fig.add_trace(go.Contour(\n",
    "        z=df1['mean_u_25'],\n",
    "        x=df1['density_total'], # horizontal axis\n",
    "        y=df1['Hveg/WC'],# vertical axis,\n",
    "        line_smoothing=0.85), 1, 2)\n",
    "\n",
    "#fig = go.Figure(data =\n",
    " #   go.Contour(\n",
    "  #      z=dff['mean_u_25'],\n",
    "   #     x=dff['density_total'], # horizontal axis\n",
    "    #    y=dff['Hveg/WC'],# vertical axis,\n",
    "     #))\n",
    "fig.update_layout(\n",
    "    title=\"Velocity Contour Plot\",\n",
    "    xaxis_title=\"Density\",\n",
    "    yaxis_title=\"Hveg/WC\",\n",
    "    width=1400,\n",
    "    height=700,\n",
    "    autosize=True,\n",
    "    template='plotly_dark')\n",
    "fig.show()"
   ]
  },
  {
   "cell_type": "markdown",
   "metadata": {},
   "source": [
    "## Maps"
   ]
  },
  {
   "cell_type": "code",
   "execution_count": 91,
   "metadata": {},
   "outputs": [
    {
     "data": {
      "application/vnd.plotly.v1+json": {
       "config": {
        "plotlyServerURL": "https://plot.ly"
       },
       "data": [
        {
         "customdata": [
          [
           "Bay",
           1.3592650169565137,
           630.481094184055,
           9.61680722000296
          ],
          [
           "Bay",
           0.5103025642236216,
           2837.16492382825,
           22.657054582904223
          ],
          [
           "Bay",
           0.3286437924729354,
           3467.6460180123,
           33.622367722527
          ],
          [
           "Bay",
           0.45515997537639585,
           4728.60820638041,
           26.525198938992038
          ],
          [
           "Bay",
           0.698899136355107,
           3467.6460180123,
           18.787361229718186
          ],
          [
           "Bay",
           0.5200176014225153,
           4728.60820638041,
           25.465541938564385
          ],
          [
           "Bay",
           0.3265804713721051,
           4098.12711219636,
           35.48196333530455
          ],
          [
           "Bay",
           0.543751367828793,
           4098.12711219636,
           23.398128149748015
          ],
          [
           "Bay",
           0.38082686886336153,
           4413.36765928838,
           31.13648157758173
          ],
          [
           "Bay",
           0.20112182662794495,
           5359.08930056447,
           44.20265215912954
          ],
          [
           "Bay",
           0.7625154658544469,
           5359.08930056447,
           17.58312020460358
          ],
          [
           "Bay",
           0.40975347369678367,
           4728.60820638041,
           30.01650907999399
          ],
          [
           "Bay",
           1.2777263819523763,
           945.721641276082,
           9.775171065493648
          ],
          [
           "Bay",
           0.8709433130067955,
           3782.88656510433,
           14.53752498637107
          ],
          [
           "Bay",
           0.26654950669580113,
           4098.12711219636,
           36.266463065470525
          ],
          [
           "Bay",
           0.17164323846681598,
           5674.32984765649,
           45.89682393978339
          ],
          [
           "Bay",
           0.47691502456706003,
           5359.08930056447,
           25.882787946015913
          ],
          [
           "Bay",
           0.8433391850343966,
           5359.08930056447,
           15.40041067761807
          ],
          [
           "Bay",
           0.3290697201519917,
           5674.32984765649,
           34.682080924855505
          ],
          [
           "Creek",
           0.7012205971671923,
           5359.08930056447,
           22.393630256282663
          ],
          [
           "Creek",
           0.5554442297995603,
           5989.57039474852,
           24.82159478746509
          ],
          [
           "Creek",
           0.4413861500219262,
           4728.60820638041,
           29.252596167909903
          ],
          [
           "Creek",
           0.690553787409425,
           5043.84875347244,
           20.446911055936912
          ],
          [
           "Creek",
           0.7992741099075418,
           5674.3298476565,
           18.67279517380064
          ],
          [
           "Creek",
           0.8898439756923031,
           5989.57039474852,
           17.414601473543208
          ],
          [
           "Creek",
           0.5908675654258939,
           4098.12711219636,
           24.340770791075048
          ],
          [
           "Creek",
           0.4397756349892603,
           4728.60820638041,
           29.66478789676654
          ],
          [
           "Creek",
           0.6760749858908367,
           5989.57039474852,
           20.64287820701858
          ],
          [
           "Creek",
           0.5363194580364846,
           4728.60820638041,
           26.079397276151845
          ],
          [
           "Creek",
           0.46909420986116634,
           5674.32984765649,
           27.676620538965764
          ],
          [
           "Creek",
           0.8287400877592603,
           5674.32984765649,
           19.897003745318354
          ],
          [
           "Creek",
           0.8086795514175197,
           5989.57039474852,
           20.214916480476646
          ],
          [
           "Creek",
           0.5651702857145902,
           4728.60820638041,
           24.020417354751533
          ],
          [
           "Creek",
           0.4950741918960787,
           5674.32984765649,
           28.67491699366134
          ],
          [
           "Creek",
           0.6446474608426062,
           5043.84875347244,
           22.30483271375465
          ],
          [
           "Creek",
           0.49707070332813225,
           5359.08930056447,
           26.90985199581403
          ],
          [
           "Interior",
           0.3324782009321994,
           5674.32984765649,
           34.68937243771681
          ],
          [
           "Interior",
           0.5605192619077259,
           5359.08930056447,
           22.510822510822507
          ],
          [
           "Interior",
           0.5221258022091906,
           4413.36765928838,
           24.034334763948497
          ],
          [
           "Interior",
           0.4522017025862316,
           5043.84875347244,
           28.3777392401072
          ],
          [
           "Interior",
           0.4598617743343786,
           5674.32984765649,
           29.976019184652287
          ],
          [
           "Interior",
           0.6404308369864579,
           5359.08930056447,
           22.311468094600627
          ],
          [
           "Interior",
           1.1978981800785493,
           5043.84875347244,
           12.772875058058524
          ],
          [
           "Interior",
           1.0842203100063368,
           5989.57039474852,
           11.674449633088724
          ],
          [
           "Interior",
           0.7808682854363156,
           3782.88656510433,
           18.413380389749886
          ],
          [
           "Interior",
           0.6874622338211613,
           4098.12711219636,
           20.886170371475455
          ],
          [
           "Interior",
           0.5053887828651638,
           4728.60820638041,
           27.349935223837623
          ],
          [
           "Interior",
           0.4007947695683334,
           5359.08930056447,
           32.14086081609839
          ],
          [
           "Interior",
           0.88090332438123,
           5674.32984765649,
           15.852885225110976
          ],
          [
           "Interior",
           1.246928195992003,
           4413.36765928838,
           10.327530244910003
          ],
          [
           "Interior",
           0.34257505689218215,
           5359.08930056447,
           34.01360544217686
          ],
          [
           "Interior",
           0.4581330220253045,
           5989.57039474852,
           29.86348122866895
          ],
          [
           "Interior",
           0.4237513277861222,
           5674.32984765649,
           30.75632601705578
          ],
          [
           "Interior",
           0.32795938556551335,
           5674.3298476565,
           36.08605135322693
          ],
          [
           "Bay",
           0.9916123850499081,
           315.240547092027,
           14.795088030773785
          ],
          [
           "Bay",
           0.25945525042793266,
           3467.6460180123,
           37.075180226570545
          ],
          [
           "Bay",
           0.35722004861242634,
           3467.6460180123,
           31.85276942134137
          ],
          [
           "Bay",
           0.4263030163263412,
           5989.57039474852,
           28.29354553492484
          ],
          [
           "Bay",
           0.5950197344133862,
           5043.84875347244,
           22.203245089666947
          ],
          [
           "Bay",
           0.5158934199389179,
           5989.57039474852,
           25.465541938564385
          ],
          [
           "Bay",
           0.7439415723306905,
           4413.36765928838,
           19.219396806623298
          ],
          [
           "Bay",
           0.5412187000103333,
           2837.16492382825,
           23.398128149748015
          ],
          [
           "Bay",
           0.6836638936476852,
           5989.57039474852,
           19.027849852966614
          ],
          [
           "Bay",
           0.4632916358853887,
           5674.32984765649,
           27.201632097925874
          ],
          [
           "Bay",
           0.369575831093671,
           5674.32984765649,
           31.969309462915604
          ],
          [
           "Bay",
           0.7221646733015429,
           5043.84875347244,
           19.510730901996094
          ],
          [
           "Bay",
           0.6553435740122208,
           945.721641276082,
           21.17953730856957
          ],
          [
           "Bay",
           0.5826878863742487,
           1891.44328255216,
           21.806287479556605
          ],
          [
           "Bay",
           1.3089906898905679,
           2837.16492382825,
           7.635044855888531
          ],
          [
           "Bay",
           0.10171930592298131,
           4728.60820638041,
           55.07618872774007
          ],
          [
           "Bay",
           0.14852464806883567,
           5989.57039474852,
           49.91680532445926
          ],
          [
           "Bay",
           0.40950966157062546,
           5359.08930056447,
           29.089664613278575
          ],
          [
           "Bay",
           0.2716526334527395,
           5359.08930056447,
           37.98513625103222
          ],
          [
           "Creek",
           0.7908562660418602,
           4413.36765928838,
           19.9054491166957
          ],
          [
           "Creek",
           0.5887136684876483,
           5674.32984765649,
           23.270245113248524
          ],
          [
           "Creek",
           0.3123951438875673,
           3782.88656510433,
           36.56574520988738
          ],
          [
           "Creek",
           0.9069496709412486,
           5359.08930056447,
           16.065430115379
          ],
          [
           "Creek",
           0.35088555805782906,
           5043.84875347244,
           34.472852628555025
          ],
          [
           "Creek",
           1.108348388807586,
           5043.84875347244,
           13.39584728734093
          ],
          [
           "Creek",
           0.8269815667876742,
           5043.84875347244,
           17.57944557133198
          ],
          [
           "Creek",
           0.5296118922434696,
           5359.08930056447,
           25.215069712251562
          ],
          [
           "Creek",
           0.7858527847810537,
           3782.88656510433,
           17.69389560601593
          ],
          [
           "Creek",
           0.652363195535387,
           5043.84875347244,
           21.73283106345987
          ],
          [
           "Creek",
           0.697215243347076,
           4413.36765928838,
           20.393299344501088
          ],
          [
           "Creek",
           1.3861057989652343,
           5359.08930056447,
           10.533707865168541
          ],
          [
           "Creek",
           1.3480995087939405,
           5674.32984765649,
           11.703372699223323
          ],
          [
           "Creek",
           0.7336325640708997,
           4413.36765928838,
           19.516589100735622
          ],
          [
           "Creek",
           0.46237621879014545,
           4413.36765928838,
           28.67491699366134
          ],
          [
           "Creek",
           0.5352518203519523,
           5359.08930056447,
           25.278810408921938
          ],
          [
           "Creek",
           0.8365373645640469,
           5674.32984765649,
           16.444909552997462
          ],
          [
           "Interior",
           1.4622657631981093,
           4413.36765928838,
           7.8839482812992765
          ],
          [
           "Interior",
           1.1491061157834896,
           4098.12711219636,
           10.389610389610388
          ],
          [
           "Interior",
           0.49261612431010615,
           4728.60820638041,
           25.75107296137339
          ],
          [
           "Interior",
           0.5032697715657666,
           5359.08930056447,
           26.801198171212356
          ],
          [
           "Interior",
           0.46758428783971756,
           5674.32984765649,
           28.477218225419673
          ],
          [
           "Interior",
           0.4821531906882198,
           5359.08930056447,
           32.723486538747586
          ],
          [
           "Interior",
           1.424962409796556,
           4098.12711219636,
           10.45053413841152
          ],
          [
           "Interior",
           1.2077743399244807,
           5043.84875347244,
           10.006671114076049
          ],
          [
           "Interior",
           0.8280468136003757,
           4728.60820638041,
           16.878932023937395
          ],
          [
           "Interior",
           0.73761002260273,
           4728.60820638041,
           20.886170371475455
          ],
          [
           "Interior",
           0.3945666755180598,
           5674.32984765649,
           31.66834604865409
          ],
          [
           "Interior",
           0.7510287301279653,
           5359.08930056447,
           19.564002235885976
          ],
          [
           "Interior",
           0.7060010045180906,
           5359.08930056447,
           19.02346227013317
          ],
          [
           "Interior",
           0.7148145690067229,
           4728.60820638041,
           19.179699026261435
          ],
          [
           "Interior",
           0.4661870675468359,
           5043.84875347244,
           28.09819580005915
          ],
          [
           "Interior",
           0.7969722493283818,
           4098.12711219636,
           19.9089874857793
          ],
          [
           "Interior",
           0.4787615550155717,
           5359.08930056447,
           27.960296379141617
          ],
          [
           "Interior",
           0.8704910931158285,
           5359.08930056447,
           16.655100624566277
          ]
         ],
         "hovertemplate": "<b>%{hovertext}</b><br><br>Hveg/WC=%{customdata[3]}<br>lat=%{lat}<br>lon=%{lon}<br>site=%{customdata[0]}<br>mean_u=%{marker.color}<br>density_total=%{customdata[2]}<extra></extra>",
         "hovertext": [
          "A0.5",
          "A2",
          "A6",
          "A12",
          "A24",
          "A48",
          "A72",
          "B6",
          "B12",
          "B24",
          "B48",
          "B72",
          "C0.5",
          "C2",
          "C6",
          "C12",
          "C24",
          "C48",
          "C72",
          "D0.5",
          "D6",
          "D12",
          "D24",
          "D30",
          "E0.5",
          "E2",
          "E6",
          "E12",
          "E24",
          "E30",
          "I0.5",
          "I2",
          "I6",
          "I12",
          "I24",
          "I30",
          "F0.5",
          "F2",
          "F6",
          "F12",
          "F24",
          "F30",
          "G0.5",
          "G2",
          "G6",
          "G12",
          "G24",
          "G30",
          "H0.5",
          "H2",
          "H6",
          "H12",
          "H24",
          "H30",
          "A0.5",
          "A2",
          "A6",
          "A12",
          "A24",
          "A48",
          "A72",
          "B6",
          "B12",
          "B24",
          "B48",
          "B72",
          "C0.5",
          "C2",
          "C6",
          "C12",
          "C24",
          "C48",
          "C72",
          "D0.5",
          "D6",
          "D12",
          "D24",
          "D30",
          "E0.5",
          "E24",
          "E6",
          "E12",
          "E24",
          "E30",
          "I0.5",
          "I2",
          "I6",
          "I12",
          "I24",
          "I30",
          "F0.5",
          "F2",
          "F6",
          "F12",
          "F24",
          "F30",
          "G0.5",
          "G2",
          "G6",
          "G12",
          "G24",
          "G30",
          "H0.5",
          "H24",
          "H6",
          "H12",
          "H24",
          "H30"
         ],
         "lat": [
          37.58337817323479,
          37.583388162513195,
          37.5834038385779,
          37.58342810310442,
          37.58348088117915,
          37.5835827265273,
          37.58368461649292,
          37.58309924724294,
          37.58312337206426,
          37.58317481705138,
          37.583284855678805,
          37.58340173765898,
          37.582810726303066,
          37.58281736902726,
          37.58283850892091,
          37.582868430236076,
          37.58292423843334,
          37.58303524209037,
          37.583145148702776,
          37.583347466430155,
          37.58336157946457,
          37.58338036989468,
          37.58341714983487,
          37.58343479339755,
          37.583557580346806,
          37.58356135510702,
          37.58357090956617,
          37.58358735871719,
          37.583618460755964,
          37.58363416411016,
          37.58392366329936,
          37.58392481218142,
          37.583925272396556,
          37.58392654948286,
          37.58393086254132,
          37.5839351409277,
          37.587332822411774,
          37.58734514424084,
          37.58738192437034,
          37.587434760434554,
          37.58754162127226,
          37.5875951911084,
          37.58738063537536,
          37.58739404334074,
          37.587429469883574,
          37.587483795173135,
          37.58759193160835,
          37.58764438287013,
          37.58811724525316,
          37.5881053647653,
          37.5880813403357,
          37.58804563401874,
          37.58797293640687,
          37.58793712788751,
          37.58337817323479,
          37.583388162513195,
          37.5834038385779,
          37.58342810310442,
          37.58348088117915,
          37.5835827265273,
          37.58368461649292,
          37.58309924724294,
          37.58312337206426,
          37.58317481705138,
          37.583284855678805,
          37.58340173765898,
          37.582810726303066,
          37.58281736902726,
          37.58283850892091,
          37.582868430236076,
          37.58292423843334,
          37.58303524209037,
          37.583145148702776,
          37.583347466430155,
          37.58336157946457,
          37.58338036989468,
          37.58341714983487,
          37.58343479339755,
          37.583557580346806,
          37.583618460755964,
          37.58357090956617,
          37.58358735871719,
          37.583618460755964,
          37.58363416411016,
          37.58392366329936,
          37.58392481218142,
          37.583925272396556,
          37.58392654948286,
          37.58393086254132,
          37.5839351409277,
          37.587332822411774,
          37.58734514424084,
          37.58738192437034,
          37.587434760434554,
          37.58754162127226,
          37.5875951911084,
          37.58738063537536,
          37.58739404334074,
          37.587429469883574,
          37.587483795173135,
          37.58759193160835,
          37.58764438287013,
          37.58811724525316,
          37.58797293640687,
          37.5880813403357,
          37.58804563401874,
          37.58797293640687,
          37.58793712788751
         ],
         "legendgroup": "",
         "lon": [
          -122.14509818330222,
          -122.14508038373529,
          -122.14503869833155,
          -122.14497741156467,
          -122.14485899899375,
          -122.14461994381986,
          -122.1443813682423,
          -122.14478294483007,
          -122.14472385861461,
          -122.14460461554958,
          -122.14437362808194,
          -122.1441451173416,
          -122.14466286826367,
          -122.14464738179639,
          -122.14461111966155,
          -122.14455328352622,
          -122.14444110283719,
          -122.1442084418528,
          -122.14397487996725,
          -122.14227575323211,
          -122.14233492395816,
          -122.14239985443506,
          -122.14252709186387,
          -122.1425946488592,
          -122.14213269235695,
          -122.14214945591316,
          -122.14219274651536,
          -122.14225646867035,
          -122.14238704669408,
          -122.14245249437238,
          -122.1419288145704,
          -122.14194568545243,
          -122.14199077270543,
          -122.14205998424364,
          -122.14219471566082,
          -122.14226202930614,
          -122.14304441991689,
          -122.14304870481872,
          -122.14305514755708,
          -122.1430644624004,
          -122.14307546499451,
          -122.14307884910853,
          -122.14351118742512,
          -122.14350937297232,
          -122.1435048961826,
          -122.1434976237197,
          -122.1434840132893,
          -122.14347807309179,
          -122.14416306511293,
          -122.14414619313268,
          -122.14411254527921,
          -122.14406202325586,
          -122.14396000470556,
          -122.14390884742828,
          -122.14509818330222,
          -122.14508038373529,
          -122.14503869833155,
          -122.14497741156467,
          -122.14485899899375,
          -122.14461994381986,
          -122.1443813682423,
          -122.14478294483007,
          -122.14472385861461,
          -122.14460461554958,
          -122.14437362808194,
          -122.1441451173416,
          -122.14466286826367,
          -122.14464738179639,
          -122.14461111966155,
          -122.14455328352622,
          -122.14444110283719,
          -122.1442084418528,
          -122.14397487996725,
          -122.14227575323211,
          -122.14233492395816,
          -122.14239985443506,
          -122.14252709186387,
          -122.1425946488592,
          -122.14213269235695,
          -122.14238704669408,
          -122.14219274651536,
          -122.14225646867035,
          -122.14238704669408,
          -122.14245249437238,
          -122.1419288145704,
          -122.14194568545243,
          -122.14199077270543,
          -122.14205998424364,
          -122.14219471566082,
          -122.14226202930614,
          -122.14304441991689,
          -122.14304870481872,
          -122.14305514755708,
          -122.1430644624004,
          -122.14307546499451,
          -122.14307884910853,
          -122.14351118742512,
          -122.14350937297232,
          -122.1435048961826,
          -122.1434976237197,
          -122.1434840132893,
          -122.14347807309179,
          -122.14416306511293,
          -122.14396000470556,
          -122.14411254527921,
          -122.14406202325586,
          -122.14396000470556,
          -122.14390884742828
         ],
         "marker": {
          "color": [
           1.3592650169565137,
           0.5103025642236216,
           0.3286437924729354,
           0.45515997537639585,
           0.698899136355107,
           0.5200176014225153,
           0.3265804713721051,
           0.543751367828793,
           0.38082686886336153,
           0.20112182662794495,
           0.7625154658544469,
           0.40975347369678367,
           1.2777263819523763,
           0.8709433130067955,
           0.26654950669580113,
           0.17164323846681598,
           0.47691502456706003,
           0.8433391850343966,
           0.3290697201519917,
           0.7012205971671923,
           0.5554442297995603,
           0.4413861500219262,
           0.690553787409425,
           0.7992741099075418,
           0.8898439756923031,
           0.5908675654258939,
           0.4397756349892603,
           0.6760749858908367,
           0.5363194580364846,
           0.46909420986116634,
           0.8287400877592603,
           0.8086795514175197,
           0.5651702857145902,
           0.4950741918960787,
           0.6446474608426062,
           0.49707070332813225,
           0.3324782009321994,
           0.5605192619077259,
           0.5221258022091906,
           0.4522017025862316,
           0.4598617743343786,
           0.6404308369864579,
           1.1978981800785493,
           1.0842203100063368,
           0.7808682854363156,
           0.6874622338211613,
           0.5053887828651638,
           0.4007947695683334,
           0.88090332438123,
           1.246928195992003,
           0.34257505689218215,
           0.4581330220253045,
           0.4237513277861222,
           0.32795938556551335,
           0.9916123850499081,
           0.25945525042793266,
           0.35722004861242634,
           0.4263030163263412,
           0.5950197344133862,
           0.5158934199389179,
           0.7439415723306905,
           0.5412187000103333,
           0.6836638936476852,
           0.4632916358853887,
           0.369575831093671,
           0.7221646733015429,
           0.6553435740122208,
           0.5826878863742487,
           1.3089906898905679,
           0.10171930592298131,
           0.14852464806883567,
           0.40950966157062546,
           0.2716526334527395,
           0.7908562660418602,
           0.5887136684876483,
           0.3123951438875673,
           0.9069496709412486,
           0.35088555805782906,
           1.108348388807586,
           0.8269815667876742,
           0.5296118922434696,
           0.7858527847810537,
           0.652363195535387,
           0.697215243347076,
           1.3861057989652343,
           1.3480995087939405,
           0.7336325640708997,
           0.46237621879014545,
           0.5352518203519523,
           0.8365373645640469,
           1.4622657631981093,
           1.1491061157834896,
           0.49261612431010615,
           0.5032697715657666,
           0.46758428783971756,
           0.4821531906882198,
           1.424962409796556,
           1.2077743399244807,
           0.8280468136003757,
           0.73761002260273,
           0.3945666755180598,
           0.7510287301279653,
           0.7060010045180906,
           0.7148145690067229,
           0.4661870675468359,
           0.7969722493283818,
           0.4787615550155717,
           0.8704910931158285
          ],
          "coloraxis": "coloraxis",
          "size": [
           9.61680722000296,
           22.657054582904223,
           33.622367722527,
           26.525198938992038,
           18.787361229718186,
           25.465541938564385,
           35.48196333530455,
           23.398128149748015,
           31.13648157758173,
           44.20265215912954,
           17.58312020460358,
           30.01650907999399,
           9.775171065493648,
           14.53752498637107,
           36.266463065470525,
           45.89682393978339,
           25.882787946015913,
           15.40041067761807,
           34.682080924855505,
           22.393630256282663,
           24.82159478746509,
           29.252596167909903,
           20.446911055936912,
           18.67279517380064,
           17.414601473543208,
           24.340770791075048,
           29.66478789676654,
           20.64287820701858,
           26.079397276151845,
           27.676620538965764,
           19.897003745318354,
           20.214916480476646,
           24.020417354751533,
           28.67491699366134,
           22.30483271375465,
           26.90985199581403,
           34.68937243771681,
           22.510822510822507,
           24.034334763948497,
           28.3777392401072,
           29.976019184652287,
           22.311468094600627,
           12.772875058058524,
           11.674449633088724,
           18.413380389749886,
           20.886170371475455,
           27.349935223837623,
           32.14086081609839,
           15.852885225110976,
           10.327530244910003,
           34.01360544217686,
           29.86348122866895,
           30.75632601705578,
           36.08605135322693,
           14.795088030773785,
           37.075180226570545,
           31.85276942134137,
           28.29354553492484,
           22.203245089666947,
           25.465541938564385,
           19.219396806623298,
           23.398128149748015,
           19.027849852966614,
           27.201632097925874,
           31.969309462915604,
           19.510730901996094,
           21.17953730856957,
           21.806287479556605,
           7.635044855888531,
           55.07618872774007,
           49.91680532445926,
           29.089664613278575,
           37.98513625103222,
           19.9054491166957,
           23.270245113248524,
           36.56574520988738,
           16.065430115379,
           34.472852628555025,
           13.39584728734093,
           17.57944557133198,
           25.215069712251562,
           17.69389560601593,
           21.73283106345987,
           20.393299344501088,
           10.533707865168541,
           11.703372699223323,
           19.516589100735622,
           28.67491699366134,
           25.278810408921938,
           16.444909552997462,
           7.8839482812992765,
           10.389610389610388,
           25.75107296137339,
           26.801198171212356,
           28.477218225419673,
           32.723486538747586,
           10.45053413841152,
           10.006671114076049,
           16.878932023937395,
           20.886170371475455,
           31.66834604865409,
           19.564002235885976,
           19.02346227013317,
           19.179699026261435,
           28.09819580005915,
           19.9089874857793,
           27.960296379141617,
           16.655100624566277
          ],
          "sizemode": "area",
          "sizeref": 0.38247353283152824
         },
         "mode": "markers",
         "name": "",
         "showlegend": false,
         "subplot": "mapbox",
         "type": "scattermapbox"
        }
       ],
       "layout": {
        "coloraxis": {
         "colorbar": {
          "title": {
           "text": "mean_u"
          }
         },
         "colorscale": [
          [
           0,
           "#0d0887"
          ],
          [
           0.1111111111111111,
           "#46039f"
          ],
          [
           0.2222222222222222,
           "#7201a8"
          ],
          [
           0.3333333333333333,
           "#9c179e"
          ],
          [
           0.4444444444444444,
           "#bd3786"
          ],
          [
           0.5555555555555556,
           "#d8576b"
          ],
          [
           0.6666666666666666,
           "#ed7953"
          ],
          [
           0.7777777777777778,
           "#fb9f3a"
          ],
          [
           0.8888888888888888,
           "#fdca26"
          ],
          [
           1,
           "#f0f921"
          ]
         ]
        },
        "height": 600,
        "legend": {
         "itemsizing": "constant",
         "tracegroupgap": 0
        },
        "mapbox": {
         "center": {
          "lat": 37.584827507275854,
          "lon": -122.14351111119795
         },
         "domain": {
          "x": [
           0,
           1
          ],
          "y": [
           0,
           1
          ]
         },
         "layers": [
          {
           "below": "traces",
           "source": [
            "https://basemap.nationalmap.gov/arcgis/rest/services/USGSImageryOnly/MapServer/tile/{z}/{y}/{x}"
           ],
           "sourceattribution": "United States Geological Survey",
           "sourcetype": "raster"
          }
         ],
         "style": "white-bg",
         "zoom": 15
        },
        "margin": {
         "b": 0,
         "l": 0,
         "r": 0,
         "t": 0
        },
        "template": {
         "data": {
          "bar": [
           {
            "error_x": {
             "color": "#f2f5fa"
            },
            "error_y": {
             "color": "#f2f5fa"
            },
            "marker": {
             "line": {
              "color": "rgb(17,17,17)",
              "width": 0.5
             },
             "pattern": {
              "fillmode": "overlay",
              "size": 10,
              "solidity": 0.2
             }
            },
            "type": "bar"
           }
          ],
          "barpolar": [
           {
            "marker": {
             "line": {
              "color": "rgb(17,17,17)",
              "width": 0.5
             },
             "pattern": {
              "fillmode": "overlay",
              "size": 10,
              "solidity": 0.2
             }
            },
            "type": "barpolar"
           }
          ],
          "carpet": [
           {
            "aaxis": {
             "endlinecolor": "#A2B1C6",
             "gridcolor": "#506784",
             "linecolor": "#506784",
             "minorgridcolor": "#506784",
             "startlinecolor": "#A2B1C6"
            },
            "baxis": {
             "endlinecolor": "#A2B1C6",
             "gridcolor": "#506784",
             "linecolor": "#506784",
             "minorgridcolor": "#506784",
             "startlinecolor": "#A2B1C6"
            },
            "type": "carpet"
           }
          ],
          "choropleth": [
           {
            "colorbar": {
             "outlinewidth": 0,
             "ticks": ""
            },
            "type": "choropleth"
           }
          ],
          "contour": [
           {
            "colorbar": {
             "outlinewidth": 0,
             "ticks": ""
            },
            "colorscale": [
             [
              0,
              "#0d0887"
             ],
             [
              0.1111111111111111,
              "#46039f"
             ],
             [
              0.2222222222222222,
              "#7201a8"
             ],
             [
              0.3333333333333333,
              "#9c179e"
             ],
             [
              0.4444444444444444,
              "#bd3786"
             ],
             [
              0.5555555555555556,
              "#d8576b"
             ],
             [
              0.6666666666666666,
              "#ed7953"
             ],
             [
              0.7777777777777778,
              "#fb9f3a"
             ],
             [
              0.8888888888888888,
              "#fdca26"
             ],
             [
              1,
              "#f0f921"
             ]
            ],
            "type": "contour"
           }
          ],
          "contourcarpet": [
           {
            "colorbar": {
             "outlinewidth": 0,
             "ticks": ""
            },
            "type": "contourcarpet"
           }
          ],
          "heatmap": [
           {
            "colorbar": {
             "outlinewidth": 0,
             "ticks": ""
            },
            "colorscale": [
             [
              0,
              "#0d0887"
             ],
             [
              0.1111111111111111,
              "#46039f"
             ],
             [
              0.2222222222222222,
              "#7201a8"
             ],
             [
              0.3333333333333333,
              "#9c179e"
             ],
             [
              0.4444444444444444,
              "#bd3786"
             ],
             [
              0.5555555555555556,
              "#d8576b"
             ],
             [
              0.6666666666666666,
              "#ed7953"
             ],
             [
              0.7777777777777778,
              "#fb9f3a"
             ],
             [
              0.8888888888888888,
              "#fdca26"
             ],
             [
              1,
              "#f0f921"
             ]
            ],
            "type": "heatmap"
           }
          ],
          "heatmapgl": [
           {
            "colorbar": {
             "outlinewidth": 0,
             "ticks": ""
            },
            "colorscale": [
             [
              0,
              "#0d0887"
             ],
             [
              0.1111111111111111,
              "#46039f"
             ],
             [
              0.2222222222222222,
              "#7201a8"
             ],
             [
              0.3333333333333333,
              "#9c179e"
             ],
             [
              0.4444444444444444,
              "#bd3786"
             ],
             [
              0.5555555555555556,
              "#d8576b"
             ],
             [
              0.6666666666666666,
              "#ed7953"
             ],
             [
              0.7777777777777778,
              "#fb9f3a"
             ],
             [
              0.8888888888888888,
              "#fdca26"
             ],
             [
              1,
              "#f0f921"
             ]
            ],
            "type": "heatmapgl"
           }
          ],
          "histogram": [
           {
            "marker": {
             "pattern": {
              "fillmode": "overlay",
              "size": 10,
              "solidity": 0.2
             }
            },
            "type": "histogram"
           }
          ],
          "histogram2d": [
           {
            "colorbar": {
             "outlinewidth": 0,
             "ticks": ""
            },
            "colorscale": [
             [
              0,
              "#0d0887"
             ],
             [
              0.1111111111111111,
              "#46039f"
             ],
             [
              0.2222222222222222,
              "#7201a8"
             ],
             [
              0.3333333333333333,
              "#9c179e"
             ],
             [
              0.4444444444444444,
              "#bd3786"
             ],
             [
              0.5555555555555556,
              "#d8576b"
             ],
             [
              0.6666666666666666,
              "#ed7953"
             ],
             [
              0.7777777777777778,
              "#fb9f3a"
             ],
             [
              0.8888888888888888,
              "#fdca26"
             ],
             [
              1,
              "#f0f921"
             ]
            ],
            "type": "histogram2d"
           }
          ],
          "histogram2dcontour": [
           {
            "colorbar": {
             "outlinewidth": 0,
             "ticks": ""
            },
            "colorscale": [
             [
              0,
              "#0d0887"
             ],
             [
              0.1111111111111111,
              "#46039f"
             ],
             [
              0.2222222222222222,
              "#7201a8"
             ],
             [
              0.3333333333333333,
              "#9c179e"
             ],
             [
              0.4444444444444444,
              "#bd3786"
             ],
             [
              0.5555555555555556,
              "#d8576b"
             ],
             [
              0.6666666666666666,
              "#ed7953"
             ],
             [
              0.7777777777777778,
              "#fb9f3a"
             ],
             [
              0.8888888888888888,
              "#fdca26"
             ],
             [
              1,
              "#f0f921"
             ]
            ],
            "type": "histogram2dcontour"
           }
          ],
          "mesh3d": [
           {
            "colorbar": {
             "outlinewidth": 0,
             "ticks": ""
            },
            "type": "mesh3d"
           }
          ],
          "parcoords": [
           {
            "line": {
             "colorbar": {
              "outlinewidth": 0,
              "ticks": ""
             }
            },
            "type": "parcoords"
           }
          ],
          "pie": [
           {
            "automargin": true,
            "type": "pie"
           }
          ],
          "scatter": [
           {
            "marker": {
             "line": {
              "color": "#283442"
             }
            },
            "type": "scatter"
           }
          ],
          "scatter3d": [
           {
            "line": {
             "colorbar": {
              "outlinewidth": 0,
              "ticks": ""
             }
            },
            "marker": {
             "colorbar": {
              "outlinewidth": 0,
              "ticks": ""
             }
            },
            "type": "scatter3d"
           }
          ],
          "scattercarpet": [
           {
            "marker": {
             "colorbar": {
              "outlinewidth": 0,
              "ticks": ""
             }
            },
            "type": "scattercarpet"
           }
          ],
          "scattergeo": [
           {
            "marker": {
             "colorbar": {
              "outlinewidth": 0,
              "ticks": ""
             }
            },
            "type": "scattergeo"
           }
          ],
          "scattergl": [
           {
            "marker": {
             "line": {
              "color": "#283442"
             }
            },
            "type": "scattergl"
           }
          ],
          "scattermapbox": [
           {
            "marker": {
             "colorbar": {
              "outlinewidth": 0,
              "ticks": ""
             }
            },
            "type": "scattermapbox"
           }
          ],
          "scatterpolar": [
           {
            "marker": {
             "colorbar": {
              "outlinewidth": 0,
              "ticks": ""
             }
            },
            "type": "scatterpolar"
           }
          ],
          "scatterpolargl": [
           {
            "marker": {
             "colorbar": {
              "outlinewidth": 0,
              "ticks": ""
             }
            },
            "type": "scatterpolargl"
           }
          ],
          "scatterternary": [
           {
            "marker": {
             "colorbar": {
              "outlinewidth": 0,
              "ticks": ""
             }
            },
            "type": "scatterternary"
           }
          ],
          "surface": [
           {
            "colorbar": {
             "outlinewidth": 0,
             "ticks": ""
            },
            "colorscale": [
             [
              0,
              "#0d0887"
             ],
             [
              0.1111111111111111,
              "#46039f"
             ],
             [
              0.2222222222222222,
              "#7201a8"
             ],
             [
              0.3333333333333333,
              "#9c179e"
             ],
             [
              0.4444444444444444,
              "#bd3786"
             ],
             [
              0.5555555555555556,
              "#d8576b"
             ],
             [
              0.6666666666666666,
              "#ed7953"
             ],
             [
              0.7777777777777778,
              "#fb9f3a"
             ],
             [
              0.8888888888888888,
              "#fdca26"
             ],
             [
              1,
              "#f0f921"
             ]
            ],
            "type": "surface"
           }
          ],
          "table": [
           {
            "cells": {
             "fill": {
              "color": "#506784"
             },
             "line": {
              "color": "rgb(17,17,17)"
             }
            },
            "header": {
             "fill": {
              "color": "#2a3f5f"
             },
             "line": {
              "color": "rgb(17,17,17)"
             }
            },
            "type": "table"
           }
          ]
         },
         "layout": {
          "annotationdefaults": {
           "arrowcolor": "#f2f5fa",
           "arrowhead": 0,
           "arrowwidth": 1
          },
          "autotypenumbers": "strict",
          "coloraxis": {
           "colorbar": {
            "outlinewidth": 0,
            "ticks": ""
           }
          },
          "colorscale": {
           "diverging": [
            [
             0,
             "#8e0152"
            ],
            [
             0.1,
             "#c51b7d"
            ],
            [
             0.2,
             "#de77ae"
            ],
            [
             0.3,
             "#f1b6da"
            ],
            [
             0.4,
             "#fde0ef"
            ],
            [
             0.5,
             "#f7f7f7"
            ],
            [
             0.6,
             "#e6f5d0"
            ],
            [
             0.7,
             "#b8e186"
            ],
            [
             0.8,
             "#7fbc41"
            ],
            [
             0.9,
             "#4d9221"
            ],
            [
             1,
             "#276419"
            ]
           ],
           "sequential": [
            [
             0,
             "#0d0887"
            ],
            [
             0.1111111111111111,
             "#46039f"
            ],
            [
             0.2222222222222222,
             "#7201a8"
            ],
            [
             0.3333333333333333,
             "#9c179e"
            ],
            [
             0.4444444444444444,
             "#bd3786"
            ],
            [
             0.5555555555555556,
             "#d8576b"
            ],
            [
             0.6666666666666666,
             "#ed7953"
            ],
            [
             0.7777777777777778,
             "#fb9f3a"
            ],
            [
             0.8888888888888888,
             "#fdca26"
            ],
            [
             1,
             "#f0f921"
            ]
           ],
           "sequentialminus": [
            [
             0,
             "#0d0887"
            ],
            [
             0.1111111111111111,
             "#46039f"
            ],
            [
             0.2222222222222222,
             "#7201a8"
            ],
            [
             0.3333333333333333,
             "#9c179e"
            ],
            [
             0.4444444444444444,
             "#bd3786"
            ],
            [
             0.5555555555555556,
             "#d8576b"
            ],
            [
             0.6666666666666666,
             "#ed7953"
            ],
            [
             0.7777777777777778,
             "#fb9f3a"
            ],
            [
             0.8888888888888888,
             "#fdca26"
            ],
            [
             1,
             "#f0f921"
            ]
           ]
          },
          "colorway": [
           "#636efa",
           "#EF553B",
           "#00cc96",
           "#ab63fa",
           "#FFA15A",
           "#19d3f3",
           "#FF6692",
           "#B6E880",
           "#FF97FF",
           "#FECB52"
          ],
          "font": {
           "color": "#f2f5fa"
          },
          "geo": {
           "bgcolor": "rgb(17,17,17)",
           "lakecolor": "rgb(17,17,17)",
           "landcolor": "rgb(17,17,17)",
           "showlakes": true,
           "showland": true,
           "subunitcolor": "#506784"
          },
          "hoverlabel": {
           "align": "left"
          },
          "hovermode": "closest",
          "mapbox": {
           "style": "dark"
          },
          "paper_bgcolor": "rgb(17,17,17)",
          "plot_bgcolor": "rgb(17,17,17)",
          "polar": {
           "angularaxis": {
            "gridcolor": "#506784",
            "linecolor": "#506784",
            "ticks": ""
           },
           "bgcolor": "rgb(17,17,17)",
           "radialaxis": {
            "gridcolor": "#506784",
            "linecolor": "#506784",
            "ticks": ""
           }
          },
          "scene": {
           "xaxis": {
            "backgroundcolor": "rgb(17,17,17)",
            "gridcolor": "#506784",
            "gridwidth": 2,
            "linecolor": "#506784",
            "showbackground": true,
            "ticks": "",
            "zerolinecolor": "#C8D4E3"
           },
           "yaxis": {
            "backgroundcolor": "rgb(17,17,17)",
            "gridcolor": "#506784",
            "gridwidth": 2,
            "linecolor": "#506784",
            "showbackground": true,
            "ticks": "",
            "zerolinecolor": "#C8D4E3"
           },
           "zaxis": {
            "backgroundcolor": "rgb(17,17,17)",
            "gridcolor": "#506784",
            "gridwidth": 2,
            "linecolor": "#506784",
            "showbackground": true,
            "ticks": "",
            "zerolinecolor": "#C8D4E3"
           }
          },
          "shapedefaults": {
           "line": {
            "color": "#f2f5fa"
           }
          },
          "sliderdefaults": {
           "bgcolor": "#C8D4E3",
           "bordercolor": "rgb(17,17,17)",
           "borderwidth": 1,
           "tickwidth": 0
          },
          "ternary": {
           "aaxis": {
            "gridcolor": "#506784",
            "linecolor": "#506784",
            "ticks": ""
           },
           "baxis": {
            "gridcolor": "#506784",
            "linecolor": "#506784",
            "ticks": ""
           },
           "bgcolor": "rgb(17,17,17)",
           "caxis": {
            "gridcolor": "#506784",
            "linecolor": "#506784",
            "ticks": ""
           }
          },
          "title": {
           "x": 0.05
          },
          "updatemenudefaults": {
           "bgcolor": "#506784",
           "borderwidth": 0
          },
          "xaxis": {
           "automargin": true,
           "gridcolor": "#283442",
           "linecolor": "#506784",
           "ticks": "",
           "title": {
            "standoff": 15
           },
           "zerolinecolor": "#283442",
           "zerolinewidth": 2
          },
          "yaxis": {
           "automargin": true,
           "gridcolor": "#283442",
           "linecolor": "#506784",
           "ticks": "",
           "title": {
            "standoff": 15
           },
           "zerolinecolor": "#283442",
           "zerolinewidth": 2
          }
         }
        }
       }
      }
     },
     "metadata": {},
     "output_type": "display_data"
    }
   ],
   "source": [
    "fig = px.scatter_mapbox(dff[dff['run']=='Vegetated Run'], \n",
    "    lat=\"lat\", \n",
    "    lon=\"lon\", \n",
    "    color='mean_u', \n",
    "    size='Hveg/WC',\n",
    "    size_max=12,\n",
    "    hover_name=\"plot_ID\", \n",
    "    hover_data=[\"site\", \"mean_u\", \"density_total\", \"Hveg/WC\"], \n",
    "    zoom=15, \n",
    "    height=600)\n",
    "    \n",
    "fig.update_layout(\n",
    "    mapbox_style=\"white-bg\",\n",
    "    mapbox_layers=[\n",
    "        {\n",
    "            \"below\": 'traces',\n",
    "            \"sourcetype\": \"raster\",\n",
    "            \"sourceattribution\": \"United States Geological Survey\",\n",
    "            \"source\": [\n",
    "                \"https://basemap.nationalmap.gov/arcgis/rest/services/USGSImageryOnly/MapServer/tile/{z}/{y}/{x}\"\n",
    "            ]\n",
    "        }\n",
    "      ])\n",
    "fig.update_layout(margin={\"r\":0,\"t\":0,\"l\":0,\"b\":0},template='plotly_dark')\n",
    "fig.show()"
   ]
  },
  {
   "cell_type": "markdown",
   "metadata": {},
   "source": [
    "## Animations"
   ]
  }
 ],
 "metadata": {
  "kernelspec": {
   "display_name": "Python 3.9.13 ('EFMHModeling_20220915')",
   "language": "python",
   "name": "python3"
  },
  "language_info": {
   "codemirror_mode": {
    "name": "ipython",
    "version": 3
   },
   "file_extension": ".py",
   "mimetype": "text/x-python",
   "name": "python",
   "nbconvert_exporter": "python",
   "pygments_lexer": "ipython3",
   "version": "3.9.13"
  },
  "orig_nbformat": 4,
  "vscode": {
   "interpreter": {
    "hash": "b17acb4996bf1f81ae7b7b859afc8c9430e41316f8cf32ebfba3f7b073322fea"
   }
  }
 },
 "nbformat": 4,
 "nbformat_minor": 2
}
