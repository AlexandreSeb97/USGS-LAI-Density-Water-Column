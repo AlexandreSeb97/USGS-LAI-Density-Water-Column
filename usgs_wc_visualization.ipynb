{
 "cells": [
  {
   "cell_type": "markdown",
   "metadata": {},
   "source": [
    "# Figures from Water Column Model Runs"
   ]
  },
  {
   "cell_type": "code",
   "execution_count": 165,
   "metadata": {},
   "outputs": [],
   "source": [
    "#from IPython.core.interactiveshell import InteractiveShell\n",
    "#InteractiveShell.ast_node_interactivity = 'all'\n",
    "\n",
    "# Data Science and Visualization Imports\n",
    "from plotly.subplots import make_subplots\n",
    "import plotly.graph_objects as go\n",
    "import plotly.express as px\n",
    "import pandas as pd\n",
    "import xarray as xr\n",
    "import numpy as np"
   ]
  },
  {
   "cell_type": "markdown",
   "metadata": {},
   "source": [
    "### Data Imports"
   ]
  },
  {
   "cell_type": "code",
   "execution_count": 3,
   "metadata": {},
   "outputs": [],
   "source": [
    "wc_results_path = 'results_data/wc_runs_all.nc'\n",
    "baseline_path = 'results_data/baseline_wc_full.nc'\n",
    "input_data_path = 'results_data/usgs_data_full.csv'\n",
    "wc_ds = xr.open_dataset(wc_results_path)\n",
    "base_wc_ds = xr.open_dataset(baseline_path)\n",
    "df = pd.read_csv(input_data_path)"
   ]
  },
  {
   "cell_type": "code",
   "execution_count": 4,
   "metadata": {},
   "outputs": [
    {
     "data": {
      "text/html": [
       "<div><svg style=\"position: absolute; width: 0; height: 0; overflow: hidden\">\n",
       "<defs>\n",
       "<symbol id=\"icon-database\" viewBox=\"0 0 32 32\">\n",
       "<path d=\"M16 0c-8.837 0-16 2.239-16 5v4c0 2.761 7.163 5 16 5s16-2.239 16-5v-4c0-2.761-7.163-5-16-5z\"></path>\n",
       "<path d=\"M16 17c-8.837 0-16-2.239-16-5v6c0 2.761 7.163 5 16 5s16-2.239 16-5v-6c0 2.761-7.163 5-16 5z\"></path>\n",
       "<path d=\"M16 26c-8.837 0-16-2.239-16-5v6c0 2.761 7.163 5 16 5s16-2.239 16-5v-6c0 2.761-7.163 5-16 5z\"></path>\n",
       "</symbol>\n",
       "<symbol id=\"icon-file-text2\" viewBox=\"0 0 32 32\">\n",
       "<path d=\"M28.681 7.159c-0.694-0.947-1.662-2.053-2.724-3.116s-2.169-2.030-3.116-2.724c-1.612-1.182-2.393-1.319-2.841-1.319h-15.5c-1.378 0-2.5 1.121-2.5 2.5v27c0 1.378 1.122 2.5 2.5 2.5h23c1.378 0 2.5-1.122 2.5-2.5v-19.5c0-0.448-0.137-1.23-1.319-2.841zM24.543 5.457c0.959 0.959 1.712 1.825 2.268 2.543h-4.811v-4.811c0.718 0.556 1.584 1.309 2.543 2.268zM28 29.5c0 0.271-0.229 0.5-0.5 0.5h-23c-0.271 0-0.5-0.229-0.5-0.5v-27c0-0.271 0.229-0.5 0.5-0.5 0 0 15.499-0 15.5 0v7c0 0.552 0.448 1 1 1h7v19.5z\"></path>\n",
       "<path d=\"M23 26h-14c-0.552 0-1-0.448-1-1s0.448-1 1-1h14c0.552 0 1 0.448 1 1s-0.448 1-1 1z\"></path>\n",
       "<path d=\"M23 22h-14c-0.552 0-1-0.448-1-1s0.448-1 1-1h14c0.552 0 1 0.448 1 1s-0.448 1-1 1z\"></path>\n",
       "<path d=\"M23 18h-14c-0.552 0-1-0.448-1-1s0.448-1 1-1h14c0.552 0 1 0.448 1 1s-0.448 1-1 1z\"></path>\n",
       "</symbol>\n",
       "</defs>\n",
       "</svg>\n",
       "<style>/* CSS stylesheet for displaying xarray objects in jupyterlab.\n",
       " *\n",
       " */\n",
       "\n",
       ":root {\n",
       "  --xr-font-color0: var(--jp-content-font-color0, rgba(0, 0, 0, 1));\n",
       "  --xr-font-color2: var(--jp-content-font-color2, rgba(0, 0, 0, 0.54));\n",
       "  --xr-font-color3: var(--jp-content-font-color3, rgba(0, 0, 0, 0.38));\n",
       "  --xr-border-color: var(--jp-border-color2, #e0e0e0);\n",
       "  --xr-disabled-color: var(--jp-layout-color3, #bdbdbd);\n",
       "  --xr-background-color: var(--jp-layout-color0, white);\n",
       "  --xr-background-color-row-even: var(--jp-layout-color1, white);\n",
       "  --xr-background-color-row-odd: var(--jp-layout-color2, #eeeeee);\n",
       "}\n",
       "\n",
       "html[theme=dark],\n",
       "body.vscode-dark {\n",
       "  --xr-font-color0: rgba(255, 255, 255, 1);\n",
       "  --xr-font-color2: rgba(255, 255, 255, 0.54);\n",
       "  --xr-font-color3: rgba(255, 255, 255, 0.38);\n",
       "  --xr-border-color: #1F1F1F;\n",
       "  --xr-disabled-color: #515151;\n",
       "  --xr-background-color: #111111;\n",
       "  --xr-background-color-row-even: #111111;\n",
       "  --xr-background-color-row-odd: #313131;\n",
       "}\n",
       "\n",
       ".xr-wrap {\n",
       "  display: block;\n",
       "  min-width: 300px;\n",
       "  max-width: 700px;\n",
       "}\n",
       "\n",
       ".xr-text-repr-fallback {\n",
       "  /* fallback to plain text repr when CSS is not injected (untrusted notebook) */\n",
       "  display: none;\n",
       "}\n",
       "\n",
       ".xr-header {\n",
       "  padding-top: 6px;\n",
       "  padding-bottom: 6px;\n",
       "  margin-bottom: 4px;\n",
       "  border-bottom: solid 1px var(--xr-border-color);\n",
       "}\n",
       "\n",
       ".xr-header > div,\n",
       ".xr-header > ul {\n",
       "  display: inline;\n",
       "  margin-top: 0;\n",
       "  margin-bottom: 0;\n",
       "}\n",
       "\n",
       ".xr-obj-type,\n",
       ".xr-array-name {\n",
       "  margin-left: 2px;\n",
       "  margin-right: 10px;\n",
       "}\n",
       "\n",
       ".xr-obj-type {\n",
       "  color: var(--xr-font-color2);\n",
       "}\n",
       "\n",
       ".xr-sections {\n",
       "  padding-left: 0 !important;\n",
       "  display: grid;\n",
       "  grid-template-columns: 150px auto auto 1fr 20px 20px;\n",
       "}\n",
       "\n",
       ".xr-section-item {\n",
       "  display: contents;\n",
       "}\n",
       "\n",
       ".xr-section-item input {\n",
       "  display: none;\n",
       "}\n",
       "\n",
       ".xr-section-item input + label {\n",
       "  color: var(--xr-disabled-color);\n",
       "}\n",
       "\n",
       ".xr-section-item input:enabled + label {\n",
       "  cursor: pointer;\n",
       "  color: var(--xr-font-color2);\n",
       "}\n",
       "\n",
       ".xr-section-item input:enabled + label:hover {\n",
       "  color: var(--xr-font-color0);\n",
       "}\n",
       "\n",
       ".xr-section-summary {\n",
       "  grid-column: 1;\n",
       "  color: var(--xr-font-color2);\n",
       "  font-weight: 500;\n",
       "}\n",
       "\n",
       ".xr-section-summary > span {\n",
       "  display: inline-block;\n",
       "  padding-left: 0.5em;\n",
       "}\n",
       "\n",
       ".xr-section-summary-in:disabled + label {\n",
       "  color: var(--xr-font-color2);\n",
       "}\n",
       "\n",
       ".xr-section-summary-in + label:before {\n",
       "  display: inline-block;\n",
       "  content: '►';\n",
       "  font-size: 11px;\n",
       "  width: 15px;\n",
       "  text-align: center;\n",
       "}\n",
       "\n",
       ".xr-section-summary-in:disabled + label:before {\n",
       "  color: var(--xr-disabled-color);\n",
       "}\n",
       "\n",
       ".xr-section-summary-in:checked + label:before {\n",
       "  content: '▼';\n",
       "}\n",
       "\n",
       ".xr-section-summary-in:checked + label > span {\n",
       "  display: none;\n",
       "}\n",
       "\n",
       ".xr-section-summary,\n",
       ".xr-section-inline-details {\n",
       "  padding-top: 4px;\n",
       "  padding-bottom: 4px;\n",
       "}\n",
       "\n",
       ".xr-section-inline-details {\n",
       "  grid-column: 2 / -1;\n",
       "}\n",
       "\n",
       ".xr-section-details {\n",
       "  display: none;\n",
       "  grid-column: 1 / -1;\n",
       "  margin-bottom: 5px;\n",
       "}\n",
       "\n",
       ".xr-section-summary-in:checked ~ .xr-section-details {\n",
       "  display: contents;\n",
       "}\n",
       "\n",
       ".xr-array-wrap {\n",
       "  grid-column: 1 / -1;\n",
       "  display: grid;\n",
       "  grid-template-columns: 20px auto;\n",
       "}\n",
       "\n",
       ".xr-array-wrap > label {\n",
       "  grid-column: 1;\n",
       "  vertical-align: top;\n",
       "}\n",
       "\n",
       ".xr-preview {\n",
       "  color: var(--xr-font-color3);\n",
       "}\n",
       "\n",
       ".xr-array-preview,\n",
       ".xr-array-data {\n",
       "  padding: 0 5px !important;\n",
       "  grid-column: 2;\n",
       "}\n",
       "\n",
       ".xr-array-data,\n",
       ".xr-array-in:checked ~ .xr-array-preview {\n",
       "  display: none;\n",
       "}\n",
       "\n",
       ".xr-array-in:checked ~ .xr-array-data,\n",
       ".xr-array-preview {\n",
       "  display: inline-block;\n",
       "}\n",
       "\n",
       ".xr-dim-list {\n",
       "  display: inline-block !important;\n",
       "  list-style: none;\n",
       "  padding: 0 !important;\n",
       "  margin: 0;\n",
       "}\n",
       "\n",
       ".xr-dim-list li {\n",
       "  display: inline-block;\n",
       "  padding: 0;\n",
       "  margin: 0;\n",
       "}\n",
       "\n",
       ".xr-dim-list:before {\n",
       "  content: '(';\n",
       "}\n",
       "\n",
       ".xr-dim-list:after {\n",
       "  content: ')';\n",
       "}\n",
       "\n",
       ".xr-dim-list li:not(:last-child):after {\n",
       "  content: ',';\n",
       "  padding-right: 5px;\n",
       "}\n",
       "\n",
       ".xr-has-index {\n",
       "  font-weight: bold;\n",
       "}\n",
       "\n",
       ".xr-var-list,\n",
       ".xr-var-item {\n",
       "  display: contents;\n",
       "}\n",
       "\n",
       ".xr-var-item > div,\n",
       ".xr-var-item label,\n",
       ".xr-var-item > .xr-var-name span {\n",
       "  background-color: var(--xr-background-color-row-even);\n",
       "  margin-bottom: 0;\n",
       "}\n",
       "\n",
       ".xr-var-item > .xr-var-name:hover span {\n",
       "  padding-right: 5px;\n",
       "}\n",
       "\n",
       ".xr-var-list > li:nth-child(odd) > div,\n",
       ".xr-var-list > li:nth-child(odd) > label,\n",
       ".xr-var-list > li:nth-child(odd) > .xr-var-name span {\n",
       "  background-color: var(--xr-background-color-row-odd);\n",
       "}\n",
       "\n",
       ".xr-var-name {\n",
       "  grid-column: 1;\n",
       "}\n",
       "\n",
       ".xr-var-dims {\n",
       "  grid-column: 2;\n",
       "}\n",
       "\n",
       ".xr-var-dtype {\n",
       "  grid-column: 3;\n",
       "  text-align: right;\n",
       "  color: var(--xr-font-color2);\n",
       "}\n",
       "\n",
       ".xr-var-preview {\n",
       "  grid-column: 4;\n",
       "}\n",
       "\n",
       ".xr-var-name,\n",
       ".xr-var-dims,\n",
       ".xr-var-dtype,\n",
       ".xr-preview,\n",
       ".xr-attrs dt {\n",
       "  white-space: nowrap;\n",
       "  overflow: hidden;\n",
       "  text-overflow: ellipsis;\n",
       "  padding-right: 10px;\n",
       "}\n",
       "\n",
       ".xr-var-name:hover,\n",
       ".xr-var-dims:hover,\n",
       ".xr-var-dtype:hover,\n",
       ".xr-attrs dt:hover {\n",
       "  overflow: visible;\n",
       "  width: auto;\n",
       "  z-index: 1;\n",
       "}\n",
       "\n",
       ".xr-var-attrs,\n",
       ".xr-var-data {\n",
       "  display: none;\n",
       "  background-color: var(--xr-background-color) !important;\n",
       "  padding-bottom: 5px !important;\n",
       "}\n",
       "\n",
       ".xr-var-attrs-in:checked ~ .xr-var-attrs,\n",
       ".xr-var-data-in:checked ~ .xr-var-data {\n",
       "  display: block;\n",
       "}\n",
       "\n",
       ".xr-var-data > table {\n",
       "  float: right;\n",
       "}\n",
       "\n",
       ".xr-var-name span,\n",
       ".xr-var-data,\n",
       ".xr-attrs {\n",
       "  padding-left: 25px !important;\n",
       "}\n",
       "\n",
       ".xr-attrs,\n",
       ".xr-var-attrs,\n",
       ".xr-var-data {\n",
       "  grid-column: 1 / -1;\n",
       "}\n",
       "\n",
       "dl.xr-attrs {\n",
       "  padding: 0;\n",
       "  margin: 0;\n",
       "  display: grid;\n",
       "  grid-template-columns: 125px auto;\n",
       "}\n",
       "\n",
       ".xr-attrs dt,\n",
       ".xr-attrs dd {\n",
       "  padding: 0;\n",
       "  margin: 0;\n",
       "  float: left;\n",
       "  padding-right: 10px;\n",
       "  width: auto;\n",
       "}\n",
       "\n",
       ".xr-attrs dt {\n",
       "  font-weight: normal;\n",
       "  grid-column: 1;\n",
       "}\n",
       "\n",
       ".xr-attrs dt:hover span {\n",
       "  display: inline-block;\n",
       "  background: var(--xr-background-color);\n",
       "  padding-right: 10px;\n",
       "}\n",
       "\n",
       ".xr-attrs dd {\n",
       "  grid-column: 2;\n",
       "  white-space: pre-wrap;\n",
       "  word-break: break-all;\n",
       "}\n",
       "\n",
       ".xr-icon-database,\n",
       ".xr-icon-file-text2 {\n",
       "  display: inline-block;\n",
       "  vertical-align: middle;\n",
       "  width: 1em;\n",
       "  height: 1.5em !important;\n",
       "  stroke-width: 0;\n",
       "  stroke: currentColor;\n",
       "  fill: currentColor;\n",
       "}\n",
       "</style><pre class='xr-text-repr-fallback'>&lt;xarray.Dataset&gt;\n",
       "Dimensions:     (Model Runs: 114, index: 80)\n",
       "Coordinates:\n",
       "  * index       (index) int32 0 1 2 3 4 5 6 7 8 9 ... 71 72 73 74 75 76 77 78 79\n",
       "Dimensions without coordinates: Model Runs\n",
       "Data variables:\n",
       "    U Velocity  (Model Runs, index) float64 9.077 9.963 10.45 ... 13.98 13.99\n",
       "    Q           (Model Runs, index) float64 0.9727 0.5926 ... 0.1385 0.1047\n",
       "    Q2          (Model Runs, index) float64 0.9461 0.3511 ... 0.01918 0.01096\n",
       "    Q2L         (Model Runs, index) float64 0.1249 0.1163 ... 0.04335 0.01165\n",
       "    Z           (Model Runs, index) float64 -67.17 -66.32 ... -1.351 -0.4503\n",
       "    Kq          (Model Runs, index) float64 0.02568 0.03927 ... 0.0626 0.02224\n",
       "    nu_t        (Model Runs, index) float64 0.05033 0.07697 ... 0.1227 0.0436\n",
       "Attributes:\n",
       "    description:  Model run results for Bay-side sites.</pre><div class='xr-wrap' hidden><div class='xr-header'><div class='xr-obj-type'>xarray.Dataset</div></div><ul class='xr-sections'><li class='xr-section-item'><input id='section-b6f4d91a-b47c-40ba-8ab3-6be932704d54' class='xr-section-summary-in' type='checkbox' disabled ><label for='section-b6f4d91a-b47c-40ba-8ab3-6be932704d54' class='xr-section-summary'  title='Expand/collapse section'>Dimensions:</label><div class='xr-section-inline-details'><ul class='xr-dim-list'><li><span>Model Runs</span>: 114</li><li><span class='xr-has-index'>index</span>: 80</li></ul></div><div class='xr-section-details'></div></li><li class='xr-section-item'><input id='section-591ad5e7-5e67-4c8a-8a99-bc7bff784521' class='xr-section-summary-in' type='checkbox'  checked><label for='section-591ad5e7-5e67-4c8a-8a99-bc7bff784521' class='xr-section-summary' >Coordinates: <span>(1)</span></label><div class='xr-section-inline-details'></div><div class='xr-section-details'><ul class='xr-var-list'><li class='xr-var-item'><div class='xr-var-name'><span class='xr-has-index'>index</span></div><div class='xr-var-dims'>(index)</div><div class='xr-var-dtype'>int32</div><div class='xr-var-preview xr-preview'>0 1 2 3 4 5 6 ... 74 75 76 77 78 79</div><input id='attrs-ce849a1b-eefe-4494-bf45-8f001cde7300' class='xr-var-attrs-in' type='checkbox' disabled><label for='attrs-ce849a1b-eefe-4494-bf45-8f001cde7300' title='Show/Hide attributes'><svg class='icon xr-icon-file-text2'><use xlink:href='#icon-file-text2'></use></svg></label><input id='data-58b86743-c8f7-4ad8-9b80-07ebe907b424' class='xr-var-data-in' type='checkbox'><label for='data-58b86743-c8f7-4ad8-9b80-07ebe907b424' title='Show/Hide data repr'><svg class='icon xr-icon-database'><use xlink:href='#icon-database'></use></svg></label><div class='xr-var-attrs'><dl class='xr-attrs'></dl></div><div class='xr-var-data'><pre>array([ 0,  1,  2,  3,  4,  5,  6,  7,  8,  9, 10, 11, 12, 13, 14, 15, 16, 17,\n",
       "       18, 19, 20, 21, 22, 23, 24, 25, 26, 27, 28, 29, 30, 31, 32, 33, 34, 35,\n",
       "       36, 37, 38, 39, 40, 41, 42, 43, 44, 45, 46, 47, 48, 49, 50, 51, 52, 53,\n",
       "       54, 55, 56, 57, 58, 59, 60, 61, 62, 63, 64, 65, 66, 67, 68, 69, 70, 71,\n",
       "       72, 73, 74, 75, 76, 77, 78, 79])</pre></div></li></ul></div></li><li class='xr-section-item'><input id='section-ec861ee6-c706-45a7-9194-a3ac919acb56' class='xr-section-summary-in' type='checkbox'  checked><label for='section-ec861ee6-c706-45a7-9194-a3ac919acb56' class='xr-section-summary' >Data variables: <span>(7)</span></label><div class='xr-section-inline-details'></div><div class='xr-section-details'><ul class='xr-var-list'><li class='xr-var-item'><div class='xr-var-name'><span>U Velocity</span></div><div class='xr-var-dims'>(Model Runs, index)</div><div class='xr-var-dtype'>float64</div><div class='xr-var-preview xr-preview'>...</div><input id='attrs-80e677c4-ac7c-4bf2-834f-d92669af596e' class='xr-var-attrs-in' type='checkbox' disabled><label for='attrs-80e677c4-ac7c-4bf2-834f-d92669af596e' title='Show/Hide attributes'><svg class='icon xr-icon-file-text2'><use xlink:href='#icon-file-text2'></use></svg></label><input id='data-7d602535-8dd9-4a85-b3e7-03d3493becb7' class='xr-var-data-in' type='checkbox'><label for='data-7d602535-8dd9-4a85-b3e7-03d3493becb7' title='Show/Hide data repr'><svg class='icon xr-icon-database'><use xlink:href='#icon-database'></use></svg></label><div class='xr-var-attrs'><dl class='xr-attrs'></dl></div><div class='xr-var-data'><pre>array([[ 9.076938,  9.962892, 10.447551, ..., 13.528046, 13.538049, 13.547498],\n",
       "       [ 7.489791,  8.229506,  8.638526, ..., 11.248467, 11.256944, 11.264953],\n",
       "       [ 8.295316,  9.105108,  9.548214, ..., 12.364908, 12.374055, 12.382695],\n",
       "       ...,\n",
       "       [ 9.259397, 10.163131, 10.657492, ..., 13.799586, 13.809789, 13.819427],\n",
       "       [ 9.339127, 10.250631, 10.749232, ..., 13.918245, 13.928535, 13.938255],\n",
       "       [ 9.373182, 10.288006, 10.788418, ..., 13.968929, 13.979256, 13.989012]])</pre></div></li><li class='xr-var-item'><div class='xr-var-name'><span>Q</span></div><div class='xr-var-dims'>(Model Runs, index)</div><div class='xr-var-dtype'>float64</div><div class='xr-var-preview xr-preview'>...</div><input id='attrs-58999c4a-b953-404a-a85a-ff46e950c7ed' class='xr-var-attrs-in' type='checkbox' disabled><label for='attrs-58999c4a-b953-404a-a85a-ff46e950c7ed' title='Show/Hide attributes'><svg class='icon xr-icon-file-text2'><use xlink:href='#icon-file-text2'></use></svg></label><input id='data-73b2c393-37d7-4bb9-a0e7-5f3741b7a630' class='xr-var-data-in' type='checkbox'><label for='data-73b2c393-37d7-4bb9-a0e7-5f3741b7a630' title='Show/Hide data repr'><svg class='icon xr-icon-database'><use xlink:href='#icon-database'></use></svg></label><div class='xr-var-attrs'><dl class='xr-attrs'></dl></div><div class='xr-var-data'><pre>array([[0.972682, 0.59257 , 0.571105, ..., 0.152552, 0.134137, 0.10142 ],\n",
       "       [0.802782, 0.499423, 0.4833  , ..., 0.129291, 0.113685, 0.085955],\n",
       "       [0.888925, 0.541784, 0.522184, ..., 0.139488, 0.122651, 0.092735],\n",
       "       ...,\n",
       "       [0.992233, 0.604429, 0.582528, ..., 0.155602, 0.13682 , 0.103448],\n",
       "       [1.000777, 0.609611, 0.58752 , ..., 0.156935, 0.137992, 0.104334],\n",
       "       [1.004426, 0.611825, 0.589652, ..., 0.157505, 0.138492, 0.104713]])</pre></div></li><li class='xr-var-item'><div class='xr-var-name'><span>Q2</span></div><div class='xr-var-dims'>(Model Runs, index)</div><div class='xr-var-dtype'>float64</div><div class='xr-var-preview xr-preview'>...</div><input id='attrs-d25b4864-4e61-4343-9ddd-a846cdaedf71' class='xr-var-attrs-in' type='checkbox' disabled><label for='attrs-d25b4864-4e61-4343-9ddd-a846cdaedf71' title='Show/Hide attributes'><svg class='icon xr-icon-file-text2'><use xlink:href='#icon-file-text2'></use></svg></label><input id='data-3be7a703-a775-4641-aee0-3708ebffa95a' class='xr-var-data-in' type='checkbox'><label for='data-3be7a703-a775-4641-aee0-3708ebffa95a' title='Show/Hide data repr'><svg class='icon xr-icon-database'><use xlink:href='#icon-database'></use></svg></label><div class='xr-var-attrs'><dl class='xr-attrs'></dl></div><div class='xr-var-data'><pre>array([[0.946109, 0.35114 , 0.32616 , ..., 0.023272, 0.017993, 0.010286],\n",
       "       [0.644459, 0.249424, 0.233579, ..., 0.016716, 0.012924, 0.007388],\n",
       "       [0.790188, 0.29353 , 0.272676, ..., 0.019457, 0.015043, 0.0086  ],\n",
       "       ...,\n",
       "       [0.984527, 0.365334, 0.339338, ..., 0.024212, 0.01872 , 0.010701],\n",
       "       [1.001554, 0.371626, 0.345179, ..., 0.024629, 0.019042, 0.010886],\n",
       "       [1.008872, 0.374329, 0.347689, ..., 0.024808, 0.01918 , 0.010965]])</pre></div></li><li class='xr-var-item'><div class='xr-var-name'><span>Q2L</span></div><div class='xr-var-dims'>(Model Runs, index)</div><div class='xr-var-dtype'>float64</div><div class='xr-var-preview xr-preview'>...</div><input id='attrs-1e902ebd-0f8a-40dd-b8fe-8d0344bcc161' class='xr-var-attrs-in' type='checkbox' disabled><label for='attrs-1e902ebd-0f8a-40dd-b8fe-8d0344bcc161' title='Show/Hide attributes'><svg class='icon xr-icon-file-text2'><use xlink:href='#icon-file-text2'></use></svg></label><input id='data-39f43213-41ba-4c35-aabb-25ac3757d6ad' class='xr-var-data-in' type='checkbox'><label for='data-39f43213-41ba-4c35-aabb-25ac3757d6ad' title='Show/Hide data repr'><svg class='icon xr-icon-database'><use xlink:href='#icon-database'></use></svg></label><div class='xr-var-attrs'><dl class='xr-attrs'></dl></div><div class='xr-var-data'><pre>array([[0.124879, 0.11635 , 0.222591, ..., 0.067701, 0.038147, 0.010249],\n",
       "       [0.061515, 0.060127, 0.114993, ..., 0.034931, 0.019682, 0.005288],\n",
       "       [0.087292, 0.081344, 0.155595, ..., 0.047324, 0.026665, 0.007164],\n",
       "       ...,\n",
       "       [0.135171, 0.125934, 0.240935, ..., 0.073281, 0.041291, 0.011094],\n",
       "       [0.139863, 0.130303, 0.249298, ..., 0.075824, 0.042724, 0.011479],\n",
       "       [0.141904, 0.132204, 0.252936, ..., 0.076931, 0.043348, 0.011646]])</pre></div></li><li class='xr-var-item'><div class='xr-var-name'><span>Z</span></div><div class='xr-var-dims'>(Model Runs, index)</div><div class='xr-var-dtype'>float64</div><div class='xr-var-preview xr-preview'>...</div><input id='attrs-792da968-9851-4fab-aa36-1e22209000e2' class='xr-var-attrs-in' type='checkbox' disabled><label for='attrs-792da968-9851-4fab-aa36-1e22209000e2' title='Show/Hide attributes'><svg class='icon xr-icon-file-text2'><use xlink:href='#icon-file-text2'></use></svg></label><input id='data-2f0ca3b6-5cbf-4dc1-8d95-d15f751e34d0' class='xr-var-data-in' type='checkbox'><label for='data-2f0ca3b6-5cbf-4dc1-8d95-d15f751e34d0' title='Show/Hide data repr'><svg class='icon xr-icon-database'><use xlink:href='#icon-database'></use></svg></label><div class='xr-var-attrs'><dl class='xr-attrs'></dl></div><div class='xr-var-data'><pre>array([[-67.167562, -66.322687, -65.477812, ...,  -2.112188,  -1.267313,\n",
       "         -0.422438],\n",
       "       [-48.246563, -47.639688, -47.032813, ...,  -1.517187,  -0.910313,\n",
       "         -0.303438],\n",
       "       [-56.156812, -55.450437, -54.744062, ...,  -1.765937,  -1.059562,\n",
       "         -0.353187],\n",
       "       ...,\n",
       "       [-69.8805  , -69.0015  , -68.1225  , ...,  -2.1975  ,  -1.3185  ,\n",
       "         -0.4395  ],\n",
       "       [-71.082937, -70.188812, -69.294687, ...,  -2.235312,  -1.341187,\n",
       "         -0.447063],\n",
       "       [-71.599688, -70.699062, -69.798437, ...,  -2.251562,  -1.350938,\n",
       "         -0.450312]])</pre></div></li><li class='xr-var-item'><div class='xr-var-name'><span>Kq</span></div><div class='xr-var-dims'>(Model Runs, index)</div><div class='xr-var-dtype'>float64</div><div class='xr-var-preview xr-preview'>...</div><input id='attrs-f3da98aa-c82a-4907-97f7-6d19ea954c43' class='xr-var-attrs-in' type='checkbox' disabled><label for='attrs-f3da98aa-c82a-4907-97f7-6d19ea954c43' title='Show/Hide attributes'><svg class='icon xr-icon-file-text2'><use xlink:href='#icon-file-text2'></use></svg></label><input id='data-e3b94b6c-102e-414e-8012-04213078ce4c' class='xr-var-data-in' type='checkbox'><label for='data-e3b94b6c-102e-414e-8012-04213078ce4c' title='Show/Hide data repr'><svg class='icon xr-icon-database'><use xlink:href='#icon-database'></use></svg></label><div class='xr-var-attrs'><dl class='xr-attrs'></dl></div><div class='xr-var-data'><pre>array([[0.025678, 0.03927 , 0.077952, ..., 0.088756, 0.056876, 0.02021 ],\n",
       "       [0.016057, 0.024079, 0.047587, ..., 0.054032, 0.034625, 0.012304],\n",
       "       [0.019641, 0.030029, 0.059595, ..., 0.067851, 0.04348 , 0.01545 ],\n",
       "       ...,\n",
       "       [0.027247, 0.041671, 0.082721, ..., 0.094187, 0.060356, 0.021447],\n",
       "       [0.027952, 0.04275 , 0.084865, ..., 0.096629, 0.061921, 0.022003],\n",
       "       [0.028257, 0.043217, 0.085792, ..., 0.097684, 0.062597, 0.022243]])</pre></div></li><li class='xr-var-item'><div class='xr-var-name'><span>nu_t</span></div><div class='xr-var-dims'>(Model Runs, index)</div><div class='xr-var-dtype'>float64</div><div class='xr-var-preview xr-preview'>...</div><input id='attrs-b9a6b907-028d-4f03-bd2a-11325c217b3b' class='xr-var-attrs-in' type='checkbox' disabled><label for='attrs-b9a6b907-028d-4f03-bd2a-11325c217b3b' title='Show/Hide attributes'><svg class='icon xr-icon-file-text2'><use xlink:href='#icon-file-text2'></use></svg></label><input id='data-1298ba04-568f-4e72-b761-94435102a10b' class='xr-var-data-in' type='checkbox'><label for='data-1298ba04-568f-4e72-b761-94435102a10b' title='Show/Hide data repr'><svg class='icon xr-icon-database'><use xlink:href='#icon-database'></use></svg></label><div class='xr-var-attrs'><dl class='xr-attrs'></dl></div><div class='xr-var-data'><pre>array([[0.05033 , 0.076971, 0.152789, ..., 0.173965, 0.111478, 0.039612],\n",
       "       [0.031471, 0.047196, 0.093272, ..., 0.105905, 0.067865, 0.024115],\n",
       "       [0.038496, 0.058858, 0.116808, ..., 0.132991, 0.085222, 0.030282],\n",
       "       ...,\n",
       "       [0.053404, 0.081677, 0.162137, ..., 0.18461 , 0.1183  , 0.042036],\n",
       "       [0.054786, 0.083792, 0.166339, ..., 0.189396, 0.121366, 0.043126],\n",
       "       [0.055384, 0.084707, 0.168156, ..., 0.191465, 0.122692, 0.043597]])</pre></div></li></ul></div></li><li class='xr-section-item'><input id='section-26d1dd01-71d3-4742-8dfc-e5fb1a97ebf1' class='xr-section-summary-in' type='checkbox'  checked><label for='section-26d1dd01-71d3-4742-8dfc-e5fb1a97ebf1' class='xr-section-summary' >Attributes: <span>(1)</span></label><div class='xr-section-inline-details'></div><div class='xr-section-details'><dl class='xr-attrs'><dt><span>description :</span></dt><dd>Model run results for Bay-side sites.</dd></dl></div></li></ul></div></div>"
      ],
      "text/plain": [
       "<xarray.Dataset>\n",
       "Dimensions:     (Model Runs: 114, index: 80)\n",
       "Coordinates:\n",
       "  * index       (index) int32 0 1 2 3 4 5 6 7 8 9 ... 71 72 73 74 75 76 77 78 79\n",
       "Dimensions without coordinates: Model Runs\n",
       "Data variables:\n",
       "    U Velocity  (Model Runs, index) float64 ...\n",
       "    Q           (Model Runs, index) float64 ...\n",
       "    Q2          (Model Runs, index) float64 ...\n",
       "    Q2L         (Model Runs, index) float64 ...\n",
       "    Z           (Model Runs, index) float64 ...\n",
       "    Kq          (Model Runs, index) float64 ...\n",
       "    nu_t        (Model Runs, index) float64 ...\n",
       "Attributes:\n",
       "    description:  Model run results for Bay-side sites."
      ]
     },
     "execution_count": 4,
     "metadata": {},
     "output_type": "execute_result"
    }
   ],
   "source": [
    "base_wc_ds"
   ]
  },
  {
   "cell_type": "code",
   "execution_count": 5,
   "metadata": {},
   "outputs": [
    {
     "data": {
      "text/html": [
       "<div><svg style=\"position: absolute; width: 0; height: 0; overflow: hidden\">\n",
       "<defs>\n",
       "<symbol id=\"icon-database\" viewBox=\"0 0 32 32\">\n",
       "<path d=\"M16 0c-8.837 0-16 2.239-16 5v4c0 2.761 7.163 5 16 5s16-2.239 16-5v-4c0-2.761-7.163-5-16-5z\"></path>\n",
       "<path d=\"M16 17c-8.837 0-16-2.239-16-5v6c0 2.761 7.163 5 16 5s16-2.239 16-5v-6c0 2.761-7.163 5-16 5z\"></path>\n",
       "<path d=\"M16 26c-8.837 0-16-2.239-16-5v6c0 2.761 7.163 5 16 5s16-2.239 16-5v-6c0 2.761-7.163 5-16 5z\"></path>\n",
       "</symbol>\n",
       "<symbol id=\"icon-file-text2\" viewBox=\"0 0 32 32\">\n",
       "<path d=\"M28.681 7.159c-0.694-0.947-1.662-2.053-2.724-3.116s-2.169-2.030-3.116-2.724c-1.612-1.182-2.393-1.319-2.841-1.319h-15.5c-1.378 0-2.5 1.121-2.5 2.5v27c0 1.378 1.122 2.5 2.5 2.5h23c1.378 0 2.5-1.122 2.5-2.5v-19.5c0-0.448-0.137-1.23-1.319-2.841zM24.543 5.457c0.959 0.959 1.712 1.825 2.268 2.543h-4.811v-4.811c0.718 0.556 1.584 1.309 2.543 2.268zM28 29.5c0 0.271-0.229 0.5-0.5 0.5h-23c-0.271 0-0.5-0.229-0.5-0.5v-27c0-0.271 0.229-0.5 0.5-0.5 0 0 15.499-0 15.5 0v7c0 0.552 0.448 1 1 1h7v19.5z\"></path>\n",
       "<path d=\"M23 26h-14c-0.552 0-1-0.448-1-1s0.448-1 1-1h14c0.552 0 1 0.448 1 1s-0.448 1-1 1z\"></path>\n",
       "<path d=\"M23 22h-14c-0.552 0-1-0.448-1-1s0.448-1 1-1h14c0.552 0 1 0.448 1 1s-0.448 1-1 1z\"></path>\n",
       "<path d=\"M23 18h-14c-0.552 0-1-0.448-1-1s0.448-1 1-1h14c0.552 0 1 0.448 1 1s-0.448 1-1 1z\"></path>\n",
       "</symbol>\n",
       "</defs>\n",
       "</svg>\n",
       "<style>/* CSS stylesheet for displaying xarray objects in jupyterlab.\n",
       " *\n",
       " */\n",
       "\n",
       ":root {\n",
       "  --xr-font-color0: var(--jp-content-font-color0, rgba(0, 0, 0, 1));\n",
       "  --xr-font-color2: var(--jp-content-font-color2, rgba(0, 0, 0, 0.54));\n",
       "  --xr-font-color3: var(--jp-content-font-color3, rgba(0, 0, 0, 0.38));\n",
       "  --xr-border-color: var(--jp-border-color2, #e0e0e0);\n",
       "  --xr-disabled-color: var(--jp-layout-color3, #bdbdbd);\n",
       "  --xr-background-color: var(--jp-layout-color0, white);\n",
       "  --xr-background-color-row-even: var(--jp-layout-color1, white);\n",
       "  --xr-background-color-row-odd: var(--jp-layout-color2, #eeeeee);\n",
       "}\n",
       "\n",
       "html[theme=dark],\n",
       "body.vscode-dark {\n",
       "  --xr-font-color0: rgba(255, 255, 255, 1);\n",
       "  --xr-font-color2: rgba(255, 255, 255, 0.54);\n",
       "  --xr-font-color3: rgba(255, 255, 255, 0.38);\n",
       "  --xr-border-color: #1F1F1F;\n",
       "  --xr-disabled-color: #515151;\n",
       "  --xr-background-color: #111111;\n",
       "  --xr-background-color-row-even: #111111;\n",
       "  --xr-background-color-row-odd: #313131;\n",
       "}\n",
       "\n",
       ".xr-wrap {\n",
       "  display: block;\n",
       "  min-width: 300px;\n",
       "  max-width: 700px;\n",
       "}\n",
       "\n",
       ".xr-text-repr-fallback {\n",
       "  /* fallback to plain text repr when CSS is not injected (untrusted notebook) */\n",
       "  display: none;\n",
       "}\n",
       "\n",
       ".xr-header {\n",
       "  padding-top: 6px;\n",
       "  padding-bottom: 6px;\n",
       "  margin-bottom: 4px;\n",
       "  border-bottom: solid 1px var(--xr-border-color);\n",
       "}\n",
       "\n",
       ".xr-header > div,\n",
       ".xr-header > ul {\n",
       "  display: inline;\n",
       "  margin-top: 0;\n",
       "  margin-bottom: 0;\n",
       "}\n",
       "\n",
       ".xr-obj-type,\n",
       ".xr-array-name {\n",
       "  margin-left: 2px;\n",
       "  margin-right: 10px;\n",
       "}\n",
       "\n",
       ".xr-obj-type {\n",
       "  color: var(--xr-font-color2);\n",
       "}\n",
       "\n",
       ".xr-sections {\n",
       "  padding-left: 0 !important;\n",
       "  display: grid;\n",
       "  grid-template-columns: 150px auto auto 1fr 20px 20px;\n",
       "}\n",
       "\n",
       ".xr-section-item {\n",
       "  display: contents;\n",
       "}\n",
       "\n",
       ".xr-section-item input {\n",
       "  display: none;\n",
       "}\n",
       "\n",
       ".xr-section-item input + label {\n",
       "  color: var(--xr-disabled-color);\n",
       "}\n",
       "\n",
       ".xr-section-item input:enabled + label {\n",
       "  cursor: pointer;\n",
       "  color: var(--xr-font-color2);\n",
       "}\n",
       "\n",
       ".xr-section-item input:enabled + label:hover {\n",
       "  color: var(--xr-font-color0);\n",
       "}\n",
       "\n",
       ".xr-section-summary {\n",
       "  grid-column: 1;\n",
       "  color: var(--xr-font-color2);\n",
       "  font-weight: 500;\n",
       "}\n",
       "\n",
       ".xr-section-summary > span {\n",
       "  display: inline-block;\n",
       "  padding-left: 0.5em;\n",
       "}\n",
       "\n",
       ".xr-section-summary-in:disabled + label {\n",
       "  color: var(--xr-font-color2);\n",
       "}\n",
       "\n",
       ".xr-section-summary-in + label:before {\n",
       "  display: inline-block;\n",
       "  content: '►';\n",
       "  font-size: 11px;\n",
       "  width: 15px;\n",
       "  text-align: center;\n",
       "}\n",
       "\n",
       ".xr-section-summary-in:disabled + label:before {\n",
       "  color: var(--xr-disabled-color);\n",
       "}\n",
       "\n",
       ".xr-section-summary-in:checked + label:before {\n",
       "  content: '▼';\n",
       "}\n",
       "\n",
       ".xr-section-summary-in:checked + label > span {\n",
       "  display: none;\n",
       "}\n",
       "\n",
       ".xr-section-summary,\n",
       ".xr-section-inline-details {\n",
       "  padding-top: 4px;\n",
       "  padding-bottom: 4px;\n",
       "}\n",
       "\n",
       ".xr-section-inline-details {\n",
       "  grid-column: 2 / -1;\n",
       "}\n",
       "\n",
       ".xr-section-details {\n",
       "  display: none;\n",
       "  grid-column: 1 / -1;\n",
       "  margin-bottom: 5px;\n",
       "}\n",
       "\n",
       ".xr-section-summary-in:checked ~ .xr-section-details {\n",
       "  display: contents;\n",
       "}\n",
       "\n",
       ".xr-array-wrap {\n",
       "  grid-column: 1 / -1;\n",
       "  display: grid;\n",
       "  grid-template-columns: 20px auto;\n",
       "}\n",
       "\n",
       ".xr-array-wrap > label {\n",
       "  grid-column: 1;\n",
       "  vertical-align: top;\n",
       "}\n",
       "\n",
       ".xr-preview {\n",
       "  color: var(--xr-font-color3);\n",
       "}\n",
       "\n",
       ".xr-array-preview,\n",
       ".xr-array-data {\n",
       "  padding: 0 5px !important;\n",
       "  grid-column: 2;\n",
       "}\n",
       "\n",
       ".xr-array-data,\n",
       ".xr-array-in:checked ~ .xr-array-preview {\n",
       "  display: none;\n",
       "}\n",
       "\n",
       ".xr-array-in:checked ~ .xr-array-data,\n",
       ".xr-array-preview {\n",
       "  display: inline-block;\n",
       "}\n",
       "\n",
       ".xr-dim-list {\n",
       "  display: inline-block !important;\n",
       "  list-style: none;\n",
       "  padding: 0 !important;\n",
       "  margin: 0;\n",
       "}\n",
       "\n",
       ".xr-dim-list li {\n",
       "  display: inline-block;\n",
       "  padding: 0;\n",
       "  margin: 0;\n",
       "}\n",
       "\n",
       ".xr-dim-list:before {\n",
       "  content: '(';\n",
       "}\n",
       "\n",
       ".xr-dim-list:after {\n",
       "  content: ')';\n",
       "}\n",
       "\n",
       ".xr-dim-list li:not(:last-child):after {\n",
       "  content: ',';\n",
       "  padding-right: 5px;\n",
       "}\n",
       "\n",
       ".xr-has-index {\n",
       "  font-weight: bold;\n",
       "}\n",
       "\n",
       ".xr-var-list,\n",
       ".xr-var-item {\n",
       "  display: contents;\n",
       "}\n",
       "\n",
       ".xr-var-item > div,\n",
       ".xr-var-item label,\n",
       ".xr-var-item > .xr-var-name span {\n",
       "  background-color: var(--xr-background-color-row-even);\n",
       "  margin-bottom: 0;\n",
       "}\n",
       "\n",
       ".xr-var-item > .xr-var-name:hover span {\n",
       "  padding-right: 5px;\n",
       "}\n",
       "\n",
       ".xr-var-list > li:nth-child(odd) > div,\n",
       ".xr-var-list > li:nth-child(odd) > label,\n",
       ".xr-var-list > li:nth-child(odd) > .xr-var-name span {\n",
       "  background-color: var(--xr-background-color-row-odd);\n",
       "}\n",
       "\n",
       ".xr-var-name {\n",
       "  grid-column: 1;\n",
       "}\n",
       "\n",
       ".xr-var-dims {\n",
       "  grid-column: 2;\n",
       "}\n",
       "\n",
       ".xr-var-dtype {\n",
       "  grid-column: 3;\n",
       "  text-align: right;\n",
       "  color: var(--xr-font-color2);\n",
       "}\n",
       "\n",
       ".xr-var-preview {\n",
       "  grid-column: 4;\n",
       "}\n",
       "\n",
       ".xr-var-name,\n",
       ".xr-var-dims,\n",
       ".xr-var-dtype,\n",
       ".xr-preview,\n",
       ".xr-attrs dt {\n",
       "  white-space: nowrap;\n",
       "  overflow: hidden;\n",
       "  text-overflow: ellipsis;\n",
       "  padding-right: 10px;\n",
       "}\n",
       "\n",
       ".xr-var-name:hover,\n",
       ".xr-var-dims:hover,\n",
       ".xr-var-dtype:hover,\n",
       ".xr-attrs dt:hover {\n",
       "  overflow: visible;\n",
       "  width: auto;\n",
       "  z-index: 1;\n",
       "}\n",
       "\n",
       ".xr-var-attrs,\n",
       ".xr-var-data {\n",
       "  display: none;\n",
       "  background-color: var(--xr-background-color) !important;\n",
       "  padding-bottom: 5px !important;\n",
       "}\n",
       "\n",
       ".xr-var-attrs-in:checked ~ .xr-var-attrs,\n",
       ".xr-var-data-in:checked ~ .xr-var-data {\n",
       "  display: block;\n",
       "}\n",
       "\n",
       ".xr-var-data > table {\n",
       "  float: right;\n",
       "}\n",
       "\n",
       ".xr-var-name span,\n",
       ".xr-var-data,\n",
       ".xr-attrs {\n",
       "  padding-left: 25px !important;\n",
       "}\n",
       "\n",
       ".xr-attrs,\n",
       ".xr-var-attrs,\n",
       ".xr-var-data {\n",
       "  grid-column: 1 / -1;\n",
       "}\n",
       "\n",
       "dl.xr-attrs {\n",
       "  padding: 0;\n",
       "  margin: 0;\n",
       "  display: grid;\n",
       "  grid-template-columns: 125px auto;\n",
       "}\n",
       "\n",
       ".xr-attrs dt,\n",
       ".xr-attrs dd {\n",
       "  padding: 0;\n",
       "  margin: 0;\n",
       "  float: left;\n",
       "  padding-right: 10px;\n",
       "  width: auto;\n",
       "}\n",
       "\n",
       ".xr-attrs dt {\n",
       "  font-weight: normal;\n",
       "  grid-column: 1;\n",
       "}\n",
       "\n",
       ".xr-attrs dt:hover span {\n",
       "  display: inline-block;\n",
       "  background: var(--xr-background-color);\n",
       "  padding-right: 10px;\n",
       "}\n",
       "\n",
       ".xr-attrs dd {\n",
       "  grid-column: 2;\n",
       "  white-space: pre-wrap;\n",
       "  word-break: break-all;\n",
       "}\n",
       "\n",
       ".xr-icon-database,\n",
       ".xr-icon-file-text2 {\n",
       "  display: inline-block;\n",
       "  vertical-align: middle;\n",
       "  width: 1em;\n",
       "  height: 1.5em !important;\n",
       "  stroke-width: 0;\n",
       "  stroke: currentColor;\n",
       "  fill: currentColor;\n",
       "}\n",
       "</style><pre class='xr-text-repr-fallback'>&lt;xarray.Dataset&gt;\n",
       "Dimensions:     (Model Runs: 114, index: 80)\n",
       "Coordinates:\n",
       "  * index       (index) int32 0 1 2 3 4 5 6 7 8 9 ... 71 72 73 74 75 76 77 78 79\n",
       "Dimensions without coordinates: Model Runs\n",
       "Data variables:\n",
       "    U Velocity  (Model Runs, index) float64 0.003122 0.007679 ... 1.6 1.61\n",
       "    Q           (Model Runs, index) float64 0.06818 0.1382 ... 0.1392 0.1053\n",
       "    Q2          (Model Runs, index) float64 0.004648 0.01911 ... 0.01936 0.01108\n",
       "    Q2L         (Model Runs, index) float64 0.0009885 0.01047 ... 0.01183\n",
       "    Z           (Model Runs, index) float64 -67.17 -66.32 ... -1.351 -0.4503\n",
       "    Kq          (Model Runs, index) float64 0.0029 0.01514 ... 0.06322 0.02246\n",
       "    nu_t        (Model Runs, index) float64 0.005684 0.02968 ... 0.1239 0.04403\n",
       "Attributes:\n",
       "    description:  Model run results for Bay-side sites.</pre><div class='xr-wrap' hidden><div class='xr-header'><div class='xr-obj-type'>xarray.Dataset</div></div><ul class='xr-sections'><li class='xr-section-item'><input id='section-342343a5-f4c0-451e-9ede-15b1133746d2' class='xr-section-summary-in' type='checkbox' disabled ><label for='section-342343a5-f4c0-451e-9ede-15b1133746d2' class='xr-section-summary'  title='Expand/collapse section'>Dimensions:</label><div class='xr-section-inline-details'><ul class='xr-dim-list'><li><span>Model Runs</span>: 114</li><li><span class='xr-has-index'>index</span>: 80</li></ul></div><div class='xr-section-details'></div></li><li class='xr-section-item'><input id='section-4003eb18-bddc-4017-a81b-70b8056ed74e' class='xr-section-summary-in' type='checkbox'  checked><label for='section-4003eb18-bddc-4017-a81b-70b8056ed74e' class='xr-section-summary' >Coordinates: <span>(1)</span></label><div class='xr-section-inline-details'></div><div class='xr-section-details'><ul class='xr-var-list'><li class='xr-var-item'><div class='xr-var-name'><span class='xr-has-index'>index</span></div><div class='xr-var-dims'>(index)</div><div class='xr-var-dtype'>int32</div><div class='xr-var-preview xr-preview'>0 1 2 3 4 5 6 ... 74 75 76 77 78 79</div><input id='attrs-95b85ba3-4ac7-4613-8602-44377c537a17' class='xr-var-attrs-in' type='checkbox' disabled><label for='attrs-95b85ba3-4ac7-4613-8602-44377c537a17' title='Show/Hide attributes'><svg class='icon xr-icon-file-text2'><use xlink:href='#icon-file-text2'></use></svg></label><input id='data-03888bfd-7ade-4531-8f3b-3f8d0685ebf1' class='xr-var-data-in' type='checkbox'><label for='data-03888bfd-7ade-4531-8f3b-3f8d0685ebf1' title='Show/Hide data repr'><svg class='icon xr-icon-database'><use xlink:href='#icon-database'></use></svg></label><div class='xr-var-attrs'><dl class='xr-attrs'></dl></div><div class='xr-var-data'><pre>array([ 0,  1,  2,  3,  4,  5,  6,  7,  8,  9, 10, 11, 12, 13, 14, 15, 16, 17,\n",
       "       18, 19, 20, 21, 22, 23, 24, 25, 26, 27, 28, 29, 30, 31, 32, 33, 34, 35,\n",
       "       36, 37, 38, 39, 40, 41, 42, 43, 44, 45, 46, 47, 48, 49, 50, 51, 52, 53,\n",
       "       54, 55, 56, 57, 58, 59, 60, 61, 62, 63, 64, 65, 66, 67, 68, 69, 70, 71,\n",
       "       72, 73, 74, 75, 76, 77, 78, 79])</pre></div></li></ul></div></li><li class='xr-section-item'><input id='section-dc4340de-567e-4b87-82f2-3cab0bdbe9b8' class='xr-section-summary-in' type='checkbox'  checked><label for='section-dc4340de-567e-4b87-82f2-3cab0bdbe9b8' class='xr-section-summary' >Data variables: <span>(7)</span></label><div class='xr-section-inline-details'></div><div class='xr-section-details'><ul class='xr-var-list'><li class='xr-var-item'><div class='xr-var-name'><span>U Velocity</span></div><div class='xr-var-dims'>(Model Runs, index)</div><div class='xr-var-dtype'>float64</div><div class='xr-var-preview xr-preview'>...</div><input id='attrs-e72d0397-7b25-4742-9097-975433f2cd05' class='xr-var-attrs-in' type='checkbox' disabled><label for='attrs-e72d0397-7b25-4742-9097-975433f2cd05' title='Show/Hide attributes'><svg class='icon xr-icon-file-text2'><use xlink:href='#icon-file-text2'></use></svg></label><input id='data-cb4900de-6a36-4047-97a3-8c007308ab1d' class='xr-var-data-in' type='checkbox'><label for='data-cb4900de-6a36-4047-97a3-8c007308ab1d' title='Show/Hide data repr'><svg class='icon xr-icon-database'><use xlink:href='#icon-database'></use></svg></label><div class='xr-var-attrs'><dl class='xr-attrs'></dl></div><div class='xr-var-data'><pre>array([[ 3.122460e-03,  7.678820e-03,  1.126033e-02, ...,  2.136937e+00,\n",
       "         2.146933e+00,  2.156375e+00],\n",
       "       [ 2.730431e-03, -5.794936e-04, -3.373841e-04, ...,  1.043050e+00,\n",
       "         1.051358e+00,  1.059206e+00],\n",
       "       [ 3.082470e-03, -2.121948e-04,  6.827243e-04, ...,  7.892914e-01,\n",
       "         7.973807e-01,  8.050139e-01],\n",
       "       ...,\n",
       "       [-8.334176e-04,  3.171019e-03,  5.043106e-03, ...,  1.436743e+00,\n",
       "         1.446086e+00,  1.454947e+00],\n",
       "       [ 4.587025e-04,  3.748737e-04,  5.601790e-04, ...,  1.066450e+00,\n",
       "         1.076324e+00,  1.085654e+00],\n",
       "       [-6.309351e-04, -3.864823e-04, -1.126965e-03, ...,  1.589906e+00,\n",
       "         1.600156e+00,  1.609838e+00]])</pre></div></li><li class='xr-var-item'><div class='xr-var-name'><span>Q</span></div><div class='xr-var-dims'>(Model Runs, index)</div><div class='xr-var-dtype'>float64</div><div class='xr-var-preview xr-preview'>...</div><input id='attrs-beafd3a8-15d4-4745-9cac-d102f8202c7c' class='xr-var-attrs-in' type='checkbox' disabled><label for='attrs-beafd3a8-15d4-4745-9cac-d102f8202c7c' title='Show/Hide attributes'><svg class='icon xr-icon-file-text2'><use xlink:href='#icon-file-text2'></use></svg></label><input id='data-33e3cba3-8259-401a-a8ce-4e3a530df976' class='xr-var-data-in' type='checkbox'><label for='data-33e3cba3-8259-401a-a8ce-4e3a530df976' title='Show/Hide data repr'><svg class='icon xr-icon-database'><use xlink:href='#icon-database'></use></svg></label><div class='xr-var-attrs'><dl class='xr-attrs'></dl></div><div class='xr-var-data'><pre>array([[0.068178, 0.138245, 0.201451, ..., 0.152508, 0.134093, 0.10138 ],\n",
       "       [0.023643, 0.048324, 0.071049, ..., 0.130571, 0.114918, 0.087018],\n",
       "       [0.016936, 0.03436 , 0.049851, ..., 0.132275, 0.11624 , 0.087678],\n",
       "       ...,\n",
       "       [0.016547, 0.03717 , 0.059552, ..., 0.15218 , 0.133908, 0.101285],\n",
       "       [0.022725, 0.04658 , 0.068673, ..., 0.159584, 0.140595, 0.106631],\n",
       "       [0.040556, 0.082645, 0.121098, ..., 0.158202, 0.139155, 0.105274]])</pre></div></li><li class='xr-var-item'><div class='xr-var-name'><span>Q2</span></div><div class='xr-var-dims'>(Model Runs, index)</div><div class='xr-var-dtype'>float64</div><div class='xr-var-preview xr-preview'>...</div><input id='attrs-c63aadae-c74e-4ce4-9993-2a88b99abc7c' class='xr-var-attrs-in' type='checkbox' disabled><label for='attrs-c63aadae-c74e-4ce4-9993-2a88b99abc7c' title='Show/Hide attributes'><svg class='icon xr-icon-file-text2'><use xlink:href='#icon-file-text2'></use></svg></label><input id='data-bd411383-5285-4ef2-8bb6-fbc0c4a39596' class='xr-var-data-in' type='checkbox'><label for='data-bd411383-5285-4ef2-8bb6-fbc0c4a39596' title='Show/Hide data repr'><svg class='icon xr-icon-database'><use xlink:href='#icon-database'></use></svg></label><div class='xr-var-attrs'><dl class='xr-attrs'></dl></div><div class='xr-var-data'><pre>array([[0.004648, 0.019112, 0.040583, ..., 0.023259, 0.017981, 0.010278],\n",
       "       [0.000559, 0.002335, 0.005048, ..., 0.017049, 0.013206, 0.007572],\n",
       "       [0.000287, 0.001181, 0.002485, ..., 0.017497, 0.013512, 0.007687],\n",
       "       ...,\n",
       "       [0.000274, 0.001382, 0.003546, ..., 0.023159, 0.017931, 0.010259],\n",
       "       [0.000516, 0.00217 , 0.004716, ..., 0.025467, 0.019767, 0.01137 ],\n",
       "       [0.001645, 0.00683 , 0.014665, ..., 0.025028, 0.019364, 0.011083]])</pre></div></li><li class='xr-var-item'><div class='xr-var-name'><span>Q2L</span></div><div class='xr-var-dims'>(Model Runs, index)</div><div class='xr-var-dtype'>float64</div><div class='xr-var-preview xr-preview'>...</div><input id='attrs-ad5b306b-4955-4456-bbe1-ea480bfde27c' class='xr-var-attrs-in' type='checkbox' disabled><label for='attrs-ad5b306b-4955-4456-bbe1-ea480bfde27c' title='Show/Hide attributes'><svg class='icon xr-icon-file-text2'><use xlink:href='#icon-file-text2'></use></svg></label><input id='data-95d7e731-0df8-4e8c-a993-6e4075f2cd8b' class='xr-var-data-in' type='checkbox'><label for='data-95d7e731-0df8-4e8c-a993-6e4075f2cd8b' title='Show/Hide data repr'><svg class='icon xr-icon-database'><use xlink:href='#icon-database'></use></svg></label><div class='xr-var-attrs'><dl class='xr-attrs'></dl></div><div class='xr-var-data'><pre>array([[9.885500e-04, 1.046713e-02, 3.660868e-02, ..., 6.762959e-02,\n",
       "        3.810348e-02, 1.023634e-02],\n",
       "       [8.398324e-05, 8.925532e-04, 3.144344e-03, ..., 3.617594e-02,\n",
       "        2.039892e-02, 5.488259e-03],\n",
       "       [4.530815e-05, 4.740081e-04, 1.649230e-03, ..., 4.036030e-02,\n",
       "        2.270139e-02, 6.080284e-03],\n",
       "       ...,\n",
       "       [4.729936e-05, 6.024181e-04, 2.627079e-03, ..., 6.810273e-02,\n",
       "        3.847776e-02, 1.035572e-02],\n",
       "       [1.138691e-04, 1.213487e-03, 4.289395e-03, ..., 8.082637e-02,\n",
       "        4.561980e-02, 1.229265e-02],\n",
       "       [3.693081e-04, 3.918027e-03, 1.375626e-02, ..., 7.805011e-02,\n",
       "        4.399072e-02, 1.182530e-02]])</pre></div></li><li class='xr-var-item'><div class='xr-var-name'><span>Z</span></div><div class='xr-var-dims'>(Model Runs, index)</div><div class='xr-var-dtype'>float64</div><div class='xr-var-preview xr-preview'>...</div><input id='attrs-e17ee2d5-d3a6-44d3-b80c-e0050fc958a1' class='xr-var-attrs-in' type='checkbox' disabled><label for='attrs-e17ee2d5-d3a6-44d3-b80c-e0050fc958a1' title='Show/Hide attributes'><svg class='icon xr-icon-file-text2'><use xlink:href='#icon-file-text2'></use></svg></label><input id='data-eb604c85-0acc-4a2e-9592-3b78286ac62f' class='xr-var-data-in' type='checkbox'><label for='data-eb604c85-0acc-4a2e-9592-3b78286ac62f' title='Show/Hide data repr'><svg class='icon xr-icon-database'><use xlink:href='#icon-database'></use></svg></label><div class='xr-var-attrs'><dl class='xr-attrs'></dl></div><div class='xr-var-data'><pre>array([[-67.167562, -66.322687, -65.477812, ...,  -2.112188,  -1.267313,\n",
       "         -0.422438],\n",
       "       [-48.246563, -47.639688, -47.032813, ...,  -1.517187,  -0.910313,\n",
       "         -0.303438],\n",
       "       [-56.156812, -55.450437, -54.744062, ...,  -1.765937,  -1.059562,\n",
       "         -0.353187],\n",
       "       ...,\n",
       "       [-69.8805  , -69.0015  , -68.1225  , ...,  -2.1975  ,  -1.3185  ,\n",
       "         -0.4395  ],\n",
       "       [-71.082937, -70.188812, -69.294687, ...,  -2.235312,  -1.341187,\n",
       "         -0.447063],\n",
       "       [-71.599688, -70.699062, -69.798437, ...,  -2.251562,  -1.350938,\n",
       "         -0.450312]])</pre></div></li><li class='xr-var-item'><div class='xr-var-name'><span>Kq</span></div><div class='xr-var-dims'>(Model Runs, index)</div><div class='xr-var-dtype'>float64</div><div class='xr-var-preview xr-preview'>...</div><input id='attrs-10ad86f9-9b21-403e-a2a8-a07cdf40623f' class='xr-var-attrs-in' type='checkbox' disabled><label for='attrs-10ad86f9-9b21-403e-a2a8-a07cdf40623f' title='Show/Hide attributes'><svg class='icon xr-icon-file-text2'><use xlink:href='#icon-file-text2'></use></svg></label><input id='data-0bf67352-c8e0-4ff1-805c-b56fc9e6a6aa' class='xr-var-data-in' type='checkbox'><label for='data-0bf67352-c8e0-4ff1-805c-b56fc9e6a6aa' title='Show/Hide data repr'><svg class='icon xr-icon-database'><use xlink:href='#icon-database'></use></svg></label><div class='xr-var-attrs'><dl class='xr-attrs'></dl></div><div class='xr-var-data'><pre>array([[0.0029  , 0.015143, 0.036345, ..., 0.088687, 0.056829, 0.020193],\n",
       "       [0.00071 , 0.003693, 0.00885 , ..., 0.05541 , 0.0355  , 0.012613],\n",
       "       [0.000534, 0.002758, 0.006615, ..., 0.061022, 0.039057, 0.013869],\n",
       "       ...,\n",
       "       [0.000571, 0.00324 , 0.008821, ..., 0.0895  , 0.057467, 0.020448],\n",
       "       [0.001001, 0.005209, 0.012491, ..., 0.101293, 0.064893, 0.023055],\n",
       "       [0.001821, 0.009481, 0.022719, ..., 0.098668, 0.063223, 0.022465]])</pre></div></li><li class='xr-var-item'><div class='xr-var-name'><span>nu_t</span></div><div class='xr-var-dims'>(Model Runs, index)</div><div class='xr-var-dtype'>float64</div><div class='xr-var-preview xr-preview'>...</div><input id='attrs-7bdc9f09-364d-40b5-8278-6528a0ee04c4' class='xr-var-attrs-in' type='checkbox' disabled><label for='attrs-7bdc9f09-364d-40b5-8278-6528a0ee04c4' title='Show/Hide attributes'><svg class='icon xr-icon-file-text2'><use xlink:href='#icon-file-text2'></use></svg></label><input id='data-246470a4-ee62-4ec0-ae00-9196e1a0de91' class='xr-var-data-in' type='checkbox'><label for='data-246470a4-ee62-4ec0-ae00-9196e1a0de91' title='Show/Hide data repr'><svg class='icon xr-icon-database'><use xlink:href='#icon-database'></use></svg></label><div class='xr-var-attrs'><dl class='xr-attrs'></dl></div><div class='xr-var-data'><pre>array([[0.005684, 0.02968 , 0.071237, ..., 0.173831, 0.111387, 0.039579],\n",
       "       [0.001391, 0.007238, 0.017346, ..., 0.108605, 0.069581, 0.024722],\n",
       "       [0.001046, 0.005404, 0.012965, ..., 0.119606, 0.076554, 0.027183],\n",
       "       ...,\n",
       "       [0.001118, 0.00635 , 0.017289, ..., 0.175424, 0.112636, 0.040077],\n",
       "       [0.001961, 0.010209, 0.024481, ..., 0.198539, 0.127192, 0.045189],\n",
       "       [0.003569, 0.018583, 0.044529, ..., 0.193394, 0.12392 , 0.044031]])</pre></div></li></ul></div></li><li class='xr-section-item'><input id='section-3fe2d61f-6850-4f79-82f8-8cf94891a796' class='xr-section-summary-in' type='checkbox'  checked><label for='section-3fe2d61f-6850-4f79-82f8-8cf94891a796' class='xr-section-summary' >Attributes: <span>(1)</span></label><div class='xr-section-inline-details'></div><div class='xr-section-details'><dl class='xr-attrs'><dt><span>description :</span></dt><dd>Model run results for Bay-side sites.</dd></dl></div></li></ul></div></div>"
      ],
      "text/plain": [
       "<xarray.Dataset>\n",
       "Dimensions:     (Model Runs: 114, index: 80)\n",
       "Coordinates:\n",
       "  * index       (index) int32 0 1 2 3 4 5 6 7 8 9 ... 71 72 73 74 75 76 77 78 79\n",
       "Dimensions without coordinates: Model Runs\n",
       "Data variables:\n",
       "    U Velocity  (Model Runs, index) float64 ...\n",
       "    Q           (Model Runs, index) float64 ...\n",
       "    Q2          (Model Runs, index) float64 ...\n",
       "    Q2L         (Model Runs, index) float64 ...\n",
       "    Z           (Model Runs, index) float64 ...\n",
       "    Kq          (Model Runs, index) float64 ...\n",
       "    nu_t        (Model Runs, index) float64 ...\n",
       "Attributes:\n",
       "    description:  Model run results for Bay-side sites."
      ]
     },
     "execution_count": 5,
     "metadata": {},
     "output_type": "execute_result"
    }
   ],
   "source": [
    "wc_ds"
   ]
  },
  {
   "cell_type": "markdown",
   "metadata": {},
   "source": [
    "Compiling Data from modeling runs for analysis"
   ]
  },
  {
   "cell_type": "code",
   "execution_count": 148,
   "metadata": {},
   "outputs": [
    {
     "data": {
      "text/html": [
       "<div>\n",
       "<style scoped>\n",
       "    .dataframe tbody tr th:only-of-type {\n",
       "        vertical-align: middle;\n",
       "    }\n",
       "\n",
       "    .dataframe tbody tr th {\n",
       "        vertical-align: top;\n",
       "    }\n",
       "\n",
       "    .dataframe thead th {\n",
       "        text-align: right;\n",
       "    }\n",
       "</style>\n",
       "<table border=\"1\" class=\"dataframe\">\n",
       "  <thead>\n",
       "    <tr style=\"text-align: right;\">\n",
       "      <th></th>\n",
       "      <th>mean_u</th>\n",
       "      <th>mean_u_25</th>\n",
       "      <th>mean_u_50</th>\n",
       "      <th>mean_u_75</th>\n",
       "      <th>Q2</th>\n",
       "      <th>Hveg/WC</th>\n",
       "      <th>wc_height</th>\n",
       "      <th>avg_ht</th>\n",
       "      <th>density_total</th>\n",
       "      <th>frontal_total</th>\n",
       "      <th>site</th>\n",
       "      <th>run</th>\n",
       "    </tr>\n",
       "  </thead>\n",
       "  <tbody>\n",
       "    <tr>\n",
       "      <th>46</th>\n",
       "      <td>1.084220</td>\n",
       "      <td>0.219663</td>\n",
       "      <td>0.601452</td>\n",
       "      <td>0.875571</td>\n",
       "      <td>0.205699</td>\n",
       "      <td>11.674450</td>\n",
       "      <td>0.5996</td>\n",
       "      <td>7.0</td>\n",
       "      <td>5989.570395</td>\n",
       "      <td>11289.142280</td>\n",
       "      <td>Interior</td>\n",
       "      <td>Vegetated Run</td>\n",
       "    </tr>\n",
       "    <tr>\n",
       "      <th>113</th>\n",
       "      <td>13.079509</td>\n",
       "      <td>11.807010</td>\n",
       "      <td>12.440616</td>\n",
       "      <td>12.814301</td>\n",
       "      <td>1.008872</td>\n",
       "      <td>16.655101</td>\n",
       "      <td>0.7205</td>\n",
       "      <td>12.0</td>\n",
       "      <td>5359.089301</td>\n",
       "      <td>17315.676881</td>\n",
       "      <td>Interior</td>\n",
       "      <td>Baseline Run</td>\n",
       "    </tr>\n",
       "    <tr>\n",
       "      <th>41</th>\n",
       "      <td>11.754988</td>\n",
       "      <td>10.610842</td>\n",
       "      <td>11.180534</td>\n",
       "      <td>11.516528</td>\n",
       "      <td>0.814673</td>\n",
       "      <td>24.034335</td>\n",
       "      <td>0.5825</td>\n",
       "      <td>14.0</td>\n",
       "      <td>4413.367659</td>\n",
       "      <td>16636.630728</td>\n",
       "      <td>Interior</td>\n",
       "      <td>Baseline Run</td>\n",
       "    </tr>\n",
       "    <tr>\n",
       "      <th>45</th>\n",
       "      <td>14.304230</td>\n",
       "      <td>12.913005</td>\n",
       "      <td>13.605730</td>\n",
       "      <td>14.014279</td>\n",
       "      <td>1.206870</td>\n",
       "      <td>12.772875</td>\n",
       "      <td>0.8612</td>\n",
       "      <td>11.0</td>\n",
       "      <td>5043.848753</td>\n",
       "      <td>14939.015348</td>\n",
       "      <td>Interior</td>\n",
       "      <td>Baseline Run</td>\n",
       "    </tr>\n",
       "    <tr>\n",
       "      <th>38</th>\n",
       "      <td>0.497071</td>\n",
       "      <td>0.003167</td>\n",
       "      <td>0.145223</td>\n",
       "      <td>0.332292</td>\n",
       "      <td>0.161625</td>\n",
       "      <td>26.909852</td>\n",
       "      <td>0.6689</td>\n",
       "      <td>18.0</td>\n",
       "      <td>5359.089301</td>\n",
       "      <td>25973.515321</td>\n",
       "      <td>Creek</td>\n",
       "      <td>Vegetated Run</td>\n",
       "    </tr>\n",
       "  </tbody>\n",
       "</table>\n",
       "</div>"
      ],
      "text/plain": [
       "        mean_u  mean_u_25  mean_u_50  mean_u_75        Q2    Hveg/WC  \\\n",
       "46    1.084220   0.219663   0.601452   0.875571  0.205699  11.674450   \n",
       "113  13.079509  11.807010  12.440616  12.814301  1.008872  16.655101   \n",
       "41   11.754988  10.610842  11.180534  11.516528  0.814673  24.034335   \n",
       "45   14.304230  12.913005  13.605730  14.014279  1.206870  12.772875   \n",
       "38    0.497071   0.003167   0.145223   0.332292  0.161625  26.909852   \n",
       "\n",
       "     wc_height  avg_ht  density_total  frontal_total      site            run  \n",
       "46      0.5996     7.0    5989.570395   11289.142280  Interior  Vegetated Run  \n",
       "113     0.7205    12.0    5359.089301   17315.676881  Interior   Baseline Run  \n",
       "41      0.5825    14.0    4413.367659   16636.630728  Interior   Baseline Run  \n",
       "45      0.8612    11.0    5043.848753   14939.015348  Interior   Baseline Run  \n",
       "38      0.6689    18.0    5359.089301   25973.515321     Creek  Vegetated Run  "
      ]
     },
     "execution_count": 148,
     "metadata": {},
     "output_type": "execute_result"
    }
   ],
   "source": [
    "df1 = pd.DataFrame({\n",
    "    'mean_u': ([vel.values.mean() for vel in wc_ds['U Velocity']]),\n",
    "    'mean_u_25': ([vel[:20].values.mean() for vel in wc_ds['U Velocity']]),\n",
    "    'mean_u_50': ([vel[:40].values.mean() for vel in wc_ds['U Velocity']]),\n",
    "    'mean_u_75': ([vel[:60].values.mean() for vel in wc_ds['U Velocity']]),\n",
    "    'Q2': ([val.values.max() for val in wc_ds['Q2']]),\n",
    "    'Hveg/WC': df['ave_ht']/df['wc_height'],\n",
    "    'wc_height': df['wc_height'],\n",
    "    'avg_ht': df['ave_ht'],\n",
    "    'density_total': df['density_final'],\n",
    "    'frontal_total': df['frontal_total'],\n",
    "    'site': df['site'],\n",
    "    'run': np.repeat('Vegetated Run',a)\n",
    "})\n",
    "df2 = pd.DataFrame({\n",
    "    'mean_u': ([vel.values.mean() for vel in base_wc_ds['U Velocity']]),\n",
    "    'mean_u_25': ([vel[:20].values.mean() for vel in base_wc_ds['U Velocity']]),\n",
    "    'mean_u_50': ([vel[:40].values.mean() for vel in base_wc_ds['U Velocity']]),\n",
    "    'mean_u_75': ([vel[:60].values.mean() for vel in base_wc_ds['U Velocity']]),\n",
    "    'Q2': ([val.values.max() for val in base_wc_ds['Q2']]),\n",
    "    'Hveg/WC': df['ave_ht']/df['wc_height'],\n",
    "    'wc_height': df['wc_height'],\n",
    "    'avg_ht': df['ave_ht'],\n",
    "    'density_total': df['density_final'],\n",
    "    'frontal_total': df['frontal_total'],\n",
    "    'site': df['site'],\n",
    "    'run': np.repeat('Baseline Run',a)\n",
    "})\n",
    "dff = pd.concat([df1, df2])\n",
    "dff.sample(5)"
   ]
  },
  {
   "cell_type": "markdown",
   "metadata": {},
   "source": [
    "## EDA and Scatterplots"
   ]
  },
  {
   "cell_type": "code",
   "execution_count": 195,
   "metadata": {},
   "outputs": [
    {
     "data": {
      "application/vnd.plotly.v1+json": {
       "config": {
        "plotlyServerURL": "https://plot.ly"
       },
       "data": [
        {
         "hovertemplate": "site=Bay<br>run=Vegetated Run<br>Q2=%{x}<br>avg_ht=%{y}<extra></extra>",
         "legendgroup": "Bay, Vegetated Run",
         "marker": {
          "color": "#636efa",
          "symbol": "circle"
         },
         "mode": "markers",
         "name": "Bay, Vegetated Run",
         "orientation": "v",
         "showlegend": true,
         "type": "scatter",
         "x": [
          0.24390816761419343,
          0.12702809420400155,
          0.11013982671835493,
          0.1363575670075969,
          0.15145160875620933,
          0.15643670460914177,
          0.13440275561291568,
          0.24078259890224765,
          0.16104227265542145,
          0.14485351854457876,
          0.12766205468175207,
          0.0923412292858953,
          0.18338152235982935,
          0.1472469048721474,
          0.23986632562649557,
          0.17545783553321964,
          0.09975652184856383,
          0.08854550096079324,
          0.1345888121990549,
          0.18159977054148882,
          0.1160771067326177,
          0.2243711257066961,
          0.09222426669582424,
          0.12183663860431031,
          0.1326724081797756,
          0.16017104207484076,
          0.1593479156402609,
          0.19633106717273585,
          0.19926582443958857,
          0.12409087387818059,
          0.14519768291173438,
          0.1649038184502154,
          0.1420450599856811,
          0.13317873979535164,
          0.19606921387534254,
          0.17364484298086288,
          0.1478967855050702,
          0.19814312357851988,
          0.0662064640185376,
          0.07368049445370027,
          0.13305318030731025,
          0.11380162993224015
         ],
         "xaxis": "x",
         "y": [
          6.5,
          11,
          19,
          15,
          11,
          16,
          24,
          6,
          7,
          13,
          18,
          26,
          11,
          20,
          6,
          8,
          19,
          25,
          14,
          9,
          21,
          10,
          18,
          18,
          16,
          13,
          16,
          13,
          12,
          11,
          13,
          11,
          16,
          20,
          13,
          13,
          12,
          4,
          30,
          27,
          17,
          23
         ],
         "yaxis": "y"
        },
        {
         "hovertemplate": "<b>OLS trendline</b><br>avg_ht = -116.314 * Q2 + 32.4581<br>R<sup>2</sup>=0.681552<br><br>site=Bay<br>run=Vegetated Run<br>Q2=%{x}<br>avg_ht=%{y} <b>(trend)</b><extra></extra>",
         "legendgroup": "Bay, Vegetated Run",
         "marker": {
          "color": "#636efa",
          "symbol": "circle"
         },
         "mode": "lines",
         "name": "Bay, Vegetated Run",
         "showlegend": false,
         "type": "scatter",
         "x": [
          0.0662064640185376,
          0.07368049445370027,
          0.08854550096079324,
          0.09222426669582424,
          0.0923412292858953,
          0.09975652184856383,
          0.11013982671835493,
          0.11380162993224015,
          0.1160771067326177,
          0.12183663860431031,
          0.12409087387818059,
          0.12702809420400155,
          0.12766205468175207,
          0.1326724081797756,
          0.13305318030731025,
          0.13317873979535164,
          0.13440275561291568,
          0.1345888121990549,
          0.1363575670075969,
          0.1420450599856811,
          0.14485351854457876,
          0.14519768291173438,
          0.1472469048721474,
          0.1478967855050702,
          0.15145160875620933,
          0.15643670460914177,
          0.1593479156402609,
          0.16017104207484076,
          0.16104227265542145,
          0.1649038184502154,
          0.17364484298086288,
          0.17545783553321964,
          0.18159977054148882,
          0.18338152235982935,
          0.19606921387534254,
          0.19633106717273585,
          0.19814312357851988,
          0.19926582443958857,
          0.2243711257066961,
          0.23986632562649557,
          0.24078259890224765,
          0.24390816761419343
         ],
         "xaxis": "x",
         "y": [
          24.757340358031776,
          23.888003652773214,
          22.158990653344347,
          21.73109754918142,
          21.717493126029417,
          20.854988475977336,
          19.647261517476814,
          19.221341397284675,
          18.956670879591037,
          18.286754894553983,
          18.024555070394268,
          17.68291431005502,
          17.609175633477125,
          17.026399815270587,
          16.982110567363872,
          16.967506201942193,
          16.825135644683108,
          16.80349460093983,
          16.597763102920496,
          15.936226272204966,
          15.60956234815123,
          15.56953110669376,
          15.331177264966307,
          15.25558684649831,
          14.84211002703249,
          14.262272034428428,
          13.923656527298718,
          13.82791514266609,
          13.726578557404242,
          13.277425516408073,
          12.260719265078503,
          12.049842284338752,
          11.335447341700988,
          11.128204105433525,
          9.652444000478432,
          9.621986714440897,
          9.411218620945348,
          9.280632443110072,
          6.3605266076572065,
          4.558213095227952,
          4.451637399882735,
          4.0880890266624625
         ],
         "yaxis": "y"
        },
        {
         "hovertemplate": "site=Bay<br>run=Baseline Run<br>Q2=%{x}<br>avg_ht=%{y}<extra></extra>",
         "legendgroup": "Bay, Baseline Run",
         "marker": {
          "color": "#636efa",
          "symbol": "diamond"
         },
         "mode": "markers",
         "name": "Bay, Baseline Run",
         "orientation": "v",
         "showlegend": true,
         "type": "scatter",
         "x": [
          0.946109316004206,
          0.6444590264485041,
          0.7901876140326107,
          0.7907505074813672,
          0.8188951887588701,
          0.8791248570244761,
          0.946812934537952,
          0.9268301701257985,
          0.6687876199092213,
          0.7768188968066977,
          0.8084816547272895,
          0.8226947219891233,
          0.8753253201260739,
          0.9325998411139633,
          0.8587199392185118,
          0.7693605617147052,
          0.7322096317373311,
          0.7614800582511523,
          0.7561325746903425,
          0.8173472308581631,
          0.847039885813879,
          0.946109316004206,
          0.6444590264485041,
          0.7901876140326107,
          0.7907505074813672,
          0.8188951887588701,
          0.8791248570244761,
          0.946812934537952,
          0.9268301701257985,
          0.6687876199092213,
          0.7768188968066977,
          0.8084816547272895,
          0.8226947219891233,
          0.8753253201260739,
          0.9325998411139633,
          0.8587199392185118,
          0.7693605617147052,
          0.7322096317373311,
          0.7614800582511523,
          0.7561325746903425,
          0.8173472308581631,
          0.847039885813879
         ],
         "xaxis": "x",
         "y": [
          6.5,
          11,
          19,
          15,
          11,
          16,
          24,
          6,
          7,
          13,
          18,
          26,
          11,
          20,
          6,
          8,
          19,
          25,
          14,
          9,
          21,
          10,
          18,
          18,
          16,
          13,
          16,
          13,
          12,
          11,
          13,
          11,
          16,
          20,
          13,
          13,
          12,
          4,
          30,
          27,
          17,
          23
         ],
         "yaxis": "y"
        },
        {
         "hovertemplate": "<b>OLS trendline</b><br>avg_ht = -2.45723 * Q2 + 17.0448<br>R<sup>2</sup>=0.001097<br><br>site=Bay<br>run=Baseline Run<br>Q2=%{x}<br>avg_ht=%{y} <b>(trend)</b><extra></extra>",
         "legendgroup": "Bay, Baseline Run",
         "marker": {
          "color": "#636efa",
          "symbol": "diamond"
         },
         "mode": "lines",
         "name": "Bay, Baseline Run",
         "showlegend": false,
         "type": "scatter",
         "x": [
          0.6444590264485041,
          0.6444590264485041,
          0.6687876199092213,
          0.6687876199092213,
          0.7322096317373311,
          0.7322096317373311,
          0.7561325746903425,
          0.7561325746903425,
          0.7614800582511523,
          0.7614800582511523,
          0.7693605617147052,
          0.7693605617147052,
          0.7768188968066977,
          0.7768188968066977,
          0.7901876140326107,
          0.7901876140326107,
          0.7907505074813672,
          0.7907505074813672,
          0.8084816547272895,
          0.8084816547272895,
          0.8173472308581631,
          0.8173472308581631,
          0.8188951887588701,
          0.8188951887588701,
          0.8226947219891233,
          0.8226947219891233,
          0.847039885813879,
          0.847039885813879,
          0.8587199392185118,
          0.8587199392185118,
          0.8753253201260739,
          0.8753253201260739,
          0.8791248570244761,
          0.8791248570244761,
          0.9268301701257985,
          0.9268301701257985,
          0.9325998411139633,
          0.9325998411139633,
          0.946109316004206,
          0.946109316004206,
          0.946812934537952,
          0.946812934537952
         ],
         "xaxis": "x",
         "y": [
          15.461227916269388,
          15.461227916269388,
          15.40144696285251,
          15.40144696285251,
          15.245604483063337,
          15.245604483063337,
          15.186820306305327,
          15.186820306305327,
          15.173680308460304,
          15.173680308460304,
          15.154316097733659,
          15.154316097733659,
          15.135989251858998,
          15.135989251858998,
          15.103139236792728,
          15.103139236792728,
          15.10175607803786,
          15.10175607803786,
          15.05818656838874,
          15.05818656838874,
          15.036401807401662,
          15.036401807401662,
          15.032598118573416,
          15.032598118573416,
          15.023261790955036,
          15.023261790955036,
          14.963440120340007,
          14.963440120340007,
          14.934739540932636,
          14.934739540932636,
          14.893936298274678,
          14.893936298274678,
          14.88459996164281,
          14.88459996164281,
          14.767377027861105,
          14.767377027861105,
          14.753199618339625,
          14.753199618339625,
          14.720003729296385,
          14.720003729296385,
          14.718274776619484,
          14.718274776619484
         ],
         "yaxis": "y"
        },
        {
         "hovertemplate": "site=Creek<br>run=Vegetated Run<br>Q2=%{x}<br>avg_ht=%{y}<extra></extra>",
         "legendgroup": "Creek, Vegetated Run",
         "marker": {
          "color": "#EF553B",
          "symbol": "circle"
         },
         "mode": "markers",
         "name": "Creek, Vegetated Run",
         "orientation": "v",
         "showlegend": true,
         "type": "scatter",
         "x": [
          0.2173194213859924,
          0.2721985859607787,
          0.16558552868188783,
          0.15539366809477684,
          0.19044729582598693,
          0.20433108502150074,
          0.2255116520437461,
          0.1892115480020254,
          0.15293570725819886,
          0.19485425283833435,
          0.17130614016829768,
          0.16083704766450369,
          0.2447179760250613,
          0.26088812522318855,
          0.17336787266067064,
          0.14998356598257293,
          0.18200936301768725,
          0.16162506501244486,
          0.2361814024156617,
          0.2576771050866992,
          0.16939757860802757,
          0.12345222227125913,
          0.21587970650543287,
          0.13768728487471932,
          0.24650263044695248,
          0.21828344533810357,
          0.16685490838964168,
          0.19887315402861722,
          0.18696323739484172,
          0.19039960720354768,
          0.30624075682089363,
          0.31885376469268023,
          0.1891420198793405,
          0.154334551064924,
          0.16855313525286053,
          0.2028873492500981
         ],
         "xaxis": "x",
         "y": [
          18,
          15,
          16,
          20,
          14,
          13,
          13,
          18,
          20,
          14,
          18,
          19,
          17,
          19,
          16,
          19,
          15,
          18,
          16,
          17,
          15,
          25,
          11,
          24,
          10,
          13,
          17,
          12,
          15,
          14,
          9,
          11,
          13,
          19,
          17,
          11
         ],
         "yaxis": "y"
        },
        {
         "hovertemplate": "<b>OLS trendline</b><br>avg_ht = -50.0155 * Q2 + 25.8096<br>R<sup>2</sup>=0.396032<br><br>site=Creek<br>run=Vegetated Run<br>Q2=%{x}<br>avg_ht=%{y} <b>(trend)</b><extra></extra>",
         "legendgroup": "Creek, Vegetated Run",
         "marker": {
          "color": "#EF553B",
          "symbol": "circle"
         },
         "mode": "lines",
         "name": "Creek, Vegetated Run",
         "showlegend": false,
         "type": "scatter",
         "x": [
          0.12345222227125913,
          0.13768728487471932,
          0.14998356598257293,
          0.15293570725819886,
          0.154334551064924,
          0.15539366809477684,
          0.16083704766450369,
          0.16162506501244486,
          0.16558552868188783,
          0.16685490838964168,
          0.16855313525286053,
          0.16939757860802757,
          0.17130614016829768,
          0.17336787266067064,
          0.18200936301768725,
          0.18696323739484172,
          0.1891420198793405,
          0.1892115480020254,
          0.19039960720354768,
          0.19044729582598693,
          0.19485425283833435,
          0.19887315402861722,
          0.2028873492500981,
          0.20433108502150074,
          0.21587970650543287,
          0.2173194213859924,
          0.21828344533810357,
          0.2255116520437461,
          0.2361814024156617,
          0.2447179760250613,
          0.24650263044695248,
          0.2576771050866992,
          0.26088812522318855,
          0.2721985859607787,
          0.30624075682089363,
          0.31885376469268023
         ],
         "xaxis": "x",
         "y": [
          19.63506589716115,
          18.923092752123598,
          18.308088647364944,
          18.160435955757414,
          18.090472145113665,
          18.037499924076585,
          17.765246813580987,
          17.725833766713073,
          17.527749370944075,
          17.464260766225422,
          17.379323175540065,
          17.33708795619946,
          17.241630379761897,
          17.138511889333614,
          16.706303809981627,
          16.458533524829086,
          16.34956072568844,
          16.34608324493859,
          16.286661922408328,
          16.284276754218602,
          16.063860790374253,
          15.862853615362226,
          15.662081811525006,
          15.589872708804313,
          15.012263140950019,
          14.940255144917732,
          14.892039047511227,
          14.530516994215379,
          13.996864565654098,
          13.569903945259535,
          13.48064364082995,
          12.92174719793907,
          12.761146562097853,
          12.195448712535292,
          10.492814019148666,
          9.861968680914853
         ],
         "yaxis": "y"
        },
        {
         "hovertemplate": "site=Creek<br>run=Baseline Run<br>Q2=%{x}<br>avg_ht=%{y}<extra></extra>",
         "legendgroup": "Creek, Baseline Run",
         "marker": {
          "color": "#EF553B",
          "symbol": "diamond"
         },
         "mode": "markers",
         "name": "Creek, Baseline Run",
         "orientation": "v",
         "showlegend": true,
         "type": "scatter",
         "x": [
          1.1260950296745766,
          1.2610491050251804,
          0.902062806310896,
          0.9570857656602717,
          0.9584930028754789,
          0.9746762320625081,
          1.0454602896430911,
          1.035609624076446,
          0.9437170130256399,
          0.9493459612983955,
          0.9662328078668934,
          0.9610260299067344,
          1.1973012638434732,
          1.3176199916130853,
          0.9323183937404541,
          0.9273930648405134,
          0.9413247101034238,
          0.9362586570461643,
          1.1260950296745766,
          1.2610491050251804,
          0.902062806310896,
          0.9570857656602717,
          0.9584930028754789,
          0.9746762320625081,
          1.0454602896430911,
          1.035609624076446,
          0.9437170130256399,
          0.9493459612983955,
          0.9662328078668934,
          0.9610260299067344,
          1.1973012638434732,
          1.3176199916130853,
          0.9323183937404541,
          0.9273930648405134,
          0.9413247101034238,
          0.9362586570461643
         ],
         "xaxis": "x",
         "y": [
          18,
          15,
          16,
          20,
          14,
          13,
          13,
          18,
          20,
          14,
          18,
          19,
          17,
          19,
          16,
          19,
          15,
          18,
          16,
          17,
          15,
          25,
          11,
          24,
          10,
          13,
          17,
          12,
          15,
          14,
          9,
          11,
          13,
          19,
          17,
          11
         ],
         "yaxis": "y"
        },
        {
         "hovertemplate": "<b>OLS trendline</b><br>avg_ht = -4.42616 * Q2 + 20.3692<br>R<sup>2</sup>=0.022181<br><br>site=Creek<br>run=Baseline Run<br>Q2=%{x}<br>avg_ht=%{y} <b>(trend)</b><extra></extra>",
         "legendgroup": "Creek, Baseline Run",
         "marker": {
          "color": "#EF553B",
          "symbol": "diamond"
         },
         "mode": "lines",
         "name": "Creek, Baseline Run",
         "showlegend": false,
         "type": "scatter",
         "x": [
          0.902062806310896,
          0.902062806310896,
          0.9273930648405134,
          0.9273930648405134,
          0.9323183937404541,
          0.9323183937404541,
          0.9362586570461643,
          0.9362586570461643,
          0.9413247101034238,
          0.9413247101034238,
          0.9437170130256399,
          0.9437170130256399,
          0.9493459612983955,
          0.9493459612983955,
          0.9570857656602717,
          0.9570857656602717,
          0.9584930028754789,
          0.9584930028754789,
          0.9610260299067344,
          0.9610260299067344,
          0.9662328078668934,
          0.9662328078668934,
          0.9746762320625081,
          0.9746762320625081,
          1.035609624076446,
          1.035609624076446,
          1.0454602896430911,
          1.0454602896430911,
          1.1260950296745766,
          1.1260950296745766,
          1.1973012638434732,
          1.1973012638434732,
          1.2610491050251804,
          1.2610491050251804,
          1.3176199916130853,
          1.3176199916130853
         ],
         "xaxis": "x",
         "y": [
          16.376498281858026,
          16.376498281858026,
          16.26438242416729,
          16.26438242416729,
          16.24258211473183,
          16.24258211473183,
          16.22514186636127,
          16.22514186636127,
          16.20271868884189,
          16.20271868884189,
          16.192129965727723,
          16.192129965727723,
          16.16721532213027,
          16.16721532213027,
          16.13295768502895,
          16.13295768502895,
          16.12672902347886,
          16.12672902347886,
          16.115517432494464,
          16.115517432494464,
          16.0924713835911,
          16.0924713835911,
          16.05509941028766,
          16.05509941028766,
          15.785398274009845,
          15.785398274009845,
          15.741797620761965,
          15.741797620761965,
          15.384895103255907,
          15.384895103255907,
          15.069724691258777,
          15.069724691258777,
          14.787566343697371,
          14.787566343697371,
          14.537174368316919,
          14.537174368316919
         ],
         "yaxis": "y"
        },
        {
         "hovertemplate": "site=Interior<br>run=Vegetated Run<br>Q2=%{x}<br>avg_ht=%{y}<extra></extra>",
         "legendgroup": "Interior, Vegetated Run",
         "marker": {
          "color": "#00cc96",
          "symbol": "circle"
         },
         "mode": "markers",
         "name": "Interior, Vegetated Run",
         "orientation": "v",
         "showlegend": true,
         "type": "scatter",
         "x": [
          0.12787554220985198,
          0.15195956128338495,
          0.14807427191533834,
          0.14740720361231732,
          0.13382886540819933,
          0.18175810312612828,
          0.28551756932714795,
          0.20569876106065527,
          0.19891950398190192,
          0.18697445853249678,
          0.16751014825736116,
          0.15360103740979952,
          0.19711945042421558,
          0.2362858023602221,
          0.13602335598583468,
          0.15994878231682735,
          0.1568814486695281,
          0.13763457338062315,
          0.23808292407454015,
          0.2022813890559232,
          0.14432226240767015,
          0.15172050583892324,
          0.1549663877962454,
          0.1085245538765654,
          0.3009058574907426,
          0.1922868150892392,
          0.19754299039580386,
          0.17145227728656254,
          0.14923642144339935,
          0.20594103481100115,
          0.17953299757799773,
          0.19621059694984297,
          0.15785663682374973,
          0.14144696051727013,
          0.1668190001706712,
          0.21879162787116302
         ],
         "xaxis": "x",
         "y": [
          22,
          13,
          14,
          18,
          20,
          15,
          11,
          7,
          12,
          14,
          19,
          23,
          10,
          7,
          23,
          21,
          22,
          26,
          5,
          6,
          15,
          17,
          19,
          22,
          9,
          6,
          11,
          14,
          22,
          14,
          12,
          13,
          19,
          14,
          20,
          12
         ],
         "yaxis": "y"
        },
        {
         "hovertemplate": "<b>OLS trendline</b><br>avg_ht = -98.5695 * Q2 + 32.6931<br>R<sup>2</sup>=0.532591<br><br>site=Interior<br>run=Vegetated Run<br>Q2=%{x}<br>avg_ht=%{y} <b>(trend)</b><extra></extra>",
         "legendgroup": "Interior, Vegetated Run",
         "marker": {
          "color": "#00cc96",
          "symbol": "circle"
         },
         "mode": "lines",
         "name": "Interior, Vegetated Run",
         "showlegend": false,
         "type": "scatter",
         "x": [
          0.1085245538765654,
          0.12787554220985198,
          0.13382886540819933,
          0.13602335598583468,
          0.13763457338062315,
          0.14144696051727013,
          0.14432226240767015,
          0.14740720361231732,
          0.14807427191533834,
          0.14923642144339935,
          0.15172050583892324,
          0.15195956128338495,
          0.15360103740979952,
          0.1549663877962454,
          0.1568814486695281,
          0.15785663682374973,
          0.15994878231682735,
          0.1668190001706712,
          0.16751014825736116,
          0.17145227728656254,
          0.17953299757799773,
          0.18175810312612828,
          0.18697445853249678,
          0.1922868150892392,
          0.19621059694984297,
          0.19711945042421558,
          0.19754299039580386,
          0.19891950398190192,
          0.2022813890559232,
          0.20569876106065527,
          0.20594103481100115,
          0.21879162787116302,
          0.2362858023602221,
          0.23808292407454015,
          0.28551756932714795,
          0.3009058574907426
         ],
         "xaxis": "x",
         "y": [
          21.99589592972927,
          20.08847774037714,
          19.5016613586998,
          19.285351412559045,
          19.126534440893902,
          18.750749160884,
          18.467331950808294,
          18.163250688111027,
          18.097498066446022,
          17.982945511796522,
          17.73809043368366,
          17.714526846378632,
          17.552727285189054,
          17.418145313607475,
          17.22937862735339,
          17.133254770971156,
          16.927032933639836,
          16.249838659449097,
          16.181712504372012,
          15.793138624549165,
          14.996625671232092,
          14.777298021262304,
          14.26312422233972,
          13.739487633337983,
          13.352722225646044,
          13.263136948728057,
          13.221388804818762,
          13.085706481684014,
          12.754326986732373,
          12.417478170054817,
          12.393597355790806,
          11.126920195702212,
          9.402527309229736,
          9.22538583266373,
          4.549774251385756,
          3.0329576298934633
         ],
         "yaxis": "y"
        },
        {
         "hovertemplate": "site=Interior<br>run=Baseline Run<br>Q2=%{x}<br>avg_ht=%{y}<extra></extra>",
         "legendgroup": "Interior, Baseline Run",
         "marker": {
          "color": "#00cc96",
          "symbol": "diamond"
         },
         "mode": "markers",
         "name": "Interior, Baseline Run",
         "orientation": "v",
         "showlegend": true,
         "type": "scatter",
         "x": [
          0.8874275494901843,
          0.807637314228109,
          0.8146734855066624,
          0.8875682730996699,
          0.9338663543053816,
          0.941043262704493,
          1.2068704787504558,
          0.8387371986709918,
          0.9120541851505215,
          0.9382287887596216,
          0.972565375960072,
          1.0019766405605266,
          0.8826429469325238,
          0.948783066457453,
          0.9465314871237677,
          0.9845268943224241,
          1.0015544692574565,
          1.0088721053243173,
          0.8874275494901843,
          0.807637314228109,
          0.8146734855066624,
          0.8875682730996699,
          0.9338663543053816,
          0.941043262704493,
          1.2068704787504558,
          0.8387371986709918,
          0.9120541851505215,
          0.9382287887596216,
          0.972565375960072,
          1.0019766405605266,
          0.8826429469325238,
          0.948783066457453,
          0.9465314871237677,
          0.9845268943224241,
          1.0015544692574565,
          1.0088721053243173
         ],
         "xaxis": "x",
         "y": [
          22,
          13,
          14,
          18,
          20,
          15,
          11,
          7,
          12,
          14,
          19,
          23,
          10,
          7,
          23,
          21,
          22,
          26,
          5,
          6,
          15,
          17,
          19,
          22,
          9,
          6,
          11,
          14,
          22,
          14,
          12,
          13,
          19,
          14,
          20,
          12
         ],
         "yaxis": "y"
        },
        {
         "hovertemplate": "<b>OLS trendline</b><br>avg_ht = 12.2848 * Q2 + 3.64973<br>R<sup>2</sup>=0.037907<br><br>site=Interior<br>run=Baseline Run<br>Q2=%{x}<br>avg_ht=%{y} <b>(trend)</b><extra></extra>",
         "legendgroup": "Interior, Baseline Run",
         "marker": {
          "color": "#00cc96",
          "symbol": "diamond"
         },
         "mode": "lines",
         "name": "Interior, Baseline Run",
         "showlegend": false,
         "type": "scatter",
         "x": [
          0.807637314228109,
          0.807637314228109,
          0.8146734855066624,
          0.8146734855066624,
          0.8387371986709918,
          0.8387371986709918,
          0.8826429469325238,
          0.8826429469325238,
          0.8874275494901843,
          0.8874275494901843,
          0.8875682730996699,
          0.8875682730996699,
          0.9120541851505215,
          0.9120541851505215,
          0.9338663543053816,
          0.9338663543053816,
          0.9382287887596216,
          0.9382287887596216,
          0.941043262704493,
          0.941043262704493,
          0.9465314871237677,
          0.9465314871237677,
          0.948783066457453,
          0.948783066457453,
          0.972565375960072,
          0.972565375960072,
          0.9845268943224241,
          0.9845268943224241,
          1.0015544692574565,
          1.0015544692574565,
          1.0019766405605266,
          1.0019766405605266,
          1.0088721053243173,
          1.0088721053243173,
          1.2068704787504558,
          1.2068704787504558
         ],
         "xaxis": "x",
         "y": [
          13.571420655501749,
          13.571420655501749,
          13.657858878800257,
          13.657858878800257,
          13.953477693286704,
          13.953477693286704,
          14.492852691716054,
          14.492852691716054,
          14.551630758352132,
          14.551630758352132,
          14.553359525077463,
          14.553359525077463,
          14.854164984428685,
          14.854164984428685,
          15.122123945828536,
          15.122123945828536,
          15.17571574576525,
          15.17571574576525,
          15.210291101833707,
          15.210291101833707,
          15.277713048953096,
          15.277713048953096,
          15.30537333599196,
          15.30537333599196,
          15.597535152121633,
          15.597535152121633,
          15.744480465739237,
          15.744480465739237,
          15.953661462931931,
          15.953661462931931,
          15.95884776893847,
          15.95884776893847,
          16.043557435517545,
          16.043557435517545,
          18.475935349215604,
          18.475935349215604
         ],
         "yaxis": "y"
        }
       ],
       "layout": {
        "autosize": true,
        "legend": {
         "title": {
          "text": "site, run"
         },
         "tracegroupgap": 0
        },
        "margin": {
         "t": 60
        },
        "template": {
         "data": {
          "bar": [
           {
            "error_x": {
             "color": "#f2f5fa"
            },
            "error_y": {
             "color": "#f2f5fa"
            },
            "marker": {
             "line": {
              "color": "rgb(17,17,17)",
              "width": 0.5
             },
             "pattern": {
              "fillmode": "overlay",
              "size": 10,
              "solidity": 0.2
             }
            },
            "type": "bar"
           }
          ],
          "barpolar": [
           {
            "marker": {
             "line": {
              "color": "rgb(17,17,17)",
              "width": 0.5
             },
             "pattern": {
              "fillmode": "overlay",
              "size": 10,
              "solidity": 0.2
             }
            },
            "type": "barpolar"
           }
          ],
          "carpet": [
           {
            "aaxis": {
             "endlinecolor": "#A2B1C6",
             "gridcolor": "#506784",
             "linecolor": "#506784",
             "minorgridcolor": "#506784",
             "startlinecolor": "#A2B1C6"
            },
            "baxis": {
             "endlinecolor": "#A2B1C6",
             "gridcolor": "#506784",
             "linecolor": "#506784",
             "minorgridcolor": "#506784",
             "startlinecolor": "#A2B1C6"
            },
            "type": "carpet"
           }
          ],
          "choropleth": [
           {
            "colorbar": {
             "outlinewidth": 0,
             "ticks": ""
            },
            "type": "choropleth"
           }
          ],
          "contour": [
           {
            "colorbar": {
             "outlinewidth": 0,
             "ticks": ""
            },
            "colorscale": [
             [
              0,
              "#0d0887"
             ],
             [
              0.1111111111111111,
              "#46039f"
             ],
             [
              0.2222222222222222,
              "#7201a8"
             ],
             [
              0.3333333333333333,
              "#9c179e"
             ],
             [
              0.4444444444444444,
              "#bd3786"
             ],
             [
              0.5555555555555556,
              "#d8576b"
             ],
             [
              0.6666666666666666,
              "#ed7953"
             ],
             [
              0.7777777777777778,
              "#fb9f3a"
             ],
             [
              0.8888888888888888,
              "#fdca26"
             ],
             [
              1,
              "#f0f921"
             ]
            ],
            "type": "contour"
           }
          ],
          "contourcarpet": [
           {
            "colorbar": {
             "outlinewidth": 0,
             "ticks": ""
            },
            "type": "contourcarpet"
           }
          ],
          "heatmap": [
           {
            "colorbar": {
             "outlinewidth": 0,
             "ticks": ""
            },
            "colorscale": [
             [
              0,
              "#0d0887"
             ],
             [
              0.1111111111111111,
              "#46039f"
             ],
             [
              0.2222222222222222,
              "#7201a8"
             ],
             [
              0.3333333333333333,
              "#9c179e"
             ],
             [
              0.4444444444444444,
              "#bd3786"
             ],
             [
              0.5555555555555556,
              "#d8576b"
             ],
             [
              0.6666666666666666,
              "#ed7953"
             ],
             [
              0.7777777777777778,
              "#fb9f3a"
             ],
             [
              0.8888888888888888,
              "#fdca26"
             ],
             [
              1,
              "#f0f921"
             ]
            ],
            "type": "heatmap"
           }
          ],
          "heatmapgl": [
           {
            "colorbar": {
             "outlinewidth": 0,
             "ticks": ""
            },
            "colorscale": [
             [
              0,
              "#0d0887"
             ],
             [
              0.1111111111111111,
              "#46039f"
             ],
             [
              0.2222222222222222,
              "#7201a8"
             ],
             [
              0.3333333333333333,
              "#9c179e"
             ],
             [
              0.4444444444444444,
              "#bd3786"
             ],
             [
              0.5555555555555556,
              "#d8576b"
             ],
             [
              0.6666666666666666,
              "#ed7953"
             ],
             [
              0.7777777777777778,
              "#fb9f3a"
             ],
             [
              0.8888888888888888,
              "#fdca26"
             ],
             [
              1,
              "#f0f921"
             ]
            ],
            "type": "heatmapgl"
           }
          ],
          "histogram": [
           {
            "marker": {
             "pattern": {
              "fillmode": "overlay",
              "size": 10,
              "solidity": 0.2
             }
            },
            "type": "histogram"
           }
          ],
          "histogram2d": [
           {
            "colorbar": {
             "outlinewidth": 0,
             "ticks": ""
            },
            "colorscale": [
             [
              0,
              "#0d0887"
             ],
             [
              0.1111111111111111,
              "#46039f"
             ],
             [
              0.2222222222222222,
              "#7201a8"
             ],
             [
              0.3333333333333333,
              "#9c179e"
             ],
             [
              0.4444444444444444,
              "#bd3786"
             ],
             [
              0.5555555555555556,
              "#d8576b"
             ],
             [
              0.6666666666666666,
              "#ed7953"
             ],
             [
              0.7777777777777778,
              "#fb9f3a"
             ],
             [
              0.8888888888888888,
              "#fdca26"
             ],
             [
              1,
              "#f0f921"
             ]
            ],
            "type": "histogram2d"
           }
          ],
          "histogram2dcontour": [
           {
            "colorbar": {
             "outlinewidth": 0,
             "ticks": ""
            },
            "colorscale": [
             [
              0,
              "#0d0887"
             ],
             [
              0.1111111111111111,
              "#46039f"
             ],
             [
              0.2222222222222222,
              "#7201a8"
             ],
             [
              0.3333333333333333,
              "#9c179e"
             ],
             [
              0.4444444444444444,
              "#bd3786"
             ],
             [
              0.5555555555555556,
              "#d8576b"
             ],
             [
              0.6666666666666666,
              "#ed7953"
             ],
             [
              0.7777777777777778,
              "#fb9f3a"
             ],
             [
              0.8888888888888888,
              "#fdca26"
             ],
             [
              1,
              "#f0f921"
             ]
            ],
            "type": "histogram2dcontour"
           }
          ],
          "mesh3d": [
           {
            "colorbar": {
             "outlinewidth": 0,
             "ticks": ""
            },
            "type": "mesh3d"
           }
          ],
          "parcoords": [
           {
            "line": {
             "colorbar": {
              "outlinewidth": 0,
              "ticks": ""
             }
            },
            "type": "parcoords"
           }
          ],
          "pie": [
           {
            "automargin": true,
            "type": "pie"
           }
          ],
          "scatter": [
           {
            "marker": {
             "line": {
              "color": "#283442"
             }
            },
            "type": "scatter"
           }
          ],
          "scatter3d": [
           {
            "line": {
             "colorbar": {
              "outlinewidth": 0,
              "ticks": ""
             }
            },
            "marker": {
             "colorbar": {
              "outlinewidth": 0,
              "ticks": ""
             }
            },
            "type": "scatter3d"
           }
          ],
          "scattercarpet": [
           {
            "marker": {
             "colorbar": {
              "outlinewidth": 0,
              "ticks": ""
             }
            },
            "type": "scattercarpet"
           }
          ],
          "scattergeo": [
           {
            "marker": {
             "colorbar": {
              "outlinewidth": 0,
              "ticks": ""
             }
            },
            "type": "scattergeo"
           }
          ],
          "scattergl": [
           {
            "marker": {
             "line": {
              "color": "#283442"
             }
            },
            "type": "scattergl"
           }
          ],
          "scattermapbox": [
           {
            "marker": {
             "colorbar": {
              "outlinewidth": 0,
              "ticks": ""
             }
            },
            "type": "scattermapbox"
           }
          ],
          "scatterpolar": [
           {
            "marker": {
             "colorbar": {
              "outlinewidth": 0,
              "ticks": ""
             }
            },
            "type": "scatterpolar"
           }
          ],
          "scatterpolargl": [
           {
            "marker": {
             "colorbar": {
              "outlinewidth": 0,
              "ticks": ""
             }
            },
            "type": "scatterpolargl"
           }
          ],
          "scatterternary": [
           {
            "marker": {
             "colorbar": {
              "outlinewidth": 0,
              "ticks": ""
             }
            },
            "type": "scatterternary"
           }
          ],
          "surface": [
           {
            "colorbar": {
             "outlinewidth": 0,
             "ticks": ""
            },
            "colorscale": [
             [
              0,
              "#0d0887"
             ],
             [
              0.1111111111111111,
              "#46039f"
             ],
             [
              0.2222222222222222,
              "#7201a8"
             ],
             [
              0.3333333333333333,
              "#9c179e"
             ],
             [
              0.4444444444444444,
              "#bd3786"
             ],
             [
              0.5555555555555556,
              "#d8576b"
             ],
             [
              0.6666666666666666,
              "#ed7953"
             ],
             [
              0.7777777777777778,
              "#fb9f3a"
             ],
             [
              0.8888888888888888,
              "#fdca26"
             ],
             [
              1,
              "#f0f921"
             ]
            ],
            "type": "surface"
           }
          ],
          "table": [
           {
            "cells": {
             "fill": {
              "color": "#506784"
             },
             "line": {
              "color": "rgb(17,17,17)"
             }
            },
            "header": {
             "fill": {
              "color": "#2a3f5f"
             },
             "line": {
              "color": "rgb(17,17,17)"
             }
            },
            "type": "table"
           }
          ]
         },
         "layout": {
          "annotationdefaults": {
           "arrowcolor": "#f2f5fa",
           "arrowhead": 0,
           "arrowwidth": 1
          },
          "autotypenumbers": "strict",
          "coloraxis": {
           "colorbar": {
            "outlinewidth": 0,
            "ticks": ""
           }
          },
          "colorscale": {
           "diverging": [
            [
             0,
             "#8e0152"
            ],
            [
             0.1,
             "#c51b7d"
            ],
            [
             0.2,
             "#de77ae"
            ],
            [
             0.3,
             "#f1b6da"
            ],
            [
             0.4,
             "#fde0ef"
            ],
            [
             0.5,
             "#f7f7f7"
            ],
            [
             0.6,
             "#e6f5d0"
            ],
            [
             0.7,
             "#b8e186"
            ],
            [
             0.8,
             "#7fbc41"
            ],
            [
             0.9,
             "#4d9221"
            ],
            [
             1,
             "#276419"
            ]
           ],
           "sequential": [
            [
             0,
             "#0d0887"
            ],
            [
             0.1111111111111111,
             "#46039f"
            ],
            [
             0.2222222222222222,
             "#7201a8"
            ],
            [
             0.3333333333333333,
             "#9c179e"
            ],
            [
             0.4444444444444444,
             "#bd3786"
            ],
            [
             0.5555555555555556,
             "#d8576b"
            ],
            [
             0.6666666666666666,
             "#ed7953"
            ],
            [
             0.7777777777777778,
             "#fb9f3a"
            ],
            [
             0.8888888888888888,
             "#fdca26"
            ],
            [
             1,
             "#f0f921"
            ]
           ],
           "sequentialminus": [
            [
             0,
             "#0d0887"
            ],
            [
             0.1111111111111111,
             "#46039f"
            ],
            [
             0.2222222222222222,
             "#7201a8"
            ],
            [
             0.3333333333333333,
             "#9c179e"
            ],
            [
             0.4444444444444444,
             "#bd3786"
            ],
            [
             0.5555555555555556,
             "#d8576b"
            ],
            [
             0.6666666666666666,
             "#ed7953"
            ],
            [
             0.7777777777777778,
             "#fb9f3a"
            ],
            [
             0.8888888888888888,
             "#fdca26"
            ],
            [
             1,
             "#f0f921"
            ]
           ]
          },
          "colorway": [
           "#636efa",
           "#EF553B",
           "#00cc96",
           "#ab63fa",
           "#FFA15A",
           "#19d3f3",
           "#FF6692",
           "#B6E880",
           "#FF97FF",
           "#FECB52"
          ],
          "font": {
           "color": "#f2f5fa"
          },
          "geo": {
           "bgcolor": "rgb(17,17,17)",
           "lakecolor": "rgb(17,17,17)",
           "landcolor": "rgb(17,17,17)",
           "showlakes": true,
           "showland": true,
           "subunitcolor": "#506784"
          },
          "hoverlabel": {
           "align": "left"
          },
          "hovermode": "closest",
          "mapbox": {
           "style": "dark"
          },
          "paper_bgcolor": "rgb(17,17,17)",
          "plot_bgcolor": "rgb(17,17,17)",
          "polar": {
           "angularaxis": {
            "gridcolor": "#506784",
            "linecolor": "#506784",
            "ticks": ""
           },
           "bgcolor": "rgb(17,17,17)",
           "radialaxis": {
            "gridcolor": "#506784",
            "linecolor": "#506784",
            "ticks": ""
           }
          },
          "scene": {
           "xaxis": {
            "backgroundcolor": "rgb(17,17,17)",
            "gridcolor": "#506784",
            "gridwidth": 2,
            "linecolor": "#506784",
            "showbackground": true,
            "ticks": "",
            "zerolinecolor": "#C8D4E3"
           },
           "yaxis": {
            "backgroundcolor": "rgb(17,17,17)",
            "gridcolor": "#506784",
            "gridwidth": 2,
            "linecolor": "#506784",
            "showbackground": true,
            "ticks": "",
            "zerolinecolor": "#C8D4E3"
           },
           "zaxis": {
            "backgroundcolor": "rgb(17,17,17)",
            "gridcolor": "#506784",
            "gridwidth": 2,
            "linecolor": "#506784",
            "showbackground": true,
            "ticks": "",
            "zerolinecolor": "#C8D4E3"
           }
          },
          "shapedefaults": {
           "line": {
            "color": "#f2f5fa"
           }
          },
          "sliderdefaults": {
           "bgcolor": "#C8D4E3",
           "bordercolor": "rgb(17,17,17)",
           "borderwidth": 1,
           "tickwidth": 0
          },
          "ternary": {
           "aaxis": {
            "gridcolor": "#506784",
            "linecolor": "#506784",
            "ticks": ""
           },
           "baxis": {
            "gridcolor": "#506784",
            "linecolor": "#506784",
            "ticks": ""
           },
           "bgcolor": "rgb(17,17,17)",
           "caxis": {
            "gridcolor": "#506784",
            "linecolor": "#506784",
            "ticks": ""
           }
          },
          "title": {
           "x": 0.05
          },
          "updatemenudefaults": {
           "bgcolor": "#506784",
           "borderwidth": 0
          },
          "xaxis": {
           "automargin": true,
           "gridcolor": "#283442",
           "linecolor": "#506784",
           "ticks": "",
           "title": {
            "standoff": 15
           },
           "zerolinecolor": "#283442",
           "zerolinewidth": 2
          },
          "yaxis": {
           "automargin": true,
           "gridcolor": "#283442",
           "linecolor": "#506784",
           "ticks": "",
           "title": {
            "standoff": 15
           },
           "zerolinecolor": "#283442",
           "zerolinewidth": 2
          }
         }
        },
        "xaxis": {
         "anchor": "y",
         "domain": [
          0,
          1
         ],
         "title": {
          "text": "Q2"
         }
        },
        "yaxis": {
         "anchor": "x",
         "domain": [
          0,
          1
         ],
         "title": {
          "text": "avg_ht"
         }
        }
       }
      }
     },
     "metadata": {},
     "output_type": "display_data"
    }
   ],
   "source": [
    "fig = px.scatter(dff, x='Q2', y='avg_ht', color='site', symbol='run', trendline='ols', template='plotly_dark')\n",
    "fig.update_layout(\n",
    "    autosize=True,)\n",
    "fig.show()"
   ]
  },
  {
   "cell_type": "code",
   "execution_count": 196,
   "metadata": {},
   "outputs": [
    {
     "data": {
      "application/vnd.plotly.v1+json": {
       "config": {
        "plotlyServerURL": "https://plot.ly"
       },
       "data": [
        {
         "hovertemplate": "site=Bay<br>run=Vegetated Run<br>mean_u=%{x}<br>wc_height=%{y}<extra></extra>",
         "legendgroup": "Bay, Vegetated Run",
         "marker": {
          "color": "#636efa",
          "symbol": "circle"
         },
         "mode": "markers",
         "name": "Bay, Vegetated Run",
         "orientation": "v",
         "showlegend": true,
         "type": "scatter",
         "x": [
          1.3592650169565137,
          0.5103025642236216,
          0.3286437924729354,
          0.45515997537639585,
          0.698899136355107,
          0.5200176014225153,
          0.3265804713721051,
          1.3621275004736746,
          0.9057318120811019,
          0.543751367828793,
          0.38082686886336153,
          0.20112182662794495,
          0.7625154658544469,
          0.40975347369678367,
          1.2777263819523763,
          0.8709433130067955,
          0.26654950669580113,
          0.17164323846681598,
          0.47691502456706003,
          0.8433391850343966,
          0.3290697201519917,
          0.9916123850499081,
          0.25945525042793266,
          0.35722004861242634,
          0.4263030163263412,
          0.5950197344133862,
          0.5158934199389179,
          0.7439415723306905,
          0.7977465341310799,
          0.5779043553844703,
          0.5412187000103333,
          0.6836638936476852,
          0.4632916358853887,
          0.369575831093671,
          0.7221646733015429,
          0.6553435740122208,
          0.5826878863742487,
          1.3089906898905679,
          0.10171930592298131,
          0.14852464806883567,
          0.40950966157062546,
          0.2716526334527395
         ],
         "xaxis": "x",
         "y": [
          0.6759,
          0.4855,
          0.5650999999999997,
          0.5655000000000001,
          0.5855000000000001,
          0.6282999999999999,
          0.6764000000000001,
          0.6621999999999999,
          0.4945999999999997,
          0.5556000000000001,
          0.5781000000000001,
          0.5882000000000001,
          0.6255999999999999,
          0.6663000000000001,
          0.6137999999999999,
          0.5503,
          0.5238999999999998,
          0.5446999999999997,
          0.5408999999999997,
          0.5844,
          0.6054999999999997,
          0.6759,
          0.4855,
          0.5650999999999997,
          0.5655000000000001,
          0.5855000000000001,
          0.6282999999999999,
          0.6764000000000001,
          0.6621999999999999,
          0.4945999999999997,
          0.5556000000000001,
          0.5781000000000001,
          0.5882000000000001,
          0.6255999999999999,
          0.6663000000000001,
          0.6137999999999999,
          0.5503,
          0.5238999999999998,
          0.5446999999999997,
          0.5408999999999997,
          0.5844,
          0.6054999999999997
         ],
         "yaxis": "y"
        },
        {
         "hovertemplate": "<b>OLS trendline</b><br>wc_height = 0.0530513 * mean_u + 0.555513<br>R<sup>2</sup>=0.097454<br><br>site=Bay<br>run=Vegetated Run<br>mean_u=%{x}<br>wc_height=%{y} <b>(trend)</b><extra></extra>",
         "legendgroup": "Bay, Vegetated Run",
         "marker": {
          "color": "#636efa",
          "symbol": "circle"
         },
         "mode": "lines",
         "name": "Bay, Vegetated Run",
         "showlegend": false,
         "type": "scatter",
         "x": [
          0.10171930592298131,
          0.14852464806883567,
          0.17164323846681598,
          0.20112182662794495,
          0.25945525042793266,
          0.26654950669580113,
          0.2716526334527395,
          0.3265804713721051,
          0.3286437924729354,
          0.3290697201519917,
          0.35722004861242634,
          0.369575831093671,
          0.38082686886336153,
          0.40950966157062546,
          0.40975347369678367,
          0.4263030163263412,
          0.45515997537639585,
          0.4632916358853887,
          0.47691502456706003,
          0.5103025642236216,
          0.5158934199389179,
          0.5200176014225153,
          0.5412187000103333,
          0.543751367828793,
          0.5779043553844703,
          0.5826878863742487,
          0.5950197344133862,
          0.6553435740122208,
          0.6836638936476852,
          0.698899136355107,
          0.7221646733015429,
          0.7439415723306905,
          0.7625154658544469,
          0.7977465341310799,
          0.8433391850343966,
          0.8709433130067955,
          0.9057318120811019,
          0.9916123850499081,
          1.2777263819523763,
          1.3089906898905679,
          1.3592650169565137,
          1.3621275004736746
         ],
         "xaxis": "x",
         "y": [
          0.5609095019545994,
          0.5633925863336714,
          0.5646190576732997,
          0.5661829351801,
          0.5692775993097664,
          0.5696539588472094,
          0.5699246863700441,
          0.572838679731929,
          0.5729481416044332,
          0.5729707376227079,
          0.5744641492219229,
          0.5751196395797283,
          0.5757165217913188,
          0.5772381813125254,
          0.5772511158634577,
          0.5781290906607828,
          0.5796599899333791,
          0.5800913851173493,
          0.580814123635531,
          0.5825853761117656,
          0.582881978291257,
          0.5831007714919662,
          0.5842255173929474,
          0.584359878720289,
          0.586171739204801,
          0.586425511755817,
          0.5870797323602867,
          0.5902799906412055,
          0.5917824204937213,
          0.5925906699679006,
          0.5938249370133671,
          0.5949802298779167,
          0.5959655991275136,
          0.5978346531988014,
          0.6002534027275565,
          0.6017178376792885,
          0.6035634128778115,
          0.6081194891594477,
          0.6232982094458731,
          0.6249568217132913,
          0.627623940261785,
          0.6277757987416284
         ],
         "yaxis": "y"
        },
        {
         "hovertemplate": "site=Bay<br>run=Baseline Run<br>mean_u=%{x}<br>wc_height=%{y}<extra></extra>",
         "legendgroup": "Bay, Baseline Run",
         "marker": {
          "color": "#636efa",
          "symbol": "diamond"
         },
         "mode": "markers",
         "name": "Bay, Baseline Run",
         "orientation": "v",
         "showlegend": true,
         "type": "scatter",
         "x": [
          12.666596046563184,
          10.51859039204306,
          11.577230183104732,
          11.58134720129095,
          11.785364586021501,
          12.210514583684175,
          12.67129969658718,
          12.537029448922363,
          10.692235430430411,
          11.479017042446284,
          11.710292415099374,
          11.81263699102164,
          12.184132781358366,
          12.575944820816172,
          12.068157767829915,
          11.423857532362923,
          11.145034917040466,
          11.365284932633738,
          11.325366725827468,
          11.774235496098159,
          11.985909895842886,
          12.666596046563184,
          10.51859039204306,
          11.577230183104732,
          11.58134720129095,
          11.785364586021501,
          12.210514583684175,
          12.67129969658718,
          12.537029448922363,
          10.692235430430411,
          11.479017042446284,
          11.710292415099374,
          11.81263699102164,
          12.184132781358366,
          12.575944820816172,
          12.068157767829915,
          11.423857532362923,
          11.145034917040466,
          11.365284932633738,
          11.325366725827468,
          11.774235496098159,
          11.985909895842886
         ],
         "xaxis": "x",
         "y": [
          0.6759,
          0.4855,
          0.5650999999999997,
          0.5655000000000001,
          0.5855000000000001,
          0.6282999999999999,
          0.6764000000000001,
          0.6621999999999999,
          0.4945999999999997,
          0.5556000000000001,
          0.5781000000000001,
          0.5882000000000001,
          0.6255999999999999,
          0.6663000000000001,
          0.6137999999999999,
          0.5503,
          0.5238999999999998,
          0.5446999999999997,
          0.5408999999999997,
          0.5844,
          0.6054999999999997,
          0.6759,
          0.4855,
          0.5650999999999997,
          0.5655000000000001,
          0.5855000000000001,
          0.6282999999999999,
          0.6764000000000001,
          0.6621999999999999,
          0.4945999999999997,
          0.5556000000000001,
          0.5781000000000001,
          0.5882000000000001,
          0.6255999999999999,
          0.6663000000000001,
          0.6137999999999999,
          0.5503,
          0.5238999999999998,
          0.5446999999999997,
          0.5408999999999997,
          0.5844,
          0.6054999999999997
         ],
         "yaxis": "y"
        },
        {
         "hovertemplate": "<b>OLS trendline</b><br>wc_height = 0.0930562 * mean_u + -0.508427<br>R<sup>2</sup>=0.991041<br><br>site=Bay<br>run=Baseline Run<br>mean_u=%{x}<br>wc_height=%{y} <b>(trend)</b><extra></extra>",
         "legendgroup": "Bay, Baseline Run",
         "marker": {
          "color": "#636efa",
          "symbol": "diamond"
         },
         "mode": "lines",
         "name": "Bay, Baseline Run",
         "showlegend": false,
         "type": "scatter",
         "x": [
          10.51859039204306,
          10.51859039204306,
          10.692235430430411,
          10.692235430430411,
          11.145034917040466,
          11.145034917040466,
          11.325366725827468,
          11.325366725827468,
          11.365284932633738,
          11.365284932633738,
          11.423857532362923,
          11.423857532362923,
          11.479017042446284,
          11.479017042446284,
          11.577230183104732,
          11.577230183104732,
          11.58134720129095,
          11.58134720129095,
          11.710292415099374,
          11.710292415099374,
          11.774235496098159,
          11.774235496098159,
          11.785364586021501,
          11.785364586021501,
          11.81263699102164,
          11.81263699102164,
          11.985909895842886,
          11.985909895842886,
          12.068157767829915,
          12.068157767829915,
          12.184132781358366,
          12.184132781358366,
          12.210514583684175,
          12.210514583684175,
          12.537029448922363,
          12.537029448922363,
          12.575944820816172,
          12.575944820816172,
          12.666596046563184,
          12.666596046563184,
          12.67129969658718,
          12.67129969658718
         ],
         "xaxis": "x",
         "y": [
          0.4703931458679743,
          0.4703931458679743,
          0.4865519013344968,
          0.4865519013344968,
          0.5286877218995362,
          0.5286877218995362,
          0.5454687231195351,
          0.5454687231195351,
          0.5491833616052354,
          0.5491833616052354,
          0.5546339078739467,
          0.5546339078739467,
          0.5597668448318226,
          0.5597668448318226,
          0.5689061910419856,
          0.5689061910419856,
          0.5692893053004761,
          0.5692893053004761,
          0.5812884628799798,
          0.5812884628799798,
          0.587238765976637,
          0.587238765976637,
          0.5882743973099956,
          0.5882743973099956,
          0.5908122649477577,
          0.5908122649477577,
          0.6069363910614843,
          0.6069363910614843,
          0.6145900692974015,
          0.6145900692974015,
          0.6253822687246752,
          0.6253822687246752,
          0.6278372602205907,
          0.6278372602205907,
          0.6582215079512922,
          0.6582215079512922,
          0.6618428263843482,
          0.6618428263843482,
          0.6702784891777701,
          0.6702784891777701,
          0.6707161931930631,
          0.6707161931930631
         ],
         "yaxis": "y"
        },
        {
         "hovertemplate": "site=Creek<br>run=Vegetated Run<br>mean_u=%{x}<br>wc_height=%{y}<extra></extra>",
         "legendgroup": "Creek, Vegetated Run",
         "marker": {
          "color": "#EF553B",
          "symbol": "circle"
         },
         "mode": "markers",
         "name": "Creek, Vegetated Run",
         "orientation": "v",
         "showlegend": true,
         "type": "scatter",
         "x": [
          0.7012205971671923,
          0.9762512932924693,
          0.5554442297995603,
          0.4413861500219262,
          0.690553787409425,
          0.7992741099075418,
          0.8898439756923031,
          0.5908675654258939,
          0.4397756349892603,
          0.6760749858908367,
          0.5363194580364846,
          0.46909420986116634,
          0.8287400877592603,
          0.8086795514175197,
          0.5651702857145902,
          0.4950741918960787,
          0.6446474608426062,
          0.49707070332813225,
          0.7908562660418602,
          0.8493201150638061,
          0.5887136684876483,
          0.3123951438875673,
          0.9069496709412486,
          0.35088555805782906,
          1.108348388807586,
          0.8269815667876742,
          0.5296118922434696,
          0.7858527847810537,
          0.652363195535387,
          0.697215243347076,
          1.3861057989652343,
          1.3480995087939405,
          0.7336325640708997,
          0.46237621879014545,
          0.5352518203519523,
          0.8365373645640469
         ],
         "xaxis": "x",
         "y": [
          0.8037999999999998,
          0.8996999999999999,
          0.6446000000000001,
          0.6837,
          0.6846999999999999,
          0.6961999999999997,
          0.7464999999999997,
          0.7395,
          0.6741999999999999,
          0.6781999999999999,
          0.6901999999999999,
          0.6865000000000001,
          0.8543999999999998,
          0.9399,
          0.6661000000000001,
          0.6625999999999999,
          0.6724999999999999,
          0.6688999999999998,
          0.8037999999999998,
          0.8996999999999999,
          0.6446000000000001,
          0.6837,
          0.6846999999999999,
          0.6961999999999997,
          0.7464999999999997,
          0.7395,
          0.6741999999999999,
          0.6781999999999999,
          0.6901999999999999,
          0.6865000000000001,
          0.8543999999999998,
          0.9399,
          0.6661000000000001,
          0.6625999999999999,
          0.6724999999999999,
          0.6688999999999998
         ],
         "yaxis": "y"
        },
        {
         "hovertemplate": "<b>OLS trendline</b><br>wc_height = 0.23753 * mean_u + 0.560367<br>R<sup>2</sup>=0.445175<br><br>site=Creek<br>run=Vegetated Run<br>mean_u=%{x}<br>wc_height=%{y} <b>(trend)</b><extra></extra>",
         "legendgroup": "Creek, Vegetated Run",
         "marker": {
          "color": "#EF553B",
          "symbol": "circle"
         },
         "mode": "lines",
         "name": "Creek, Vegetated Run",
         "showlegend": false,
         "type": "scatter",
         "x": [
          0.3123951438875673,
          0.35088555805782906,
          0.4397756349892603,
          0.4413861500219262,
          0.46237621879014545,
          0.46909420986116634,
          0.4950741918960787,
          0.49707070332813225,
          0.5296118922434696,
          0.5352518203519523,
          0.5363194580364846,
          0.5554442297995603,
          0.5651702857145902,
          0.5887136684876483,
          0.5908675654258939,
          0.6446474608426062,
          0.652363195535387,
          0.6760749858908367,
          0.690553787409425,
          0.697215243347076,
          0.7012205971671923,
          0.7336325640708997,
          0.7858527847810537,
          0.7908562660418602,
          0.7992741099075418,
          0.8086795514175197,
          0.8269815667876742,
          0.8287400877592603,
          0.8365373645640469,
          0.8493201150638061,
          0.8898439756923031,
          0.9069496709412486,
          0.9762512932924693,
          1.108348388807586,
          1.3480995087939405,
          1.3861057989652343
         ],
         "xaxis": "x",
         "y": [
          0.6345706130288762,
          0.6437132565445299,
          0.6648273521702146,
          0.6652098984518714,
          0.6701956779051139,
          0.6717914050186752,
          0.677962440571517,
          0.6784366727327364,
          0.6861661943874641,
          0.6875058487731426,
          0.6877594451805592,
          0.6923021598880339,
          0.6946123938504717,
          0.7002046630033705,
          0.7007162790070001,
          0.7134906391354507,
          0.7153233606916651,
          0.7209556317651545,
          0.7243947872970437,
          0.7259770855977004,
          0.7269284788970658,
          0.7346273063955424,
          0.7470311963653876,
          0.7482196752760706,
          0.750219169105727,
          0.7524532473999402,
          0.7568005324514121,
          0.7572182346431031,
          0.7590703249298871,
          0.7621066167830193,
          0.7717322656514752,
          0.7757953883047345,
          0.7922566304574158,
          0.8236337065368173,
          0.8805818862269053,
          0.889609535574911
         ],
         "yaxis": "y"
        },
        {
         "hovertemplate": "site=Creek<br>run=Baseline Run<br>mean_u=%{x}<br>wc_height=%{y}<extra></extra>",
         "legendgroup": "Creek, Baseline Run",
         "marker": {
          "color": "#EF553B",
          "symbol": "diamond"
         },
         "mode": "markers",
         "name": "Creek, Baseline Run",
         "orientation": "v",
         "showlegend": true,
         "type": "scatter",
         "x": [
          13.817708332780828,
          14.621487725586963,
          12.368587295543255,
          12.739775223497649,
          12.749126791804448,
          12.856180926516961,
          13.314314111715754,
          13.2515067494333,
          12.650590555087883,
          12.688218399138787,
          12.800438298798559,
          12.765942351993685,
          14.24746095527085,
          14.945568351612035,
          12.574049304189142,
          12.540831386423696,
          12.634564788150003,
          12.60056058924204,
          13.817708332780828,
          14.621487725586963,
          12.368587295543255,
          12.739775223497649,
          12.749126791804448,
          12.856180926516961,
          13.314314111715754,
          13.2515067494333,
          12.650590555087883,
          12.688218399138787,
          12.800438298798559,
          12.765942351993685,
          14.24746095527085,
          14.945568351612035,
          12.574049304189142,
          12.540831386423696,
          12.634564788150003,
          12.60056058924204
         ],
         "xaxis": "x",
         "y": [
          0.8037999999999998,
          0.8996999999999999,
          0.6446000000000001,
          0.6837,
          0.6846999999999999,
          0.6961999999999997,
          0.7464999999999997,
          0.7395,
          0.6741999999999999,
          0.6781999999999999,
          0.6901999999999999,
          0.6865000000000001,
          0.8543999999999998,
          0.9399,
          0.6661000000000001,
          0.6625999999999999,
          0.6724999999999999,
          0.6688999999999998,
          0.8037999999999998,
          0.8996999999999999,
          0.6446000000000001,
          0.6837,
          0.6846999999999999,
          0.6961999999999997,
          0.7464999999999997,
          0.7395,
          0.6741999999999999,
          0.6781999999999999,
          0.6901999999999999,
          0.6865000000000001,
          0.8543999999999998,
          0.9399,
          0.6661000000000001,
          0.6625999999999999,
          0.6724999999999999,
          0.6688999999999998
         ],
         "yaxis": "y"
        },
        {
         "hovertemplate": "<b>OLS trendline</b><br>wc_height = 0.114171 * mean_u + -0.770622<br>R<sup>2</sup>=0.999516<br><br>site=Creek<br>run=Baseline Run<br>mean_u=%{x}<br>wc_height=%{y} <b>(trend)</b><extra></extra>",
         "legendgroup": "Creek, Baseline Run",
         "marker": {
          "color": "#EF553B",
          "symbol": "diamond"
         },
         "mode": "lines",
         "name": "Creek, Baseline Run",
         "showlegend": false,
         "type": "scatter",
         "x": [
          12.368587295543255,
          12.368587295543255,
          12.540831386423696,
          12.540831386423696,
          12.574049304189142,
          12.574049304189142,
          12.60056058924204,
          12.60056058924204,
          12.634564788150003,
          12.634564788150003,
          12.650590555087883,
          12.650590555087883,
          12.688218399138787,
          12.688218399138787,
          12.739775223497649,
          12.739775223497649,
          12.749126791804448,
          12.749126791804448,
          12.765942351993685,
          12.765942351993685,
          12.800438298798559,
          12.800438298798559,
          12.856180926516961,
          12.856180926516961,
          13.2515067494333,
          13.2515067494333,
          13.314314111715754,
          13.314314111715754,
          13.817708332780828,
          13.817708332780828,
          14.24746095527085,
          14.24746095527085,
          14.621487725586963,
          14.621487725586963,
          14.945568351612035,
          14.945568351612035
         ],
         "xaxis": "x",
         "y": [
          0.6415111293441196,
          0.6415111293441196,
          0.6611763940222248,
          0.6611763940222248,
          0.6649689139372708,
          0.6649689139372708,
          0.6679957314893681,
          0.6679957314893681,
          0.6718780218383369,
          0.6718780218383369,
          0.6737076982405408,
          0.6737076982405408,
          0.6780037034546829,
          0.6780037034546829,
          0.6838899930324389,
          0.6838899930324389,
          0.6849576701003055,
          0.6849576701003055,
          0.6868775179170965,
          0.6868775179170965,
          0.6908159515711751,
          0.6908159515711751,
          0.6971801381295191,
          0.6971801381295191,
          0.7423148472623622,
          0.7423148472623622,
          0.7494856209980802,
          0.7494856209980802,
          0.8069585975401019,
          0.8069585975401019,
          0.8560238457246823,
          0.8560238457246823,
          0.8987268226301071,
          0.8987268226301071,
          0.9357274027675873,
          0.9357274027675873
         ],
         "yaxis": "y"
        },
        {
         "hovertemplate": "site=Interior<br>run=Vegetated Run<br>mean_u=%{x}<br>wc_height=%{y}<extra></extra>",
         "legendgroup": "Interior, Vegetated Run",
         "marker": {
          "color": "#00cc96",
          "symbol": "circle"
         },
         "mode": "markers",
         "name": "Interior, Vegetated Run",
         "orientation": "v",
         "showlegend": true,
         "type": "scatter",
         "x": [
          0.3324782009321994,
          0.5605192619077259,
          0.5221258022091906,
          0.4522017025862316,
          0.4598617743343786,
          0.6404308369864579,
          1.1978981800785493,
          1.0842203100063368,
          0.7808682854363156,
          0.6874622338211613,
          0.5053887828651638,
          0.4007947695683334,
          0.88090332438123,
          1.246928195992003,
          0.34257505689218215,
          0.4581330220253045,
          0.4237513277861222,
          0.32795938556551335,
          1.4622657631981093,
          1.1491061157834896,
          0.49261612431010615,
          0.5032697715657666,
          0.46758428783971756,
          0.4821531906882198,
          1.424962409796556,
          1.2077743399244807,
          0.8280468136003757,
          0.73761002260273,
          0.3945666755180598,
          0.7510287301279653,
          0.7060010045180906,
          0.7148145690067229,
          0.4661870675468359,
          0.7969722493283818,
          0.4787615550155717,
          0.8704910931158285
         ],
         "xaxis": "x",
         "y": [
          0.6341999999999999,
          0.5775000000000001,
          0.5825,
          0.6343000000000001,
          0.6671999999999998,
          0.6722999999999999,
          0.8612,
          0.5996000000000001,
          0.6517,
          0.6703000000000001,
          0.6947000000000001,
          0.7155999999999998,
          0.6307999999999998,
          0.6778,
          0.6762000000000001,
          0.7031999999999998,
          0.7153,
          0.7204999999999999,
          0.6341999999999999,
          0.5775000000000001,
          0.5825,
          0.6343000000000001,
          0.6671999999999998,
          0.6722999999999999,
          0.8612,
          0.5996000000000001,
          0.6517,
          0.6703000000000001,
          0.6947000000000001,
          0.7155999999999998,
          0.6307999999999998,
          0.6778,
          0.6762000000000001,
          0.7031999999999998,
          0.7153,
          0.7204999999999999
         ],
         "yaxis": "y"
        },
        {
         "hovertemplate": "<b>OLS trendline</b><br>wc_height = 0.0298705 * mean_u + 0.650442<br>R<sup>2</sup>=0.022592<br><br>site=Interior<br>run=Vegetated Run<br>mean_u=%{x}<br>wc_height=%{y} <b>(trend)</b><extra></extra>",
         "legendgroup": "Interior, Vegetated Run",
         "marker": {
          "color": "#00cc96",
          "symbol": "circle"
         },
         "mode": "lines",
         "name": "Interior, Vegetated Run",
         "showlegend": false,
         "type": "scatter",
         "x": [
          0.32795938556551335,
          0.3324782009321994,
          0.34257505689218215,
          0.3945666755180598,
          0.4007947695683334,
          0.4237513277861222,
          0.4522017025862316,
          0.4581330220253045,
          0.4598617743343786,
          0.4661870675468359,
          0.46758428783971756,
          0.4787615550155717,
          0.4821531906882198,
          0.49261612431010615,
          0.5032697715657666,
          0.5053887828651638,
          0.5221258022091906,
          0.5605192619077259,
          0.6404308369864579,
          0.6874622338211613,
          0.7060010045180906,
          0.7148145690067229,
          0.73761002260273,
          0.7510287301279653,
          0.7808682854363156,
          0.7969722493283818,
          0.8280468136003757,
          0.8704910931158285,
          0.88090332438123,
          1.0842203100063368,
          1.1491061157834896,
          1.1978981800785493,
          1.2077743399244807,
          1.246928195992003,
          1.424962409796556,
          1.4622657631981093
         ],
         "xaxis": "x",
         "y": [
          0.6602381641282417,
          0.6603731435127507,
          0.6606747418947075,
          0.6622277588056185,
          0.6624137952406912,
          0.6630995196722593,
          0.6639493472859034,
          0.6641265189077215,
          0.6641781576456898,
          0.6643670974707047,
          0.6644088331735056,
          0.6647427040050099,
          0.664844013941005,
          0.6651565472546811,
          0.6654747772846014,
          0.6655380732632485,
          0.6660380168073524,
          0.6671848495807126,
          0.6695718502311025,
          0.6709767027161471,
          0.6715304655179365,
          0.6717937313107317,
          0.6724746434627696,
          0.6728754672928415,
          0.6737667904567036,
          0.6742478243025056,
          0.6751760378317065,
          0.6764438707171039,
          0.6767548895248052,
          0.6828280744976242,
          0.6847662475399969,
          0.6862236920853138,
          0.6865186981586188,
          0.6876882443702453,
          0.693006219691398,
          0.6941204904180543
         ],
         "yaxis": "y"
        },
        {
         "hovertemplate": "site=Interior<br>run=Baseline Run<br>mean_u=%{x}<br>wc_height=%{y}<extra></extra>",
         "legendgroup": "Interior, Baseline Run",
         "marker": {
          "color": "#00cc96",
          "symbol": "diamond"
         },
         "mode": "markers",
         "name": "Interior, Baseline Run",
         "orientation": "v",
         "showlegend": true,
         "type": "scatter",
         "x": [
          12.267966275643186,
          11.704184378926797,
          11.754987705866252,
          12.268937714634541,
          12.584471112518097,
          12.632678067235405,
          14.304230138870242,
          11.927099673783966,
          12.43681291643437,
          12.613795336894194,
          12.842267952527006,
          13.034784092897246,
          12.234891457803208,
          12.684460637613892,
          12.669418446127429,
          12.920910057495092,
          13.032040821263658,
          13.079509417292295,
          12.267966275643186,
          11.704184378926797,
          11.754987705866252,
          12.268937714634541,
          12.584471112518097,
          12.632678067235405,
          14.304230138870242,
          11.927099673783966,
          12.43681291643437,
          12.613795336894194,
          12.842267952527006,
          13.034784092897246,
          12.234891457803208,
          12.684460637613892,
          12.669418446127429,
          12.920910057495092,
          13.032040821263658,
          13.079509417292295
         ],
         "xaxis": "x",
         "y": [
          0.6341999999999999,
          0.5775000000000001,
          0.5825,
          0.6343000000000001,
          0.6671999999999998,
          0.6722999999999999,
          0.8612,
          0.5996000000000001,
          0.6517,
          0.6703000000000001,
          0.6947000000000001,
          0.7155999999999998,
          0.6307999999999998,
          0.6778,
          0.6762000000000001,
          0.7031999999999998,
          0.7153,
          0.7204999999999999,
          0.6341999999999999,
          0.5775000000000001,
          0.5825,
          0.6343000000000001,
          0.6671999999999998,
          0.6722999999999999,
          0.8612,
          0.5996000000000001,
          0.6517,
          0.6703000000000001,
          0.6947000000000001,
          0.7155999999999998,
          0.6307999999999998,
          0.6778,
          0.6762000000000001,
          0.7031999999999998,
          0.7153,
          0.7204999999999999
         ],
         "yaxis": "y"
        },
        {
         "hovertemplate": "<b>OLS trendline</b><br>wc_height = 0.108124 * mean_u + -0.692137<br>R<sup>2</sup>=0.998511<br><br>site=Interior<br>run=Baseline Run<br>mean_u=%{x}<br>wc_height=%{y} <b>(trend)</b><extra></extra>",
         "legendgroup": "Interior, Baseline Run",
         "marker": {
          "color": "#00cc96",
          "symbol": "diamond"
         },
         "mode": "lines",
         "name": "Interior, Baseline Run",
         "showlegend": false,
         "type": "scatter",
         "x": [
          11.704184378926797,
          11.704184378926797,
          11.754987705866252,
          11.754987705866252,
          11.927099673783966,
          11.927099673783966,
          12.234891457803208,
          12.234891457803208,
          12.267966275643186,
          12.267966275643186,
          12.268937714634541,
          12.268937714634541,
          12.43681291643437,
          12.43681291643437,
          12.584471112518097,
          12.584471112518097,
          12.613795336894194,
          12.613795336894194,
          12.632678067235405,
          12.632678067235405,
          12.669418446127429,
          12.669418446127429,
          12.684460637613892,
          12.684460637613892,
          12.842267952527006,
          12.842267952527006,
          12.920910057495092,
          12.920910057495092,
          13.032040821263658,
          13.032040821263658,
          13.034784092897246,
          13.034784092897246,
          13.079509417292295,
          13.079509417292295,
          14.304230138870242,
          14.304230138870242
         ],
         "xaxis": "x",
         "y": [
          0.5733624177461123,
          0.5733624177461123,
          0.5788554619589716,
          0.5788554619589716,
          0.5974648465463415,
          0.5974648465463415,
          0.6307444362863486,
          0.6307444362863486,
          0.6343206083142905,
          0.6343206083142905,
          0.63442564390253,
          0.63442564390253,
          0.6525769336168452,
          0.6525769336168452,
          0.6685422856585641,
          0.6685422856585641,
          0.6717129296047308,
          0.6717129296047308,
          0.6737546004730064,
          0.6737546004730064,
          0.6777271065628458,
          0.6777271065628458,
          0.6793535241199462,
          0.6793535241199462,
          0.6964162365474884,
          0.6964162365474884,
          0.7049193127357238,
          0.7049193127357238,
          0.7169351832616255,
          0.7169351832616255,
          0.717231795969473,
          0.717231795969473,
          0.7220676639949917,
          0.7220676639949917,
          0.8544890127001652,
          0.8544890127001652
         ],
         "yaxis": "y"
        }
       ],
       "layout": {
        "autosize": true,
        "legend": {
         "title": {
          "text": "site, run"
         },
         "tracegroupgap": 0
        },
        "margin": {
         "t": 60
        },
        "template": {
         "data": {
          "bar": [
           {
            "error_x": {
             "color": "#f2f5fa"
            },
            "error_y": {
             "color": "#f2f5fa"
            },
            "marker": {
             "line": {
              "color": "rgb(17,17,17)",
              "width": 0.5
             },
             "pattern": {
              "fillmode": "overlay",
              "size": 10,
              "solidity": 0.2
             }
            },
            "type": "bar"
           }
          ],
          "barpolar": [
           {
            "marker": {
             "line": {
              "color": "rgb(17,17,17)",
              "width": 0.5
             },
             "pattern": {
              "fillmode": "overlay",
              "size": 10,
              "solidity": 0.2
             }
            },
            "type": "barpolar"
           }
          ],
          "carpet": [
           {
            "aaxis": {
             "endlinecolor": "#A2B1C6",
             "gridcolor": "#506784",
             "linecolor": "#506784",
             "minorgridcolor": "#506784",
             "startlinecolor": "#A2B1C6"
            },
            "baxis": {
             "endlinecolor": "#A2B1C6",
             "gridcolor": "#506784",
             "linecolor": "#506784",
             "minorgridcolor": "#506784",
             "startlinecolor": "#A2B1C6"
            },
            "type": "carpet"
           }
          ],
          "choropleth": [
           {
            "colorbar": {
             "outlinewidth": 0,
             "ticks": ""
            },
            "type": "choropleth"
           }
          ],
          "contour": [
           {
            "colorbar": {
             "outlinewidth": 0,
             "ticks": ""
            },
            "colorscale": [
             [
              0,
              "#0d0887"
             ],
             [
              0.1111111111111111,
              "#46039f"
             ],
             [
              0.2222222222222222,
              "#7201a8"
             ],
             [
              0.3333333333333333,
              "#9c179e"
             ],
             [
              0.4444444444444444,
              "#bd3786"
             ],
             [
              0.5555555555555556,
              "#d8576b"
             ],
             [
              0.6666666666666666,
              "#ed7953"
             ],
             [
              0.7777777777777778,
              "#fb9f3a"
             ],
             [
              0.8888888888888888,
              "#fdca26"
             ],
             [
              1,
              "#f0f921"
             ]
            ],
            "type": "contour"
           }
          ],
          "contourcarpet": [
           {
            "colorbar": {
             "outlinewidth": 0,
             "ticks": ""
            },
            "type": "contourcarpet"
           }
          ],
          "heatmap": [
           {
            "colorbar": {
             "outlinewidth": 0,
             "ticks": ""
            },
            "colorscale": [
             [
              0,
              "#0d0887"
             ],
             [
              0.1111111111111111,
              "#46039f"
             ],
             [
              0.2222222222222222,
              "#7201a8"
             ],
             [
              0.3333333333333333,
              "#9c179e"
             ],
             [
              0.4444444444444444,
              "#bd3786"
             ],
             [
              0.5555555555555556,
              "#d8576b"
             ],
             [
              0.6666666666666666,
              "#ed7953"
             ],
             [
              0.7777777777777778,
              "#fb9f3a"
             ],
             [
              0.8888888888888888,
              "#fdca26"
             ],
             [
              1,
              "#f0f921"
             ]
            ],
            "type": "heatmap"
           }
          ],
          "heatmapgl": [
           {
            "colorbar": {
             "outlinewidth": 0,
             "ticks": ""
            },
            "colorscale": [
             [
              0,
              "#0d0887"
             ],
             [
              0.1111111111111111,
              "#46039f"
             ],
             [
              0.2222222222222222,
              "#7201a8"
             ],
             [
              0.3333333333333333,
              "#9c179e"
             ],
             [
              0.4444444444444444,
              "#bd3786"
             ],
             [
              0.5555555555555556,
              "#d8576b"
             ],
             [
              0.6666666666666666,
              "#ed7953"
             ],
             [
              0.7777777777777778,
              "#fb9f3a"
             ],
             [
              0.8888888888888888,
              "#fdca26"
             ],
             [
              1,
              "#f0f921"
             ]
            ],
            "type": "heatmapgl"
           }
          ],
          "histogram": [
           {
            "marker": {
             "pattern": {
              "fillmode": "overlay",
              "size": 10,
              "solidity": 0.2
             }
            },
            "type": "histogram"
           }
          ],
          "histogram2d": [
           {
            "colorbar": {
             "outlinewidth": 0,
             "ticks": ""
            },
            "colorscale": [
             [
              0,
              "#0d0887"
             ],
             [
              0.1111111111111111,
              "#46039f"
             ],
             [
              0.2222222222222222,
              "#7201a8"
             ],
             [
              0.3333333333333333,
              "#9c179e"
             ],
             [
              0.4444444444444444,
              "#bd3786"
             ],
             [
              0.5555555555555556,
              "#d8576b"
             ],
             [
              0.6666666666666666,
              "#ed7953"
             ],
             [
              0.7777777777777778,
              "#fb9f3a"
             ],
             [
              0.8888888888888888,
              "#fdca26"
             ],
             [
              1,
              "#f0f921"
             ]
            ],
            "type": "histogram2d"
           }
          ],
          "histogram2dcontour": [
           {
            "colorbar": {
             "outlinewidth": 0,
             "ticks": ""
            },
            "colorscale": [
             [
              0,
              "#0d0887"
             ],
             [
              0.1111111111111111,
              "#46039f"
             ],
             [
              0.2222222222222222,
              "#7201a8"
             ],
             [
              0.3333333333333333,
              "#9c179e"
             ],
             [
              0.4444444444444444,
              "#bd3786"
             ],
             [
              0.5555555555555556,
              "#d8576b"
             ],
             [
              0.6666666666666666,
              "#ed7953"
             ],
             [
              0.7777777777777778,
              "#fb9f3a"
             ],
             [
              0.8888888888888888,
              "#fdca26"
             ],
             [
              1,
              "#f0f921"
             ]
            ],
            "type": "histogram2dcontour"
           }
          ],
          "mesh3d": [
           {
            "colorbar": {
             "outlinewidth": 0,
             "ticks": ""
            },
            "type": "mesh3d"
           }
          ],
          "parcoords": [
           {
            "line": {
             "colorbar": {
              "outlinewidth": 0,
              "ticks": ""
             }
            },
            "type": "parcoords"
           }
          ],
          "pie": [
           {
            "automargin": true,
            "type": "pie"
           }
          ],
          "scatter": [
           {
            "marker": {
             "line": {
              "color": "#283442"
             }
            },
            "type": "scatter"
           }
          ],
          "scatter3d": [
           {
            "line": {
             "colorbar": {
              "outlinewidth": 0,
              "ticks": ""
             }
            },
            "marker": {
             "colorbar": {
              "outlinewidth": 0,
              "ticks": ""
             }
            },
            "type": "scatter3d"
           }
          ],
          "scattercarpet": [
           {
            "marker": {
             "colorbar": {
              "outlinewidth": 0,
              "ticks": ""
             }
            },
            "type": "scattercarpet"
           }
          ],
          "scattergeo": [
           {
            "marker": {
             "colorbar": {
              "outlinewidth": 0,
              "ticks": ""
             }
            },
            "type": "scattergeo"
           }
          ],
          "scattergl": [
           {
            "marker": {
             "line": {
              "color": "#283442"
             }
            },
            "type": "scattergl"
           }
          ],
          "scattermapbox": [
           {
            "marker": {
             "colorbar": {
              "outlinewidth": 0,
              "ticks": ""
             }
            },
            "type": "scattermapbox"
           }
          ],
          "scatterpolar": [
           {
            "marker": {
             "colorbar": {
              "outlinewidth": 0,
              "ticks": ""
             }
            },
            "type": "scatterpolar"
           }
          ],
          "scatterpolargl": [
           {
            "marker": {
             "colorbar": {
              "outlinewidth": 0,
              "ticks": ""
             }
            },
            "type": "scatterpolargl"
           }
          ],
          "scatterternary": [
           {
            "marker": {
             "colorbar": {
              "outlinewidth": 0,
              "ticks": ""
             }
            },
            "type": "scatterternary"
           }
          ],
          "surface": [
           {
            "colorbar": {
             "outlinewidth": 0,
             "ticks": ""
            },
            "colorscale": [
             [
              0,
              "#0d0887"
             ],
             [
              0.1111111111111111,
              "#46039f"
             ],
             [
              0.2222222222222222,
              "#7201a8"
             ],
             [
              0.3333333333333333,
              "#9c179e"
             ],
             [
              0.4444444444444444,
              "#bd3786"
             ],
             [
              0.5555555555555556,
              "#d8576b"
             ],
             [
              0.6666666666666666,
              "#ed7953"
             ],
             [
              0.7777777777777778,
              "#fb9f3a"
             ],
             [
              0.8888888888888888,
              "#fdca26"
             ],
             [
              1,
              "#f0f921"
             ]
            ],
            "type": "surface"
           }
          ],
          "table": [
           {
            "cells": {
             "fill": {
              "color": "#506784"
             },
             "line": {
              "color": "rgb(17,17,17)"
             }
            },
            "header": {
             "fill": {
              "color": "#2a3f5f"
             },
             "line": {
              "color": "rgb(17,17,17)"
             }
            },
            "type": "table"
           }
          ]
         },
         "layout": {
          "annotationdefaults": {
           "arrowcolor": "#f2f5fa",
           "arrowhead": 0,
           "arrowwidth": 1
          },
          "autotypenumbers": "strict",
          "coloraxis": {
           "colorbar": {
            "outlinewidth": 0,
            "ticks": ""
           }
          },
          "colorscale": {
           "diverging": [
            [
             0,
             "#8e0152"
            ],
            [
             0.1,
             "#c51b7d"
            ],
            [
             0.2,
             "#de77ae"
            ],
            [
             0.3,
             "#f1b6da"
            ],
            [
             0.4,
             "#fde0ef"
            ],
            [
             0.5,
             "#f7f7f7"
            ],
            [
             0.6,
             "#e6f5d0"
            ],
            [
             0.7,
             "#b8e186"
            ],
            [
             0.8,
             "#7fbc41"
            ],
            [
             0.9,
             "#4d9221"
            ],
            [
             1,
             "#276419"
            ]
           ],
           "sequential": [
            [
             0,
             "#0d0887"
            ],
            [
             0.1111111111111111,
             "#46039f"
            ],
            [
             0.2222222222222222,
             "#7201a8"
            ],
            [
             0.3333333333333333,
             "#9c179e"
            ],
            [
             0.4444444444444444,
             "#bd3786"
            ],
            [
             0.5555555555555556,
             "#d8576b"
            ],
            [
             0.6666666666666666,
             "#ed7953"
            ],
            [
             0.7777777777777778,
             "#fb9f3a"
            ],
            [
             0.8888888888888888,
             "#fdca26"
            ],
            [
             1,
             "#f0f921"
            ]
           ],
           "sequentialminus": [
            [
             0,
             "#0d0887"
            ],
            [
             0.1111111111111111,
             "#46039f"
            ],
            [
             0.2222222222222222,
             "#7201a8"
            ],
            [
             0.3333333333333333,
             "#9c179e"
            ],
            [
             0.4444444444444444,
             "#bd3786"
            ],
            [
             0.5555555555555556,
             "#d8576b"
            ],
            [
             0.6666666666666666,
             "#ed7953"
            ],
            [
             0.7777777777777778,
             "#fb9f3a"
            ],
            [
             0.8888888888888888,
             "#fdca26"
            ],
            [
             1,
             "#f0f921"
            ]
           ]
          },
          "colorway": [
           "#636efa",
           "#EF553B",
           "#00cc96",
           "#ab63fa",
           "#FFA15A",
           "#19d3f3",
           "#FF6692",
           "#B6E880",
           "#FF97FF",
           "#FECB52"
          ],
          "font": {
           "color": "#f2f5fa"
          },
          "geo": {
           "bgcolor": "rgb(17,17,17)",
           "lakecolor": "rgb(17,17,17)",
           "landcolor": "rgb(17,17,17)",
           "showlakes": true,
           "showland": true,
           "subunitcolor": "#506784"
          },
          "hoverlabel": {
           "align": "left"
          },
          "hovermode": "closest",
          "mapbox": {
           "style": "dark"
          },
          "paper_bgcolor": "rgb(17,17,17)",
          "plot_bgcolor": "rgb(17,17,17)",
          "polar": {
           "angularaxis": {
            "gridcolor": "#506784",
            "linecolor": "#506784",
            "ticks": ""
           },
           "bgcolor": "rgb(17,17,17)",
           "radialaxis": {
            "gridcolor": "#506784",
            "linecolor": "#506784",
            "ticks": ""
           }
          },
          "scene": {
           "xaxis": {
            "backgroundcolor": "rgb(17,17,17)",
            "gridcolor": "#506784",
            "gridwidth": 2,
            "linecolor": "#506784",
            "showbackground": true,
            "ticks": "",
            "zerolinecolor": "#C8D4E3"
           },
           "yaxis": {
            "backgroundcolor": "rgb(17,17,17)",
            "gridcolor": "#506784",
            "gridwidth": 2,
            "linecolor": "#506784",
            "showbackground": true,
            "ticks": "",
            "zerolinecolor": "#C8D4E3"
           },
           "zaxis": {
            "backgroundcolor": "rgb(17,17,17)",
            "gridcolor": "#506784",
            "gridwidth": 2,
            "linecolor": "#506784",
            "showbackground": true,
            "ticks": "",
            "zerolinecolor": "#C8D4E3"
           }
          },
          "shapedefaults": {
           "line": {
            "color": "#f2f5fa"
           }
          },
          "sliderdefaults": {
           "bgcolor": "#C8D4E3",
           "bordercolor": "rgb(17,17,17)",
           "borderwidth": 1,
           "tickwidth": 0
          },
          "ternary": {
           "aaxis": {
            "gridcolor": "#506784",
            "linecolor": "#506784",
            "ticks": ""
           },
           "baxis": {
            "gridcolor": "#506784",
            "linecolor": "#506784",
            "ticks": ""
           },
           "bgcolor": "rgb(17,17,17)",
           "caxis": {
            "gridcolor": "#506784",
            "linecolor": "#506784",
            "ticks": ""
           }
          },
          "title": {
           "x": 0.05
          },
          "updatemenudefaults": {
           "bgcolor": "#506784",
           "borderwidth": 0
          },
          "xaxis": {
           "automargin": true,
           "gridcolor": "#283442",
           "linecolor": "#506784",
           "ticks": "",
           "title": {
            "standoff": 15
           },
           "zerolinecolor": "#283442",
           "zerolinewidth": 2
          },
          "yaxis": {
           "automargin": true,
           "gridcolor": "#283442",
           "linecolor": "#506784",
           "ticks": "",
           "title": {
            "standoff": 15
           },
           "zerolinecolor": "#283442",
           "zerolinewidth": 2
          }
         }
        },
        "xaxis": {
         "anchor": "y",
         "domain": [
          0,
          1
         ],
         "title": {
          "text": "mean_u"
         }
        },
        "yaxis": {
         "anchor": "x",
         "domain": [
          0,
          1
         ],
         "title": {
          "text": "wc_height"
         }
        }
       }
      }
     },
     "metadata": {},
     "output_type": "display_data"
    }
   ],
   "source": [
    "fig = px.scatter(dff, x='mean_u', y='wc_height', trendline='ols', symbol='run', color='site', template='plotly_dark')\n",
    "fig.update_layout(\n",
    "    autosize=True,)\n",
    "fig.show()"
   ]
  },
  {
   "cell_type": "code",
   "execution_count": 199,
   "metadata": {},
   "outputs": [
    {
     "data": {
      "application/vnd.plotly.v1+json": {
       "config": {
        "plotlyServerURL": "https://plot.ly"
       },
       "data": [
        {
         "hovertemplate": "site=Bay<br>run=Vegetated Run<br>mean_u_25=%{x}<br>density_total=%{y}<extra></extra>",
         "legendgroup": "Bay, Vegetated Run",
         "marker": {
          "color": "#636efa",
          "symbol": "circle"
         },
         "mode": "markers",
         "name": "Bay, Vegetated Run",
         "orientation": "v",
         "showlegend": true,
         "type": "scatter",
         "x": [
          0.3734292352375515,
          0.004929030944210574,
          0.0016851723896683496,
          0.002885204398040054,
          0.03841700154945067,
          0.004118452433871988,
          0.0007558926536391336,
          0.36757693955314724,
          0.12868100875055416,
          0.005192999039757156,
          0.0019947016909549094,
          0.0005399224132622771,
          0.05266697989354076,
          0.0014214645829165955,
          0.3360911582760867,
          0.1142274096027529,
          -0.00024263728921717118,
          -0.0000019498706000150495,
          0.003515285940208214,
          0.09458165970530395,
          0.00006789165556886744,
          0.1506688760403536,
          0.0010616662941976237,
          0.0004144965818353142,
          0.0007777073642409654,
          0.013953741044151261,
          0.00031609807803285254,
          0.04350674434899822,
          0.11759945514470693,
          0.05480152731221084,
          0.0038371156023008163,
          0.03434991570494521,
          -0.0016972575679772544,
          -0.0004503517796941325,
          0.03757879727686975,
          0.02977885266902029,
          0.01154581581105171,
          0.40899210416094894,
          0.0004988001130047737,
          0.00025842501448899286,
          0.0019508137022803344,
          0.002122193037308142
         ],
         "xaxis": "x",
         "y": [
          630.481094184055,
          2837.16492382825,
          3467.6460180123,
          4728.60820638041,
          3467.6460180123,
          4728.60820638041,
          4098.12711219636,
          1576.20273546014,
          2837.16492382825,
          4098.12711219636,
          4413.36765928838,
          5359.08930056447,
          5359.08930056447,
          4728.60820638041,
          945.721641276082,
          3782.88656510433,
          4098.12711219636,
          5674.32984765649,
          5359.08930056447,
          5359.08930056447,
          5674.32984765649,
          315.240547092027,
          3467.6460180123,
          3467.6460180123,
          5989.57039474852,
          5043.84875347244,
          5989.57039474852,
          4413.36765928838,
          2206.68382964419,
          3152.40547092027,
          2837.16492382825,
          5989.57039474852,
          5674.32984765649,
          5674.32984765649,
          5043.84875347244,
          945.721641276082,
          1891.44328255216,
          2837.16492382825,
          4728.60820638041,
          5989.57039474852,
          5359.08930056447,
          5359.08930056447
         ],
         "yaxis": "y"
        },
        {
         "hovertemplate": "<b>OLS trendline</b><br>density_total = -9028.69 * mean_u_25 + 4563.55<br>R<sup>2</sup>=0.380826<br><br>site=Bay<br>run=Vegetated Run<br>mean_u_25=%{x}<br>density_total=%{y} <b>(trend)</b><extra></extra>",
         "legendgroup": "Bay, Vegetated Run",
         "marker": {
          "color": "#636efa",
          "symbol": "circle"
         },
         "mode": "lines",
         "name": "Bay, Vegetated Run",
         "showlegend": false,
         "type": "scatter",
         "x": [
          -0.0016972575679772544,
          -0.0004503517796941325,
          -0.00024263728921717118,
          -0.0000019498706000150495,
          0.00006789165556886744,
          0.00025842501448899286,
          0.00031609807803285254,
          0.0004144965818353142,
          0.0004988001130047737,
          0.0005399224132622771,
          0.0007558926536391336,
          0.0007777073642409654,
          0.0010616662941976237,
          0.0014214645829165955,
          0.0016851723896683496,
          0.0019508137022803344,
          0.0019947016909549094,
          0.002122193037308142,
          0.002885204398040054,
          0.003515285940208214,
          0.0038371156023008163,
          0.004118452433871988,
          0.004929030944210574,
          0.005192999039757156,
          0.01154581581105171,
          0.013953741044151261,
          0.02977885266902029,
          0.03434991570494521,
          0.03757879727686975,
          0.03841700154945067,
          0.04350674434899822,
          0.05266697989354076,
          0.05480152731221084,
          0.09458165970530395,
          0.1142274096027529,
          0.11759945514470693,
          0.12868100875055416,
          0.1506688760403536,
          0.3360911582760867,
          0.36757693955314724,
          0.3734292352375515,
          0.40899210416094894
         ],
         "xaxis": "x",
         "y": [
          4578.874831349619,
          4567.616903032598,
          4565.741512873879,
          4563.568420302602,
          4562.937842673924,
          4561.217575660265,
          4560.696863332757,
          4559.808453548538,
          4559.047302930989,
          4558.676022347579,
          4556.726093565775,
          4556.529135262654,
          4553.965357543062,
          4550.716849611632,
          4548.335913046137,
          4545.937519451748,
          4545.54126831945,
          4544.390188220398,
          4537.501193650873,
          4531.812381470945,
          4528.906680575035,
          4526.366576974164,
          4519.048113261461,
          4516.664826628607,
          4459.307200660029,
          4437.566785368265,
          4294.686726621462,
          4253.416006351665,
          4224.263429130153,
          4216.695540918863,
          4170.741820816021,
          4088.036875425178,
          4068.7647042198805,
          3709.6021410725407,
          3532.2267161143154,
          3501.7815555017264,
          3401.729621098869,
          3203.207939574272,
          1529.0872630936087,
          1244.8118415233916,
          1191.9732662884912,
          870.8870760972791
         ],
         "yaxis": "y"
        },
        {
         "hovertemplate": "site=Bay<br>run=Baseline Run<br>mean_u_25=%{x}<br>density_total=%{y}<extra></extra>",
         "legendgroup": "Bay, Baseline Run",
         "marker": {
          "color": "#636efa",
          "symbol": "diamond"
         },
         "mode": "markers",
         "name": "Bay, Baseline Run",
         "orientation": "v",
         "showlegend": true,
         "type": "scatter",
         "x": [
          11.434116546838538,
          9.474710819850497,
          10.45030590623715,
          10.454024082517174,
          10.638276172671308,
          11.022232522243687,
          11.43836434672227,
          11.31710651696091,
          9.638382252015312,
          10.361607100920704,
          10.570477212771559,
          10.662906294923475,
          10.998407090756528,
          11.352250573790563,
          10.89366965998431,
          10.311790962295648,
          10.059976293181483,
          10.258892227295387,
          10.222840772283014,
          10.62822531490318,
          10.819391041677104,
          11.434116546838538,
          9.474710819850497,
          10.45030590623715,
          10.454024082517174,
          10.638276172671308,
          11.022232522243687,
          11.43836434672227,
          11.31710651696091,
          9.638382252015312,
          10.361607100920704,
          10.570477212771559,
          10.662906294923475,
          10.998407090756528,
          11.352250573790563,
          10.89366965998431,
          10.311790962295648,
          10.059976293181483,
          10.258892227295387,
          10.222840772283014,
          10.62822531490318,
          10.819391041677104
         ],
         "xaxis": "x",
         "y": [
          630.481094184055,
          2837.16492382825,
          3467.6460180123,
          4728.60820638041,
          3467.6460180123,
          4728.60820638041,
          4098.12711219636,
          1576.20273546014,
          2837.16492382825,
          4098.12711219636,
          4413.36765928838,
          5359.08930056447,
          5359.08930056447,
          4728.60820638041,
          945.721641276082,
          3782.88656510433,
          4098.12711219636,
          5674.32984765649,
          5359.08930056447,
          5359.08930056447,
          5674.32984765649,
          315.240547092027,
          3467.6460180123,
          3467.6460180123,
          5989.57039474852,
          5043.84875347244,
          5989.57039474852,
          4413.36765928838,
          2206.68382964419,
          3152.40547092027,
          2837.16492382825,
          5989.57039474852,
          5674.32984765649,
          5674.32984765649,
          5043.84875347244,
          945.721641276082,
          1891.44328255216,
          2837.16492382825,
          4728.60820638041,
          5989.57039474852,
          5359.08930056447,
          5359.08930056447
         ],
         "yaxis": "y"
        },
        {
         "hovertemplate": "<b>OLS trendline</b><br>density_total = -230.95 * mean_u_25 + 6490.63<br>R<sup>2</sup>=0.005847<br><br>site=Bay<br>run=Baseline Run<br>mean_u_25=%{x}<br>density_total=%{y} <b>(trend)</b><extra></extra>",
         "legendgroup": "Bay, Baseline Run",
         "marker": {
          "color": "#636efa",
          "symbol": "diamond"
         },
         "mode": "lines",
         "name": "Bay, Baseline Run",
         "showlegend": false,
         "type": "scatter",
         "x": [
          9.474710819850497,
          9.474710819850497,
          9.638382252015312,
          9.638382252015312,
          10.059976293181483,
          10.059976293181483,
          10.222840772283014,
          10.222840772283014,
          10.258892227295387,
          10.258892227295387,
          10.311790962295648,
          10.311790962295648,
          10.361607100920704,
          10.361607100920704,
          10.45030590623715,
          10.45030590623715,
          10.454024082517174,
          10.454024082517174,
          10.570477212771559,
          10.570477212771559,
          10.62822531490318,
          10.62822531490318,
          10.638276172671308,
          10.638276172671308,
          10.662906294923475,
          10.662906294923475,
          10.819391041677104,
          10.819391041677104,
          10.89366965998431,
          10.89366965998431,
          10.998407090756528,
          10.998407090756528,
          11.022232522243687,
          11.022232522243687,
          11.31710651696091,
          11.31710651696091,
          11.352250573790563,
          11.352250573790563,
          11.434116546838538,
          11.434116546838538,
          11.43836434672227,
          11.43836434672227
         ],
         "xaxis": "x",
         "y": [
          4302.452858661617,
          4302.452858661617,
          4264.653011563072,
          4264.653011563072,
          4167.286048477594,
          4167.286048477594,
          4129.672566843103,
          4129.672566843103,
          4121.346498761926,
          4121.346498761926,
          4109.129558589357,
          4109.129558589357,
          4097.624542728246,
          4097.624542728246,
          4077.139591662326,
          4077.139591662326,
          4076.2808804442993,
          4076.2808804442993,
          4049.38607993122,
          4049.38607993122,
          4036.049180498408,
          4036.049180498408,
          4033.727939205292,
          4033.727939205292,
          4028.0396230291803,
          4028.0396230291803,
          3991.899537845681,
          3991.899537845681,
          3974.744922788142,
          3974.744922788142,
          3950.55585804838,
          3950.55585804838,
          3945.053384859506,
          3945.053384859506,
          3876.952362181192,
          3876.952362181192,
          3868.8358573213472,
          3868.8358573213472,
          3849.9289459388465,
          3849.9289459388465,
          3848.9479183765743,
          3848.9479183765743
         ],
         "yaxis": "y"
        },
        {
         "hovertemplate": "site=Creek<br>run=Vegetated Run<br>mean_u_25=%{x}<br>density_total=%{y}<extra></extra>",
         "legendgroup": "Creek, Vegetated Run",
         "marker": {
          "color": "#EF553B",
          "symbol": "circle"
         },
         "mode": "markers",
         "name": "Creek, Vegetated Run",
         "orientation": "v",
         "showlegend": true,
         "type": "scatter",
         "x": [
          0.016934590886659544,
          0.08932821707265798,
          0.006372730534849795,
          -0.00004586971869447415,
          0.0257482748586637,
          0.054628235996303995,
          0.07992236653358013,
          0.0019166251908948073,
          0.0025404937746195803,
          0.024456850355965464,
          0.004022797820505777,
          0.0030476236767782838,
          0.04557546520054787,
          0.031699094217129145,
          0.003574960869766075,
          0.004166883074029617,
          0.013617114402965452,
          0.003167432173020364,
          0.040300510765857736,
          0.04621391412379357,
          0.008814516874630529,
          -0.0003413742422504161,
          0.08827206686418901,
          0.00129690605988384,
          0.18789655871882474,
          0.060720189409911196,
          -0.0002683030852027232,
          0.0523803101757719,
          0.017489446230999663,
          0.024256918183687592,
          0.31800307518738613,
          0.27071813883927864,
          0.03706477951504408,
          0.004843063591332699,
          0.0023385296985131607,
          0.0774222310331337
         ],
         "xaxis": "x",
         "y": [
          5359.08930056447,
          5989.57039474852,
          5989.57039474852,
          4728.60820638041,
          5043.84875347244,
          5674.3298476565,
          5989.57039474852,
          4098.12711219636,
          4728.60820638041,
          5989.57039474852,
          4728.60820638041,
          5674.32984765649,
          5674.32984765649,
          5989.57039474852,
          4728.60820638041,
          5674.32984765649,
          5043.84875347244,
          5359.08930056447,
          4413.36765928838,
          5674.32984765649,
          5674.32984765649,
          3782.88656510433,
          5359.08930056447,
          5043.84875347244,
          5043.84875347244,
          5043.84875347244,
          5359.08930056447,
          3782.88656510433,
          5043.84875347244,
          4413.36765928838,
          5359.08930056447,
          5674.32984765649,
          4413.36765928838,
          4413.36765928838,
          5359.08930056447,
          5674.32984765649
         ],
         "yaxis": "y"
        },
        {
         "hovertemplate": "<b>OLS trendline</b><br>density_total = 1839.18 * mean_u_25 + 5082.24<br>R<sup>2</sup>=0.044933<br><br>site=Creek<br>run=Vegetated Run<br>mean_u_25=%{x}<br>density_total=%{y} <b>(trend)</b><extra></extra>",
         "legendgroup": "Creek, Vegetated Run",
         "marker": {
          "color": "#EF553B",
          "symbol": "circle"
         },
         "mode": "lines",
         "name": "Creek, Vegetated Run",
         "showlegend": false,
         "type": "scatter",
         "x": [
          -0.0003413742422504161,
          -0.0002683030852027232,
          -0.00004586971869447415,
          0.00129690605988384,
          0.0019166251908948073,
          0.0023385296985131607,
          0.0025404937746195803,
          0.0030476236767782838,
          0.003167432173020364,
          0.003574960869766075,
          0.004022797820505777,
          0.004166883074029617,
          0.004843063591332699,
          0.006372730534849795,
          0.008814516874630529,
          0.013617114402965452,
          0.016934590886659544,
          0.017489446230999663,
          0.024256918183687592,
          0.024456850355965464,
          0.0257482748586637,
          0.031699094217129145,
          0.03706477951504408,
          0.040300510765857736,
          0.04557546520054787,
          0.04621391412379357,
          0.0523803101757719,
          0.054628235996303995,
          0.060720189409911196,
          0.0774222310331337,
          0.07992236653358013,
          0.08827206686418901,
          0.08932821707265798,
          0.18789655871882474,
          0.27071813883927864,
          0.31800307518738613
         ],
         "xaxis": "x",
         "y": [
          5081.616200592368,
          5081.750591293931,
          5082.159685352161,
          5084.629286029318,
          5085.7690584395805,
          5086.5450149874505,
          5086.916462422734,
          5087.849163451274,
          5088.06951233466,
          5088.819029239493,
          5089.642680108422,
          5089.907678215587,
          5091.1512930394865,
          5093.964619418916,
          5098.455493691746,
          5107.288314701256,
          5113.389737069225,
          5114.41021357466,
          5126.856784017488,
          5127.224494424482,
          5129.5996510792575,
          5140.544253857887,
          5150.412692249867,
          5156.363770766168,
          5166.0653391528695,
          5167.239558943196,
          5178.580645153217,
          5182.71497585619,
          5193.919148969428,
          5224.637139240511,
          5229.235327875865,
          5244.591894414742,
          5246.534340288152,
          5427.818845980792,
          5580.142289411716,
          5667.107598652139
         ],
         "yaxis": "y"
        },
        {
         "hovertemplate": "site=Creek<br>run=Baseline Run<br>mean_u_25=%{x}<br>density_total=%{y}<extra></extra>",
         "legendgroup": "Creek, Baseline Run",
         "marker": {
          "color": "#EF553B",
          "symbol": "diamond"
         },
         "mode": "markers",
         "name": "Creek, Baseline Run",
         "orientation": "v",
         "showlegend": true,
         "type": "scatter",
         "x": [
          12.473651459982452,
          13.199501536110208,
          11.164987655830519,
          11.50020355222584,
          11.508648800258582,
          11.60532745059137,
          12.019055578951342,
          11.962336225796175,
          11.419662208588123,
          11.453643382441,
          11.554987334957696,
          11.52383465046621,
          12.8617397368975,
          13.492157635653905,
          11.350538754053648,
          11.320540008199771,
          11.405189552044186,
          11.374480787194233,
          12.473651459982452,
          13.199501536110208,
          11.164987655830519,
          11.50020355222584,
          11.508648800258582,
          11.60532745059137,
          12.019055578951342,
          11.962336225796175,
          11.419662208588123,
          11.453643382441,
          11.554987334957696,
          11.52383465046621,
          12.8617397368975,
          13.492157635653905,
          11.350538754053648,
          11.320540008199771,
          11.405189552044186,
          11.374480787194233
         ],
         "xaxis": "x",
         "y": [
          5359.08930056447,
          5989.57039474852,
          5989.57039474852,
          4728.60820638041,
          5043.84875347244,
          5674.3298476565,
          5989.57039474852,
          4098.12711219636,
          4728.60820638041,
          5989.57039474852,
          4728.60820638041,
          5674.32984765649,
          5674.32984765649,
          5989.57039474852,
          4728.60820638041,
          5674.32984765649,
          5043.84875347244,
          5359.08930056447,
          4413.36765928838,
          5674.32984765649,
          5674.32984765649,
          3782.88656510433,
          5359.08930056447,
          5043.84875347244,
          5043.84875347244,
          5043.84875347244,
          5359.08930056447,
          3782.88656510433,
          5043.84875347244,
          4413.36765928838,
          5359.08930056447,
          5674.32984765649,
          4413.36765928838,
          4413.36765928838,
          5359.08930056447,
          5674.32984765649
         ],
         "yaxis": "y"
        },
        {
         "hovertemplate": "<b>OLS trendline</b><br>density_total = 295.703 * mean_u_25 + 1664.17<br>R<sup>2</sup>=0.104507<br><br>site=Creek<br>run=Baseline Run<br>mean_u_25=%{x}<br>density_total=%{y} <b>(trend)</b><extra></extra>",
         "legendgroup": "Creek, Baseline Run",
         "marker": {
          "color": "#EF553B",
          "symbol": "diamond"
         },
         "mode": "lines",
         "name": "Creek, Baseline Run",
         "showlegend": false,
         "type": "scatter",
         "x": [
          11.164987655830519,
          11.164987655830519,
          11.320540008199771,
          11.320540008199771,
          11.350538754053648,
          11.350538754053648,
          11.374480787194233,
          11.374480787194233,
          11.405189552044186,
          11.405189552044186,
          11.419662208588123,
          11.419662208588123,
          11.453643382441,
          11.453643382441,
          11.50020355222584,
          11.50020355222584,
          11.508648800258582,
          11.508648800258582,
          11.52383465046621,
          11.52383465046621,
          11.554987334957696,
          11.554987334957696,
          11.60532745059137,
          11.60532745059137,
          11.962336225796175,
          11.962336225796175,
          12.019055578951342,
          12.019055578951342,
          12.473651459982452,
          12.473651459982452,
          12.8617397368975,
          12.8617397368975,
          13.199501536110208,
          13.199501536110208,
          13.492157635653905,
          13.492157635653905
         ],
         "xaxis": "x",
         "y": [
          4965.681452985862,
          4965.681452985862,
          5011.678687502634,
          5011.678687502634,
          5020.549394549058,
          5020.549394549058,
          5027.6291159187585,
          5027.6291159187585,
          5036.709777426021,
          5036.709777426021,
          5040.98937954706,
          5040.98937954706,
          5051.037700893918,
          5051.037700893918,
          5064.805664001606,
          5064.805664001606,
          5067.302945774576,
          5067.302945774576,
          5071.793441113912,
          5071.793441113912,
          5081.005370811898,
          5081.005370811898,
          5095.891073722432,
          5095.891073722432,
          5201.459495591484,
          5201.459495591484,
          5218.231555602024,
          5218.231555602024,
          5352.6567380673405,
          5352.6567380673405,
          5467.4154492959315,
          5467.4154492959315,
          5567.2924903856965,
          5567.2924903856965,
          5653.831658957832,
          5653.831658957832
         ],
         "yaxis": "y"
        },
        {
         "hovertemplate": "site=Interior<br>run=Vegetated Run<br>mean_u_25=%{x}<br>density_total=%{y}<extra></extra>",
         "legendgroup": "Interior, Vegetated Run",
         "marker": {
          "color": "#00cc96",
          "symbol": "circle"
         },
         "mode": "markers",
         "name": "Interior, Vegetated Run",
         "orientation": "v",
         "showlegend": true,
         "type": "scatter",
         "x": [
          0.0015746731632190157,
          0.006789610594777985,
          0.0014610623283258745,
          0.00992456527611634,
          0.0054448029798137825,
          0.01635967806290349,
          0.20072500427280965,
          0.2196626453136564,
          0.052856819411373546,
          0.023865710947378035,
          0.0028308942383308013,
          -0.00016430959319379895,
          0.1048055342761284,
          0.2898613377739972,
          -0.000290117664191229,
          0.0025519313052247395,
          0.0005411168303500153,
          0.000023395695846995027,
          0.46126071704246374,
          0.26948721896359634,
          -0.00012407115160255873,
          0.0003542568890536012,
          -0.0001042425262878452,
          -0.000060104387769113625,
          0.36207772981973035,
          0.31570041532012644,
          0.07694756328309241,
          0.058714588438223435,
          0.0005679014937473774,
          0.042245954873329924,
          0.03361021314719008,
          0.010095908034088294,
          -0.00016244868360976877,
          0.051000534426177344,
          0.0008122283121855901,
          0.0788035800740835
         ],
         "xaxis": "x",
         "y": [
          5674.32984765649,
          5359.08930056447,
          4413.36765928838,
          5043.84875347244,
          5674.32984765649,
          5359.08930056447,
          5043.84875347244,
          5989.57039474852,
          3782.88656510433,
          4098.12711219636,
          4728.60820638041,
          5359.08930056447,
          5674.32984765649,
          4413.36765928838,
          5359.08930056447,
          5989.57039474852,
          5674.32984765649,
          5674.3298476565,
          4413.36765928838,
          4098.12711219636,
          4728.60820638041,
          5359.08930056447,
          5674.32984765649,
          5359.08930056447,
          4098.12711219636,
          5043.84875347244,
          4728.60820638041,
          4728.60820638041,
          5674.32984765649,
          5359.08930056447,
          5359.08930056447,
          4728.60820638041,
          5043.84875347244,
          4098.12711219636,
          5359.08930056447,
          5359.08930056447
         ],
         "yaxis": "y"
        },
        {
         "hovertemplate": "<b>OLS trendline</b><br>density_total = -1894.63 * mean_u_25 + 5212.22<br>R<sup>2</sup>=0.151206<br><br>site=Interior<br>run=Vegetated Run<br>mean_u_25=%{x}<br>density_total=%{y} <b>(trend)</b><extra></extra>",
         "legendgroup": "Interior, Vegetated Run",
         "marker": {
          "color": "#00cc96",
          "symbol": "circle"
         },
         "mode": "lines",
         "name": "Interior, Vegetated Run",
         "showlegend": false,
         "type": "scatter",
         "x": [
          -0.000290117664191229,
          -0.00016430959319379895,
          -0.00016244868360976877,
          -0.00012407115160255873,
          -0.0001042425262878452,
          -0.000060104387769113625,
          0.000023395695846995027,
          0.0003542568890536012,
          0.0005411168303500153,
          0.0005679014937473774,
          0.0008122283121855901,
          0.0014610623283258745,
          0.0015746731632190157,
          0.0025519313052247395,
          0.0028308942383308013,
          0.0054448029798137825,
          0.006789610594777985,
          0.00992456527611634,
          0.010095908034088294,
          0.01635967806290349,
          0.023865710947378035,
          0.03361021314719008,
          0.042245954873329924,
          0.051000534426177344,
          0.052856819411373546,
          0.058714588438223435,
          0.07694756328309241,
          0.0788035800740835,
          0.1048055342761284,
          0.20072500427280965,
          0.2196626453136564,
          0.26948721896359634,
          0.2898613377739972,
          0.31570041532012644,
          0.36207772981973035,
          0.46126071704246374
         ],
         "xaxis": "x",
         "y": [
          5212.768292523414,
          5212.52993306956,
          5212.52640733875,
          5212.453696204265,
          5212.41612834186,
          5212.332503002817,
          5212.1743014329995,
          5211.547442657653,
          5211.19341264033,
          5211.14266567562,
          5210.679757322102,
          5209.450458434495,
          5209.235208201801,
          5207.383667874093,
          5206.855136978948,
          5201.9027531207075,
          5199.354843387253,
          5193.415271468086,
          5193.090640735827,
          5181.223128649373,
          5167.001990969025,
          5148.539787359897,
          5132.178272036219,
          5115.591603276464,
          5112.0746343589635,
          5100.976343009505,
          5066.4316441543315,
          5062.915183364996,
          5013.65116116357,
          4831.919478123614,
          4796.0396991874,
          4701.640682736776,
          4663.039313254665,
          4614.08388167419,
          4526.216137834716,
          4338.301304719589
         ],
         "yaxis": "y"
        },
        {
         "hovertemplate": "site=Interior<br>run=Baseline Run<br>mean_u_25=%{x}<br>density_total=%{y}<extra></extra>",
         "legendgroup": "Interior, Baseline Run",
         "marker": {
          "color": "#00cc96",
          "symbol": "diamond"
         },
         "mode": "markers",
         "name": "Interior, Baseline Run",
         "orientation": "v",
         "showlegend": true,
         "type": "scatter",
         "x": [
          11.074117120333446,
          10.564960931548402,
          10.610842319010464,
          11.074994425515872,
          11.35995057051224,
          11.403485679015631,
          12.91300486798032,
          10.766278978350103,
          11.226601817789735,
          11.386432925747325,
          11.592762914696792,
          11.766620000325165,
          11.044247280211106,
          11.45024980307172,
          11.436665416090609,
          11.663782994882144,
          11.764142619491881,
          11.807010306305619,
          11.074117120333446,
          10.564960931548402,
          10.610842319010464,
          11.074994425515872,
          11.35995057051224,
          11.403485679015631,
          12.91300486798032,
          10.766278978350103,
          11.226601817789735,
          11.386432925747325,
          11.592762914696792,
          11.766620000325165,
          11.044247280211106,
          11.45024980307172,
          11.436665416090609,
          11.663782994882144,
          11.764142619491881,
          11.807010306305619
         ],
         "xaxis": "x",
         "y": [
          5674.32984765649,
          5359.08930056447,
          4413.36765928838,
          5043.84875347244,
          5674.32984765649,
          5359.08930056447,
          5043.84875347244,
          5989.57039474852,
          3782.88656510433,
          4098.12711219636,
          4728.60820638041,
          5359.08930056447,
          5674.32984765649,
          4413.36765928838,
          5359.08930056447,
          5989.57039474852,
          5674.32984765649,
          5674.3298476565,
          4413.36765928838,
          4098.12711219636,
          4728.60820638041,
          5359.08930056447,
          5674.32984765649,
          5359.08930056447,
          4098.12711219636,
          5043.84875347244,
          4728.60820638041,
          4728.60820638041,
          5674.32984765649,
          5359.08930056447,
          5359.08930056447,
          4728.60820638041,
          5043.84875347244,
          4098.12711219636,
          5359.08930056447,
          5359.08930056447
         ],
         "yaxis": "y"
        },
        {
         "hovertemplate": "<b>OLS trendline</b><br>density_total = 4.72565 * mean_u_25 + 5016.32<br>R<sup>2</sup>=0.000018<br><br>site=Interior<br>run=Baseline Run<br>mean_u_25=%{x}<br>density_total=%{y} <b>(trend)</b><extra></extra>",
         "legendgroup": "Interior, Baseline Run",
         "marker": {
          "color": "#00cc96",
          "symbol": "diamond"
         },
         "mode": "lines",
         "name": "Interior, Baseline Run",
         "showlegend": false,
         "type": "scatter",
         "x": [
          10.564960931548402,
          10.564960931548402,
          10.610842319010464,
          10.610842319010464,
          10.766278978350103,
          10.766278978350103,
          11.044247280211106,
          11.044247280211106,
          11.074117120333446,
          11.074117120333446,
          11.074994425515872,
          11.074994425515872,
          11.226601817789735,
          11.226601817789735,
          11.35995057051224,
          11.35995057051224,
          11.386432925747325,
          11.386432925747325,
          11.403485679015631,
          11.403485679015631,
          11.436665416090609,
          11.436665416090609,
          11.45024980307172,
          11.45024980307172,
          11.592762914696792,
          11.592762914696792,
          11.663782994882144,
          11.663782994882144,
          11.764142619491881,
          11.764142619491881,
          11.766620000325165,
          11.766620000325165,
          11.807010306305619,
          11.807010306305619,
          12.91300486798032,
          12.91300486798032
         ],
         "xaxis": "x",
         "y": [
          5066.249840477297,
          5066.249840477297,
          5066.466659978892,
          5066.466659978892,
          5067.201199644579,
          5067.201199644579,
          5068.51478129506,
          5068.51478129506,
          5068.655935785068,
          5068.655935785068,
          5068.660081624654,
          5068.660081624654,
          5069.376525504172,
          5069.376525504172,
          5070.006685394771,
          5070.006685394771,
          5070.131831807745,
          5070.131831807745,
          5070.212417196919,
          5070.212417196919,
          5070.369213110329,
          5070.369213110329,
          5070.433408205065,
          5070.433408205065,
          5071.106875672867,
          5071.106875672867,
          5071.442491905087,
          5071.442491905087,
          5071.916756634029,
          5071.916756634029,
          5071.928463875402,
          5071.928463875402,
          5072.11933443308,
          5072.11933443308,
          5077.345880596874,
          5077.345880596874
         ],
         "yaxis": "y"
        }
       ],
       "layout": {
        "autosize": true,
        "legend": {
         "title": {
          "text": "site, run"
         },
         "tracegroupgap": 0
        },
        "margin": {
         "t": 60
        },
        "template": {
         "data": {
          "bar": [
           {
            "error_x": {
             "color": "#f2f5fa"
            },
            "error_y": {
             "color": "#f2f5fa"
            },
            "marker": {
             "line": {
              "color": "rgb(17,17,17)",
              "width": 0.5
             },
             "pattern": {
              "fillmode": "overlay",
              "size": 10,
              "solidity": 0.2
             }
            },
            "type": "bar"
           }
          ],
          "barpolar": [
           {
            "marker": {
             "line": {
              "color": "rgb(17,17,17)",
              "width": 0.5
             },
             "pattern": {
              "fillmode": "overlay",
              "size": 10,
              "solidity": 0.2
             }
            },
            "type": "barpolar"
           }
          ],
          "carpet": [
           {
            "aaxis": {
             "endlinecolor": "#A2B1C6",
             "gridcolor": "#506784",
             "linecolor": "#506784",
             "minorgridcolor": "#506784",
             "startlinecolor": "#A2B1C6"
            },
            "baxis": {
             "endlinecolor": "#A2B1C6",
             "gridcolor": "#506784",
             "linecolor": "#506784",
             "minorgridcolor": "#506784",
             "startlinecolor": "#A2B1C6"
            },
            "type": "carpet"
           }
          ],
          "choropleth": [
           {
            "colorbar": {
             "outlinewidth": 0,
             "ticks": ""
            },
            "type": "choropleth"
           }
          ],
          "contour": [
           {
            "colorbar": {
             "outlinewidth": 0,
             "ticks": ""
            },
            "colorscale": [
             [
              0,
              "#0d0887"
             ],
             [
              0.1111111111111111,
              "#46039f"
             ],
             [
              0.2222222222222222,
              "#7201a8"
             ],
             [
              0.3333333333333333,
              "#9c179e"
             ],
             [
              0.4444444444444444,
              "#bd3786"
             ],
             [
              0.5555555555555556,
              "#d8576b"
             ],
             [
              0.6666666666666666,
              "#ed7953"
             ],
             [
              0.7777777777777778,
              "#fb9f3a"
             ],
             [
              0.8888888888888888,
              "#fdca26"
             ],
             [
              1,
              "#f0f921"
             ]
            ],
            "type": "contour"
           }
          ],
          "contourcarpet": [
           {
            "colorbar": {
             "outlinewidth": 0,
             "ticks": ""
            },
            "type": "contourcarpet"
           }
          ],
          "heatmap": [
           {
            "colorbar": {
             "outlinewidth": 0,
             "ticks": ""
            },
            "colorscale": [
             [
              0,
              "#0d0887"
             ],
             [
              0.1111111111111111,
              "#46039f"
             ],
             [
              0.2222222222222222,
              "#7201a8"
             ],
             [
              0.3333333333333333,
              "#9c179e"
             ],
             [
              0.4444444444444444,
              "#bd3786"
             ],
             [
              0.5555555555555556,
              "#d8576b"
             ],
             [
              0.6666666666666666,
              "#ed7953"
             ],
             [
              0.7777777777777778,
              "#fb9f3a"
             ],
             [
              0.8888888888888888,
              "#fdca26"
             ],
             [
              1,
              "#f0f921"
             ]
            ],
            "type": "heatmap"
           }
          ],
          "heatmapgl": [
           {
            "colorbar": {
             "outlinewidth": 0,
             "ticks": ""
            },
            "colorscale": [
             [
              0,
              "#0d0887"
             ],
             [
              0.1111111111111111,
              "#46039f"
             ],
             [
              0.2222222222222222,
              "#7201a8"
             ],
             [
              0.3333333333333333,
              "#9c179e"
             ],
             [
              0.4444444444444444,
              "#bd3786"
             ],
             [
              0.5555555555555556,
              "#d8576b"
             ],
             [
              0.6666666666666666,
              "#ed7953"
             ],
             [
              0.7777777777777778,
              "#fb9f3a"
             ],
             [
              0.8888888888888888,
              "#fdca26"
             ],
             [
              1,
              "#f0f921"
             ]
            ],
            "type": "heatmapgl"
           }
          ],
          "histogram": [
           {
            "marker": {
             "pattern": {
              "fillmode": "overlay",
              "size": 10,
              "solidity": 0.2
             }
            },
            "type": "histogram"
           }
          ],
          "histogram2d": [
           {
            "colorbar": {
             "outlinewidth": 0,
             "ticks": ""
            },
            "colorscale": [
             [
              0,
              "#0d0887"
             ],
             [
              0.1111111111111111,
              "#46039f"
             ],
             [
              0.2222222222222222,
              "#7201a8"
             ],
             [
              0.3333333333333333,
              "#9c179e"
             ],
             [
              0.4444444444444444,
              "#bd3786"
             ],
             [
              0.5555555555555556,
              "#d8576b"
             ],
             [
              0.6666666666666666,
              "#ed7953"
             ],
             [
              0.7777777777777778,
              "#fb9f3a"
             ],
             [
              0.8888888888888888,
              "#fdca26"
             ],
             [
              1,
              "#f0f921"
             ]
            ],
            "type": "histogram2d"
           }
          ],
          "histogram2dcontour": [
           {
            "colorbar": {
             "outlinewidth": 0,
             "ticks": ""
            },
            "colorscale": [
             [
              0,
              "#0d0887"
             ],
             [
              0.1111111111111111,
              "#46039f"
             ],
             [
              0.2222222222222222,
              "#7201a8"
             ],
             [
              0.3333333333333333,
              "#9c179e"
             ],
             [
              0.4444444444444444,
              "#bd3786"
             ],
             [
              0.5555555555555556,
              "#d8576b"
             ],
             [
              0.6666666666666666,
              "#ed7953"
             ],
             [
              0.7777777777777778,
              "#fb9f3a"
             ],
             [
              0.8888888888888888,
              "#fdca26"
             ],
             [
              1,
              "#f0f921"
             ]
            ],
            "type": "histogram2dcontour"
           }
          ],
          "mesh3d": [
           {
            "colorbar": {
             "outlinewidth": 0,
             "ticks": ""
            },
            "type": "mesh3d"
           }
          ],
          "parcoords": [
           {
            "line": {
             "colorbar": {
              "outlinewidth": 0,
              "ticks": ""
             }
            },
            "type": "parcoords"
           }
          ],
          "pie": [
           {
            "automargin": true,
            "type": "pie"
           }
          ],
          "scatter": [
           {
            "marker": {
             "line": {
              "color": "#283442"
             }
            },
            "type": "scatter"
           }
          ],
          "scatter3d": [
           {
            "line": {
             "colorbar": {
              "outlinewidth": 0,
              "ticks": ""
             }
            },
            "marker": {
             "colorbar": {
              "outlinewidth": 0,
              "ticks": ""
             }
            },
            "type": "scatter3d"
           }
          ],
          "scattercarpet": [
           {
            "marker": {
             "colorbar": {
              "outlinewidth": 0,
              "ticks": ""
             }
            },
            "type": "scattercarpet"
           }
          ],
          "scattergeo": [
           {
            "marker": {
             "colorbar": {
              "outlinewidth": 0,
              "ticks": ""
             }
            },
            "type": "scattergeo"
           }
          ],
          "scattergl": [
           {
            "marker": {
             "line": {
              "color": "#283442"
             }
            },
            "type": "scattergl"
           }
          ],
          "scattermapbox": [
           {
            "marker": {
             "colorbar": {
              "outlinewidth": 0,
              "ticks": ""
             }
            },
            "type": "scattermapbox"
           }
          ],
          "scatterpolar": [
           {
            "marker": {
             "colorbar": {
              "outlinewidth": 0,
              "ticks": ""
             }
            },
            "type": "scatterpolar"
           }
          ],
          "scatterpolargl": [
           {
            "marker": {
             "colorbar": {
              "outlinewidth": 0,
              "ticks": ""
             }
            },
            "type": "scatterpolargl"
           }
          ],
          "scatterternary": [
           {
            "marker": {
             "colorbar": {
              "outlinewidth": 0,
              "ticks": ""
             }
            },
            "type": "scatterternary"
           }
          ],
          "surface": [
           {
            "colorbar": {
             "outlinewidth": 0,
             "ticks": ""
            },
            "colorscale": [
             [
              0,
              "#0d0887"
             ],
             [
              0.1111111111111111,
              "#46039f"
             ],
             [
              0.2222222222222222,
              "#7201a8"
             ],
             [
              0.3333333333333333,
              "#9c179e"
             ],
             [
              0.4444444444444444,
              "#bd3786"
             ],
             [
              0.5555555555555556,
              "#d8576b"
             ],
             [
              0.6666666666666666,
              "#ed7953"
             ],
             [
              0.7777777777777778,
              "#fb9f3a"
             ],
             [
              0.8888888888888888,
              "#fdca26"
             ],
             [
              1,
              "#f0f921"
             ]
            ],
            "type": "surface"
           }
          ],
          "table": [
           {
            "cells": {
             "fill": {
              "color": "#506784"
             },
             "line": {
              "color": "rgb(17,17,17)"
             }
            },
            "header": {
             "fill": {
              "color": "#2a3f5f"
             },
             "line": {
              "color": "rgb(17,17,17)"
             }
            },
            "type": "table"
           }
          ]
         },
         "layout": {
          "annotationdefaults": {
           "arrowcolor": "#f2f5fa",
           "arrowhead": 0,
           "arrowwidth": 1
          },
          "autotypenumbers": "strict",
          "coloraxis": {
           "colorbar": {
            "outlinewidth": 0,
            "ticks": ""
           }
          },
          "colorscale": {
           "diverging": [
            [
             0,
             "#8e0152"
            ],
            [
             0.1,
             "#c51b7d"
            ],
            [
             0.2,
             "#de77ae"
            ],
            [
             0.3,
             "#f1b6da"
            ],
            [
             0.4,
             "#fde0ef"
            ],
            [
             0.5,
             "#f7f7f7"
            ],
            [
             0.6,
             "#e6f5d0"
            ],
            [
             0.7,
             "#b8e186"
            ],
            [
             0.8,
             "#7fbc41"
            ],
            [
             0.9,
             "#4d9221"
            ],
            [
             1,
             "#276419"
            ]
           ],
           "sequential": [
            [
             0,
             "#0d0887"
            ],
            [
             0.1111111111111111,
             "#46039f"
            ],
            [
             0.2222222222222222,
             "#7201a8"
            ],
            [
             0.3333333333333333,
             "#9c179e"
            ],
            [
             0.4444444444444444,
             "#bd3786"
            ],
            [
             0.5555555555555556,
             "#d8576b"
            ],
            [
             0.6666666666666666,
             "#ed7953"
            ],
            [
             0.7777777777777778,
             "#fb9f3a"
            ],
            [
             0.8888888888888888,
             "#fdca26"
            ],
            [
             1,
             "#f0f921"
            ]
           ],
           "sequentialminus": [
            [
             0,
             "#0d0887"
            ],
            [
             0.1111111111111111,
             "#46039f"
            ],
            [
             0.2222222222222222,
             "#7201a8"
            ],
            [
             0.3333333333333333,
             "#9c179e"
            ],
            [
             0.4444444444444444,
             "#bd3786"
            ],
            [
             0.5555555555555556,
             "#d8576b"
            ],
            [
             0.6666666666666666,
             "#ed7953"
            ],
            [
             0.7777777777777778,
             "#fb9f3a"
            ],
            [
             0.8888888888888888,
             "#fdca26"
            ],
            [
             1,
             "#f0f921"
            ]
           ]
          },
          "colorway": [
           "#636efa",
           "#EF553B",
           "#00cc96",
           "#ab63fa",
           "#FFA15A",
           "#19d3f3",
           "#FF6692",
           "#B6E880",
           "#FF97FF",
           "#FECB52"
          ],
          "font": {
           "color": "#f2f5fa"
          },
          "geo": {
           "bgcolor": "rgb(17,17,17)",
           "lakecolor": "rgb(17,17,17)",
           "landcolor": "rgb(17,17,17)",
           "showlakes": true,
           "showland": true,
           "subunitcolor": "#506784"
          },
          "hoverlabel": {
           "align": "left"
          },
          "hovermode": "closest",
          "mapbox": {
           "style": "dark"
          },
          "paper_bgcolor": "rgb(17,17,17)",
          "plot_bgcolor": "rgb(17,17,17)",
          "polar": {
           "angularaxis": {
            "gridcolor": "#506784",
            "linecolor": "#506784",
            "ticks": ""
           },
           "bgcolor": "rgb(17,17,17)",
           "radialaxis": {
            "gridcolor": "#506784",
            "linecolor": "#506784",
            "ticks": ""
           }
          },
          "scene": {
           "xaxis": {
            "backgroundcolor": "rgb(17,17,17)",
            "gridcolor": "#506784",
            "gridwidth": 2,
            "linecolor": "#506784",
            "showbackground": true,
            "ticks": "",
            "zerolinecolor": "#C8D4E3"
           },
           "yaxis": {
            "backgroundcolor": "rgb(17,17,17)",
            "gridcolor": "#506784",
            "gridwidth": 2,
            "linecolor": "#506784",
            "showbackground": true,
            "ticks": "",
            "zerolinecolor": "#C8D4E3"
           },
           "zaxis": {
            "backgroundcolor": "rgb(17,17,17)",
            "gridcolor": "#506784",
            "gridwidth": 2,
            "linecolor": "#506784",
            "showbackground": true,
            "ticks": "",
            "zerolinecolor": "#C8D4E3"
           }
          },
          "shapedefaults": {
           "line": {
            "color": "#f2f5fa"
           }
          },
          "sliderdefaults": {
           "bgcolor": "#C8D4E3",
           "bordercolor": "rgb(17,17,17)",
           "borderwidth": 1,
           "tickwidth": 0
          },
          "ternary": {
           "aaxis": {
            "gridcolor": "#506784",
            "linecolor": "#506784",
            "ticks": ""
           },
           "baxis": {
            "gridcolor": "#506784",
            "linecolor": "#506784",
            "ticks": ""
           },
           "bgcolor": "rgb(17,17,17)",
           "caxis": {
            "gridcolor": "#506784",
            "linecolor": "#506784",
            "ticks": ""
           }
          },
          "title": {
           "x": 0.05
          },
          "updatemenudefaults": {
           "bgcolor": "#506784",
           "borderwidth": 0
          },
          "xaxis": {
           "automargin": true,
           "gridcolor": "#283442",
           "linecolor": "#506784",
           "ticks": "",
           "title": {
            "standoff": 15
           },
           "zerolinecolor": "#283442",
           "zerolinewidth": 2
          },
          "yaxis": {
           "automargin": true,
           "gridcolor": "#283442",
           "linecolor": "#506784",
           "ticks": "",
           "title": {
            "standoff": 15
           },
           "zerolinecolor": "#283442",
           "zerolinewidth": 2
          }
         }
        },
        "xaxis": {
         "anchor": "y",
         "domain": [
          0,
          1
         ],
         "title": {
          "text": "mean_u_25"
         }
        },
        "yaxis": {
         "anchor": "x",
         "domain": [
          0,
          1
         ],
         "title": {
          "text": "density_total"
         }
        }
       }
      }
     },
     "metadata": {},
     "output_type": "display_data"
    }
   ],
   "source": [
    "fig = px.scatter(dff, x='mean_u_25', y='density_total', symbol='run', color='site', trendline='ols', template='plotly_dark')\n",
    "#fig = px.scatter(base_df, x='mean_u_25', y='density_total', symbol='site', color='site')\n",
    "fig.update_layout(\n",
    "    autosize=True,)\n",
    "fig.show()"
   ]
  },
  {
   "cell_type": "code",
   "execution_count": 200,
   "metadata": {},
   "outputs": [
    {
     "data": {
      "application/vnd.plotly.v1+json": {
       "config": {
        "plotlyServerURL": "https://plot.ly"
       },
       "data": [
        {
         "hovertemplate": "site=Bay<br>run=Vegetated Run<br>mean_u=%{x}<br>Hveg/WC=%{y}<extra></extra>",
         "legendgroup": "Bay, Vegetated Run",
         "marker": {
          "color": "#636efa",
          "symbol": "circle"
         },
         "mode": "markers",
         "name": "Bay, Vegetated Run",
         "orientation": "v",
         "showlegend": true,
         "type": "scatter",
         "x": [
          1.3592650169565137,
          0.5103025642236216,
          0.3286437924729354,
          0.45515997537639585,
          0.698899136355107,
          0.5200176014225153,
          0.3265804713721051,
          1.3621275004736746,
          0.9057318120811019,
          0.543751367828793,
          0.38082686886336153,
          0.20112182662794495,
          0.7625154658544469,
          0.40975347369678367,
          1.2777263819523763,
          0.8709433130067955,
          0.26654950669580113,
          0.17164323846681598,
          0.47691502456706003,
          0.8433391850343966,
          0.3290697201519917,
          0.9916123850499081,
          0.25945525042793266,
          0.35722004861242634,
          0.4263030163263412,
          0.5950197344133862,
          0.5158934199389179,
          0.7439415723306905,
          0.7977465341310799,
          0.5779043553844703,
          0.5412187000103333,
          0.6836638936476852,
          0.4632916358853887,
          0.369575831093671,
          0.7221646733015429,
          0.6553435740122208,
          0.5826878863742487,
          1.3089906898905679,
          0.10171930592298131,
          0.14852464806883567,
          0.40950966157062546,
          0.2716526334527395
         ],
         "xaxis": "x",
         "y": [
          9.61680722000296,
          22.657054582904223,
          33.622367722527,
          26.525198938992038,
          18.787361229718186,
          25.465541938564385,
          35.48196333530455,
          9.060706735125342,
          14.15285078851598,
          23.398128149748015,
          31.13648157758173,
          44.20265215912954,
          17.58312020460358,
          30.01650907999399,
          9.775171065493648,
          14.53752498637107,
          36.266463065470525,
          45.89682393978339,
          25.882787946015913,
          15.40041067761807,
          34.682080924855505,
          14.795088030773785,
          37.075180226570545,
          31.85276942134137,
          28.29354553492484,
          22.203245089666947,
          25.465541938564385,
          19.219396806623298,
          18.121413470250683,
          22.2401940962394,
          23.398128149748015,
          19.027849852966614,
          27.201632097925874,
          31.969309462915604,
          19.510730901996094,
          21.17953730856957,
          21.806287479556605,
          7.635044855888531,
          55.07618872774007,
          49.91680532445926,
          29.089664613278575,
          37.98513625103222
         ],
         "yaxis": "y"
        },
        {
         "hovertemplate": "<b>OLS trendline</b><br>Hveg/WC = -31.0311 * mean_u + 44.0054<br>R<sup>2</sup>=0.837825<br><br>site=Bay<br>run=Vegetated Run<br>mean_u=%{x}<br>Hveg/WC=%{y} <b>(trend)</b><extra></extra>",
         "legendgroup": "Bay, Vegetated Run",
         "marker": {
          "color": "#636efa",
          "symbol": "circle"
         },
         "mode": "lines",
         "name": "Bay, Vegetated Run",
         "showlegend": false,
         "type": "scatter",
         "x": [
          0.10171930592298131,
          0.14852464806883567,
          0.17164323846681598,
          0.20112182662794495,
          0.25945525042793266,
          0.26654950669580113,
          0.2716526334527395,
          0.3265804713721051,
          0.3286437924729354,
          0.3290697201519917,
          0.35722004861242634,
          0.369575831093671,
          0.38082686886336153,
          0.40950966157062546,
          0.40975347369678367,
          0.4263030163263412,
          0.45515997537639585,
          0.4632916358853887,
          0.47691502456706003,
          0.5103025642236216,
          0.5158934199389179,
          0.5200176014225153,
          0.5412187000103333,
          0.543751367828793,
          0.5779043553844703,
          0.5826878863742487,
          0.5950197344133862,
          0.6553435740122208,
          0.6836638936476852,
          0.698899136355107,
          0.7221646733015429,
          0.7439415723306905,
          0.7625154658544469,
          0.7977465341310799,
          0.8433391850343966,
          0.8709433130067955,
          0.9057318120811019,
          0.9916123850499081,
          1.2777263819523763,
          1.3089906898905679,
          1.3592650169565137,
          1.3621275004736746
         ],
         "xaxis": "x",
         "y": [
          40.84894238042119,
          39.396522107197704,
          38.67912730047369,
          37.76437490024961,
          35.95422581364275,
          35.734083386421815,
          35.575727856501544,
          33.87125777465028,
          33.80723069441493,
          33.79401369892624,
          32.92047863050549,
          32.53706536730625,
          32.18793352460805,
          31.297875516039753,
          31.290309762673687,
          30.776759596693864,
          29.881297018570365,
          29.628962818311173,
          29.20621436687152,
          28.17016298369542,
          27.99667269790156,
          27.868694896167653,
          27.210801929428936,
          27.132210514085607,
          26.072406456624854,
          25.923968328227105,
          25.54129777659348,
          23.66938393994205,
          22.790573861927037,
          22.31780784075824,
          21.59585312406942,
          20.920092448304842,
          20.34372448965319,
          19.250466424092078,
          17.83567726870838,
          16.97909139082224,
          15.899566725174338,
          13.234599874440804,
          4.356173812321877,
          3.3860086004913867,
          1.825941981905295,
          1.737116029535649
         ],
         "yaxis": "y"
        },
        {
         "hovertemplate": "site=Bay<br>run=Baseline Run<br>mean_u=%{x}<br>Hveg/WC=%{y}<extra></extra>",
         "legendgroup": "Bay, Baseline Run",
         "marker": {
          "color": "#636efa",
          "symbol": "diamond"
         },
         "mode": "markers",
         "name": "Bay, Baseline Run",
         "orientation": "v",
         "showlegend": true,
         "type": "scatter",
         "x": [
          12.666596046563184,
          10.51859039204306,
          11.577230183104732,
          11.58134720129095,
          11.785364586021501,
          12.210514583684175,
          12.67129969658718,
          12.537029448922363,
          10.692235430430411,
          11.479017042446284,
          11.710292415099374,
          11.81263699102164,
          12.184132781358366,
          12.575944820816172,
          12.068157767829915,
          11.423857532362923,
          11.145034917040466,
          11.365284932633738,
          11.325366725827468,
          11.774235496098159,
          11.985909895842886,
          12.666596046563184,
          10.51859039204306,
          11.577230183104732,
          11.58134720129095,
          11.785364586021501,
          12.210514583684175,
          12.67129969658718,
          12.537029448922363,
          10.692235430430411,
          11.479017042446284,
          11.710292415099374,
          11.81263699102164,
          12.184132781358366,
          12.575944820816172,
          12.068157767829915,
          11.423857532362923,
          11.145034917040466,
          11.365284932633738,
          11.325366725827468,
          11.774235496098159,
          11.985909895842886
         ],
         "xaxis": "x",
         "y": [
          9.61680722000296,
          22.657054582904223,
          33.622367722527,
          26.525198938992038,
          18.787361229718186,
          25.465541938564385,
          35.48196333530455,
          9.060706735125342,
          14.15285078851598,
          23.398128149748015,
          31.13648157758173,
          44.20265215912954,
          17.58312020460358,
          30.01650907999399,
          9.775171065493648,
          14.53752498637107,
          36.266463065470525,
          45.89682393978339,
          25.882787946015913,
          15.40041067761807,
          34.682080924855505,
          14.795088030773785,
          37.075180226570545,
          31.85276942134137,
          28.29354553492484,
          22.203245089666947,
          25.465541938564385,
          19.219396806623298,
          18.121413470250683,
          22.2401940962394,
          23.398128149748015,
          19.027849852966614,
          27.201632097925874,
          31.969309462915604,
          19.510730901996094,
          21.17953730856957,
          21.806287479556605,
          7.635044855888531,
          55.07618872774007,
          49.91680532445926,
          29.089664613278575,
          37.98513625103222
         ],
         "yaxis": "y"
        },
        {
         "hovertemplate": "<b>OLS trendline</b><br>Hveg/WC = -4.23617 * mean_u + 75.7296<br>R<sup>2</sup>=0.051606<br><br>site=Bay<br>run=Baseline Run<br>mean_u=%{x}<br>Hveg/WC=%{y} <b>(trend)</b><extra></extra>",
         "legendgroup": "Bay, Baseline Run",
         "marker": {
          "color": "#636efa",
          "symbol": "diamond"
         },
         "mode": "lines",
         "name": "Bay, Baseline Run",
         "showlegend": false,
         "type": "scatter",
         "x": [
          10.51859039204306,
          10.51859039204306,
          10.692235430430411,
          10.692235430430411,
          11.145034917040466,
          11.145034917040466,
          11.325366725827468,
          11.325366725827468,
          11.365284932633738,
          11.365284932633738,
          11.423857532362923,
          11.423857532362923,
          11.479017042446284,
          11.479017042446284,
          11.577230183104732,
          11.577230183104732,
          11.58134720129095,
          11.58134720129095,
          11.710292415099374,
          11.710292415099374,
          11.774235496098159,
          11.774235496098159,
          11.785364586021501,
          11.785364586021501,
          11.81263699102164,
          11.81263699102164,
          11.985909895842886,
          11.985909895842886,
          12.068157767829915,
          12.068157767829915,
          12.184132781358366,
          12.184132781358366,
          12.210514583684175,
          12.210514583684175,
          12.537029448922363,
          12.537029448922363,
          12.575944820816172,
          12.575944820816172,
          12.666596046563184,
          12.666596046563184,
          12.67129969658718,
          12.67129969658718
         ],
         "xaxis": "x",
         "y": [
          31.17103437755187,
          31.17103437755187,
          30.43544399293617,
          30.43544399293617,
          28.517307133959015,
          28.517307133959015,
          27.753390434604945,
          27.753390434604945,
          27.584290013593822,
          27.584290013593822,
          27.336166361096353,
          27.336166361096353,
          27.102501146044702,
          27.102501146044702,
          26.686453313165615,
          26.686453313165615,
          26.669012912799474,
          26.669012912799474,
          26.12277870823724,
          26.12277870823724,
          25.851904769181836,
          25.851904769181836,
          25.804760021406935,
          25.804760021406935,
          25.689229401760343,
          25.689229401760343,
          24.955215439227082,
          24.955215439227082,
          24.606799242884044,
          24.606799242884044,
          24.115509047670386,
          24.115509047670386,
          24.003751174828622,
          24.003751174828622,
          22.62057779116114,
          22.62057779116114,
          22.455725552106813,
          22.455725552106813,
          22.071711297323553,
          22.071711297323553,
          22.051785823135624,
          22.051785823135624
         ],
         "yaxis": "y"
        },
        {
         "hovertemplate": "site=Creek<br>run=Vegetated Run<br>mean_u=%{x}<br>Hveg/WC=%{y}<extra></extra>",
         "legendgroup": "Creek, Vegetated Run",
         "marker": {
          "color": "#EF553B",
          "symbol": "circle"
         },
         "mode": "markers",
         "name": "Creek, Vegetated Run",
         "orientation": "v",
         "showlegend": true,
         "type": "scatter",
         "x": [
          0.7012205971671923,
          0.9762512932924693,
          0.5554442297995603,
          0.4413861500219262,
          0.690553787409425,
          0.7992741099075418,
          0.8898439756923031,
          0.5908675654258939,
          0.4397756349892603,
          0.6760749858908367,
          0.5363194580364846,
          0.46909420986116634,
          0.8287400877592603,
          0.8086795514175197,
          0.5651702857145902,
          0.4950741918960787,
          0.6446474608426062,
          0.49707070332813225,
          0.7908562660418602,
          0.8493201150638061,
          0.5887136684876483,
          0.3123951438875673,
          0.9069496709412486,
          0.35088555805782906,
          1.108348388807586,
          0.8269815667876742,
          0.5296118922434696,
          0.7858527847810537,
          0.652363195535387,
          0.697215243347076,
          1.3861057989652343,
          1.3480995087939405,
          0.7336325640708997,
          0.46237621879014545,
          0.5352518203519523,
          0.8365373645640469
         ],
         "xaxis": "x",
         "y": [
          22.393630256282663,
          16.672224074691567,
          24.82159478746509,
          29.252596167909903,
          20.446911055936912,
          18.67279517380064,
          17.414601473543208,
          24.340770791075048,
          29.66478789676654,
          20.64287820701858,
          26.079397276151845,
          27.676620538965764,
          19.897003745318354,
          20.214916480476646,
          24.020417354751533,
          28.67491699366134,
          22.30483271375465,
          26.90985199581403,
          19.9054491166957,
          18.89518728465044,
          23.270245113248524,
          36.56574520988738,
          16.065430115379,
          34.472852628555025,
          13.39584728734093,
          17.57944557133198,
          25.215069712251562,
          17.69389560601593,
          21.73283106345987,
          20.393299344501088,
          10.533707865168541,
          11.703372699223323,
          19.516589100735622,
          28.67491699366134,
          25.278810408921938,
          16.444909552997462
         ],
         "yaxis": "y"
        },
        {
         "hovertemplate": "<b>OLS trendline</b><br>Hveg/WC = -22.5281 * mean_u + 37.9877<br>R<sup>2</sup>=0.884319<br><br>site=Creek<br>run=Vegetated Run<br>mean_u=%{x}<br>Hveg/WC=%{y} <b>(trend)</b><extra></extra>",
         "legendgroup": "Creek, Vegetated Run",
         "marker": {
          "color": "#EF553B",
          "symbol": "circle"
         },
         "mode": "lines",
         "name": "Creek, Vegetated Run",
         "showlegend": false,
         "type": "scatter",
         "x": [
          0.3123951438875673,
          0.35088555805782906,
          0.4397756349892603,
          0.4413861500219262,
          0.46237621879014545,
          0.46909420986116634,
          0.4950741918960787,
          0.49707070332813225,
          0.5296118922434696,
          0.5352518203519523,
          0.5363194580364846,
          0.5554442297995603,
          0.5651702857145902,
          0.5887136684876483,
          0.5908675654258939,
          0.6446474608426062,
          0.652363195535387,
          0.6760749858908367,
          0.690553787409425,
          0.697215243347076,
          0.7012205971671923,
          0.7336325640708997,
          0.7858527847810537,
          0.7908562660418602,
          0.7992741099075418,
          0.8086795514175197,
          0.8269815667876742,
          0.8287400877592603,
          0.8365373645640469,
          0.8493201150638061,
          0.8898439756923031,
          0.9069496709412486,
          0.9762512932924693,
          1.108348388807586,
          1.3480995087939405,
          1.3861057989652343
         ],
         "xaxis": "x",
         "y": [
          30.950024584765217,
          30.082907784648768,
          28.08038116256739,
          28.04409928117513,
          27.57123242180564,
          27.419888689962526,
          26.83460844876935,
          26.78963079286001,
          26.05653887341652,
          25.929481877025644,
          25.905430003522795,
          25.47458478526146,
          25.255474997419523,
          24.725086765071957,
          24.676563509057864,
          23.46500338871064,
          23.29118236543569,
          22.757000226290636,
          22.430819999006424,
          22.28074989762426,
          22.19051679250697,
          21.460336002487377,
          20.283912426392213,
          20.17119338312286,
          19.981555157761047,
          19.7696682107997,
          19.357358150085627,
          19.317741972637542,
          19.142083958601088,
          18.854112577960507,
          17.94118604510714,
          17.55582683170869,
          15.99459133161118,
          13.018691663162233,
          7.617548846997831,
          6.761338452070678
         ],
         "yaxis": "y"
        },
        {
         "hovertemplate": "site=Creek<br>run=Baseline Run<br>mean_u=%{x}<br>Hveg/WC=%{y}<extra></extra>",
         "legendgroup": "Creek, Baseline Run",
         "marker": {
          "color": "#EF553B",
          "symbol": "diamond"
         },
         "mode": "markers",
         "name": "Creek, Baseline Run",
         "orientation": "v",
         "showlegend": true,
         "type": "scatter",
         "x": [
          13.817708332780828,
          14.621487725586963,
          12.368587295543255,
          12.739775223497649,
          12.749126791804448,
          12.856180926516961,
          13.314314111715754,
          13.2515067494333,
          12.650590555087883,
          12.688218399138787,
          12.800438298798559,
          12.765942351993685,
          14.24746095527085,
          14.945568351612035,
          12.574049304189142,
          12.540831386423696,
          12.634564788150003,
          12.60056058924204,
          13.817708332780828,
          14.621487725586963,
          12.368587295543255,
          12.739775223497649,
          12.749126791804448,
          12.856180926516961,
          13.314314111715754,
          13.2515067494333,
          12.650590555087883,
          12.688218399138787,
          12.800438298798559,
          12.765942351993685,
          14.24746095527085,
          14.945568351612035,
          12.574049304189142,
          12.540831386423696,
          12.634564788150003,
          12.60056058924204
         ],
         "xaxis": "x",
         "y": [
          22.393630256282663,
          16.672224074691567,
          24.82159478746509,
          29.252596167909903,
          20.446911055936912,
          18.67279517380064,
          17.414601473543208,
          24.340770791075048,
          29.66478789676654,
          20.64287820701858,
          26.079397276151845,
          27.676620538965764,
          19.897003745318354,
          20.214916480476646,
          24.020417354751533,
          28.67491699366134,
          22.30483271375465,
          26.90985199581403,
          19.9054491166957,
          18.89518728465044,
          23.270245113248524,
          36.56574520988738,
          16.065430115379,
          34.472852628555025,
          13.39584728734093,
          17.57944557133198,
          25.215069712251562,
          17.69389560601593,
          21.73283106345987,
          20.393299344501088,
          10.533707865168541,
          11.703372699223323,
          19.516589100735622,
          28.67491699366134,
          25.278810408921938,
          16.444909552997462
         ],
         "yaxis": "y"
        },
        {
         "hovertemplate": "<b>OLS trendline</b><br>Hveg/WC = -3.92738 * mean_u + 73.6798<br>R<sup>2</sup>=0.261186<br><br>site=Creek<br>run=Baseline Run<br>mean_u=%{x}<br>Hveg/WC=%{y} <b>(trend)</b><extra></extra>",
         "legendgroup": "Creek, Baseline Run",
         "marker": {
          "color": "#EF553B",
          "symbol": "diamond"
         },
         "mode": "lines",
         "name": "Creek, Baseline Run",
         "showlegend": false,
         "type": "scatter",
         "x": [
          12.368587295543255,
          12.368587295543255,
          12.540831386423696,
          12.540831386423696,
          12.574049304189142,
          12.574049304189142,
          12.60056058924204,
          12.60056058924204,
          12.634564788150003,
          12.634564788150003,
          12.650590555087883,
          12.650590555087883,
          12.688218399138787,
          12.688218399138787,
          12.739775223497649,
          12.739775223497649,
          12.749126791804448,
          12.749126791804448,
          12.765942351993685,
          12.765942351993685,
          12.800438298798559,
          12.800438298798559,
          12.856180926516961,
          12.856180926516961,
          13.2515067494333,
          13.2515067494333,
          13.314314111715754,
          13.314314111715754,
          13.817708332780828,
          13.817708332780828,
          14.24746095527085,
          14.24746095527085,
          14.621487725586963,
          14.621487725586963,
          14.945568351612035,
          14.945568351612035
         ],
         "xaxis": "x",
         "y": [
          25.103654915758106,
          25.103654915758106,
          24.427187325714826,
          24.427187325714826,
          24.296728018448107,
          24.296728018448107,
          24.192608190493416,
          24.192608190493416,
          24.059060860253858,
          24.059060860253858,
          23.996121621620773,
          23.996121621620773,
          23.848342868494733,
          23.848342868494733,
          23.645859749648395,
          23.645859749648395,
          23.609132609441204,
          23.609132609441204,
          23.54309155445757,
          23.54309155445757,
          23.40761294452632,
          23.40761294452632,
          23.188690595187076,
          23.188690595187076,
          21.63609680028167,
          21.63609680028167,
          21.389428570428265,
          21.389428570428265,
          19.412409365734746,
          19.412409365734746,
          17.724608528187296,
          17.724608528187296,
          16.255664156080847,
          16.255664156080847,
          14.982877153947506,
          14.982877153947506
         ],
         "yaxis": "y"
        },
        {
         "hovertemplate": "site=Interior<br>run=Vegetated Run<br>mean_u=%{x}<br>Hveg/WC=%{y}<extra></extra>",
         "legendgroup": "Interior, Vegetated Run",
         "marker": {
          "color": "#00cc96",
          "symbol": "circle"
         },
         "mode": "markers",
         "name": "Interior, Vegetated Run",
         "orientation": "v",
         "showlegend": true,
         "type": "scatter",
         "x": [
          0.3324782009321994,
          0.5605192619077259,
          0.5221258022091906,
          0.4522017025862316,
          0.4598617743343786,
          0.6404308369864579,
          1.1978981800785493,
          1.0842203100063368,
          0.7808682854363156,
          0.6874622338211613,
          0.5053887828651638,
          0.4007947695683334,
          0.88090332438123,
          1.246928195992003,
          0.34257505689218215,
          0.4581330220253045,
          0.4237513277861222,
          0.32795938556551335,
          1.4622657631981093,
          1.1491061157834896,
          0.49261612431010615,
          0.5032697715657666,
          0.46758428783971756,
          0.4821531906882198,
          1.424962409796556,
          1.2077743399244807,
          0.8280468136003757,
          0.73761002260273,
          0.3945666755180598,
          0.7510287301279653,
          0.7060010045180906,
          0.7148145690067229,
          0.4661870675468359,
          0.7969722493283818,
          0.4787615550155717,
          0.8704910931158285
         ],
         "xaxis": "x",
         "y": [
          34.68937243771681,
          22.510822510822507,
          24.034334763948497,
          28.3777392401072,
          29.976019184652287,
          22.311468094600627,
          12.772875058058524,
          11.674449633088724,
          18.413380389749886,
          20.886170371475455,
          27.349935223837623,
          32.14086081609839,
          15.852885225110976,
          10.327530244910003,
          34.01360544217686,
          29.86348122866895,
          30.75632601705578,
          36.08605135322693,
          7.8839482812992765,
          10.389610389610388,
          25.75107296137339,
          26.801198171212356,
          28.477218225419673,
          32.723486538747586,
          10.45053413841152,
          10.006671114076049,
          16.878932023937395,
          20.886170371475455,
          31.66834604865409,
          19.564002235885976,
          19.02346227013317,
          19.179699026261435,
          28.09819580005915,
          19.9089874857793,
          27.960296379141617,
          16.655100624566277
         ],
         "yaxis": "y"
        },
        {
         "hovertemplate": "<b>OLS trendline</b><br>Hveg/WC = -24.2113 * mean_u + 39.5946<br>R<sup>2</sup>=0.910255<br><br>site=Interior<br>run=Vegetated Run<br>mean_u=%{x}<br>Hveg/WC=%{y} <b>(trend)</b><extra></extra>",
         "legendgroup": "Interior, Vegetated Run",
         "marker": {
          "color": "#00cc96",
          "symbol": "circle"
         },
         "mode": "lines",
         "name": "Interior, Vegetated Run",
         "showlegend": false,
         "type": "scatter",
         "x": [
          0.32795938556551335,
          0.3324782009321994,
          0.34257505689218215,
          0.3945666755180598,
          0.4007947695683334,
          0.4237513277861222,
          0.4522017025862316,
          0.4581330220253045,
          0.4598617743343786,
          0.4661870675468359,
          0.46758428783971756,
          0.4787615550155717,
          0.4821531906882198,
          0.49261612431010615,
          0.5032697715657666,
          0.5053887828651638,
          0.5221258022091906,
          0.5605192619077259,
          0.6404308369864579,
          0.6874622338211613,
          0.7060010045180906,
          0.7148145690067229,
          0.73761002260273,
          0.7510287301279653,
          0.7808682854363156,
          0.7969722493283818,
          0.8280468136003757,
          0.8704910931158285,
          0.88090332438123,
          1.0842203100063368,
          1.1491061157834896,
          1.1978981800785493,
          1.2077743399244807,
          1.246928195992003,
          1.424962409796556,
          1.4622657631981093
         ],
         "xaxis": "x",
         "y": [
          31.654296998297937,
          31.544890587117543,
          31.30043254111483,
          30.04164767301595,
          29.89085739652937,
          29.33504919374723,
          28.646228529250852,
          28.502623553004746,
          28.46076820583788,
          28.307624610916854,
          28.27379608607834,
          28.003179876013654,
          27.921063954723436,
          27.66774269127275,
          27.409804002116154,
          27.358499976015224,
          26.953274917742988,
          26.023719205114613,
          24.088955792209674,
          22.950264360287,
          22.501416552828392,
          22.28802866636659,
          21.736121016508932,
          21.41123661343317,
          20.688782077765854,
          20.29888411729624,
          19.54652840454521,
          18.518897063119375,
          18.266803369819552,
          13.344234084681414,
          11.773264135574468,
          10.591944649064793,
          10.352829943703487,
          9.404864043657678,
          5.094423625295569,
          4.191260807282276
         ],
         "yaxis": "y"
        },
        {
         "hovertemplate": "site=Interior<br>run=Baseline Run<br>mean_u=%{x}<br>Hveg/WC=%{y}<extra></extra>",
         "legendgroup": "Interior, Baseline Run",
         "marker": {
          "color": "#00cc96",
          "symbol": "diamond"
         },
         "mode": "markers",
         "name": "Interior, Baseline Run",
         "orientation": "v",
         "showlegend": true,
         "type": "scatter",
         "x": [
          12.267966275643186,
          11.704184378926797,
          11.754987705866252,
          12.268937714634541,
          12.584471112518097,
          12.632678067235405,
          14.304230138870242,
          11.927099673783966,
          12.43681291643437,
          12.613795336894194,
          12.842267952527006,
          13.034784092897246,
          12.234891457803208,
          12.684460637613892,
          12.669418446127429,
          12.920910057495092,
          13.032040821263658,
          13.079509417292295,
          12.267966275643186,
          11.704184378926797,
          11.754987705866252,
          12.268937714634541,
          12.584471112518097,
          12.632678067235405,
          14.304230138870242,
          11.927099673783966,
          12.43681291643437,
          12.613795336894194,
          12.842267952527006,
          13.034784092897246,
          12.234891457803208,
          12.684460637613892,
          12.669418446127429,
          12.920910057495092,
          13.032040821263658,
          13.079509417292295
         ],
         "xaxis": "x",
         "y": [
          34.68937243771681,
          22.510822510822507,
          24.034334763948497,
          28.3777392401072,
          29.976019184652287,
          22.311468094600627,
          12.772875058058524,
          11.674449633088724,
          18.413380389749886,
          20.886170371475455,
          27.349935223837623,
          32.14086081609839,
          15.852885225110976,
          10.327530244910003,
          34.01360544217686,
          29.86348122866895,
          30.75632601705578,
          36.08605135322693,
          7.8839482812992765,
          10.389610389610388,
          25.75107296137339,
          26.801198171212356,
          28.477218225419673,
          32.723486538747586,
          10.45053413841152,
          10.006671114076049,
          16.878932023937395,
          20.886170371475455,
          31.66834604865409,
          19.564002235885976,
          19.02346227013317,
          19.179699026261435,
          28.09819580005915,
          19.9089874857793,
          27.960296379141617,
          16.655100624566277
         ],
         "yaxis": "y"
        },
        {
         "hovertemplate": "<b>OLS trendline</b><br>Hveg/WC = 0.454115 * mean_u + 16.8939<br>R<sup>2</sup>=0.001080<br><br>site=Interior<br>run=Baseline Run<br>mean_u=%{x}<br>Hveg/WC=%{y} <b>(trend)</b><extra></extra>",
         "legendgroup": "Interior, Baseline Run",
         "marker": {
          "color": "#00cc96",
          "symbol": "diamond"
         },
         "mode": "lines",
         "name": "Interior, Baseline Run",
         "showlegend": false,
         "type": "scatter",
         "x": [
          11.704184378926797,
          11.704184378926797,
          11.754987705866252,
          11.754987705866252,
          11.927099673783966,
          11.927099673783966,
          12.234891457803208,
          12.234891457803208,
          12.267966275643186,
          12.267966275643186,
          12.268937714634541,
          12.268937714634541,
          12.43681291643437,
          12.43681291643437,
          12.584471112518097,
          12.584471112518097,
          12.613795336894194,
          12.613795336894194,
          12.632678067235405,
          12.632678067235405,
          12.669418446127429,
          12.669418446127429,
          12.684460637613892,
          12.684460637613892,
          12.842267952527006,
          12.842267952527006,
          12.920910057495092,
          12.920910057495092,
          13.032040821263658,
          13.032040821263658,
          13.034784092897246,
          13.034784092897246,
          13.079509417292295,
          13.079509417292295,
          14.304230138870242,
          14.304230138870242
         ],
         "xaxis": "x",
         "y": [
          22.208989899794982,
          22.208989899794982,
          22.232060437190277,
          22.232060437190277,
          22.310219011268625,
          22.310219011268625,
          22.44999178385976,
          22.44999178385976,
          22.4650115447256,
          22.4650115447256,
          22.465452689448348,
          22.465452689448348,
          22.541687285766848,
          22.541687285766848,
          22.608741042670044,
          22.608741042670044,
          22.622057603923267,
          22.622057603923267,
          22.630632529281627,
          22.630632529281627,
          22.647316875292198,
          22.647316875292198,
          22.65414775551406,
          22.65414775551406,
          22.725810376434406,
          22.725810376434406,
          22.76152291206565,
          22.76152291206565,
          22.81198902512841,
          22.81198902512841,
          22.813234785093766,
          22.813234785093766,
          22.833545212208165,
          22.833545212208165,
          23.389708891008826,
          23.389708891008826
         ],
         "yaxis": "y"
        }
       ],
       "layout": {
        "autosize": true,
        "legend": {
         "title": {
          "text": "site, run"
         },
         "tracegroupgap": 0
        },
        "margin": {
         "t": 60
        },
        "template": {
         "data": {
          "bar": [
           {
            "error_x": {
             "color": "#f2f5fa"
            },
            "error_y": {
             "color": "#f2f5fa"
            },
            "marker": {
             "line": {
              "color": "rgb(17,17,17)",
              "width": 0.5
             },
             "pattern": {
              "fillmode": "overlay",
              "size": 10,
              "solidity": 0.2
             }
            },
            "type": "bar"
           }
          ],
          "barpolar": [
           {
            "marker": {
             "line": {
              "color": "rgb(17,17,17)",
              "width": 0.5
             },
             "pattern": {
              "fillmode": "overlay",
              "size": 10,
              "solidity": 0.2
             }
            },
            "type": "barpolar"
           }
          ],
          "carpet": [
           {
            "aaxis": {
             "endlinecolor": "#A2B1C6",
             "gridcolor": "#506784",
             "linecolor": "#506784",
             "minorgridcolor": "#506784",
             "startlinecolor": "#A2B1C6"
            },
            "baxis": {
             "endlinecolor": "#A2B1C6",
             "gridcolor": "#506784",
             "linecolor": "#506784",
             "minorgridcolor": "#506784",
             "startlinecolor": "#A2B1C6"
            },
            "type": "carpet"
           }
          ],
          "choropleth": [
           {
            "colorbar": {
             "outlinewidth": 0,
             "ticks": ""
            },
            "type": "choropleth"
           }
          ],
          "contour": [
           {
            "colorbar": {
             "outlinewidth": 0,
             "ticks": ""
            },
            "colorscale": [
             [
              0,
              "#0d0887"
             ],
             [
              0.1111111111111111,
              "#46039f"
             ],
             [
              0.2222222222222222,
              "#7201a8"
             ],
             [
              0.3333333333333333,
              "#9c179e"
             ],
             [
              0.4444444444444444,
              "#bd3786"
             ],
             [
              0.5555555555555556,
              "#d8576b"
             ],
             [
              0.6666666666666666,
              "#ed7953"
             ],
             [
              0.7777777777777778,
              "#fb9f3a"
             ],
             [
              0.8888888888888888,
              "#fdca26"
             ],
             [
              1,
              "#f0f921"
             ]
            ],
            "type": "contour"
           }
          ],
          "contourcarpet": [
           {
            "colorbar": {
             "outlinewidth": 0,
             "ticks": ""
            },
            "type": "contourcarpet"
           }
          ],
          "heatmap": [
           {
            "colorbar": {
             "outlinewidth": 0,
             "ticks": ""
            },
            "colorscale": [
             [
              0,
              "#0d0887"
             ],
             [
              0.1111111111111111,
              "#46039f"
             ],
             [
              0.2222222222222222,
              "#7201a8"
             ],
             [
              0.3333333333333333,
              "#9c179e"
             ],
             [
              0.4444444444444444,
              "#bd3786"
             ],
             [
              0.5555555555555556,
              "#d8576b"
             ],
             [
              0.6666666666666666,
              "#ed7953"
             ],
             [
              0.7777777777777778,
              "#fb9f3a"
             ],
             [
              0.8888888888888888,
              "#fdca26"
             ],
             [
              1,
              "#f0f921"
             ]
            ],
            "type": "heatmap"
           }
          ],
          "heatmapgl": [
           {
            "colorbar": {
             "outlinewidth": 0,
             "ticks": ""
            },
            "colorscale": [
             [
              0,
              "#0d0887"
             ],
             [
              0.1111111111111111,
              "#46039f"
             ],
             [
              0.2222222222222222,
              "#7201a8"
             ],
             [
              0.3333333333333333,
              "#9c179e"
             ],
             [
              0.4444444444444444,
              "#bd3786"
             ],
             [
              0.5555555555555556,
              "#d8576b"
             ],
             [
              0.6666666666666666,
              "#ed7953"
             ],
             [
              0.7777777777777778,
              "#fb9f3a"
             ],
             [
              0.8888888888888888,
              "#fdca26"
             ],
             [
              1,
              "#f0f921"
             ]
            ],
            "type": "heatmapgl"
           }
          ],
          "histogram": [
           {
            "marker": {
             "pattern": {
              "fillmode": "overlay",
              "size": 10,
              "solidity": 0.2
             }
            },
            "type": "histogram"
           }
          ],
          "histogram2d": [
           {
            "colorbar": {
             "outlinewidth": 0,
             "ticks": ""
            },
            "colorscale": [
             [
              0,
              "#0d0887"
             ],
             [
              0.1111111111111111,
              "#46039f"
             ],
             [
              0.2222222222222222,
              "#7201a8"
             ],
             [
              0.3333333333333333,
              "#9c179e"
             ],
             [
              0.4444444444444444,
              "#bd3786"
             ],
             [
              0.5555555555555556,
              "#d8576b"
             ],
             [
              0.6666666666666666,
              "#ed7953"
             ],
             [
              0.7777777777777778,
              "#fb9f3a"
             ],
             [
              0.8888888888888888,
              "#fdca26"
             ],
             [
              1,
              "#f0f921"
             ]
            ],
            "type": "histogram2d"
           }
          ],
          "histogram2dcontour": [
           {
            "colorbar": {
             "outlinewidth": 0,
             "ticks": ""
            },
            "colorscale": [
             [
              0,
              "#0d0887"
             ],
             [
              0.1111111111111111,
              "#46039f"
             ],
             [
              0.2222222222222222,
              "#7201a8"
             ],
             [
              0.3333333333333333,
              "#9c179e"
             ],
             [
              0.4444444444444444,
              "#bd3786"
             ],
             [
              0.5555555555555556,
              "#d8576b"
             ],
             [
              0.6666666666666666,
              "#ed7953"
             ],
             [
              0.7777777777777778,
              "#fb9f3a"
             ],
             [
              0.8888888888888888,
              "#fdca26"
             ],
             [
              1,
              "#f0f921"
             ]
            ],
            "type": "histogram2dcontour"
           }
          ],
          "mesh3d": [
           {
            "colorbar": {
             "outlinewidth": 0,
             "ticks": ""
            },
            "type": "mesh3d"
           }
          ],
          "parcoords": [
           {
            "line": {
             "colorbar": {
              "outlinewidth": 0,
              "ticks": ""
             }
            },
            "type": "parcoords"
           }
          ],
          "pie": [
           {
            "automargin": true,
            "type": "pie"
           }
          ],
          "scatter": [
           {
            "marker": {
             "line": {
              "color": "#283442"
             }
            },
            "type": "scatter"
           }
          ],
          "scatter3d": [
           {
            "line": {
             "colorbar": {
              "outlinewidth": 0,
              "ticks": ""
             }
            },
            "marker": {
             "colorbar": {
              "outlinewidth": 0,
              "ticks": ""
             }
            },
            "type": "scatter3d"
           }
          ],
          "scattercarpet": [
           {
            "marker": {
             "colorbar": {
              "outlinewidth": 0,
              "ticks": ""
             }
            },
            "type": "scattercarpet"
           }
          ],
          "scattergeo": [
           {
            "marker": {
             "colorbar": {
              "outlinewidth": 0,
              "ticks": ""
             }
            },
            "type": "scattergeo"
           }
          ],
          "scattergl": [
           {
            "marker": {
             "line": {
              "color": "#283442"
             }
            },
            "type": "scattergl"
           }
          ],
          "scattermapbox": [
           {
            "marker": {
             "colorbar": {
              "outlinewidth": 0,
              "ticks": ""
             }
            },
            "type": "scattermapbox"
           }
          ],
          "scatterpolar": [
           {
            "marker": {
             "colorbar": {
              "outlinewidth": 0,
              "ticks": ""
             }
            },
            "type": "scatterpolar"
           }
          ],
          "scatterpolargl": [
           {
            "marker": {
             "colorbar": {
              "outlinewidth": 0,
              "ticks": ""
             }
            },
            "type": "scatterpolargl"
           }
          ],
          "scatterternary": [
           {
            "marker": {
             "colorbar": {
              "outlinewidth": 0,
              "ticks": ""
             }
            },
            "type": "scatterternary"
           }
          ],
          "surface": [
           {
            "colorbar": {
             "outlinewidth": 0,
             "ticks": ""
            },
            "colorscale": [
             [
              0,
              "#0d0887"
             ],
             [
              0.1111111111111111,
              "#46039f"
             ],
             [
              0.2222222222222222,
              "#7201a8"
             ],
             [
              0.3333333333333333,
              "#9c179e"
             ],
             [
              0.4444444444444444,
              "#bd3786"
             ],
             [
              0.5555555555555556,
              "#d8576b"
             ],
             [
              0.6666666666666666,
              "#ed7953"
             ],
             [
              0.7777777777777778,
              "#fb9f3a"
             ],
             [
              0.8888888888888888,
              "#fdca26"
             ],
             [
              1,
              "#f0f921"
             ]
            ],
            "type": "surface"
           }
          ],
          "table": [
           {
            "cells": {
             "fill": {
              "color": "#506784"
             },
             "line": {
              "color": "rgb(17,17,17)"
             }
            },
            "header": {
             "fill": {
              "color": "#2a3f5f"
             },
             "line": {
              "color": "rgb(17,17,17)"
             }
            },
            "type": "table"
           }
          ]
         },
         "layout": {
          "annotationdefaults": {
           "arrowcolor": "#f2f5fa",
           "arrowhead": 0,
           "arrowwidth": 1
          },
          "autotypenumbers": "strict",
          "coloraxis": {
           "colorbar": {
            "outlinewidth": 0,
            "ticks": ""
           }
          },
          "colorscale": {
           "diverging": [
            [
             0,
             "#8e0152"
            ],
            [
             0.1,
             "#c51b7d"
            ],
            [
             0.2,
             "#de77ae"
            ],
            [
             0.3,
             "#f1b6da"
            ],
            [
             0.4,
             "#fde0ef"
            ],
            [
             0.5,
             "#f7f7f7"
            ],
            [
             0.6,
             "#e6f5d0"
            ],
            [
             0.7,
             "#b8e186"
            ],
            [
             0.8,
             "#7fbc41"
            ],
            [
             0.9,
             "#4d9221"
            ],
            [
             1,
             "#276419"
            ]
           ],
           "sequential": [
            [
             0,
             "#0d0887"
            ],
            [
             0.1111111111111111,
             "#46039f"
            ],
            [
             0.2222222222222222,
             "#7201a8"
            ],
            [
             0.3333333333333333,
             "#9c179e"
            ],
            [
             0.4444444444444444,
             "#bd3786"
            ],
            [
             0.5555555555555556,
             "#d8576b"
            ],
            [
             0.6666666666666666,
             "#ed7953"
            ],
            [
             0.7777777777777778,
             "#fb9f3a"
            ],
            [
             0.8888888888888888,
             "#fdca26"
            ],
            [
             1,
             "#f0f921"
            ]
           ],
           "sequentialminus": [
            [
             0,
             "#0d0887"
            ],
            [
             0.1111111111111111,
             "#46039f"
            ],
            [
             0.2222222222222222,
             "#7201a8"
            ],
            [
             0.3333333333333333,
             "#9c179e"
            ],
            [
             0.4444444444444444,
             "#bd3786"
            ],
            [
             0.5555555555555556,
             "#d8576b"
            ],
            [
             0.6666666666666666,
             "#ed7953"
            ],
            [
             0.7777777777777778,
             "#fb9f3a"
            ],
            [
             0.8888888888888888,
             "#fdca26"
            ],
            [
             1,
             "#f0f921"
            ]
           ]
          },
          "colorway": [
           "#636efa",
           "#EF553B",
           "#00cc96",
           "#ab63fa",
           "#FFA15A",
           "#19d3f3",
           "#FF6692",
           "#B6E880",
           "#FF97FF",
           "#FECB52"
          ],
          "font": {
           "color": "#f2f5fa"
          },
          "geo": {
           "bgcolor": "rgb(17,17,17)",
           "lakecolor": "rgb(17,17,17)",
           "landcolor": "rgb(17,17,17)",
           "showlakes": true,
           "showland": true,
           "subunitcolor": "#506784"
          },
          "hoverlabel": {
           "align": "left"
          },
          "hovermode": "closest",
          "mapbox": {
           "style": "dark"
          },
          "paper_bgcolor": "rgb(17,17,17)",
          "plot_bgcolor": "rgb(17,17,17)",
          "polar": {
           "angularaxis": {
            "gridcolor": "#506784",
            "linecolor": "#506784",
            "ticks": ""
           },
           "bgcolor": "rgb(17,17,17)",
           "radialaxis": {
            "gridcolor": "#506784",
            "linecolor": "#506784",
            "ticks": ""
           }
          },
          "scene": {
           "xaxis": {
            "backgroundcolor": "rgb(17,17,17)",
            "gridcolor": "#506784",
            "gridwidth": 2,
            "linecolor": "#506784",
            "showbackground": true,
            "ticks": "",
            "zerolinecolor": "#C8D4E3"
           },
           "yaxis": {
            "backgroundcolor": "rgb(17,17,17)",
            "gridcolor": "#506784",
            "gridwidth": 2,
            "linecolor": "#506784",
            "showbackground": true,
            "ticks": "",
            "zerolinecolor": "#C8D4E3"
           },
           "zaxis": {
            "backgroundcolor": "rgb(17,17,17)",
            "gridcolor": "#506784",
            "gridwidth": 2,
            "linecolor": "#506784",
            "showbackground": true,
            "ticks": "",
            "zerolinecolor": "#C8D4E3"
           }
          },
          "shapedefaults": {
           "line": {
            "color": "#f2f5fa"
           }
          },
          "sliderdefaults": {
           "bgcolor": "#C8D4E3",
           "bordercolor": "rgb(17,17,17)",
           "borderwidth": 1,
           "tickwidth": 0
          },
          "ternary": {
           "aaxis": {
            "gridcolor": "#506784",
            "linecolor": "#506784",
            "ticks": ""
           },
           "baxis": {
            "gridcolor": "#506784",
            "linecolor": "#506784",
            "ticks": ""
           },
           "bgcolor": "rgb(17,17,17)",
           "caxis": {
            "gridcolor": "#506784",
            "linecolor": "#506784",
            "ticks": ""
           }
          },
          "title": {
           "x": 0.05
          },
          "updatemenudefaults": {
           "bgcolor": "#506784",
           "borderwidth": 0
          },
          "xaxis": {
           "automargin": true,
           "gridcolor": "#283442",
           "linecolor": "#506784",
           "ticks": "",
           "title": {
            "standoff": 15
           },
           "zerolinecolor": "#283442",
           "zerolinewidth": 2
          },
          "yaxis": {
           "automargin": true,
           "gridcolor": "#283442",
           "linecolor": "#506784",
           "ticks": "",
           "title": {
            "standoff": 15
           },
           "zerolinecolor": "#283442",
           "zerolinewidth": 2
          }
         }
        },
        "xaxis": {
         "anchor": "y",
         "domain": [
          0,
          1
         ],
         "title": {
          "text": "mean_u"
         }
        },
        "yaxis": {
         "anchor": "x",
         "domain": [
          0,
          1
         ],
         "title": {
          "text": "Hveg/WC"
         }
        }
       }
      }
     },
     "metadata": {},
     "output_type": "display_data"
    }
   ],
   "source": [
    "fig = px.scatter(dff, x='mean_u', y='Hveg/WC', symbol='run', color='site', trendline='ols', template='plotly_dark')\n",
    "#fig = px.scatter(base_df, x='mean_u', y='Hveg/WC', symbol='site', color='site')\n",
    "fig.update_layout(\n",
    "    autosize=True,)\n",
    "fig.show()"
   ]
  },
  {
   "cell_type": "markdown",
   "metadata": {},
   "source": [
    "## Contour Plots"
   ]
  },
  {
   "cell_type": "code",
   "execution_count": 194,
   "metadata": {},
   "outputs": [
    {
     "data": {
      "application/vnd.plotly.v1+json": {
       "config": {
        "plotlyServerURL": "https://plot.ly"
       },
       "data": [
        {
         "colorbar": {
          "x": 0.46
         },
         "line": {
          "smoothing": 0.85
         },
         "type": "contour",
         "x": [
          630.481094184055,
          2837.16492382825,
          3467.6460180123,
          4728.60820638041,
          3467.6460180123,
          4728.60820638041,
          4098.12711219636,
          1576.20273546014,
          2837.16492382825,
          4098.12711219636,
          4413.36765928838,
          5359.08930056447,
          5359.08930056447,
          4728.60820638041,
          945.721641276082,
          3782.88656510433,
          4098.12711219636,
          5674.32984765649,
          5359.08930056447,
          5359.08930056447,
          5674.32984765649,
          5359.08930056447,
          5989.57039474852,
          5989.57039474852,
          4728.60820638041,
          5043.84875347244,
          5674.3298476565,
          5989.57039474852,
          4098.12711219636,
          4728.60820638041,
          5989.57039474852,
          4728.60820638041,
          5674.32984765649,
          5674.32984765649,
          5989.57039474852,
          4728.60820638041,
          5674.32984765649,
          5043.84875347244,
          5359.08930056447,
          5674.32984765649,
          5359.08930056447,
          4413.36765928838,
          5043.84875347244,
          5674.32984765649,
          5359.08930056447,
          5043.84875347244,
          5989.57039474852,
          3782.88656510433,
          4098.12711219636,
          4728.60820638041,
          5359.08930056447,
          5674.32984765649,
          4413.36765928838,
          5359.08930056447,
          5989.57039474852,
          5674.32984765649,
          5674.3298476565,
          315.240547092027,
          3467.6460180123,
          3467.6460180123,
          5989.57039474852,
          5043.84875347244,
          5989.57039474852,
          4413.36765928838,
          2206.68382964419,
          3152.40547092027,
          2837.16492382825,
          5989.57039474852,
          5674.32984765649,
          5674.32984765649,
          5043.84875347244,
          945.721641276082,
          1891.44328255216,
          2837.16492382825,
          4728.60820638041,
          5989.57039474852,
          5359.08930056447,
          5359.08930056447,
          4413.36765928838,
          5674.32984765649,
          5674.32984765649,
          3782.88656510433,
          5359.08930056447,
          5043.84875347244,
          5043.84875347244,
          5043.84875347244,
          5359.08930056447,
          3782.88656510433,
          5043.84875347244,
          4413.36765928838,
          5359.08930056447,
          5674.32984765649,
          4413.36765928838,
          4413.36765928838,
          5359.08930056447,
          5674.32984765649,
          4413.36765928838,
          4098.12711219636,
          4728.60820638041,
          5359.08930056447,
          5674.32984765649,
          5359.08930056447,
          4098.12711219636,
          5043.84875347244,
          4728.60820638041,
          4728.60820638041,
          5674.32984765649,
          5359.08930056447,
          5359.08930056447,
          4728.60820638041,
          5043.84875347244,
          4098.12711219636,
          5359.08930056447,
          5359.08930056447
         ],
         "xaxis": "x",
         "y": [
          9.61680722000296,
          22.657054582904223,
          33.622367722527,
          26.525198938992038,
          18.787361229718186,
          25.465541938564385,
          35.48196333530455,
          9.060706735125342,
          14.15285078851598,
          23.398128149748015,
          31.13648157758173,
          44.20265215912954,
          17.58312020460358,
          30.01650907999399,
          9.775171065493648,
          14.53752498637107,
          36.266463065470525,
          45.89682393978339,
          25.882787946015913,
          15.40041067761807,
          34.682080924855505,
          22.393630256282663,
          16.672224074691567,
          24.82159478746509,
          29.252596167909903,
          20.446911055936912,
          18.67279517380064,
          17.414601473543208,
          24.340770791075048,
          29.66478789676654,
          20.64287820701858,
          26.079397276151845,
          27.676620538965764,
          19.897003745318354,
          20.214916480476646,
          24.020417354751533,
          28.67491699366134,
          22.30483271375465,
          26.90985199581403,
          34.68937243771681,
          22.510822510822507,
          24.034334763948497,
          28.3777392401072,
          29.976019184652287,
          22.311468094600627,
          12.772875058058524,
          11.674449633088724,
          18.413380389749886,
          20.886170371475455,
          27.349935223837623,
          32.14086081609839,
          15.852885225110976,
          10.327530244910003,
          34.01360544217686,
          29.86348122866895,
          30.75632601705578,
          36.08605135322693,
          14.795088030773785,
          37.075180226570545,
          31.85276942134137,
          28.29354553492484,
          22.203245089666947,
          25.465541938564385,
          19.219396806623298,
          18.121413470250683,
          22.2401940962394,
          23.398128149748015,
          19.027849852966614,
          27.201632097925874,
          31.969309462915604,
          19.510730901996094,
          21.17953730856957,
          21.806287479556605,
          7.635044855888531,
          55.07618872774007,
          49.91680532445926,
          29.089664613278575,
          37.98513625103222,
          19.9054491166957,
          18.89518728465044,
          23.270245113248524,
          36.56574520988738,
          16.065430115379,
          34.472852628555025,
          13.39584728734093,
          17.57944557133198,
          25.215069712251562,
          17.69389560601593,
          21.73283106345987,
          20.393299344501088,
          10.533707865168541,
          11.703372699223323,
          19.516589100735622,
          28.67491699366134,
          25.278810408921938,
          16.444909552997462,
          7.8839482812992765,
          10.389610389610388,
          25.75107296137339,
          26.801198171212356,
          28.477218225419673,
          32.723486538747586,
          10.45053413841152,
          10.006671114076049,
          16.878932023937395,
          20.886170371475455,
          31.66834604865409,
          19.564002235885976,
          19.02346227013317,
          19.179699026261435,
          28.09819580005915,
          19.9089874857793,
          27.960296379141617,
          16.655100624566277
         ],
         "yaxis": "y",
         "z": [
          11.434116546838538,
          9.474710819850497,
          10.45030590623715,
          10.454024082517174,
          10.638276172671308,
          11.022232522243687,
          11.43836434672227,
          11.31710651696091,
          9.638382252015312,
          10.361607100920704,
          10.570477212771559,
          10.662906294923475,
          10.998407090756528,
          11.352250573790563,
          10.89366965998431,
          10.311790962295648,
          10.059976293181483,
          10.258892227295387,
          10.222840772283014,
          10.62822531490318,
          10.819391041677104,
          12.473651459982452,
          13.199501536110208,
          11.164987655830519,
          11.50020355222584,
          11.508648800258582,
          11.60532745059137,
          12.019055578951342,
          11.962336225796175,
          11.419662208588123,
          11.453643382441,
          11.554987334957696,
          11.52383465046621,
          12.8617397368975,
          13.492157635653905,
          11.350538754053648,
          11.320540008199771,
          11.405189552044186,
          11.374480787194233,
          11.074117120333446,
          10.564960931548402,
          10.610842319010464,
          11.074994425515872,
          11.35995057051224,
          11.403485679015631,
          12.91300486798032,
          10.766278978350103,
          11.226601817789735,
          11.386432925747325,
          11.592762914696792,
          11.766620000325165,
          11.044247280211106,
          11.45024980307172,
          11.436665416090609,
          11.663782994882144,
          11.764142619491881,
          11.807010306305619,
          11.434116546838538,
          9.474710819850497,
          10.45030590623715,
          10.454024082517174,
          10.638276172671308,
          11.022232522243687,
          11.43836434672227,
          11.31710651696091,
          9.638382252015312,
          10.361607100920704,
          10.570477212771559,
          10.662906294923475,
          10.998407090756528,
          11.352250573790563,
          10.89366965998431,
          10.311790962295648,
          10.059976293181483,
          10.258892227295387,
          10.222840772283014,
          10.62822531490318,
          10.819391041677104,
          12.473651459982452,
          13.199501536110208,
          11.164987655830519,
          11.50020355222584,
          11.508648800258582,
          11.60532745059137,
          12.019055578951342,
          11.962336225796175,
          11.419662208588123,
          11.453643382441,
          11.554987334957696,
          11.52383465046621,
          12.8617397368975,
          13.492157635653905,
          11.350538754053648,
          11.320540008199771,
          11.405189552044186,
          11.374480787194233,
          11.074117120333446,
          10.564960931548402,
          10.610842319010464,
          11.074994425515872,
          11.35995057051224,
          11.403485679015631,
          12.91300486798032,
          10.766278978350103,
          11.226601817789735,
          11.386432925747325,
          11.592762914696792,
          11.766620000325165,
          11.044247280211106,
          11.45024980307172,
          11.436665416090609,
          11.663782994882144,
          11.764142619491881,
          11.807010306305619
         ]
        },
        {
         "line": {
          "smoothing": 0.85
         },
         "type": "contour",
         "x": [
          630.481094184055,
          2837.16492382825,
          3467.6460180123,
          4728.60820638041,
          3467.6460180123,
          4728.60820638041,
          4098.12711219636,
          1576.20273546014,
          2837.16492382825,
          4098.12711219636,
          4413.36765928838,
          5359.08930056447,
          5359.08930056447,
          4728.60820638041,
          945.721641276082,
          3782.88656510433,
          4098.12711219636,
          5674.32984765649,
          5359.08930056447,
          5359.08930056447,
          5674.32984765649,
          5359.08930056447,
          5989.57039474852,
          5989.57039474852,
          4728.60820638041,
          5043.84875347244,
          5674.3298476565,
          5989.57039474852,
          4098.12711219636,
          4728.60820638041,
          5989.57039474852,
          4728.60820638041,
          5674.32984765649,
          5674.32984765649,
          5989.57039474852,
          4728.60820638041,
          5674.32984765649,
          5043.84875347244,
          5359.08930056447,
          5674.32984765649,
          5359.08930056447,
          4413.36765928838,
          5043.84875347244,
          5674.32984765649,
          5359.08930056447,
          5043.84875347244,
          5989.57039474852,
          3782.88656510433,
          4098.12711219636,
          4728.60820638041,
          5359.08930056447,
          5674.32984765649,
          4413.36765928838,
          5359.08930056447,
          5989.57039474852,
          5674.32984765649,
          5674.3298476565,
          315.240547092027,
          3467.6460180123,
          3467.6460180123,
          5989.57039474852,
          5043.84875347244,
          5989.57039474852,
          4413.36765928838,
          2206.68382964419,
          3152.40547092027,
          2837.16492382825,
          5989.57039474852,
          5674.32984765649,
          5674.32984765649,
          5043.84875347244,
          945.721641276082,
          1891.44328255216,
          2837.16492382825,
          4728.60820638041,
          5989.57039474852,
          5359.08930056447,
          5359.08930056447,
          4413.36765928838,
          5674.32984765649,
          5674.32984765649,
          3782.88656510433,
          5359.08930056447,
          5043.84875347244,
          5043.84875347244,
          5043.84875347244,
          5359.08930056447,
          3782.88656510433,
          5043.84875347244,
          4413.36765928838,
          5359.08930056447,
          5674.32984765649,
          4413.36765928838,
          4413.36765928838,
          5359.08930056447,
          5674.32984765649,
          4413.36765928838,
          4098.12711219636,
          4728.60820638041,
          5359.08930056447,
          5674.32984765649,
          5359.08930056447,
          4098.12711219636,
          5043.84875347244,
          4728.60820638041,
          4728.60820638041,
          5674.32984765649,
          5359.08930056447,
          5359.08930056447,
          4728.60820638041,
          5043.84875347244,
          4098.12711219636,
          5359.08930056447,
          5359.08930056447
         ],
         "xaxis": "x2",
         "y": [
          9.61680722000296,
          22.657054582904223,
          33.622367722527,
          26.525198938992038,
          18.787361229718186,
          25.465541938564385,
          35.48196333530455,
          9.060706735125342,
          14.15285078851598,
          23.398128149748015,
          31.13648157758173,
          44.20265215912954,
          17.58312020460358,
          30.01650907999399,
          9.775171065493648,
          14.53752498637107,
          36.266463065470525,
          45.89682393978339,
          25.882787946015913,
          15.40041067761807,
          34.682080924855505,
          22.393630256282663,
          16.672224074691567,
          24.82159478746509,
          29.252596167909903,
          20.446911055936912,
          18.67279517380064,
          17.414601473543208,
          24.340770791075048,
          29.66478789676654,
          20.64287820701858,
          26.079397276151845,
          27.676620538965764,
          19.897003745318354,
          20.214916480476646,
          24.020417354751533,
          28.67491699366134,
          22.30483271375465,
          26.90985199581403,
          34.68937243771681,
          22.510822510822507,
          24.034334763948497,
          28.3777392401072,
          29.976019184652287,
          22.311468094600627,
          12.772875058058524,
          11.674449633088724,
          18.413380389749886,
          20.886170371475455,
          27.349935223837623,
          32.14086081609839,
          15.852885225110976,
          10.327530244910003,
          34.01360544217686,
          29.86348122866895,
          30.75632601705578,
          36.08605135322693,
          14.795088030773785,
          37.075180226570545,
          31.85276942134137,
          28.29354553492484,
          22.203245089666947,
          25.465541938564385,
          19.219396806623298,
          18.121413470250683,
          22.2401940962394,
          23.398128149748015,
          19.027849852966614,
          27.201632097925874,
          31.969309462915604,
          19.510730901996094,
          21.17953730856957,
          21.806287479556605,
          7.635044855888531,
          55.07618872774007,
          49.91680532445926,
          29.089664613278575,
          37.98513625103222,
          19.9054491166957,
          18.89518728465044,
          23.270245113248524,
          36.56574520988738,
          16.065430115379,
          34.472852628555025,
          13.39584728734093,
          17.57944557133198,
          25.215069712251562,
          17.69389560601593,
          21.73283106345987,
          20.393299344501088,
          10.533707865168541,
          11.703372699223323,
          19.516589100735622,
          28.67491699366134,
          25.278810408921938,
          16.444909552997462,
          7.8839482812992765,
          10.389610389610388,
          25.75107296137339,
          26.801198171212356,
          28.477218225419673,
          32.723486538747586,
          10.45053413841152,
          10.006671114076049,
          16.878932023937395,
          20.886170371475455,
          31.66834604865409,
          19.564002235885976,
          19.02346227013317,
          19.179699026261435,
          28.09819580005915,
          19.9089874857793,
          27.960296379141617,
          16.655100624566277
         ],
         "yaxis": "y2",
         "z": [
          0.3734292352375515,
          0.004929030944210574,
          0.0016851723896683496,
          0.002885204398040054,
          0.03841700154945067,
          0.004118452433871988,
          0.0007558926536391336,
          0.36757693955314724,
          0.12868100875055416,
          0.005192999039757156,
          0.0019947016909549094,
          0.0005399224132622771,
          0.05266697989354076,
          0.0014214645829165955,
          0.3360911582760867,
          0.1142274096027529,
          -0.00024263728921717118,
          -0.0000019498706000150495,
          0.003515285940208214,
          0.09458165970530395,
          0.00006789165556886744,
          0.016934590886659544,
          0.08932821707265798,
          0.006372730534849795,
          -0.00004586971869447415,
          0.0257482748586637,
          0.054628235996303995,
          0.07992236653358013,
          0.0019166251908948073,
          0.0025404937746195803,
          0.024456850355965464,
          0.004022797820505777,
          0.0030476236767782838,
          0.04557546520054787,
          0.031699094217129145,
          0.003574960869766075,
          0.004166883074029617,
          0.013617114402965452,
          0.003167432173020364,
          0.0015746731632190157,
          0.006789610594777985,
          0.0014610623283258745,
          0.00992456527611634,
          0.0054448029798137825,
          0.01635967806290349,
          0.20072500427280965,
          0.2196626453136564,
          0.052856819411373546,
          0.023865710947378035,
          0.0028308942383308013,
          -0.00016430959319379895,
          0.1048055342761284,
          0.2898613377739972,
          -0.000290117664191229,
          0.0025519313052247395,
          0.0005411168303500153,
          0.000023395695846995027,
          0.1506688760403536,
          0.0010616662941976237,
          0.0004144965818353142,
          0.0007777073642409654,
          0.013953741044151261,
          0.00031609807803285254,
          0.04350674434899822,
          0.11759945514470693,
          0.05480152731221084,
          0.0038371156023008163,
          0.03434991570494521,
          -0.0016972575679772544,
          -0.0004503517796941325,
          0.03757879727686975,
          0.02977885266902029,
          0.01154581581105171,
          0.40899210416094894,
          0.0004988001130047737,
          0.00025842501448899286,
          0.0019508137022803344,
          0.002122193037308142,
          0.040300510765857736,
          0.04621391412379357,
          0.008814516874630529,
          -0.0003413742422504161,
          0.08827206686418901,
          0.00129690605988384,
          0.18789655871882474,
          0.060720189409911196,
          -0.0002683030852027232,
          0.0523803101757719,
          0.017489446230999663,
          0.024256918183687592,
          0.31800307518738613,
          0.27071813883927864,
          0.03706477951504408,
          0.004843063591332699,
          0.0023385296985131607,
          0.0774222310331337,
          0.46126071704246374,
          0.26948721896359634,
          -0.00012407115160255873,
          0.0003542568890536012,
          -0.0001042425262878452,
          -0.000060104387769113625,
          0.36207772981973035,
          0.31570041532012644,
          0.07694756328309241,
          0.058714588438223435,
          0.0005679014937473774,
          0.042245954873329924,
          0.03361021314719008,
          0.010095908034088294,
          -0.00016244868360976877,
          0.051000534426177344,
          0.0008122283121855901,
          0.0788035800740835
         ]
        }
       ],
       "layout": {
        "annotations": [
         {
          "font": {
           "size": 16
          },
          "showarrow": false,
          "text": "Baseline Runs",
          "x": 0.225,
          "xanchor": "center",
          "xref": "paper",
          "y": 1,
          "yanchor": "bottom",
          "yref": "paper"
         },
         {
          "font": {
           "size": 16
          },
          "showarrow": false,
          "text": "Vegetated Runs",
          "x": 0.775,
          "xanchor": "center",
          "xref": "paper",
          "y": 1,
          "yanchor": "bottom",
          "yref": "paper"
         }
        ],
        "autosize": true,
        "template": {
         "data": {
          "bar": [
           {
            "error_x": {
             "color": "#f2f5fa"
            },
            "error_y": {
             "color": "#f2f5fa"
            },
            "marker": {
             "line": {
              "color": "rgb(17,17,17)",
              "width": 0.5
             },
             "pattern": {
              "fillmode": "overlay",
              "size": 10,
              "solidity": 0.2
             }
            },
            "type": "bar"
           }
          ],
          "barpolar": [
           {
            "marker": {
             "line": {
              "color": "rgb(17,17,17)",
              "width": 0.5
             },
             "pattern": {
              "fillmode": "overlay",
              "size": 10,
              "solidity": 0.2
             }
            },
            "type": "barpolar"
           }
          ],
          "carpet": [
           {
            "aaxis": {
             "endlinecolor": "#A2B1C6",
             "gridcolor": "#506784",
             "linecolor": "#506784",
             "minorgridcolor": "#506784",
             "startlinecolor": "#A2B1C6"
            },
            "baxis": {
             "endlinecolor": "#A2B1C6",
             "gridcolor": "#506784",
             "linecolor": "#506784",
             "minorgridcolor": "#506784",
             "startlinecolor": "#A2B1C6"
            },
            "type": "carpet"
           }
          ],
          "choropleth": [
           {
            "colorbar": {
             "outlinewidth": 0,
             "ticks": ""
            },
            "type": "choropleth"
           }
          ],
          "contour": [
           {
            "colorbar": {
             "outlinewidth": 0,
             "ticks": ""
            },
            "colorscale": [
             [
              0,
              "#0d0887"
             ],
             [
              0.1111111111111111,
              "#46039f"
             ],
             [
              0.2222222222222222,
              "#7201a8"
             ],
             [
              0.3333333333333333,
              "#9c179e"
             ],
             [
              0.4444444444444444,
              "#bd3786"
             ],
             [
              0.5555555555555556,
              "#d8576b"
             ],
             [
              0.6666666666666666,
              "#ed7953"
             ],
             [
              0.7777777777777778,
              "#fb9f3a"
             ],
             [
              0.8888888888888888,
              "#fdca26"
             ],
             [
              1,
              "#f0f921"
             ]
            ],
            "type": "contour"
           }
          ],
          "contourcarpet": [
           {
            "colorbar": {
             "outlinewidth": 0,
             "ticks": ""
            },
            "type": "contourcarpet"
           }
          ],
          "heatmap": [
           {
            "colorbar": {
             "outlinewidth": 0,
             "ticks": ""
            },
            "colorscale": [
             [
              0,
              "#0d0887"
             ],
             [
              0.1111111111111111,
              "#46039f"
             ],
             [
              0.2222222222222222,
              "#7201a8"
             ],
             [
              0.3333333333333333,
              "#9c179e"
             ],
             [
              0.4444444444444444,
              "#bd3786"
             ],
             [
              0.5555555555555556,
              "#d8576b"
             ],
             [
              0.6666666666666666,
              "#ed7953"
             ],
             [
              0.7777777777777778,
              "#fb9f3a"
             ],
             [
              0.8888888888888888,
              "#fdca26"
             ],
             [
              1,
              "#f0f921"
             ]
            ],
            "type": "heatmap"
           }
          ],
          "heatmapgl": [
           {
            "colorbar": {
             "outlinewidth": 0,
             "ticks": ""
            },
            "colorscale": [
             [
              0,
              "#0d0887"
             ],
             [
              0.1111111111111111,
              "#46039f"
             ],
             [
              0.2222222222222222,
              "#7201a8"
             ],
             [
              0.3333333333333333,
              "#9c179e"
             ],
             [
              0.4444444444444444,
              "#bd3786"
             ],
             [
              0.5555555555555556,
              "#d8576b"
             ],
             [
              0.6666666666666666,
              "#ed7953"
             ],
             [
              0.7777777777777778,
              "#fb9f3a"
             ],
             [
              0.8888888888888888,
              "#fdca26"
             ],
             [
              1,
              "#f0f921"
             ]
            ],
            "type": "heatmapgl"
           }
          ],
          "histogram": [
           {
            "marker": {
             "pattern": {
              "fillmode": "overlay",
              "size": 10,
              "solidity": 0.2
             }
            },
            "type": "histogram"
           }
          ],
          "histogram2d": [
           {
            "colorbar": {
             "outlinewidth": 0,
             "ticks": ""
            },
            "colorscale": [
             [
              0,
              "#0d0887"
             ],
             [
              0.1111111111111111,
              "#46039f"
             ],
             [
              0.2222222222222222,
              "#7201a8"
             ],
             [
              0.3333333333333333,
              "#9c179e"
             ],
             [
              0.4444444444444444,
              "#bd3786"
             ],
             [
              0.5555555555555556,
              "#d8576b"
             ],
             [
              0.6666666666666666,
              "#ed7953"
             ],
             [
              0.7777777777777778,
              "#fb9f3a"
             ],
             [
              0.8888888888888888,
              "#fdca26"
             ],
             [
              1,
              "#f0f921"
             ]
            ],
            "type": "histogram2d"
           }
          ],
          "histogram2dcontour": [
           {
            "colorbar": {
             "outlinewidth": 0,
             "ticks": ""
            },
            "colorscale": [
             [
              0,
              "#0d0887"
             ],
             [
              0.1111111111111111,
              "#46039f"
             ],
             [
              0.2222222222222222,
              "#7201a8"
             ],
             [
              0.3333333333333333,
              "#9c179e"
             ],
             [
              0.4444444444444444,
              "#bd3786"
             ],
             [
              0.5555555555555556,
              "#d8576b"
             ],
             [
              0.6666666666666666,
              "#ed7953"
             ],
             [
              0.7777777777777778,
              "#fb9f3a"
             ],
             [
              0.8888888888888888,
              "#fdca26"
             ],
             [
              1,
              "#f0f921"
             ]
            ],
            "type": "histogram2dcontour"
           }
          ],
          "mesh3d": [
           {
            "colorbar": {
             "outlinewidth": 0,
             "ticks": ""
            },
            "type": "mesh3d"
           }
          ],
          "parcoords": [
           {
            "line": {
             "colorbar": {
              "outlinewidth": 0,
              "ticks": ""
             }
            },
            "type": "parcoords"
           }
          ],
          "pie": [
           {
            "automargin": true,
            "type": "pie"
           }
          ],
          "scatter": [
           {
            "marker": {
             "line": {
              "color": "#283442"
             }
            },
            "type": "scatter"
           }
          ],
          "scatter3d": [
           {
            "line": {
             "colorbar": {
              "outlinewidth": 0,
              "ticks": ""
             }
            },
            "marker": {
             "colorbar": {
              "outlinewidth": 0,
              "ticks": ""
             }
            },
            "type": "scatter3d"
           }
          ],
          "scattercarpet": [
           {
            "marker": {
             "colorbar": {
              "outlinewidth": 0,
              "ticks": ""
             }
            },
            "type": "scattercarpet"
           }
          ],
          "scattergeo": [
           {
            "marker": {
             "colorbar": {
              "outlinewidth": 0,
              "ticks": ""
             }
            },
            "type": "scattergeo"
           }
          ],
          "scattergl": [
           {
            "marker": {
             "line": {
              "color": "#283442"
             }
            },
            "type": "scattergl"
           }
          ],
          "scattermapbox": [
           {
            "marker": {
             "colorbar": {
              "outlinewidth": 0,
              "ticks": ""
             }
            },
            "type": "scattermapbox"
           }
          ],
          "scatterpolar": [
           {
            "marker": {
             "colorbar": {
              "outlinewidth": 0,
              "ticks": ""
             }
            },
            "type": "scatterpolar"
           }
          ],
          "scatterpolargl": [
           {
            "marker": {
             "colorbar": {
              "outlinewidth": 0,
              "ticks": ""
             }
            },
            "type": "scatterpolargl"
           }
          ],
          "scatterternary": [
           {
            "marker": {
             "colorbar": {
              "outlinewidth": 0,
              "ticks": ""
             }
            },
            "type": "scatterternary"
           }
          ],
          "surface": [
           {
            "colorbar": {
             "outlinewidth": 0,
             "ticks": ""
            },
            "colorscale": [
             [
              0,
              "#0d0887"
             ],
             [
              0.1111111111111111,
              "#46039f"
             ],
             [
              0.2222222222222222,
              "#7201a8"
             ],
             [
              0.3333333333333333,
              "#9c179e"
             ],
             [
              0.4444444444444444,
              "#bd3786"
             ],
             [
              0.5555555555555556,
              "#d8576b"
             ],
             [
              0.6666666666666666,
              "#ed7953"
             ],
             [
              0.7777777777777778,
              "#fb9f3a"
             ],
             [
              0.8888888888888888,
              "#fdca26"
             ],
             [
              1,
              "#f0f921"
             ]
            ],
            "type": "surface"
           }
          ],
          "table": [
           {
            "cells": {
             "fill": {
              "color": "#506784"
             },
             "line": {
              "color": "rgb(17,17,17)"
             }
            },
            "header": {
             "fill": {
              "color": "#2a3f5f"
             },
             "line": {
              "color": "rgb(17,17,17)"
             }
            },
            "type": "table"
           }
          ]
         },
         "layout": {
          "annotationdefaults": {
           "arrowcolor": "#f2f5fa",
           "arrowhead": 0,
           "arrowwidth": 1
          },
          "autotypenumbers": "strict",
          "coloraxis": {
           "colorbar": {
            "outlinewidth": 0,
            "ticks": ""
           }
          },
          "colorscale": {
           "diverging": [
            [
             0,
             "#8e0152"
            ],
            [
             0.1,
             "#c51b7d"
            ],
            [
             0.2,
             "#de77ae"
            ],
            [
             0.3,
             "#f1b6da"
            ],
            [
             0.4,
             "#fde0ef"
            ],
            [
             0.5,
             "#f7f7f7"
            ],
            [
             0.6,
             "#e6f5d0"
            ],
            [
             0.7,
             "#b8e186"
            ],
            [
             0.8,
             "#7fbc41"
            ],
            [
             0.9,
             "#4d9221"
            ],
            [
             1,
             "#276419"
            ]
           ],
           "sequential": [
            [
             0,
             "#0d0887"
            ],
            [
             0.1111111111111111,
             "#46039f"
            ],
            [
             0.2222222222222222,
             "#7201a8"
            ],
            [
             0.3333333333333333,
             "#9c179e"
            ],
            [
             0.4444444444444444,
             "#bd3786"
            ],
            [
             0.5555555555555556,
             "#d8576b"
            ],
            [
             0.6666666666666666,
             "#ed7953"
            ],
            [
             0.7777777777777778,
             "#fb9f3a"
            ],
            [
             0.8888888888888888,
             "#fdca26"
            ],
            [
             1,
             "#f0f921"
            ]
           ],
           "sequentialminus": [
            [
             0,
             "#0d0887"
            ],
            [
             0.1111111111111111,
             "#46039f"
            ],
            [
             0.2222222222222222,
             "#7201a8"
            ],
            [
             0.3333333333333333,
             "#9c179e"
            ],
            [
             0.4444444444444444,
             "#bd3786"
            ],
            [
             0.5555555555555556,
             "#d8576b"
            ],
            [
             0.6666666666666666,
             "#ed7953"
            ],
            [
             0.7777777777777778,
             "#fb9f3a"
            ],
            [
             0.8888888888888888,
             "#fdca26"
            ],
            [
             1,
             "#f0f921"
            ]
           ]
          },
          "colorway": [
           "#636efa",
           "#EF553B",
           "#00cc96",
           "#ab63fa",
           "#FFA15A",
           "#19d3f3",
           "#FF6692",
           "#B6E880",
           "#FF97FF",
           "#FECB52"
          ],
          "font": {
           "color": "#f2f5fa"
          },
          "geo": {
           "bgcolor": "rgb(17,17,17)",
           "lakecolor": "rgb(17,17,17)",
           "landcolor": "rgb(17,17,17)",
           "showlakes": true,
           "showland": true,
           "subunitcolor": "#506784"
          },
          "hoverlabel": {
           "align": "left"
          },
          "hovermode": "closest",
          "mapbox": {
           "style": "dark"
          },
          "paper_bgcolor": "rgb(17,17,17)",
          "plot_bgcolor": "rgb(17,17,17)",
          "polar": {
           "angularaxis": {
            "gridcolor": "#506784",
            "linecolor": "#506784",
            "ticks": ""
           },
           "bgcolor": "rgb(17,17,17)",
           "radialaxis": {
            "gridcolor": "#506784",
            "linecolor": "#506784",
            "ticks": ""
           }
          },
          "scene": {
           "xaxis": {
            "backgroundcolor": "rgb(17,17,17)",
            "gridcolor": "#506784",
            "gridwidth": 2,
            "linecolor": "#506784",
            "showbackground": true,
            "ticks": "",
            "zerolinecolor": "#C8D4E3"
           },
           "yaxis": {
            "backgroundcolor": "rgb(17,17,17)",
            "gridcolor": "#506784",
            "gridwidth": 2,
            "linecolor": "#506784",
            "showbackground": true,
            "ticks": "",
            "zerolinecolor": "#C8D4E3"
           },
           "zaxis": {
            "backgroundcolor": "rgb(17,17,17)",
            "gridcolor": "#506784",
            "gridwidth": 2,
            "linecolor": "#506784",
            "showbackground": true,
            "ticks": "",
            "zerolinecolor": "#C8D4E3"
           }
          },
          "shapedefaults": {
           "line": {
            "color": "#f2f5fa"
           }
          },
          "sliderdefaults": {
           "bgcolor": "#C8D4E3",
           "bordercolor": "rgb(17,17,17)",
           "borderwidth": 1,
           "tickwidth": 0
          },
          "ternary": {
           "aaxis": {
            "gridcolor": "#506784",
            "linecolor": "#506784",
            "ticks": ""
           },
           "baxis": {
            "gridcolor": "#506784",
            "linecolor": "#506784",
            "ticks": ""
           },
           "bgcolor": "rgb(17,17,17)",
           "caxis": {
            "gridcolor": "#506784",
            "linecolor": "#506784",
            "ticks": ""
           }
          },
          "title": {
           "x": 0.05
          },
          "updatemenudefaults": {
           "bgcolor": "#506784",
           "borderwidth": 0
          },
          "xaxis": {
           "automargin": true,
           "gridcolor": "#283442",
           "linecolor": "#506784",
           "ticks": "",
           "title": {
            "standoff": 15
           },
           "zerolinecolor": "#283442",
           "zerolinewidth": 2
          },
          "yaxis": {
           "automargin": true,
           "gridcolor": "#283442",
           "linecolor": "#506784",
           "ticks": "",
           "title": {
            "standoff": 15
           },
           "zerolinecolor": "#283442",
           "zerolinewidth": 2
          }
         }
        },
        "title": {
         "text": "Velocity Contour Plot"
        },
        "xaxis": {
         "anchor": "y",
         "domain": [
          0,
          0.45
         ],
         "title": {
          "text": "Density"
         }
        },
        "xaxis2": {
         "anchor": "y2",
         "domain": [
          0.55,
          1
         ]
        },
        "yaxis": {
         "anchor": "x",
         "domain": [
          0,
          1
         ],
         "title": {
          "text": "Hveg/WC"
         }
        },
        "yaxis2": {
         "anchor": "x2",
         "domain": [
          0,
          1
         ]
        }
       }
      }
     },
     "metadata": {},
     "output_type": "display_data"
    }
   ],
   "source": [
    "fig = make_subplots(rows=1, cols=2,\n",
    "                    subplot_titles=('Baseline Runs', 'Vegetated Runs'))\n",
    "\n",
    "cbarlocs = [.85, .5, .15]\n",
    "\n",
    "fig.add_trace(go.Contour(\n",
    "        z=df2['mean_u_25'],\n",
    "        x=df2['density_total'], # horizontal axis\n",
    "        y=df2['Hveg/WC'],# vertical axis,\n",
    "        colorbar_x=0.46,\n",
    "        line_smoothing=0.85), 1, 1)\n",
    "fig.add_trace(go.Contour(\n",
    "        z=df1['mean_u_25'],\n",
    "        x=df1['density_total'], # horizontal axis\n",
    "        y=df1['Hveg/WC'],# vertical axis,\n",
    "        line_smoothing=0.85), 1, 2)\n",
    "\n",
    "#fig = go.Figure(data =\n",
    " #   go.Contour(\n",
    "  #      z=dff['mean_u_25'],\n",
    "   #     x=dff['density_total'], # horizontal axis\n",
    "    #    y=dff['Hveg/WC'],# vertical axis,\n",
    "     #))\n",
    "fig.update_layout(\n",
    "    title=\"Velocity Contour Plot\",\n",
    "    xaxis_title=\"Density\",\n",
    "    yaxis_title=\"Hveg/WC\",\n",
    "    autosize=True,\n",
    "    template='plotly_dark')\n",
    "fig.show()"
   ]
  },
  {
   "cell_type": "markdown",
   "metadata": {},
   "source": [
    "## Maps"
   ]
  },
  {
   "cell_type": "markdown",
   "metadata": {},
   "source": [
    "## Animations"
   ]
  }
 ],
 "metadata": {
  "kernelspec": {
   "display_name": "Python 3.9.13 ('EFMHModeling_20220915')",
   "language": "python",
   "name": "python3"
  },
  "language_info": {
   "codemirror_mode": {
    "name": "ipython",
    "version": 3
   },
   "file_extension": ".py",
   "mimetype": "text/x-python",
   "name": "python",
   "nbconvert_exporter": "python",
   "pygments_lexer": "ipython3",
   "version": "3.9.13"
  },
  "orig_nbformat": 4,
  "vscode": {
   "interpreter": {
    "hash": "b17acb4996bf1f81ae7b7b859afc8c9430e41316f8cf32ebfba3f7b073322fea"
   }
  }
 },
 "nbformat": 4,
 "nbformat_minor": 2
}
