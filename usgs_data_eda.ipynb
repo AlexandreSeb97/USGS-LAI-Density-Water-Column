{
 "cells": [
  {
   "cell_type": "markdown",
   "metadata": {},
   "source": [
    "# USGS Exploratory Data Analysis\n",
    "\n",
    "Data collected by the USGS at the Western Ecological Research Center USGS\n",
    "Davis Field Station"
   ]
  },
  {
   "cell_type": "code",
   "execution_count": 10,
   "metadata": {},
   "outputs": [],
   "source": [
    "from IPython.core.interactiveshell import InteractiveShell\n",
    "InteractiveShell.ast_node_interactivity = \"all\""
   ]
  },
  {
   "cell_type": "code",
   "execution_count": 27,
   "metadata": {},
   "outputs": [
    {
     "name": "stderr",
     "output_type": "stream",
     "text": [
      "c:\\Users\\erich\\anaconda3\\envs\\RemoteSensing-DataScience_20220\\lib\\site-packages\\scipy\\__init__.py:146: UserWarning:\n",
      "\n",
      "A NumPy version >=1.16.5 and <1.23.0 is required for this version of SciPy (detected version 1.23.1\n",
      "\n"
     ]
    }
   ],
   "source": [
    "import pandas as pd\n",
    "import numpy as np\n",
    "import plotly.express as px\n",
    "import matplotlib.pyplot as plt"
   ]
  },
  {
   "cell_type": "markdown",
   "metadata": {},
   "source": [
    "Import Data"
   ]
  },
  {
   "cell_type": "code",
   "execution_count": 12,
   "metadata": {},
   "outputs": [
    {
     "data": {
      "text/html": [
       "<div>\n",
       "<style scoped>\n",
       "    .dataframe tbody tr th:only-of-type {\n",
       "        vertical-align: middle;\n",
       "    }\n",
       "\n",
       "    .dataframe tbody tr th {\n",
       "        vertical-align: top;\n",
       "    }\n",
       "\n",
       "    .dataframe thead th {\n",
       "        text-align: right;\n",
       "    }\n",
       "</style>\n",
       "<table border=\"1\" class=\"dataframe\">\n",
       "  <thead>\n",
       "    <tr style=\"text-align: right;\">\n",
       "      <th></th>\n",
       "      <th>Season</th>\n",
       "      <th>date</th>\n",
       "      <th>site</th>\n",
       "      <th>plot_ID</th>\n",
       "      <th>Elevation</th>\n",
       "      <th>channel_dist</th>\n",
       "      <th>ave_ht</th>\n",
       "      <th>cover</th>\n",
       "      <th>vol_est</th>\n",
       "      <th>vol_calc</th>\n",
       "      <th>density_naive</th>\n",
       "      <th>density_final</th>\n",
       "      <th>frontal_total</th>\n",
       "      <th>frontal_5</th>\n",
       "      <th>frontal_10</th>\n",
       "      <th>frontal_15</th>\n",
       "      <th>frontal_20</th>\n",
       "      <th>frontal_25</th>\n",
       "      <th>frontal_30</th>\n",
       "    </tr>\n",
       "  </thead>\n",
       "  <tbody>\n",
       "    <tr>\n",
       "      <th>0</th>\n",
       "      <td>Summer</td>\n",
       "      <td>7/28/2021</td>\n",
       "      <td>Bay</td>\n",
       "      <td>A0.5</td>\n",
       "      <td>2.1313</td>\n",
       "      <td>0.5</td>\n",
       "      <td>6.5</td>\n",
       "      <td>0.10</td>\n",
       "      <td>6500</td>\n",
       "      <td>233.351057</td>\n",
       "      <td>267.040006</td>\n",
       "      <td>630.481094</td>\n",
       "      <td>1103.449997</td>\n",
       "      <td>848.807690</td>\n",
       "      <td>254.642307</td>\n",
       "      <td>0.000000</td>\n",
       "      <td>0.000000</td>\n",
       "      <td>0.0</td>\n",
       "      <td>0.0</td>\n",
       "    </tr>\n",
       "    <tr>\n",
       "      <th>1</th>\n",
       "      <td>Summer</td>\n",
       "      <td>7/28/2021</td>\n",
       "      <td>Bay</td>\n",
       "      <td>A2</td>\n",
       "      <td>2.3217</td>\n",
       "      <td>2.0</td>\n",
       "      <td>11.0</td>\n",
       "      <td>0.45</td>\n",
       "      <td>49500</td>\n",
       "      <td>1777.058049</td>\n",
       "      <td>2033.612355</td>\n",
       "      <td>2837.164924</td>\n",
       "      <td>8403.196133</td>\n",
       "      <td>3819.634606</td>\n",
       "      <td>3819.634606</td>\n",
       "      <td>763.926921</td>\n",
       "      <td>0.000000</td>\n",
       "      <td>0.0</td>\n",
       "      <td>0.0</td>\n",
       "    </tr>\n",
       "    <tr>\n",
       "      <th>2</th>\n",
       "      <td>Summer</td>\n",
       "      <td>7/28/2021</td>\n",
       "      <td>Bay</td>\n",
       "      <td>A6</td>\n",
       "      <td>2.2421</td>\n",
       "      <td>6.0</td>\n",
       "      <td>19.0</td>\n",
       "      <td>0.55</td>\n",
       "      <td>104500</td>\n",
       "      <td>3751.566993</td>\n",
       "      <td>4293.181638</td>\n",
       "      <td>3467.646018</td>\n",
       "      <td>17740.080726</td>\n",
       "      <td>4668.442296</td>\n",
       "      <td>4668.442296</td>\n",
       "      <td>4668.442296</td>\n",
       "      <td>3734.753837</td>\n",
       "      <td>0.0</td>\n",
       "      <td>0.0</td>\n",
       "    </tr>\n",
       "    <tr>\n",
       "      <th>3</th>\n",
       "      <td>Summer</td>\n",
       "      <td>7/28/2021</td>\n",
       "      <td>Bay</td>\n",
       "      <td>A12</td>\n",
       "      <td>2.2417</td>\n",
       "      <td>12.0</td>\n",
       "      <td>15.0</td>\n",
       "      <td>0.75</td>\n",
       "      <td>112500</td>\n",
       "      <td>4038.768294</td>\n",
       "      <td>4621.846261</td>\n",
       "      <td>4728.608206</td>\n",
       "      <td>19098.173030</td>\n",
       "      <td>6366.057677</td>\n",
       "      <td>6366.057677</td>\n",
       "      <td>6366.057677</td>\n",
       "      <td>0.000000</td>\n",
       "      <td>0.0</td>\n",
       "      <td>0.0</td>\n",
       "    </tr>\n",
       "    <tr>\n",
       "      <th>4</th>\n",
       "      <td>Summer</td>\n",
       "      <td>7/28/2021</td>\n",
       "      <td>Bay</td>\n",
       "      <td>A24</td>\n",
       "      <td>2.2217</td>\n",
       "      <td>24.0</td>\n",
       "      <td>11.0</td>\n",
       "      <td>0.55</td>\n",
       "      <td>60500</td>\n",
       "      <td>2171.959838</td>\n",
       "      <td>2485.526211</td>\n",
       "      <td>3467.646018</td>\n",
       "      <td>10270.573052</td>\n",
       "      <td>4668.442296</td>\n",
       "      <td>4668.442296</td>\n",
       "      <td>933.688459</td>\n",
       "      <td>0.000000</td>\n",
       "      <td>0.0</td>\n",
       "      <td>0.0</td>\n",
       "    </tr>\n",
       "  </tbody>\n",
       "</table>\n",
       "</div>"
      ],
      "text/plain": [
       "   Season       date site plot_ID  Elevation  channel_dist  ave_ht  cover  \\\n",
       "0  Summer  7/28/2021  Bay    A0.5     2.1313           0.5     6.5   0.10   \n",
       "1  Summer  7/28/2021  Bay      A2     2.3217           2.0    11.0   0.45   \n",
       "2  Summer  7/28/2021  Bay      A6     2.2421           6.0    19.0   0.55   \n",
       "3  Summer  7/28/2021  Bay     A12     2.2417          12.0    15.0   0.75   \n",
       "4  Summer  7/28/2021  Bay     A24     2.2217          24.0    11.0   0.55   \n",
       "\n",
       "   vol_est     vol_calc  density_naive  density_final  frontal_total  \\\n",
       "0     6500   233.351057     267.040006     630.481094    1103.449997   \n",
       "1    49500  1777.058049    2033.612355    2837.164924    8403.196133   \n",
       "2   104500  3751.566993    4293.181638    3467.646018   17740.080726   \n",
       "3   112500  4038.768294    4621.846261    4728.608206   19098.173030   \n",
       "4    60500  2171.959838    2485.526211    3467.646018   10270.573052   \n",
       "\n",
       "     frontal_5   frontal_10   frontal_15   frontal_20  frontal_25  frontal_30  \n",
       "0   848.807690   254.642307     0.000000     0.000000         0.0         0.0  \n",
       "1  3819.634606  3819.634606   763.926921     0.000000         0.0         0.0  \n",
       "2  4668.442296  4668.442296  4668.442296  3734.753837         0.0         0.0  \n",
       "3  6366.057677  6366.057677  6366.057677     0.000000         0.0         0.0  \n",
       "4  4668.442296  4668.442296   933.688459     0.000000         0.0         0.0  "
      ]
     },
     "execution_count": 12,
     "metadata": {},
     "output_type": "execute_result"
    }
   ],
   "source": [
    "filename = 'data/USGS_veg_density_09.16.2022.csv'\n",
    "df = pd.read_csv(filename)\n",
    "df.head()"
   ]
  },
  {
   "cell_type": "markdown",
   "metadata": {},
   "source": [
    "Get statistical and other properties of data"
   ]
  },
  {
   "cell_type": "code",
   "execution_count": 13,
   "metadata": {},
   "outputs": [
    {
     "data": {
      "text/html": [
       "<div>\n",
       "<style scoped>\n",
       "    .dataframe tbody tr th:only-of-type {\n",
       "        vertical-align: middle;\n",
       "    }\n",
       "\n",
       "    .dataframe tbody tr th {\n",
       "        vertical-align: top;\n",
       "    }\n",
       "\n",
       "    .dataframe thead th {\n",
       "        text-align: right;\n",
       "    }\n",
       "</style>\n",
       "<table border=\"1\" class=\"dataframe\">\n",
       "  <thead>\n",
       "    <tr style=\"text-align: right;\">\n",
       "      <th></th>\n",
       "      <th>Elevation</th>\n",
       "      <th>channel_dist</th>\n",
       "      <th>ave_ht</th>\n",
       "      <th>cover</th>\n",
       "      <th>vol_est</th>\n",
       "      <th>vol_calc</th>\n",
       "      <th>density_naive</th>\n",
       "      <th>density_final</th>\n",
       "      <th>frontal_total</th>\n",
       "      <th>frontal_5</th>\n",
       "      <th>frontal_10</th>\n",
       "      <th>frontal_15</th>\n",
       "      <th>frontal_20</th>\n",
       "      <th>frontal_25</th>\n",
       "      <th>frontal_30</th>\n",
       "    </tr>\n",
       "  </thead>\n",
       "  <tbody>\n",
       "    <tr>\n",
       "      <th>count</th>\n",
       "      <td>114.000000</td>\n",
       "      <td>114.000000</td>\n",
       "      <td>114.000000</td>\n",
       "      <td>114.000000</td>\n",
       "      <td>114.000000</td>\n",
       "      <td>114.000000</td>\n",
       "      <td>114.000000</td>\n",
       "      <td>114.000000</td>\n",
       "      <td>114.000000</td>\n",
       "      <td>114.000000</td>\n",
       "      <td>114.000000</td>\n",
       "      <td>114.000000</td>\n",
       "      <td>114.000000</td>\n",
       "      <td>114.000000</td>\n",
       "      <td>114.000000</td>\n",
       "    </tr>\n",
       "    <tr>\n",
       "      <th>mean</th>\n",
       "      <td>2.149421</td>\n",
       "      <td>16.500000</td>\n",
       "      <td>15.346491</td>\n",
       "      <td>0.748684</td>\n",
       "      <td>118864.035088</td>\n",
       "      <td>4267.238188</td>\n",
       "      <td>4883.300410</td>\n",
       "      <td>4720.312403</td>\n",
       "      <td>20178.541415</td>\n",
       "      <td>6348.188041</td>\n",
       "      <td>6007.175829</td>\n",
       "      <td>4656.529206</td>\n",
       "      <td>2354.324488</td>\n",
       "      <td>702.127765</td>\n",
       "      <td>110.196086</td>\n",
       "    </tr>\n",
       "    <tr>\n",
       "      <th>std</th>\n",
       "      <td>0.090384</td>\n",
       "      <td>18.428527</td>\n",
       "      <td>5.261787</td>\n",
       "      <td>0.191346</td>\n",
       "      <td>53890.222942</td>\n",
       "      <td>1934.667767</td>\n",
       "      <td>2213.976226</td>\n",
       "      <td>1206.400452</td>\n",
       "      <td>9148.487132</td>\n",
       "      <td>1636.243447</td>\n",
       "      <td>2096.401415</td>\n",
       "      <td>2856.140905</td>\n",
       "      <td>2947.763843</td>\n",
       "      <td>1859.071309</td>\n",
       "      <td>691.045946</td>\n",
       "    </tr>\n",
       "    <tr>\n",
       "      <th>min</th>\n",
       "      <td>1.867300</td>\n",
       "      <td>0.500000</td>\n",
       "      <td>4.000000</td>\n",
       "      <td>0.050000</td>\n",
       "      <td>5000.000000</td>\n",
       "      <td>179.500813</td>\n",
       "      <td>205.415389</td>\n",
       "      <td>315.240547</td>\n",
       "      <td>848.807690</td>\n",
       "      <td>424.403845</td>\n",
       "      <td>0.000000</td>\n",
       "      <td>0.000000</td>\n",
       "      <td>0.000000</td>\n",
       "      <td>0.000000</td>\n",
       "      <td>0.000000</td>\n",
       "    </tr>\n",
       "    <tr>\n",
       "      <th>25%</th>\n",
       "      <td>2.120700</td>\n",
       "      <td>2.000000</td>\n",
       "      <td>12.000000</td>\n",
       "      <td>0.700000</td>\n",
       "      <td>90250.000000</td>\n",
       "      <td>3239.989676</td>\n",
       "      <td>3707.747778</td>\n",
       "      <td>4413.367659</td>\n",
       "      <td>15320.978809</td>\n",
       "      <td>5941.653832</td>\n",
       "      <td>5517.249986</td>\n",
       "      <td>1549.074035</td>\n",
       "      <td>0.000000</td>\n",
       "      <td>0.000000</td>\n",
       "      <td>0.000000</td>\n",
       "    </tr>\n",
       "    <tr>\n",
       "      <th>50%</th>\n",
       "      <td>2.140900</td>\n",
       "      <td>12.000000</td>\n",
       "      <td>15.000000</td>\n",
       "      <td>0.800000</td>\n",
       "      <td>118000.000000</td>\n",
       "      <td>4236.219188</td>\n",
       "      <td>4847.803189</td>\n",
       "      <td>5043.848753</td>\n",
       "      <td>20031.861489</td>\n",
       "      <td>6790.461522</td>\n",
       "      <td>6790.461522</td>\n",
       "      <td>5517.249986</td>\n",
       "      <td>0.000000</td>\n",
       "      <td>0.000000</td>\n",
       "      <td>0.000000</td>\n",
       "    </tr>\n",
       "    <tr>\n",
       "      <th>75%</th>\n",
       "      <td>2.219000</td>\n",
       "      <td>24.000000</td>\n",
       "      <td>19.000000</td>\n",
       "      <td>0.900000</td>\n",
       "      <td>152000.000000</td>\n",
       "      <td>5456.824717</td>\n",
       "      <td>6244.627837</td>\n",
       "      <td>5674.329848</td>\n",
       "      <td>25803.753783</td>\n",
       "      <td>7639.269212</td>\n",
       "      <td>7533.168251</td>\n",
       "      <td>7214.865367</td>\n",
       "      <td>5007.965372</td>\n",
       "      <td>0.000000</td>\n",
       "      <td>0.000000</td>\n",
       "    </tr>\n",
       "    <tr>\n",
       "      <th>max</th>\n",
       "      <td>2.321700</td>\n",
       "      <td>72.000000</td>\n",
       "      <td>30.000000</td>\n",
       "      <td>0.950000</td>\n",
       "      <td>256500.000000</td>\n",
       "      <td>9208.391710</td>\n",
       "      <td>10537.809474</td>\n",
       "      <td>5989.570395</td>\n",
       "      <td>43543.834509</td>\n",
       "      <td>8063.673057</td>\n",
       "      <td>8063.673057</td>\n",
       "      <td>8063.673057</td>\n",
       "      <td>8063.673057</td>\n",
       "      <td>8063.673057</td>\n",
       "      <td>6366.057677</td>\n",
       "    </tr>\n",
       "  </tbody>\n",
       "</table>\n",
       "</div>"
      ],
      "text/plain": [
       "        Elevation  channel_dist      ave_ht       cover        vol_est  \\\n",
       "count  114.000000    114.000000  114.000000  114.000000     114.000000   \n",
       "mean     2.149421     16.500000   15.346491    0.748684  118864.035088   \n",
       "std      0.090384     18.428527    5.261787    0.191346   53890.222942   \n",
       "min      1.867300      0.500000    4.000000    0.050000    5000.000000   \n",
       "25%      2.120700      2.000000   12.000000    0.700000   90250.000000   \n",
       "50%      2.140900     12.000000   15.000000    0.800000  118000.000000   \n",
       "75%      2.219000     24.000000   19.000000    0.900000  152000.000000   \n",
       "max      2.321700     72.000000   30.000000    0.950000  256500.000000   \n",
       "\n",
       "          vol_calc  density_naive  density_final  frontal_total    frontal_5  \\\n",
       "count   114.000000     114.000000     114.000000     114.000000   114.000000   \n",
       "mean   4267.238188    4883.300410    4720.312403   20178.541415  6348.188041   \n",
       "std    1934.667767    2213.976226    1206.400452    9148.487132  1636.243447   \n",
       "min     179.500813     205.415389     315.240547     848.807690   424.403845   \n",
       "25%    3239.989676    3707.747778    4413.367659   15320.978809  5941.653832   \n",
       "50%    4236.219188    4847.803189    5043.848753   20031.861489  6790.461522   \n",
       "75%    5456.824717    6244.627837    5674.329848   25803.753783  7639.269212   \n",
       "max    9208.391710   10537.809474    5989.570395   43543.834509  8063.673057   \n",
       "\n",
       "        frontal_10   frontal_15   frontal_20   frontal_25   frontal_30  \n",
       "count   114.000000   114.000000   114.000000   114.000000   114.000000  \n",
       "mean   6007.175829  4656.529206  2354.324488   702.127765   110.196086  \n",
       "std    2096.401415  2856.140905  2947.763843  1859.071309   691.045946  \n",
       "min       0.000000     0.000000     0.000000     0.000000     0.000000  \n",
       "25%    5517.249986  1549.074035     0.000000     0.000000     0.000000  \n",
       "50%    6790.461522  5517.249986     0.000000     0.000000     0.000000  \n",
       "75%    7533.168251  7214.865367  5007.965372     0.000000     0.000000  \n",
       "max    8063.673057  8063.673057  8063.673057  8063.673057  6366.057677  "
      ]
     },
     "execution_count": 13,
     "metadata": {},
     "output_type": "execute_result"
    }
   ],
   "source": [
    "df.describe()"
   ]
  },
  {
   "cell_type": "code",
   "execution_count": 15,
   "metadata": {},
   "outputs": [
    {
     "data": {
      "text/plain": [
       "7/28/2021    57\n",
       "1/25/2022    57\n",
       "Name: date, dtype: int64"
      ]
     },
     "execution_count": 15,
     "metadata": {},
     "output_type": "execute_result"
    },
    {
     "data": {
      "text/plain": [
       "Bay         42\n",
       "Creek       36\n",
       "Interior    36\n",
       "Name: site, dtype: int64"
      ]
     },
     "execution_count": 15,
     "metadata": {},
     "output_type": "execute_result"
    }
   ],
   "source": [
    "df['date'].value_counts()\n",
    "df['site'].value_counts()"
   ]
  },
  {
   "cell_type": "markdown",
   "metadata": {},
   "source": [
    "Categorizing data by site"
   ]
  },
  {
   "cell_type": "code",
   "execution_count": 18,
   "metadata": {},
   "outputs": [],
   "source": [
    "df_bay = df[df['site'] == 'Bay']\n",
    "df_creek = df[df['site'] == 'Creek']\n",
    "df_interior = df[df['site'] == 'Interior']"
   ]
  },
  {
   "cell_type": "markdown",
   "metadata": {},
   "source": [
    "Visualizations"
   ]
  },
  {
   "cell_type": "code",
   "execution_count": 45,
   "metadata": {},
   "outputs": [
    {
     "data": {
      "application/vnd.plotly.v1+json": {
       "config": {
        "plotlyServerURL": "https://plot.ly"
       },
       "data": [
        {
         "hovertemplate": "site=Bay<br>channel_dist=%{x}<br>ave_ht=%{y}<extra></extra>",
         "legendgroup": "Bay",
         "marker": {
          "color": "#636efa",
          "symbol": "circle"
         },
         "mode": "markers",
         "name": "Bay",
         "orientation": "v",
         "showlegend": true,
         "type": "scatter",
         "x": [
          0.5,
          2,
          6,
          12,
          24,
          48,
          72,
          0.5,
          2,
          6,
          12,
          24,
          48,
          72,
          0.5,
          2,
          6,
          12,
          24,
          48,
          72,
          0.5,
          2,
          6,
          12,
          24,
          48,
          72,
          0.5,
          2,
          6,
          12,
          24,
          48,
          72,
          0.5,
          2,
          6,
          12,
          24,
          48,
          72
         ],
         "xaxis": "x",
         "y": [
          6.5,
          11,
          19,
          15,
          11,
          16,
          24,
          6,
          7,
          13,
          18,
          26,
          11,
          20,
          6,
          8,
          19,
          25,
          14,
          9,
          21,
          10,
          18,
          18,
          16,
          13,
          16,
          13,
          12,
          11,
          13,
          11,
          16,
          20,
          13,
          13,
          12,
          4,
          30,
          27,
          17,
          23
         ],
         "yaxis": "y"
        },
        {
         "hovertemplate": "site=Creek<br>channel_dist=%{x}<br>ave_ht=%{y}<extra></extra>",
         "legendgroup": "Creek",
         "marker": {
          "color": "#EF553B",
          "symbol": "diamond"
         },
         "mode": "markers",
         "name": "Creek",
         "orientation": "v",
         "showlegend": true,
         "type": "scatter",
         "x": [
          0.5,
          2,
          6,
          12,
          24,
          30,
          0.5,
          2,
          6,
          12,
          24,
          30,
          0.5,
          2,
          6,
          12,
          24,
          30,
          0.5,
          2,
          6,
          12,
          24,
          30,
          0.5,
          2,
          6,
          12,
          24,
          30,
          0.5,
          2,
          6,
          12,
          24,
          30
         ],
         "xaxis": "x",
         "y": [
          18,
          15,
          16,
          20,
          14,
          13,
          13,
          18,
          20,
          14,
          18,
          19,
          17,
          19,
          16,
          19,
          15,
          18,
          16,
          17,
          15,
          25,
          11,
          24,
          10,
          13,
          17,
          12,
          15,
          14,
          9,
          11,
          13,
          19,
          17,
          11
         ],
         "yaxis": "y"
        },
        {
         "hovertemplate": "site=Interior<br>channel_dist=%{x}<br>ave_ht=%{y}<extra></extra>",
         "legendgroup": "Interior",
         "marker": {
          "color": "#00cc96",
          "symbol": "square"
         },
         "mode": "markers",
         "name": "Interior",
         "orientation": "v",
         "showlegend": true,
         "type": "scatter",
         "x": [
          0.5,
          2,
          6,
          12,
          24,
          30,
          0.5,
          2,
          6,
          12,
          24,
          30,
          0.5,
          2,
          6,
          12,
          24,
          30,
          0.5,
          2,
          6,
          12,
          24,
          30,
          0.5,
          2,
          6,
          12,
          24,
          30,
          0.5,
          2,
          6,
          12,
          24,
          30
         ],
         "xaxis": "x",
         "y": [
          22,
          13,
          14,
          18,
          20,
          15,
          11,
          7,
          12,
          14,
          19,
          23,
          10,
          7,
          23,
          21,
          22,
          26,
          5,
          6,
          15,
          17,
          19,
          22,
          9,
          6,
          11,
          14,
          22,
          14,
          12,
          13,
          19,
          14,
          20,
          12
         ],
         "yaxis": "y"
        }
       ],
       "layout": {
        "legend": {
         "title": {
          "text": "site"
         },
         "tracegroupgap": 0
        },
        "margin": {
         "t": 60
        },
        "template": {
         "data": {
          "bar": [
           {
            "error_x": {
             "color": "#2a3f5f"
            },
            "error_y": {
             "color": "#2a3f5f"
            },
            "marker": {
             "line": {
              "color": "#E5ECF6",
              "width": 0.5
             },
             "pattern": {
              "fillmode": "overlay",
              "size": 10,
              "solidity": 0.2
             }
            },
            "type": "bar"
           }
          ],
          "barpolar": [
           {
            "marker": {
             "line": {
              "color": "#E5ECF6",
              "width": 0.5
             },
             "pattern": {
              "fillmode": "overlay",
              "size": 10,
              "solidity": 0.2
             }
            },
            "type": "barpolar"
           }
          ],
          "carpet": [
           {
            "aaxis": {
             "endlinecolor": "#2a3f5f",
             "gridcolor": "white",
             "linecolor": "white",
             "minorgridcolor": "white",
             "startlinecolor": "#2a3f5f"
            },
            "baxis": {
             "endlinecolor": "#2a3f5f",
             "gridcolor": "white",
             "linecolor": "white",
             "minorgridcolor": "white",
             "startlinecolor": "#2a3f5f"
            },
            "type": "carpet"
           }
          ],
          "choropleth": [
           {
            "colorbar": {
             "outlinewidth": 0,
             "ticks": ""
            },
            "type": "choropleth"
           }
          ],
          "contour": [
           {
            "colorbar": {
             "outlinewidth": 0,
             "ticks": ""
            },
            "colorscale": [
             [
              0,
              "#0d0887"
             ],
             [
              0.1111111111111111,
              "#46039f"
             ],
             [
              0.2222222222222222,
              "#7201a8"
             ],
             [
              0.3333333333333333,
              "#9c179e"
             ],
             [
              0.4444444444444444,
              "#bd3786"
             ],
             [
              0.5555555555555556,
              "#d8576b"
             ],
             [
              0.6666666666666666,
              "#ed7953"
             ],
             [
              0.7777777777777778,
              "#fb9f3a"
             ],
             [
              0.8888888888888888,
              "#fdca26"
             ],
             [
              1,
              "#f0f921"
             ]
            ],
            "type": "contour"
           }
          ],
          "contourcarpet": [
           {
            "colorbar": {
             "outlinewidth": 0,
             "ticks": ""
            },
            "type": "contourcarpet"
           }
          ],
          "heatmap": [
           {
            "colorbar": {
             "outlinewidth": 0,
             "ticks": ""
            },
            "colorscale": [
             [
              0,
              "#0d0887"
             ],
             [
              0.1111111111111111,
              "#46039f"
             ],
             [
              0.2222222222222222,
              "#7201a8"
             ],
             [
              0.3333333333333333,
              "#9c179e"
             ],
             [
              0.4444444444444444,
              "#bd3786"
             ],
             [
              0.5555555555555556,
              "#d8576b"
             ],
             [
              0.6666666666666666,
              "#ed7953"
             ],
             [
              0.7777777777777778,
              "#fb9f3a"
             ],
             [
              0.8888888888888888,
              "#fdca26"
             ],
             [
              1,
              "#f0f921"
             ]
            ],
            "type": "heatmap"
           }
          ],
          "heatmapgl": [
           {
            "colorbar": {
             "outlinewidth": 0,
             "ticks": ""
            },
            "colorscale": [
             [
              0,
              "#0d0887"
             ],
             [
              0.1111111111111111,
              "#46039f"
             ],
             [
              0.2222222222222222,
              "#7201a8"
             ],
             [
              0.3333333333333333,
              "#9c179e"
             ],
             [
              0.4444444444444444,
              "#bd3786"
             ],
             [
              0.5555555555555556,
              "#d8576b"
             ],
             [
              0.6666666666666666,
              "#ed7953"
             ],
             [
              0.7777777777777778,
              "#fb9f3a"
             ],
             [
              0.8888888888888888,
              "#fdca26"
             ],
             [
              1,
              "#f0f921"
             ]
            ],
            "type": "heatmapgl"
           }
          ],
          "histogram": [
           {
            "marker": {
             "pattern": {
              "fillmode": "overlay",
              "size": 10,
              "solidity": 0.2
             }
            },
            "type": "histogram"
           }
          ],
          "histogram2d": [
           {
            "colorbar": {
             "outlinewidth": 0,
             "ticks": ""
            },
            "colorscale": [
             [
              0,
              "#0d0887"
             ],
             [
              0.1111111111111111,
              "#46039f"
             ],
             [
              0.2222222222222222,
              "#7201a8"
             ],
             [
              0.3333333333333333,
              "#9c179e"
             ],
             [
              0.4444444444444444,
              "#bd3786"
             ],
             [
              0.5555555555555556,
              "#d8576b"
             ],
             [
              0.6666666666666666,
              "#ed7953"
             ],
             [
              0.7777777777777778,
              "#fb9f3a"
             ],
             [
              0.8888888888888888,
              "#fdca26"
             ],
             [
              1,
              "#f0f921"
             ]
            ],
            "type": "histogram2d"
           }
          ],
          "histogram2dcontour": [
           {
            "colorbar": {
             "outlinewidth": 0,
             "ticks": ""
            },
            "colorscale": [
             [
              0,
              "#0d0887"
             ],
             [
              0.1111111111111111,
              "#46039f"
             ],
             [
              0.2222222222222222,
              "#7201a8"
             ],
             [
              0.3333333333333333,
              "#9c179e"
             ],
             [
              0.4444444444444444,
              "#bd3786"
             ],
             [
              0.5555555555555556,
              "#d8576b"
             ],
             [
              0.6666666666666666,
              "#ed7953"
             ],
             [
              0.7777777777777778,
              "#fb9f3a"
             ],
             [
              0.8888888888888888,
              "#fdca26"
             ],
             [
              1,
              "#f0f921"
             ]
            ],
            "type": "histogram2dcontour"
           }
          ],
          "mesh3d": [
           {
            "colorbar": {
             "outlinewidth": 0,
             "ticks": ""
            },
            "type": "mesh3d"
           }
          ],
          "parcoords": [
           {
            "line": {
             "colorbar": {
              "outlinewidth": 0,
              "ticks": ""
             }
            },
            "type": "parcoords"
           }
          ],
          "pie": [
           {
            "automargin": true,
            "type": "pie"
           }
          ],
          "scatter": [
           {
            "fillpattern": {
             "fillmode": "overlay",
             "size": 10,
             "solidity": 0.2
            },
            "type": "scatter"
           }
          ],
          "scatter3d": [
           {
            "line": {
             "colorbar": {
              "outlinewidth": 0,
              "ticks": ""
             }
            },
            "marker": {
             "colorbar": {
              "outlinewidth": 0,
              "ticks": ""
             }
            },
            "type": "scatter3d"
           }
          ],
          "scattercarpet": [
           {
            "marker": {
             "colorbar": {
              "outlinewidth": 0,
              "ticks": ""
             }
            },
            "type": "scattercarpet"
           }
          ],
          "scattergeo": [
           {
            "marker": {
             "colorbar": {
              "outlinewidth": 0,
              "ticks": ""
             }
            },
            "type": "scattergeo"
           }
          ],
          "scattergl": [
           {
            "marker": {
             "colorbar": {
              "outlinewidth": 0,
              "ticks": ""
             }
            },
            "type": "scattergl"
           }
          ],
          "scattermapbox": [
           {
            "marker": {
             "colorbar": {
              "outlinewidth": 0,
              "ticks": ""
             }
            },
            "type": "scattermapbox"
           }
          ],
          "scatterpolar": [
           {
            "marker": {
             "colorbar": {
              "outlinewidth": 0,
              "ticks": ""
             }
            },
            "type": "scatterpolar"
           }
          ],
          "scatterpolargl": [
           {
            "marker": {
             "colorbar": {
              "outlinewidth": 0,
              "ticks": ""
             }
            },
            "type": "scatterpolargl"
           }
          ],
          "scatterternary": [
           {
            "marker": {
             "colorbar": {
              "outlinewidth": 0,
              "ticks": ""
             }
            },
            "type": "scatterternary"
           }
          ],
          "surface": [
           {
            "colorbar": {
             "outlinewidth": 0,
             "ticks": ""
            },
            "colorscale": [
             [
              0,
              "#0d0887"
             ],
             [
              0.1111111111111111,
              "#46039f"
             ],
             [
              0.2222222222222222,
              "#7201a8"
             ],
             [
              0.3333333333333333,
              "#9c179e"
             ],
             [
              0.4444444444444444,
              "#bd3786"
             ],
             [
              0.5555555555555556,
              "#d8576b"
             ],
             [
              0.6666666666666666,
              "#ed7953"
             ],
             [
              0.7777777777777778,
              "#fb9f3a"
             ],
             [
              0.8888888888888888,
              "#fdca26"
             ],
             [
              1,
              "#f0f921"
             ]
            ],
            "type": "surface"
           }
          ],
          "table": [
           {
            "cells": {
             "fill": {
              "color": "#EBF0F8"
             },
             "line": {
              "color": "white"
             }
            },
            "header": {
             "fill": {
              "color": "#C8D4E3"
             },
             "line": {
              "color": "white"
             }
            },
            "type": "table"
           }
          ]
         },
         "layout": {
          "annotationdefaults": {
           "arrowcolor": "#2a3f5f",
           "arrowhead": 0,
           "arrowwidth": 1
          },
          "autotypenumbers": "strict",
          "coloraxis": {
           "colorbar": {
            "outlinewidth": 0,
            "ticks": ""
           }
          },
          "colorscale": {
           "diverging": [
            [
             0,
             "#8e0152"
            ],
            [
             0.1,
             "#c51b7d"
            ],
            [
             0.2,
             "#de77ae"
            ],
            [
             0.3,
             "#f1b6da"
            ],
            [
             0.4,
             "#fde0ef"
            ],
            [
             0.5,
             "#f7f7f7"
            ],
            [
             0.6,
             "#e6f5d0"
            ],
            [
             0.7,
             "#b8e186"
            ],
            [
             0.8,
             "#7fbc41"
            ],
            [
             0.9,
             "#4d9221"
            ],
            [
             1,
             "#276419"
            ]
           ],
           "sequential": [
            [
             0,
             "#0d0887"
            ],
            [
             0.1111111111111111,
             "#46039f"
            ],
            [
             0.2222222222222222,
             "#7201a8"
            ],
            [
             0.3333333333333333,
             "#9c179e"
            ],
            [
             0.4444444444444444,
             "#bd3786"
            ],
            [
             0.5555555555555556,
             "#d8576b"
            ],
            [
             0.6666666666666666,
             "#ed7953"
            ],
            [
             0.7777777777777778,
             "#fb9f3a"
            ],
            [
             0.8888888888888888,
             "#fdca26"
            ],
            [
             1,
             "#f0f921"
            ]
           ],
           "sequentialminus": [
            [
             0,
             "#0d0887"
            ],
            [
             0.1111111111111111,
             "#46039f"
            ],
            [
             0.2222222222222222,
             "#7201a8"
            ],
            [
             0.3333333333333333,
             "#9c179e"
            ],
            [
             0.4444444444444444,
             "#bd3786"
            ],
            [
             0.5555555555555556,
             "#d8576b"
            ],
            [
             0.6666666666666666,
             "#ed7953"
            ],
            [
             0.7777777777777778,
             "#fb9f3a"
            ],
            [
             0.8888888888888888,
             "#fdca26"
            ],
            [
             1,
             "#f0f921"
            ]
           ]
          },
          "colorway": [
           "#636efa",
           "#EF553B",
           "#00cc96",
           "#ab63fa",
           "#FFA15A",
           "#19d3f3",
           "#FF6692",
           "#B6E880",
           "#FF97FF",
           "#FECB52"
          ],
          "font": {
           "color": "#2a3f5f"
          },
          "geo": {
           "bgcolor": "white",
           "lakecolor": "white",
           "landcolor": "#E5ECF6",
           "showlakes": true,
           "showland": true,
           "subunitcolor": "white"
          },
          "hoverlabel": {
           "align": "left"
          },
          "hovermode": "closest",
          "mapbox": {
           "style": "light"
          },
          "paper_bgcolor": "white",
          "plot_bgcolor": "#E5ECF6",
          "polar": {
           "angularaxis": {
            "gridcolor": "white",
            "linecolor": "white",
            "ticks": ""
           },
           "bgcolor": "#E5ECF6",
           "radialaxis": {
            "gridcolor": "white",
            "linecolor": "white",
            "ticks": ""
           }
          },
          "scene": {
           "xaxis": {
            "backgroundcolor": "#E5ECF6",
            "gridcolor": "white",
            "gridwidth": 2,
            "linecolor": "white",
            "showbackground": true,
            "ticks": "",
            "zerolinecolor": "white"
           },
           "yaxis": {
            "backgroundcolor": "#E5ECF6",
            "gridcolor": "white",
            "gridwidth": 2,
            "linecolor": "white",
            "showbackground": true,
            "ticks": "",
            "zerolinecolor": "white"
           },
           "zaxis": {
            "backgroundcolor": "#E5ECF6",
            "gridcolor": "white",
            "gridwidth": 2,
            "linecolor": "white",
            "showbackground": true,
            "ticks": "",
            "zerolinecolor": "white"
           }
          },
          "shapedefaults": {
           "line": {
            "color": "#2a3f5f"
           }
          },
          "ternary": {
           "aaxis": {
            "gridcolor": "white",
            "linecolor": "white",
            "ticks": ""
           },
           "baxis": {
            "gridcolor": "white",
            "linecolor": "white",
            "ticks": ""
           },
           "bgcolor": "#E5ECF6",
           "caxis": {
            "gridcolor": "white",
            "linecolor": "white",
            "ticks": ""
           }
          },
          "title": {
           "x": 0.05
          },
          "xaxis": {
           "automargin": true,
           "gridcolor": "white",
           "linecolor": "white",
           "ticks": "",
           "title": {
            "standoff": 15
           },
           "zerolinecolor": "white",
           "zerolinewidth": 2
          },
          "yaxis": {
           "automargin": true,
           "gridcolor": "white",
           "linecolor": "white",
           "ticks": "",
           "title": {
            "standoff": 15
           },
           "zerolinecolor": "white",
           "zerolinewidth": 2
          }
         }
        },
        "xaxis": {
         "anchor": "y",
         "domain": [
          0,
          1
         ],
         "title": {
          "text": "channel_dist"
         }
        },
        "yaxis": {
         "anchor": "x",
         "domain": [
          0,
          1
         ],
         "title": {
          "text": "ave_ht"
         }
        }
       }
      }
     },
     "metadata": {},
     "output_type": "display_data"
    }
   ],
   "source": [
    "fig = px.scatter(df, x='channel_dist', y='ave_ht', symbol='site', color='site')\n",
    "fig.show()"
   ]
  }
 ],
 "metadata": {
  "kernelspec": {
   "display_name": "RemoteSensing-DataScience",
   "language": "python",
   "name": "python3"
  },
  "language_info": {
   "codemirror_mode": {
    "name": "ipython",
    "version": 3
   },
   "file_extension": ".py",
   "mimetype": "text/x-python",
   "name": "python",
   "nbconvert_exporter": "python",
   "pygments_lexer": "ipython3",
   "version": "3.9.13 (main, Aug 25 2022, 23:51:50) [MSC v.1916 64 bit (AMD64)]"
  },
  "orig_nbformat": 4,
  "vscode": {
   "interpreter": {
    "hash": "d29cead0ac10c77f5148a0de6a0502ec179540721374c9c0ac26d58b6ebaefe8"
   }
  }
 },
 "nbformat": 4,
 "nbformat_minor": 2
}
