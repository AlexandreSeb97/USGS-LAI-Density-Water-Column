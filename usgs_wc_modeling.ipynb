{
 "cells": [
  {
   "cell_type": "markdown",
   "metadata": {},
   "source": [
    "# Water Column Modeling\n",
    "> This notebook will perform our water column modeling for each entry of the vegetation density data, giving us flow properties (U, Q2, Kz etc..) for each vegetation density profile\n",
    "\n",
    "Developed by Alexandre Erich Sebastien Georges, PhD Student in Environmental Engineering at UC Berkeley <br> Fall 2022"
   ]
  },
  {
   "cell_type": "code",
   "execution_count": 1,
   "metadata": {},
   "outputs": [],
   "source": [
    "# Import water column model class and components\n",
    "from water_column_model.column import Column\n",
    "from water_column_model.advance import *\n",
    "from water_column_model.params import *\n",
    "from water_column_model.params import A,B,C,E\n",
    "# Data Science and Visualization Imports\n",
    "import plotly.graph_objects as go\n",
    "import plotly.express as px\n",
    "import pandas as pd\n",
    "import xarray as xr\n",
    "import numpy as np\n",
    "# Miscellaneous\n",
    "from tqdm import tqdm"
   ]
  },
  {
   "cell_type": "markdown",
   "metadata": {},
   "source": [
    "## Importing USGS Data"
   ]
  },
  {
   "cell_type": "code",
   "execution_count": 2,
   "metadata": {},
   "outputs": [
    {
     "data": {
      "text/html": [
       "<div>\n",
       "<style scoped>\n",
       "    .dataframe tbody tr th:only-of-type {\n",
       "        vertical-align: middle;\n",
       "    }\n",
       "\n",
       "    .dataframe tbody tr th {\n",
       "        vertical-align: top;\n",
       "    }\n",
       "\n",
       "    .dataframe thead th {\n",
       "        text-align: right;\n",
       "    }\n",
       "</style>\n",
       "<table border=\"1\" class=\"dataframe\">\n",
       "  <thead>\n",
       "    <tr style=\"text-align: right;\">\n",
       "      <th></th>\n",
       "      <th>Season</th>\n",
       "      <th>date</th>\n",
       "      <th>site</th>\n",
       "      <th>plot_ID</th>\n",
       "      <th>Elevation</th>\n",
       "      <th>channel_dist</th>\n",
       "      <th>ave_ht</th>\n",
       "      <th>cover</th>\n",
       "      <th>vol_est</th>\n",
       "      <th>vol_calc</th>\n",
       "      <th>density_naive</th>\n",
       "      <th>density_final</th>\n",
       "      <th>frontal_total</th>\n",
       "      <th>frontal_5</th>\n",
       "      <th>frontal_10</th>\n",
       "      <th>frontal_15</th>\n",
       "      <th>frontal_20</th>\n",
       "      <th>frontal_25</th>\n",
       "      <th>frontal_30</th>\n",
       "    </tr>\n",
       "  </thead>\n",
       "  <tbody>\n",
       "    <tr>\n",
       "      <th>0</th>\n",
       "      <td>Summer</td>\n",
       "      <td>7/28/2021</td>\n",
       "      <td>Bay</td>\n",
       "      <td>A0.5</td>\n",
       "      <td>2.1313</td>\n",
       "      <td>0.5</td>\n",
       "      <td>6.5</td>\n",
       "      <td>0.10</td>\n",
       "      <td>6500</td>\n",
       "      <td>233.351057</td>\n",
       "      <td>267.040006</td>\n",
       "      <td>630.481094</td>\n",
       "      <td>1103.449997</td>\n",
       "      <td>848.807690</td>\n",
       "      <td>254.642307</td>\n",
       "      <td>0.000000</td>\n",
       "      <td>0.000000</td>\n",
       "      <td>0.0</td>\n",
       "      <td>0.0</td>\n",
       "    </tr>\n",
       "    <tr>\n",
       "      <th>1</th>\n",
       "      <td>Summer</td>\n",
       "      <td>7/28/2021</td>\n",
       "      <td>Bay</td>\n",
       "      <td>A2</td>\n",
       "      <td>2.3217</td>\n",
       "      <td>2.0</td>\n",
       "      <td>11.0</td>\n",
       "      <td>0.45</td>\n",
       "      <td>49500</td>\n",
       "      <td>1777.058049</td>\n",
       "      <td>2033.612355</td>\n",
       "      <td>2837.164924</td>\n",
       "      <td>8403.196133</td>\n",
       "      <td>3819.634606</td>\n",
       "      <td>3819.634606</td>\n",
       "      <td>763.926921</td>\n",
       "      <td>0.000000</td>\n",
       "      <td>0.0</td>\n",
       "      <td>0.0</td>\n",
       "    </tr>\n",
       "    <tr>\n",
       "      <th>2</th>\n",
       "      <td>Summer</td>\n",
       "      <td>7/28/2021</td>\n",
       "      <td>Bay</td>\n",
       "      <td>A6</td>\n",
       "      <td>2.2421</td>\n",
       "      <td>6.0</td>\n",
       "      <td>19.0</td>\n",
       "      <td>0.55</td>\n",
       "      <td>104500</td>\n",
       "      <td>3751.566993</td>\n",
       "      <td>4293.181638</td>\n",
       "      <td>3467.646018</td>\n",
       "      <td>17740.080726</td>\n",
       "      <td>4668.442296</td>\n",
       "      <td>4668.442296</td>\n",
       "      <td>4668.442296</td>\n",
       "      <td>3734.753837</td>\n",
       "      <td>0.0</td>\n",
       "      <td>0.0</td>\n",
       "    </tr>\n",
       "    <tr>\n",
       "      <th>3</th>\n",
       "      <td>Summer</td>\n",
       "      <td>7/28/2021</td>\n",
       "      <td>Bay</td>\n",
       "      <td>A12</td>\n",
       "      <td>2.2417</td>\n",
       "      <td>12.0</td>\n",
       "      <td>15.0</td>\n",
       "      <td>0.75</td>\n",
       "      <td>112500</td>\n",
       "      <td>4038.768294</td>\n",
       "      <td>4621.846261</td>\n",
       "      <td>4728.608206</td>\n",
       "      <td>19098.173030</td>\n",
       "      <td>6366.057677</td>\n",
       "      <td>6366.057677</td>\n",
       "      <td>6366.057677</td>\n",
       "      <td>0.000000</td>\n",
       "      <td>0.0</td>\n",
       "      <td>0.0</td>\n",
       "    </tr>\n",
       "    <tr>\n",
       "      <th>4</th>\n",
       "      <td>Summer</td>\n",
       "      <td>7/28/2021</td>\n",
       "      <td>Bay</td>\n",
       "      <td>A24</td>\n",
       "      <td>2.2217</td>\n",
       "      <td>24.0</td>\n",
       "      <td>11.0</td>\n",
       "      <td>0.55</td>\n",
       "      <td>60500</td>\n",
       "      <td>2171.959838</td>\n",
       "      <td>2485.526211</td>\n",
       "      <td>3467.646018</td>\n",
       "      <td>10270.573052</td>\n",
       "      <td>4668.442296</td>\n",
       "      <td>4668.442296</td>\n",
       "      <td>933.688459</td>\n",
       "      <td>0.000000</td>\n",
       "      <td>0.0</td>\n",
       "      <td>0.0</td>\n",
       "    </tr>\n",
       "  </tbody>\n",
       "</table>\n",
       "</div>"
      ],
      "text/plain": [
       "   Season       date site plot_ID  Elevation  channel_dist  ave_ht  cover  \\\n",
       "0  Summer  7/28/2021  Bay    A0.5     2.1313           0.5     6.5   0.10   \n",
       "1  Summer  7/28/2021  Bay      A2     2.3217           2.0    11.0   0.45   \n",
       "2  Summer  7/28/2021  Bay      A6     2.2421           6.0    19.0   0.55   \n",
       "3  Summer  7/28/2021  Bay     A12     2.2417          12.0    15.0   0.75   \n",
       "4  Summer  7/28/2021  Bay     A24     2.2217          24.0    11.0   0.55   \n",
       "\n",
       "   vol_est     vol_calc  density_naive  density_final  frontal_total  \\\n",
       "0     6500   233.351057     267.040006     630.481094    1103.449997   \n",
       "1    49500  1777.058049    2033.612355    2837.164924    8403.196133   \n",
       "2   104500  3751.566993    4293.181638    3467.646018   17740.080726   \n",
       "3   112500  4038.768294    4621.846261    4728.608206   19098.173030   \n",
       "4    60500  2171.959838    2485.526211    3467.646018   10270.573052   \n",
       "\n",
       "     frontal_5   frontal_10   frontal_15   frontal_20  frontal_25  frontal_30  \n",
       "0   848.807690   254.642307     0.000000     0.000000         0.0         0.0  \n",
       "1  3819.634606  3819.634606   763.926921     0.000000         0.0         0.0  \n",
       "2  4668.442296  4668.442296  4668.442296  3734.753837         0.0         0.0  \n",
       "3  6366.057677  6366.057677  6366.057677     0.000000         0.0         0.0  \n",
       "4  4668.442296  4668.442296   933.688459     0.000000         0.0         0.0  "
      ]
     },
     "execution_count": 2,
     "metadata": {},
     "output_type": "execute_result"
    }
   ],
   "source": [
    "filename = 'data/USGS_veg_density_09.16.2022.csv'\n",
    "df = pd.read_csv(filename)\n",
    "df.head()"
   ]
  },
  {
   "cell_type": "markdown",
   "metadata": {},
   "source": [
    "Temporary: Only using data from Bay Sites"
   ]
  },
  {
   "cell_type": "code",
   "execution_count": 3,
   "metadata": {},
   "outputs": [
    {
     "data": {
      "text/plain": [
       "count    114.000000\n",
       "mean      15.346491\n",
       "std        5.261787\n",
       "min        4.000000\n",
       "25%       12.000000\n",
       "50%       15.000000\n",
       "75%       19.000000\n",
       "max       30.000000\n",
       "Name: ave_ht, dtype: float64"
      ]
     },
     "execution_count": 3,
     "metadata": {},
     "output_type": "execute_result"
    }
   ],
   "source": [
    "df['ave_ht'].describe()"
   ]
  },
  {
   "cell_type": "code",
   "execution_count": 4,
   "metadata": {},
   "outputs": [],
   "source": [
    "#df = df[df['site'] == 'Bay']\n",
    "#df['site'].value_counts()"
   ]
  },
  {
   "cell_type": "markdown",
   "metadata": {},
   "source": [
    "## Making Water Columns for Data Entries"
   ]
  },
  {
   "cell_type": "code",
   "execution_count": 5,
   "metadata": {},
   "outputs": [],
   "source": [
    "# Setting max water column height (arbitrary for now, but based on maximum vegetation height from data)\n",
    "H = 2.8072 # centimeters\n",
    "# Adjusting Tide level to topography (elevation) for correct water column height for each site\n",
    "df['wc_height'] = H - df['Elevation']"
   ]
  },
  {
   "cell_type": "code",
   "execution_count": 6,
   "metadata": {},
   "outputs": [],
   "source": [
    "# for a given set of parameteres, create a column, run the model and return Flow Properties\n",
    "def run_column_model(N, H, L, SMALL, params, veg_density, veg_ht):\n",
    "    # Initializing Column Object\n",
    "    col = Column(N, H, L, SMALL)\n",
    "    A = params[0]\n",
    "    B = params[1]\n",
    "    C = params[2]\n",
    "    Sq = params[3]\n",
    "    kappa = params[4]\n",
    "    nu = params[5]\n",
    "    g = params[6]\n",
    "    rho0 = params[7]\n",
    "    alpha = params[8]\n",
    "    # Setting up vlaues and importing Vegetation Distribution from Data\n",
    "    col = col.setup(A, B, C, Sq, kappa, SMALL, nu, g, rho0, alpha)\n",
    "    col = col.import_veg(veg_density, veg_ht)\n",
    "    # Running Model for Col.M amount of time (See Column Class to change M)\n",
    "    t = [] \n",
    "    for i in tqdm(range(col.M), leave=False):\n",
    "        t.append(col.dt*(i))\n",
    "        # Unew, Cnew, Qnew, Q2new, Q2Lnew, rhonew, Lnew, nu_tnew, Kznew, Kqnew, N_BVnew, N_BVsqnew\n",
    "        [col.U, col.scalar, col.Q, col.Q2, col.Q2L, col.rho, col.L, col.nu_t, col.Kz, col.Kq, col.N_BV, col.N_BVsq] = wc_advance(col, t_px, px0, t[i])\n",
    "        # Have TQDM instead print('Step! t=' +str(t[i])+'s')\n",
    "    ### Only for now ### Return Velocity Profile ### Will implement returning more later\n",
    "    col_res = pd.DataFrame({'U Velocity':col.U,\n",
    "                            'Q':col.Q,\n",
    "                            'Q2':col.Q2,\n",
    "                            'Q2L':col.Q2L,\n",
    "                            'Z':col.z,\n",
    "                            'Kq':col.Kq,\n",
    "                            'nu_t':col.nu_t,\n",
    "                            })\n",
    "    return col_res"
   ]
  },
  {
   "cell_type": "code",
   "execution_count": 7,
   "metadata": {},
   "outputs": [
    {
     "name": "stderr",
     "output_type": "stream",
     "text": [
      "                                                    \r"
     ]
    }
   ],
   "source": [
    "# New dataframe without unneccessary columns\n",
    "wcolumns = df.drop(['plot_ID', 'frontal_5', 'frontal_10', 'frontal_15', 'frontal_20', 'frontal_20', 'frontal_25', 'frontal_30'], axis=1)\n",
    "# Pulling parameters\n",
    "params = [A, B, C, Sq, kappa, nu, g, rho0, alpha]\n",
    "\n",
    "# Initializing and running water column model for each entry\n",
    "col_res = wcolumns.apply(lambda x: run_column_model(80,(x.wc_height*100),0,SMALL,params,x.density_final,x.ave_ht), axis=1)"
   ]
  },
  {
   "cell_type": "markdown",
   "metadata": {},
   "source": [
    "Turning results into a Xarray for easy processing and visualization"
   ]
  },
  {
   "cell_type": "code",
   "execution_count": 8,
   "metadata": {},
   "outputs": [],
   "source": [
    "#xr.Dataset(col_res.tolist())\n",
    "wc_ds = xr.concat([df.to_xarray() for df in col_res], dim=\"Model Runs\")\n",
    "wc_ds = wc_ds.assign_attrs(description='Model run results for Bay-side sites.')"
   ]
  },
  {
   "cell_type": "markdown",
   "metadata": {},
   "source": [
    "## Export Results Data"
   ]
  },
  {
   "cell_type": "code",
   "execution_count": 32,
   "metadata": {},
   "outputs": [],
   "source": [
    "export_wc_path = 'results_data/wc_runs_all.nc'\n",
    "export_input_path = 'results_data/usgs_data.csv'\n",
    "wc_ds.to_netcdf(path=export_wc_path, mode='a')\n",
    "df.to_csv(export_input_path)"
   ]
  },
  {
   "cell_type": "code",
   "execution_count": 22,
   "metadata": {},
   "outputs": [
    {
     "data": {
      "text/html": [
       "<div>\n",
       "<style scoped>\n",
       "    .dataframe tbody tr th:only-of-type {\n",
       "        vertical-align: middle;\n",
       "    }\n",
       "\n",
       "    .dataframe tbody tr th {\n",
       "        vertical-align: top;\n",
       "    }\n",
       "\n",
       "    .dataframe thead th {\n",
       "        text-align: right;\n",
       "    }\n",
       "</style>\n",
       "<table border=\"1\" class=\"dataframe\">\n",
       "  <thead>\n",
       "    <tr style=\"text-align: right;\">\n",
       "      <th></th>\n",
       "      <th>mean_u</th>\n",
       "      <th>mean_u_25</th>\n",
       "      <th>mean_u_50</th>\n",
       "      <th>mean_u_75</th>\n",
       "      <th>Q2</th>\n",
       "      <th>wc_height</th>\n",
       "      <th>avg_ht</th>\n",
       "      <th>density_total</th>\n",
       "      <th>frontal_total</th>\n",
       "      <th>site</th>\n",
       "    </tr>\n",
       "  </thead>\n",
       "  <tbody>\n",
       "    <tr>\n",
       "      <th>0</th>\n",
       "      <td>-1.368986</td>\n",
       "      <td>-0.375091</td>\n",
       "      <td>-0.830812</td>\n",
       "      <td>-1.139095</td>\n",
       "      <td>0.243219</td>\n",
       "      <td>0.6759</td>\n",
       "      <td>6.5</td>\n",
       "      <td>630.481094</td>\n",
       "      <td>1103.449997</td>\n",
       "      <td>Bay</td>\n",
       "    </tr>\n",
       "    <tr>\n",
       "      <th>1</th>\n",
       "      <td>-0.513566</td>\n",
       "      <td>-0.006930</td>\n",
       "      <td>-0.180808</td>\n",
       "      <td>-0.361371</td>\n",
       "      <td>0.127301</td>\n",
       "      <td>0.4855</td>\n",
       "      <td>11.0</td>\n",
       "      <td>2837.164924</td>\n",
       "      <td>8403.196133</td>\n",
       "      <td>Bay</td>\n",
       "    </tr>\n",
       "    <tr>\n",
       "      <th>2</th>\n",
       "      <td>-0.336038</td>\n",
       "      <td>-0.000537</td>\n",
       "      <td>-0.064772</td>\n",
       "      <td>-0.203614</td>\n",
       "      <td>0.117241</td>\n",
       "      <td>0.5651</td>\n",
       "      <td>19.0</td>\n",
       "      <td>3467.646018</td>\n",
       "      <td>17740.080726</td>\n",
       "      <td>Bay</td>\n",
       "    </tr>\n",
       "    <tr>\n",
       "      <th>3</th>\n",
       "      <td>-0.457094</td>\n",
       "      <td>-0.000490</td>\n",
       "      <td>-0.132418</td>\n",
       "      <td>-0.305199</td>\n",
       "      <td>0.135983</td>\n",
       "      <td>0.5655</td>\n",
       "      <td>15.0</td>\n",
       "      <td>4728.608206</td>\n",
       "      <td>19098.173030</td>\n",
       "      <td>Bay</td>\n",
       "    </tr>\n",
       "    <tr>\n",
       "      <th>4</th>\n",
       "      <td>-0.686641</td>\n",
       "      <td>-0.036265</td>\n",
       "      <td>-0.285306</td>\n",
       "      <td>-0.506819</td>\n",
       "      <td>0.167223</td>\n",
       "      <td>0.5855</td>\n",
       "      <td>11.0</td>\n",
       "      <td>3467.646018</td>\n",
       "      <td>10270.573052</td>\n",
       "      <td>Bay</td>\n",
       "    </tr>\n",
       "  </tbody>\n",
       "</table>\n",
       "</div>"
      ],
      "text/plain": [
       "     mean_u  mean_u_25  mean_u_50  mean_u_75        Q2  wc_height  avg_ht  \\\n",
       "0 -1.368986  -0.375091  -0.830812  -1.139095  0.243219     0.6759     6.5   \n",
       "1 -0.513566  -0.006930  -0.180808  -0.361371  0.127301     0.4855    11.0   \n",
       "2 -0.336038  -0.000537  -0.064772  -0.203614  0.117241     0.5651    19.0   \n",
       "3 -0.457094  -0.000490  -0.132418  -0.305199  0.135983     0.5655    15.0   \n",
       "4 -0.686641  -0.036265  -0.285306  -0.506819  0.167223     0.5855    11.0   \n",
       "\n",
       "   density_total  frontal_total site  \n",
       "0     630.481094    1103.449997  Bay  \n",
       "1    2837.164924    8403.196133  Bay  \n",
       "2    3467.646018   17740.080726  Bay  \n",
       "3    4728.608206   19098.173030  Bay  \n",
       "4    3467.646018   10270.573052  Bay  "
      ]
     },
     "execution_count": 22,
     "metadata": {},
     "output_type": "execute_result"
    }
   ],
   "source": [
    "df_res = pd.DataFrame({\n",
    "    'mean_u': ([vel.values.mean() for vel in wc_ds['U Velocity']]),\n",
    "    'mean_u_25': ([vel[:20].values.mean() for vel in wc_ds['U Velocity']]),\n",
    "    'mean_u_50': ([vel[:40].values.mean() for vel in wc_ds['U Velocity']]),\n",
    "    'mean_u_75': ([vel[:60].values.mean() for vel in wc_ds['U Velocity']]),\n",
    "    'Q2': ([vel.values.max() for vel in wc_ds['Q2']]),\n",
    "    'wc_height': df['wc_height'],\n",
    "    'avg_ht': df['ave_ht'],\n",
    "    'density_total': df['density_final'],\n",
    "    'frontal_total': df['frontal_total'],\n",
    "    'site': df['site'],\n",
    "})\n",
    "df_res.head()"
   ]
  }
 ],
 "metadata": {
  "kernelspec": {
   "display_name": "Python 3.9.13 ('EFMHModeling_20220915')",
   "language": "python",
   "name": "python3"
  },
  "language_info": {
   "codemirror_mode": {
    "name": "ipython",
    "version": 3
   },
   "file_extension": ".py",
   "mimetype": "text/x-python",
   "name": "python",
   "nbconvert_exporter": "python",
   "pygments_lexer": "ipython3",
   "version": "3.9.13"
  },
  "orig_nbformat": 4,
  "vscode": {
   "interpreter": {
    "hash": "b17acb4996bf1f81ae7b7b859afc8c9430e41316f8cf32ebfba3f7b073322fea"
   }
  }
 },
 "nbformat": 4,
 "nbformat_minor": 2
}
