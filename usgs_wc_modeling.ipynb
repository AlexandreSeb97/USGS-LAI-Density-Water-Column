{
 "cells": [
  {
   "cell_type": "markdown",
   "metadata": {},
   "source": [
    "# Water Column Modeling\n",
    "> This notebook will perform our water column modeling for each entry of the vegetation density data, giving us flow properties (U, Q2, Kz etc..) for each vegetation density profile\n",
    "\n",
    "Developed by Alexandre Erich Sebastien Georges, PhD Student in Environmental Engineering at UC Berkeley <br> Fall 2022"
   ]
  },
  {
   "cell_type": "code",
   "execution_count": 2,
   "metadata": {},
   "outputs": [],
   "source": [
    "# Import water column model class and components\n",
    "from water_column_model.column import Column\n",
    "from water_column_model.advance import *\n",
    "from water_column_model.params import *\n",
    "from water_column_model.params import A,B,C,E\n",
    "# Data Science and Visualization Imports\n",
    "import plotly.graph_objects as go\n",
    "import plotly.express as px\n",
    "import pandas as pd\n",
    "import xarray as xr\n",
    "import numpy as np\n",
    "# Miscellaneous\n",
    "from tqdm import tqdm"
   ]
  },
  {
   "cell_type": "markdown",
   "metadata": {},
   "source": [
    "## Importing USGS Data"
   ]
  },
  {
   "cell_type": "code",
   "execution_count": 3,
   "metadata": {},
   "outputs": [
    {
     "data": {
      "text/html": [
       "<div>\n",
       "<style scoped>\n",
       "    .dataframe tbody tr th:only-of-type {\n",
       "        vertical-align: middle;\n",
       "    }\n",
       "\n",
       "    .dataframe tbody tr th {\n",
       "        vertical-align: top;\n",
       "    }\n",
       "\n",
       "    .dataframe thead th {\n",
       "        text-align: right;\n",
       "    }\n",
       "</style>\n",
       "<table border=\"1\" class=\"dataframe\">\n",
       "  <thead>\n",
       "    <tr style=\"text-align: right;\">\n",
       "      <th></th>\n",
       "      <th>Season</th>\n",
       "      <th>date</th>\n",
       "      <th>site</th>\n",
       "      <th>plot_ID</th>\n",
       "      <th>Elevation</th>\n",
       "      <th>channel_dist</th>\n",
       "      <th>ave_ht</th>\n",
       "      <th>cover</th>\n",
       "      <th>vol_est</th>\n",
       "      <th>vol_calc</th>\n",
       "      <th>density_naive</th>\n",
       "      <th>density_final</th>\n",
       "      <th>frontal_total</th>\n",
       "      <th>frontal_5</th>\n",
       "      <th>frontal_10</th>\n",
       "      <th>frontal_15</th>\n",
       "      <th>frontal_20</th>\n",
       "      <th>frontal_25</th>\n",
       "      <th>frontal_30</th>\n",
       "    </tr>\n",
       "  </thead>\n",
       "  <tbody>\n",
       "    <tr>\n",
       "      <th>0</th>\n",
       "      <td>Summer</td>\n",
       "      <td>7/28/2021</td>\n",
       "      <td>Bay</td>\n",
       "      <td>A0.5</td>\n",
       "      <td>2.1313</td>\n",
       "      <td>0.5</td>\n",
       "      <td>6.5</td>\n",
       "      <td>0.10</td>\n",
       "      <td>6500</td>\n",
       "      <td>233.351057</td>\n",
       "      <td>267.040006</td>\n",
       "      <td>630.481094</td>\n",
       "      <td>1103.449997</td>\n",
       "      <td>848.807690</td>\n",
       "      <td>254.642307</td>\n",
       "      <td>0.000000</td>\n",
       "      <td>0.000000</td>\n",
       "      <td>0.0</td>\n",
       "      <td>0.0</td>\n",
       "    </tr>\n",
       "    <tr>\n",
       "      <th>1</th>\n",
       "      <td>Summer</td>\n",
       "      <td>7/28/2021</td>\n",
       "      <td>Bay</td>\n",
       "      <td>A2</td>\n",
       "      <td>2.3217</td>\n",
       "      <td>2.0</td>\n",
       "      <td>11.0</td>\n",
       "      <td>0.45</td>\n",
       "      <td>49500</td>\n",
       "      <td>1777.058049</td>\n",
       "      <td>2033.612355</td>\n",
       "      <td>2837.164924</td>\n",
       "      <td>8403.196133</td>\n",
       "      <td>3819.634606</td>\n",
       "      <td>3819.634606</td>\n",
       "      <td>763.926921</td>\n",
       "      <td>0.000000</td>\n",
       "      <td>0.0</td>\n",
       "      <td>0.0</td>\n",
       "    </tr>\n",
       "    <tr>\n",
       "      <th>2</th>\n",
       "      <td>Summer</td>\n",
       "      <td>7/28/2021</td>\n",
       "      <td>Bay</td>\n",
       "      <td>A6</td>\n",
       "      <td>2.2421</td>\n",
       "      <td>6.0</td>\n",
       "      <td>19.0</td>\n",
       "      <td>0.55</td>\n",
       "      <td>104500</td>\n",
       "      <td>3751.566993</td>\n",
       "      <td>4293.181638</td>\n",
       "      <td>3467.646018</td>\n",
       "      <td>17740.080726</td>\n",
       "      <td>4668.442296</td>\n",
       "      <td>4668.442296</td>\n",
       "      <td>4668.442296</td>\n",
       "      <td>3734.753837</td>\n",
       "      <td>0.0</td>\n",
       "      <td>0.0</td>\n",
       "    </tr>\n",
       "    <tr>\n",
       "      <th>3</th>\n",
       "      <td>Summer</td>\n",
       "      <td>7/28/2021</td>\n",
       "      <td>Bay</td>\n",
       "      <td>A12</td>\n",
       "      <td>2.2417</td>\n",
       "      <td>12.0</td>\n",
       "      <td>15.0</td>\n",
       "      <td>0.75</td>\n",
       "      <td>112500</td>\n",
       "      <td>4038.768294</td>\n",
       "      <td>4621.846261</td>\n",
       "      <td>4728.608206</td>\n",
       "      <td>19098.173030</td>\n",
       "      <td>6366.057677</td>\n",
       "      <td>6366.057677</td>\n",
       "      <td>6366.057677</td>\n",
       "      <td>0.000000</td>\n",
       "      <td>0.0</td>\n",
       "      <td>0.0</td>\n",
       "    </tr>\n",
       "    <tr>\n",
       "      <th>4</th>\n",
       "      <td>Summer</td>\n",
       "      <td>7/28/2021</td>\n",
       "      <td>Bay</td>\n",
       "      <td>A24</td>\n",
       "      <td>2.2217</td>\n",
       "      <td>24.0</td>\n",
       "      <td>11.0</td>\n",
       "      <td>0.55</td>\n",
       "      <td>60500</td>\n",
       "      <td>2171.959838</td>\n",
       "      <td>2485.526211</td>\n",
       "      <td>3467.646018</td>\n",
       "      <td>10270.573052</td>\n",
       "      <td>4668.442296</td>\n",
       "      <td>4668.442296</td>\n",
       "      <td>933.688459</td>\n",
       "      <td>0.000000</td>\n",
       "      <td>0.0</td>\n",
       "      <td>0.0</td>\n",
       "    </tr>\n",
       "  </tbody>\n",
       "</table>\n",
       "</div>"
      ],
      "text/plain": [
       "   Season       date site plot_ID  Elevation  channel_dist  ave_ht  cover  \\\n",
       "0  Summer  7/28/2021  Bay    A0.5     2.1313           0.5     6.5   0.10   \n",
       "1  Summer  7/28/2021  Bay      A2     2.3217           2.0    11.0   0.45   \n",
       "2  Summer  7/28/2021  Bay      A6     2.2421           6.0    19.0   0.55   \n",
       "3  Summer  7/28/2021  Bay     A12     2.2417          12.0    15.0   0.75   \n",
       "4  Summer  7/28/2021  Bay     A24     2.2217          24.0    11.0   0.55   \n",
       "\n",
       "   vol_est     vol_calc  density_naive  density_final  frontal_total  \\\n",
       "0     6500   233.351057     267.040006     630.481094    1103.449997   \n",
       "1    49500  1777.058049    2033.612355    2837.164924    8403.196133   \n",
       "2   104500  3751.566993    4293.181638    3467.646018   17740.080726   \n",
       "3   112500  4038.768294    4621.846261    4728.608206   19098.173030   \n",
       "4    60500  2171.959838    2485.526211    3467.646018   10270.573052   \n",
       "\n",
       "     frontal_5   frontal_10   frontal_15   frontal_20  frontal_25  frontal_30  \n",
       "0   848.807690   254.642307     0.000000     0.000000         0.0         0.0  \n",
       "1  3819.634606  3819.634606   763.926921     0.000000         0.0         0.0  \n",
       "2  4668.442296  4668.442296  4668.442296  3734.753837         0.0         0.0  \n",
       "3  6366.057677  6366.057677  6366.057677     0.000000         0.0         0.0  \n",
       "4  4668.442296  4668.442296   933.688459     0.000000         0.0         0.0  "
      ]
     },
     "execution_count": 3,
     "metadata": {},
     "output_type": "execute_result"
    }
   ],
   "source": [
    "filename = 'data/USGS_veg_density_09.16.2022.csv'\n",
    "df = pd.read_csv(filename)\n",
    "df.head()"
   ]
  },
  {
   "cell_type": "markdown",
   "metadata": {},
   "source": [
    "Temporary: Only using data from Bay Sites"
   ]
  },
  {
   "cell_type": "code",
   "execution_count": 4,
   "metadata": {},
   "outputs": [
    {
     "data": {
      "text/plain": [
       "count    114.000000\n",
       "mean      15.346491\n",
       "std        5.261787\n",
       "min        4.000000\n",
       "25%       12.000000\n",
       "50%       15.000000\n",
       "75%       19.000000\n",
       "max       30.000000\n",
       "Name: ave_ht, dtype: float64"
      ]
     },
     "execution_count": 4,
     "metadata": {},
     "output_type": "execute_result"
    }
   ],
   "source": [
    "df['ave_ht'].describe()"
   ]
  },
  {
   "cell_type": "code",
   "execution_count": 5,
   "metadata": {},
   "outputs": [
    {
     "data": {
      "text/plain": [
       "Bay    42\n",
       "Name: site, dtype: int64"
      ]
     },
     "execution_count": 5,
     "metadata": {},
     "output_type": "execute_result"
    }
   ],
   "source": [
    "df = df[df['site'] == 'Bay']\n",
    "df['site'].value_counts()"
   ]
  },
  {
   "cell_type": "markdown",
   "metadata": {},
   "source": [
    "## Making Water Columns for Data Entries"
   ]
  },
  {
   "cell_type": "code",
   "execution_count": 6,
   "metadata": {},
   "outputs": [],
   "source": [
    "# Setting max water column height (arbitrary for now, but based on maximum vegetation height from data)\n",
    "H = 30"
   ]
  },
  {
   "cell_type": "code",
   "execution_count": 7,
   "metadata": {},
   "outputs": [],
   "source": [
    "# for a given set of parameteres, create a column, run the model and return Flow Properties\n",
    "def run_column_model(N, H, L, SMALL, params, veg_density, veg_ht):\n",
    "    # Initializing Column Object\n",
    "    col = Column(N, H, L, SMALL)\n",
    "    A = params[0]\n",
    "    B = params[1]\n",
    "    C = params[2]\n",
    "    Sq = params[3]\n",
    "    kappa = params[4]\n",
    "    nu = params[5]\n",
    "    g = params[6]\n",
    "    rho0 = params[7]\n",
    "    alpha = params[8]\n",
    "    # Setting up vlaues and importing Vegetation Distribution from Data\n",
    "    col = col.setup(A, B, C, Sq, kappa, SMALL, nu, g, rho0, alpha)\n",
    "    col = col.import_veg(veg_density, veg_ht)\n",
    "    # Running Model for Col.M amount of time (See Column Class to change M)\n",
    "    t = [] \n",
    "    for i in tqdm(range(col.M), leave=False):\n",
    "        t.append(col.dt*(i))\n",
    "        # Unew, Cnew, Qnew, Q2new, Q2Lnew, rhonew, Lnew, nu_tnew, Kznew, Kqnew, N_BVnew, N_BVsqnew\n",
    "        [col.U, col.scalar, col.Q, col.Q2, col.Q2L, col.rho, col.L, col.nu_t, col.Kz, col.Kq, col.N_BV, col.N_BVsq] = wc_advance(col, t_px, px0, t[i])\n",
    "        # Have TQDM instead print('Step! t=' +str(t[i])+'s')\n",
    "    ### Only for now ### Return Velocity Profile ### Will implement returning more later\n",
    "    col_res = pd.DataFrame({'U Velocity':col.U,\n",
    "                            'Q':col.Q,\n",
    "                            'Q2':col.Q2,\n",
    "                            'Q2L':col.Q2L,\n",
    "                            'Z':col.z,\n",
    "                            'Kq':col.Kq,\n",
    "                            'nu_t':col.nu_t,\n",
    "                            })\n",
    "    return col_res"
   ]
  },
  {
   "cell_type": "code",
   "execution_count": 8,
   "metadata": {},
   "outputs": [
    {
     "name": "stderr",
     "output_type": "stream",
     "text": [
      "                                                    \r"
     ]
    }
   ],
   "source": [
    "# New dataframe without unneccessary columns\n",
    "wcolumns = df.drop(['plot_ID', 'frontal_5', 'frontal_10', 'frontal_15', 'frontal_20', 'frontal_20', 'frontal_25', 'frontal_30'], axis=1)\n",
    "# Pulling parameters\n",
    "params = [A, B, C, Sq, kappa, nu, g, rho0, alpha]\n",
    "\n",
    "# Initializing and running water column model for each entry\n",
    "col_res = wcolumns.apply(lambda x: run_column_model(80,H,0,SMALL,params,x.density_final,x.ave_ht), axis=1)"
   ]
  },
  {
   "cell_type": "markdown",
   "metadata": {},
   "source": [
    "Turning results into a Xarray for easy processing and visualization"
   ]
  },
  {
   "cell_type": "code",
   "execution_count": 68,
   "metadata": {},
   "outputs": [],
   "source": [
    "#xr.Dataset(col_res.tolist())\n",
    "wc_ds = xr.concat([df.to_xarray() for df in col_res], dim=\"Model Runs\")\n",
    "wc_ds = wc_ds.assign_attrs(description='Model run results for Bay-side sites.')"
   ]
  },
  {
   "cell_type": "markdown",
   "metadata": {},
   "source": [
    "Compiling Data from modeling runs for analysis"
   ]
  },
  {
   "cell_type": "code",
   "execution_count": 126,
   "metadata": {},
   "outputs": [
    {
     "data": {
      "text/html": [
       "<div>\n",
       "<style scoped>\n",
       "    .dataframe tbody tr th:only-of-type {\n",
       "        vertical-align: middle;\n",
       "    }\n",
       "\n",
       "    .dataframe tbody tr th {\n",
       "        vertical-align: top;\n",
       "    }\n",
       "\n",
       "    .dataframe thead th {\n",
       "        text-align: right;\n",
       "    }\n",
       "</style>\n",
       "<table border=\"1\" class=\"dataframe\">\n",
       "  <thead>\n",
       "    <tr style=\"text-align: right;\">\n",
       "      <th></th>\n",
       "      <th>mean_u</th>\n",
       "      <th>mean_u_25</th>\n",
       "      <th>mean_u_50</th>\n",
       "      <th>mean_u_75</th>\n",
       "      <th>avg_ht</th>\n",
       "      <th>density_total</th>\n",
       "      <th>frontal_total</th>\n",
       "    </tr>\n",
       "  </thead>\n",
       "  <tbody>\n",
       "    <tr>\n",
       "      <th>0</th>\n",
       "      <td>-0.435630</td>\n",
       "      <td>-0.012249</td>\n",
       "      <td>-0.164500</td>\n",
       "      <td>-0.312611</td>\n",
       "      <td>6.5</td>\n",
       "      <td>630.481094</td>\n",
       "      <td>1103.449997</td>\n",
       "    </tr>\n",
       "    <tr>\n",
       "      <th>1</th>\n",
       "      <td>-0.205024</td>\n",
       "      <td>-0.000594</td>\n",
       "      <td>-0.028733</td>\n",
       "      <td>-0.116369</td>\n",
       "      <td>11.0</td>\n",
       "      <td>2837.164924</td>\n",
       "      <td>8403.196133</td>\n",
       "    </tr>\n",
       "    <tr>\n",
       "      <th>2</th>\n",
       "      <td>-0.055379</td>\n",
       "      <td>-0.000537</td>\n",
       "      <td>-0.000537</td>\n",
       "      <td>-0.011121</td>\n",
       "      <td>19.0</td>\n",
       "      <td>3467.646018</td>\n",
       "      <td>17740.080726</td>\n",
       "    </tr>\n",
       "    <tr>\n",
       "      <th>3</th>\n",
       "      <td>-0.104845</td>\n",
       "      <td>-0.000460</td>\n",
       "      <td>-0.000536</td>\n",
       "      <td>-0.041661</td>\n",
       "      <td>15.0</td>\n",
       "      <td>4728.608206</td>\n",
       "      <td>19098.173030</td>\n",
       "    </tr>\n",
       "    <tr>\n",
       "      <th>4</th>\n",
       "      <td>-0.204767</td>\n",
       "      <td>-0.000537</td>\n",
       "      <td>-0.028582</td>\n",
       "      <td>-0.116149</td>\n",
       "      <td>11.0</td>\n",
       "      <td>3467.646018</td>\n",
       "      <td>10270.573052</td>\n",
       "    </tr>\n",
       "  </tbody>\n",
       "</table>\n",
       "</div>"
      ],
      "text/plain": [
       "     mean_u  mean_u_25  mean_u_50  mean_u_75  avg_ht  density_total  \\\n",
       "0 -0.435630  -0.012249  -0.164500  -0.312611     6.5     630.481094   \n",
       "1 -0.205024  -0.000594  -0.028733  -0.116369    11.0    2837.164924   \n",
       "2 -0.055379  -0.000537  -0.000537  -0.011121    19.0    3467.646018   \n",
       "3 -0.104845  -0.000460  -0.000536  -0.041661    15.0    4728.608206   \n",
       "4 -0.204767  -0.000537  -0.028582  -0.116149    11.0    3467.646018   \n",
       "\n",
       "   frontal_total  \n",
       "0    1103.449997  \n",
       "1    8403.196133  \n",
       "2   17740.080726  \n",
       "3   19098.173030  \n",
       "4   10270.573052  "
      ]
     },
     "execution_count": 126,
     "metadata": {},
     "output_type": "execute_result"
    }
   ],
   "source": [
    "df_res = pd.DataFrame({\n",
    "    'mean_u': ([vel.values.mean() for vel in wc_ds['U Velocity']]),\n",
    "    'mean_u_25': ([vel[:20].values.mean() for vel in wc_ds['U Velocity']]),\n",
    "    'mean_u_50': ([vel[:40].values.mean() for vel in wc_ds['U Velocity']]),\n",
    "    'mean_u_75': ([vel[:60].values.mean() for vel in wc_ds['U Velocity']]),\n",
    "    'avg_ht': df['ave_ht'],\n",
    "    'density_total': df['density_final'],\n",
    "    'frontal_total': df['frontal_total'],\n",
    "})\n",
    "df_res.head()"
   ]
  },
  {
   "cell_type": "markdown",
   "metadata": {},
   "source": [
    "# Visualization"
   ]
  },
  {
   "cell_type": "code",
   "execution_count": 10,
   "metadata": {},
   "outputs": [
    {
     "data": {
      "application/vnd.plotly.v1+json": {
       "config": {
        "plotlyServerURL": "https://plot.ly"
       },
       "data": [
        {
         "hovertemplate": "Velocity [m/s]=%{x}<br>Z [m]=%{y}<extra></extra>",
         "legendgroup": "",
         "line": {
          "color": "#636efa",
          "dash": "solid"
         },
         "marker": {
          "symbol": "circle"
         },
         "mode": "lines",
         "name": "",
         "orientation": "v",
         "showlegend": false,
         "type": "scatter",
         "x": [
          0.02045846762035889,
          0.04074555588337997,
          0.05986921631370367,
          0.07751364599523523,
          0.09407400720896686,
          0.10979830294130613,
          0.12484886425558886,
          0.13933813917698729,
          0.15334789039394303,
          0.1669399096511485,
          0.18016235357390378,
          0.19305369386874008,
          0.2056452897330776,
          0.2179630945103079,
          0.23002857444753,
          0.24185699051302798,
          0.2534246588112709,
          0.2635825258894059,
          0.27064857864109987,
          0.27567891842671605,
          0.27925507003171374,
          0.28173863911109476,
          0.28337274774932997,
          0.28432990194607105,
          0.28473735260106803,
          0.2846917270315313,
          0.28426804281229107,
          0.28352555737718593,
          0.2825117271567131,
          0.2812649809977362,
          0.279816718954495,
          0.2781927872385458,
          0.2764145883318011,
          0.2744999305014438,
          0.2724636870761091,
          0.27031831420380925,
          0.26807426159255976,
          0.26574030114989694,
          0.2633237918275648,
          0.2608308943245718,
          0.25826674596481075,
          0.2556356036314508,
          0.2529409608371977,
          0.2501856436542168,
          0.24737188919451883,
          0.2445014095332369,
          0.24157544334109743,
          0.2385947969932426,
          0.23555987651584268,
          0.23247071139408312,
          0.2293269709749556,
          0.22612797393913003,
          0.22287269107328522,
          0.2195597413335067,
          0.21618738093689327,
          0.2127534849353331,
          0.20925552039139356,
          0.2056905098635462,
          0.2020549833780099,
          0.198344916362224,
          0.19455565005924233,
          0.19068178961080726,
          0.1867170731006435,
          0.1826542020901991,
          0.1784846200735169,
          0.1741982190230343,
          0.1697829444195156,
          0.1652242534278231,
          0.16050435474300687,
          0.15560111358106923,
          0.15048642428066328,
          0.14512369992010715,
          0.13946382163693602,
          0.13343823041797945,
          0.1269462935962642,
          0.1198300016703877,
          0.11181659912847823,
          0.10236265354160683,
          0.09008147046897369,
          0.06819970602267968
         ],
         "xaxis": "x",
         "y": [
          -29.8125,
          -29.4375,
          -29.0625,
          -28.6875,
          -28.3125,
          -27.9375,
          -27.5625,
          -27.1875,
          -26.8125,
          -26.4375,
          -26.0625,
          -25.6875,
          -25.3125,
          -24.9375,
          -24.5625,
          -24.1875,
          -23.8125,
          -23.4375,
          -23.0625,
          -22.6875,
          -22.3125,
          -21.9375,
          -21.5625,
          -21.1875,
          -20.8125,
          -20.4375,
          -20.0625,
          -19.6875,
          -19.3125,
          -18.9375,
          -18.5625,
          -18.1875,
          -17.8125,
          -17.4375,
          -17.0625,
          -16.6875,
          -16.3125,
          -15.9375,
          -15.5625,
          -15.1875,
          -14.8125,
          -14.4375,
          -14.0625,
          -13.6875,
          -13.3125,
          -12.9375,
          -12.5625,
          -12.1875,
          -11.8125,
          -11.4375,
          -11.0625,
          -10.6875,
          -10.3125,
          -9.9375,
          -9.5625,
          -9.1875,
          -8.8125,
          -8.4375,
          -8.0625,
          -7.6875,
          -7.3125,
          -6.9375,
          -6.5625,
          -6.1875,
          -5.8125,
          -5.4375,
          -5.0625,
          -4.6875,
          -4.3125,
          -3.9375,
          -3.5625,
          -3.1875,
          -2.8125,
          -2.4375,
          -2.0625,
          -1.6875,
          -1.3125,
          -0.9375,
          -0.5625,
          -0.1875
         ],
         "yaxis": "y"
        }
       ],
       "layout": {
        "legend": {
         "tracegroupgap": 0
        },
        "template": {
         "data": {
          "bar": [
           {
            "error_x": {
             "color": "#2a3f5f"
            },
            "error_y": {
             "color": "#2a3f5f"
            },
            "marker": {
             "line": {
              "color": "#E5ECF6",
              "width": 0.5
             },
             "pattern": {
              "fillmode": "overlay",
              "size": 10,
              "solidity": 0.2
             }
            },
            "type": "bar"
           }
          ],
          "barpolar": [
           {
            "marker": {
             "line": {
              "color": "#E5ECF6",
              "width": 0.5
             },
             "pattern": {
              "fillmode": "overlay",
              "size": 10,
              "solidity": 0.2
             }
            },
            "type": "barpolar"
           }
          ],
          "carpet": [
           {
            "aaxis": {
             "endlinecolor": "#2a3f5f",
             "gridcolor": "white",
             "linecolor": "white",
             "minorgridcolor": "white",
             "startlinecolor": "#2a3f5f"
            },
            "baxis": {
             "endlinecolor": "#2a3f5f",
             "gridcolor": "white",
             "linecolor": "white",
             "minorgridcolor": "white",
             "startlinecolor": "#2a3f5f"
            },
            "type": "carpet"
           }
          ],
          "choropleth": [
           {
            "colorbar": {
             "outlinewidth": 0,
             "ticks": ""
            },
            "type": "choropleth"
           }
          ],
          "contour": [
           {
            "colorbar": {
             "outlinewidth": 0,
             "ticks": ""
            },
            "colorscale": [
             [
              0,
              "#0d0887"
             ],
             [
              0.1111111111111111,
              "#46039f"
             ],
             [
              0.2222222222222222,
              "#7201a8"
             ],
             [
              0.3333333333333333,
              "#9c179e"
             ],
             [
              0.4444444444444444,
              "#bd3786"
             ],
             [
              0.5555555555555556,
              "#d8576b"
             ],
             [
              0.6666666666666666,
              "#ed7953"
             ],
             [
              0.7777777777777778,
              "#fb9f3a"
             ],
             [
              0.8888888888888888,
              "#fdca26"
             ],
             [
              1,
              "#f0f921"
             ]
            ],
            "type": "contour"
           }
          ],
          "contourcarpet": [
           {
            "colorbar": {
             "outlinewidth": 0,
             "ticks": ""
            },
            "type": "contourcarpet"
           }
          ],
          "heatmap": [
           {
            "colorbar": {
             "outlinewidth": 0,
             "ticks": ""
            },
            "colorscale": [
             [
              0,
              "#0d0887"
             ],
             [
              0.1111111111111111,
              "#46039f"
             ],
             [
              0.2222222222222222,
              "#7201a8"
             ],
             [
              0.3333333333333333,
              "#9c179e"
             ],
             [
              0.4444444444444444,
              "#bd3786"
             ],
             [
              0.5555555555555556,
              "#d8576b"
             ],
             [
              0.6666666666666666,
              "#ed7953"
             ],
             [
              0.7777777777777778,
              "#fb9f3a"
             ],
             [
              0.8888888888888888,
              "#fdca26"
             ],
             [
              1,
              "#f0f921"
             ]
            ],
            "type": "heatmap"
           }
          ],
          "heatmapgl": [
           {
            "colorbar": {
             "outlinewidth": 0,
             "ticks": ""
            },
            "colorscale": [
             [
              0,
              "#0d0887"
             ],
             [
              0.1111111111111111,
              "#46039f"
             ],
             [
              0.2222222222222222,
              "#7201a8"
             ],
             [
              0.3333333333333333,
              "#9c179e"
             ],
             [
              0.4444444444444444,
              "#bd3786"
             ],
             [
              0.5555555555555556,
              "#d8576b"
             ],
             [
              0.6666666666666666,
              "#ed7953"
             ],
             [
              0.7777777777777778,
              "#fb9f3a"
             ],
             [
              0.8888888888888888,
              "#fdca26"
             ],
             [
              1,
              "#f0f921"
             ]
            ],
            "type": "heatmapgl"
           }
          ],
          "histogram": [
           {
            "marker": {
             "pattern": {
              "fillmode": "overlay",
              "size": 10,
              "solidity": 0.2
             }
            },
            "type": "histogram"
           }
          ],
          "histogram2d": [
           {
            "colorbar": {
             "outlinewidth": 0,
             "ticks": ""
            },
            "colorscale": [
             [
              0,
              "#0d0887"
             ],
             [
              0.1111111111111111,
              "#46039f"
             ],
             [
              0.2222222222222222,
              "#7201a8"
             ],
             [
              0.3333333333333333,
              "#9c179e"
             ],
             [
              0.4444444444444444,
              "#bd3786"
             ],
             [
              0.5555555555555556,
              "#d8576b"
             ],
             [
              0.6666666666666666,
              "#ed7953"
             ],
             [
              0.7777777777777778,
              "#fb9f3a"
             ],
             [
              0.8888888888888888,
              "#fdca26"
             ],
             [
              1,
              "#f0f921"
             ]
            ],
            "type": "histogram2d"
           }
          ],
          "histogram2dcontour": [
           {
            "colorbar": {
             "outlinewidth": 0,
             "ticks": ""
            },
            "colorscale": [
             [
              0,
              "#0d0887"
             ],
             [
              0.1111111111111111,
              "#46039f"
             ],
             [
              0.2222222222222222,
              "#7201a8"
             ],
             [
              0.3333333333333333,
              "#9c179e"
             ],
             [
              0.4444444444444444,
              "#bd3786"
             ],
             [
              0.5555555555555556,
              "#d8576b"
             ],
             [
              0.6666666666666666,
              "#ed7953"
             ],
             [
              0.7777777777777778,
              "#fb9f3a"
             ],
             [
              0.8888888888888888,
              "#fdca26"
             ],
             [
              1,
              "#f0f921"
             ]
            ],
            "type": "histogram2dcontour"
           }
          ],
          "mesh3d": [
           {
            "colorbar": {
             "outlinewidth": 0,
             "ticks": ""
            },
            "type": "mesh3d"
           }
          ],
          "parcoords": [
           {
            "line": {
             "colorbar": {
              "outlinewidth": 0,
              "ticks": ""
             }
            },
            "type": "parcoords"
           }
          ],
          "pie": [
           {
            "automargin": true,
            "type": "pie"
           }
          ],
          "scatter": [
           {
            "fillpattern": {
             "fillmode": "overlay",
             "size": 10,
             "solidity": 0.2
            },
            "type": "scatter"
           }
          ],
          "scatter3d": [
           {
            "line": {
             "colorbar": {
              "outlinewidth": 0,
              "ticks": ""
             }
            },
            "marker": {
             "colorbar": {
              "outlinewidth": 0,
              "ticks": ""
             }
            },
            "type": "scatter3d"
           }
          ],
          "scattercarpet": [
           {
            "marker": {
             "colorbar": {
              "outlinewidth": 0,
              "ticks": ""
             }
            },
            "type": "scattercarpet"
           }
          ],
          "scattergeo": [
           {
            "marker": {
             "colorbar": {
              "outlinewidth": 0,
              "ticks": ""
             }
            },
            "type": "scattergeo"
           }
          ],
          "scattergl": [
           {
            "marker": {
             "colorbar": {
              "outlinewidth": 0,
              "ticks": ""
             }
            },
            "type": "scattergl"
           }
          ],
          "scattermapbox": [
           {
            "marker": {
             "colorbar": {
              "outlinewidth": 0,
              "ticks": ""
             }
            },
            "type": "scattermapbox"
           }
          ],
          "scatterpolar": [
           {
            "marker": {
             "colorbar": {
              "outlinewidth": 0,
              "ticks": ""
             }
            },
            "type": "scatterpolar"
           }
          ],
          "scatterpolargl": [
           {
            "marker": {
             "colorbar": {
              "outlinewidth": 0,
              "ticks": ""
             }
            },
            "type": "scatterpolargl"
           }
          ],
          "scatterternary": [
           {
            "marker": {
             "colorbar": {
              "outlinewidth": 0,
              "ticks": ""
             }
            },
            "type": "scatterternary"
           }
          ],
          "surface": [
           {
            "colorbar": {
             "outlinewidth": 0,
             "ticks": ""
            },
            "colorscale": [
             [
              0,
              "#0d0887"
             ],
             [
              0.1111111111111111,
              "#46039f"
             ],
             [
              0.2222222222222222,
              "#7201a8"
             ],
             [
              0.3333333333333333,
              "#9c179e"
             ],
             [
              0.4444444444444444,
              "#bd3786"
             ],
             [
              0.5555555555555556,
              "#d8576b"
             ],
             [
              0.6666666666666666,
              "#ed7953"
             ],
             [
              0.7777777777777778,
              "#fb9f3a"
             ],
             [
              0.8888888888888888,
              "#fdca26"
             ],
             [
              1,
              "#f0f921"
             ]
            ],
            "type": "surface"
           }
          ],
          "table": [
           {
            "cells": {
             "fill": {
              "color": "#EBF0F8"
             },
             "line": {
              "color": "white"
             }
            },
            "header": {
             "fill": {
              "color": "#C8D4E3"
             },
             "line": {
              "color": "white"
             }
            },
            "type": "table"
           }
          ]
         },
         "layout": {
          "annotationdefaults": {
           "arrowcolor": "#2a3f5f",
           "arrowhead": 0,
           "arrowwidth": 1
          },
          "autotypenumbers": "strict",
          "coloraxis": {
           "colorbar": {
            "outlinewidth": 0,
            "ticks": ""
           }
          },
          "colorscale": {
           "diverging": [
            [
             0,
             "#8e0152"
            ],
            [
             0.1,
             "#c51b7d"
            ],
            [
             0.2,
             "#de77ae"
            ],
            [
             0.3,
             "#f1b6da"
            ],
            [
             0.4,
             "#fde0ef"
            ],
            [
             0.5,
             "#f7f7f7"
            ],
            [
             0.6,
             "#e6f5d0"
            ],
            [
             0.7,
             "#b8e186"
            ],
            [
             0.8,
             "#7fbc41"
            ],
            [
             0.9,
             "#4d9221"
            ],
            [
             1,
             "#276419"
            ]
           ],
           "sequential": [
            [
             0,
             "#0d0887"
            ],
            [
             0.1111111111111111,
             "#46039f"
            ],
            [
             0.2222222222222222,
             "#7201a8"
            ],
            [
             0.3333333333333333,
             "#9c179e"
            ],
            [
             0.4444444444444444,
             "#bd3786"
            ],
            [
             0.5555555555555556,
             "#d8576b"
            ],
            [
             0.6666666666666666,
             "#ed7953"
            ],
            [
             0.7777777777777778,
             "#fb9f3a"
            ],
            [
             0.8888888888888888,
             "#fdca26"
            ],
            [
             1,
             "#f0f921"
            ]
           ],
           "sequentialminus": [
            [
             0,
             "#0d0887"
            ],
            [
             0.1111111111111111,
             "#46039f"
            ],
            [
             0.2222222222222222,
             "#7201a8"
            ],
            [
             0.3333333333333333,
             "#9c179e"
            ],
            [
             0.4444444444444444,
             "#bd3786"
            ],
            [
             0.5555555555555556,
             "#d8576b"
            ],
            [
             0.6666666666666666,
             "#ed7953"
            ],
            [
             0.7777777777777778,
             "#fb9f3a"
            ],
            [
             0.8888888888888888,
             "#fdca26"
            ],
            [
             1,
             "#f0f921"
            ]
           ]
          },
          "colorway": [
           "#636efa",
           "#EF553B",
           "#00cc96",
           "#ab63fa",
           "#FFA15A",
           "#19d3f3",
           "#FF6692",
           "#B6E880",
           "#FF97FF",
           "#FECB52"
          ],
          "font": {
           "color": "#2a3f5f"
          },
          "geo": {
           "bgcolor": "white",
           "lakecolor": "white",
           "landcolor": "#E5ECF6",
           "showlakes": true,
           "showland": true,
           "subunitcolor": "white"
          },
          "hoverlabel": {
           "align": "left"
          },
          "hovermode": "closest",
          "mapbox": {
           "style": "light"
          },
          "paper_bgcolor": "white",
          "plot_bgcolor": "#E5ECF6",
          "polar": {
           "angularaxis": {
            "gridcolor": "white",
            "linecolor": "white",
            "ticks": ""
           },
           "bgcolor": "#E5ECF6",
           "radialaxis": {
            "gridcolor": "white",
            "linecolor": "white",
            "ticks": ""
           }
          },
          "scene": {
           "xaxis": {
            "backgroundcolor": "#E5ECF6",
            "gridcolor": "white",
            "gridwidth": 2,
            "linecolor": "white",
            "showbackground": true,
            "ticks": "",
            "zerolinecolor": "white"
           },
           "yaxis": {
            "backgroundcolor": "#E5ECF6",
            "gridcolor": "white",
            "gridwidth": 2,
            "linecolor": "white",
            "showbackground": true,
            "ticks": "",
            "zerolinecolor": "white"
           },
           "zaxis": {
            "backgroundcolor": "#E5ECF6",
            "gridcolor": "white",
            "gridwidth": 2,
            "linecolor": "white",
            "showbackground": true,
            "ticks": "",
            "zerolinecolor": "white"
           }
          },
          "shapedefaults": {
           "line": {
            "color": "#2a3f5f"
           }
          },
          "ternary": {
           "aaxis": {
            "gridcolor": "white",
            "linecolor": "white",
            "ticks": ""
           },
           "baxis": {
            "gridcolor": "white",
            "linecolor": "white",
            "ticks": ""
           },
           "bgcolor": "#E5ECF6",
           "caxis": {
            "gridcolor": "white",
            "linecolor": "white",
            "ticks": ""
           }
          },
          "title": {
           "x": 0.05
          },
          "xaxis": {
           "automargin": true,
           "gridcolor": "white",
           "linecolor": "white",
           "ticks": "",
           "title": {
            "standoff": 15
           },
           "zerolinecolor": "white",
           "zerolinewidth": 2
          },
          "yaxis": {
           "automargin": true,
           "gridcolor": "white",
           "linecolor": "white",
           "ticks": "",
           "title": {
            "standoff": 15
           },
           "zerolinecolor": "white",
           "zerolinewidth": 2
          }
         }
        },
        "title": {
         "text": "Velocity Profile"
        },
        "xaxis": {
         "anchor": "y",
         "domain": [
          0,
          1
         ],
         "title": {
          "text": "Velocity [m/s]"
         }
        },
        "yaxis": {
         "anchor": "x",
         "domain": [
          0,
          1
         ],
         "title": {
          "text": "Z [m]"
         }
        }
       }
      }
     },
     "metadata": {},
     "output_type": "display_data"
    }
   ],
   "source": [
    "px.line(x=col_res[0]['Q'], y=col_res[0]['Z'], title='Velocity Profile', labels={'x':'Velocity [m/s]', 'y':'Z [m]'})"
   ]
  }
 ],
 "metadata": {
  "kernelspec": {
   "display_name": "Python 3.9.13 ('EFMHModeling_20220915')",
   "language": "python",
   "name": "python3"
  },
  "language_info": {
   "codemirror_mode": {
    "name": "ipython",
    "version": 3
   },
   "file_extension": ".py",
   "mimetype": "text/x-python",
   "name": "python",
   "nbconvert_exporter": "python",
   "pygments_lexer": "ipython3",
   "version": "3.9.13"
  },
  "orig_nbformat": 4,
  "vscode": {
   "interpreter": {
    "hash": "b17acb4996bf1f81ae7b7b859afc8c9430e41316f8cf32ebfba3f7b073322fea"
   }
  }
 },
 "nbformat": 4,
 "nbformat_minor": 2
}
